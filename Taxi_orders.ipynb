{
 "cells": [
  {
   "cell_type": "markdown",
   "metadata": {
    "toc": true
   },
   "source": [
    "<h1>Содержание<span class=\"tocSkip\"></span></h1>\n",
    "<div class=\"toc\"><ul class=\"toc-item\"><li><ul class=\"toc-item\"><li><ul class=\"toc-item\"><li><span><a href=\"#Полезные-ссылки:\" data-toc-modified-id=\"Полезные-ссылки:-0.0.1\"><span class=\"toc-item-num\">0.0.1&nbsp;&nbsp;</span><font color=\"orange\">Полезные ссылки:</font></a></span></li></ul></li><li><span><a href=\"#Общее-впечатление\" data-toc-modified-id=\"Общее-впечатление-0.1\"><span class=\"toc-item-num\">0.1&nbsp;&nbsp;</span><font color=\"orange\">Общее впечатление</font></a></span></li><li><span><a href=\"#Общее-впечатление-(ревью-2)\" data-toc-modified-id=\"Общее-впечатление-(ревью-2)-0.2\"><span class=\"toc-item-num\">0.2&nbsp;&nbsp;</span><font color=\"orange\">Общее впечатление (ревью 2)</font></a></span></li></ul></li><li><span><a href=\"#Подготовка\" data-toc-modified-id=\"Подготовка-1\"><span class=\"toc-item-num\">1&nbsp;&nbsp;</span>Подготовка</a></span></li><li><span><a href=\"#Анализ\" data-toc-modified-id=\"Анализ-2\"><span class=\"toc-item-num\">2&nbsp;&nbsp;</span>Анализ</a></span><ul class=\"toc-item\"><li><span><a href=\"#Сезонность-по-часам\" data-toc-modified-id=\"Сезонность-по-часам-2.1\"><span class=\"toc-item-num\">2.1&nbsp;&nbsp;</span>Сезонность по часам</a></span></li><li><span><a href=\"#Сезонность-по-дням\" data-toc-modified-id=\"Сезонность-по-дням-2.2\"><span class=\"toc-item-num\">2.2&nbsp;&nbsp;</span>Сезонность по дням</a></span></li></ul></li><li><span><a href=\"#Обучение\" data-toc-modified-id=\"Обучение-3\"><span class=\"toc-item-num\">3&nbsp;&nbsp;</span>Обучение</a></span><ul class=\"toc-item\"><li><span><a href=\"#Подготовка-признаков\" data-toc-modified-id=\"Подготовка-признаков-3.1\"><span class=\"toc-item-num\">3.1&nbsp;&nbsp;</span>Подготовка признаков</a></span></li><li><span><a href=\"#Линейная-регрессия\" data-toc-modified-id=\"Линейная-регрессия-3.2\"><span class=\"toc-item-num\">3.2&nbsp;&nbsp;</span>Линейная регрессия</a></span></li><li><span><a href=\"#Catboost\" data-toc-modified-id=\"Catboost-3.3\"><span class=\"toc-item-num\">3.3&nbsp;&nbsp;</span>Catboost</a></span></li></ul></li><li><span><a href=\"#Тестирование\" data-toc-modified-id=\"Тестирование-4\"><span class=\"toc-item-num\">4&nbsp;&nbsp;</span>Тестирование</a></span><ul class=\"toc-item\"><li><span><a href=\"#Линейная-регрессия\" data-toc-modified-id=\"Линейная-регрессия-4.1\"><span class=\"toc-item-num\">4.1&nbsp;&nbsp;</span>Линейная регрессия</a></span></li><li><span><a href=\"#Catboost\" data-toc-modified-id=\"Catboost-4.2\"><span class=\"toc-item-num\">4.2&nbsp;&nbsp;</span>Catboost</a></span></li><li><span><a href=\"#Константная-модель\" data-toc-modified-id=\"Константная-модель-4.3\"><span class=\"toc-item-num\">4.3&nbsp;&nbsp;</span>Константная модель</a></span></li></ul></li><li><span><a href=\"#Вывод\" data-toc-modified-id=\"Вывод-5\"><span class=\"toc-item-num\">5&nbsp;&nbsp;</span>Вывод</a></span></li><li><span><a href=\"#Чек-лист-проверки\" data-toc-modified-id=\"Чек-лист-проверки-6\"><span class=\"toc-item-num\">6&nbsp;&nbsp;</span>Чек-лист проверки</a></span></li></ul></div>"
   ]
  },
  {
   "cell_type": "markdown",
   "metadata": {},
   "source": [
    "#  Прогнозирование заказов такси"
   ]
  },
  {
   "cell_type": "markdown",
   "metadata": {},
   "source": [
    "Компания такси собрала исторические данные о заказах такси в аэропортах. Чтобы привлекать больше водителей в период пиковой нагрузки, нужно спрогнозировать количество заказов такси на следующий час. Нужно построить модель предсказания.\n",
    "\n",
    "Значение метрики *RMSE* на тестовой выборке должно быть не больше 48.\n",
    "\n",
    "Данные лежат в файле `taxi.csv`. Количество заказов находится в столбце `num_orders` (от англ. *number of orders*, «число заказов»)."
   ]
  },
  {
   "cell_type": "markdown",
   "metadata": {},
   "source": [
    "## Подготовка"
   ]
  },
  {
   "cell_type": "code",
   "execution_count": 1,
   "metadata": {},
   "outputs": [],
   "source": [
    "import pandas as pd\n",
    "import matplotlib.pyplot as plt\n",
    "from statsmodels.tsa.seasonal import seasonal_decompose\n",
    "\n",
    "from sklearn.model_selection import train_test_split\n",
    "from sklearn.model_selection import TimeSeriesSplit\n",
    "\n",
    "from sklearn.metrics import mean_squared_error\n",
    "from sklearn.model_selection import GridSearchCV\n",
    "\n",
    "from sklearn.linear_model import LinearRegression\n",
    "from catboost import CatBoostRegressor\n",
    "from sklearn.dummy import DummyRegressor\n",
    "\n",
    "from datetime import datetime \n",
    "\n",
    "import warnings"
   ]
  },
  {
   "cell_type": "code",
   "execution_count": 2,
   "metadata": {},
   "outputs": [],
   "source": [
    "RANDOM_STATE = 7\n",
    "warnings.filterwarnings(\"ignore\")"
   ]
  },
  {
   "cell_type": "code",
   "execution_count": 3,
   "metadata": {},
   "outputs": [],
   "source": [
    "df = pd.read_csv('/datasets/taxi.csv', index_col=[0], parse_dates=[0])\n",
    "df.sort_index(inplace=True)"
   ]
  },
  {
   "cell_type": "code",
   "execution_count": 4,
   "metadata": {},
   "outputs": [
    {
     "data": {
      "text/html": [
       "<div>\n",
       "<style scoped>\n",
       "    .dataframe tbody tr th:only-of-type {\n",
       "        vertical-align: middle;\n",
       "    }\n",
       "\n",
       "    .dataframe tbody tr th {\n",
       "        vertical-align: top;\n",
       "    }\n",
       "\n",
       "    .dataframe thead th {\n",
       "        text-align: right;\n",
       "    }\n",
       "</style>\n",
       "<table border=\"1\" class=\"dataframe\">\n",
       "  <thead>\n",
       "    <tr style=\"text-align: right;\">\n",
       "      <th></th>\n",
       "      <th>num_orders</th>\n",
       "    </tr>\n",
       "    <tr>\n",
       "      <th>datetime</th>\n",
       "      <th></th>\n",
       "    </tr>\n",
       "  </thead>\n",
       "  <tbody>\n",
       "    <tr>\n",
       "      <th>2018-03-01 00:00:00</th>\n",
       "      <td>124</td>\n",
       "    </tr>\n",
       "    <tr>\n",
       "      <th>2018-03-01 01:00:00</th>\n",
       "      <td>85</td>\n",
       "    </tr>\n",
       "    <tr>\n",
       "      <th>2018-03-01 02:00:00</th>\n",
       "      <td>71</td>\n",
       "    </tr>\n",
       "    <tr>\n",
       "      <th>2018-03-01 03:00:00</th>\n",
       "      <td>66</td>\n",
       "    </tr>\n",
       "    <tr>\n",
       "      <th>2018-03-01 04:00:00</th>\n",
       "      <td>43</td>\n",
       "    </tr>\n",
       "    <tr>\n",
       "      <th>...</th>\n",
       "      <td>...</td>\n",
       "    </tr>\n",
       "    <tr>\n",
       "      <th>2018-08-31 19:00:00</th>\n",
       "      <td>136</td>\n",
       "    </tr>\n",
       "    <tr>\n",
       "      <th>2018-08-31 20:00:00</th>\n",
       "      <td>154</td>\n",
       "    </tr>\n",
       "    <tr>\n",
       "      <th>2018-08-31 21:00:00</th>\n",
       "      <td>159</td>\n",
       "    </tr>\n",
       "    <tr>\n",
       "      <th>2018-08-31 22:00:00</th>\n",
       "      <td>223</td>\n",
       "    </tr>\n",
       "    <tr>\n",
       "      <th>2018-08-31 23:00:00</th>\n",
       "      <td>205</td>\n",
       "    </tr>\n",
       "  </tbody>\n",
       "</table>\n",
       "<p>4416 rows × 1 columns</p>\n",
       "</div>"
      ],
      "text/plain": [
       "                     num_orders\n",
       "datetime                       \n",
       "2018-03-01 00:00:00         124\n",
       "2018-03-01 01:00:00          85\n",
       "2018-03-01 02:00:00          71\n",
       "2018-03-01 03:00:00          66\n",
       "2018-03-01 04:00:00          43\n",
       "...                         ...\n",
       "2018-08-31 19:00:00         136\n",
       "2018-08-31 20:00:00         154\n",
       "2018-08-31 21:00:00         159\n",
       "2018-08-31 22:00:00         223\n",
       "2018-08-31 23:00:00         205\n",
       "\n",
       "[4416 rows x 1 columns]"
      ]
     },
     "execution_count": 4,
     "metadata": {},
     "output_type": "execute_result"
    }
   ],
   "source": [
    "df = df.resample('1H').sum()\n",
    "df"
   ]
  },
  {
   "cell_type": "markdown",
   "metadata": {},
   "source": [
    "## Анализ"
   ]
  },
  {
   "cell_type": "markdown",
   "metadata": {},
   "source": [
    "### Сезонность по часам"
   ]
  },
  {
   "cell_type": "code",
   "execution_count": 5,
   "metadata": {
    "scrolled": true
   },
   "outputs": [
    {
     "data": {
      "image/png": "[encoded data removed]",
      "text/plain": [
       "<Figure size 432x288 with 1 Axes>"
      ]
     },
     "metadata": {
      "needs_background": "light"
     },
     "output_type": "display_data"
    }
   ],
   "source": [
    "decomposed = seasonal_decompose(df['2018-03-01':'2018-03-08'])\n",
    "decomposed.seasonal.plot(ax=plt.gca())\n",
    "decomposed.trend.plot(ax=plt.gca()) \n",
    "\n",
    "plt.title('Сезонность по часам')\n",
    "plt.tight_layout()"
   ]
  },
  {
   "cell_type": "markdown",
   "metadata": {},
   "source": [
    "Видна недельная цикличность."
   ]
  },
  {
   "cell_type": "markdown",
   "metadata": {},
   "source": [
    "### Сезонность по дням"
   ]
  },
  {
   "cell_type": "code",
   "execution_count": 6,
   "metadata": {},
   "outputs": [],
   "source": [
    "df_day = df.resample('1D').sum()\n",
    "decomposed = seasonal_decompose(df_day)"
   ]
  },
  {
   "cell_type": "code",
   "execution_count": 7,
   "metadata": {},
   "outputs": [
    {
     "data": {
      "image/png": "[encoded data removed]",
      "text/plain": [
       "<Figure size 432x288 with 1 Axes>"
      ]
     },
     "metadata": {
      "needs_background": "light"
     },
     "output_type": "display_data"
    }
   ],
   "source": [
    "decomposed.seasonal['2018-03-01':'2018-03-31'].plot(ax=plt.gca(), x = 'weekday')\n",
    "decomposed.trend['2018-03-01':'2018-03-31'].plot(ax=plt.gca(), x = 'weekday') \n",
    "plt.title('Сезонность внутри месяца')\n",
    "plt.tight_layout()"
   ]
  },
  {
   "cell_type": "markdown",
   "metadata": {},
   "source": [
    "Видна сезонность внутри дня: ночной спад и вечерний пик"
   ]
  },
  {
   "cell_type": "code",
   "execution_count": 8,
   "metadata": {},
   "outputs": [
    {
     "data": {
      "image/png": "[encoded data removed]",
      "text/plain": [
       "<Figure size 432x288 with 1 Axes>"
      ]
     },
     "metadata": {
      "needs_background": "light"
     },
     "output_type": "display_data"
    }
   ],
   "source": [
    "decomposed.seasonal['2018-03-01':'2018-08-31'].plot(ax=plt.gca())\n",
    "decomposed.trend['2018-03-01':'2018-08-31'].plot(ax=plt.gca()) \n",
    "plt.title('Тренд')\n",
    "plt.tight_layout()"
   ]
  },
  {
   "cell_type": "markdown",
   "metadata": {},
   "source": [
    "Виден восходящий тренд с марта по август."
   ]
  },
  {
   "cell_type": "markdown",
   "metadata": {},
   "source": [
    "## Обучение"
   ]
  },
  {
   "cell_type": "markdown",
   "metadata": {},
   "source": [
    "### Подготовка признаков"
   ]
  },
  {
   "cell_type": "code",
   "execution_count": 9,
   "metadata": {},
   "outputs": [
    {
     "data": {
      "text/plain": [
       "'df'"
      ]
     },
     "metadata": {},
     "output_type": "display_data"
    },
    {
     "data": {
      "text/html": [
       "<div>\n",
       "<style scoped>\n",
       "    .dataframe tbody tr th:only-of-type {\n",
       "        vertical-align: middle;\n",
       "    }\n",
       "\n",
       "    .dataframe tbody tr th {\n",
       "        vertical-align: top;\n",
       "    }\n",
       "\n",
       "    .dataframe thead th {\n",
       "        text-align: right;\n",
       "    }\n",
       "</style>\n",
       "<table border=\"1\" class=\"dataframe\">\n",
       "  <thead>\n",
       "    <tr style=\"text-align: right;\">\n",
       "      <th></th>\n",
       "      <th>num_orders</th>\n",
       "      <th>year</th>\n",
       "      <th>month</th>\n",
       "      <th>day</th>\n",
       "      <th>dayofweek</th>\n",
       "    </tr>\n",
       "    <tr>\n",
       "      <th>datetime</th>\n",
       "      <th></th>\n",
       "      <th></th>\n",
       "      <th></th>\n",
       "      <th></th>\n",
       "      <th></th>\n",
       "    </tr>\n",
       "  </thead>\n",
       "  <tbody>\n",
       "    <tr>\n",
       "      <th>2018-03-01 00:00:00</th>\n",
       "      <td>124</td>\n",
       "      <td>2018</td>\n",
       "      <td>3</td>\n",
       "      <td>1</td>\n",
       "      <td>3</td>\n",
       "    </tr>\n",
       "    <tr>\n",
       "      <th>2018-03-01 01:00:00</th>\n",
       "      <td>85</td>\n",
       "      <td>2018</td>\n",
       "      <td>3</td>\n",
       "      <td>1</td>\n",
       "      <td>3</td>\n",
       "    </tr>\n",
       "    <tr>\n",
       "      <th>2018-03-01 02:00:00</th>\n",
       "      <td>71</td>\n",
       "      <td>2018</td>\n",
       "      <td>3</td>\n",
       "      <td>1</td>\n",
       "      <td>3</td>\n",
       "    </tr>\n",
       "    <tr>\n",
       "      <th>2018-03-01 03:00:00</th>\n",
       "      <td>66</td>\n",
       "      <td>2018</td>\n",
       "      <td>3</td>\n",
       "      <td>1</td>\n",
       "      <td>3</td>\n",
       "    </tr>\n",
       "    <tr>\n",
       "      <th>2018-03-01 04:00:00</th>\n",
       "      <td>43</td>\n",
       "      <td>2018</td>\n",
       "      <td>3</td>\n",
       "      <td>1</td>\n",
       "      <td>3</td>\n",
       "    </tr>\n",
       "    <tr>\n",
       "      <th>...</th>\n",
       "      <td>...</td>\n",
       "      <td>...</td>\n",
       "      <td>...</td>\n",
       "      <td>...</td>\n",
       "      <td>...</td>\n",
       "    </tr>\n",
       "    <tr>\n",
       "      <th>2018-08-31 19:00:00</th>\n",
       "      <td>136</td>\n",
       "      <td>2018</td>\n",
       "      <td>8</td>\n",
       "      <td>31</td>\n",
       "      <td>4</td>\n",
       "    </tr>\n",
       "    <tr>\n",
       "      <th>2018-08-31 20:00:00</th>\n",
       "      <td>154</td>\n",
       "      <td>2018</td>\n",
       "      <td>8</td>\n",
       "      <td>31</td>\n",
       "      <td>4</td>\n",
       "    </tr>\n",
       "    <tr>\n",
       "      <th>2018-08-31 21:00:00</th>\n",
       "      <td>159</td>\n",
       "      <td>2018</td>\n",
       "      <td>8</td>\n",
       "      <td>31</td>\n",
       "      <td>4</td>\n",
       "    </tr>\n",
       "    <tr>\n",
       "      <th>2018-08-31 22:00:00</th>\n",
       "      <td>223</td>\n",
       "      <td>2018</td>\n",
       "      <td>8</td>\n",
       "      <td>31</td>\n",
       "      <td>4</td>\n",
       "    </tr>\n",
       "    <tr>\n",
       "      <th>2018-08-31 23:00:00</th>\n",
       "      <td>205</td>\n",
       "      <td>2018</td>\n",
       "      <td>8</td>\n",
       "      <td>31</td>\n",
       "      <td>4</td>\n",
       "    </tr>\n",
       "  </tbody>\n",
       "</table>\n",
       "<p>4416 rows × 5 columns</p>\n",
       "</div>"
      ],
      "text/plain": [
       "                     num_orders  year  month  day  dayofweek\n",
       "datetime                                                    \n",
       "2018-03-01 00:00:00         124  2018      3    1          3\n",
       "2018-03-01 01:00:00          85  2018      3    1          3\n",
       "2018-03-01 02:00:00          71  2018      3    1          3\n",
       "2018-03-01 03:00:00          66  2018      3    1          3\n",
       "2018-03-01 04:00:00          43  2018      3    1          3\n",
       "...                         ...   ...    ...  ...        ...\n",
       "2018-08-31 19:00:00         136  2018      8   31          4\n",
       "2018-08-31 20:00:00         154  2018      8   31          4\n",
       "2018-08-31 21:00:00         159  2018      8   31          4\n",
       "2018-08-31 22:00:00         223  2018      8   31          4\n",
       "2018-08-31 23:00:00         205  2018      8   31          4\n",
       "\n",
       "[4416 rows x 5 columns]"
      ]
     },
     "metadata": {},
     "output_type": "display_data"
    }
   ],
   "source": [
    "df['year'] = df.index.year\n",
    "df['month'] = df.index.month\n",
    "df['day'] = df.index.day\n",
    "df['dayofweek'] = df.index.dayofweek\n",
    "display ('df', df)\n",
    "df_alt = pd.DataFrame()"
   ]
  },
  {
   "cell_type": "code",
   "execution_count": 10,
   "metadata": {},
   "outputs": [],
   "source": [
    "def make_lag_rolling(dataframe, max_lag, rolling_mean_size):\n",
    "    df_alt = dataframe.copy()\n",
    "    for lag in range(1, max_lag + 1):\n",
    "        df_alt['lag_{}'.format(lag)] = df_alt['num_orders'].shift(lag)\n",
    "    df_alt['rolling_mean'] = df_alt['num_orders'].shift(1).rolling(rolling_mean_size).mean()\n",
    "    df_alt.dropna(inplace = True)\n",
    "    return df_alt"
   ]
  },
  {
   "cell_type": "code",
   "execution_count": 11,
   "metadata": {},
   "outputs": [],
   "source": [
    "def splitting (dataframe):\n",
    "    features = dataframe.drop(columns = ['num_orders'], axis = 1)\n",
    "    target = dataframe['num_orders']\n",
    "    train_features, prevalid_features, train_target, prevalid_target = train_test_split(features,target, shuffle=False, test_size=0.2)\n",
    "    valid_features, test_features, valid_target, test_target = train_test_split(prevalid_features,prevalid_target, shuffle=False, test_size=0.5)\n",
    "    return train_features, valid_features, train_target, valid_target, test_features, test_target"
   ]
  },
  {
   "cell_type": "markdown",
   "metadata": {},
   "source": [
    "### Линейная регрессия"
   ]
  },
  {
   "cell_type": "code",
   "execution_count": 12,
   "metadata": {
    "scrolled": false
   },
   "outputs": [
    {
     "name": "stdout",
     "output_type": "stream",
     "text": [
      "Лучший RMSE обучающей выборки: 30.057378826802793 best_lag: 102 best_rolling_mean_size: 101\n"
     ]
    }
   ],
   "source": [
    "model_LR = LinearRegression()\n",
    "min_error = 1000\n",
    "for max_lag in range (2, 103, 10):\n",
    "    for rolling_mean_size in range (1, 1101, 100):\n",
    "        df_alt = make_lag_rolling(df, max_lag, rolling_mean_size)\n",
    "        train_features, valid_features, train_target, valid_target = splitting (df_alt)[:4]\n",
    "        #display(train_features)\n",
    "        #display(valid_features)\n",
    "        #display(train_target)\n",
    "        #display(valid_target)     \n",
    "        model_LR.fit(train_features, train_target)\n",
    "        pred_valid = model_LR.predict(valid_features)\n",
    "        error = mean_squared_error(valid_target, pred_valid, squared = False)\n",
    "        if error < min_error:\n",
    "            min_error = error\n",
    "            best_lag = max_lag\n",
    "            best_rolling_mean_size = rolling_mean_size\n",
    "            best_df = df_alt.copy()\n",
    "print(\"Лучший RMSE обучающей выборки:\", min_error, 'best_lag:', best_lag, 'best_rolling_mean_size:', best_rolling_mean_size)"
   ]
  },
  {
   "cell_type": "markdown",
   "metadata": {},
   "source": [
    "### Catboost"
   ]
  },
  {
   "cell_type": "code",
   "execution_count": 13,
   "metadata": {},
   "outputs": [
    {
     "name": "stdout",
     "output_type": "stream",
     "text": [
      "Time elapsed (hh:mm:ss.ms) 0:01:10.278060\n",
      " Results from Grid Search \n",
      "\n",
      " The best score across ALL searched params:\n",
      " 24.286637992640383\n",
      "\n",
      " The best parameters across ALL searched params:\n",
      " {'depth': 6, 'n_estimators': 100}\n"
     ]
    }
   ],
   "source": [
    "model = CatBoostRegressor(random_state = RANDOM_STATE)\n",
    "\n",
    "parameters = {'n_estimators': range (100, 101, 10),\n",
    "          'depth': range (2, 7)\n",
    "       }\n",
    "ts_cv = TimeSeriesSplit(\n",
    "    n_splits=5,\n",
    "    gap=0,\n",
    "   )\n",
    "start_time = datetime.now()\n",
    "gsearch_cat_boost = GridSearchCV(estimator=CatBoostRegressor(), param_grid = parameters, scoring = 'neg_root_mean_squared_error', cv = ts_cv,\n",
    "          verbose=False, n_jobs = -1)\n",
    "gsearch_cat_boost.fit(train_features, train_target,verbose=False)\n",
    "cat_boost_time_fit = datetime.now() - start_time\n",
    "\n",
    "print('Time elapsed (hh:mm:ss.ms) {}'.format(cat_boost_time_fit))\n",
    "print(\" Results from Grid Search \" )\n",
    "print(\"\\n The best score across ALL searched params:\\n\", -gsearch_cat_boost.best_score_)\n",
    "print(\"\\n The best parameters across ALL searched params:\\n\", gsearch_cat_boost.best_params_)"
   ]
  },
  {
   "cell_type": "markdown",
   "metadata": {},
   "source": [
    "## Тестирование"
   ]
  },
  {
   "cell_type": "markdown",
   "metadata": {},
   "source": [
    "### Линейная регрессия"
   ]
  },
  {
   "cell_type": "code",
   "execution_count": 14,
   "metadata": {},
   "outputs": [
    {
     "name": "stdout",
     "output_type": "stream",
     "text": [
      "RMSE тестовой выборки:  40.34098922859229\n"
     ]
    }
   ],
   "source": [
    "test_features, test_target = splitting (best_df)[4:]\n",
    "pred_test_LR= model_LR.predict(test_features)\n",
    "print(\"RMSE тестовой выборки: \", mean_squared_error(test_target,pred_test_LR, squared = False))"
   ]
  },
  {
   "cell_type": "markdown",
   "metadata": {},
   "source": [
    "### Catboost"
   ]
  },
  {
   "cell_type": "code",
   "execution_count": 15,
   "metadata": {},
   "outputs": [
    {
     "name": "stdout",
     "output_type": "stream",
     "text": [
      "RMSE тестовой выборки:  43.67784875784098\n"
     ]
    }
   ],
   "source": [
    "pred_test_CB = gsearch_cat_boost.predict(test_features)\n",
    "print(\"RMSE тестовой выборки: \", mean_squared_error(test_target,pred_test_CB, squared = False))"
   ]
  },
  {
   "cell_type": "markdown",
   "metadata": {},
   "source": [
    "### Константная модель"
   ]
  },
  {
   "cell_type": "code",
   "execution_count": 16,
   "metadata": {},
   "outputs": [
    {
     "name": "stdout",
     "output_type": "stream",
     "text": [
      "RMSE 81.91116634410584\n"
     ]
    }
   ],
   "source": [
    "dummy_model = DummyRegressor(strategy=\"mean\")\n",
    "dummy_model.fit(train_features, train_target)\n",
    "pred_test_Dummy = dummy_model.predict(test_features)\n",
    "print('RMSE', mean_squared_error(test_target, pred_test_Dummy, squared = False))"
   ]
  },
  {
   "cell_type": "markdown",
   "metadata": {},
   "source": [
    "## Вывод"
   ]
  },
  {
   "cell_type": "markdown",
   "metadata": {},
   "source": [
    "Наилучший результат у линейной регресии - 40. Это ниже порога ошибки - 48 и лучше Константной модели.\n",
    "Такой результат достигается при создании признаков с лагом до 102 часа и скользящим средним с окном в 101 час."
   ]
  }
 ],
 "metadata": {
  "ExecuteTimeLog": [
   {
    "duration": 405,
    "start_time": "2022-05-09T17:26:21.394Z"
   },
   {
    "duration": 65,
    "start_time": "2022-05-09T17:28:43.001Z"
   },
   {
    "duration": 43,
    "start_time": "2022-05-09T17:28:47.263Z"
   },
   {
    "duration": 15,
    "start_time": "2022-05-09T17:29:42.869Z"
   },
   {
    "duration": 11,
    "start_time": "2022-05-09T17:30:12.016Z"
   },
   {
    "duration": 51,
    "start_time": "2022-05-09T17:32:08.443Z"
   },
   {
    "duration": 40,
    "start_time": "2022-05-09T17:32:29.848Z"
   },
   {
    "duration": 7,
    "start_time": "2022-05-09T17:32:44.676Z"
   },
   {
    "duration": 19,
    "start_time": "2022-05-09T17:32:54.698Z"
   },
   {
    "duration": 735,
    "start_time": "2022-05-09T17:34:01.101Z"
   },
   {
    "duration": 20,
    "start_time": "2022-05-09T17:36:22.699Z"
   },
   {
    "duration": 515,
    "start_time": "2022-05-09T17:39:16.754Z"
   },
   {
    "duration": 167,
    "start_time": "2022-05-09T17:41:32.004Z"
   },
   {
    "duration": 9,
    "start_time": "2022-05-09T17:41:39.856Z"
   },
   {
    "duration": 3,
    "start_time": "2022-05-09T17:41:45.359Z"
   },
   {
    "duration": 981,
    "start_time": "2022-05-09T17:42:13.395Z"
   },
   {
    "duration": 36,
    "start_time": "2022-05-09T18:43:28.294Z"
   },
   {
    "duration": 23,
    "start_time": "2022-05-09T18:45:47.719Z"
   },
   {
    "duration": 50,
    "start_time": "2022-05-10T05:44:56.349Z"
   },
   {
    "duration": 897,
    "start_time": "2022-05-10T05:45:03.111Z"
   },
   {
    "duration": 39,
    "start_time": "2022-05-10T05:45:04.010Z"
   },
   {
    "duration": 22,
    "start_time": "2022-05-10T05:45:04.050Z"
   },
   {
    "duration": 3,
    "start_time": "2022-05-10T05:45:04.074Z"
   },
   {
    "duration": 64,
    "start_time": "2022-05-10T05:45:07.336Z"
   },
   {
    "duration": 63,
    "start_time": "2022-05-10T05:45:41.560Z"
   },
   {
    "duration": 15,
    "start_time": "2022-05-10T05:45:49.364Z"
   },
   {
    "duration": 579,
    "start_time": "2022-05-10T05:46:44.332Z"
   },
   {
    "duration": 19,
    "start_time": "2022-05-10T05:54:57.213Z"
   },
   {
    "duration": 4,
    "start_time": "2022-05-10T05:54:57.662Z"
   },
   {
    "duration": 1125,
    "start_time": "2022-05-10T05:54:58.546Z"
   },
   {
    "duration": 4,
    "start_time": "2022-05-10T05:55:20.735Z"
   },
   {
    "duration": 24,
    "start_time": "2022-05-10T05:55:23.134Z"
   },
   {
    "duration": 24,
    "start_time": "2022-05-10T06:01:45.189Z"
   },
   {
    "duration": 221,
    "start_time": "2022-05-10T06:16:52.114Z"
   },
   {
    "duration": 21,
    "start_time": "2022-05-10T06:41:13.378Z"
   },
   {
    "duration": 3,
    "start_time": "2022-05-10T06:41:41.215Z"
   },
   {
    "duration": 1024,
    "start_time": "2022-05-10T06:42:00.900Z"
   },
   {
    "duration": 15,
    "start_time": "2022-05-10T06:42:23.161Z"
   },
   {
    "duration": 76,
    "start_time": "2022-05-10T06:45:23.554Z"
   },
   {
    "duration": 19,
    "start_time": "2022-05-10T06:45:27.255Z"
   },
   {
    "duration": 24,
    "start_time": "2022-05-10T06:46:37.382Z"
   },
   {
    "duration": 174,
    "start_time": "2022-05-10T06:46:42.035Z"
   },
   {
    "duration": 18,
    "start_time": "2022-05-10T06:47:00.184Z"
   },
   {
    "duration": 8,
    "start_time": "2022-05-10T06:48:09.623Z"
   },
   {
    "duration": 10,
    "start_time": "2022-05-10T07:39:58.826Z"
   },
   {
    "duration": 18,
    "start_time": "2022-05-10T07:40:00.218Z"
   },
   {
    "duration": 7,
    "start_time": "2022-05-10T07:40:06.079Z"
   },
   {
    "duration": 3,
    "start_time": "2022-05-10T07:41:32.584Z"
   },
   {
    "duration": 61,
    "start_time": "2022-05-10T07:44:58.919Z"
   },
   {
    "duration": 11,
    "start_time": "2022-05-10T07:45:08.566Z"
   },
   {
    "duration": 4,
    "start_time": "2022-05-10T07:45:30.389Z"
   },
   {
    "duration": 13,
    "start_time": "2022-05-10T07:45:34.891Z"
   },
   {
    "duration": 5615,
    "start_time": "2022-05-10T07:45:47.763Z"
   },
   {
    "duration": 5,
    "start_time": "2022-05-10T07:47:52.711Z"
   },
   {
    "duration": 10122,
    "start_time": "2022-05-10T07:48:46.529Z"
   },
   {
    "duration": 6,
    "start_time": "2022-05-10T07:49:08.465Z"
   },
   {
    "duration": 27,
    "start_time": "2022-05-10T07:49:36.833Z"
   },
   {
    "duration": 26,
    "start_time": "2022-05-10T07:49:40.113Z"
   },
   {
    "duration": 4,
    "start_time": "2022-05-10T07:49:56.832Z"
   },
   {
    "duration": 3,
    "start_time": "2022-05-10T07:50:22.401Z"
   },
   {
    "duration": 24,
    "start_time": "2022-05-10T07:50:27.543Z"
   },
   {
    "duration": 7,
    "start_time": "2022-05-10T07:50:56.940Z"
   },
   {
    "duration": 31,
    "start_time": "2022-05-10T07:51:00.180Z"
   },
   {
    "duration": 11674,
    "start_time": "2022-05-10T07:51:04.919Z"
   },
   {
    "duration": 20,
    "start_time": "2022-05-10T07:51:24.205Z"
   },
   {
    "duration": 6,
    "start_time": "2022-05-10T07:51:35.063Z"
   },
   {
    "duration": 17,
    "start_time": "2022-05-10T07:51:56.822Z"
   },
   {
    "duration": 17,
    "start_time": "2022-05-10T07:52:06.984Z"
   },
   {
    "duration": 88,
    "start_time": "2022-05-10T07:52:22.220Z"
   },
   {
    "duration": 6,
    "start_time": "2022-05-10T07:52:33.213Z"
   },
   {
    "duration": 3,
    "start_time": "2022-05-10T07:59:43.913Z"
   },
   {
    "duration": 7,
    "start_time": "2022-05-10T07:59:43.918Z"
   },
   {
    "duration": 31,
    "start_time": "2022-05-10T07:59:43.927Z"
   },
   {
    "duration": 13,
    "start_time": "2022-05-10T07:59:43.960Z"
   },
   {
    "duration": 1379,
    "start_time": "2022-05-10T08:00:11.995Z"
   },
   {
    "duration": 3,
    "start_time": "2022-05-10T08:00:13.376Z"
   },
   {
    "duration": 36,
    "start_time": "2022-05-10T08:00:13.380Z"
   },
   {
    "duration": 22,
    "start_time": "2022-05-10T08:00:13.418Z"
   },
   {
    "duration": 393,
    "start_time": "2022-05-10T08:00:13.442Z"
   },
   {
    "duration": 5,
    "start_time": "2022-05-10T08:00:13.836Z"
   },
   {
    "duration": 78,
    "start_time": "2022-05-10T08:00:13.842Z"
   },
   {
    "duration": 4,
    "start_time": "2022-05-10T08:00:26.266Z"
   },
   {
    "duration": 29,
    "start_time": "2022-05-10T08:00:32.353Z"
   },
   {
    "duration": 24,
    "start_time": "2022-05-10T08:01:14.096Z"
   },
   {
    "duration": 23,
    "start_time": "2022-05-10T08:03:15.052Z"
   },
   {
    "duration": 24,
    "start_time": "2022-05-10T08:04:19.312Z"
   },
   {
    "duration": 25,
    "start_time": "2022-05-10T08:05:26.843Z"
   },
   {
    "duration": 124,
    "start_time": "2022-05-10T08:09:17.414Z"
   },
   {
    "duration": 7,
    "start_time": "2022-05-10T08:11:06.562Z"
   },
   {
    "duration": 3,
    "start_time": "2022-05-10T08:11:20.557Z"
   },
   {
    "duration": 11,
    "start_time": "2022-05-10T08:51:04.940Z"
   },
   {
    "duration": 33,
    "start_time": "2022-05-10T08:51:09.088Z"
   },
   {
    "duration": 3,
    "start_time": "2022-05-10T08:55:57.725Z"
   },
   {
    "duration": 24,
    "start_time": "2022-05-10T08:56:15.267Z"
   },
   {
    "duration": 24,
    "start_time": "2022-05-10T08:56:30.150Z"
   },
   {
    "duration": 3,
    "start_time": "2022-05-10T08:56:32.474Z"
   },
   {
    "duration": 24,
    "start_time": "2022-05-10T08:56:34.430Z"
   },
   {
    "duration": 4,
    "start_time": "2022-05-10T08:57:17.361Z"
   },
   {
    "duration": 4,
    "start_time": "2022-05-10T08:57:17.368Z"
   },
   {
    "duration": 34,
    "start_time": "2022-05-10T08:57:17.374Z"
   },
   {
    "duration": 17,
    "start_time": "2022-05-10T08:57:17.410Z"
   },
   {
    "duration": 254,
    "start_time": "2022-05-10T08:57:17.429Z"
   },
   {
    "duration": 10,
    "start_time": "2022-05-10T08:57:17.685Z"
   },
   {
    "duration": 13,
    "start_time": "2022-05-10T08:57:17.697Z"
   },
   {
    "duration": 26,
    "start_time": "2022-05-10T08:57:20.830Z"
   },
   {
    "duration": 6,
    "start_time": "2022-05-10T08:58:03.579Z"
   },
   {
    "duration": 27,
    "start_time": "2022-05-10T08:59:05.795Z"
   },
   {
    "duration": 125,
    "start_time": "2022-05-10T08:59:13.357Z"
   },
   {
    "duration": 193,
    "start_time": "2022-05-10T08:59:25.140Z"
   },
   {
    "duration": 249,
    "start_time": "2022-05-10T08:59:36.212Z"
   },
   {
    "duration": 25,
    "start_time": "2022-05-10T09:01:59.768Z"
   },
   {
    "duration": 8,
    "start_time": "2022-05-10T09:03:29.158Z"
   },
   {
    "duration": 30,
    "start_time": "2022-05-10T09:03:33.599Z"
   },
   {
    "duration": 7,
    "start_time": "2022-05-10T09:04:31.126Z"
   },
   {
    "duration": 21,
    "start_time": "2022-05-10T09:04:32.121Z"
   },
   {
    "duration": 23,
    "start_time": "2022-05-10T09:06:11.628Z"
   },
   {
    "duration": 4,
    "start_time": "2022-05-10T09:06:19.184Z"
   },
   {
    "duration": 8,
    "start_time": "2022-05-10T09:06:19.190Z"
   },
   {
    "duration": 40,
    "start_time": "2022-05-10T09:06:19.199Z"
   },
   {
    "duration": 14,
    "start_time": "2022-05-10T09:06:19.265Z"
   },
   {
    "duration": 262,
    "start_time": "2022-05-10T09:06:19.281Z"
   },
   {
    "duration": 22,
    "start_time": "2022-05-10T09:06:21.599Z"
   },
   {
    "duration": 26,
    "start_time": "2022-05-10T09:06:56.216Z"
   },
   {
    "duration": 19,
    "start_time": "2022-05-10T09:08:15.933Z"
   },
   {
    "duration": 4,
    "start_time": "2022-05-10T09:08:27.852Z"
   },
   {
    "duration": 3,
    "start_time": "2022-05-10T09:08:27.863Z"
   },
   {
    "duration": 48,
    "start_time": "2022-05-10T09:08:27.869Z"
   },
   {
    "duration": 14,
    "start_time": "2022-05-10T09:08:27.919Z"
   },
   {
    "duration": 254,
    "start_time": "2022-05-10T09:08:27.935Z"
   },
   {
    "duration": 28,
    "start_time": "2022-05-10T09:08:28.192Z"
   },
   {
    "duration": 5,
    "start_time": "2022-05-10T09:10:01.465Z"
   },
   {
    "duration": 9,
    "start_time": "2022-05-10T09:10:01.472Z"
   },
   {
    "duration": 40,
    "start_time": "2022-05-10T09:10:01.560Z"
   },
   {
    "duration": 22,
    "start_time": "2022-05-10T09:10:01.602Z"
   },
   {
    "duration": 271,
    "start_time": "2022-05-10T09:10:01.626Z"
   },
   {
    "duration": 1392,
    "start_time": "2022-05-10T09:10:17.111Z"
   },
   {
    "duration": 5,
    "start_time": "2022-05-10T09:10:18.505Z"
   },
   {
    "duration": 42,
    "start_time": "2022-05-10T09:10:18.512Z"
   },
   {
    "duration": 22,
    "start_time": "2022-05-10T09:10:18.557Z"
   },
   {
    "duration": 430,
    "start_time": "2022-05-10T09:10:18.580Z"
   },
   {
    "duration": 24,
    "start_time": "2022-05-10T09:10:19.012Z"
   },
   {
    "duration": 146,
    "start_time": "2022-05-10T09:10:19.039Z"
   },
   {
    "duration": 0,
    "start_time": "2022-05-10T09:10:19.187Z"
   },
   {
    "duration": 0,
    "start_time": "2022-05-10T09:10:19.188Z"
   },
   {
    "duration": 0,
    "start_time": "2022-05-10T09:10:19.188Z"
   },
   {
    "duration": 0,
    "start_time": "2022-05-10T09:10:19.189Z"
   },
   {
    "duration": 7,
    "start_time": "2022-05-10T09:12:03.307Z"
   },
   {
    "duration": 12,
    "start_time": "2022-05-10T09:14:12.480Z"
   },
   {
    "duration": 21,
    "start_time": "2022-05-10T09:14:31.185Z"
   },
   {
    "duration": 62,
    "start_time": "2022-05-10T09:15:58.516Z"
   },
   {
    "duration": 1332,
    "start_time": "2022-05-10T12:27:23.888Z"
   },
   {
    "duration": 3,
    "start_time": "2022-05-10T12:27:25.222Z"
   },
   {
    "duration": 54,
    "start_time": "2022-05-10T12:27:25.226Z"
   },
   {
    "duration": 21,
    "start_time": "2022-05-10T12:27:25.281Z"
   },
   {
    "duration": 541,
    "start_time": "2022-05-10T12:27:25.304Z"
   },
   {
    "duration": 18,
    "start_time": "2022-05-10T12:27:25.847Z"
   },
   {
    "duration": 3,
    "start_time": "2022-05-10T12:27:25.866Z"
   },
   {
    "duration": 61,
    "start_time": "2022-05-10T12:27:25.871Z"
   },
   {
    "duration": 0,
    "start_time": "2022-05-10T12:27:25.934Z"
   },
   {
    "duration": 0,
    "start_time": "2022-05-10T12:27:25.936Z"
   },
   {
    "duration": 0,
    "start_time": "2022-05-10T12:27:25.937Z"
   },
   {
    "duration": 135,
    "start_time": "2022-05-10T12:27:53.026Z"
   },
   {
    "duration": 26,
    "start_time": "2022-05-10T12:28:21.090Z"
   },
   {
    "duration": 1736,
    "start_time": "2022-05-14T08:50:40.834Z"
   },
   {
    "duration": 3,
    "start_time": "2022-05-14T08:50:42.573Z"
   },
   {
    "duration": 46,
    "start_time": "2022-05-14T08:50:42.578Z"
   },
   {
    "duration": 41,
    "start_time": "2022-05-14T08:50:42.626Z"
   },
   {
    "duration": 810,
    "start_time": "2022-05-14T08:50:42.670Z"
   },
   {
    "duration": 27,
    "start_time": "2022-05-14T08:50:43.482Z"
   },
   {
    "duration": 4,
    "start_time": "2022-05-14T08:50:43.512Z"
   },
   {
    "duration": 223,
    "start_time": "2022-05-14T08:50:43.518Z"
   },
   {
    "duration": 0,
    "start_time": "2022-05-14T08:50:43.743Z"
   },
   {
    "duration": 0,
    "start_time": "2022-05-14T08:50:43.752Z"
   },
   {
    "duration": 0,
    "start_time": "2022-05-14T08:50:43.753Z"
   },
   {
    "duration": 59,
    "start_time": "2022-05-14T08:53:05.708Z"
   },
   {
    "duration": 32,
    "start_time": "2022-05-14T08:53:42.978Z"
   },
   {
    "duration": 5,
    "start_time": "2022-05-14T08:54:00.628Z"
   },
   {
    "duration": 45,
    "start_time": "2022-05-14T08:54:04.332Z"
   },
   {
    "duration": 6,
    "start_time": "2022-05-14T08:54:38.925Z"
   },
   {
    "duration": 7,
    "start_time": "2022-05-14T08:54:38.934Z"
   },
   {
    "duration": 43,
    "start_time": "2022-05-14T08:54:38.944Z"
   },
   {
    "duration": 19,
    "start_time": "2022-05-14T08:54:38.991Z"
   },
   {
    "duration": 400,
    "start_time": "2022-05-14T08:54:39.012Z"
   },
   {
    "duration": 44,
    "start_time": "2022-05-14T08:54:39.415Z"
   },
   {
    "duration": 4,
    "start_time": "2022-05-14T08:54:39.462Z"
   },
   {
    "duration": 46,
    "start_time": "2022-05-14T08:54:45.884Z"
   },
   {
    "duration": 36,
    "start_time": "2022-05-14T08:55:47.499Z"
   },
   {
    "duration": 31,
    "start_time": "2022-05-14T08:58:03.202Z"
   },
   {
    "duration": 2850,
    "start_time": "2022-05-14T08:58:21.316Z"
   },
   {
    "duration": 2566,
    "start_time": "2022-05-14T09:01:53.290Z"
   },
   {
    "duration": 95,
    "start_time": "2022-05-14T09:02:52.539Z"
   },
   {
    "duration": 133,
    "start_time": "2022-05-14T09:02:57.563Z"
   },
   {
    "duration": 2310,
    "start_time": "2022-05-14T09:03:07.652Z"
   },
   {
    "duration": 111,
    "start_time": "2022-05-14T09:04:04.244Z"
   },
   {
    "duration": 56,
    "start_time": "2022-05-14T09:05:24.308Z"
   },
   {
    "duration": 2277,
    "start_time": "2022-05-14T09:05:42.578Z"
   },
   {
    "duration": 12459,
    "start_time": "2022-05-14T09:06:19.210Z"
   },
   {
    "duration": 15934,
    "start_time": "2022-05-14T09:07:26.530Z"
   },
   {
    "duration": 25,
    "start_time": "2022-05-14T09:23:43.127Z"
   },
   {
    "duration": 31,
    "start_time": "2022-05-14T09:24:52.883Z"
   },
   {
    "duration": 29,
    "start_time": "2022-05-14T09:25:02.652Z"
   },
   {
    "duration": 27,
    "start_time": "2022-05-14T09:25:09.029Z"
   },
   {
    "duration": 5,
    "start_time": "2022-05-14T09:26:41.358Z"
   },
   {
    "duration": 17,
    "start_time": "2022-05-14T09:26:41.366Z"
   },
   {
    "duration": 69,
    "start_time": "2022-05-14T09:26:41.386Z"
   },
   {
    "duration": 17,
    "start_time": "2022-05-14T09:26:41.458Z"
   },
   {
    "duration": 352,
    "start_time": "2022-05-14T09:26:41.478Z"
   },
   {
    "duration": 27,
    "start_time": "2022-05-14T09:28:27.051Z"
   },
   {
    "duration": 33,
    "start_time": "2022-05-14T09:29:16.444Z"
   },
   {
    "duration": 36,
    "start_time": "2022-05-14T09:37:23.187Z"
   },
   {
    "duration": 33,
    "start_time": "2022-05-14T09:37:34.196Z"
   },
   {
    "duration": 5,
    "start_time": "2022-05-14T09:38:29.891Z"
   },
   {
    "duration": 7,
    "start_time": "2022-05-14T09:38:29.899Z"
   },
   {
    "duration": 50,
    "start_time": "2022-05-14T09:38:29.908Z"
   },
   {
    "duration": 17,
    "start_time": "2022-05-14T09:38:29.960Z"
   },
   {
    "duration": 339,
    "start_time": "2022-05-14T09:38:29.980Z"
   },
   {
    "duration": 36,
    "start_time": "2022-05-14T09:38:37.804Z"
   },
   {
    "duration": 36,
    "start_time": "2022-05-14T09:38:42.626Z"
   },
   {
    "duration": 35,
    "start_time": "2022-05-14T09:38:48.564Z"
   },
   {
    "duration": 36,
    "start_time": "2022-05-14T09:38:54.027Z"
   },
   {
    "duration": 21,
    "start_time": "2022-05-14T09:40:08.892Z"
   },
   {
    "duration": 19,
    "start_time": "2022-05-14T09:40:20.324Z"
   },
   {
    "duration": 19,
    "start_time": "2022-05-14T09:40:25.228Z"
   },
   {
    "duration": 20,
    "start_time": "2022-05-14T09:40:50.539Z"
   },
   {
    "duration": 5,
    "start_time": "2022-05-14T09:42:09.535Z"
   },
   {
    "duration": 7,
    "start_time": "2022-05-14T09:42:09.542Z"
   },
   {
    "duration": 47,
    "start_time": "2022-05-14T09:42:09.551Z"
   },
   {
    "duration": 17,
    "start_time": "2022-05-14T09:42:09.600Z"
   },
   {
    "duration": 325,
    "start_time": "2022-05-14T09:42:09.620Z"
   },
   {
    "duration": 40,
    "start_time": "2022-05-14T09:42:13.711Z"
   },
   {
    "duration": 23,
    "start_time": "2022-05-14T09:42:50.546Z"
   },
   {
    "duration": 18,
    "start_time": "2022-05-14T09:42:56.450Z"
   },
   {
    "duration": 52,
    "start_time": "2022-05-14T09:43:02.722Z"
   },
   {
    "duration": 71,
    "start_time": "2022-05-14T09:46:37.427Z"
   },
   {
    "duration": 6,
    "start_time": "2022-05-14T09:50:24.416Z"
   },
   {
    "duration": 8,
    "start_time": "2022-05-14T09:50:24.425Z"
   },
   {
    "duration": 49,
    "start_time": "2022-05-14T09:50:24.436Z"
   },
   {
    "duration": 18,
    "start_time": "2022-05-14T09:50:24.488Z"
   },
   {
    "duration": 537,
    "start_time": "2022-05-14T09:50:24.508Z"
   },
   {
    "duration": 39,
    "start_time": "2022-05-14T09:50:30.814Z"
   },
   {
    "duration": 37,
    "start_time": "2022-05-14T09:52:24.481Z"
   },
   {
    "duration": 39,
    "start_time": "2022-05-14T09:52:44.857Z"
   },
   {
    "duration": 38,
    "start_time": "2022-05-14T11:07:43.822Z"
   },
   {
    "duration": 42,
    "start_time": "2022-05-14T11:08:32.126Z"
   },
   {
    "duration": 42,
    "start_time": "2022-05-14T11:08:47.589Z"
   },
   {
    "duration": 10,
    "start_time": "2022-05-14T11:09:08.646Z"
   },
   {
    "duration": 16,
    "start_time": "2022-05-14T11:09:08.658Z"
   },
   {
    "duration": 45,
    "start_time": "2022-05-14T11:09:08.677Z"
   },
   {
    "duration": 19,
    "start_time": "2022-05-14T11:09:08.725Z"
   },
   {
    "duration": 363,
    "start_time": "2022-05-14T11:09:08.747Z"
   },
   {
    "duration": 43,
    "start_time": "2022-05-14T11:09:12.598Z"
   },
   {
    "duration": 65,
    "start_time": "2022-05-14T11:10:25.518Z"
   },
   {
    "duration": 86,
    "start_time": "2022-05-14T11:11:07.734Z"
   },
   {
    "duration": 5,
    "start_time": "2022-05-14T11:11:46.590Z"
   },
   {
    "duration": 6,
    "start_time": "2022-05-14T11:11:46.597Z"
   },
   {
    "duration": 50,
    "start_time": "2022-05-14T11:11:46.605Z"
   },
   {
    "duration": 18,
    "start_time": "2022-05-14T11:11:46.658Z"
   },
   {
    "duration": 463,
    "start_time": "2022-05-14T11:11:46.679Z"
   },
   {
    "duration": 35,
    "start_time": "2022-05-14T11:11:50.109Z"
   },
   {
    "duration": 39,
    "start_time": "2022-05-14T11:12:11.998Z"
   },
   {
    "duration": 41,
    "start_time": "2022-05-14T11:13:12.806Z"
   },
   {
    "duration": 37,
    "start_time": "2022-05-14T11:13:21.486Z"
   },
   {
    "duration": 51,
    "start_time": "2022-05-14T11:14:31.333Z"
   },
   {
    "duration": 33,
    "start_time": "2022-05-14T11:14:47.309Z"
   },
   {
    "duration": 32,
    "start_time": "2022-05-14T11:14:56.865Z"
   },
   {
    "duration": 38,
    "start_time": "2022-05-14T11:15:09.629Z"
   },
   {
    "duration": 44,
    "start_time": "2022-05-14T11:17:42.421Z"
   },
   {
    "duration": 37,
    "start_time": "2022-05-14T11:17:55.965Z"
   },
   {
    "duration": 37,
    "start_time": "2022-05-14T11:18:19.300Z"
   },
   {
    "duration": 41,
    "start_time": "2022-05-14T11:18:25.661Z"
   },
   {
    "duration": 37,
    "start_time": "2022-05-14T11:18:32.403Z"
   },
   {
    "duration": 40,
    "start_time": "2022-05-14T11:18:37.117Z"
   },
   {
    "duration": 40,
    "start_time": "2022-05-14T11:18:41.331Z"
   },
   {
    "duration": 40,
    "start_time": "2022-05-14T11:18:44.040Z"
   },
   {
    "duration": 62,
    "start_time": "2022-05-14T11:19:29.420Z"
   },
   {
    "duration": 62,
    "start_time": "2022-05-14T11:19:44.149Z"
   },
   {
    "duration": 35,
    "start_time": "2022-05-14T11:20:29.579Z"
   },
   {
    "duration": 5,
    "start_time": "2022-05-14T11:23:09.721Z"
   },
   {
    "duration": 3,
    "start_time": "2022-05-14T11:23:09.731Z"
   },
   {
    "duration": 44,
    "start_time": "2022-05-14T11:23:09.736Z"
   },
   {
    "duration": 18,
    "start_time": "2022-05-14T11:23:09.783Z"
   },
   {
    "duration": 350,
    "start_time": "2022-05-14T11:23:09.804Z"
   },
   {
    "duration": 26,
    "start_time": "2022-05-14T11:23:14.611Z"
   },
   {
    "duration": 53,
    "start_time": "2022-05-14T11:23:18.075Z"
   },
   {
    "duration": 60,
    "start_time": "2022-05-14T11:23:31.467Z"
   },
   {
    "duration": 68,
    "start_time": "2022-05-14T11:24:14.428Z"
   },
   {
    "duration": 60,
    "start_time": "2022-05-14T11:27:15.085Z"
   },
   {
    "duration": 14677,
    "start_time": "2022-05-14T11:33:40.274Z"
   },
   {
    "duration": 15,
    "start_time": "2022-05-14T11:34:06.041Z"
   },
   {
    "duration": 178714,
    "start_time": "2022-05-14T11:34:46.184Z"
   },
   {
    "duration": 8,
    "start_time": "2022-05-14T11:38:03.360Z"
   },
   {
    "duration": 26300,
    "start_time": "2022-05-14T11:38:19.488Z"
   },
   {
    "duration": 8,
    "start_time": "2022-05-14T11:38:54.248Z"
   },
   {
    "duration": 5,
    "start_time": "2022-05-14T11:39:37.156Z"
   },
   {
    "duration": 16,
    "start_time": "2022-05-14T11:39:37.164Z"
   },
   {
    "duration": 54,
    "start_time": "2022-05-14T11:39:37.182Z"
   },
   {
    "duration": 18,
    "start_time": "2022-05-14T11:39:37.238Z"
   },
   {
    "duration": 432,
    "start_time": "2022-05-14T11:39:37.259Z"
   },
   {
    "duration": 24,
    "start_time": "2022-05-14T11:39:37.693Z"
   },
   {
    "duration": 30,
    "start_time": "2022-05-14T11:39:41.034Z"
   },
   {
    "duration": 1757,
    "start_time": "2022-05-14T11:40:24.443Z"
   },
   {
    "duration": 4,
    "start_time": "2022-05-14T11:40:26.203Z"
   },
   {
    "duration": 56,
    "start_time": "2022-05-14T11:40:26.209Z"
   },
   {
    "duration": 27,
    "start_time": "2022-05-14T11:40:26.268Z"
   },
   {
    "duration": 570,
    "start_time": "2022-05-14T11:40:26.298Z"
   },
   {
    "duration": 28,
    "start_time": "2022-05-14T11:40:29.081Z"
   },
   {
    "duration": 166,
    "start_time": "2022-05-14T11:40:33.266Z"
   },
   {
    "duration": 11,
    "start_time": "2022-05-14T11:40:52.274Z"
   },
   {
    "duration": 16,
    "start_time": "2022-05-14T11:41:47.753Z"
   },
   {
    "duration": 35,
    "start_time": "2022-05-14T11:43:26.237Z"
   },
   {
    "duration": 50,
    "start_time": "2022-05-14T11:43:56.770Z"
   },
   {
    "duration": 47,
    "start_time": "2022-05-14T11:44:09.733Z"
   },
   {
    "duration": 44,
    "start_time": "2022-05-14T11:46:00.395Z"
   },
   {
    "duration": 44,
    "start_time": "2022-05-14T11:46:04.834Z"
   },
   {
    "duration": 185,
    "start_time": "2022-05-14T11:46:13.266Z"
   },
   {
    "duration": 23565,
    "start_time": "2022-05-14T11:46:42.698Z"
   },
   {
    "duration": 6,
    "start_time": "2022-05-14T11:47:15.819Z"
   },
   {
    "duration": 21515,
    "start_time": "2022-05-14T11:47:36.344Z"
   },
   {
    "duration": 25314,
    "start_time": "2022-05-14T11:48:33.411Z"
   },
   {
    "duration": 12,
    "start_time": "2022-05-14T11:49:05.674Z"
   },
   {
    "duration": 34,
    "start_time": "2022-05-14T11:49:44.684Z"
   },
   {
    "duration": 118,
    "start_time": "2022-05-14T11:50:50.228Z"
   },
   {
    "duration": 225,
    "start_time": "2022-05-14T11:51:01.387Z"
   },
   {
    "duration": 55388,
    "start_time": "2022-05-14T11:51:12.876Z"
   },
   {
    "duration": 1873,
    "start_time": "2022-05-14T11:52:34.047Z"
   },
   {
    "duration": 3,
    "start_time": "2022-05-14T11:52:35.923Z"
   },
   {
    "duration": 56,
    "start_time": "2022-05-14T11:52:35.928Z"
   },
   {
    "duration": 30,
    "start_time": "2022-05-14T11:52:35.988Z"
   },
   {
    "duration": 573,
    "start_time": "2022-05-14T11:52:36.020Z"
   },
   {
    "duration": 28,
    "start_time": "2022-05-14T11:52:36.595Z"
   },
   {
    "duration": 30,
    "start_time": "2022-05-14T11:52:36.625Z"
   },
   {
    "duration": 245,
    "start_time": "2022-05-14T11:53:29.932Z"
   },
   {
    "duration": 836,
    "start_time": "2022-05-14T11:54:38.228Z"
   },
   {
    "duration": 11,
    "start_time": "2022-05-14T11:54:48.242Z"
   },
   {
    "duration": 8521,
    "start_time": "2022-05-14T11:55:00.148Z"
   },
   {
    "duration": 121,
    "start_time": "2022-05-14T11:56:52.203Z"
   },
   {
    "duration": 5,
    "start_time": "2022-05-14T12:08:15.726Z"
   },
   {
    "duration": 13,
    "start_time": "2022-05-14T12:08:57.484Z"
   },
   {
    "duration": 7433,
    "start_time": "2022-05-14T12:09:09.429Z"
   },
   {
    "duration": 54,
    "start_time": "2022-05-14T12:09:25.703Z"
   },
   {
    "duration": 3329,
    "start_time": "2022-05-14T12:10:01.022Z"
   },
   {
    "duration": 33,
    "start_time": "2022-05-14T12:10:12.421Z"
   },
   {
    "duration": 80,
    "start_time": "2022-05-14T12:10:30.287Z"
   },
   {
    "duration": 10169,
    "start_time": "2022-05-14T12:11:20.191Z"
   },
   {
    "duration": 31,
    "start_time": "2022-05-14T12:11:37.740Z"
   },
   {
    "duration": 4350,
    "start_time": "2022-05-14T12:11:58.229Z"
   },
   {
    "duration": 19,
    "start_time": "2022-05-14T12:12:14.285Z"
   },
   {
    "duration": 86,
    "start_time": "2022-05-14T12:12:17.166Z"
   },
   {
    "duration": 48,
    "start_time": "2022-05-14T12:12:53.188Z"
   },
   {
    "duration": 1566,
    "start_time": "2022-05-14T12:13:13.589Z"
   },
   {
    "duration": 55,
    "start_time": "2022-05-14T12:13:17.724Z"
   },
   {
    "duration": 4031,
    "start_time": "2022-05-14T12:13:38.437Z"
   },
   {
    "duration": 47,
    "start_time": "2022-05-14T12:13:50.100Z"
   },
   {
    "duration": 2263,
    "start_time": "2022-05-14T12:14:42.196Z"
   },
   {
    "duration": 41,
    "start_time": "2022-05-14T12:14:50.553Z"
   },
   {
    "duration": 2031,
    "start_time": "2022-05-14T12:15:18.333Z"
   },
   {
    "duration": 34,
    "start_time": "2022-05-14T12:15:23.029Z"
   },
   {
    "duration": 17,
    "start_time": "2022-05-14T12:16:14.748Z"
   },
   {
    "duration": 12,
    "start_time": "2022-05-14T12:16:34.172Z"
   },
   {
    "duration": 29,
    "start_time": "2022-05-14T12:16:45.212Z"
   },
   {
    "duration": 1107,
    "start_time": "2022-05-14T12:17:13.156Z"
   },
   {
    "duration": 20,
    "start_time": "2022-05-14T12:17:18.308Z"
   },
   {
    "duration": 28,
    "start_time": "2022-05-14T12:17:52.108Z"
   },
   {
    "duration": 23,
    "start_time": "2022-05-14T12:18:42.949Z"
   },
   {
    "duration": 90289,
    "start_time": "2022-05-14T12:20:53.380Z"
   },
   {
    "duration": 251,
    "start_time": "2022-05-14T12:22:36.619Z"
   },
   {
    "duration": 17384,
    "start_time": "2022-05-14T12:23:50.674Z"
   },
   {
    "duration": 29,
    "start_time": "2022-05-14T12:24:26.754Z"
   },
   {
    "duration": 230,
    "start_time": "2022-05-14T12:25:12.242Z"
   },
   {
    "duration": 28,
    "start_time": "2022-05-14T12:26:09.794Z"
   },
   {
    "duration": 56,
    "start_time": "2022-05-14T12:26:22.425Z"
   },
   {
    "duration": 1458,
    "start_time": "2022-05-14T12:27:02.226Z"
   },
   {
    "duration": 35,
    "start_time": "2022-05-14T12:27:12.626Z"
   },
   {
    "duration": 1031,
    "start_time": "2022-05-14T12:27:52.225Z"
   },
   {
    "duration": 45,
    "start_time": "2022-05-14T12:27:58.537Z"
   },
   {
    "duration": 62814,
    "start_time": "2022-05-14T12:28:51.651Z"
   },
   {
    "duration": 211,
    "start_time": "2022-05-14T12:30:42.913Z"
   },
   {
    "duration": 48,
    "start_time": "2022-05-14T12:31:09.177Z"
   },
   {
    "duration": 6,
    "start_time": "2022-05-14T12:37:46.271Z"
   },
   {
    "duration": 47861,
    "start_time": "2022-05-14T12:39:24.796Z"
   },
   {
    "duration": 66,
    "start_time": "2022-05-14T12:40:44.720Z"
   },
   {
    "duration": 20,
    "start_time": "2022-05-14T12:40:52.808Z"
   },
   {
    "duration": 19,
    "start_time": "2022-05-14T12:43:05.599Z"
   },
   {
    "duration": 20,
    "start_time": "2022-05-14T12:44:05.078Z"
   },
   {
    "duration": 22,
    "start_time": "2022-05-14T12:44:14.213Z"
   },
   {
    "duration": 21,
    "start_time": "2022-05-14T12:44:50.421Z"
   },
   {
    "duration": 22,
    "start_time": "2022-05-14T12:44:56.141Z"
   },
   {
    "duration": 26,
    "start_time": "2022-05-14T12:45:12.718Z"
   },
   {
    "duration": 21,
    "start_time": "2022-05-14T12:45:19.205Z"
   },
   {
    "duration": 24,
    "start_time": "2022-05-14T12:47:12.541Z"
   },
   {
    "duration": 23,
    "start_time": "2022-05-14T12:47:24.717Z"
   },
   {
    "duration": 37,
    "start_time": "2022-05-14T12:48:06.102Z"
   },
   {
    "duration": 1962,
    "start_time": "2022-05-14T12:49:23.713Z"
   },
   {
    "duration": 4,
    "start_time": "2022-05-14T12:49:25.677Z"
   },
   {
    "duration": 68,
    "start_time": "2022-05-14T12:49:25.683Z"
   },
   {
    "duration": 30,
    "start_time": "2022-05-14T12:49:25.755Z"
   },
   {
    "duration": 678,
    "start_time": "2022-05-14T12:49:25.787Z"
   },
   {
    "duration": 40,
    "start_time": "2022-05-14T12:49:26.468Z"
   },
   {
    "duration": 6,
    "start_time": "2022-05-14T12:49:26.511Z"
   },
   {
    "duration": 64,
    "start_time": "2022-05-14T12:49:26.519Z"
   },
   {
    "duration": 37621,
    "start_time": "2022-05-14T12:49:36.436Z"
   },
   {
    "duration": 24,
    "start_time": "2022-05-14T12:50:20.802Z"
   },
   {
    "duration": 62179,
    "start_time": "2022-05-14T12:51:00.665Z"
   },
   {
    "duration": 171,
    "start_time": "2022-05-14T12:54:55.084Z"
   },
   {
    "duration": 65352,
    "start_time": "2022-05-14T13:13:33.472Z"
   },
   {
    "duration": 15,
    "start_time": "2022-05-14T13:16:34.416Z"
   },
   {
    "duration": 7,
    "start_time": "2022-05-14T13:39:33.544Z"
   },
   {
    "duration": 17,
    "start_time": "2022-05-14T13:44:09.604Z"
   },
   {
    "duration": 174,
    "start_time": "2022-05-14T13:44:25.836Z"
   },
   {
    "duration": 9,
    "start_time": "2022-05-14T13:44:32.516Z"
   },
   {
    "duration": 6,
    "start_time": "2022-05-14T13:47:39.674Z"
   },
   {
    "duration": 47,
    "start_time": "2022-05-14T13:52:48.056Z"
   },
   {
    "duration": 43,
    "start_time": "2022-05-14T15:07:00.775Z"
   },
   {
    "duration": 29,
    "start_time": "2022-05-14T15:08:07.271Z"
   },
   {
    "duration": 27,
    "start_time": "2022-05-14T15:09:24.179Z"
   },
   {
    "duration": 28,
    "start_time": "2022-05-14T15:09:40.719Z"
   },
   {
    "duration": 38,
    "start_time": "2022-05-14T15:09:48.934Z"
   },
   {
    "duration": 42,
    "start_time": "2022-05-14T15:10:18.431Z"
   },
   {
    "duration": 32,
    "start_time": "2022-05-14T15:12:05.190Z"
   },
   {
    "duration": 27,
    "start_time": "2022-05-14T15:12:30.679Z"
   },
   {
    "duration": 27,
    "start_time": "2022-05-14T15:12:33.579Z"
   },
   {
    "duration": 14,
    "start_time": "2022-05-14T15:13:04.798Z"
   },
   {
    "duration": 5,
    "start_time": "2022-05-14T15:13:46.579Z"
   },
   {
    "duration": 32,
    "start_time": "2022-05-14T15:14:49.726Z"
   },
   {
    "duration": 1817,
    "start_time": "2022-05-14T15:17:02.866Z"
   },
   {
    "duration": 4,
    "start_time": "2022-05-14T15:17:04.687Z"
   },
   {
    "duration": 63,
    "start_time": "2022-05-14T15:17:04.694Z"
   },
   {
    "duration": 40,
    "start_time": "2022-05-14T15:17:04.760Z"
   },
   {
    "duration": 929,
    "start_time": "2022-05-14T15:17:04.803Z"
   },
   {
    "duration": 16,
    "start_time": "2022-05-14T15:17:08.751Z"
   },
   {
    "duration": 359,
    "start_time": "2022-05-14T15:17:37.223Z"
   },
   {
    "duration": 27,
    "start_time": "2022-05-14T15:17:58.134Z"
   },
   {
    "duration": 7,
    "start_time": "2022-05-14T15:18:19.863Z"
   },
   {
    "duration": 201,
    "start_time": "2022-05-14T15:18:23.006Z"
   },
   {
    "duration": 207,
    "start_time": "2022-05-14T15:18:53.375Z"
   },
   {
    "duration": 323,
    "start_time": "2022-05-14T15:19:02.286Z"
   },
   {
    "duration": 351,
    "start_time": "2022-05-14T15:19:26.440Z"
   },
   {
    "duration": 200,
    "start_time": "2022-05-14T15:19:39.990Z"
   },
   {
    "duration": 188,
    "start_time": "2022-05-14T15:19:52.526Z"
   },
   {
    "duration": 329,
    "start_time": "2022-05-14T15:19:55.542Z"
   },
   {
    "duration": 222,
    "start_time": "2022-05-14T15:20:01.622Z"
   },
   {
    "duration": 231,
    "start_time": "2022-05-14T15:20:10.814Z"
   },
   {
    "duration": 250,
    "start_time": "2022-05-14T15:20:15.725Z"
   },
   {
    "duration": 216,
    "start_time": "2022-05-14T15:20:25.822Z"
   },
   {
    "duration": 236,
    "start_time": "2022-05-14T15:21:08.879Z"
   },
   {
    "duration": 374,
    "start_time": "2022-05-14T15:21:47.869Z"
   },
   {
    "duration": 359,
    "start_time": "2022-05-14T15:21:59.653Z"
   },
   {
    "duration": 475,
    "start_time": "2022-05-14T15:22:47.981Z"
   },
   {
    "duration": 589,
    "start_time": "2022-05-14T15:23:11.989Z"
   },
   {
    "duration": 614,
    "start_time": "2022-05-14T15:23:52.869Z"
   },
   {
    "duration": 473,
    "start_time": "2022-05-14T15:24:52.781Z"
   },
   {
    "duration": 527,
    "start_time": "2022-05-14T15:25:11.533Z"
   },
   {
    "duration": 471,
    "start_time": "2022-05-14T15:25:19.292Z"
   },
   {
    "duration": 484,
    "start_time": "2022-05-14T15:25:38.836Z"
   },
   {
    "duration": 620,
    "start_time": "2022-05-14T15:25:54.381Z"
   },
   {
    "duration": 21,
    "start_time": "2022-05-14T15:26:03.764Z"
   },
   {
    "duration": 428,
    "start_time": "2022-05-14T15:26:13.996Z"
   },
   {
    "duration": 415,
    "start_time": "2022-05-14T15:27:00.492Z"
   },
   {
    "duration": 32,
    "start_time": "2022-05-14T15:27:17.148Z"
   },
   {
    "duration": 36,
    "start_time": "2022-05-14T15:27:28.568Z"
   },
   {
    "duration": 23,
    "start_time": "2022-05-14T15:27:37.204Z"
   },
   {
    "duration": 16,
    "start_time": "2022-05-14T15:27:40.388Z"
   },
   {
    "duration": 440,
    "start_time": "2022-05-14T15:27:41.549Z"
   },
   {
    "duration": 319,
    "start_time": "2022-05-14T15:28:04.716Z"
   },
   {
    "duration": 312,
    "start_time": "2022-05-14T15:28:33.661Z"
   },
   {
    "duration": 485,
    "start_time": "2022-05-14T15:29:05.525Z"
   },
   {
    "duration": 489,
    "start_time": "2022-05-14T15:29:11.196Z"
   },
   {
    "duration": 57,
    "start_time": "2022-05-14T15:29:28.820Z"
   },
   {
    "duration": 17,
    "start_time": "2022-05-14T15:29:29.516Z"
   },
   {
    "duration": 308,
    "start_time": "2022-05-14T15:29:33.164Z"
   },
   {
    "duration": 331,
    "start_time": "2022-05-14T15:30:00.684Z"
   },
   {
    "duration": 496,
    "start_time": "2022-05-14T15:30:19.212Z"
   },
   {
    "duration": 637,
    "start_time": "2022-05-14T15:30:29.483Z"
   },
   {
    "duration": 412,
    "start_time": "2022-05-14T15:31:10.372Z"
   },
   {
    "duration": 24,
    "start_time": "2022-05-14T15:31:27.068Z"
   },
   {
    "duration": 424,
    "start_time": "2022-05-14T15:31:35.675Z"
   },
   {
    "duration": 1672,
    "start_time": "2022-05-14T15:31:48.634Z"
   },
   {
    "duration": 605,
    "start_time": "2022-05-14T15:31:54.775Z"
   },
   {
    "duration": 507,
    "start_time": "2022-05-14T15:32:08.692Z"
   },
   {
    "duration": 567,
    "start_time": "2022-05-14T15:32:15.987Z"
   },
   {
    "duration": 646,
    "start_time": "2022-05-14T15:32:58.029Z"
   },
   {
    "duration": 590,
    "start_time": "2022-05-14T15:33:14.491Z"
   },
   {
    "duration": 590,
    "start_time": "2022-05-14T15:33:22.478Z"
   },
   {
    "duration": 498,
    "start_time": "2022-05-14T15:34:16.403Z"
   },
   {
    "duration": 604,
    "start_time": "2022-05-14T15:34:33.138Z"
   },
   {
    "duration": 426,
    "start_time": "2022-05-14T15:35:00.900Z"
   },
   {
    "duration": 308,
    "start_time": "2022-05-14T15:36:51.739Z"
   },
   {
    "duration": 98,
    "start_time": "2022-05-14T15:37:06.835Z"
   },
   {
    "duration": 314,
    "start_time": "2022-05-14T15:37:12.132Z"
   },
   {
    "duration": 301,
    "start_time": "2022-05-14T15:37:39.499Z"
   },
   {
    "duration": 303,
    "start_time": "2022-05-14T15:37:47.108Z"
   },
   {
    "duration": 472,
    "start_time": "2022-05-14T15:37:56.634Z"
   },
   {
    "duration": 411,
    "start_time": "2022-05-14T15:39:48.898Z"
   },
   {
    "duration": 22,
    "start_time": "2022-05-14T15:43:38.145Z"
   },
   {
    "duration": 20,
    "start_time": "2022-05-14T16:31:52.544Z"
   },
   {
    "duration": 405,
    "start_time": "2022-05-14T16:32:07.453Z"
   },
   {
    "duration": 482,
    "start_time": "2022-05-14T16:34:25.564Z"
   },
   {
    "duration": 483,
    "start_time": "2022-05-14T16:38:26.476Z"
   },
   {
    "duration": 23,
    "start_time": "2022-05-14T16:38:33.565Z"
   },
   {
    "duration": 438,
    "start_time": "2022-05-14T16:38:51.067Z"
   },
   {
    "duration": 515,
    "start_time": "2022-05-14T16:40:00.107Z"
   },
   {
    "duration": 757,
    "start_time": "2022-05-14T16:47:08.347Z"
   },
   {
    "duration": 460,
    "start_time": "2022-05-14T16:47:26.882Z"
   },
   {
    "duration": 437,
    "start_time": "2022-05-14T16:47:54.274Z"
   },
   {
    "duration": 17,
    "start_time": "2022-05-14T16:48:00.147Z"
   },
   {
    "duration": 479,
    "start_time": "2022-05-14T16:48:06.010Z"
   },
   {
    "duration": 491,
    "start_time": "2022-05-14T16:48:48.418Z"
   },
   {
    "duration": 656,
    "start_time": "2022-05-14T16:49:17.618Z"
   },
   {
    "duration": 682,
    "start_time": "2022-05-14T16:50:02.898Z"
   },
   {
    "duration": 643,
    "start_time": "2022-05-14T16:50:13.313Z"
   },
   {
    "duration": 796,
    "start_time": "2022-05-14T16:50:35.947Z"
   },
   {
    "duration": 30,
    "start_time": "2022-05-14T16:50:50.817Z"
   },
   {
    "duration": 21,
    "start_time": "2022-05-14T16:51:28.090Z"
   },
   {
    "duration": 23,
    "start_time": "2022-05-14T16:51:46.028Z"
   },
   {
    "duration": 627,
    "start_time": "2022-05-14T16:51:59.545Z"
   },
   {
    "duration": 465,
    "start_time": "2022-05-14T16:52:15.765Z"
   },
   {
    "duration": 480,
    "start_time": "2022-05-14T16:52:23.313Z"
   },
   {
    "duration": 346,
    "start_time": "2022-05-14T16:53:26.305Z"
   },
   {
    "duration": 335,
    "start_time": "2022-05-14T16:53:31.884Z"
   },
   {
    "duration": 385,
    "start_time": "2022-05-14T16:53:45.833Z"
   },
   {
    "duration": 334,
    "start_time": "2022-05-14T16:54:11.001Z"
   },
   {
    "duration": 337,
    "start_time": "2022-05-14T16:55:41.704Z"
   },
   {
    "duration": 27,
    "start_time": "2022-05-14T17:03:18.519Z"
   },
   {
    "duration": 23,
    "start_time": "2022-05-14T17:03:28.784Z"
   },
   {
    "duration": 31,
    "start_time": "2022-05-14T17:03:39.047Z"
   },
   {
    "duration": 624,
    "start_time": "2022-05-14T17:04:07.399Z"
   },
   {
    "duration": 754,
    "start_time": "2022-05-14T17:12:34.773Z"
   },
   {
    "duration": 30,
    "start_time": "2022-05-14T17:12:48.557Z"
   },
   {
    "duration": 597,
    "start_time": "2022-05-14T17:12:56.261Z"
   },
   {
    "duration": 571,
    "start_time": "2022-05-14T17:13:12.380Z"
   },
   {
    "duration": 652,
    "start_time": "2022-05-14T17:13:25.199Z"
   },
   {
    "duration": 594,
    "start_time": "2022-05-14T17:13:29.346Z"
   },
   {
    "duration": 635,
    "start_time": "2022-05-14T17:14:08.421Z"
   },
   {
    "duration": 93,
    "start_time": "2022-05-14T17:14:46.436Z"
   },
   {
    "duration": 2118,
    "start_time": "2022-05-14T17:15:14.243Z"
   },
   {
    "duration": 3,
    "start_time": "2022-05-14T17:15:16.365Z"
   },
   {
    "duration": 94,
    "start_time": "2022-05-14T17:15:16.370Z"
   },
   {
    "duration": 26,
    "start_time": "2022-05-14T17:15:16.467Z"
   },
   {
    "duration": 426,
    "start_time": "2022-05-14T17:15:16.496Z"
   },
   {
    "duration": 461,
    "start_time": "2022-05-14T17:15:16.924Z"
   },
   {
    "duration": 487,
    "start_time": "2022-05-14T17:15:17.387Z"
   },
   {
    "duration": 25,
    "start_time": "2022-05-14T17:15:17.876Z"
   },
   {
    "duration": 5,
    "start_time": "2022-05-14T17:15:17.903Z"
   },
   {
    "duration": 12,
    "start_time": "2022-05-14T17:15:17.910Z"
   },
   {
    "duration": 42139,
    "start_time": "2022-05-14T17:15:17.924Z"
   },
   {
    "duration": 128,
    "start_time": "2022-05-14T17:16:00.066Z"
   },
   {
    "duration": 60130,
    "start_time": "2022-05-14T17:16:00.252Z"
   },
   {
    "duration": 18,
    "start_time": "2022-05-14T17:17:00.386Z"
   },
   {
    "duration": 58,
    "start_time": "2022-05-14T17:17:00.408Z"
   },
   {
    "duration": 7,
    "start_time": "2022-05-14T17:17:00.552Z"
   },
   {
    "duration": 2769,
    "start_time": "2022-05-15T11:40:20.712Z"
   },
   {
    "duration": 5,
    "start_time": "2022-05-15T11:53:49.289Z"
   },
   {
    "duration": 9,
    "start_time": "2022-05-15T11:53:49.297Z"
   },
   {
    "duration": 55,
    "start_time": "2022-05-15T11:53:49.309Z"
   },
   {
    "duration": 28,
    "start_time": "2022-05-15T11:53:49.366Z"
   },
   {
    "duration": 423,
    "start_time": "2022-05-15T11:53:49.397Z"
   },
   {
    "duration": 452,
    "start_time": "2022-05-15T11:53:49.822Z"
   },
   {
    "duration": 441,
    "start_time": "2022-05-15T11:53:50.276Z"
   },
   {
    "duration": 27,
    "start_time": "2022-05-15T11:53:50.719Z"
   },
   {
    "duration": 5,
    "start_time": "2022-05-15T11:53:50.748Z"
   },
   {
    "duration": 38,
    "start_time": "2022-05-15T11:53:50.755Z"
   },
   {
    "duration": 38298,
    "start_time": "2022-05-15T11:53:50.796Z"
   },
   {
    "duration": 180,
    "start_time": "2022-05-15T12:06:09.598Z"
   },
   {
    "duration": 6,
    "start_time": "2022-05-15T12:06:32.075Z"
   },
   {
    "duration": 16,
    "start_time": "2022-05-15T12:06:32.085Z"
   },
   {
    "duration": 44,
    "start_time": "2022-05-15T12:06:32.103Z"
   },
   {
    "duration": 18,
    "start_time": "2022-05-15T12:06:32.150Z"
   },
   {
    "duration": 522,
    "start_time": "2022-05-15T12:06:32.172Z"
   },
   {
    "duration": 17,
    "start_time": "2022-05-15T12:06:32.697Z"
   },
   {
    "duration": 17,
    "start_time": "2022-05-15T12:06:47.014Z"
   },
   {
    "duration": 18,
    "start_time": "2022-05-15T12:07:02.014Z"
   },
   {
    "duration": 778,
    "start_time": "2022-05-15T12:07:43.567Z"
   },
   {
    "duration": 666,
    "start_time": "2022-05-15T12:08:02.262Z"
   },
   {
    "duration": 441,
    "start_time": "2022-05-15T12:09:14.903Z"
   },
   {
    "duration": 5,
    "start_time": "2022-05-15T12:12:15.814Z"
   },
   {
    "duration": 53,
    "start_time": "2022-05-15T12:12:20.237Z"
   },
   {
    "duration": 99,
    "start_time": "2022-05-15T12:13:31.939Z"
   },
   {
    "duration": 7,
    "start_time": "2022-05-15T12:16:02.669Z"
   },
   {
    "duration": 42365,
    "start_time": "2022-05-15T12:16:04.741Z"
   },
   {
    "duration": 6,
    "start_time": "2022-05-15T12:25:43.037Z"
   },
   {
    "duration": 35,
    "start_time": "2022-05-15T12:25:46.606Z"
   },
   {
    "duration": 2294,
    "start_time": "2022-05-15T12:26:03.723Z"
   },
   {
    "duration": 4,
    "start_time": "2022-05-15T12:26:06.020Z"
   },
   {
    "duration": 58,
    "start_time": "2022-05-15T12:26:06.026Z"
   },
   {
    "duration": 24,
    "start_time": "2022-05-15T12:26:06.087Z"
   },
   {
    "duration": 423,
    "start_time": "2022-05-15T12:26:06.115Z"
   },
   {
    "duration": 16,
    "start_time": "2022-05-15T12:26:06.541Z"
   },
   {
    "duration": 483,
    "start_time": "2022-05-15T12:26:06.560Z"
   },
   {
    "duration": 496,
    "start_time": "2022-05-15T12:26:07.046Z"
   },
   {
    "duration": 26,
    "start_time": "2022-05-15T12:26:07.544Z"
   },
   {
    "duration": 21,
    "start_time": "2022-05-15T12:26:07.572Z"
   },
   {
    "duration": 5,
    "start_time": "2022-05-15T12:26:07.595Z"
   },
   {
    "duration": 222,
    "start_time": "2022-05-15T12:26:07.603Z"
   },
   {
    "duration": 0,
    "start_time": "2022-05-15T12:26:07.828Z"
   },
   {
    "duration": 0,
    "start_time": "2022-05-15T12:26:07.829Z"
   },
   {
    "duration": 0,
    "start_time": "2022-05-15T12:26:07.831Z"
   },
   {
    "duration": 0,
    "start_time": "2022-05-15T12:26:07.832Z"
   },
   {
    "duration": 12,
    "start_time": "2022-05-15T12:31:42.139Z"
   },
   {
    "duration": 2049,
    "start_time": "2022-05-15T12:33:01.762Z"
   },
   {
    "duration": 4,
    "start_time": "2022-05-15T12:33:03.814Z"
   },
   {
    "duration": 58,
    "start_time": "2022-05-15T12:33:03.821Z"
   },
   {
    "duration": 25,
    "start_time": "2022-05-15T12:33:03.881Z"
   },
   {
    "duration": 383,
    "start_time": "2022-05-15T12:33:03.911Z"
   },
   {
    "duration": 13,
    "start_time": "2022-05-15T12:33:04.296Z"
   },
   {
    "duration": 494,
    "start_time": "2022-05-15T12:33:04.311Z"
   },
   {
    "duration": 480,
    "start_time": "2022-05-15T12:33:04.807Z"
   },
   {
    "duration": 25,
    "start_time": "2022-05-15T12:33:05.294Z"
   },
   {
    "duration": 6,
    "start_time": "2022-05-15T12:33:05.321Z"
   },
   {
    "duration": 14,
    "start_time": "2022-05-15T12:33:05.329Z"
   },
   {
    "duration": 37556,
    "start_time": "2022-05-15T12:33:05.345Z"
   },
   {
    "duration": 70290,
    "start_time": "2022-05-15T12:33:42.999Z"
   },
   {
    "duration": 28,
    "start_time": "2022-05-15T12:34:53.292Z"
   },
   {
    "duration": 109,
    "start_time": "2022-05-15T12:34:53.395Z"
   },
   {
    "duration": 8,
    "start_time": "2022-05-15T12:34:53.506Z"
   },
   {
    "duration": 178,
    "start_time": "2022-05-15T12:34:53.516Z"
   }
  ],
  "kernelspec": {
   "display_name": "Python 3 (ipykernel)",
   "language": "python",
   "name": "python3"
  },
  "language_info": {
   "codemirror_mode": {
    "name": "ipython",
    "version": 3
   },
   "file_extension": ".py",
   "mimetype": "text/x-python",
   "name": "python",
   "nbconvert_exporter": "python",
   "pygments_lexer": "ipython3",
   "version": "3.9.12"
  },
  "toc": {
   "base_numbering": 1,
   "nav_menu": {},
   "number_sections": true,
   "sideBar": true,
   "skip_h1_title": true,
   "title_cell": "Содержание",
   "title_sidebar": "Contents",
   "toc_cell": true,
   "toc_position": {
    "height": "calc(100% - 180px)",
    "left": "10px",
    "top": "150px",
    "width": "323.903px"
   },
   "toc_section_display": true,
   "toc_window_display": false
  }
 },
 "nbformat": 4,
 "nbformat_minor": 2
}
