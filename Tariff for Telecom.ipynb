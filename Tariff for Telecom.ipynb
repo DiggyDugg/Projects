{
 "cells": [
  {
   "cell_type": "markdown",
   "metadata": {},
   "source": [
    "## Введение\n",
    "\n",
    "«Мегалайн» — федеральный оператор сотовой связи. Клиентам предлагают два тарифных плана: «Смарт» и «Ультра». Чтобы скорректировать рекламный бюджет, коммерческий департамент хочет понять, какой тариф приносит больше денег.\n",
    "\n",
    "#### Описание тарифов\n",
    "Тариф «Смарт»\\\n",
    "Ежемесячная плата: 550 рублей\\\n",
    "Включено 500 минут разговора, 50 сообщений и 15 Гб интернет-трафика\\\n",
    "Стоимость услуг сверх тарифного пакета:\\\n",
    "минута разговора: 3 рубля\\\n",
    "сообщение: 3 рубля\\\n",
    "1 Гб интернет-трафика: 200 рублей\n",
    "\n",
    "Тариф «Ультра»\\\n",
    "Ежемесячная плата: 1950 рублей\\\n",
    "Включено 3000 минут разговора, 1000 сообщений и 30 Гб интернет-трафика\\\n",
    "Стоимость услуг сверх тарифного пакета:\\\n",
    "минута разговора: 1 рубль\\\n",
    "сообщение: 1 рубль\\\n",
    "1 Гб интернет-трафика: 150 рублей\n",
    "\n",
    "### Задача\n",
    "Чтобы скорректировать рекламный бюджет, требуется определить, какой тариф является более прибыльным.\n",
    "\n",
    "### Особенности алгоритмов.\n",
    "Мегалайн» всегда округляет секунды до минут, а мегабайты — до гигабайт. Каждый звонок округляется отдельно.\n",
    "Для веб-трафика отдельные сессии не считаются. Общая сумма за месяц округляется в бо́льшую сторону.\n",
    "С учетом этого минуты округлены вверх для каждого звонка, а интернет-трафик округлен вверх до Гб - по итогам месяца. \n",
    "\n",
    "### Описание данных:\n",
    "###### Таблица users (информация о пользователях):\n",
    "user_id — уникальный идентификатор пользователя\\\n",
    "first_name — имя пользователя\\\n",
    "last_name — фамилия пользователя\\\n",
    "age — возраст пользователя (годы)\\\n",
    "reg_date — дата подключения тарифа (день, месяц, год)\\\n",
    "churn_date — дата прекращения пользования тарифом (если значение пропущено, то тариф ещё действовал на момент выгрузки данных)\\\n",
    "city — город проживания пользователя\\\n",
    "tarif — название тарифного плана\\\n",
    "\n",
    "###### Таблица calls (информация о звонках):\n",
    "id — уникальный номер звонка\n",
    "call_date — дата звонка\n",
    "duration — длительность звонка в минутах\n",
    "user_id — идентификатор пользователя, сделавшего звонок\n",
    "\n",
    "###### Таблица messages (информация о сообщениях):\\\n",
    "id — уникальный номер сообщения\\\n",
    "message_date — дата сообщения\\\n",
    "user_id — идентификатор пользователя, отправившего сообщение\\\n",
    "\n",
    "######  Таблица internet (информация об интернет-сессиях):\\\n",
    "id — уникальный номер сессии\\\n",
    "mb_used — объём потраченного за сессию интернет-трафика (в мегабайтах)\\\n",
    "session_date — дата интернет-сессии\\\n",
    "user_id — идентификатор пользователя\\\n",
    "\n",
    "###### Таблица tariffs (информация о тарифах):\\\n",
    "tariff_name — название тарифа\\\n",
    "rub_monthly_fee — ежемесячная абонентская плата в рублях\\\n",
    "minutes_included — количество минут разговора в месяц, включённых в абонентскую плату\\\n",
    "messages_included — количество сообщений в месяц, включённых в абонентскую плату\\\n",
    "mb_per_month_included — объём интернет-трафика, включённого в абонентскую плату (в мегабайтах)\\\n",
    "rub_per_minute — стоимость минуты разговора сверх тарифного пакета (например, если в тарифе 100 минут разговора в месяц, то со 101 минуты будет взиматься плата)\\\n",
    "rub_per_message — стоимость отправки сообщения сверх тарифного пакета\\\n",
    "rub_per_gb — стоимость дополнительного гигабайта интернет-трафика сверх тарифного пакета (1 гигабайт = 1024 мегабайта)\\"
   ]
  },
  {
   "cell_type": "code",
   "execution_count": 2,
   "metadata": {},
   "outputs": [],
   "source": [
    "import pandas as pd\n",
    "import matplotlib.pyplot as plt\n",
    "import math\n",
    "import numpy as np\n",
    "from scipy import stats as st\n",
    "\n",
    "df_calls = pd.read_csv('/datasets/calls.csv')\n",
    "df_internet = pd.read_csv('/datasets/internet.csv')\n",
    "df_messages = pd.read_csv('/datasets/messages.csv')\n",
    "df_tariffs = pd.read_csv('/datasets/tariffs.csv')\n",
    "df_users = pd.read_csv('/datasets/users.csv')"
   ]
  },
  {
   "cell_type": "markdown",
   "metadata": {},
   "source": [
    "##  Исследование данных"
   ]
  },
  {
   "cell_type": "markdown",
   "metadata": {},
   "source": [
    "### Анализ и обработка таблицы calls"
   ]
  },
  {
   "cell_type": "code",
   "execution_count": 3,
   "metadata": {
    "scrolled": true
   },
   "outputs": [
    {
     "name": "stdout",
     "output_type": "stream",
     "text": [
      "<class 'pandas.core.frame.DataFrame'>\n",
      "RangeIndex: 202607 entries, 0 to 202606\n",
      "Data columns (total 4 columns):\n",
      "id           202607 non-null object\n",
      "call_date    202607 non-null object\n",
      "duration     202607 non-null float64\n",
      "user_id      202607 non-null int64\n",
      "dtypes: float64(1), int64(1), object(2)\n",
      "memory usage: 6.2+ MB\n"
     ]
    },
    {
     "data": {
      "text/html": [
       "<div>\n",
       "<style scoped>\n",
       "    .dataframe tbody tr th:only-of-type {\n",
       "        vertical-align: middle;\n",
       "    }\n",
       "\n",
       "    .dataframe tbody tr th {\n",
       "        vertical-align: top;\n",
       "    }\n",
       "\n",
       "    .dataframe thead th {\n",
       "        text-align: right;\n",
       "    }\n",
       "</style>\n",
       "<table border=\"1\" class=\"dataframe\">\n",
       "  <thead>\n",
       "    <tr style=\"text-align: right;\">\n",
       "      <th></th>\n",
       "      <th>id</th>\n",
       "      <th>call_date</th>\n",
       "      <th>duration</th>\n",
       "      <th>user_id</th>\n",
       "    </tr>\n",
       "  </thead>\n",
       "  <tbody>\n",
       "    <tr>\n",
       "      <td>0</td>\n",
       "      <td>1000_0</td>\n",
       "      <td>2018-07-25</td>\n",
       "      <td>0.00</td>\n",
       "      <td>1000</td>\n",
       "    </tr>\n",
       "    <tr>\n",
       "      <td>1</td>\n",
       "      <td>1000_1</td>\n",
       "      <td>2018-08-17</td>\n",
       "      <td>0.00</td>\n",
       "      <td>1000</td>\n",
       "    </tr>\n",
       "    <tr>\n",
       "      <td>2</td>\n",
       "      <td>1000_2</td>\n",
       "      <td>2018-06-11</td>\n",
       "      <td>2.85</td>\n",
       "      <td>1000</td>\n",
       "    </tr>\n",
       "    <tr>\n",
       "      <td>3</td>\n",
       "      <td>1000_3</td>\n",
       "      <td>2018-09-21</td>\n",
       "      <td>13.80</td>\n",
       "      <td>1000</td>\n",
       "    </tr>\n",
       "    <tr>\n",
       "      <td>4</td>\n",
       "      <td>1000_4</td>\n",
       "      <td>2018-12-15</td>\n",
       "      <td>5.18</td>\n",
       "      <td>1000</td>\n",
       "    </tr>\n",
       "  </tbody>\n",
       "</table>\n",
       "</div>"
      ],
      "text/plain": [
       "       id   call_date  duration  user_id\n",
       "0  1000_0  2018-07-25      0.00     1000\n",
       "1  1000_1  2018-08-17      0.00     1000\n",
       "2  1000_2  2018-06-11      2.85     1000\n",
       "3  1000_3  2018-09-21     13.80     1000\n",
       "4  1000_4  2018-12-15      5.18     1000"
      ]
     },
     "execution_count": 3,
     "metadata": {},
     "output_type": "execute_result"
    }
   ],
   "source": [
    "df_calls.info()\n",
    "df_calls.head()"
   ]
  },
  {
   "cell_type": "markdown",
   "metadata": {},
   "source": [
    "Заменим тип данных в call_date на дату"
   ]
  },
  {
   "cell_type": "code",
   "execution_count": 4,
   "metadata": {},
   "outputs": [
    {
     "name": "stdout",
     "output_type": "stream",
     "text": [
      "<class 'pandas.core.frame.DataFrame'>\n",
      "RangeIndex: 202607 entries, 0 to 202606\n",
      "Data columns (total 4 columns):\n",
      "id           202607 non-null object\n",
      "call_date    202607 non-null datetime64[ns]\n",
      "duration     202607 non-null float64\n",
      "user_id      202607 non-null int64\n",
      "dtypes: datetime64[ns](1), float64(1), int64(1), object(1)\n",
      "memory usage: 6.2+ MB\n"
     ]
    }
   ],
   "source": [
    "df_calls['call_date'] = pd.to_datetime(df_calls['call_date'], format='%Y-%m-%d')\n",
    "df_calls.info()"
   ]
  },
  {
   "cell_type": "markdown",
   "metadata": {},
   "source": [
    "Посмотрим распределение данных"
   ]
  },
  {
   "cell_type": "code",
   "execution_count": 5,
   "metadata": {},
   "outputs": [
    {
     "data": {
      "image/png": "[encoded data removed]",
      "text/plain": [
       "<Figure size 432x288 with 1 Axes>"
      ]
     },
     "metadata": {
      "needs_background": "light"
     },
     "output_type": "display_data"
    },
    {
     "data": {
      "text/plain": [
       "'Среднее: 6.755887210214849'"
      ]
     },
     "metadata": {},
     "output_type": "display_data"
    },
    {
     "data": {
      "text/plain": [
       "'Медиана:6.0'"
      ]
     },
     "metadata": {},
     "output_type": "display_data"
    },
    {
     "data": {
      "image/png": "[encoded data removed]",
      "text/plain": [
       "<Figure size 432x288 with 1 Axes>"
      ]
     },
     "metadata": {
      "needs_background": "light"
     },
     "output_type": "display_data"
    },
    {
     "data": {
      "text/plain": [
       "'Среднее: 1253.9406190309319'"
      ]
     },
     "metadata": {},
     "output_type": "display_data"
    },
    {
     "data": {
      "text/plain": [
       "'Медиана:1260.0'"
      ]
     },
     "metadata": {},
     "output_type": "display_data"
    }
   ],
   "source": [
    "def hyst (df,column):\n",
    "    df.plot(kind='hist', y=column, bins = 100, title=column)\n",
    "    plt.xlabel(column)\n",
    "    plt.show( )\n",
    "\n",
    "columns = ['duration', 'user_id']\n",
    "for column in columns:\n",
    "    hyst(df_calls, column)\n",
    "    display(f\"Среднее: {df_calls[column].mean()}\")\n",
    "    display(f\"Медиана:{df_calls[column].median()}\")"
   ]
  },
  {
   "cell_type": "markdown",
   "metadata": {},
   "source": [
    "Исключим звонки длительностью 0 секунд, так как это пропущенные звонки, что не искажать средние показатели."
   ]
  },
  {
   "cell_type": "code",
   "execution_count": 6,
   "metadata": {},
   "outputs": [
    {
     "data": {
      "image/png": "[encoded data removed]",
      "text/plain": [
       "<Figure size 432x288 with 1 Axes>"
      ]
     },
     "metadata": {
      "needs_background": "light"
     },
     "output_type": "display_data"
    },
    {
     "data": {
      "text/plain": [
       "'Среднее: 8.39779402922807'"
      ]
     },
     "metadata": {},
     "output_type": "display_data"
    },
    {
     "data": {
      "text/plain": [
       "'Медиана:7.74'"
      ]
     },
     "metadata": {},
     "output_type": "display_data"
    },
    {
     "data": {
      "text/plain": [
       "'Максимум:38.0'"
      ]
     },
     "metadata": {},
     "output_type": "display_data"
    }
   ],
   "source": [
    "df_calls_edit = df_calls\n",
    "df_calls_edit = df_calls_edit[df_calls_edit['duration']>0]\n",
    "hyst(df_calls_edit, 'duration')\n",
    "display(f\"Среднее: {df_calls_edit['duration'].mean()}\")\n",
    "display(f\"Медиана:{df_calls_edit['duration'].median()}\")\n",
    "display(f\"Максимум:{df_calls_edit['duration'].max()}\")"
   ]
  },
  {
   "cell_type": "markdown",
   "metadata": {},
   "source": [
    "Динного хвоста нет. С данными можно работать."
   ]
  },
  {
   "cell_type": "markdown",
   "metadata": {},
   "source": [
    "### Анализ и обработка таблицы internet"
   ]
  },
  {
   "cell_type": "code",
   "execution_count": 7,
   "metadata": {},
   "outputs": [
    {
     "name": "stdout",
     "output_type": "stream",
     "text": [
      "<class 'pandas.core.frame.DataFrame'>\n",
      "RangeIndex: 149396 entries, 0 to 149395\n",
      "Data columns (total 5 columns):\n",
      "Unnamed: 0      149396 non-null int64\n",
      "id              149396 non-null object\n",
      "mb_used         149396 non-null float64\n",
      "session_date    149396 non-null object\n",
      "user_id         149396 non-null int64\n",
      "dtypes: float64(1), int64(2), object(2)\n",
      "memory usage: 5.7+ MB\n"
     ]
    },
    {
     "data": {
      "text/html": [
       "<div>\n",
       "<style scoped>\n",
       "    .dataframe tbody tr th:only-of-type {\n",
       "        vertical-align: middle;\n",
       "    }\n",
       "\n",
       "    .dataframe tbody tr th {\n",
       "        vertical-align: top;\n",
       "    }\n",
       "\n",
       "    .dataframe thead th {\n",
       "        text-align: right;\n",
       "    }\n",
       "</style>\n",
       "<table border=\"1\" class=\"dataframe\">\n",
       "  <thead>\n",
       "    <tr style=\"text-align: right;\">\n",
       "      <th></th>\n",
       "      <th>Unnamed: 0</th>\n",
       "      <th>id</th>\n",
       "      <th>mb_used</th>\n",
       "      <th>session_date</th>\n",
       "      <th>user_id</th>\n",
       "    </tr>\n",
       "  </thead>\n",
       "  <tbody>\n",
       "    <tr>\n",
       "      <td>0</td>\n",
       "      <td>0</td>\n",
       "      <td>1000_0</td>\n",
       "      <td>112.95</td>\n",
       "      <td>2018-11-25</td>\n",
       "      <td>1000</td>\n",
       "    </tr>\n",
       "    <tr>\n",
       "      <td>1</td>\n",
       "      <td>1</td>\n",
       "      <td>1000_1</td>\n",
       "      <td>1052.81</td>\n",
       "      <td>2018-09-07</td>\n",
       "      <td>1000</td>\n",
       "    </tr>\n",
       "    <tr>\n",
       "      <td>2</td>\n",
       "      <td>2</td>\n",
       "      <td>1000_2</td>\n",
       "      <td>1197.26</td>\n",
       "      <td>2018-06-25</td>\n",
       "      <td>1000</td>\n",
       "    </tr>\n",
       "    <tr>\n",
       "      <td>3</td>\n",
       "      <td>3</td>\n",
       "      <td>1000_3</td>\n",
       "      <td>550.27</td>\n",
       "      <td>2018-08-22</td>\n",
       "      <td>1000</td>\n",
       "    </tr>\n",
       "    <tr>\n",
       "      <td>4</td>\n",
       "      <td>4</td>\n",
       "      <td>1000_4</td>\n",
       "      <td>302.56</td>\n",
       "      <td>2018-09-24</td>\n",
       "      <td>1000</td>\n",
       "    </tr>\n",
       "  </tbody>\n",
       "</table>\n",
       "</div>"
      ],
      "text/plain": [
       "   Unnamed: 0      id  mb_used session_date  user_id\n",
       "0           0  1000_0   112.95   2018-11-25     1000\n",
       "1           1  1000_1  1052.81   2018-09-07     1000\n",
       "2           2  1000_2  1197.26   2018-06-25     1000\n",
       "3           3  1000_3   550.27   2018-08-22     1000\n",
       "4           4  1000_4   302.56   2018-09-24     1000"
      ]
     },
     "execution_count": 7,
     "metadata": {},
     "output_type": "execute_result"
    }
   ],
   "source": [
    "df_internet.info()\n",
    "df_internet.head()"
   ]
  },
  {
   "cell_type": "markdown",
   "metadata": {},
   "source": [
    "Заменим тип данных в session_date на дату"
   ]
  },
  {
   "cell_type": "code",
   "execution_count": 8,
   "metadata": {},
   "outputs": [
    {
     "name": "stdout",
     "output_type": "stream",
     "text": [
      "<class 'pandas.core.frame.DataFrame'>\n",
      "RangeIndex: 149396 entries, 0 to 149395\n",
      "Data columns (total 5 columns):\n",
      "Unnamed: 0      149396 non-null int64\n",
      "id              149396 non-null object\n",
      "mb_used         149396 non-null float64\n",
      "session_date    149396 non-null datetime64[ns]\n",
      "user_id         149396 non-null int64\n",
      "dtypes: datetime64[ns](1), float64(1), int64(2), object(1)\n",
      "memory usage: 5.7+ MB\n"
     ]
    }
   ],
   "source": [
    "df_internet['session_date'] = pd.to_datetime(df_internet['session_date'], format='%Y-%m-%d')\n",
    "df_internet.info()"
   ]
  },
  {
   "cell_type": "markdown",
   "metadata": {},
   "source": [
    "Посмотрим распределение данных"
   ]
  },
  {
   "cell_type": "code",
   "execution_count": 9,
   "metadata": {},
   "outputs": [
    {
     "data": {
      "image/png": "[encoded data removed]",
      "text/plain": [
       "<Figure size 432x288 with 1 Axes>"
      ]
     },
     "metadata": {
      "needs_background": "light"
     },
     "output_type": "display_data"
    },
    {
     "data": {
      "text/plain": [
       "'Среднее: 370.1924263701839'"
      ]
     },
     "metadata": {},
     "output_type": "display_data"
    },
    {
     "data": {
      "text/plain": [
       "'Медиана:348.015'"
      ]
     },
     "metadata": {},
     "output_type": "display_data"
    },
    {
     "data": {
      "image/png": "[encoded data removed]",
      "text/plain": [
       "<Figure size 432x288 with 1 Axes>"
      ]
     },
     "metadata": {
      "needs_background": "light"
     },
     "output_type": "display_data"
    },
    {
     "data": {
      "text/plain": [
       "'Среднее: 1252.0998420305764'"
      ]
     },
     "metadata": {},
     "output_type": "display_data"
    },
    {
     "data": {
      "text/plain": [
       "'Медиана:1251.0'"
      ]
     },
     "metadata": {},
     "output_type": "display_data"
    },
    {
     "data": {
      "text/plain": [
       "'Минимум:0.0'"
      ]
     },
     "metadata": {},
     "output_type": "display_data"
    }
   ],
   "source": [
    "columns = ['mb_used', 'user_id']\n",
    "for column in columns:\n",
    "    hyst(df_internet, column)\n",
    "    display(f\"Среднее: {df_internet[column].mean()}\")\n",
    "    display(f\"Медиана:{df_internet[column].median()}\")\n",
    "display(f\"Минимум:{df_internet['mb_used'].min()}\")"
   ]
  },
  {
   "cell_type": "markdown",
   "metadata": {},
   "source": [
    "Так как для веб-трафика отдельные сессии не считаются, а считается общая сумма за месяц, то нет смысла исклбчать нулевые сессии."
   ]
  },
  {
   "cell_type": "markdown",
   "metadata": {},
   "source": [
    "### Анализ и обработка таблицы messages"
   ]
  },
  {
   "cell_type": "code",
   "execution_count": 10,
   "metadata": {},
   "outputs": [
    {
     "name": "stdout",
     "output_type": "stream",
     "text": [
      "<class 'pandas.core.frame.DataFrame'>\n",
      "RangeIndex: 123036 entries, 0 to 123035\n",
      "Data columns (total 3 columns):\n",
      "id              123036 non-null object\n",
      "message_date    123036 non-null object\n",
      "user_id         123036 non-null int64\n",
      "dtypes: int64(1), object(2)\n",
      "memory usage: 2.8+ MB\n"
     ]
    },
    {
     "data": {
      "text/html": [
       "<div>\n",
       "<style scoped>\n",
       "    .dataframe tbody tr th:only-of-type {\n",
       "        vertical-align: middle;\n",
       "    }\n",
       "\n",
       "    .dataframe tbody tr th {\n",
       "        vertical-align: top;\n",
       "    }\n",
       "\n",
       "    .dataframe thead th {\n",
       "        text-align: right;\n",
       "    }\n",
       "</style>\n",
       "<table border=\"1\" class=\"dataframe\">\n",
       "  <thead>\n",
       "    <tr style=\"text-align: right;\">\n",
       "      <th></th>\n",
       "      <th>id</th>\n",
       "      <th>message_date</th>\n",
       "      <th>user_id</th>\n",
       "    </tr>\n",
       "  </thead>\n",
       "  <tbody>\n",
       "    <tr>\n",
       "      <td>0</td>\n",
       "      <td>1000_0</td>\n",
       "      <td>2018-06-27</td>\n",
       "      <td>1000</td>\n",
       "    </tr>\n",
       "    <tr>\n",
       "      <td>1</td>\n",
       "      <td>1000_1</td>\n",
       "      <td>2018-10-08</td>\n",
       "      <td>1000</td>\n",
       "    </tr>\n",
       "    <tr>\n",
       "      <td>2</td>\n",
       "      <td>1000_2</td>\n",
       "      <td>2018-08-04</td>\n",
       "      <td>1000</td>\n",
       "    </tr>\n",
       "    <tr>\n",
       "      <td>3</td>\n",
       "      <td>1000_3</td>\n",
       "      <td>2018-06-16</td>\n",
       "      <td>1000</td>\n",
       "    </tr>\n",
       "    <tr>\n",
       "      <td>4</td>\n",
       "      <td>1000_4</td>\n",
       "      <td>2018-12-05</td>\n",
       "      <td>1000</td>\n",
       "    </tr>\n",
       "  </tbody>\n",
       "</table>\n",
       "</div>"
      ],
      "text/plain": [
       "       id message_date  user_id\n",
       "0  1000_0   2018-06-27     1000\n",
       "1  1000_1   2018-10-08     1000\n",
       "2  1000_2   2018-08-04     1000\n",
       "3  1000_3   2018-06-16     1000\n",
       "4  1000_4   2018-12-05     1000"
      ]
     },
     "execution_count": 10,
     "metadata": {},
     "output_type": "execute_result"
    }
   ],
   "source": [
    "df_messages.info()\n",
    "df_messages.head()"
   ]
  },
  {
   "cell_type": "markdown",
   "metadata": {},
   "source": [
    "Заменим тип данных в message_date на дату"
   ]
  },
  {
   "cell_type": "code",
   "execution_count": 11,
   "metadata": {},
   "outputs": [
    {
     "name": "stdout",
     "output_type": "stream",
     "text": [
      "<class 'pandas.core.frame.DataFrame'>\n",
      "RangeIndex: 123036 entries, 0 to 123035\n",
      "Data columns (total 3 columns):\n",
      "id              123036 non-null object\n",
      "message_date    123036 non-null datetime64[ns]\n",
      "user_id         123036 non-null int64\n",
      "dtypes: datetime64[ns](1), int64(1), object(1)\n",
      "memory usage: 2.8+ MB\n"
     ]
    }
   ],
   "source": [
    "df_messages['message_date'] = pd.to_datetime(df_messages['message_date'], format='%Y-%m-%d')\n",
    "df_messages.info()"
   ]
  },
  {
   "cell_type": "markdown",
   "metadata": {},
   "source": [
    "Посмотрим распределение данных"
   ]
  },
  {
   "cell_type": "code",
   "execution_count": 12,
   "metadata": {},
   "outputs": [
    {
     "data": {
      "image/png": "[encoded data removed]",
      "text/plain": [
       "<Figure size 432x288 with 1 Axes>"
      ]
     },
     "metadata": {
      "needs_background": "light"
     },
     "output_type": "display_data"
    },
    {
     "data": {
      "text/plain": [
       "'Среднее: 1256.9894096036933'"
      ]
     },
     "metadata": {},
     "output_type": "display_data"
    },
    {
     "data": {
      "text/plain": [
       "'Медиана:1271.0'"
      ]
     },
     "metadata": {},
     "output_type": "display_data"
    }
   ],
   "source": [
    "hyst(df_messages, 'user_id')\n",
    "display(f\"Среднее: {df_messages['user_id'].mean()}\")\n",
    "display(f\"Медиана:{df_messages['user_id'].median()}\")\n"
   ]
  },
  {
   "cell_type": "markdown",
   "metadata": {},
   "source": [
    "### Анализ и обработка таблицы tariffs"
   ]
  },
  {
   "cell_type": "code",
   "execution_count": 13,
   "metadata": {
    "scrolled": true
   },
   "outputs": [
    {
     "name": "stdout",
     "output_type": "stream",
     "text": [
      "<class 'pandas.core.frame.DataFrame'>\n",
      "RangeIndex: 2 entries, 0 to 1\n",
      "Data columns (total 8 columns):\n",
      "messages_included        2 non-null int64\n",
      "mb_per_month_included    2 non-null int64\n",
      "minutes_included         2 non-null int64\n",
      "rub_monthly_fee          2 non-null int64\n",
      "rub_per_gb               2 non-null int64\n",
      "rub_per_message          2 non-null int64\n",
      "rub_per_minute           2 non-null int64\n",
      "tariff_name              2 non-null object\n",
      "dtypes: int64(7), object(1)\n",
      "memory usage: 256.0+ bytes\n"
     ]
    },
    {
     "data": {
      "text/html": [
       "<div>\n",
       "<style scoped>\n",
       "    .dataframe tbody tr th:only-of-type {\n",
       "        vertical-align: middle;\n",
       "    }\n",
       "\n",
       "    .dataframe tbody tr th {\n",
       "        vertical-align: top;\n",
       "    }\n",
       "\n",
       "    .dataframe thead th {\n",
       "        text-align: right;\n",
       "    }\n",
       "</style>\n",
       "<table border=\"1\" class=\"dataframe\">\n",
       "  <thead>\n",
       "    <tr style=\"text-align: right;\">\n",
       "      <th></th>\n",
       "      <th>messages_included</th>\n",
       "      <th>mb_per_month_included</th>\n",
       "      <th>minutes_included</th>\n",
       "      <th>rub_monthly_fee</th>\n",
       "      <th>rub_per_gb</th>\n",
       "      <th>rub_per_message</th>\n",
       "      <th>rub_per_minute</th>\n",
       "      <th>tariff_name</th>\n",
       "    </tr>\n",
       "  </thead>\n",
       "  <tbody>\n",
       "    <tr>\n",
       "      <td>0</td>\n",
       "      <td>50</td>\n",
       "      <td>15360</td>\n",
       "      <td>500</td>\n",
       "      <td>550</td>\n",
       "      <td>200</td>\n",
       "      <td>3</td>\n",
       "      <td>3</td>\n",
       "      <td>smart</td>\n",
       "    </tr>\n",
       "    <tr>\n",
       "      <td>1</td>\n",
       "      <td>1000</td>\n",
       "      <td>30720</td>\n",
       "      <td>3000</td>\n",
       "      <td>1950</td>\n",
       "      <td>150</td>\n",
       "      <td>1</td>\n",
       "      <td>1</td>\n",
       "      <td>ultra</td>\n",
       "    </tr>\n",
       "  </tbody>\n",
       "</table>\n",
       "</div>"
      ],
      "text/plain": [
       "   messages_included  mb_per_month_included  minutes_included  \\\n",
       "0                 50                  15360               500   \n",
       "1               1000                  30720              3000   \n",
       "\n",
       "   rub_monthly_fee  rub_per_gb  rub_per_message  rub_per_minute tariff_name  \n",
       "0              550         200                3               3       smart  \n",
       "1             1950         150                1               1       ultra  "
      ]
     },
     "execution_count": 13,
     "metadata": {},
     "output_type": "execute_result"
    }
   ],
   "source": [
    "df_tariffs.info()\n",
    "df_tariffs"
   ]
  },
  {
   "cell_type": "markdown",
   "metadata": {},
   "source": [
    "для удобства в работе сделаем индексом названия тарифов"
   ]
  },
  {
   "cell_type": "code",
   "execution_count": 14,
   "metadata": {},
   "outputs": [],
   "source": [
    "df_tariffs = df_tariffs.set_index('tariff_name')"
   ]
  },
  {
   "cell_type": "markdown",
   "metadata": {},
   "source": [
    "### Анализ и обработка таблицы users"
   ]
  },
  {
   "cell_type": "code",
   "execution_count": 15,
   "metadata": {},
   "outputs": [
    {
     "name": "stdout",
     "output_type": "stream",
     "text": [
      "<class 'pandas.core.frame.DataFrame'>\n",
      "RangeIndex: 500 entries, 0 to 499\n",
      "Data columns (total 8 columns):\n",
      "user_id       500 non-null int64\n",
      "age           500 non-null int64\n",
      "churn_date    38 non-null object\n",
      "city          500 non-null object\n",
      "first_name    500 non-null object\n",
      "last_name     500 non-null object\n",
      "reg_date      500 non-null object\n",
      "tariff        500 non-null object\n",
      "dtypes: int64(2), object(6)\n",
      "memory usage: 31.4+ KB\n"
     ]
    },
    {
     "data": {
      "text/html": [
       "<div>\n",
       "<style scoped>\n",
       "    .dataframe tbody tr th:only-of-type {\n",
       "        vertical-align: middle;\n",
       "    }\n",
       "\n",
       "    .dataframe tbody tr th {\n",
       "        vertical-align: top;\n",
       "    }\n",
       "\n",
       "    .dataframe thead th {\n",
       "        text-align: right;\n",
       "    }\n",
       "</style>\n",
       "<table border=\"1\" class=\"dataframe\">\n",
       "  <thead>\n",
       "    <tr style=\"text-align: right;\">\n",
       "      <th></th>\n",
       "      <th>user_id</th>\n",
       "      <th>age</th>\n",
       "      <th>churn_date</th>\n",
       "      <th>city</th>\n",
       "      <th>first_name</th>\n",
       "      <th>last_name</th>\n",
       "      <th>reg_date</th>\n",
       "      <th>tariff</th>\n",
       "    </tr>\n",
       "  </thead>\n",
       "  <tbody>\n",
       "    <tr>\n",
       "      <td>0</td>\n",
       "      <td>1000</td>\n",
       "      <td>52</td>\n",
       "      <td>NaN</td>\n",
       "      <td>Краснодар</td>\n",
       "      <td>Рафаил</td>\n",
       "      <td>Верещагин</td>\n",
       "      <td>2018-05-25</td>\n",
       "      <td>ultra</td>\n",
       "    </tr>\n",
       "    <tr>\n",
       "      <td>1</td>\n",
       "      <td>1001</td>\n",
       "      <td>41</td>\n",
       "      <td>NaN</td>\n",
       "      <td>Москва</td>\n",
       "      <td>Иван</td>\n",
       "      <td>Ежов</td>\n",
       "      <td>2018-11-01</td>\n",
       "      <td>smart</td>\n",
       "    </tr>\n",
       "    <tr>\n",
       "      <td>2</td>\n",
       "      <td>1002</td>\n",
       "      <td>59</td>\n",
       "      <td>NaN</td>\n",
       "      <td>Стерлитамак</td>\n",
       "      <td>Евгений</td>\n",
       "      <td>Абрамович</td>\n",
       "      <td>2018-06-17</td>\n",
       "      <td>smart</td>\n",
       "    </tr>\n",
       "    <tr>\n",
       "      <td>3</td>\n",
       "      <td>1003</td>\n",
       "      <td>23</td>\n",
       "      <td>NaN</td>\n",
       "      <td>Москва</td>\n",
       "      <td>Белла</td>\n",
       "      <td>Белякова</td>\n",
       "      <td>2018-08-17</td>\n",
       "      <td>ultra</td>\n",
       "    </tr>\n",
       "    <tr>\n",
       "      <td>4</td>\n",
       "      <td>1004</td>\n",
       "      <td>68</td>\n",
       "      <td>NaN</td>\n",
       "      <td>Новокузнецк</td>\n",
       "      <td>Татьяна</td>\n",
       "      <td>Авдеенко</td>\n",
       "      <td>2018-05-14</td>\n",
       "      <td>ultra</td>\n",
       "    </tr>\n",
       "  </tbody>\n",
       "</table>\n",
       "</div>"
      ],
      "text/plain": [
       "   user_id  age churn_date         city first_name  last_name    reg_date  \\\n",
       "0     1000   52        NaN    Краснодар     Рафаил  Верещагин  2018-05-25   \n",
       "1     1001   41        NaN       Москва       Иван       Ежов  2018-11-01   \n",
       "2     1002   59        NaN  Стерлитамак    Евгений  Абрамович  2018-06-17   \n",
       "3     1003   23        NaN       Москва      Белла   Белякова  2018-08-17   \n",
       "4     1004   68        NaN  Новокузнецк    Татьяна   Авдеенко  2018-05-14   \n",
       "\n",
       "  tariff  \n",
       "0  ultra  \n",
       "1  smart  \n",
       "2  smart  \n",
       "3  ultra  \n",
       "4  ultra  "
      ]
     },
     "execution_count": 15,
     "metadata": {},
     "output_type": "execute_result"
    }
   ],
   "source": [
    "df_users.info()\n",
    "df_users.head()"
   ]
  },
  {
   "cell_type": "code",
   "execution_count": 16,
   "metadata": {},
   "outputs": [
    {
     "data": {
      "text/plain": [
       "500"
      ]
     },
     "execution_count": 16,
     "metadata": {},
     "output_type": "execute_result"
    }
   ],
   "source": [
    "len(df_users['user_id'].unique())# уникальных абонентов 500, столько же записей. Значит нет абонентов, у которых было 2 тарифа в году."
   ]
  },
  {
   "cell_type": "markdown",
   "metadata": {},
   "source": [
    "Проверим столбец city на неявные дубликаты."
   ]
  },
  {
   "cell_type": "code",
   "execution_count": 17,
   "metadata": {},
   "outputs": [
    {
     "data": {
      "text/plain": [
       "array(['Краснодар', 'Москва', 'Стерлитамак', 'Новокузнецк',\n",
       "       'Набережные Челны', 'Ульяновск', 'Челябинск', 'Пермь', 'Тюмень',\n",
       "       'Самара', 'Санкт-Петербург', 'Иваново', 'Чебоксары', 'Омск', 'Уфа',\n",
       "       'Томск', 'Чита', 'Мурманск', 'Петрозаводск', 'Тверь',\n",
       "       'Екатеринбург', 'Махачкала', 'Вологда', 'Череповец', 'Ярославль',\n",
       "       'Сочи', 'Хабаровск', 'Ставрополь', 'Рязань', 'Улан-Удэ', 'Тула',\n",
       "       'Саратов', 'Ростов-на-Дону', 'Казань', 'Иркутск', 'Курск',\n",
       "       'Калуга', 'Якутск', 'Астрахань', 'Химки', 'Владикавказ',\n",
       "       'Волгоград', 'Саранск', 'Ижевск', 'Новосибирск', 'Брянск',\n",
       "       'Тольятти', 'Нижний Тагил', 'Орёл', 'Белгород', 'Воронеж',\n",
       "       'Волжский', 'Курган', 'Барнаул', 'Красноярск', 'Архангельск',\n",
       "       'Липецк', 'Кемерово', 'Киров', 'Сургут', 'Пенза', 'Магнитогорск',\n",
       "       'Нижний Новгород', 'Кострома', 'Владивосток', 'Тамбов', 'Балашиха',\n",
       "       'Севастополь', 'Калининград', 'Оренбург', 'Смоленск',\n",
       "       'Нижневартовск', 'Владимир', 'Новороссийск', 'Грозный', 'Подольск'],\n",
       "      dtype=object)"
      ]
     },
     "execution_count": 17,
     "metadata": {},
     "output_type": "execute_result"
    }
   ],
   "source": [
    "df_users['city'].unique()"
   ]
  },
  {
   "cell_type": "markdown",
   "metadata": {},
   "source": [
    "Славно, что все в порядке))"
   ]
  },
  {
   "cell_type": "markdown",
   "metadata": {},
   "source": [
    "## Подготовка данных"
   ]
  },
  {
   "cell_type": "markdown",
   "metadata": {},
   "source": [
    "### Расчет количества сделанных звонков и израсходованных минут разговора по месяцам по пользователям"
   ]
  },
  {
   "cell_type": "code",
   "execution_count": 23,
   "metadata": {},
   "outputs": [
    {
     "name": "stderr",
     "output_type": "stream",
     "text": [
      "/opt/conda/lib/python3.7/site-packages/ipykernel_launcher.py:1: SettingWithCopyWarning: \n",
      "A value is trying to be set on a copy of a slice from a DataFrame.\n",
      "Try using .loc[row_indexer,col_indexer] = value instead\n",
      "\n",
      "See the caveats in the documentation: http://pandas.pydata.org/pandas-docs/stable/user_guide/indexing.html#returning-a-view-versus-a-copy\n",
      "  \"\"\"Entry point for launching an IPython kernel.\n",
      "/opt/conda/lib/python3.7/site-packages/ipykernel_launcher.py:8: SettingWithCopyWarning: \n",
      "A value is trying to be set on a copy of a slice from a DataFrame.\n",
      "Try using .loc[row_indexer,col_indexer] = value instead\n",
      "\n",
      "See the caveats in the documentation: http://pandas.pydata.org/pandas-docs/stable/user_guide/indexing.html#returning-a-view-versus-a-copy\n",
      "  \n"
     ]
    },
    {
     "data": {
      "text/html": [
       "<div>\n",
       "<style scoped>\n",
       "    .dataframe tbody tr th:only-of-type {\n",
       "        vertical-align: middle;\n",
       "    }\n",
       "\n",
       "    .dataframe tbody tr th {\n",
       "        vertical-align: top;\n",
       "    }\n",
       "\n",
       "    .dataframe thead th {\n",
       "        text-align: right;\n",
       "    }\n",
       "</style>\n",
       "<table border=\"1\" class=\"dataframe\">\n",
       "  <thead>\n",
       "    <tr style=\"text-align: right;\">\n",
       "      <th></th>\n",
       "      <th>user_id</th>\n",
       "      <th>month</th>\n",
       "      <th>calls_number</th>\n",
       "      <th>minutes</th>\n",
       "    </tr>\n",
       "  </thead>\n",
       "  <tbody>\n",
       "    <tr>\n",
       "      <td>0</td>\n",
       "      <td>1000</td>\n",
       "      <td>5</td>\n",
       "      <td>17</td>\n",
       "      <td>159</td>\n",
       "    </tr>\n",
       "    <tr>\n",
       "      <td>1</td>\n",
       "      <td>1000</td>\n",
       "      <td>6</td>\n",
       "      <td>28</td>\n",
       "      <td>172</td>\n",
       "    </tr>\n",
       "    <tr>\n",
       "      <td>2</td>\n",
       "      <td>1000</td>\n",
       "      <td>7</td>\n",
       "      <td>41</td>\n",
       "      <td>340</td>\n",
       "    </tr>\n",
       "    <tr>\n",
       "      <td>3</td>\n",
       "      <td>1000</td>\n",
       "      <td>8</td>\n",
       "      <td>42</td>\n",
       "      <td>408</td>\n",
       "    </tr>\n",
       "    <tr>\n",
       "      <td>4</td>\n",
       "      <td>1000</td>\n",
       "      <td>9</td>\n",
       "      <td>46</td>\n",
       "      <td>466</td>\n",
       "    </tr>\n",
       "    <tr>\n",
       "      <td>...</td>\n",
       "      <td>...</td>\n",
       "      <td>...</td>\n",
       "      <td>...</td>\n",
       "      <td>...</td>\n",
       "    </tr>\n",
       "    <tr>\n",
       "      <td>3163</td>\n",
       "      <td>1498</td>\n",
       "      <td>10</td>\n",
       "      <td>30</td>\n",
       "      <td>247</td>\n",
       "    </tr>\n",
       "    <tr>\n",
       "      <td>3164</td>\n",
       "      <td>1499</td>\n",
       "      <td>9</td>\n",
       "      <td>8</td>\n",
       "      <td>70</td>\n",
       "    </tr>\n",
       "    <tr>\n",
       "      <td>3165</td>\n",
       "      <td>1499</td>\n",
       "      <td>10</td>\n",
       "      <td>44</td>\n",
       "      <td>449</td>\n",
       "    </tr>\n",
       "    <tr>\n",
       "      <td>3166</td>\n",
       "      <td>1499</td>\n",
       "      <td>11</td>\n",
       "      <td>62</td>\n",
       "      <td>612</td>\n",
       "    </tr>\n",
       "    <tr>\n",
       "      <td>3167</td>\n",
       "      <td>1499</td>\n",
       "      <td>12</td>\n",
       "      <td>56</td>\n",
       "      <td>492</td>\n",
       "    </tr>\n",
       "  </tbody>\n",
       "</table>\n",
       "<p>3168 rows × 4 columns</p>\n",
       "</div>"
      ],
      "text/plain": [
       "      user_id  month  calls_number  minutes\n",
       "0        1000      5            17      159\n",
       "1        1000      6            28      172\n",
       "2        1000      7            41      340\n",
       "3        1000      8            42      408\n",
       "4        1000      9            46      466\n",
       "...       ...    ...           ...      ...\n",
       "3163     1498     10            30      247\n",
       "3164     1499      9             8       70\n",
       "3165     1499     10            44      449\n",
       "3166     1499     11            62      612\n",
       "3167     1499     12            56      492\n",
       "\n",
       "[3168 rows x 4 columns]"
      ]
     },
     "metadata": {},
     "output_type": "display_data"
    }
   ],
   "source": [
    "df_calls_edit['month'] = pd.DatetimeIndex(df_calls_edit['call_date']).month #добавим месяц, для группирковки\n",
    "\n",
    "def roundup (row): \n",
    "    \"\"\"\n",
    "    округляет значение в строке вверх\n",
    "    \"\"\"\n",
    "    return math.ceil(row['duration'])\n",
    "df_calls_edit['minutes'] = df_calls_edit.apply(roundup, axis=1)\n",
    "calls_per_user = pd.pivot_table(df_calls_edit, index=('user_id','month'), values = 'minutes', aggfunc=('count', 'sum')).reset_index()\n",
    "calls_per_user.rename(columns={'count': 'calls_number', 'sum': 'minutes'}, inplace=True)\n",
    "display(calls_per_user)"
   ]
  },
  {
   "cell_type": "markdown",
   "metadata": {},
   "source": [
    "### Расчет количества отправленных сообщений по месяцам по пользователям"
   ]
  },
  {
   "cell_type": "code",
   "execution_count": 19,
   "metadata": {},
   "outputs": [
    {
     "data": {
      "text/html": [
       "<div>\n",
       "<style scoped>\n",
       "    .dataframe tbody tr th:only-of-type {\n",
       "        vertical-align: middle;\n",
       "    }\n",
       "\n",
       "    .dataframe tbody tr th {\n",
       "        vertical-align: top;\n",
       "    }\n",
       "\n",
       "    .dataframe thead th {\n",
       "        text-align: right;\n",
       "    }\n",
       "</style>\n",
       "<table border=\"1\" class=\"dataframe\">\n",
       "  <thead>\n",
       "    <tr style=\"text-align: right;\">\n",
       "      <th></th>\n",
       "      <th>user_id</th>\n",
       "      <th>month</th>\n",
       "      <th>messages</th>\n",
       "    </tr>\n",
       "  </thead>\n",
       "  <tbody>\n",
       "    <tr>\n",
       "      <td>0</td>\n",
       "      <td>1000</td>\n",
       "      <td>5</td>\n",
       "      <td>22</td>\n",
       "    </tr>\n",
       "    <tr>\n",
       "      <td>1</td>\n",
       "      <td>1000</td>\n",
       "      <td>6</td>\n",
       "      <td>60</td>\n",
       "    </tr>\n",
       "    <tr>\n",
       "      <td>2</td>\n",
       "      <td>1000</td>\n",
       "      <td>7</td>\n",
       "      <td>75</td>\n",
       "    </tr>\n",
       "    <tr>\n",
       "      <td>3</td>\n",
       "      <td>1000</td>\n",
       "      <td>8</td>\n",
       "      <td>81</td>\n",
       "    </tr>\n",
       "    <tr>\n",
       "      <td>4</td>\n",
       "      <td>1000</td>\n",
       "      <td>9</td>\n",
       "      <td>57</td>\n",
       "    </tr>\n",
       "    <tr>\n",
       "      <td>...</td>\n",
       "      <td>...</td>\n",
       "      <td>...</td>\n",
       "      <td>...</td>\n",
       "    </tr>\n",
       "    <tr>\n",
       "      <td>2712</td>\n",
       "      <td>1498</td>\n",
       "      <td>10</td>\n",
       "      <td>42</td>\n",
       "    </tr>\n",
       "    <tr>\n",
       "      <td>2713</td>\n",
       "      <td>1499</td>\n",
       "      <td>9</td>\n",
       "      <td>11</td>\n",
       "    </tr>\n",
       "    <tr>\n",
       "      <td>2714</td>\n",
       "      <td>1499</td>\n",
       "      <td>10</td>\n",
       "      <td>48</td>\n",
       "    </tr>\n",
       "    <tr>\n",
       "      <td>2715</td>\n",
       "      <td>1499</td>\n",
       "      <td>11</td>\n",
       "      <td>59</td>\n",
       "    </tr>\n",
       "    <tr>\n",
       "      <td>2716</td>\n",
       "      <td>1499</td>\n",
       "      <td>12</td>\n",
       "      <td>66</td>\n",
       "    </tr>\n",
       "  </tbody>\n",
       "</table>\n",
       "<p>2717 rows × 3 columns</p>\n",
       "</div>"
      ],
      "text/plain": [
       "      user_id  month  messages\n",
       "0        1000      5        22\n",
       "1        1000      6        60\n",
       "2        1000      7        75\n",
       "3        1000      8        81\n",
       "4        1000      9        57\n",
       "...       ...    ...       ...\n",
       "2712     1498     10        42\n",
       "2713     1499      9        11\n",
       "2714     1499     10        48\n",
       "2715     1499     11        59\n",
       "2716     1499     12        66\n",
       "\n",
       "[2717 rows x 3 columns]"
      ]
     },
     "metadata": {},
     "output_type": "display_data"
    }
   ],
   "source": [
    "df_messages['month'] = pd.DatetimeIndex(df_messages['message_date']).month #добавим месяц, для группирковки\n",
    "messages_per_user = pd.pivot_table(df_messages, index=['user_id', 'month'], values = 'id', aggfunc='count').reset_index()\n",
    "messages_per_user.rename(columns={'id': 'messages'}, inplace=True)\n",
    "display(messages_per_user)"
   ]
  },
  {
   "cell_type": "markdown",
   "metadata": {},
   "source": [
    "### Расчет объема израсходованного интернет-трафика по месяцам по пользователям"
   ]
  },
  {
   "cell_type": "code",
   "execution_count": 24,
   "metadata": {},
   "outputs": [
    {
     "data": {
      "text/html": [
       "<div>\n",
       "<style scoped>\n",
       "    .dataframe tbody tr th:only-of-type {\n",
       "        vertical-align: middle;\n",
       "    }\n",
       "\n",
       "    .dataframe tbody tr th {\n",
       "        vertical-align: top;\n",
       "    }\n",
       "\n",
       "    .dataframe thead th {\n",
       "        text-align: right;\n",
       "    }\n",
       "</style>\n",
       "<table border=\"1\" class=\"dataframe\">\n",
       "  <thead>\n",
       "    <tr style=\"text-align: right;\">\n",
       "      <th></th>\n",
       "      <th>user_id</th>\n",
       "      <th>month</th>\n",
       "      <th>mb_used</th>\n",
       "    </tr>\n",
       "  </thead>\n",
       "  <tbody>\n",
       "    <tr>\n",
       "      <td>0</td>\n",
       "      <td>1000</td>\n",
       "      <td>5</td>\n",
       "      <td>2253.49</td>\n",
       "    </tr>\n",
       "    <tr>\n",
       "      <td>1</td>\n",
       "      <td>1000</td>\n",
       "      <td>6</td>\n",
       "      <td>23233.77</td>\n",
       "    </tr>\n",
       "    <tr>\n",
       "      <td>2</td>\n",
       "      <td>1000</td>\n",
       "      <td>7</td>\n",
       "      <td>14003.64</td>\n",
       "    </tr>\n",
       "    <tr>\n",
       "      <td>3</td>\n",
       "      <td>1000</td>\n",
       "      <td>8</td>\n",
       "      <td>14055.93</td>\n",
       "    </tr>\n",
       "    <tr>\n",
       "      <td>4</td>\n",
       "      <td>1000</td>\n",
       "      <td>9</td>\n",
       "      <td>14568.91</td>\n",
       "    </tr>\n",
       "    <tr>\n",
       "      <td>...</td>\n",
       "      <td>...</td>\n",
       "      <td>...</td>\n",
       "      <td>...</td>\n",
       "    </tr>\n",
       "    <tr>\n",
       "      <td>3198</td>\n",
       "      <td>1498</td>\n",
       "      <td>10</td>\n",
       "      <td>20579.36</td>\n",
       "    </tr>\n",
       "    <tr>\n",
       "      <td>3199</td>\n",
       "      <td>1499</td>\n",
       "      <td>9</td>\n",
       "      <td>1845.75</td>\n",
       "    </tr>\n",
       "    <tr>\n",
       "      <td>3200</td>\n",
       "      <td>1499</td>\n",
       "      <td>10</td>\n",
       "      <td>17788.51</td>\n",
       "    </tr>\n",
       "    <tr>\n",
       "      <td>3201</td>\n",
       "      <td>1499</td>\n",
       "      <td>11</td>\n",
       "      <td>17963.31</td>\n",
       "    </tr>\n",
       "    <tr>\n",
       "      <td>3202</td>\n",
       "      <td>1499</td>\n",
       "      <td>12</td>\n",
       "      <td>13055.58</td>\n",
       "    </tr>\n",
       "  </tbody>\n",
       "</table>\n",
       "<p>3203 rows × 3 columns</p>\n",
       "</div>"
      ],
      "text/plain": [
       "      user_id  month   mb_used\n",
       "0        1000      5   2253.49\n",
       "1        1000      6  23233.77\n",
       "2        1000      7  14003.64\n",
       "3        1000      8  14055.93\n",
       "4        1000      9  14568.91\n",
       "...       ...    ...       ...\n",
       "3198     1498     10  20579.36\n",
       "3199     1499      9   1845.75\n",
       "3200     1499     10  17788.51\n",
       "3201     1499     11  17963.31\n",
       "3202     1499     12  13055.58\n",
       "\n",
       "[3203 rows x 3 columns]"
      ]
     },
     "metadata": {},
     "output_type": "display_data"
    }
   ],
   "source": [
    "df_internet['month'] = pd.DatetimeIndex(df_internet['session_date']).month #добавим месяц, для группирковки\n",
    "internet_per_user = pd.pivot_table(df_internet, index=['user_id', 'month'], values = 'mb_used', aggfunc='sum').reset_index()\n",
    "display(internet_per_user)"
   ]
  },
  {
   "cell_type": "markdown",
   "metadata": {},
   "source": [
    "Объединим таблицы с помесячными данными в одну."
   ]
  },
  {
   "cell_type": "code",
   "execution_count": 35,
   "metadata": {},
   "outputs": [
    {
     "data": {
      "text/html": [
       "<div>\n",
       "<style scoped>\n",
       "    .dataframe tbody tr th:only-of-type {\n",
       "        vertical-align: middle;\n",
       "    }\n",
       "\n",
       "    .dataframe tbody tr th {\n",
       "        vertical-align: top;\n",
       "    }\n",
       "\n",
       "    .dataframe thead th {\n",
       "        text-align: right;\n",
       "    }\n",
       "</style>\n",
       "<table border=\"1\" class=\"dataframe\">\n",
       "  <thead>\n",
       "    <tr style=\"text-align: right;\">\n",
       "      <th></th>\n",
       "      <th>month</th>\n",
       "      <th>user_id</th>\n",
       "      <th>calls_number</th>\n",
       "      <th>minutes</th>\n",
       "      <th>messages</th>\n",
       "      <th>mb_used</th>\n",
       "      <th>age</th>\n",
       "      <th>churn_date</th>\n",
       "      <th>city</th>\n",
       "      <th>first_name</th>\n",
       "      <th>last_name</th>\n",
       "      <th>reg_date</th>\n",
       "      <th>tariff</th>\n",
       "      <th>gb</th>\n",
       "    </tr>\n",
       "  </thead>\n",
       "  <tbody>\n",
       "    <tr>\n",
       "      <td>0</td>\n",
       "      <td>1</td>\n",
       "      <td>1005</td>\n",
       "      <td>11.0</td>\n",
       "      <td>95.0</td>\n",
       "      <td>7.0</td>\n",
       "      <td>2727.97</td>\n",
       "      <td>67</td>\n",
       "      <td>NaN</td>\n",
       "      <td>Набережные Челны</td>\n",
       "      <td>Афанасий</td>\n",
       "      <td>Горлов</td>\n",
       "      <td>2018-01-25</td>\n",
       "      <td>smart</td>\n",
       "      <td>3.0</td>\n",
       "    </tr>\n",
       "    <tr>\n",
       "      <td>1</td>\n",
       "      <td>2</td>\n",
       "      <td>1005</td>\n",
       "      <td>55.0</td>\n",
       "      <td>456.0</td>\n",
       "      <td>38.0</td>\n",
       "      <td>7383.93</td>\n",
       "      <td>67</td>\n",
       "      <td>NaN</td>\n",
       "      <td>Набережные Челны</td>\n",
       "      <td>Афанасий</td>\n",
       "      <td>Горлов</td>\n",
       "      <td>2018-01-25</td>\n",
       "      <td>smart</td>\n",
       "      <td>8.0</td>\n",
       "    </tr>\n",
       "    <tr>\n",
       "      <td>2</td>\n",
       "      <td>3</td>\n",
       "      <td>1005</td>\n",
       "      <td>63.0</td>\n",
       "      <td>606.0</td>\n",
       "      <td>56.0</td>\n",
       "      <td>11104.25</td>\n",
       "      <td>67</td>\n",
       "      <td>NaN</td>\n",
       "      <td>Набережные Челны</td>\n",
       "      <td>Афанасий</td>\n",
       "      <td>Горлов</td>\n",
       "      <td>2018-01-25</td>\n",
       "      <td>smart</td>\n",
       "      <td>11.0</td>\n",
       "    </tr>\n",
       "    <tr>\n",
       "      <td>3</td>\n",
       "      <td>4</td>\n",
       "      <td>1005</td>\n",
       "      <td>77.0</td>\n",
       "      <td>712.0</td>\n",
       "      <td>41.0</td>\n",
       "      <td>9351.72</td>\n",
       "      <td>67</td>\n",
       "      <td>NaN</td>\n",
       "      <td>Набережные Челны</td>\n",
       "      <td>Афанасий</td>\n",
       "      <td>Горлов</td>\n",
       "      <td>2018-01-25</td>\n",
       "      <td>smart</td>\n",
       "      <td>10.0</td>\n",
       "    </tr>\n",
       "    <tr>\n",
       "      <td>4</td>\n",
       "      <td>5</td>\n",
       "      <td>1005</td>\n",
       "      <td>62.0</td>\n",
       "      <td>595.0</td>\n",
       "      <td>42.0</td>\n",
       "      <td>7865.53</td>\n",
       "      <td>67</td>\n",
       "      <td>NaN</td>\n",
       "      <td>Набережные Челны</td>\n",
       "      <td>Афанасий</td>\n",
       "      <td>Горлов</td>\n",
       "      <td>2018-01-25</td>\n",
       "      <td>smart</td>\n",
       "      <td>8.0</td>\n",
       "    </tr>\n",
       "    <tr>\n",
       "      <td>...</td>\n",
       "      <td>...</td>\n",
       "      <td>...</td>\n",
       "      <td>...</td>\n",
       "      <td>...</td>\n",
       "      <td>...</td>\n",
       "      <td>...</td>\n",
       "      <td>...</td>\n",
       "      <td>...</td>\n",
       "      <td>...</td>\n",
       "      <td>...</td>\n",
       "      <td>...</td>\n",
       "      <td>...</td>\n",
       "      <td>...</td>\n",
       "      <td>...</td>\n",
       "    </tr>\n",
       "    <tr>\n",
       "      <td>3209</td>\n",
       "      <td>11</td>\n",
       "      <td>1489</td>\n",
       "      <td>NaN</td>\n",
       "      <td>NaN</td>\n",
       "      <td>20.0</td>\n",
       "      <td>17491.56</td>\n",
       "      <td>35</td>\n",
       "      <td>NaN</td>\n",
       "      <td>Санкт-Петербург</td>\n",
       "      <td>Павел</td>\n",
       "      <td>Гончаров</td>\n",
       "      <td>2018-08-15</td>\n",
       "      <td>smart</td>\n",
       "      <td>18.0</td>\n",
       "    </tr>\n",
       "    <tr>\n",
       "      <td>3210</td>\n",
       "      <td>12</td>\n",
       "      <td>1489</td>\n",
       "      <td>NaN</td>\n",
       "      <td>NaN</td>\n",
       "      <td>35.0</td>\n",
       "      <td>17322.51</td>\n",
       "      <td>35</td>\n",
       "      <td>NaN</td>\n",
       "      <td>Санкт-Петербург</td>\n",
       "      <td>Павел</td>\n",
       "      <td>Гончаров</td>\n",
       "      <td>2018-08-15</td>\n",
       "      <td>smart</td>\n",
       "      <td>17.0</td>\n",
       "    </tr>\n",
       "    <tr>\n",
       "      <td>3211</td>\n",
       "      <td>10</td>\n",
       "      <td>1328</td>\n",
       "      <td>NaN</td>\n",
       "      <td>NaN</td>\n",
       "      <td>6.0</td>\n",
       "      <td>22427.98</td>\n",
       "      <td>44</td>\n",
       "      <td>NaN</td>\n",
       "      <td>Мурманск</td>\n",
       "      <td>Рауль</td>\n",
       "      <td>Аркадьев</td>\n",
       "      <td>2018-10-16</td>\n",
       "      <td>ultra</td>\n",
       "      <td>22.0</td>\n",
       "    </tr>\n",
       "    <tr>\n",
       "      <td>3212</td>\n",
       "      <td>11</td>\n",
       "      <td>1328</td>\n",
       "      <td>NaN</td>\n",
       "      <td>NaN</td>\n",
       "      <td>8.0</td>\n",
       "      <td>35525.58</td>\n",
       "      <td>44</td>\n",
       "      <td>NaN</td>\n",
       "      <td>Мурманск</td>\n",
       "      <td>Рауль</td>\n",
       "      <td>Аркадьев</td>\n",
       "      <td>2018-10-16</td>\n",
       "      <td>ultra</td>\n",
       "      <td>35.0</td>\n",
       "    </tr>\n",
       "    <tr>\n",
       "      <td>3213</td>\n",
       "      <td>12</td>\n",
       "      <td>1328</td>\n",
       "      <td>NaN</td>\n",
       "      <td>NaN</td>\n",
       "      <td>7.0</td>\n",
       "      <td>39419.73</td>\n",
       "      <td>44</td>\n",
       "      <td>NaN</td>\n",
       "      <td>Мурманск</td>\n",
       "      <td>Рауль</td>\n",
       "      <td>Аркадьев</td>\n",
       "      <td>2018-10-16</td>\n",
       "      <td>ultra</td>\n",
       "      <td>39.0</td>\n",
       "    </tr>\n",
       "  </tbody>\n",
       "</table>\n",
       "<p>3214 rows × 14 columns</p>\n",
       "</div>"
      ],
      "text/plain": [
       "      month  user_id  calls_number  minutes  messages   mb_used  age  \\\n",
       "0         1     1005          11.0     95.0       7.0   2727.97   67   \n",
       "1         2     1005          55.0    456.0      38.0   7383.93   67   \n",
       "2         3     1005          63.0    606.0      56.0  11104.25   67   \n",
       "3         4     1005          77.0    712.0      41.0   9351.72   67   \n",
       "4         5     1005          62.0    595.0      42.0   7865.53   67   \n",
       "...     ...      ...           ...      ...       ...       ...  ...   \n",
       "3209     11     1489           NaN      NaN      20.0  17491.56   35   \n",
       "3210     12     1489           NaN      NaN      35.0  17322.51   35   \n",
       "3211     10     1328           NaN      NaN       6.0  22427.98   44   \n",
       "3212     11     1328           NaN      NaN       8.0  35525.58   44   \n",
       "3213     12     1328           NaN      NaN       7.0  39419.73   44   \n",
       "\n",
       "     churn_date              city first_name last_name    reg_date tariff  \\\n",
       "0           NaN  Набережные Челны   Афанасий    Горлов  2018-01-25  smart   \n",
       "1           NaN  Набережные Челны   Афанасий    Горлов  2018-01-25  smart   \n",
       "2           NaN  Набережные Челны   Афанасий    Горлов  2018-01-25  smart   \n",
       "3           NaN  Набережные Челны   Афанасий    Горлов  2018-01-25  smart   \n",
       "4           NaN  Набережные Челны   Афанасий    Горлов  2018-01-25  smart   \n",
       "...         ...               ...        ...       ...         ...    ...   \n",
       "3209        NaN   Санкт-Петербург      Павел  Гончаров  2018-08-15  smart   \n",
       "3210        NaN   Санкт-Петербург      Павел  Гончаров  2018-08-15  smart   \n",
       "3211        NaN          Мурманск      Рауль  Аркадьев  2018-10-16  ultra   \n",
       "3212        NaN          Мурманск      Рауль  Аркадьев  2018-10-16  ultra   \n",
       "3213        NaN          Мурманск      Рауль  Аркадьев  2018-10-16  ultra   \n",
       "\n",
       "        gb  \n",
       "0      3.0  \n",
       "1      8.0  \n",
       "2     11.0  \n",
       "3     10.0  \n",
       "4      8.0  \n",
       "...    ...  \n",
       "3209  18.0  \n",
       "3210  17.0  \n",
       "3211  22.0  \n",
       "3212  35.0  \n",
       "3213  39.0  \n",
       "\n",
       "[3214 rows x 14 columns]"
      ]
     },
     "metadata": {},
     "output_type": "display_data"
    }
   ],
   "source": [
    "common = calls_per_user.merge(messages_per_user, on = ['month', 'user_id'], how='outer')\n",
    "common = common.merge(internet_per_user, on = ['month', 'user_id'], how='outer')\n",
    "common = common.merge(df_users, on = 'user_id', how='inner')\n",
    "common['gb'] = np.ceil(common['mb_used']/1024)\n",
    "display (common)"
   ]
  },
  {
   "cell_type": "markdown",
   "metadata": {},
   "source": [
    "При объединении получилась таблица, в которой у некоторых абонентов за месяц не было\n",
    "Заменим пропуски на нули и установим для целочисленных значений тип integer."
   ]
  },
  {
   "cell_type": "code",
   "execution_count": 36,
   "metadata": {},
   "outputs": [
    {
     "name": "stdout",
     "output_type": "stream",
     "text": [
      "<class 'pandas.core.frame.DataFrame'>\n",
      "Int64Index: 3214 entries, 0 to 3213\n",
      "Data columns (total 14 columns):\n",
      "month           3214 non-null int64\n",
      "user_id         3214 non-null int64\n",
      "calls_number    3214 non-null int64\n",
      "minutes         3214 non-null int64\n",
      "messages        3214 non-null int64\n",
      "mb_used         3214 non-null float64\n",
      "age             3214 non-null int64\n",
      "churn_date      3214 non-null object\n",
      "city            3214 non-null object\n",
      "first_name      3214 non-null object\n",
      "last_name       3214 non-null object\n",
      "reg_date        3214 non-null object\n",
      "tariff          3214 non-null object\n",
      "gb              3214 non-null int64\n",
      "dtypes: float64(1), int64(7), object(6)\n",
      "memory usage: 376.6+ KB\n"
     ]
    },
    {
     "data": {
      "text/html": [
       "<div>\n",
       "<style scoped>\n",
       "    .dataframe tbody tr th:only-of-type {\n",
       "        vertical-align: middle;\n",
       "    }\n",
       "\n",
       "    .dataframe tbody tr th {\n",
       "        vertical-align: top;\n",
       "    }\n",
       "\n",
       "    .dataframe thead th {\n",
       "        text-align: right;\n",
       "    }\n",
       "</style>\n",
       "<table border=\"1\" class=\"dataframe\">\n",
       "  <thead>\n",
       "    <tr style=\"text-align: right;\">\n",
       "      <th></th>\n",
       "      <th>month</th>\n",
       "      <th>user_id</th>\n",
       "      <th>calls_number</th>\n",
       "      <th>minutes</th>\n",
       "      <th>messages</th>\n",
       "      <th>mb_used</th>\n",
       "      <th>age</th>\n",
       "      <th>churn_date</th>\n",
       "      <th>city</th>\n",
       "      <th>first_name</th>\n",
       "      <th>last_name</th>\n",
       "      <th>reg_date</th>\n",
       "      <th>tariff</th>\n",
       "      <th>gb</th>\n",
       "    </tr>\n",
       "  </thead>\n",
       "  <tbody>\n",
       "    <tr>\n",
       "      <td>0</td>\n",
       "      <td>1</td>\n",
       "      <td>1005</td>\n",
       "      <td>11</td>\n",
       "      <td>95</td>\n",
       "      <td>7</td>\n",
       "      <td>2727.97</td>\n",
       "      <td>67</td>\n",
       "      <td>0</td>\n",
       "      <td>Набережные Челны</td>\n",
       "      <td>Афанасий</td>\n",
       "      <td>Горлов</td>\n",
       "      <td>2018-01-25</td>\n",
       "      <td>smart</td>\n",
       "      <td>3</td>\n",
       "    </tr>\n",
       "    <tr>\n",
       "      <td>1</td>\n",
       "      <td>2</td>\n",
       "      <td>1005</td>\n",
       "      <td>55</td>\n",
       "      <td>456</td>\n",
       "      <td>38</td>\n",
       "      <td>7383.93</td>\n",
       "      <td>67</td>\n",
       "      <td>0</td>\n",
       "      <td>Набережные Челны</td>\n",
       "      <td>Афанасий</td>\n",
       "      <td>Горлов</td>\n",
       "      <td>2018-01-25</td>\n",
       "      <td>smart</td>\n",
       "      <td>8</td>\n",
       "    </tr>\n",
       "    <tr>\n",
       "      <td>2</td>\n",
       "      <td>3</td>\n",
       "      <td>1005</td>\n",
       "      <td>63</td>\n",
       "      <td>606</td>\n",
       "      <td>56</td>\n",
       "      <td>11104.25</td>\n",
       "      <td>67</td>\n",
       "      <td>0</td>\n",
       "      <td>Набережные Челны</td>\n",
       "      <td>Афанасий</td>\n",
       "      <td>Горлов</td>\n",
       "      <td>2018-01-25</td>\n",
       "      <td>smart</td>\n",
       "      <td>11</td>\n",
       "    </tr>\n",
       "    <tr>\n",
       "      <td>3</td>\n",
       "      <td>4</td>\n",
       "      <td>1005</td>\n",
       "      <td>77</td>\n",
       "      <td>712</td>\n",
       "      <td>41</td>\n",
       "      <td>9351.72</td>\n",
       "      <td>67</td>\n",
       "      <td>0</td>\n",
       "      <td>Набережные Челны</td>\n",
       "      <td>Афанасий</td>\n",
       "      <td>Горлов</td>\n",
       "      <td>2018-01-25</td>\n",
       "      <td>smart</td>\n",
       "      <td>10</td>\n",
       "    </tr>\n",
       "    <tr>\n",
       "      <td>4</td>\n",
       "      <td>5</td>\n",
       "      <td>1005</td>\n",
       "      <td>62</td>\n",
       "      <td>595</td>\n",
       "      <td>42</td>\n",
       "      <td>7865.53</td>\n",
       "      <td>67</td>\n",
       "      <td>0</td>\n",
       "      <td>Набережные Челны</td>\n",
       "      <td>Афанасий</td>\n",
       "      <td>Горлов</td>\n",
       "      <td>2018-01-25</td>\n",
       "      <td>smart</td>\n",
       "      <td>8</td>\n",
       "    </tr>\n",
       "    <tr>\n",
       "      <td>...</td>\n",
       "      <td>...</td>\n",
       "      <td>...</td>\n",
       "      <td>...</td>\n",
       "      <td>...</td>\n",
       "      <td>...</td>\n",
       "      <td>...</td>\n",
       "      <td>...</td>\n",
       "      <td>...</td>\n",
       "      <td>...</td>\n",
       "      <td>...</td>\n",
       "      <td>...</td>\n",
       "      <td>...</td>\n",
       "      <td>...</td>\n",
       "      <td>...</td>\n",
       "    </tr>\n",
       "    <tr>\n",
       "      <td>3209</td>\n",
       "      <td>11</td>\n",
       "      <td>1489</td>\n",
       "      <td>0</td>\n",
       "      <td>0</td>\n",
       "      <td>20</td>\n",
       "      <td>17491.56</td>\n",
       "      <td>35</td>\n",
       "      <td>0</td>\n",
       "      <td>Санкт-Петербург</td>\n",
       "      <td>Павел</td>\n",
       "      <td>Гончаров</td>\n",
       "      <td>2018-08-15</td>\n",
       "      <td>smart</td>\n",
       "      <td>18</td>\n",
       "    </tr>\n",
       "    <tr>\n",
       "      <td>3210</td>\n",
       "      <td>12</td>\n",
       "      <td>1489</td>\n",
       "      <td>0</td>\n",
       "      <td>0</td>\n",
       "      <td>35</td>\n",
       "      <td>17322.51</td>\n",
       "      <td>35</td>\n",
       "      <td>0</td>\n",
       "      <td>Санкт-Петербург</td>\n",
       "      <td>Павел</td>\n",
       "      <td>Гончаров</td>\n",
       "      <td>2018-08-15</td>\n",
       "      <td>smart</td>\n",
       "      <td>17</td>\n",
       "    </tr>\n",
       "    <tr>\n",
       "      <td>3211</td>\n",
       "      <td>10</td>\n",
       "      <td>1328</td>\n",
       "      <td>0</td>\n",
       "      <td>0</td>\n",
       "      <td>6</td>\n",
       "      <td>22427.98</td>\n",
       "      <td>44</td>\n",
       "      <td>0</td>\n",
       "      <td>Мурманск</td>\n",
       "      <td>Рауль</td>\n",
       "      <td>Аркадьев</td>\n",
       "      <td>2018-10-16</td>\n",
       "      <td>ultra</td>\n",
       "      <td>22</td>\n",
       "    </tr>\n",
       "    <tr>\n",
       "      <td>3212</td>\n",
       "      <td>11</td>\n",
       "      <td>1328</td>\n",
       "      <td>0</td>\n",
       "      <td>0</td>\n",
       "      <td>8</td>\n",
       "      <td>35525.58</td>\n",
       "      <td>44</td>\n",
       "      <td>0</td>\n",
       "      <td>Мурманск</td>\n",
       "      <td>Рауль</td>\n",
       "      <td>Аркадьев</td>\n",
       "      <td>2018-10-16</td>\n",
       "      <td>ultra</td>\n",
       "      <td>35</td>\n",
       "    </tr>\n",
       "    <tr>\n",
       "      <td>3213</td>\n",
       "      <td>12</td>\n",
       "      <td>1328</td>\n",
       "      <td>0</td>\n",
       "      <td>0</td>\n",
       "      <td>7</td>\n",
       "      <td>39419.73</td>\n",
       "      <td>44</td>\n",
       "      <td>0</td>\n",
       "      <td>Мурманск</td>\n",
       "      <td>Рауль</td>\n",
       "      <td>Аркадьев</td>\n",
       "      <td>2018-10-16</td>\n",
       "      <td>ultra</td>\n",
       "      <td>39</td>\n",
       "    </tr>\n",
       "  </tbody>\n",
       "</table>\n",
       "<p>3214 rows × 14 columns</p>\n",
       "</div>"
      ],
      "text/plain": [
       "      month  user_id  calls_number  minutes  messages   mb_used  age  \\\n",
       "0         1     1005            11       95         7   2727.97   67   \n",
       "1         2     1005            55      456        38   7383.93   67   \n",
       "2         3     1005            63      606        56  11104.25   67   \n",
       "3         4     1005            77      712        41   9351.72   67   \n",
       "4         5     1005            62      595        42   7865.53   67   \n",
       "...     ...      ...           ...      ...       ...       ...  ...   \n",
       "3209     11     1489             0        0        20  17491.56   35   \n",
       "3210     12     1489             0        0        35  17322.51   35   \n",
       "3211     10     1328             0        0         6  22427.98   44   \n",
       "3212     11     1328             0        0         8  35525.58   44   \n",
       "3213     12     1328             0        0         7  39419.73   44   \n",
       "\n",
       "     churn_date              city first_name last_name    reg_date tariff  gb  \n",
       "0             0  Набережные Челны   Афанасий    Горлов  2018-01-25  smart   3  \n",
       "1             0  Набережные Челны   Афанасий    Горлов  2018-01-25  smart   8  \n",
       "2             0  Набережные Челны   Афанасий    Горлов  2018-01-25  smart  11  \n",
       "3             0  Набережные Челны   Афанасий    Горлов  2018-01-25  smart  10  \n",
       "4             0  Набережные Челны   Афанасий    Горлов  2018-01-25  smart   8  \n",
       "...         ...               ...        ...       ...         ...    ...  ..  \n",
       "3209          0   Санкт-Петербург      Павел  Гончаров  2018-08-15  smart  18  \n",
       "3210          0   Санкт-Петербург      Павел  Гончаров  2018-08-15  smart  17  \n",
       "3211          0          Мурманск      Рауль  Аркадьев  2018-10-16  ultra  22  \n",
       "3212          0          Мурманск      Рауль  Аркадьев  2018-10-16  ultra  35  \n",
       "3213          0          Мурманск      Рауль  Аркадьев  2018-10-16  ultra  39  \n",
       "\n",
       "[3214 rows x 14 columns]"
      ]
     },
     "metadata": {},
     "output_type": "display_data"
    }
   ],
   "source": [
    "common=common.fillna(0)\n",
    "columns = ['calls_number', 'minutes', 'messages', 'gb']\n",
    "for column in columns:\n",
    "    common[column] = common[column].astype('int')\n",
    "common.info()\n",
    "display (common)"
   ]
  },
  {
   "cell_type": "markdown",
   "metadata": {},
   "source": [
    "### Расчет помесячной выручки с каждого пользователя"
   ]
  },
  {
   "cell_type": "code",
   "execution_count": 37,
   "metadata": {},
   "outputs": [
    {
     "data": {
      "text/html": [
       "<div>\n",
       "<style scoped>\n",
       "    .dataframe tbody tr th:only-of-type {\n",
       "        vertical-align: middle;\n",
       "    }\n",
       "\n",
       "    .dataframe tbody tr th {\n",
       "        vertical-align: top;\n",
       "    }\n",
       "\n",
       "    .dataframe thead th {\n",
       "        text-align: right;\n",
       "    }\n",
       "</style>\n",
       "<table border=\"1\" class=\"dataframe\">\n",
       "  <thead>\n",
       "    <tr style=\"text-align: right;\">\n",
       "      <th></th>\n",
       "      <th>month</th>\n",
       "      <th>user_id</th>\n",
       "      <th>calls_number</th>\n",
       "      <th>minutes</th>\n",
       "      <th>messages</th>\n",
       "      <th>mb_used</th>\n",
       "      <th>age</th>\n",
       "      <th>churn_date</th>\n",
       "      <th>city</th>\n",
       "      <th>first_name</th>\n",
       "      <th>last_name</th>\n",
       "      <th>reg_date</th>\n",
       "      <th>tariff</th>\n",
       "      <th>gb</th>\n",
       "      <th>revenue</th>\n",
       "    </tr>\n",
       "  </thead>\n",
       "  <tbody>\n",
       "    <tr>\n",
       "      <td>0</td>\n",
       "      <td>1</td>\n",
       "      <td>1005</td>\n",
       "      <td>11</td>\n",
       "      <td>95</td>\n",
       "      <td>7</td>\n",
       "      <td>2727.97</td>\n",
       "      <td>67</td>\n",
       "      <td>0</td>\n",
       "      <td>Набережные Челны</td>\n",
       "      <td>Афанасий</td>\n",
       "      <td>Горлов</td>\n",
       "      <td>2018-01-25</td>\n",
       "      <td>smart</td>\n",
       "      <td>3</td>\n",
       "      <td>550.0</td>\n",
       "    </tr>\n",
       "    <tr>\n",
       "      <td>1</td>\n",
       "      <td>2</td>\n",
       "      <td>1005</td>\n",
       "      <td>55</td>\n",
       "      <td>456</td>\n",
       "      <td>38</td>\n",
       "      <td>7383.93</td>\n",
       "      <td>67</td>\n",
       "      <td>0</td>\n",
       "      <td>Набережные Челны</td>\n",
       "      <td>Афанасий</td>\n",
       "      <td>Горлов</td>\n",
       "      <td>2018-01-25</td>\n",
       "      <td>smart</td>\n",
       "      <td>8</td>\n",
       "      <td>550.0</td>\n",
       "    </tr>\n",
       "    <tr>\n",
       "      <td>2</td>\n",
       "      <td>3</td>\n",
       "      <td>1005</td>\n",
       "      <td>63</td>\n",
       "      <td>606</td>\n",
       "      <td>56</td>\n",
       "      <td>11104.25</td>\n",
       "      <td>67</td>\n",
       "      <td>0</td>\n",
       "      <td>Набережные Челны</td>\n",
       "      <td>Афанасий</td>\n",
       "      <td>Горлов</td>\n",
       "      <td>2018-01-25</td>\n",
       "      <td>smart</td>\n",
       "      <td>11</td>\n",
       "      <td>886.0</td>\n",
       "    </tr>\n",
       "    <tr>\n",
       "      <td>3</td>\n",
       "      <td>4</td>\n",
       "      <td>1005</td>\n",
       "      <td>77</td>\n",
       "      <td>712</td>\n",
       "      <td>41</td>\n",
       "      <td>9351.72</td>\n",
       "      <td>67</td>\n",
       "      <td>0</td>\n",
       "      <td>Набережные Челны</td>\n",
       "      <td>Афанасий</td>\n",
       "      <td>Горлов</td>\n",
       "      <td>2018-01-25</td>\n",
       "      <td>smart</td>\n",
       "      <td>10</td>\n",
       "      <td>1186.0</td>\n",
       "    </tr>\n",
       "    <tr>\n",
       "      <td>4</td>\n",
       "      <td>5</td>\n",
       "      <td>1005</td>\n",
       "      <td>62</td>\n",
       "      <td>595</td>\n",
       "      <td>42</td>\n",
       "      <td>7865.53</td>\n",
       "      <td>67</td>\n",
       "      <td>0</td>\n",
       "      <td>Набережные Челны</td>\n",
       "      <td>Афанасий</td>\n",
       "      <td>Горлов</td>\n",
       "      <td>2018-01-25</td>\n",
       "      <td>smart</td>\n",
       "      <td>8</td>\n",
       "      <td>835.0</td>\n",
       "    </tr>\n",
       "    <tr>\n",
       "      <td>...</td>\n",
       "      <td>...</td>\n",
       "      <td>...</td>\n",
       "      <td>...</td>\n",
       "      <td>...</td>\n",
       "      <td>...</td>\n",
       "      <td>...</td>\n",
       "      <td>...</td>\n",
       "      <td>...</td>\n",
       "      <td>...</td>\n",
       "      <td>...</td>\n",
       "      <td>...</td>\n",
       "      <td>...</td>\n",
       "      <td>...</td>\n",
       "      <td>...</td>\n",
       "      <td>...</td>\n",
       "    </tr>\n",
       "    <tr>\n",
       "      <td>3209</td>\n",
       "      <td>11</td>\n",
       "      <td>1489</td>\n",
       "      <td>0</td>\n",
       "      <td>0</td>\n",
       "      <td>20</td>\n",
       "      <td>17491.56</td>\n",
       "      <td>35</td>\n",
       "      <td>0</td>\n",
       "      <td>Санкт-Петербург</td>\n",
       "      <td>Павел</td>\n",
       "      <td>Гончаров</td>\n",
       "      <td>2018-08-15</td>\n",
       "      <td>smart</td>\n",
       "      <td>18</td>\n",
       "      <td>1150.0</td>\n",
       "    </tr>\n",
       "    <tr>\n",
       "      <td>3210</td>\n",
       "      <td>12</td>\n",
       "      <td>1489</td>\n",
       "      <td>0</td>\n",
       "      <td>0</td>\n",
       "      <td>35</td>\n",
       "      <td>17322.51</td>\n",
       "      <td>35</td>\n",
       "      <td>0</td>\n",
       "      <td>Санкт-Петербург</td>\n",
       "      <td>Павел</td>\n",
       "      <td>Гончаров</td>\n",
       "      <td>2018-08-15</td>\n",
       "      <td>smart</td>\n",
       "      <td>17</td>\n",
       "      <td>950.0</td>\n",
       "    </tr>\n",
       "    <tr>\n",
       "      <td>3211</td>\n",
       "      <td>10</td>\n",
       "      <td>1328</td>\n",
       "      <td>0</td>\n",
       "      <td>0</td>\n",
       "      <td>6</td>\n",
       "      <td>22427.98</td>\n",
       "      <td>44</td>\n",
       "      <td>0</td>\n",
       "      <td>Мурманск</td>\n",
       "      <td>Рауль</td>\n",
       "      <td>Аркадьев</td>\n",
       "      <td>2018-10-16</td>\n",
       "      <td>ultra</td>\n",
       "      <td>22</td>\n",
       "      <td>1950.0</td>\n",
       "    </tr>\n",
       "    <tr>\n",
       "      <td>3212</td>\n",
       "      <td>11</td>\n",
       "      <td>1328</td>\n",
       "      <td>0</td>\n",
       "      <td>0</td>\n",
       "      <td>8</td>\n",
       "      <td>35525.58</td>\n",
       "      <td>44</td>\n",
       "      <td>0</td>\n",
       "      <td>Мурманск</td>\n",
       "      <td>Рауль</td>\n",
       "      <td>Аркадьев</td>\n",
       "      <td>2018-10-16</td>\n",
       "      <td>ultra</td>\n",
       "      <td>35</td>\n",
       "      <td>2700.0</td>\n",
       "    </tr>\n",
       "    <tr>\n",
       "      <td>3213</td>\n",
       "      <td>12</td>\n",
       "      <td>1328</td>\n",
       "      <td>0</td>\n",
       "      <td>0</td>\n",
       "      <td>7</td>\n",
       "      <td>39419.73</td>\n",
       "      <td>44</td>\n",
       "      <td>0</td>\n",
       "      <td>Мурманск</td>\n",
       "      <td>Рауль</td>\n",
       "      <td>Аркадьев</td>\n",
       "      <td>2018-10-16</td>\n",
       "      <td>ultra</td>\n",
       "      <td>39</td>\n",
       "      <td>3300.0</td>\n",
       "    </tr>\n",
       "  </tbody>\n",
       "</table>\n",
       "<p>3214 rows × 15 columns</p>\n",
       "</div>"
      ],
      "text/plain": [
       "      month  user_id  calls_number  minutes  messages   mb_used  age  \\\n",
       "0         1     1005            11       95         7   2727.97   67   \n",
       "1         2     1005            55      456        38   7383.93   67   \n",
       "2         3     1005            63      606        56  11104.25   67   \n",
       "3         4     1005            77      712        41   9351.72   67   \n",
       "4         5     1005            62      595        42   7865.53   67   \n",
       "...     ...      ...           ...      ...       ...       ...  ...   \n",
       "3209     11     1489             0        0        20  17491.56   35   \n",
       "3210     12     1489             0        0        35  17322.51   35   \n",
       "3211     10     1328             0        0         6  22427.98   44   \n",
       "3212     11     1328             0        0         8  35525.58   44   \n",
       "3213     12     1328             0        0         7  39419.73   44   \n",
       "\n",
       "     churn_date              city first_name last_name    reg_date tariff  gb  \\\n",
       "0             0  Набережные Челны   Афанасий    Горлов  2018-01-25  smart   3   \n",
       "1             0  Набережные Челны   Афанасий    Горлов  2018-01-25  smart   8   \n",
       "2             0  Набережные Челны   Афанасий    Горлов  2018-01-25  smart  11   \n",
       "3             0  Набережные Челны   Афанасий    Горлов  2018-01-25  smart  10   \n",
       "4             0  Набережные Челны   Афанасий    Горлов  2018-01-25  smart   8   \n",
       "...         ...               ...        ...       ...         ...    ...  ..   \n",
       "3209          0   Санкт-Петербург      Павел  Гончаров  2018-08-15  smart  18   \n",
       "3210          0   Санкт-Петербург      Павел  Гончаров  2018-08-15  smart  17   \n",
       "3211          0          Мурманск      Рауль  Аркадьев  2018-10-16  ultra  22   \n",
       "3212          0          Мурманск      Рауль  Аркадьев  2018-10-16  ultra  35   \n",
       "3213          0          Мурманск      Рауль  Аркадьев  2018-10-16  ultra  39   \n",
       "\n",
       "      revenue  \n",
       "0       550.0  \n",
       "1       550.0  \n",
       "2       886.0  \n",
       "3      1186.0  \n",
       "4       835.0  \n",
       "...       ...  \n",
       "3209   1150.0  \n",
       "3210    950.0  \n",
       "3211   1950.0  \n",
       "3212   2700.0  \n",
       "3213   3300.0  \n",
       "\n",
       "[3214 rows x 15 columns]"
      ]
     },
     "metadata": {},
     "output_type": "display_data"
    }
   ],
   "source": [
    "def revenue (row):\n",
    "    tariff = row['tariff'] #определяем тариф для строки\n",
    "\n",
    "    monthly_fee = df_tariffs.loc[tariff,'rub_monthly_fee']\n",
    "    per_minute = df_tariffs.loc[tariff,'rub_per_minute'] \n",
    "    per_message = df_tariffs.loc[tariff,'rub_per_message']\n",
    "    per_gb = df_tariffs.loc[tariff,'rub_per_gb']\n",
    "\n",
    "    minutes_included = df_tariffs.loc[tariff,'minutes_included']\n",
    "    messages_included = df_tariffs.loc[tariff,'messages_included'] \n",
    "    gb_included = df_tariffs.loc[tariff,'mb_per_month_included']/1024\n",
    "    \n",
    "    # стоимость за звонки, сообщения, Гб сверх пакета:\n",
    "    minutes_сharge = 0\n",
    "    messages_сharge = 0\n",
    "    gb_сharge = 0\n",
    "    if (row['minutes']-minutes_included)>0: \n",
    "        minutes_сharge = (row['minutes']-minutes_included)*per_minute\n",
    "    if (row['messages']-messages_included)>0: \n",
    "        messages_сharge = (row['messages']-messages_included)*per_message\n",
    "    if (row['gb']-gb_included)>0: \n",
    "        gb_сharge = (row['gb']-gb_included)*per_gb\n",
    "\n",
    "    revenue = monthly_fee + minutes_сharge + messages_сharge + gb_сharge\n",
    "    return revenue\n",
    "        \n",
    "common['revenue'] = common.apply(revenue, axis=1)\n",
    "display(common)"
   ]
  },
  {
   "cell_type": "markdown",
   "metadata": {},
   "source": [
    "## Анализ данных"
   ]
  },
  {
   "cell_type": "code",
   "execution_count": 38,
   "metadata": {
    "scrolled": false
   },
   "outputs": [
    {
     "data": {
      "image/png": "[encoded data removed]",
      "text/plain": [
       "<Figure size 432x288 with 1 Axes>"
      ]
     },
     "metadata": {
      "needs_background": "light"
     },
     "output_type": "display_data"
    },
    {
     "data": {
      "text/plain": [
       "'Среднее: 418'"
      ]
     },
     "metadata": {},
     "output_type": "display_data"
    },
    {
     "data": {
      "text/plain": [
       "'Медиана:422'"
      ]
     },
     "metadata": {},
     "output_type": "display_data"
    },
    {
     "data": {
      "text/plain": [
       "'Дисперсия:36203'"
      ]
     },
     "metadata": {},
     "output_type": "display_data"
    },
    {
     "data": {
      "text/plain": [
       "'СКО:190'"
      ]
     },
     "metadata": {},
     "output_type": "display_data"
    },
    {
     "data": {
      "image/png": "[encoded data removed]",
      "text/plain": [
       "<Figure size 432x288 with 1 Axes>"
      ]
     },
     "metadata": {
      "needs_background": "light"
     },
     "output_type": "display_data"
    },
    {
     "data": {
      "text/plain": [
       "'Среднее: 527'"
      ]
     },
     "metadata": {},
     "output_type": "display_data"
    },
    {
     "data": {
      "text/plain": [
       "'Медиана:518'"
      ]
     },
     "metadata": {},
     "output_type": "display_data"
    },
    {
     "data": {
      "text/plain": [
       "'Дисперсия:100771'"
      ]
     },
     "metadata": {},
     "output_type": "display_data"
    },
    {
     "data": {
      "text/plain": [
       "'СКО:317'"
      ]
     },
     "metadata": {},
     "output_type": "display_data"
    },
    {
     "data": {
      "image/png": "[encoded data removed]",
      "text/plain": [
       "<Figure size 432x288 with 1 Axes>"
      ]
     },
     "metadata": {
      "needs_background": "light"
     },
     "output_type": "display_data"
    },
    {
     "data": {
      "text/plain": [
       "'Среднее: 33'"
      ]
     },
     "metadata": {},
     "output_type": "display_data"
    },
    {
     "data": {
      "text/plain": [
       "'Медиана:28'"
      ]
     },
     "metadata": {},
     "output_type": "display_data"
    },
    {
     "data": {
      "text/plain": [
       "'Дисперсия:796'"
      ]
     },
     "metadata": {},
     "output_type": "display_data"
    },
    {
     "data": {
      "text/plain": [
       "'СКО:28'"
      ]
     },
     "metadata": {},
     "output_type": "display_data"
    },
    {
     "data": {
      "image/png": "[encoded data removed]",
      "text/plain": [
       "<Figure size 432x288 with 1 Axes>"
      ]
     },
     "metadata": {
      "needs_background": "light"
     },
     "output_type": "display_data"
    },
    {
     "data": {
      "text/plain": [
       "'Среднее: 49'"
      ]
     },
     "metadata": {},
     "output_type": "display_data"
    },
    {
     "data": {
      "text/plain": [
       "'Медиана:38'"
      ]
     },
     "metadata": {},
     "output_type": "display_data"
    },
    {
     "data": {
      "text/plain": [
       "'Дисперсия:2283'"
      ]
     },
     "metadata": {},
     "output_type": "display_data"
    },
    {
     "data": {
      "text/plain": [
       "'СКО:48'"
      ]
     },
     "metadata": {},
     "output_type": "display_data"
    },
    {
     "data": {
      "image/png": "[encoded data removed]",
      "text/plain": [
       "<Figure size 432x288 with 1 Axes>"
      ]
     },
     "metadata": {
      "needs_background": "light"
     },
     "output_type": "display_data"
    },
    {
     "data": {
      "text/plain": [
       "'Среднее: 16208'"
      ]
     },
     "metadata": {},
     "output_type": "display_data"
    },
    {
     "data": {
      "text/plain": [
       "'Медиана:16507'"
      ]
     },
     "metadata": {},
     "output_type": "display_data"
    },
    {
     "data": {
      "text/plain": [
       "'Дисперсия:34447035'"
      ]
     },
     "metadata": {},
     "output_type": "display_data"
    },
    {
     "data": {
      "text/plain": [
       "'СКО:5869'"
      ]
     },
     "metadata": {},
     "output_type": "display_data"
    },
    {
     "data": {
      "image/png": "[encoded data removed]",
      "text/plain": [
       "<Figure size 432x288 with 1 Axes>"
      ]
     },
     "metadata": {
      "needs_background": "light"
     },
     "output_type": "display_data"
    },
    {
     "data": {
      "text/plain": [
       "'Среднее: 19469'"
      ]
     },
     "metadata": {},
     "output_type": "display_data"
    },
    {
     "data": {
      "text/plain": [
       "'Медиана:19308'"
      ]
     },
     "metadata": {},
     "output_type": "display_data"
    },
    {
     "data": {
      "text/plain": [
       "'Дисперсия:101647713'"
      ]
     },
     "metadata": {},
     "output_type": "display_data"
    },
    {
     "data": {
      "text/plain": [
       "'СКО:10082'"
      ]
     },
     "metadata": {},
     "output_type": "display_data"
    }
   ],
   "source": [
    "metrics = ('minutes', 'messages', 'mb_used')\n",
    "tariffs = ('smart', 'ultra')\n",
    "for metric in metrics:\n",
    "    for tariff in tariffs:\n",
    "        common[common['tariff']==tariff].plot(kind='hist', y=metric, bins = 100, title=tariff)\n",
    "        plt.xlabel(metric)\n",
    "        plt.show( )\n",
    "        display(f\"Среднее: {common[common['tariff']==tariff][metric].mean():.0f}\")\n",
    "        display(f\"Медиана:{common[common['tariff']==tariff][metric].median():.0f}\")\n",
    "        display(f\"Дисперсия:{np.var(common[common['tariff']==tariff][metric]):.0f}\")\n",
    "        display(f\"СКО:{np.sqrt(np.var(common[common['tariff']==tariff][metric])):.0f}\")"
   ]
  },
  {
   "cell_type": "markdown",
   "metadata": {},
   "source": [
    "  В среднем:| Smart  | Ultra |\n",
    "-------------| ------------- | ------------- |\n",
    "минут| 418  | 527  |\n",
    "сообщений| 33  | 49  |\n",
    "Мб| 16 208  | 19 469  |\n",
    " \n",
    "Очевидно, что пользователи тарифа Ultra активнее используют связь: на тарифе Ultra средние значения выше. При этом разброс от среднего для этих пользователей больше, чем для тарифа Smart. \n",
    "\n",
    "На тарифе Ultra значительное число пользователей совсем не используют минуты. Многие пользователи обоих тарифов совсем не отправляют смс. Больше половины пользователей Smart используют Мб сверх пакета. В то время как примерно 70% пользователей Ultra хватает 30 Гб."
   ]
  },
  {
   "cell_type": "markdown",
   "metadata": {},
   "source": [
    "## Проверка гипотез"
   ]
  },
  {
   "cell_type": "markdown",
   "metadata": {},
   "source": [
    "### Средняя выручка пользователей тарифов «Ультра» и «Смарт» различаются\n",
    "Пусть Гипотеза Н0:средняя выручка пользователей тарифов «Ультра» и «Смарт» не различается. Н1 - средняя выручка пользователей тарифов «Ультра» и «Смарт» различается.  Это двухсторонние гипотезы о равенстве средних двух генеральных совокупностей. Построим распределение выручки для обоих тарифов. "
   ]
  },
  {
   "cell_type": "code",
   "execution_count": 39,
   "metadata": {},
   "outputs": [
    {
     "data": {
      "image/png": "[encoded data removed]",
      "text/plain": [
       "<Figure size 432x288 with 1 Axes>"
      ]
     },
     "metadata": {
      "needs_background": "light"
     },
     "output_type": "display_data"
    },
    {
     "data": {
      "text/plain": [
       "'Среднее: 1290'"
      ]
     },
     "metadata": {},
     "output_type": "display_data"
    },
    {
     "data": {
      "text/plain": [
       "'Медиана:1023'"
      ]
     },
     "metadata": {},
     "output_type": "display_data"
    },
    {
     "data": {
      "text/plain": [
       "'Дисперсия:669485'"
      ]
     },
     "metadata": {},
     "output_type": "display_data"
    },
    {
     "data": {
      "text/plain": [
       "'СКО:818'"
      ]
     },
     "metadata": {},
     "output_type": "display_data"
    },
    {
     "data": {
      "image/png": "[encoded data removed]",
      "text/plain": [
       "<Figure size 432x288 with 1 Axes>"
      ]
     },
     "metadata": {
      "needs_background": "light"
     },
     "output_type": "display_data"
    },
    {
     "data": {
      "text/plain": [
       "'Среднее: 2070'"
      ]
     },
     "metadata": {},
     "output_type": "display_data"
    },
    {
     "data": {
      "text/plain": [
       "'Медиана:1950'"
      ]
     },
     "metadata": {},
     "output_type": "display_data"
    },
    {
     "data": {
      "text/plain": [
       "'Дисперсия:141373'"
      ]
     },
     "metadata": {},
     "output_type": "display_data"
    },
    {
     "data": {
      "text/plain": [
       "'СКО:376'"
      ]
     },
     "metadata": {},
     "output_type": "display_data"
    }
   ],
   "source": [
    "tariffs = ('smart', 'ultra')\n",
    "for tariff in tariffs:\n",
    "    common[common['tariff']==tariff].plot(kind='hist', y='revenue', bins = 100, title=tariff)\n",
    "    plt.xlabel('revenue')\n",
    "    plt.show( )\n",
    "    display(f\"Среднее: {common[common['tariff']==tariff]['revenue'].mean():.0f}\")\n",
    "    display(f\"Медиана:{common[common['tariff']==tariff]['revenue'].median():.0f}\")\n",
    "    display(f\"Дисперсия:{np.var(common[common['tariff']==tariff]['revenue']):.0f}\")\n",
    "    display(f\"СКО:{np.sqrt(np.var(common[common['tariff']==tariff]['revenue'])):.0f}\")"
   ]
  },
  {
   "cell_type": "markdown",
   "metadata": {},
   "source": [
    "Итак, нужно посчитать с какой вероятностью при выборочных средних значений выручки пользователей тарифа Smart - 1290 руб и тарифа Ultra - 2070 руб средние этих генеральных совокупностей равны. Используем t-тест, так как 1) пользователи двух тарифов представляют собой независимые совокупности; 2)выборочные средние нормально распределены, так как числов наблюдений в выборках достаточно большое."
   ]
  },
  {
   "cell_type": "code",
   "execution_count": 40,
   "metadata": {},
   "outputs": [
    {
     "data": {
      "text/plain": [
       "'p-значение:'"
      ]
     },
     "metadata": {},
     "output_type": "display_data"
    },
    {
     "data": {
      "text/plain": [
       "4.2606313931076085e-250"
      ]
     },
     "metadata": {},
     "output_type": "display_data"
    }
   ],
   "source": [
    "revenue_smart = common[common['tariff']=='smart']['revenue']\n",
    "revenue_ultra = common[common['tariff']=='ultra']['revenue']\n",
    "alpha =0.01\n",
    "results = st.ttest_ind(revenue_smart,revenue_ultra, equal_var = False)# так как дисперсии выборок разные, то ставим параметру equal_var значение False\n",
    "display('p-значение:', results.pvalue)"
   ]
  },
  {
   "cell_type": "markdown",
   "metadata": {},
   "source": [
    "Таким образом, веротность того, что средние одинаковые и будут равны 1290 и 2070 равна 4.2*10 в степени -160, т.е. 0. Следовательно Н0 отвергаем, верна Н1, что средние не равны."
   ]
  },
  {
   "cell_type": "markdown",
   "metadata": {},
   "source": [
    "### Средняя выручка пользователей из Москвы отличается от выручки пользователей из других регионов\n",
    "Пусть Гипотеза Н0:средняя выручка пользователей из Москвы и других регионов не различается. Н1 - средняя выручка пользователей из Москвы и других регионов различается.  Это двух\n",
    "торонние гипотезы о равенстве средних двух генеральных совокупностей. Построим распределение выручки для обоих выборок. "
   ]
  },
  {
   "cell_type": "code",
   "execution_count": 41,
   "metadata": {},
   "outputs": [
    {
     "data": {
      "image/png": "[encoded data removed]",
      "text/plain": [
       "<Figure size 432x288 with 1 Axes>"
      ]
     },
     "metadata": {
      "needs_background": "light"
     },
     "output_type": "display_data"
    },
    {
     "data": {
      "image/png": "[encoded data removed]",
      "text/plain": [
       "<Figure size 432x288 with 1 Axes>"
      ]
     },
     "metadata": {
      "needs_background": "light"
     },
     "output_type": "display_data"
    },
    {
     "data": {
      "text/plain": [
       "'Среднее Москва: 1547'"
      ]
     },
     "metadata": {},
     "output_type": "display_data"
    },
    {
     "data": {
      "text/plain": [
       "'СКО Москва:751'"
      ]
     },
     "metadata": {},
     "output_type": "display_data"
    },
    {
     "data": {
      "text/plain": [
       "'Среднее не Москва: 1525'"
      ]
     },
     "metadata": {},
     "output_type": "display_data"
    },
    {
     "data": {
      "text/plain": [
       "'СКО не Москва:809'"
      ]
     },
     "metadata": {},
     "output_type": "display_data"
    }
   ],
   "source": [
    "common[common['city']=='Москва'].plot(kind='hist', y='revenue', bins = 100, title='Москва')\n",
    "plt.xlabel('revenue')\n",
    "plt.show( )\n",
    "\n",
    "common[common['city']!='Москва'].plot(kind='hist', y='revenue', bins = 100, title='не Москва')\n",
    "plt.xlabel('revenue')\n",
    "plt.show( )\n",
    "\n",
    "display(f\"Среднее Москва: {common[common['city']=='Москва']['revenue'].mean():.0f}\")\n",
    "display(f\"СКО Москва:{np.sqrt(np.var(common[common['city']=='Москва']['revenue'])):.0f}\")\n",
    "\n",
    "display(f\"Среднее не Москва: {common[common['city']!='Москва']['revenue'].mean():.0f}\")\n",
    "display(f\"СКО не Москва:{np.sqrt(np.var(common[common['city']!='Москва']['revenue'])):.0f}\")"
   ]
  },
  {
   "cell_type": "markdown",
   "metadata": {},
   "source": [
    "Итак, нужно проверить с какой вероятностью выборочное среднее для генеральной совокупности абонентов из Москвы и для генеральной совокупности абонентов из регионов могут быть 1547 руб. и 1525 руб. соответственно при условии что средние этих генеральных совокупностей равны. Используем t-тест, так как 1) пользователи двух тарифов представляют собой независимые совокупности; 2)выборочные средние нормально распределены, так как числов наблюдений в выборках достаточно большое."
   ]
  },
  {
   "cell_type": "code",
   "execution_count": 42,
   "metadata": {},
   "outputs": [
    {
     "data": {
      "text/plain": [
       "'p-значение:'"
      ]
     },
     "metadata": {},
     "output_type": "display_data"
    },
    {
     "data": {
      "text/plain": [
       "0.5257376663729298"
      ]
     },
     "metadata": {},
     "output_type": "display_data"
    }
   ],
   "source": [
    "revenue_moscow = common[common['city']=='Москва']['revenue']\n",
    "revenue_regions = common[common['city']!='Москва']['revenue']\n",
    "alpha =0.01\n",
    "results = st.ttest_ind(revenue_moscow,revenue_regions, equal_var = False)# так как дисперсии выборок разные, то ставим параметру equal_var значение False\n",
    "display('p-значение:', results.pvalue)"
   ]
  },
  {
   "cell_type": "markdown",
   "metadata": {},
   "source": [
    "Вероятность 0,53 - довольно большая. Поэтому гипотеза Н0:средняя выручка пользователей из Москвы и других регионов не различается, не может быть отвергнута."
   ]
  },
  {
   "cell_type": "markdown",
   "metadata": {},
   "source": [
    "## Общий вывод"
   ]
  },
  {
   "cell_type": "markdown",
   "metadata": {},
   "source": [
    "1) Мы описали поведение среднего пользователя каждого тарифа. Пользователи тарифа Smart примерно в половине случаев превышают лимиты звонков, сообщений и интернета. Пользователи тарифа Ultra совсем не превышают лимиты минут и сообщений и в 70% случаев лимиты интернета.\n",
    "\n",
    "2) средняя выручка тарифа Ultra - 2070 руб/мес, что больше, чем у тарифа Smart - 1290. Поэтому выгоднее продвигать тариф Ultra.\n",
    "\n",
    "3) Выручка абонентов Москвы и остальных регионов отличается примерно в половине случаев. На основе данной выборки нельзя сделать определенный вывод, отличается ли выручка для этих совокупностей, а значит нельзя сказать, где выгоднее продвигать услуги (в Москве или регионах).\n",
    "\n"
   ]
  },
  {
   "cell_type": "code",
   "execution_count": null,
   "metadata": {},
   "outputs": [],
   "source": []
  }
 ],
 "metadata": {
  "ExecuteTimeLog": [
   {
    "duration": 815,
    "start_time": "2022-01-22T10:43:17.420Z"
   },
   {
    "duration": 181,
    "start_time": "2022-01-22T10:43:32.025Z"
   },
   {
    "duration": 22,
    "start_time": "2022-01-22T10:56:47.516Z"
   },
   {
    "duration": 33,
    "start_time": "2022-01-22T10:57:07.107Z"
   },
   {
    "duration": 59,
    "start_time": "2022-01-22T11:05:08.358Z"
   },
   {
    "duration": 26,
    "start_time": "2022-01-22T11:05:19.943Z"
   },
   {
    "duration": 29,
    "start_time": "2022-01-22T11:05:46.535Z"
   },
   {
    "duration": 40,
    "start_time": "2022-01-22T11:06:00.582Z"
   },
   {
    "duration": 38,
    "start_time": "2022-01-22T11:06:40.377Z"
   },
   {
    "duration": 15,
    "start_time": "2022-01-22T11:06:49.654Z"
   },
   {
    "duration": 21,
    "start_time": "2022-01-22T11:07:01.526Z"
   },
   {
    "duration": 350,
    "start_time": "2022-01-22T11:09:04.780Z"
   },
   {
    "duration": 4,
    "start_time": "2022-01-22T11:09:16.597Z"
   },
   {
    "duration": 4,
    "start_time": "2022-01-22T11:09:59.910Z"
   },
   {
    "duration": 4,
    "start_time": "2022-01-22T11:10:14.367Z"
   },
   {
    "duration": 4,
    "start_time": "2022-01-22T11:10:33.167Z"
   },
   {
    "duration": 4,
    "start_time": "2022-01-22T11:13:39.524Z"
   },
   {
    "duration": 360,
    "start_time": "2022-01-22T18:50:46.706Z"
   },
   {
    "duration": 1482,
    "start_time": "2022-01-22T18:50:55.419Z"
   },
   {
    "duration": 51,
    "start_time": "2022-01-22T18:50:56.905Z"
   },
   {
    "duration": 67,
    "start_time": "2022-01-22T18:50:56.961Z"
   },
   {
    "duration": 108,
    "start_time": "2022-01-22T19:04:13.425Z"
   },
   {
    "duration": 184,
    "start_time": "2022-01-22T19:05:05.132Z"
   },
   {
    "duration": 769,
    "start_time": "2022-01-22T19:05:46.585Z"
   },
   {
    "duration": 1765,
    "start_time": "2022-01-22T19:18:04.510Z"
   },
   {
    "duration": 1420,
    "start_time": "2022-01-22T19:18:18.732Z"
   },
   {
    "duration": 1571,
    "start_time": "2022-01-22T19:18:35.287Z"
   },
   {
    "duration": 1671,
    "start_time": "2022-01-22T19:19:27.034Z"
   },
   {
    "duration": 1367,
    "start_time": "2022-01-22T19:20:11.112Z"
   },
   {
    "duration": 558,
    "start_time": "2022-01-22T19:20:17.893Z"
   },
   {
    "duration": 41,
    "start_time": "2022-01-22T19:20:18.455Z"
   },
   {
    "duration": 77,
    "start_time": "2022-01-22T19:20:18.499Z"
   },
   {
    "duration": 1486,
    "start_time": "2022-01-22T19:20:18.579Z"
   },
   {
    "duration": 1329,
    "start_time": "2022-01-22T19:20:57.080Z"
   },
   {
    "duration": 1589,
    "start_time": "2022-01-22T19:21:11.179Z"
   },
   {
    "duration": 1419,
    "start_time": "2022-01-22T19:33:01.716Z"
   },
   {
    "duration": 1506,
    "start_time": "2022-01-22T19:33:19.670Z"
   },
   {
    "duration": 1072,
    "start_time": "2022-01-23T10:13:41.274Z"
   },
   {
    "duration": 28,
    "start_time": "2022-01-23T10:13:42.348Z"
   },
   {
    "duration": 42,
    "start_time": "2022-01-23T10:13:42.379Z"
   },
   {
    "duration": 921,
    "start_time": "2022-01-23T10:13:42.423Z"
   },
   {
    "duration": 492,
    "start_time": "2022-01-23T10:13:43.346Z"
   },
   {
    "duration": 86,
    "start_time": "2022-01-23T10:15:04.857Z"
   },
   {
    "duration": 439,
    "start_time": "2022-01-23T10:15:17.526Z"
   },
   {
    "duration": 440,
    "start_time": "2022-01-23T10:15:50.802Z"
   },
   {
    "duration": 440,
    "start_time": "2022-01-23T10:17:48.559Z"
   },
   {
    "duration": 447,
    "start_time": "2022-01-23T10:17:58.103Z"
   },
   {
    "duration": 23,
    "start_time": "2022-01-23T10:19:46.206Z"
   },
   {
    "duration": 34,
    "start_time": "2022-01-23T10:22:21.299Z"
   },
   {
    "duration": 956,
    "start_time": "2022-01-23T10:23:45.011Z"
   },
   {
    "duration": 859,
    "start_time": "2022-01-23T10:24:18.428Z"
   },
   {
    "duration": 839,
    "start_time": "2022-01-23T10:25:28.341Z"
   },
   {
    "duration": 1018,
    "start_time": "2022-01-23T10:26:03.093Z"
   },
   {
    "duration": 20,
    "start_time": "2022-01-23T10:31:25.193Z"
   },
   {
    "duration": -34,
    "start_time": "2022-01-23T10:51:23.199Z"
   },
   {
    "duration": 6545,
    "start_time": "2022-01-23T10:51:31.468Z"
   },
   {
    "duration": 25,
    "start_time": "2022-01-23T10:52:03.341Z"
   },
   {
    "duration": 266,
    "start_time": "2022-01-23T10:53:58.167Z"
   },
   {
    "duration": 256,
    "start_time": "2022-01-23T10:54:15.215Z"
   },
   {
    "duration": 477,
    "start_time": "2022-01-23T10:54:28.727Z"
   },
   {
    "duration": 12,
    "start_time": "2022-01-23T10:55:23.598Z"
   },
   {
    "duration": 13,
    "start_time": "2022-01-23T10:56:21.317Z"
   },
   {
    "duration": 89,
    "start_time": "2022-01-23T11:05:25.027Z"
   },
   {
    "duration": 833,
    "start_time": "2022-01-23T11:05:36.724Z"
   },
   {
    "duration": 316,
    "start_time": "2022-01-23T11:05:46.805Z"
   },
   {
    "duration": 90,
    "start_time": "2022-01-23T11:05:53.414Z"
   },
   {
    "duration": 287,
    "start_time": "2022-01-23T11:28:23.429Z"
   },
   {
    "duration": 370,
    "start_time": "2022-01-23T11:28:33.354Z"
   },
   {
    "duration": 424,
    "start_time": "2022-01-23T11:28:37.479Z"
   },
   {
    "duration": 396,
    "start_time": "2022-01-23T11:30:43.292Z"
   },
   {
    "duration": 398,
    "start_time": "2022-01-23T11:32:29.164Z"
   },
   {
    "duration": 590,
    "start_time": "2022-01-23T11:34:33.545Z"
   },
   {
    "duration": 109,
    "start_time": "2022-01-23T11:40:46.692Z"
   },
   {
    "duration": 116,
    "start_time": "2022-01-23T11:40:53.668Z"
   },
   {
    "duration": 119,
    "start_time": "2022-01-23T11:42:01.763Z"
   },
   {
    "duration": 376,
    "start_time": "2022-01-23T11:42:30.484Z"
   },
   {
    "duration": 106,
    "start_time": "2022-01-23T11:43:41.755Z"
   },
   {
    "duration": 46,
    "start_time": "2022-01-23T11:44:29.482Z"
   },
   {
    "duration": 2352,
    "start_time": "2022-01-23T11:51:51.472Z"
   },
   {
    "duration": 2277,
    "start_time": "2022-01-23T11:53:43.321Z"
   },
   {
    "duration": 683,
    "start_time": "2022-01-23T12:19:53.654Z"
   },
   {
    "duration": 2250,
    "start_time": "2022-01-23T12:20:11.072Z"
   },
   {
    "duration": 2371,
    "start_time": "2022-01-23T12:20:29.685Z"
   },
   {
    "duration": 92,
    "start_time": "2022-01-23T12:20:56.757Z"
   },
   {
    "duration": 115,
    "start_time": "2022-01-23T12:21:52.757Z"
   },
   {
    "duration": 417,
    "start_time": "2022-01-23T12:22:10.104Z"
   },
   {
    "duration": 26,
    "start_time": "2022-01-23T12:22:10.523Z"
   },
   {
    "duration": 39,
    "start_time": "2022-01-23T12:22:10.551Z"
   },
   {
    "duration": 922,
    "start_time": "2022-01-23T12:22:10.592Z"
   },
   {
    "duration": 522,
    "start_time": "2022-01-23T12:22:11.516Z"
   },
   {
    "duration": 23,
    "start_time": "2022-01-23T12:22:12.040Z"
   },
   {
    "duration": 74,
    "start_time": "2022-01-23T12:22:12.065Z"
   },
   {
    "duration": 932,
    "start_time": "2022-01-23T12:22:12.143Z"
   },
   {
    "duration": 28,
    "start_time": "2022-01-23T12:22:13.077Z"
   },
   {
    "duration": 86,
    "start_time": "2022-01-23T12:22:13.107Z"
   },
   {
    "duration": -44,
    "start_time": "2022-01-23T12:22:13.239Z"
   },
   {
    "duration": -46,
    "start_time": "2022-01-23T12:22:13.242Z"
   },
   {
    "duration": -51,
    "start_time": "2022-01-23T12:22:13.248Z"
   },
   {
    "duration": -55,
    "start_time": "2022-01-23T12:22:13.253Z"
   },
   {
    "duration": -58,
    "start_time": "2022-01-23T12:22:13.257Z"
   },
   {
    "duration": -62,
    "start_time": "2022-01-23T12:22:13.262Z"
   },
   {
    "duration": 374,
    "start_time": "2022-01-23T12:22:40.201Z"
   },
   {
    "duration": 29,
    "start_time": "2022-01-23T12:22:40.576Z"
   },
   {
    "duration": 39,
    "start_time": "2022-01-23T12:22:40.607Z"
   },
   {
    "duration": 917,
    "start_time": "2022-01-23T12:22:40.647Z"
   },
   {
    "duration": 450,
    "start_time": "2022-01-23T12:22:41.565Z"
   },
   {
    "duration": 24,
    "start_time": "2022-01-23T12:22:42.016Z"
   },
   {
    "duration": 30,
    "start_time": "2022-01-23T12:22:42.042Z"
   },
   {
    "duration": 984,
    "start_time": "2022-01-23T12:22:42.074Z"
   },
   {
    "duration": 19,
    "start_time": "2022-01-23T12:22:43.060Z"
   },
   {
    "duration": 39,
    "start_time": "2022-01-23T12:22:43.081Z"
   },
   {
    "duration": 438,
    "start_time": "2022-01-23T12:22:43.122Z"
   },
   {
    "duration": 11,
    "start_time": "2022-01-23T12:22:43.561Z"
   },
   {
    "duration": 29,
    "start_time": "2022-01-23T12:22:43.574Z"
   },
   {
    "duration": 2319,
    "start_time": "2022-01-23T12:22:43.604Z"
   },
   {
    "duration": 76,
    "start_time": "2022-01-23T12:22:45.925Z"
   },
   {
    "duration": 66,
    "start_time": "2022-01-23T12:28:31.675Z"
   },
   {
    "duration": 2340,
    "start_time": "2022-01-23T12:33:56.459Z"
   },
   {
    "duration": 320,
    "start_time": "2022-01-23T12:36:19.374Z"
   },
   {
    "duration": 1456,
    "start_time": "2022-01-23T16:44:46.214Z"
   },
   {
    "duration": 47,
    "start_time": "2022-01-23T16:44:47.672Z"
   },
   {
    "duration": 67,
    "start_time": "2022-01-23T16:44:47.722Z"
   },
   {
    "duration": 1454,
    "start_time": "2022-01-23T16:44:47.792Z"
   },
   {
    "duration": 795,
    "start_time": "2022-01-23T16:44:49.249Z"
   },
   {
    "duration": 33,
    "start_time": "2022-01-23T16:44:50.047Z"
   },
   {
    "duration": 80,
    "start_time": "2022-01-23T16:44:50.082Z"
   },
   {
    "duration": 1367,
    "start_time": "2022-01-23T16:44:50.166Z"
   },
   {
    "duration": 28,
    "start_time": "2022-01-23T16:44:51.536Z"
   },
   {
    "duration": 70,
    "start_time": "2022-01-23T16:44:51.566Z"
   },
   {
    "duration": 658,
    "start_time": "2022-01-23T16:44:51.638Z"
   },
   {
    "duration": 33,
    "start_time": "2022-01-23T16:44:52.299Z"
   },
   {
    "duration": 24,
    "start_time": "2022-01-23T16:44:52.334Z"
   },
   {
    "duration": 6514,
    "start_time": "2022-01-23T16:44:52.361Z"
   },
   {
    "duration": 523,
    "start_time": "2022-01-23T16:44:58.878Z"
   },
   {
    "duration": 307,
    "start_time": "2022-01-23T16:45:44.109Z"
   },
   {
    "duration": 86,
    "start_time": "2022-01-23T16:49:22.248Z"
   },
   {
    "duration": 7390,
    "start_time": "2022-01-23T16:53:10.052Z"
   },
   {
    "duration": 98,
    "start_time": "2022-01-23T16:54:14.773Z"
   },
   {
    "duration": 40,
    "start_time": "2022-01-23T17:14:14.307Z"
   },
   {
    "duration": 81,
    "start_time": "2022-01-23T17:20:25.523Z"
   },
   {
    "duration": 4315,
    "start_time": "2022-01-23T17:20:47.318Z"
   },
   {
    "duration": 81,
    "start_time": "2022-01-23T17:21:05.513Z"
   },
   {
    "duration": 27,
    "start_time": "2022-01-23T17:21:30.174Z"
   },
   {
    "duration": 27,
    "start_time": "2022-01-23T17:23:40.975Z"
   },
   {
    "duration": 1414,
    "start_time": "2022-01-23T17:26:31.135Z"
   },
   {
    "duration": 40,
    "start_time": "2022-01-23T17:26:32.551Z"
   },
   {
    "duration": 73,
    "start_time": "2022-01-23T17:26:32.595Z"
   },
   {
    "duration": 1384,
    "start_time": "2022-01-23T17:26:32.671Z"
   },
   {
    "duration": 805,
    "start_time": "2022-01-23T17:26:34.057Z"
   },
   {
    "duration": 31,
    "start_time": "2022-01-23T17:26:34.865Z"
   },
   {
    "duration": 77,
    "start_time": "2022-01-23T17:26:34.899Z"
   },
   {
    "duration": 1381,
    "start_time": "2022-01-23T17:26:34.980Z"
   },
   {
    "duration": 29,
    "start_time": "2022-01-23T17:26:36.364Z"
   },
   {
    "duration": 73,
    "start_time": "2022-01-23T17:26:36.396Z"
   },
   {
    "duration": 879,
    "start_time": "2022-01-23T17:26:36.472Z"
   },
   {
    "duration": 24,
    "start_time": "2022-01-23T17:26:37.354Z"
   },
   {
    "duration": 62,
    "start_time": "2022-01-23T17:26:37.380Z"
   },
   {
    "duration": 4053,
    "start_time": "2022-01-23T17:26:37.445Z"
   },
   {
    "duration": 93,
    "start_time": "2022-01-23T17:26:41.501Z"
   },
   {
    "duration": 99,
    "start_time": "2022-01-23T17:26:41.596Z"
   },
   {
    "duration": 41,
    "start_time": "2022-01-23T17:26:41.697Z"
   },
   {
    "duration": 88,
    "start_time": "2022-01-23T17:26:41.740Z"
   },
   {
    "duration": 52,
    "start_time": "2022-01-23T17:27:20.649Z"
   },
   {
    "duration": 33,
    "start_time": "2022-01-23T17:28:15.617Z"
   },
   {
    "duration": 54,
    "start_time": "2022-01-23T17:29:22.142Z"
   },
   {
    "duration": 132,
    "start_time": "2022-01-23T17:31:53.103Z"
   },
   {
    "duration": 158,
    "start_time": "2022-01-23T17:35:57.362Z"
   },
   {
    "duration": 338,
    "start_time": "2022-01-23T18:14:05.821Z"
   },
   {
    "duration": 229,
    "start_time": "2022-01-23T18:14:16.799Z"
   },
   {
    "duration": 26,
    "start_time": "2022-01-23T18:15:16.783Z"
   },
   {
    "duration": 14,
    "start_time": "2022-01-23T18:15:56.537Z"
   },
   {
    "duration": 15,
    "start_time": "2022-01-23T18:16:04.883Z"
   },
   {
    "duration": 6306,
    "start_time": "2022-01-23T18:16:18.895Z"
   },
   {
    "duration": 7163,
    "start_time": "2022-01-23T18:16:34.910Z"
   },
   {
    "duration": 239,
    "start_time": "2022-01-23T18:17:40.310Z"
   },
   {
    "duration": 248,
    "start_time": "2022-01-23T18:18:34.934Z"
   },
   {
    "duration": 280,
    "start_time": "2022-01-23T18:18:42.582Z"
   },
   {
    "duration": 30,
    "start_time": "2022-01-23T18:18:55.734Z"
   },
   {
    "duration": 30,
    "start_time": "2022-01-23T18:19:09.958Z"
   },
   {
    "duration": 76,
    "start_time": "2022-01-23T18:19:20.663Z"
   },
   {
    "duration": 6760,
    "start_time": "2022-01-23T18:19:49.341Z"
   },
   {
    "duration": 6210,
    "start_time": "2022-01-23T18:21:01.734Z"
   },
   {
    "duration": 35,
    "start_time": "2022-01-23T18:23:10.253Z"
   },
   {
    "duration": 15,
    "start_time": "2022-01-23T18:49:52.440Z"
   },
   {
    "duration": 36,
    "start_time": "2022-01-23T18:51:14.073Z"
   },
   {
    "duration": 3944,
    "start_time": "2022-01-23T19:47:20.764Z"
   },
   {
    "duration": 3978,
    "start_time": "2022-01-23T20:27:00.140Z"
   },
   {
    "duration": 99,
    "start_time": "2022-01-23T20:29:55.664Z"
   },
   {
    "duration": 3702,
    "start_time": "2022-01-23T20:30:22.598Z"
   },
   {
    "duration": 3821,
    "start_time": "2022-01-23T20:31:45.024Z"
   },
   {
    "duration": 1695,
    "start_time": "2022-01-23T20:39:52.103Z"
   },
   {
    "duration": 39,
    "start_time": "2022-01-23T20:39:53.800Z"
   },
   {
    "duration": 59,
    "start_time": "2022-01-23T20:39:53.842Z"
   },
   {
    "duration": 1359,
    "start_time": "2022-01-23T20:39:53.904Z"
   },
   {
    "duration": 737,
    "start_time": "2022-01-23T20:39:55.266Z"
   },
   {
    "duration": 48,
    "start_time": "2022-01-23T20:39:56.005Z"
   },
   {
    "duration": 48,
    "start_time": "2022-01-23T20:39:56.055Z"
   },
   {
    "duration": 1353,
    "start_time": "2022-01-23T20:39:56.107Z"
   },
   {
    "duration": 27,
    "start_time": "2022-01-23T20:39:57.463Z"
   },
   {
    "duration": 70,
    "start_time": "2022-01-23T20:39:57.492Z"
   },
   {
    "duration": 657,
    "start_time": "2022-01-23T20:39:57.565Z"
   },
   {
    "duration": 17,
    "start_time": "2022-01-23T20:39:58.233Z"
   },
   {
    "duration": 22,
    "start_time": "2022-01-23T20:39:58.253Z"
   },
   {
    "duration": 4130,
    "start_time": "2022-01-23T20:39:58.278Z"
   },
   {
    "duration": 73,
    "start_time": "2022-01-23T20:40:02.410Z"
   },
   {
    "duration": 75,
    "start_time": "2022-01-23T20:40:02.486Z"
   },
   {
    "duration": 101,
    "start_time": "2022-01-23T20:40:02.563Z"
   },
   {
    "duration": 32,
    "start_time": "2022-01-23T20:40:02.667Z"
   },
   {
    "duration": 55,
    "start_time": "2022-01-23T20:40:02.701Z"
   },
   {
    "duration": 7,
    "start_time": "2022-01-23T20:40:02.759Z"
   },
   {
    "duration": 4348,
    "start_time": "2022-01-23T20:41:07.614Z"
   },
   {
    "duration": 4666,
    "start_time": "2022-01-23T20:41:34.896Z"
   },
   {
    "duration": 3635,
    "start_time": "2022-01-23T21:04:36.059Z"
   },
   {
    "duration": 3942,
    "start_time": "2022-01-23T21:05:07.803Z"
   },
   {
    "duration": 3739,
    "start_time": "2022-01-23T21:05:41.409Z"
   },
   {
    "duration": 3740,
    "start_time": "2022-01-23T21:05:53.643Z"
   },
   {
    "duration": 3926,
    "start_time": "2022-01-23T21:10:32.729Z"
   },
   {
    "duration": 3786,
    "start_time": "2022-01-23T21:10:45.026Z"
   },
   {
    "duration": 60,
    "start_time": "2022-01-23T21:11:09.093Z"
   },
   {
    "duration": 58,
    "start_time": "2022-01-23T21:11:55.173Z"
   },
   {
    "duration": 54,
    "start_time": "2022-01-23T21:12:17.584Z"
   },
   {
    "duration": 81,
    "start_time": "2022-01-23T21:12:27.806Z"
   },
   {
    "duration": 28,
    "start_time": "2022-01-23T21:13:55.290Z"
   },
   {
    "duration": 300,
    "start_time": "2022-01-23T21:24:12.319Z"
   },
   {
    "duration": 251,
    "start_time": "2022-01-23T21:24:21.505Z"
   },
   {
    "duration": 28,
    "start_time": "2022-01-23T21:24:41.133Z"
   },
   {
    "duration": 271,
    "start_time": "2022-01-23T21:26:40.128Z"
   },
   {
    "duration": 32,
    "start_time": "2022-01-23T21:26:56.638Z"
   },
   {
    "duration": 93,
    "start_time": "2022-01-23T21:29:27.365Z"
   },
   {
    "duration": 21,
    "start_time": "2022-01-23T21:30:06.026Z"
   },
   {
    "duration": 416,
    "start_time": "2022-01-23T21:30:29.814Z"
   },
   {
    "duration": 81,
    "start_time": "2022-01-23T21:30:33.282Z"
   },
   {
    "duration": 27,
    "start_time": "2022-01-23T21:31:34.946Z"
   },
   {
    "duration": 19,
    "start_time": "2022-01-23T21:47:56.720Z"
   },
   {
    "duration": 79,
    "start_time": "2022-01-23T21:49:25.834Z"
   },
   {
    "duration": 89,
    "start_time": "2022-01-23T21:49:33.657Z"
   },
   {
    "duration": 19,
    "start_time": "2022-01-23T21:49:47.914Z"
   },
   {
    "duration": 233,
    "start_time": "2022-01-23T21:50:55.723Z"
   },
   {
    "duration": 19,
    "start_time": "2022-01-23T21:51:52.807Z"
   },
   {
    "duration": 235,
    "start_time": "2022-01-23T21:53:58.820Z"
   },
   {
    "duration": 20,
    "start_time": "2022-01-23T21:54:04.049Z"
   },
   {
    "duration": 213,
    "start_time": "2022-01-23T21:55:50.683Z"
   },
   {
    "duration": 240,
    "start_time": "2022-01-23T21:55:58.632Z"
   },
   {
    "duration": 8,
    "start_time": "2022-01-23T21:56:02.230Z"
   },
   {
    "duration": 7,
    "start_time": "2022-01-23T21:56:16.174Z"
   },
   {
    "duration": 36,
    "start_time": "2022-01-23T22:06:55.761Z"
   },
   {
    "duration": 19,
    "start_time": "2022-01-23T22:07:16.563Z"
   },
   {
    "duration": 238,
    "start_time": "2022-01-23T22:07:46.601Z"
   },
   {
    "duration": 1335,
    "start_time": "2022-01-23T22:08:07.442Z"
   },
   {
    "duration": 39,
    "start_time": "2022-01-23T22:08:08.780Z"
   },
   {
    "duration": 58,
    "start_time": "2022-01-23T22:08:08.822Z"
   },
   {
    "duration": 1351,
    "start_time": "2022-01-23T22:08:08.883Z"
   },
   {
    "duration": 722,
    "start_time": "2022-01-23T22:08:10.237Z"
   },
   {
    "duration": 34,
    "start_time": "2022-01-23T22:08:10.961Z"
   },
   {
    "duration": 75,
    "start_time": "2022-01-23T22:08:10.998Z"
   },
   {
    "duration": 1308,
    "start_time": "2022-01-23T22:08:11.077Z"
   },
   {
    "duration": 46,
    "start_time": "2022-01-23T22:08:12.388Z"
   },
   {
    "duration": 37,
    "start_time": "2022-01-23T22:08:12.436Z"
   },
   {
    "duration": 670,
    "start_time": "2022-01-23T22:08:12.475Z"
   },
   {
    "duration": 17,
    "start_time": "2022-01-23T22:08:13.148Z"
   },
   {
    "duration": 20,
    "start_time": "2022-01-23T22:08:13.167Z"
   },
   {
    "duration": 6,
    "start_time": "2022-01-23T22:08:13.189Z"
   },
   {
    "duration": 75,
    "start_time": "2022-01-23T22:08:13.232Z"
   },
   {
    "duration": 3291,
    "start_time": "2022-01-23T22:08:10.019Z"
   },
   {
    "duration": 3288,
    "start_time": "2022-01-23T22:08:10.023Z"
   },
   {
    "duration": 3285,
    "start_time": "2022-01-23T22:08:10.027Z"
   },
   {
    "duration": 3283,
    "start_time": "2022-01-23T22:08:10.031Z"
   },
   {
    "duration": 3279,
    "start_time": "2022-01-23T22:08:10.036Z"
   },
   {
    "duration": 3276,
    "start_time": "2022-01-23T22:08:10.040Z"
   },
   {
    "duration": 3275,
    "start_time": "2022-01-23T22:08:10.043Z"
   },
   {
    "duration": 86,
    "start_time": "2022-01-23T22:08:31.292Z"
   },
   {
    "duration": 3348,
    "start_time": "2022-01-23T22:08:28.033Z"
   },
   {
    "duration": 3335,
    "start_time": "2022-01-23T22:08:28.048Z"
   },
   {
    "duration": 3332,
    "start_time": "2022-01-23T22:08:28.052Z"
   },
   {
    "duration": 3330,
    "start_time": "2022-01-23T22:08:28.056Z"
   },
   {
    "duration": 3328,
    "start_time": "2022-01-23T22:08:28.060Z"
   },
   {
    "duration": 3325,
    "start_time": "2022-01-23T22:08:28.064Z"
   },
   {
    "duration": 3320,
    "start_time": "2022-01-23T22:08:28.071Z"
   },
   {
    "duration": 3766,
    "start_time": "2022-01-23T22:08:42.856Z"
   },
   {
    "duration": 57,
    "start_time": "2022-01-23T22:08:46.632Z"
   },
   {
    "duration": 80,
    "start_time": "2022-01-23T22:08:46.692Z"
   },
   {
    "duration": 33,
    "start_time": "2022-01-23T22:08:46.775Z"
   },
   {
    "duration": 34,
    "start_time": "2022-01-23T22:08:46.811Z"
   },
   {
    "duration": 329,
    "start_time": "2022-01-23T22:08:46.848Z"
   },
   {
    "duration": 3241,
    "start_time": "2022-01-23T22:08:43.939Z"
   },
   {
    "duration": 10,
    "start_time": "2022-01-23T22:12:10.244Z"
   },
   {
    "duration": 12,
    "start_time": "2022-01-23T22:13:07.853Z"
   },
   {
    "duration": 12,
    "start_time": "2022-01-23T22:13:18.593Z"
   },
   {
    "duration": 13,
    "start_time": "2022-01-23T22:14:50.529Z"
   },
   {
    "duration": 26,
    "start_time": "2022-01-23T22:14:58.720Z"
   },
   {
    "duration": 239,
    "start_time": "2022-01-23T22:40:42.134Z"
   },
   {
    "duration": 75,
    "start_time": "2022-01-23T22:41:08.266Z"
   },
   {
    "duration": 1292,
    "start_time": "2022-01-23T22:44:53.380Z"
   },
   {
    "duration": 41,
    "start_time": "2022-01-23T22:44:54.675Z"
   },
   {
    "duration": 56,
    "start_time": "2022-01-23T22:44:54.720Z"
   },
   {
    "duration": 1345,
    "start_time": "2022-01-23T22:44:54.779Z"
   },
   {
    "duration": 717,
    "start_time": "2022-01-23T22:44:56.126Z"
   },
   {
    "duration": 30,
    "start_time": "2022-01-23T22:44:56.845Z"
   },
   {
    "duration": 70,
    "start_time": "2022-01-23T22:44:56.878Z"
   },
   {
    "duration": 1313,
    "start_time": "2022-01-23T22:44:56.952Z"
   },
   {
    "duration": 25,
    "start_time": "2022-01-23T22:44:58.268Z"
   },
   {
    "duration": 63,
    "start_time": "2022-01-23T22:44:58.296Z"
   },
   {
    "duration": 636,
    "start_time": "2022-01-23T22:44:58.361Z"
   },
   {
    "duration": 33,
    "start_time": "2022-01-23T22:44:58.999Z"
   },
   {
    "duration": 19,
    "start_time": "2022-01-23T22:44:59.034Z"
   },
   {
    "duration": 11,
    "start_time": "2022-01-23T22:44:59.055Z"
   },
   {
    "duration": 81,
    "start_time": "2022-01-23T22:44:59.068Z"
   },
   {
    "duration": 3374,
    "start_time": "2022-01-23T22:44:55.778Z"
   },
   {
    "duration": 3370,
    "start_time": "2022-01-23T22:44:55.783Z"
   },
   {
    "duration": 3367,
    "start_time": "2022-01-23T22:44:55.787Z"
   },
   {
    "duration": 3365,
    "start_time": "2022-01-23T22:44:55.790Z"
   },
   {
    "duration": 3363,
    "start_time": "2022-01-23T22:44:55.794Z"
   },
   {
    "duration": 3360,
    "start_time": "2022-01-23T22:44:55.798Z"
   },
   {
    "duration": 3756,
    "start_time": "2022-01-23T22:45:26.685Z"
   },
   {
    "duration": 63,
    "start_time": "2022-01-23T22:45:30.445Z"
   },
   {
    "duration": 66,
    "start_time": "2022-01-23T22:45:30.532Z"
   },
   {
    "duration": 67,
    "start_time": "2022-01-23T22:45:30.601Z"
   },
   {
    "duration": 17,
    "start_time": "2022-01-23T22:45:30.671Z"
   },
   {
    "duration": 94,
    "start_time": "2022-01-23T22:45:30.691Z"
   },
   {
    "duration": 3402,
    "start_time": "2022-01-24T18:42:35.879Z"
   },
   {
    "duration": 49,
    "start_time": "2022-01-24T18:42:39.284Z"
   },
   {
    "duration": 91,
    "start_time": "2022-01-24T18:42:39.337Z"
   },
   {
    "duration": 1639,
    "start_time": "2022-01-24T18:42:39.433Z"
   },
   {
    "duration": 1056,
    "start_time": "2022-01-24T18:42:41.075Z"
   },
   {
    "duration": 52,
    "start_time": "2022-01-24T18:42:42.133Z"
   },
   {
    "duration": 87,
    "start_time": "2022-01-24T18:42:42.187Z"
   },
   {
    "duration": 1390,
    "start_time": "2022-01-24T18:42:42.279Z"
   },
   {
    "duration": 26,
    "start_time": "2022-01-24T18:42:43.671Z"
   },
   {
    "duration": 36,
    "start_time": "2022-01-24T18:42:43.699Z"
   },
   {
    "duration": 789,
    "start_time": "2022-01-24T18:42:43.738Z"
   },
   {
    "duration": 40,
    "start_time": "2022-01-24T18:42:44.530Z"
   },
   {
    "duration": 21,
    "start_time": "2022-01-24T18:42:44.573Z"
   },
   {
    "duration": 7,
    "start_time": "2022-01-24T18:42:44.597Z"
   },
   {
    "duration": 4012,
    "start_time": "2022-01-24T18:42:44.607Z"
   },
   {
    "duration": 81,
    "start_time": "2022-01-24T18:42:48.622Z"
   },
   {
    "duration": 82,
    "start_time": "2022-01-24T18:42:48.706Z"
   },
   {
    "duration": 55,
    "start_time": "2022-01-24T18:42:48.791Z"
   },
   {
    "duration": 36,
    "start_time": "2022-01-24T18:42:48.848Z"
   },
   {
    "duration": 91,
    "start_time": "2022-01-24T18:42:48.886Z"
   },
   {
    "duration": 117,
    "start_time": "2022-01-24T19:00:31.212Z"
   },
   {
    "duration": 1934,
    "start_time": "2022-01-24T19:00:56.285Z"
   },
   {
    "duration": 4458,
    "start_time": "2022-01-24T19:01:10.517Z"
   },
   {
    "duration": 7433,
    "start_time": "2022-01-24T19:01:21.132Z"
   },
   {
    "duration": 8,
    "start_time": "2022-01-24T19:02:28.934Z"
   },
   {
    "duration": 9,
    "start_time": "2022-01-24T19:02:54.888Z"
   },
   {
    "duration": 100,
    "start_time": "2022-01-24T19:04:52.074Z"
   },
   {
    "duration": 309,
    "start_time": "2022-01-24T19:04:57.444Z"
   },
   {
    "duration": 1305,
    "start_time": "2022-01-24T19:05:04.669Z"
   },
   {
    "duration": 1267,
    "start_time": "2022-01-24T19:05:10.076Z"
   },
   {
    "duration": 282,
    "start_time": "2022-01-24T19:06:31.940Z"
   },
   {
    "duration": 333,
    "start_time": "2022-01-24T19:07:11.243Z"
   },
   {
    "duration": 10,
    "start_time": "2022-01-24T19:07:49.171Z"
   },
   {
    "duration": 100,
    "start_time": "2022-01-24T19:09:16.147Z"
   },
   {
    "duration": 274,
    "start_time": "2022-01-24T19:09:41.874Z"
   },
   {
    "duration": 7170,
    "start_time": "2022-01-24T19:09:52.562Z"
   },
   {
    "duration": 11,
    "start_time": "2022-01-24T19:10:27.554Z"
   },
   {
    "duration": 1413,
    "start_time": "2022-01-24T19:13:12.721Z"
   },
   {
    "duration": 1023,
    "start_time": "2022-01-24T19:13:36.402Z"
   },
   {
    "duration": 68,
    "start_time": "2022-01-24T19:14:37.075Z"
   },
   {
    "duration": 1009,
    "start_time": "2022-01-24T19:15:38.497Z"
   },
   {
    "duration": 86,
    "start_time": "2022-01-24T19:15:43.496Z"
   },
   {
    "duration": 3297,
    "start_time": "2022-01-24T19:16:37.479Z"
   },
   {
    "duration": 7251,
    "start_time": "2022-01-24T19:20:37.039Z"
   },
   {
    "duration": 3325,
    "start_time": "2022-01-24T19:22:57.943Z"
   },
   {
    "duration": 7,
    "start_time": "2022-01-24T19:42:45.275Z"
   },
   {
    "duration": 32051,
    "start_time": "2022-01-24T19:52:43.761Z"
   },
   {
    "duration": 6780,
    "start_time": "2022-01-24T20:55:43.480Z"
   },
   {
    "duration": 552,
    "start_time": "2022-01-24T20:55:51.072Z"
   },
   {
    "duration": 39,
    "start_time": "2022-01-24T20:55:51.627Z"
   },
   {
    "duration": 58,
    "start_time": "2022-01-24T20:55:51.670Z"
   },
   {
    "duration": 1470,
    "start_time": "2022-01-24T20:55:51.732Z"
   },
   {
    "duration": 714,
    "start_time": "2022-01-24T20:55:53.205Z"
   },
   {
    "duration": 57,
    "start_time": "2022-01-24T20:55:53.922Z"
   },
   {
    "duration": 44,
    "start_time": "2022-01-24T20:55:53.982Z"
   },
   {
    "duration": 1371,
    "start_time": "2022-01-24T20:55:54.032Z"
   },
   {
    "duration": 27,
    "start_time": "2022-01-24T20:55:55.406Z"
   },
   {
    "duration": 69,
    "start_time": "2022-01-24T20:55:55.435Z"
   },
   {
    "duration": 764,
    "start_time": "2022-01-24T20:55:55.507Z"
   },
   {
    "duration": 18,
    "start_time": "2022-01-24T20:55:56.273Z"
   },
   {
    "duration": 25,
    "start_time": "2022-01-24T20:55:56.294Z"
   },
   {
    "duration": 11,
    "start_time": "2022-01-24T20:55:56.322Z"
   },
   {
    "duration": 3922,
    "start_time": "2022-01-24T20:55:56.369Z"
   },
   {
    "duration": 61,
    "start_time": "2022-01-24T20:56:00.293Z"
   },
   {
    "duration": 57,
    "start_time": "2022-01-24T20:56:00.370Z"
   },
   {
    "duration": 69,
    "start_time": "2022-01-24T20:56:00.430Z"
   },
   {
    "duration": 17,
    "start_time": "2022-01-24T20:56:00.502Z"
   },
   {
    "duration": 6890,
    "start_time": "2022-01-24T20:56:00.522Z"
   },
   {
    "duration": 2946,
    "start_time": "2022-01-24T20:56:04.468Z"
   },
   {
    "duration": 7,
    "start_time": "2022-01-24T20:56:46.227Z"
   },
   {
    "duration": 100,
    "start_time": "2022-01-24T20:57:46.656Z"
   },
   {
    "duration": 38062,
    "start_time": "2022-01-24T20:58:19.437Z"
   },
   {
    "duration": 6,
    "start_time": "2022-01-24T21:01:50.136Z"
   },
   {
    "duration": 258,
    "start_time": "2022-01-24T21:02:38.203Z"
   },
   {
    "duration": 8,
    "start_time": "2022-01-24T21:03:07.219Z"
   },
   {
    "duration": 7,
    "start_time": "2022-01-24T21:05:30.315Z"
   },
   {
    "duration": 8,
    "start_time": "2022-01-24T21:05:54.646Z"
   },
   {
    "duration": 7,
    "start_time": "2022-01-24T21:06:06.989Z"
   },
   {
    "duration": 1106,
    "start_time": "2022-01-24T21:07:15.371Z"
   },
   {
    "duration": 17,
    "start_time": "2022-01-24T21:07:35.774Z"
   },
   {
    "duration": 288,
    "start_time": "2022-01-24T21:12:37.380Z"
   },
   {
    "duration": 613,
    "start_time": "2022-01-24T21:15:24.701Z"
   },
   {
    "duration": 55,
    "start_time": "2022-01-24T21:15:36.455Z"
   },
   {
    "duration": 314,
    "start_time": "2022-01-24T21:16:23.590Z"
   },
   {
    "duration": 58,
    "start_time": "2022-01-24T21:17:30.876Z"
   },
   {
    "duration": 469,
    "start_time": "2022-01-24T21:17:42.966Z"
   },
   {
    "duration": 261,
    "start_time": "2022-01-24T21:18:10.829Z"
   },
   {
    "duration": 21,
    "start_time": "2022-01-24T21:18:42.299Z"
   },
   {
    "duration": 42,
    "start_time": "2022-01-24T21:19:14.849Z"
   },
   {
    "duration": 502,
    "start_time": "2022-01-24T21:21:34.140Z"
   },
   {
    "duration": 35,
    "start_time": "2022-01-24T21:21:34.645Z"
   },
   {
    "duration": 54,
    "start_time": "2022-01-24T21:21:34.682Z"
   },
   {
    "duration": 1435,
    "start_time": "2022-01-24T21:21:34.739Z"
   },
   {
    "duration": 696,
    "start_time": "2022-01-24T21:21:36.177Z"
   },
   {
    "duration": 32,
    "start_time": "2022-01-24T21:21:36.875Z"
   },
   {
    "duration": 67,
    "start_time": "2022-01-24T21:21:36.909Z"
   },
   {
    "duration": 1451,
    "start_time": "2022-01-24T21:21:36.979Z"
   },
   {
    "duration": 43,
    "start_time": "2022-01-24T21:21:38.434Z"
   },
   {
    "duration": 35,
    "start_time": "2022-01-24T21:21:38.480Z"
   },
   {
    "duration": 674,
    "start_time": "2022-01-24T21:21:38.518Z"
   },
   {
    "duration": 17,
    "start_time": "2022-01-24T21:21:39.195Z"
   },
   {
    "duration": 21,
    "start_time": "2022-01-24T21:21:39.214Z"
   },
   {
    "duration": 37,
    "start_time": "2022-01-24T21:21:39.237Z"
   },
   {
    "duration": 3916,
    "start_time": "2022-01-24T21:21:39.276Z"
   },
   {
    "duration": 74,
    "start_time": "2022-01-24T21:21:43.195Z"
   },
   {
    "duration": 59,
    "start_time": "2022-01-24T21:21:43.271Z"
   },
   {
    "duration": 74,
    "start_time": "2022-01-24T21:21:43.332Z"
   },
   {
    "duration": 41,
    "start_time": "2022-01-24T21:21:43.409Z"
   },
   {
    "duration": 32,
    "start_time": "2022-01-24T21:21:43.452Z"
   },
   {
    "duration": 1418,
    "start_time": "2022-01-24T21:22:23.788Z"
   },
   {
    "duration": 40,
    "start_time": "2022-01-24T21:22:25.209Z"
   },
   {
    "duration": 61,
    "start_time": "2022-01-24T21:22:25.252Z"
   },
   {
    "duration": 1365,
    "start_time": "2022-01-24T21:22:25.315Z"
   },
   {
    "duration": 741,
    "start_time": "2022-01-24T21:22:26.682Z"
   },
   {
    "duration": 57,
    "start_time": "2022-01-24T21:22:27.426Z"
   },
   {
    "duration": 48,
    "start_time": "2022-01-24T21:22:27.486Z"
   },
   {
    "duration": 1433,
    "start_time": "2022-01-24T21:22:27.540Z"
   },
   {
    "duration": 25,
    "start_time": "2022-01-24T21:22:28.976Z"
   },
   {
    "duration": 66,
    "start_time": "2022-01-24T21:22:29.004Z"
   },
   {
    "duration": 668,
    "start_time": "2022-01-24T21:22:29.073Z"
   },
   {
    "duration": 31,
    "start_time": "2022-01-24T21:22:29.743Z"
   },
   {
    "duration": 21,
    "start_time": "2022-01-24T21:22:29.777Z"
   },
   {
    "duration": 6,
    "start_time": "2022-01-24T21:22:29.801Z"
   },
   {
    "duration": 3941,
    "start_time": "2022-01-24T21:22:29.809Z"
   },
   {
    "duration": 68,
    "start_time": "2022-01-24T21:22:33.753Z"
   },
   {
    "duration": 79,
    "start_time": "2022-01-24T21:22:33.824Z"
   },
   {
    "duration": 66,
    "start_time": "2022-01-24T21:22:33.906Z"
   },
   {
    "duration": 44,
    "start_time": "2022-01-24T21:22:33.975Z"
   },
   {
    "duration": 359,
    "start_time": "2022-01-24T21:22:34.023Z"
   },
   {
    "duration": 3012,
    "start_time": "2022-01-24T21:22:31.373Z"
   },
   {
    "duration": 43137,
    "start_time": "2022-01-24T21:25:46.879Z"
   },
   {
    "duration": 41254,
    "start_time": "2022-01-24T21:28:00.804Z"
   },
   {
    "duration": 515,
    "start_time": "2022-01-24T21:29:21.325Z"
   },
   {
    "duration": 6,
    "start_time": "2022-01-24T21:29:56.099Z"
   },
   {
    "duration": 6,
    "start_time": "2022-01-24T21:30:29.044Z"
   },
   {
    "duration": 281,
    "start_time": "2022-01-24T21:34:02.598Z"
   },
   {
    "duration": 9,
    "start_time": "2022-01-24T21:34:18.838Z"
   },
   {
    "duration": 21,
    "start_time": "2022-01-24T21:35:17.595Z"
   },
   {
    "duration": 282,
    "start_time": "2022-01-24T21:41:38.701Z"
   },
   {
    "duration": 310,
    "start_time": "2022-01-24T21:46:20.781Z"
   },
   {
    "duration": 476,
    "start_time": "2022-01-24T21:50:42.843Z"
   },
   {
    "duration": 294,
    "start_time": "2022-01-24T22:10:01.753Z"
   },
   {
    "duration": 5,
    "start_time": "2022-01-24T22:11:31.995Z"
   },
   {
    "duration": 342,
    "start_time": "2022-01-24T22:12:04.225Z"
   },
   {
    "duration": 9,
    "start_time": "2022-01-24T22:12:18.880Z"
   },
   {
    "duration": 8,
    "start_time": "2022-01-24T22:14:28.606Z"
   },
   {
    "duration": 9,
    "start_time": "2022-01-24T22:15:16.727Z"
   },
   {
    "duration": 9,
    "start_time": "2022-01-24T22:16:56.287Z"
   },
   {
    "duration": 10,
    "start_time": "2022-01-24T22:18:35.384Z"
   },
   {
    "duration": 298,
    "start_time": "2022-01-24T22:20:57.245Z"
   },
   {
    "duration": 303,
    "start_time": "2022-01-24T22:21:19.358Z"
   },
   {
    "duration": 6561,
    "start_time": "2022-01-24T22:29:53.241Z"
   },
   {
    "duration": 9,
    "start_time": "2022-01-24T22:30:37.970Z"
   },
   {
    "duration": 6442,
    "start_time": "2022-01-24T22:32:41.040Z"
   },
   {
    "duration": 9,
    "start_time": "2022-01-24T22:34:10.668Z"
   },
   {
    "duration": 9,
    "start_time": "2022-01-24T22:35:09.890Z"
   },
   {
    "duration": 15,
    "start_time": "2022-01-24T22:35:55.731Z"
   },
   {
    "duration": 278,
    "start_time": "2022-01-24T22:36:25.030Z"
   },
   {
    "duration": 13,
    "start_time": "2022-01-24T22:36:30.308Z"
   },
   {
    "duration": 104,
    "start_time": "2022-01-24T22:37:21.807Z"
   },
   {
    "duration": 21,
    "start_time": "2022-01-24T22:37:56.459Z"
   },
   {
    "duration": 4334,
    "start_time": "2022-01-24T22:38:54.714Z"
   },
   {
    "duration": 9,
    "start_time": "2022-01-24T22:41:58.435Z"
   },
   {
    "duration": 8,
    "start_time": "2022-01-24T22:42:05.291Z"
   },
   {
    "duration": 13,
    "start_time": "2022-01-24T22:42:27.506Z"
   },
   {
    "duration": 12,
    "start_time": "2022-01-24T22:42:53.274Z"
   },
   {
    "duration": 12,
    "start_time": "2022-01-24T22:43:14.043Z"
   },
   {
    "duration": 1764,
    "start_time": "2022-01-24T22:48:17.105Z"
   },
   {
    "duration": 14,
    "start_time": "2022-01-24T22:48:34.431Z"
   },
   {
    "duration": 2639,
    "start_time": "2022-01-24T22:49:17.524Z"
   },
   {
    "duration": 6310,
    "start_time": "2022-01-24T22:49:31.548Z"
   },
   {
    "duration": 7855,
    "start_time": "2022-01-24T22:49:43.487Z"
   },
   {
    "duration": 17,
    "start_time": "2022-01-24T22:50:07.101Z"
   },
   {
    "duration": 10,
    "start_time": "2022-01-24T22:53:30.025Z"
   },
   {
    "duration": 16,
    "start_time": "2022-01-24T22:57:07.899Z"
   },
   {
    "duration": 5190,
    "start_time": "2022-01-24T22:59:18.022Z"
   },
   {
    "duration": 4814,
    "start_time": "2022-01-24T23:01:50.378Z"
   },
   {
    "duration": 10,
    "start_time": "2022-01-24T23:03:59.351Z"
   },
   {
    "duration": 11,
    "start_time": "2022-01-24T23:04:51.892Z"
   },
   {
    "duration": 14,
    "start_time": "2022-01-24T23:05:31.126Z"
   },
   {
    "duration": 14,
    "start_time": "2022-01-24T23:05:55.871Z"
   },
   {
    "duration": 16,
    "start_time": "2022-01-24T23:06:04.208Z"
   },
   {
    "duration": 1048,
    "start_time": "2022-01-25T13:17:14.143Z"
   },
   {
    "duration": 28,
    "start_time": "2022-01-25T13:17:15.193Z"
   },
   {
    "duration": 41,
    "start_time": "2022-01-25T13:17:15.223Z"
   },
   {
    "duration": 917,
    "start_time": "2022-01-25T13:17:15.266Z"
   },
   {
    "duration": 522,
    "start_time": "2022-01-25T13:17:16.185Z"
   },
   {
    "duration": 21,
    "start_time": "2022-01-25T13:17:16.709Z"
   },
   {
    "duration": 32,
    "start_time": "2022-01-25T13:17:16.732Z"
   },
   {
    "duration": 896,
    "start_time": "2022-01-25T13:17:16.767Z"
   },
   {
    "duration": 18,
    "start_time": "2022-01-25T13:17:17.665Z"
   },
   {
    "duration": 36,
    "start_time": "2022-01-25T13:17:17.684Z"
   },
   {
    "duration": 431,
    "start_time": "2022-01-25T13:17:17.722Z"
   },
   {
    "duration": 11,
    "start_time": "2022-01-25T13:17:18.154Z"
   },
   {
    "duration": 33,
    "start_time": "2022-01-25T13:17:18.167Z"
   },
   {
    "duration": 5,
    "start_time": "2022-01-25T13:17:18.202Z"
   },
   {
    "duration": 2267,
    "start_time": "2022-01-25T13:17:18.208Z"
   },
   {
    "duration": 52,
    "start_time": "2022-01-25T13:17:20.477Z"
   },
   {
    "duration": 43,
    "start_time": "2022-01-25T13:17:20.531Z"
   },
   {
    "duration": 51,
    "start_time": "2022-01-25T13:17:20.576Z"
   },
   {
    "duration": 27,
    "start_time": "2022-01-25T13:17:20.629Z"
   },
   {
    "duration": 9,
    "start_time": "2022-01-25T13:17:20.659Z"
   },
   {
    "duration": 22371,
    "start_time": "2022-01-25T13:17:20.670Z"
   },
   {
    "duration": 8,
    "start_time": "2022-01-25T13:34:27.500Z"
   },
   {
    "duration": 9,
    "start_time": "2022-01-25T13:35:47.152Z"
   },
   {
    "duration": 8,
    "start_time": "2022-01-25T13:35:58.049Z"
   },
   {
    "duration": 8,
    "start_time": "2022-01-25T13:36:12.077Z"
   },
   {
    "duration": 6542,
    "start_time": "2022-01-25T13:39:02.190Z"
   },
   {
    "duration": 6717,
    "start_time": "2022-01-25T13:39:45.383Z"
   },
   {
    "duration": 7725,
    "start_time": "2022-01-25T13:39:59.456Z"
   },
   {
    "duration": 94,
    "start_time": "2022-01-25T13:40:42.920Z"
   },
   {
    "duration": 84,
    "start_time": "2022-01-25T13:40:59.416Z"
   },
   {
    "duration": 4,
    "start_time": "2022-01-25T13:41:36.336Z"
   },
   {
    "duration": 6484,
    "start_time": "2022-01-25T13:41:46.727Z"
   },
   {
    "duration": 4,
    "start_time": "2022-01-25T13:42:07.199Z"
   },
   {
    "duration": 312,
    "start_time": "2022-01-25T13:45:23.227Z"
   },
   {
    "duration": 1228,
    "start_time": "2022-01-25T18:38:33.643Z"
   },
   {
    "duration": 1020,
    "start_time": "2022-01-25T18:39:26.109Z"
   },
   {
    "duration": 1153,
    "start_time": "2022-01-25T18:39:43.769Z"
   },
   {
    "duration": 1297,
    "start_time": "2022-01-25T18:39:50.756Z"
   },
   {
    "duration": 1169,
    "start_time": "2022-01-25T18:40:07.185Z"
   },
   {
    "duration": 675,
    "start_time": "2022-01-25T18:46:59.897Z"
   },
   {
    "duration": 4,
    "start_time": "2022-01-25T18:48:13.469Z"
   },
   {
    "duration": 1289,
    "start_time": "2022-01-25T18:48:41.510Z"
   },
   {
    "duration": 1141,
    "start_time": "2022-01-26T15:33:09.686Z"
   },
   {
    "duration": 32,
    "start_time": "2022-01-26T15:33:10.829Z"
   },
   {
    "duration": 52,
    "start_time": "2022-01-26T15:33:10.864Z"
   },
   {
    "duration": 982,
    "start_time": "2022-01-26T15:33:10.918Z"
   },
   {
    "duration": 532,
    "start_time": "2022-01-26T15:33:11.902Z"
   },
   {
    "duration": 24,
    "start_time": "2022-01-26T15:33:12.436Z"
   },
   {
    "duration": 64,
    "start_time": "2022-01-26T15:33:12.462Z"
   },
   {
    "duration": 892,
    "start_time": "2022-01-26T15:33:12.528Z"
   },
   {
    "duration": 21,
    "start_time": "2022-01-26T15:33:13.423Z"
   },
   {
    "duration": 55,
    "start_time": "2022-01-26T15:33:13.447Z"
   },
   {
    "duration": 450,
    "start_time": "2022-01-26T15:33:13.504Z"
   },
   {
    "duration": 12,
    "start_time": "2022-01-26T15:33:13.956Z"
   },
   {
    "duration": 27,
    "start_time": "2022-01-26T15:33:13.970Z"
   },
   {
    "duration": 25,
    "start_time": "2022-01-26T15:33:13.999Z"
   },
   {
    "duration": 21,
    "start_time": "2022-01-26T15:33:14.026Z"
   },
   {
    "duration": 2386,
    "start_time": "2022-01-26T15:33:14.049Z"
   },
   {
    "duration": 60,
    "start_time": "2022-01-26T15:33:16.437Z"
   },
   {
    "duration": 46,
    "start_time": "2022-01-26T15:33:16.499Z"
   },
   {
    "duration": 52,
    "start_time": "2022-01-26T15:33:16.547Z"
   },
   {
    "duration": 28,
    "start_time": "2022-01-26T15:33:16.600Z"
   },
   {
    "duration": 300,
    "start_time": "2022-01-26T15:33:16.630Z"
   },
   {
    "duration": 247,
    "start_time": "2022-01-26T15:33:16.932Z"
   },
   {
    "duration": 752,
    "start_time": "2022-01-26T15:33:16.429Z"
   },
   {
    "duration": 196,
    "start_time": "2022-01-26T15:33:35.199Z"
   },
   {
    "duration": 1363,
    "start_time": "2022-01-26T15:33:53.375Z"
   },
   {
    "duration": 2580,
    "start_time": "2022-01-26T15:35:36.622Z"
   },
   {
    "duration": 2906,
    "start_time": "2022-01-26T15:37:48.933Z"
   },
   {
    "duration": 2540,
    "start_time": "2022-01-26T15:57:35.959Z"
   },
   {
    "duration": 2684,
    "start_time": "2022-01-26T16:01:28.051Z"
   },
   {
    "duration": 2833,
    "start_time": "2022-01-26T16:04:26.068Z"
   },
   {
    "duration": 2679,
    "start_time": "2022-01-26T16:09:56.820Z"
   },
   {
    "duration": 2791,
    "start_time": "2022-01-26T16:10:56.163Z"
   },
   {
    "duration": 2700,
    "start_time": "2022-01-26T16:11:05.571Z"
   },
   {
    "duration": 2695,
    "start_time": "2022-01-26T16:12:21.842Z"
   },
   {
    "duration": 2613,
    "start_time": "2022-01-26T16:12:27.650Z"
   },
   {
    "duration": 2732,
    "start_time": "2022-01-26T16:12:39.866Z"
   },
   {
    "duration": 5,
    "start_time": "2022-01-26T16:14:00.539Z"
   },
   {
    "duration": 2560,
    "start_time": "2022-01-26T16:14:15.191Z"
   },
   {
    "duration": 604,
    "start_time": "2022-01-26T16:14:43.179Z"
   },
   {
    "duration": 595,
    "start_time": "2022-01-26T16:14:48.802Z"
   },
   {
    "duration": 613,
    "start_time": "2022-01-26T16:14:54.074Z"
   },
   {
    "duration": 2665,
    "start_time": "2022-01-26T16:15:02.698Z"
   },
   {
    "duration": 2521,
    "start_time": "2022-01-26T16:15:15.284Z"
   },
   {
    "duration": 917,
    "start_time": "2022-01-26T17:02:13.463Z"
   },
   {
    "duration": 10,
    "start_time": "2022-01-26T17:04:14.270Z"
   },
   {
    "duration": 11,
    "start_time": "2022-01-26T17:04:33.311Z"
   },
   {
    "duration": 21,
    "start_time": "2022-01-26T17:04:42.615Z"
   },
   {
    "duration": 774,
    "start_time": "2022-01-26T17:08:37.272Z"
   },
   {
    "duration": 5,
    "start_time": "2022-01-26T17:09:42.407Z"
   },
   {
    "duration": 8,
    "start_time": "2022-01-26T17:09:48.246Z"
   },
   {
    "duration": 10,
    "start_time": "2022-01-26T17:11:13.252Z"
   },
   {
    "duration": 10,
    "start_time": "2022-01-26T17:23:23.212Z"
   },
   {
    "duration": 11,
    "start_time": "2022-01-26T17:47:33.579Z"
   },
   {
    "duration": 9,
    "start_time": "2022-01-26T17:47:48.309Z"
   },
   {
    "duration": 4,
    "start_time": "2022-01-26T18:00:11.061Z"
   },
   {
    "duration": 56,
    "start_time": "2022-01-26T18:10:56.468Z"
   },
   {
    "duration": 892,
    "start_time": "2022-01-26T18:11:43.525Z"
   },
   {
    "duration": 10,
    "start_time": "2022-01-26T18:24:18.385Z"
   },
   {
    "duration": 1378,
    "start_time": "2022-02-04T12:31:28.186Z"
   },
   {
    "duration": 416,
    "start_time": "2022-02-04T12:40:24.533Z"
   },
   {
    "duration": 28,
    "start_time": "2022-02-04T12:40:24.951Z"
   },
   {
    "duration": 38,
    "start_time": "2022-02-04T12:40:24.982Z"
   },
   {
    "duration": 830,
    "start_time": "2022-02-04T12:40:25.022Z"
   },
   {
    "duration": 415,
    "start_time": "2022-02-04T12:40:25.859Z"
   },
   {
    "duration": 21,
    "start_time": "2022-02-04T12:40:26.276Z"
   },
   {
    "duration": 31,
    "start_time": "2022-02-04T12:40:26.298Z"
   },
   {
    "duration": 932,
    "start_time": "2022-02-04T12:40:26.331Z"
   },
   {
    "duration": 18,
    "start_time": "2022-02-04T12:40:27.265Z"
   },
   {
    "duration": 25,
    "start_time": "2022-02-04T12:40:27.285Z"
   },
   {
    "duration": 413,
    "start_time": "2022-02-04T12:40:27.312Z"
   },
   {
    "duration": 11,
    "start_time": "2022-02-04T12:40:27.727Z"
   },
   {
    "duration": 4,
    "start_time": "2022-02-04T12:40:35.336Z"
   },
   {
    "duration": 8,
    "start_time": "2022-02-04T12:40:46.709Z"
   },
   {
    "duration": 460,
    "start_time": "2022-02-04T12:50:21.169Z"
   },
   {
    "duration": 27,
    "start_time": "2022-02-04T12:50:21.631Z"
   },
   {
    "duration": 44,
    "start_time": "2022-02-04T12:50:21.661Z"
   },
   {
    "duration": 880,
    "start_time": "2022-02-04T12:50:21.707Z"
   },
   {
    "duration": 444,
    "start_time": "2022-02-04T12:50:22.589Z"
   },
   {
    "duration": 31,
    "start_time": "2022-02-04T12:50:23.034Z"
   },
   {
    "duration": 32,
    "start_time": "2022-02-04T12:50:23.067Z"
   },
   {
    "duration": 989,
    "start_time": "2022-02-04T12:50:23.100Z"
   },
   {
    "duration": 19,
    "start_time": "2022-02-04T12:50:24.091Z"
   },
   {
    "duration": 23,
    "start_time": "2022-02-04T12:50:24.112Z"
   },
   {
    "duration": 432,
    "start_time": "2022-02-04T12:50:24.137Z"
   },
   {
    "duration": 12,
    "start_time": "2022-02-04T12:50:24.571Z"
   },
   {
    "duration": 10,
    "start_time": "2022-02-04T12:50:24.585Z"
   },
   {
    "duration": 27,
    "start_time": "2022-02-04T12:50:24.597Z"
   },
   {
    "duration": 5,
    "start_time": "2022-02-04T12:50:24.626Z"
   },
   {
    "duration": 9,
    "start_time": "2022-02-04T12:50:24.633Z"
   },
   {
    "duration": 2279,
    "start_time": "2022-02-04T12:50:24.643Z"
   },
   {
    "duration": 70,
    "start_time": "2022-02-04T12:50:26.924Z"
   },
   {
    "duration": 47,
    "start_time": "2022-02-04T12:50:26.996Z"
   },
   {
    "duration": 56,
    "start_time": "2022-02-04T12:50:27.045Z"
   },
   {
    "duration": 27,
    "start_time": "2022-02-04T12:50:27.102Z"
   },
   {
    "duration": 339,
    "start_time": "2022-02-04T12:50:27.131Z"
   },
   {
    "duration": 2603,
    "start_time": "2022-02-04T12:50:27.472Z"
   },
   {
    "duration": 845,
    "start_time": "2022-02-04T12:50:30.077Z"
   },
   {
    "duration": 10,
    "start_time": "2022-02-04T12:50:30.924Z"
   },
   {
    "duration": 861,
    "start_time": "2022-02-04T12:50:30.959Z"
   },
   {
    "duration": 9,
    "start_time": "2022-02-04T12:50:31.823Z"
   },
   {
    "duration": 306,
    "start_time": "2022-02-04T12:53:29.615Z"
   },
   {
    "duration": 15,
    "start_time": "2022-02-04T12:53:41.845Z"
   },
   {
    "duration": 16,
    "start_time": "2022-02-04T12:53:46.767Z"
   },
   {
    "duration": 350,
    "start_time": "2022-02-04T17:54:54.848Z"
   },
   {
    "duration": 1871,
    "start_time": "2022-02-04T17:55:03.161Z"
   },
   {
    "duration": 39,
    "start_time": "2022-02-04T17:55:05.034Z"
   },
   {
    "duration": 58,
    "start_time": "2022-02-04T17:55:05.076Z"
   },
   {
    "duration": 1332,
    "start_time": "2022-02-04T17:55:05.137Z"
   },
   {
    "duration": 666,
    "start_time": "2022-02-04T17:55:06.472Z"
   },
   {
    "duration": 46,
    "start_time": "2022-02-04T17:55:07.141Z"
   },
   {
    "duration": 45,
    "start_time": "2022-02-04T17:55:07.189Z"
   },
   {
    "duration": 1383,
    "start_time": "2022-02-04T17:55:07.236Z"
   },
   {
    "duration": 24,
    "start_time": "2022-02-04T17:55:08.623Z"
   },
   {
    "duration": 35,
    "start_time": "2022-02-04T17:55:08.670Z"
   },
   {
    "duration": 632,
    "start_time": "2022-02-04T17:55:08.707Z"
   },
   {
    "duration": 34,
    "start_time": "2022-02-04T17:55:09.342Z"
   },
   {
    "duration": 6,
    "start_time": "2022-02-04T17:55:09.378Z"
   },
   {
    "duration": 22,
    "start_time": "2022-02-04T17:55:09.386Z"
   },
   {
    "duration": 8,
    "start_time": "2022-02-04T17:55:09.411Z"
   },
   {
    "duration": 50,
    "start_time": "2022-02-04T17:55:09.422Z"
   },
   {
    "duration": 3946,
    "start_time": "2022-02-04T17:55:09.475Z"
   },
   {
    "duration": 63,
    "start_time": "2022-02-04T17:55:13.818Z"
   },
   {
    "duration": 3972,
    "start_time": "2022-02-04T17:55:40.961Z"
   },
   {
    "duration": 3794,
    "start_time": "2022-02-04T17:56:08.185Z"
   },
   {
    "duration": 4086,
    "start_time": "2022-02-04T17:57:17.488Z"
   },
   {
    "duration": 3880,
    "start_time": "2022-02-04T17:57:30.017Z"
   },
   {
    "duration": 61,
    "start_time": "2022-02-04T18:50:18.646Z"
   },
   {
    "duration": 123,
    "start_time": "2022-02-04T21:59:58.073Z"
   }
  ],
  "kernelspec": {
   "display_name": "Python 3 (ipykernel)",
   "language": "python",
   "name": "python3"
  },
  "language_info": {
   "codemirror_mode": {
    "name": "ipython",
    "version": 3
   },
   "file_extension": ".py",
   "mimetype": "text/x-python",
   "name": "python",
   "nbconvert_exporter": "python",
   "pygments_lexer": "ipython3",
   "version": "3.9.12"
  },
  "toc": {
   "base_numbering": 1,
   "nav_menu": {},
   "number_sections": true,
   "sideBar": true,
   "skip_h1_title": true,
   "title_cell": "Table of Contents",
   "title_sidebar": "Contents",
   "toc_cell": false,
   "toc_position": {
    "height": "calc(100% - 180px)",
    "left": "10px",
    "top": "150px",
    "width": "426.776px"
   },
   "toc_section_display": true,
   "toc_window_display": true
  }
 },
 "nbformat": 4,
 "nbformat_minor": 2
}
