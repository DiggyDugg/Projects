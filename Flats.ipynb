{
 "cells": [
  {
   "cell_type": "markdown",
   "metadata": {
    "toc": true
   },
   "source": [
    "<h1>Содержание<span class=\"tocSkip\"></span></h1>\n",
    "<div class=\"toc\"><ul class=\"toc-item\"><li><span><a href=\"#Изучение-данных-из-файла\" data-toc-modified-id=\"Изучение-данных-из-файла-1\"><span class=\"toc-item-num\">1&nbsp;&nbsp;</span>Изучение данных из файла</a></span><ul class=\"toc-item\"><li><span><a href=\"#Вывод\" data-toc-modified-id=\"Вывод-1.1\"><span class=\"toc-item-num\">1.1&nbsp;&nbsp;</span>Вывод</a></span></li></ul></li><li><span><a href=\"#Предобработка-данных\" data-toc-modified-id=\"Предобработка-данных-2\"><span class=\"toc-item-num\">2&nbsp;&nbsp;</span>Предобработка данных</a></span><ul class=\"toc-item\"><li><span><a href=\"#Цена,-день-размещения-объявления,-число-этажей\" data-toc-modified-id=\"Цена,-день-размещения-объявления,-число-этажей-2.1\"><span class=\"toc-item-num\">2.1&nbsp;&nbsp;</span>Цена, день размещения объявления, число этажей</a></span></li><li><span><a href=\"#Высота-потолков\" data-toc-modified-id=\"Высота-потолков-2.2\"><span class=\"toc-item-num\">2.2&nbsp;&nbsp;</span>Высота потолков</a></span></li><li><span><a href=\"#Апартаменты-и-площадь\" data-toc-modified-id=\"Апартаменты-и-площадь-2.3\"><span class=\"toc-item-num\">2.3&nbsp;&nbsp;</span>Апартаменты и площадь</a></span></li><li><span><a href=\"#Парки-и-пруды\" data-toc-modified-id=\"Парки-и-пруды-2.4\"><span class=\"toc-item-num\">2.4&nbsp;&nbsp;</span>Парки и пруды</a></span></li><li><span><a href=\"#Расстояние-до-центра\" data-toc-modified-id=\"Расстояние-до-центра-2.5\"><span class=\"toc-item-num\">2.5&nbsp;&nbsp;</span>Расстояние до центра</a></span></li><li><span><a href=\"#Ближайший-аэропорт,-дни-экспозиции-объявления-и-название-локации\" data-toc-modified-id=\"Ближайший-аэропорт,-дни-экспозиции-объявления-и-название-локации-2.6\"><span class=\"toc-item-num\">2.6&nbsp;&nbsp;</span>Ближайший аэропорт, дни экспозиции объявления и название локации</a></span></li><li><span><a href=\"#Вывод---предобработка-данных.\" data-toc-modified-id=\"Вывод---предобработка-данных.-2.7\"><span class=\"toc-item-num\">2.7&nbsp;&nbsp;</span>Вывод - предобработка данных.</a></span></li></ul></li><li><span><a href=\"#Расчёты-и-добавление-результатов-в-таблицу\" data-toc-modified-id=\"Расчёты-и-добавление-результатов-в-таблицу-3\"><span class=\"toc-item-num\">3&nbsp;&nbsp;</span>Расчёты и добавление результатов в таблицу</a></span><ul class=\"toc-item\"><li><span><a href=\"#Расчет-стоимости-кв.-метра-(руб/кв.м.)\" data-toc-modified-id=\"Расчет-стоимости-кв.-метра-(руб/кв.м.)-3.1\"><span class=\"toc-item-num\">3.1&nbsp;&nbsp;</span>Расчет стоимости кв. метра (руб/кв.м.)</a></span></li><li><span><a href=\"#Определение-дня-недели,-месяца-и-года-публикации-объявления\" data-toc-modified-id=\"Определение-дня-недели,-месяца-и-года-публикации-объявления-3.2\"><span class=\"toc-item-num\">3.2&nbsp;&nbsp;</span>Определение дня недели, месяца и года публикации объявления</a></span></li><li><span><a href=\"#Определение-типа-этажа\" data-toc-modified-id=\"Определение-типа-этажа-3.3\"><span class=\"toc-item-num\">3.3&nbsp;&nbsp;</span>Определение типа этажа</a></span></li><li><span><a href=\"#Соотношение-жилой-и-общей-площади,-а-также-отношение-площади-кухни-к-общей.\" data-toc-modified-id=\"Соотношение-жилой-и-общей-площади,-а-также-отношение-площади-кухни-к-общей.-3.4\"><span class=\"toc-item-num\">3.4&nbsp;&nbsp;</span>Соотношение жилой и общей площади, а также отношение площади кухни к общей.</a></span></li><li><span><a href=\"#Выводы\" data-toc-modified-id=\"Выводы-3.5\"><span class=\"toc-item-num\">3.5&nbsp;&nbsp;</span>Выводы</a></span></li></ul></li><li><span><a href=\"#Исследовательский-анализ-данных\" data-toc-modified-id=\"Исследовательский-анализ-данных-4\"><span class=\"toc-item-num\">4&nbsp;&nbsp;</span>Исследовательский анализ данных</a></span><ul class=\"toc-item\"><li><span><a href=\"#Распределение-параметров-:-площадь,-цена,-число-комнат,-высота-потолков\" data-toc-modified-id=\"Распределение-параметров-:-площадь,-цена,-число-комнат,-высота-потолков-4.1\"><span class=\"toc-item-num\">4.1&nbsp;&nbsp;</span>Распределение параметров : площадь, цена, число комнат, высота потолков</a></span><ul class=\"toc-item\"><li><span><a href=\"#Распределение-площади\" data-toc-modified-id=\"Распределение-площади-4.1.1\"><span class=\"toc-item-num\">4.1.1&nbsp;&nbsp;</span>Распределение площади</a></span></li><li><span><a href=\"#Распределение-цены-за-кв.-м.\" data-toc-modified-id=\"Распределение-цены-за-кв.-м.-4.1.2\"><span class=\"toc-item-num\">4.1.2&nbsp;&nbsp;</span>Распределение цены за кв. м.</a></span></li><li><span><a href=\"#Распределение-по-числу-комнат\" data-toc-modified-id=\"Распределение-по-числу-комнат-4.1.3\"><span class=\"toc-item-num\">4.1.3&nbsp;&nbsp;</span>Распределение по числу комнат</a></span></li><li><span><a href=\"#Распределение-высоты-потолков\" data-toc-modified-id=\"Распределение-высоты-потолков-4.1.4\"><span class=\"toc-item-num\">4.1.4&nbsp;&nbsp;</span>Распределение высоты потолков</a></span></li></ul></li><li><span><a href=\"#Время-продажи-квартир\" data-toc-modified-id=\"Время-продажи-квартир-4.2\"><span class=\"toc-item-num\">4.2&nbsp;&nbsp;</span>Время продажи квартир</a></span></li><li><span><a href=\"#Оценка-зависимости-цены-за-кв.-м.-от-факторов\" data-toc-modified-id=\"Оценка-зависимости-цены-за-кв.-м.-от-факторов-4.3\"><span class=\"toc-item-num\">4.3&nbsp;&nbsp;</span>Оценка зависимости цены за кв. м. от факторов</a></span><ul class=\"toc-item\"><li><span><a href=\"#Площадь,-число-комнат,-расстояние-до-центра\" data-toc-modified-id=\"Площадь,-число-комнат,-расстояние-до-центра-4.3.1\"><span class=\"toc-item-num\">4.3.1&nbsp;&nbsp;</span>Площадь, число комнат, расстояние до центра</a></span></li><li><span><a href=\"#Этаж:-первый,-последний-или-другой.\" data-toc-modified-id=\"Этаж:-первый,-последний-или-другой.-4.3.2\"><span class=\"toc-item-num\">4.3.2&nbsp;&nbsp;</span>Этаж: первый, последний или другой.</a></span></li><li><span><a href=\"#Дата-размещения:-день-недели,-месяц-и-год\" data-toc-modified-id=\"Дата-размещения:-день-недели,-месяц-и-год-4.3.3\"><span class=\"toc-item-num\">4.3.3&nbsp;&nbsp;</span>Дата размещения: день недели, месяц и год</a></span></li></ul></li><li><span><a href=\"#Анализ-по-локациям\" data-toc-modified-id=\"Анализ-по-локациям-4.4\"><span class=\"toc-item-num\">4.4&nbsp;&nbsp;</span>Анализ по локациям</a></span><ul class=\"toc-item\"><li><span><a href=\"#Неявные-дубликаты\" data-toc-modified-id=\"Неявные-дубликаты-4.4.1\"><span class=\"toc-item-num\">4.4.1&nbsp;&nbsp;</span>Неявные дубликаты</a></span></li><li><span><a href=\"#топ-10:\" data-toc-modified-id=\"топ-10:-4.4.2\"><span class=\"toc-item-num\">4.4.2&nbsp;&nbsp;</span>топ-10:</a></span></li><li><span><a href=\"#Определение-центра-СПб.\" data-toc-modified-id=\"Определение-центра-СПб.-4.4.3\"><span class=\"toc-item-num\">4.4.3&nbsp;&nbsp;</span>Определение центра СПб.</a></span></li><li><span><a href=\"#Средние-характеристики-квартир-в-центре-СПб:-площадь,-цена,-число-комнат,-высота-потолков.\" data-toc-modified-id=\"Средние-характеристики-квартир-в-центре-СПб:-площадь,-цена,-число-комнат,-высота-потолков.-4.4.4\"><span class=\"toc-item-num\">4.4.4&nbsp;&nbsp;</span>Средние характеристики квартир в центре СПб: площадь, цена, число комнат, высота потолков.</a></span></li></ul></li><li><span><a href=\"#Факторы,-влияющие-на-цеу-кв.-м.-в-центре-СПб.\" data-toc-modified-id=\"Факторы,-влияющие-на-цеу-кв.-м.-в-центре-СПб.-4.5\"><span class=\"toc-item-num\">4.5&nbsp;&nbsp;</span>Факторы, влияющие на цеу кв. м. в центре СПб.</a></span></li></ul></li><li><span><a href=\"#Общий-вывод\" data-toc-modified-id=\"Общий-вывод-5\"><span class=\"toc-item-num\">5&nbsp;&nbsp;</span>Общий вывод</a></span></li><li><span><a href=\"#Чек-лист-готовности-проекта\" data-toc-modified-id=\"Чек-лист-готовности-проекта-6\"><span class=\"toc-item-num\">6&nbsp;&nbsp;</span>Чек-лист готовности проекта</a></span></li></ul></div>"
   ]
  },
  {
   "cell_type": "markdown",
   "metadata": {},
   "source": [
    "# Исследование объявлений о продаже квартир\n",
    "\n",
    "В нашем распоряжении данные сервиса Яндекс.Недвижимость — архив объявлений о продаже квартир в Санкт-Петербурге и соседних населённых пунктах за несколько лет. Нужно научиться определять рыночную стоимость объектов недвижимости. Наша задача — установить параметры. Это позволит построить автоматизированную систему: она отследит аномалии и мошенническую деятельность. \n",
    "\n",
    "По каждой квартире на продажу доступны два вида данных. Первые вписаны пользователем, вторые получены автоматически на основе картографических данных. Например, расстояние до центра, аэропорта, ближайшего парка и водоёма. "
   ]
  },
  {
   "cell_type": "markdown",
   "metadata": {},
   "source": [
    "## Изучение данных из файла"
   ]
  },
  {
   "cell_type": "code",
   "execution_count": 1,
   "metadata": {},
   "outputs": [
    {
     "data": {
      "text/html": [
       "<div>\n",
       "<style scoped>\n",
       "    .dataframe tbody tr th:only-of-type {\n",
       "        vertical-align: middle;\n",
       "    }\n",
       "\n",
       "    .dataframe tbody tr th {\n",
       "        vertical-align: top;\n",
       "    }\n",
       "\n",
       "    .dataframe thead th {\n",
       "        text-align: right;\n",
       "    }\n",
       "</style>\n",
       "<table border=\"1\" class=\"dataframe\">\n",
       "  <thead>\n",
       "    <tr style=\"text-align: right;\">\n",
       "      <th></th>\n",
       "      <th>total_images</th>\n",
       "      <th>last_price</th>\n",
       "      <th>total_area</th>\n",
       "      <th>first_day_exposition</th>\n",
       "      <th>rooms</th>\n",
       "      <th>ceiling_height</th>\n",
       "      <th>floors_total</th>\n",
       "      <th>living_area</th>\n",
       "      <th>floor</th>\n",
       "      <th>is_apartment</th>\n",
       "      <th>studio</th>\n",
       "      <th>open_plan</th>\n",
       "      <th>kitchen_area</th>\n",
       "      <th>balcony</th>\n",
       "      <th>locality_name</th>\n",
       "      <th>airports_nearest</th>\n",
       "      <th>cityCenters_nearest</th>\n",
       "      <th>parks_around3000</th>\n",
       "      <th>parks_nearest</th>\n",
       "      <th>ponds_around3000</th>\n",
       "      <th>ponds_nearest</th>\n",
       "      <th>days_exposition</th>\n",
       "    </tr>\n",
       "  </thead>\n",
       "  <tbody>\n",
       "    <tr>\n",
       "      <td>0</td>\n",
       "      <td>20</td>\n",
       "      <td>13000000.0</td>\n",
       "      <td>108.0</td>\n",
       "      <td>2019-03-07T00:00:00</td>\n",
       "      <td>3</td>\n",
       "      <td>2.70</td>\n",
       "      <td>16.0</td>\n",
       "      <td>51.0</td>\n",
       "      <td>8</td>\n",
       "      <td>NaN</td>\n",
       "      <td>False</td>\n",
       "      <td>False</td>\n",
       "      <td>25.0</td>\n",
       "      <td>NaN</td>\n",
       "      <td>Санкт-Петербург</td>\n",
       "      <td>18863.0</td>\n",
       "      <td>16028.0</td>\n",
       "      <td>1.0</td>\n",
       "      <td>482.0</td>\n",
       "      <td>2.0</td>\n",
       "      <td>755.0</td>\n",
       "      <td>NaN</td>\n",
       "    </tr>\n",
       "    <tr>\n",
       "      <td>1</td>\n",
       "      <td>7</td>\n",
       "      <td>3350000.0</td>\n",
       "      <td>40.4</td>\n",
       "      <td>2018-12-04T00:00:00</td>\n",
       "      <td>1</td>\n",
       "      <td>NaN</td>\n",
       "      <td>11.0</td>\n",
       "      <td>18.6</td>\n",
       "      <td>1</td>\n",
       "      <td>NaN</td>\n",
       "      <td>False</td>\n",
       "      <td>False</td>\n",
       "      <td>11.0</td>\n",
       "      <td>2.0</td>\n",
       "      <td>посёлок Шушары</td>\n",
       "      <td>12817.0</td>\n",
       "      <td>18603.0</td>\n",
       "      <td>0.0</td>\n",
       "      <td>NaN</td>\n",
       "      <td>0.0</td>\n",
       "      <td>NaN</td>\n",
       "      <td>81.0</td>\n",
       "    </tr>\n",
       "    <tr>\n",
       "      <td>2</td>\n",
       "      <td>10</td>\n",
       "      <td>5196000.0</td>\n",
       "      <td>56.0</td>\n",
       "      <td>2015-08-20T00:00:00</td>\n",
       "      <td>2</td>\n",
       "      <td>NaN</td>\n",
       "      <td>5.0</td>\n",
       "      <td>34.3</td>\n",
       "      <td>4</td>\n",
       "      <td>NaN</td>\n",
       "      <td>False</td>\n",
       "      <td>False</td>\n",
       "      <td>8.3</td>\n",
       "      <td>0.0</td>\n",
       "      <td>Санкт-Петербург</td>\n",
       "      <td>21741.0</td>\n",
       "      <td>13933.0</td>\n",
       "      <td>1.0</td>\n",
       "      <td>90.0</td>\n",
       "      <td>2.0</td>\n",
       "      <td>574.0</td>\n",
       "      <td>558.0</td>\n",
       "    </tr>\n",
       "    <tr>\n",
       "      <td>3</td>\n",
       "      <td>0</td>\n",
       "      <td>64900000.0</td>\n",
       "      <td>159.0</td>\n",
       "      <td>2015-07-24T00:00:00</td>\n",
       "      <td>3</td>\n",
       "      <td>NaN</td>\n",
       "      <td>14.0</td>\n",
       "      <td>NaN</td>\n",
       "      <td>9</td>\n",
       "      <td>NaN</td>\n",
       "      <td>False</td>\n",
       "      <td>False</td>\n",
       "      <td>NaN</td>\n",
       "      <td>0.0</td>\n",
       "      <td>Санкт-Петербург</td>\n",
       "      <td>28098.0</td>\n",
       "      <td>6800.0</td>\n",
       "      <td>2.0</td>\n",
       "      <td>84.0</td>\n",
       "      <td>3.0</td>\n",
       "      <td>234.0</td>\n",
       "      <td>424.0</td>\n",
       "    </tr>\n",
       "    <tr>\n",
       "      <td>4</td>\n",
       "      <td>2</td>\n",
       "      <td>10000000.0</td>\n",
       "      <td>100.0</td>\n",
       "      <td>2018-06-19T00:00:00</td>\n",
       "      <td>2</td>\n",
       "      <td>3.03</td>\n",
       "      <td>14.0</td>\n",
       "      <td>32.0</td>\n",
       "      <td>13</td>\n",
       "      <td>NaN</td>\n",
       "      <td>False</td>\n",
       "      <td>False</td>\n",
       "      <td>41.0</td>\n",
       "      <td>NaN</td>\n",
       "      <td>Санкт-Петербург</td>\n",
       "      <td>31856.0</td>\n",
       "      <td>8098.0</td>\n",
       "      <td>2.0</td>\n",
       "      <td>112.0</td>\n",
       "      <td>1.0</td>\n",
       "      <td>48.0</td>\n",
       "      <td>121.0</td>\n",
       "    </tr>\n",
       "  </tbody>\n",
       "</table>\n",
       "</div>"
      ],
      "text/plain": [
       "   total_images  last_price  total_area first_day_exposition  rooms  \\\n",
       "0            20  13000000.0       108.0  2019-03-07T00:00:00      3   \n",
       "1             7   3350000.0        40.4  2018-12-04T00:00:00      1   \n",
       "2            10   5196000.0        56.0  2015-08-20T00:00:00      2   \n",
       "3             0  64900000.0       159.0  2015-07-24T00:00:00      3   \n",
       "4             2  10000000.0       100.0  2018-06-19T00:00:00      2   \n",
       "\n",
       "   ceiling_height  floors_total  living_area  floor is_apartment  studio  \\\n",
       "0            2.70          16.0         51.0      8          NaN   False   \n",
       "1             NaN          11.0         18.6      1          NaN   False   \n",
       "2             NaN           5.0         34.3      4          NaN   False   \n",
       "3             NaN          14.0          NaN      9          NaN   False   \n",
       "4            3.03          14.0         32.0     13          NaN   False   \n",
       "\n",
       "   open_plan  kitchen_area  balcony    locality_name  airports_nearest  \\\n",
       "0      False          25.0      NaN  Санкт-Петербург           18863.0   \n",
       "1      False          11.0      2.0   посёлок Шушары           12817.0   \n",
       "2      False           8.3      0.0  Санкт-Петербург           21741.0   \n",
       "3      False           NaN      0.0  Санкт-Петербург           28098.0   \n",
       "4      False          41.0      NaN  Санкт-Петербург           31856.0   \n",
       "\n",
       "   cityCenters_nearest  parks_around3000  parks_nearest  ponds_around3000  \\\n",
       "0              16028.0               1.0          482.0               2.0   \n",
       "1              18603.0               0.0            NaN               0.0   \n",
       "2              13933.0               1.0           90.0               2.0   \n",
       "3               6800.0               2.0           84.0               3.0   \n",
       "4               8098.0               2.0          112.0               1.0   \n",
       "\n",
       "   ponds_nearest  days_exposition  \n",
       "0          755.0              NaN  \n",
       "1            NaN             81.0  \n",
       "2          574.0            558.0  \n",
       "3          234.0            424.0  \n",
       "4           48.0            121.0  "
      ]
     },
     "metadata": {},
     "output_type": "display_data"
    },
    {
     "name": "stdout",
     "output_type": "stream",
     "text": [
      "<class 'pandas.core.frame.DataFrame'>\n",
      "RangeIndex: 23699 entries, 0 to 23698\n",
      "Data columns (total 22 columns):\n",
      "total_images            23699 non-null int64\n",
      "last_price              23699 non-null float64\n",
      "total_area              23699 non-null float64\n",
      "first_day_exposition    23699 non-null object\n",
      "rooms                   23699 non-null int64\n",
      "ceiling_height          14504 non-null float64\n",
      "floors_total            23613 non-null float64\n",
      "living_area             21796 non-null float64\n",
      "floor                   23699 non-null int64\n",
      "is_apartment            2775 non-null object\n",
      "studio                  23699 non-null bool\n",
      "open_plan               23699 non-null bool\n",
      "kitchen_area            21421 non-null float64\n",
      "balcony                 12180 non-null float64\n",
      "locality_name           23650 non-null object\n",
      "airports_nearest        18157 non-null float64\n",
      "cityCenters_nearest     18180 non-null float64\n",
      "parks_around3000        18181 non-null float64\n",
      "parks_nearest           8079 non-null float64\n",
      "ponds_around3000        18181 non-null float64\n",
      "ponds_nearest           9110 non-null float64\n",
      "days_exposition         20518 non-null float64\n",
      "dtypes: bool(2), float64(14), int64(3), object(3)\n",
      "memory usage: 3.7+ MB\n"
     ]
    }
   ],
   "source": [
    "import pandas as pd\n",
    "import matplotlib.pyplot as plt\n",
    "\n",
    "df = pd.read_csv('/datasets/real_estate_data.csv', sep='\\t', decimal='.')\n",
    "pd.set_option('display.max_columns', None)\n",
    "display (df.head())\n",
    "df.info()"
   ]
  },
  {
   "cell_type": "code",
   "execution_count": 2,
   "metadata": {},
   "outputs": [
    {
     "data": {
      "text/plain": [
       "0"
      ]
     },
     "execution_count": 2,
     "metadata": {},
     "output_type": "execute_result"
    }
   ],
   "source": [
    "df.duplicated().sum()"
   ]
  },
  {
   "cell_type": "markdown",
   "metadata": {},
   "source": [
    "### Вывод\n",
    "Есть пропуски в столбцах. Вероятная причина - параметры квартиры, которые продавец не хочет афишировать, не заполняются (например, низкие потолки). Еще вариант из-за способа хранения данных, например, не заполняются нули для is_apartment, если это не апартаменты. Расстояния до парков и других объектов, наверняка, заполняются, автоматически в базе на основе адреса. Возможно, часть адресов не распознаны, и расстояния не посчитались. Необходимо задать вопросы администраторам системы.\n",
    "Также нужно тип данных для:\n",
    "- first_day_exposition на на дату\n",
    "- is_apartment на 'bool'\n",
    "- всех численных типов на целочисленный - знаки после запятой для этих полей лишние"
   ]
  },
  {
   "cell_type": "markdown",
   "metadata": {},
   "source": [
    "## Предобработка данных"
   ]
  },
  {
   "cell_type": "markdown",
   "metadata": {},
   "source": [
    "### Цена, день размещения объявления, число этажей"
   ]
  },
  {
   "cell_type": "code",
   "execution_count": 3,
   "metadata": {},
   "outputs": [],
   "source": [
    "df['last_price'] = round(df['last_price']/1000000,2) # перевели ед. измерения в млн руб.\n",
    "\n",
    "df['first_day_exposition'] = pd.to_datetime(df['first_day_exposition'],format='%Y-%m-%d') # убрали часы и минуты\n",
    "\n",
    "df=df.dropna(subset = ['floors_total']) #пропусков немного, поэтому можем удалить строки с NaN\n",
    "df['floors_total'] = df['floors_total'].astype('int')"
   ]
  },
  {
   "cell_type": "markdown",
   "metadata": {},
   "source": [
    "### Высота потолков\n",
    "Обработаем столбец ceiling_height. Найдем наиболее частую высоту потолка, чтобы заменить NaN на это значение."
   ]
  },
  {
   "cell_type": "code",
   "execution_count": 4,
   "metadata": {},
   "outputs": [
    {
     "data": {
      "image/png": "[encoded data removed]",
      "text/plain": [
       "<Figure size 432x288 with 1 Axes>"
      ]
     },
     "metadata": {
      "needs_background": "light"
     },
     "output_type": "display_data"
    }
   ],
   "source": [
    "#pd.pivot_table(df, index='ceiling_height', columns=['ceiling_height'], aggfunc='count')\n",
    "df.plot(kind='hist', y='ceiling_height', bins = 100, title='ceiling_height', range=(0, 10), xlim=(2,4))\n",
    "plt.show( )"
   ]
  },
  {
   "cell_type": "markdown",
   "metadata": {},
   "source": [
    "###### Вывод.\n",
    "\n",
    "Наиболее частый вариант потолка - 2,5м. Сделаем замену и уберем лишние знаки после запятой."
   ]
  },
  {
   "cell_type": "code",
   "execution_count": 5,
   "metadata": {},
   "outputs": [],
   "source": [
    "df['ceiling_height'] = df['ceiling_height'].fillna(2.5) #заменили на наиболее частый вариант\n",
    "df['ceiling_height'] = round(df['ceiling_height'],1)"
   ]
  },
  {
   "cell_type": "markdown",
   "metadata": {},
   "source": [
    "### Апартаменты и площадь\n",
    "Обработаем столбцы is_apartment,living_area, kitchen_area"
   ]
  },
  {
   "cell_type": "code",
   "execution_count": 6,
   "metadata": {},
   "outputs": [],
   "source": [
    "\n",
    "df['is_apartment'] = df['is_apartment'].fillna # уберем пропуски в is_apartment и переведем в логический тип данных\n",
    "df['is_apartment'] = df['is_apartment'].astype('bool')\n",
    "\n",
    "df['living_area'] = df['living_area'].fillna(0)\n",
    "\n",
    "df['kitchen_area'] = df['kitchen_area'].fillna(0)\n",
    "df['kitchen_area'] = df['kitchen_area'].astype('int')\n",
    "\n",
    "df['balcony'] = df['balcony'].fillna(0)\n",
    "df['balcony'] = df['balcony'].astype('int')"
   ]
  },
  {
   "cell_type": "markdown",
   "metadata": {},
   "source": []
  },
  {
   "cell_type": "markdown",
   "metadata": {},
   "source": [
    "### Парки и пруды\n",
    "\n",
    "Обработаем столбцы с данными по паркам и прудам. Проверим, есть ли парки/пруды в радиусе 3 км для строк с NaN в parks_nearest и ponds_nearest."
   ]
  },
  {
   "cell_type": "code",
   "execution_count": 7,
   "metadata": {},
   "outputs": [
    {
     "data": {
      "text/plain": [
       "0"
      ]
     },
     "metadata": {},
     "output_type": "display_data"
    },
    {
     "data": {
      "text/plain": [
       "0"
      ]
     },
     "execution_count": 7,
     "metadata": {},
     "output_type": "execute_result"
    }
   ],
   "source": [
    "parks_nearest_NaN=df.query('(parks_around3000>0) and (parks_nearest.isna())')\n",
    "display(len(parks_nearest_NaN))\n",
    "ponds_nearest_NaN=df.query('(ponds_around3000>0) and (ponds_nearest.isna())')\n",
    "len(ponds_nearest_NaN)"
   ]
  },
  {
   "cell_type": "markdown",
   "metadata": {},
   "source": [
    "###### Вывод.\n",
    "Квартиры, у которых нет данных о ближайшем парке и пруде (parks_nearest и ponds_nearest) не имеют парков и прудов в радиусе 3 км(parks_around3000 и ponds_around3000). Поэтому использовать данные из parks_around3000 и ponds_around3000 для заполнения NaN в parks_nearest и ponds_nearest не получится. Для квартир, у которых в столбцах parks_nearest и ponds_nearest и parks_around3000 и ponds_around3000 нет данных, поставим данные \"10 000\", чтобы обозначить отсутствие парков, прудов поблизости."
   ]
  },
  {
   "cell_type": "code",
   "execution_count": 8,
   "metadata": {},
   "outputs": [],
   "source": [
    "columns = ['parks_around3000', 'parks_nearest', 'ponds_around3000', 'ponds_nearest']\n",
    "for column in columns:\n",
    "    df[column] = (\n",
    "        df[column]\n",
    "        .fillna(10000)\n",
    "        .astype('int')\n",
    "    )"
   ]
  },
  {
   "cell_type": "markdown",
   "metadata": {},
   "source": [
    "### Расстояние до центра"
   ]
  },
  {
   "cell_type": "markdown",
   "metadata": {},
   "source": [
    "Удалим строки с пропусками в cityCenters_nearest(так как эти данные используются при расчете цены км до центра, заполнять пропуски, оновываясь на каком-либо допущении (например, по-среднему или медиане)некорректно."
   ]
  },
  {
   "cell_type": "code",
   "execution_count": 9,
   "metadata": {},
   "outputs": [],
   "source": [
    "df=df.dropna(subset = ['cityCenters_nearest'])\n",
    "#df['cityCenters_nearest'] = df['cityCenters_nearest'].astype('int')"
   ]
  },
  {
   "cell_type": "markdown",
   "metadata": {},
   "source": [
    "### Ближайший аэропорт, дни экспозиции объявления и название локации\n",
    "\n",
    "Обработаем столбцы airports_nearest, days_exposition, locality_name"
   ]
  },
  {
   "cell_type": "code",
   "execution_count": 10,
   "metadata": {},
   "outputs": [
    {
     "name": "stdout",
     "output_type": "stream",
     "text": [
      "<class 'pandas.core.frame.DataFrame'>\n",
      "Int64Index: 18104 entries, 0 to 23697\n",
      "Data columns (total 22 columns):\n",
      "total_images            18104 non-null int64\n",
      "last_price              18104 non-null float64\n",
      "total_area              18104 non-null float64\n",
      "first_day_exposition    18104 non-null datetime64[ns]\n",
      "rooms                   18104 non-null int64\n",
      "ceiling_height          18104 non-null float64\n",
      "floors_total            18104 non-null int64\n",
      "living_area             18104 non-null float64\n",
      "floor                   18104 non-null int64\n",
      "is_apartment            18104 non-null bool\n",
      "studio                  18104 non-null bool\n",
      "open_plan               18104 non-null bool\n",
      "kitchen_area            18104 non-null int64\n",
      "balcony                 18104 non-null int64\n",
      "locality_name           18104 non-null object\n",
      "airports_nearest        18104 non-null int64\n",
      "cityCenters_nearest     18104 non-null float64\n",
      "parks_around3000        18104 non-null int64\n",
      "parks_nearest           18104 non-null int64\n",
      "ponds_around3000        18104 non-null int64\n",
      "ponds_nearest           18104 non-null int64\n",
      "days_exposition         18104 non-null int64\n",
      "dtypes: bool(3), datetime64[ns](1), float64(5), int64(12), object(1)\n",
      "memory usage: 2.8+ MB\n"
     ]
    }
   ],
   "source": [
    "df['airports_nearest']=df.fillna(df['airports_nearest'].median()) # заполняем пропуски медианой\n",
    "df['airports_nearest'] = df['airports_nearest'].astype('int')\n",
    "\n",
    "df['days_exposition'] = df['days_exposition'].fillna(0)\n",
    "df['days_exposition'] = df['days_exposition'].astype('int')\n",
    "\n",
    "df['locality_name'] = df['locality_name'].fillna('Санкт-Петербург')\n",
    "df.info()"
   ]
  },
  {
   "cell_type": "markdown",
   "metadata": {},
   "source": [
    "### Вывод - предобработка данных.\n",
    "Мы избавились от пропусков: удалили строки с пропусками в столбцах количество этажей и расстояние до центра, так как заполнение их на основе других данных невозможно или исказит выводы исследования(таких строк не много от общего числа). Изменили типы данных для оплтимальной работы с данными. Неявными дубликатами в locality_name займемся на этапе исследования объявлений по локациям."
   ]
  },
  {
   "cell_type": "markdown",
   "metadata": {},
   "source": [
    "## Расчёты и добавление результатов в таблицу"
   ]
  },
  {
   "cell_type": "markdown",
   "metadata": {},
   "source": [
    "### Расчет стоимости кв. метра (руб/кв.м.)"
   ]
  },
  {
   "cell_type": "code",
   "execution_count": 11,
   "metadata": {},
   "outputs": [],
   "source": [
    "df['price_sq_m'] = (df['last_price'] / df['total_area']*10**6).astype('int')"
   ]
  },
  {
   "cell_type": "markdown",
   "metadata": {},
   "source": [
    "### Определение дня недели, месяца и года публикации объявления"
   ]
  },
  {
   "cell_type": "code",
   "execution_count": 12,
   "metadata": {},
   "outputs": [
    {
     "data": {
      "text/html": [
       "<div>\n",
       "<style scoped>\n",
       "    .dataframe tbody tr th:only-of-type {\n",
       "        vertical-align: middle;\n",
       "    }\n",
       "\n",
       "    .dataframe tbody tr th {\n",
       "        vertical-align: top;\n",
       "    }\n",
       "\n",
       "    .dataframe thead th {\n",
       "        text-align: right;\n",
       "    }\n",
       "</style>\n",
       "<table border=\"1\" class=\"dataframe\">\n",
       "  <thead>\n",
       "    <tr style=\"text-align: right;\">\n",
       "      <th></th>\n",
       "      <th>total_images</th>\n",
       "      <th>last_price</th>\n",
       "      <th>total_area</th>\n",
       "      <th>first_day_exposition</th>\n",
       "      <th>rooms</th>\n",
       "      <th>ceiling_height</th>\n",
       "      <th>floors_total</th>\n",
       "      <th>living_area</th>\n",
       "      <th>floor</th>\n",
       "      <th>is_apartment</th>\n",
       "      <th>studio</th>\n",
       "      <th>open_plan</th>\n",
       "      <th>kitchen_area</th>\n",
       "      <th>balcony</th>\n",
       "      <th>locality_name</th>\n",
       "      <th>airports_nearest</th>\n",
       "      <th>cityCenters_nearest</th>\n",
       "      <th>parks_around3000</th>\n",
       "      <th>parks_nearest</th>\n",
       "      <th>ponds_around3000</th>\n",
       "      <th>ponds_nearest</th>\n",
       "      <th>days_exposition</th>\n",
       "      <th>price_sq_m</th>\n",
       "      <th>weekday</th>\n",
       "      <th>month</th>\n",
       "      <th>year</th>\n",
       "    </tr>\n",
       "  </thead>\n",
       "  <tbody>\n",
       "    <tr>\n",
       "      <td>0</td>\n",
       "      <td>20</td>\n",
       "      <td>13.00</td>\n",
       "      <td>108.0</td>\n",
       "      <td>2019-03-07</td>\n",
       "      <td>3</td>\n",
       "      <td>2.7</td>\n",
       "      <td>16</td>\n",
       "      <td>51.0</td>\n",
       "      <td>8</td>\n",
       "      <td>True</td>\n",
       "      <td>False</td>\n",
       "      <td>False</td>\n",
       "      <td>25</td>\n",
       "      <td>0</td>\n",
       "      <td>Санкт-Петербург</td>\n",
       "      <td>20</td>\n",
       "      <td>16028.0</td>\n",
       "      <td>1</td>\n",
       "      <td>482</td>\n",
       "      <td>2</td>\n",
       "      <td>755</td>\n",
       "      <td>0</td>\n",
       "      <td>120370</td>\n",
       "      <td>3</td>\n",
       "      <td>3</td>\n",
       "      <td>2019</td>\n",
       "    </tr>\n",
       "    <tr>\n",
       "      <td>1</td>\n",
       "      <td>7</td>\n",
       "      <td>3.35</td>\n",
       "      <td>40.4</td>\n",
       "      <td>2018-12-04</td>\n",
       "      <td>1</td>\n",
       "      <td>2.5</td>\n",
       "      <td>11</td>\n",
       "      <td>18.6</td>\n",
       "      <td>1</td>\n",
       "      <td>True</td>\n",
       "      <td>False</td>\n",
       "      <td>False</td>\n",
       "      <td>11</td>\n",
       "      <td>2</td>\n",
       "      <td>посёлок Шушары</td>\n",
       "      <td>7</td>\n",
       "      <td>18603.0</td>\n",
       "      <td>0</td>\n",
       "      <td>10000</td>\n",
       "      <td>0</td>\n",
       "      <td>10000</td>\n",
       "      <td>81</td>\n",
       "      <td>82920</td>\n",
       "      <td>1</td>\n",
       "      <td>12</td>\n",
       "      <td>2018</td>\n",
       "    </tr>\n",
       "    <tr>\n",
       "      <td>2</td>\n",
       "      <td>10</td>\n",
       "      <td>5.20</td>\n",
       "      <td>56.0</td>\n",
       "      <td>2015-08-20</td>\n",
       "      <td>2</td>\n",
       "      <td>2.5</td>\n",
       "      <td>5</td>\n",
       "      <td>34.3</td>\n",
       "      <td>4</td>\n",
       "      <td>True</td>\n",
       "      <td>False</td>\n",
       "      <td>False</td>\n",
       "      <td>8</td>\n",
       "      <td>0</td>\n",
       "      <td>Санкт-Петербург</td>\n",
       "      <td>10</td>\n",
       "      <td>13933.0</td>\n",
       "      <td>1</td>\n",
       "      <td>90</td>\n",
       "      <td>2</td>\n",
       "      <td>574</td>\n",
       "      <td>558</td>\n",
       "      <td>92857</td>\n",
       "      <td>3</td>\n",
       "      <td>8</td>\n",
       "      <td>2015</td>\n",
       "    </tr>\n",
       "    <tr>\n",
       "      <td>3</td>\n",
       "      <td>0</td>\n",
       "      <td>64.90</td>\n",
       "      <td>159.0</td>\n",
       "      <td>2015-07-24</td>\n",
       "      <td>3</td>\n",
       "      <td>2.5</td>\n",
       "      <td>14</td>\n",
       "      <td>0.0</td>\n",
       "      <td>9</td>\n",
       "      <td>True</td>\n",
       "      <td>False</td>\n",
       "      <td>False</td>\n",
       "      <td>0</td>\n",
       "      <td>0</td>\n",
       "      <td>Санкт-Петербург</td>\n",
       "      <td>0</td>\n",
       "      <td>6800.0</td>\n",
       "      <td>2</td>\n",
       "      <td>84</td>\n",
       "      <td>3</td>\n",
       "      <td>234</td>\n",
       "      <td>424</td>\n",
       "      <td>408176</td>\n",
       "      <td>4</td>\n",
       "      <td>7</td>\n",
       "      <td>2015</td>\n",
       "    </tr>\n",
       "    <tr>\n",
       "      <td>4</td>\n",
       "      <td>2</td>\n",
       "      <td>10.00</td>\n",
       "      <td>100.0</td>\n",
       "      <td>2018-06-19</td>\n",
       "      <td>2</td>\n",
       "      <td>3.0</td>\n",
       "      <td>14</td>\n",
       "      <td>32.0</td>\n",
       "      <td>13</td>\n",
       "      <td>True</td>\n",
       "      <td>False</td>\n",
       "      <td>False</td>\n",
       "      <td>41</td>\n",
       "      <td>0</td>\n",
       "      <td>Санкт-Петербург</td>\n",
       "      <td>2</td>\n",
       "      <td>8098.0</td>\n",
       "      <td>2</td>\n",
       "      <td>112</td>\n",
       "      <td>1</td>\n",
       "      <td>48</td>\n",
       "      <td>121</td>\n",
       "      <td>100000</td>\n",
       "      <td>1</td>\n",
       "      <td>6</td>\n",
       "      <td>2018</td>\n",
       "    </tr>\n",
       "  </tbody>\n",
       "</table>\n",
       "</div>"
      ],
      "text/plain": [
       "   total_images  last_price  total_area first_day_exposition  rooms  \\\n",
       "0            20       13.00       108.0           2019-03-07      3   \n",
       "1             7        3.35        40.4           2018-12-04      1   \n",
       "2            10        5.20        56.0           2015-08-20      2   \n",
       "3             0       64.90       159.0           2015-07-24      3   \n",
       "4             2       10.00       100.0           2018-06-19      2   \n",
       "\n",
       "   ceiling_height  floors_total  living_area  floor  is_apartment  studio  \\\n",
       "0             2.7            16         51.0      8          True   False   \n",
       "1             2.5            11         18.6      1          True   False   \n",
       "2             2.5             5         34.3      4          True   False   \n",
       "3             2.5            14          0.0      9          True   False   \n",
       "4             3.0            14         32.0     13          True   False   \n",
       "\n",
       "   open_plan  kitchen_area  balcony    locality_name  airports_nearest  \\\n",
       "0      False            25        0  Санкт-Петербург                20   \n",
       "1      False            11        2   посёлок Шушары                 7   \n",
       "2      False             8        0  Санкт-Петербург                10   \n",
       "3      False             0        0  Санкт-Петербург                 0   \n",
       "4      False            41        0  Санкт-Петербург                 2   \n",
       "\n",
       "   cityCenters_nearest  parks_around3000  parks_nearest  ponds_around3000  \\\n",
       "0              16028.0                 1            482                 2   \n",
       "1              18603.0                 0          10000                 0   \n",
       "2              13933.0                 1             90                 2   \n",
       "3               6800.0                 2             84                 3   \n",
       "4               8098.0                 2            112                 1   \n",
       "\n",
       "   ponds_nearest  days_exposition  price_sq_m  weekday  month  year  \n",
       "0            755                0      120370        3      3  2019  \n",
       "1          10000               81       82920        1     12  2018  \n",
       "2            574              558       92857        3      8  2015  \n",
       "3            234              424      408176        4      7  2015  \n",
       "4             48              121      100000        1      6  2018  "
      ]
     },
     "metadata": {},
     "output_type": "display_data"
    }
   ],
   "source": [
    "df['weekday'] = df[\"first_day_exposition\"].dt.dayofweek\n",
    "df['month'] = df[\"first_day_exposition\"].dt.month\n",
    "df['year'] = df[\"first_day_exposition\"].dt.year\n",
    "display (df.head())"
   ]
  },
  {
   "cell_type": "markdown",
   "metadata": {},
   "source": [
    "### Определение типа этажа"
   ]
  },
  {
   "cell_type": "code",
   "execution_count": 13,
   "metadata": {},
   "outputs": [],
   "source": [
    "def floor_type(row):\n",
    "#\"\"\"Определения типа этажа: первый, последний, другой\"\"\"\n",
    "    floors_total = row['floors_total']\n",
    "    floor = row['floor']\n",
    "    if floor == 1:\n",
    "        return 'первый'\n",
    "    if floor == floors_total:\n",
    "        return 'последний'\n",
    "    return 'другой'\n",
    "df['floor_type'] = df.apply(floor_type,axis = 1)"
   ]
  },
  {
   "cell_type": "markdown",
   "metadata": {},
   "source": [
    "### Соотношение жилой и общей площади, а также отношение площади кухни к общей."
   ]
  },
  {
   "cell_type": "code",
   "execution_count": 14,
   "metadata": {},
   "outputs": [
    {
     "data": {
      "text/html": [
       "<div>\n",
       "<style scoped>\n",
       "    .dataframe tbody tr th:only-of-type {\n",
       "        vertical-align: middle;\n",
       "    }\n",
       "\n",
       "    .dataframe tbody tr th {\n",
       "        vertical-align: top;\n",
       "    }\n",
       "\n",
       "    .dataframe thead th {\n",
       "        text-align: right;\n",
       "    }\n",
       "</style>\n",
       "<table border=\"1\" class=\"dataframe\">\n",
       "  <thead>\n",
       "    <tr style=\"text-align: right;\">\n",
       "      <th></th>\n",
       "      <th>total_images</th>\n",
       "      <th>last_price</th>\n",
       "      <th>total_area</th>\n",
       "      <th>first_day_exposition</th>\n",
       "      <th>rooms</th>\n",
       "      <th>ceiling_height</th>\n",
       "      <th>floors_total</th>\n",
       "      <th>living_area</th>\n",
       "      <th>floor</th>\n",
       "      <th>is_apartment</th>\n",
       "      <th>studio</th>\n",
       "      <th>open_plan</th>\n",
       "      <th>kitchen_area</th>\n",
       "      <th>balcony</th>\n",
       "      <th>locality_name</th>\n",
       "      <th>airports_nearest</th>\n",
       "      <th>cityCenters_nearest</th>\n",
       "      <th>parks_around3000</th>\n",
       "      <th>parks_nearest</th>\n",
       "      <th>ponds_around3000</th>\n",
       "      <th>ponds_nearest</th>\n",
       "      <th>days_exposition</th>\n",
       "      <th>price_sq_m</th>\n",
       "      <th>weekday</th>\n",
       "      <th>month</th>\n",
       "      <th>year</th>\n",
       "      <th>floor_type</th>\n",
       "      <th>living_area_ratio</th>\n",
       "      <th>kitchen_area_ratio</th>\n",
       "    </tr>\n",
       "  </thead>\n",
       "  <tbody>\n",
       "    <tr>\n",
       "      <td>0</td>\n",
       "      <td>20</td>\n",
       "      <td>13.00</td>\n",
       "      <td>108.0</td>\n",
       "      <td>2019-03-07</td>\n",
       "      <td>3</td>\n",
       "      <td>2.7</td>\n",
       "      <td>16</td>\n",
       "      <td>51.0</td>\n",
       "      <td>8</td>\n",
       "      <td>True</td>\n",
       "      <td>False</td>\n",
       "      <td>False</td>\n",
       "      <td>25</td>\n",
       "      <td>0</td>\n",
       "      <td>Санкт-Петербург</td>\n",
       "      <td>20</td>\n",
       "      <td>16028.0</td>\n",
       "      <td>1</td>\n",
       "      <td>482</td>\n",
       "      <td>2</td>\n",
       "      <td>755</td>\n",
       "      <td>0</td>\n",
       "      <td>120370</td>\n",
       "      <td>3</td>\n",
       "      <td>3</td>\n",
       "      <td>2019</td>\n",
       "      <td>другой</td>\n",
       "      <td>0.47</td>\n",
       "      <td>0.23</td>\n",
       "    </tr>\n",
       "    <tr>\n",
       "      <td>1</td>\n",
       "      <td>7</td>\n",
       "      <td>3.35</td>\n",
       "      <td>40.4</td>\n",
       "      <td>2018-12-04</td>\n",
       "      <td>1</td>\n",
       "      <td>2.5</td>\n",
       "      <td>11</td>\n",
       "      <td>18.6</td>\n",
       "      <td>1</td>\n",
       "      <td>True</td>\n",
       "      <td>False</td>\n",
       "      <td>False</td>\n",
       "      <td>11</td>\n",
       "      <td>2</td>\n",
       "      <td>посёлок Шушары</td>\n",
       "      <td>7</td>\n",
       "      <td>18603.0</td>\n",
       "      <td>0</td>\n",
       "      <td>10000</td>\n",
       "      <td>0</td>\n",
       "      <td>10000</td>\n",
       "      <td>81</td>\n",
       "      <td>82920</td>\n",
       "      <td>1</td>\n",
       "      <td>12</td>\n",
       "      <td>2018</td>\n",
       "      <td>первый</td>\n",
       "      <td>0.46</td>\n",
       "      <td>0.27</td>\n",
       "    </tr>\n",
       "    <tr>\n",
       "      <td>2</td>\n",
       "      <td>10</td>\n",
       "      <td>5.20</td>\n",
       "      <td>56.0</td>\n",
       "      <td>2015-08-20</td>\n",
       "      <td>2</td>\n",
       "      <td>2.5</td>\n",
       "      <td>5</td>\n",
       "      <td>34.3</td>\n",
       "      <td>4</td>\n",
       "      <td>True</td>\n",
       "      <td>False</td>\n",
       "      <td>False</td>\n",
       "      <td>8</td>\n",
       "      <td>0</td>\n",
       "      <td>Санкт-Петербург</td>\n",
       "      <td>10</td>\n",
       "      <td>13933.0</td>\n",
       "      <td>1</td>\n",
       "      <td>90</td>\n",
       "      <td>2</td>\n",
       "      <td>574</td>\n",
       "      <td>558</td>\n",
       "      <td>92857</td>\n",
       "      <td>3</td>\n",
       "      <td>8</td>\n",
       "      <td>2015</td>\n",
       "      <td>другой</td>\n",
       "      <td>0.61</td>\n",
       "      <td>0.14</td>\n",
       "    </tr>\n",
       "    <tr>\n",
       "      <td>3</td>\n",
       "      <td>0</td>\n",
       "      <td>64.90</td>\n",
       "      <td>159.0</td>\n",
       "      <td>2015-07-24</td>\n",
       "      <td>3</td>\n",
       "      <td>2.5</td>\n",
       "      <td>14</td>\n",
       "      <td>0.0</td>\n",
       "      <td>9</td>\n",
       "      <td>True</td>\n",
       "      <td>False</td>\n",
       "      <td>False</td>\n",
       "      <td>0</td>\n",
       "      <td>0</td>\n",
       "      <td>Санкт-Петербург</td>\n",
       "      <td>0</td>\n",
       "      <td>6800.0</td>\n",
       "      <td>2</td>\n",
       "      <td>84</td>\n",
       "      <td>3</td>\n",
       "      <td>234</td>\n",
       "      <td>424</td>\n",
       "      <td>408176</td>\n",
       "      <td>4</td>\n",
       "      <td>7</td>\n",
       "      <td>2015</td>\n",
       "      <td>другой</td>\n",
       "      <td>0.00</td>\n",
       "      <td>0.00</td>\n",
       "    </tr>\n",
       "    <tr>\n",
       "      <td>4</td>\n",
       "      <td>2</td>\n",
       "      <td>10.00</td>\n",
       "      <td>100.0</td>\n",
       "      <td>2018-06-19</td>\n",
       "      <td>2</td>\n",
       "      <td>3.0</td>\n",
       "      <td>14</td>\n",
       "      <td>32.0</td>\n",
       "      <td>13</td>\n",
       "      <td>True</td>\n",
       "      <td>False</td>\n",
       "      <td>False</td>\n",
       "      <td>41</td>\n",
       "      <td>0</td>\n",
       "      <td>Санкт-Петербург</td>\n",
       "      <td>2</td>\n",
       "      <td>8098.0</td>\n",
       "      <td>2</td>\n",
       "      <td>112</td>\n",
       "      <td>1</td>\n",
       "      <td>48</td>\n",
       "      <td>121</td>\n",
       "      <td>100000</td>\n",
       "      <td>1</td>\n",
       "      <td>6</td>\n",
       "      <td>2018</td>\n",
       "      <td>другой</td>\n",
       "      <td>0.32</td>\n",
       "      <td>0.41</td>\n",
       "    </tr>\n",
       "  </tbody>\n",
       "</table>\n",
       "</div>"
      ],
      "text/plain": [
       "   total_images  last_price  total_area first_day_exposition  rooms  \\\n",
       "0            20       13.00       108.0           2019-03-07      3   \n",
       "1             7        3.35        40.4           2018-12-04      1   \n",
       "2            10        5.20        56.0           2015-08-20      2   \n",
       "3             0       64.90       159.0           2015-07-24      3   \n",
       "4             2       10.00       100.0           2018-06-19      2   \n",
       "\n",
       "   ceiling_height  floors_total  living_area  floor  is_apartment  studio  \\\n",
       "0             2.7            16         51.0      8          True   False   \n",
       "1             2.5            11         18.6      1          True   False   \n",
       "2             2.5             5         34.3      4          True   False   \n",
       "3             2.5            14          0.0      9          True   False   \n",
       "4             3.0            14         32.0     13          True   False   \n",
       "\n",
       "   open_plan  kitchen_area  balcony    locality_name  airports_nearest  \\\n",
       "0      False            25        0  Санкт-Петербург                20   \n",
       "1      False            11        2   посёлок Шушары                 7   \n",
       "2      False             8        0  Санкт-Петербург                10   \n",
       "3      False             0        0  Санкт-Петербург                 0   \n",
       "4      False            41        0  Санкт-Петербург                 2   \n",
       "\n",
       "   cityCenters_nearest  parks_around3000  parks_nearest  ponds_around3000  \\\n",
       "0              16028.0                 1            482                 2   \n",
       "1              18603.0                 0          10000                 0   \n",
       "2              13933.0                 1             90                 2   \n",
       "3               6800.0                 2             84                 3   \n",
       "4               8098.0                 2            112                 1   \n",
       "\n",
       "   ponds_nearest  days_exposition  price_sq_m  weekday  month  year  \\\n",
       "0            755                0      120370        3      3  2019   \n",
       "1          10000               81       82920        1     12  2018   \n",
       "2            574              558       92857        3      8  2015   \n",
       "3            234              424      408176        4      7  2015   \n",
       "4             48              121      100000        1      6  2018   \n",
       "\n",
       "  floor_type  living_area_ratio  kitchen_area_ratio  \n",
       "0     другой               0.47                0.23  \n",
       "1     первый               0.46                0.27  \n",
       "2     другой               0.61                0.14  \n",
       "3     другой               0.00                0.00  \n",
       "4     другой               0.32                0.41  "
      ]
     },
     "metadata": {},
     "output_type": "display_data"
    }
   ],
   "source": [
    "df['living_area_ratio'] = round(df['living_area'] / df['total_area'],2)\n",
    "df['kitchen_area_ratio'] = round(df['kitchen_area'] / df['total_area'],2)\n",
    "display (df.head())"
   ]
  },
  {
   "cell_type": "markdown",
   "metadata": {},
   "source": [
    "### Выводы\n",
    "\n",
    "Мы обогатили базу необходимыми для исследования показателями"
   ]
  },
  {
   "cell_type": "markdown",
   "metadata": {},
   "source": [
    "## Исследовательский анализ данных"
   ]
  },
  {
   "cell_type": "markdown",
   "metadata": {},
   "source": [
    "### Распределение параметров : площадь, цена, число комнат, высота потолков"
   ]
  },
  {
   "cell_type": "code",
   "execution_count": 15,
   "metadata": {},
   "outputs": [
    {
     "data": {
      "image/png": "[encoded data removed]",
      "text/plain": [
       "<Figure size 432x288 with 1 Axes>"
      ]
     },
     "metadata": {
      "needs_background": "light"
     },
     "output_type": "display_data"
    },
    {
     "data": {
      "text/plain": [
       "'Среднее: 63.35561036235086'"
      ]
     },
     "metadata": {},
     "output_type": "display_data"
    },
    {
     "data": {
      "text/plain": [
       "'Медиана:54.0'"
      ]
     },
     "metadata": {},
     "output_type": "display_data"
    },
    {
     "data": {
      "image/png": "[encoded data removed]",
      "text/plain": [
       "<Figure size 432x288 with 1 Axes>"
      ]
     },
     "metadata": {
      "needs_background": "light"
     },
     "output_type": "display_data"
    },
    {
     "data": {
      "text/plain": [
       "'Среднее: 110648.9384666372'"
      ]
     },
     "metadata": {},
     "output_type": "display_data"
    },
    {
     "data": {
      "text/plain": [
       "'Медиана:101666.0'"
      ]
     },
     "metadata": {},
     "output_type": "display_data"
    },
    {
     "data": {
      "image/png": "[encoded data removed]",
      "text/plain": [
       "<Figure size 432x288 with 1 Axes>"
      ]
     },
     "metadata": {
      "needs_background": "light"
     },
     "output_type": "display_data"
    },
    {
     "data": {
      "text/plain": [
       "'Среднее: 2.139969067609368'"
      ]
     },
     "metadata": {},
     "output_type": "display_data"
    },
    {
     "data": {
      "text/plain": [
       "'Медиана:2.0'"
      ]
     },
     "metadata": {},
     "output_type": "display_data"
    },
    {
     "data": {
      "image/png": "[encoded data removed]",
      "text/plain": [
       "<Figure size 432x288 with 1 Axes>"
      ]
     },
     "metadata": {
      "needs_background": "light"
     },
     "output_type": "display_data"
    },
    {
     "data": {
      "text/plain": [
       "'Среднее: 2.6852408307556344'"
      ]
     },
     "metadata": {},
     "output_type": "display_data"
    },
    {
     "data": {
      "text/plain": [
       "'Медиана:2.5'"
      ]
     },
     "metadata": {},
     "output_type": "display_data"
    }
   ],
   "source": [
    "def hyst (factor):\n",
    "    df.plot(kind='hist', y=factor, bins = 100, title=factor, range=factors_and_x_range.get(factor))\n",
    "    plt.xlabel(factor)\n",
    "    plt.show( )\n",
    "\n",
    "factors = ('total_area', 'price_sq_m', 'rooms', 'ceiling_height')\n",
    "factors_and_x_range = {'total_area':(0,300), 'price_sq_m':(40000,250000), 'rooms':(0,8), 'ceiling_height':(2,4)}\n",
    "i=0\n",
    "for i in factors:\n",
    "    hyst(i)\n",
    "    display(f\"Среднее: {df[i].mean()}\")\n",
    "    display(f\"Медиана:{df[i].median()}\")"
   ]
  },
  {
   "cell_type": "markdown",
   "metadata": {},
   "source": [
    "###### Площадь.\n",
    "Распределение площади похоже на Пуассоновское, но имеет 3 пика в районе 30, 49 и 55-60 метров. Вероятно, это связано с типовыми проектами квартир, представленных на рынке. \n",
    "###### Цена.\n",
    "Распределение цены ближе к Пуассоновскому, чем к нормальному\n",
    "###### Число комнат.\n",
    "Распределение по числу комнат: основная масса - 1 и 2-комнатные квартиры\n",
    "###### Высота потолков.\n",
    "Для значительной доли объектов высота потолка не указана. Наиболее распространенный -2,5 м (помним о заполнении пропусков)."
   ]
  },
  {
   "cell_type": "markdown",
   "metadata": {},
   "source": [
    "### Время продажи квартир"
   ]
  },
  {
   "cell_type": "code",
   "execution_count": 16,
   "metadata": {
    "scrolled": true
   },
   "outputs": [
    {
     "data": {
      "text/plain": [
       "'Среднее: '"
      ]
     },
     "metadata": {},
     "output_type": "display_data"
    },
    {
     "data": {
      "text/plain": [
       "159.33600309323907"
      ]
     },
     "metadata": {},
     "output_type": "display_data"
    },
    {
     "data": {
      "text/plain": [
       "'Медиана: '"
      ]
     },
     "metadata": {},
     "output_type": "display_data"
    },
    {
     "data": {
      "text/plain": [
       "75.0"
      ]
     },
     "metadata": {},
     "output_type": "display_data"
    },
    {
     "data": {
      "text/plain": [
       "'Доля объявлений с экспозицией менее 7 дней: '"
      ]
     },
     "metadata": {},
     "output_type": "display_data"
    },
    {
     "data": {
      "text/plain": [
       "0.15477242598320812"
      ]
     },
     "metadata": {},
     "output_type": "display_data"
    },
    {
     "data": {
      "text/plain": [
       "'Доля объявлений с экспозицией 0 дней: '"
      ]
     },
     "metadata": {},
     "output_type": "display_data"
    },
    {
     "data": {
      "text/plain": [
       "0.1274304021210782"
      ]
     },
     "metadata": {},
     "output_type": "display_data"
    },
    {
     "data": {
      "text/plain": [
       "'Доля объявлений с экспозицией юолее 400 дней: '"
      ]
     },
     "metadata": {},
     "output_type": "display_data"
    },
    {
     "data": {
      "text/plain": [
       "0.11400795404330534"
      ]
     },
     "metadata": {},
     "output_type": "display_data"
    },
    {
     "data": {
      "image/png": "[encoded data removed]",
      "text/plain": [
       "<Figure size 432x288 with 1 Axes>"
      ]
     },
     "metadata": {
      "needs_background": "light"
     },
     "output_type": "display_data"
    }
   ],
   "source": [
    "df.plot(kind='hist', y='days_exposition', bins = 100, title='days_exposition', range=(0,1400))\n",
    "display('Среднее: ',df['days_exposition'].mean())\n",
    "display('Медиана: ', df['days_exposition'].median())\n",
    "display('Доля объявлений с экспозицией менее 7 дней: ',len(df.query('days_exposition <7'))/len(df))\n",
    "display('Доля объявлений с экспозицией 0 дней: ',len(df.query('days_exposition ==0'))/len(df))\n",
    "display('Доля объявлений с экспозицией юолее 400 дней: ',len(df.query('days_exposition >400'))/len(df))"
   ]
  },
  {
   "cell_type": "markdown",
   "metadata": {},
   "source": [
    "### Исключение редких и выбивающихся значений"
   ]
  },
  {
   "cell_type": "markdown",
   "metadata": {},
   "source": [
    "#### Время продажи квартиры\n",
    "\n",
    "В среднем квартира продается 75 дней, при этом 15% объявлений выставляются менее 7-ми дней. 13% объявлений не имеют информации о сроках экспозиции. Вероятно, эти квартиры все еще экспонировались на момент выгрузки данных. Исключим квартиры со сроком выставления менее 7-ми дней, так как, видимо, эти объявления не отражают весь срок продажи.\n",
    "Также продажа квартиры длительностью более 400 дней выглядит черезмерно долгой. Доля таких объявлений - 11%. Очистим базу от таких нетипичных случаев. "
   ]
  },
  {
   "cell_type": "code",
   "execution_count": 17,
   "metadata": {},
   "outputs": [
    {
     "data": {
      "text/plain": [
       "115.0145869548787"
      ]
     },
     "metadata": {},
     "output_type": "display_data"
    },
    {
     "data": {
      "text/plain": [
       "83.0"
      ]
     },
     "metadata": {},
     "output_type": "display_data"
    },
    {
     "data": {
      "image/png": "[encoded data removed]",
      "text/plain": [
       "<Figure size 432x288 with 1 Axes>"
      ]
     },
     "metadata": {
      "needs_background": "light"
     },
     "output_type": "display_data"
    }
   ],
   "source": [
    "normal_exposition = df.query('days_exposition>=7 and days_exposition<400').reset_index(drop= True)\n",
    "\n",
    "normal_exposition.plot(kind='hist', y='days_exposition', bins = 100, title='days_exposition', range=(0,400))\n",
    "display(normal_exposition['days_exposition'].mean())\n",
    "display(normal_exposition['days_exposition'].median())"
   ]
  },
  {
   "cell_type": "markdown",
   "metadata": {},
   "source": [
    "###### Вывод.\n",
    "После отсечения крайних значений медиана увеличилась с 75 до 84. Видны 3 выброса: 45, 60 и 90 дней. Видимо, квартиры выставлялись до определенного срока, а затем менялись условия или площадка для продажи. "
   ]
  },
  {
   "cell_type": "code",
   "execution_count": 18,
   "metadata": {},
   "outputs": [
    {
     "data": {
      "image/png": "[encoded data removed]",
      "text/plain": [
       "<Figure size 432x288 with 1 Axes>"
      ]
     },
     "metadata": {
      "needs_background": "light"
     },
     "output_type": "display_data"
    }
   ],
   "source": [
    "normal_exposition.plot(kind='hist', y='days_exposition', bins = 100, title='days_exposition', range=(40,90))\n",
    "plt.show( )"
   ]
  },
  {
   "cell_type": "markdown",
   "metadata": {},
   "source": [
    "#### Площадь, цена, число, комнат, высота потолков\n"
   ]
  },
  {
   "cell_type": "code",
   "execution_count": 19,
   "metadata": {},
   "outputs": [],
   "source": [
    "limits={'total_area':'total_area>200', 'price_sq_m':200000, 'rooms':5, 'ceiling_height':3.5}\n",
    "normal_exposition = df.query(limits.get(factors[0]))\n",
    "#display(normal_exposition)"
   ]
  },
  {
   "cell_type": "code",
   "execution_count": 20,
   "metadata": {},
   "outputs": [
    {
     "data": {
      "text/plain": [
       "'Среднее:total_area 60.58447701085133'"
      ]
     },
     "metadata": {},
     "output_type": "display_data"
    },
    {
     "data": {
      "text/plain": [
       "'Медиана:total_area 54.0'"
      ]
     },
     "metadata": {},
     "output_type": "display_data"
    },
    {
     "data": {
      "text/plain": [
       "'Среднее:price_sq_m 104969.16406205604'"
      ]
     },
     "metadata": {},
     "output_type": "display_data"
    },
    {
     "data": {
      "text/plain": [
       "'Медиана:price_sq_m 100909.0'"
      ]
     },
     "metadata": {},
     "output_type": "display_data"
    },
    {
     "data": {
      "text/plain": [
       "'Среднее:rooms 2.039568549531649'"
      ]
     },
     "metadata": {},
     "output_type": "display_data"
    },
    {
     "data": {
      "text/plain": [
       "'Медиана:rooms 2.0'"
      ]
     },
     "metadata": {},
     "output_type": "display_data"
    },
    {
     "data": {
      "text/plain": [
       "'Среднее:ceiling_height 2.636890019790783'"
      ]
     },
     "metadata": {},
     "output_type": "display_data"
    },
    {
     "data": {
      "text/plain": [
       "'Медиана:ceiling_height 2.5'"
      ]
     },
     "metadata": {},
     "output_type": "display_data"
    }
   ],
   "source": [
    "factors = ('total_area', 'price_sq_m', 'rooms', 'ceiling_height')\n",
    "limits={'total_area':'total_area<200', 'price_sq_m':'price_sq_m<200000', 'rooms':'rooms<5', 'ceiling_height':'ceiling_height<3.5'}\n",
    "i=0\n",
    "for i in range(len(factors)):\n",
    "    normal_exposition = df.query(limits.get(factors[i])).reset_index(drop= True)\n",
    "    #normal_exposition = df[df[factors[i]]<limits.get(limits[i])]\n",
    "    display(f\"Среднее:{factors[i]} {normal_exposition[factors[i]].mean()}\")\n",
    "    display(f\"Медиана:{factors[i]} {normal_exposition[factors[i]].median()}\")"
   ]
  },
  {
   "cell_type": "markdown",
   "metadata": {},
   "source": [
    "Среднее близко к медиане, что говорит об отсутствии выбросов."
   ]
  },
  {
   "cell_type": "markdown",
   "metadata": {},
   "source": [
    "### Оценка зависимости цены за кв. м. от факторов"
   ]
  },
  {
   "cell_type": "markdown",
   "metadata": {},
   "source": [
    "#### Площадь, число комнат, расстояние до центра"
   ]
  },
  {
   "cell_type": "code",
   "execution_count": 21,
   "metadata": {
    "scrolled": true
   },
   "outputs": [
    {
     "data": {
      "text/plain": [
       "0.2871210057058981"
      ]
     },
     "metadata": {},
     "output_type": "display_data"
    },
    {
     "data": {
      "text/plain": [
       "0.030581179941859292"
      ]
     },
     "metadata": {},
     "output_type": "display_data"
    },
    {
     "data": {
      "text/plain": [
       "-0.32556916390210117"
      ]
     },
     "metadata": {},
     "output_type": "display_data"
    },
    {
     "data": {
      "image/png": "[encoded data removed]",
      "text/plain": [
       "<Figure size 432x288 with 1 Axes>"
      ]
     },
     "metadata": {
      "needs_background": "light"
     },
     "output_type": "display_data"
    },
    {
     "data": {
      "image/png": "[encoded data removed]",
      "text/plain": [
       "<Figure size 432x288 with 1 Axes>"
      ]
     },
     "metadata": {
      "needs_background": "light"
     },
     "output_type": "display_data"
    },
    {
     "data": {
      "image/png": "[encoded data removed]",
      "text/plain": [
       "<Figure size 432x288 with 1 Axes>"
      ]
     },
     "metadata": {
      "needs_background": "light"
     },
     "output_type": "display_data"
    }
   ],
   "source": [
    "factors = [ 'total_area', 'rooms', 'cityCenters_nearest']\n",
    "for factor in factors:\n",
    "    normal_exposition.plot(x=factor, y='price_sq_m', kind='scatter', grid=True, alpha = 0.5, title = factor)\n",
    "    display(normal_exposition[factor].corr(normal_exposition['price_sq_m']))"
   ]
  },
  {
   "cell_type": "markdown",
   "metadata": {},
   "source": [
    "###### Вывод.\n",
    "Зависимость цены квадратного метра от площади не наблюдается.\n",
    "Цена за квадрат увеличивается при росте числа комнат до 3 и снижается для квартир от 4 комнат и выше.\n",
    "Видна обратная зависимость цены за кв. метр от расстояния до центра."
   ]
  },
  {
   "cell_type": "markdown",
   "metadata": {},
   "source": [
    "#### Этаж: первый, последний или другой. "
   ]
  },
  {
   "cell_type": "code",
   "execution_count": 22,
   "metadata": {
    "scrolled": true
   },
   "outputs": [
    {
     "data": {
      "text/html": [
       "<div>\n",
       "<style scoped>\n",
       "    .dataframe tbody tr th:only-of-type {\n",
       "        vertical-align: middle;\n",
       "    }\n",
       "\n",
       "    .dataframe tbody tr th {\n",
       "        vertical-align: top;\n",
       "    }\n",
       "\n",
       "    .dataframe thead tr th {\n",
       "        text-align: left;\n",
       "    }\n",
       "\n",
       "    .dataframe thead tr:last-of-type th {\n",
       "        text-align: right;\n",
       "    }\n",
       "</style>\n",
       "<table border=\"1\" class=\"dataframe\">\n",
       "  <thead>\n",
       "    <tr>\n",
       "      <th></th>\n",
       "      <th>mean</th>\n",
       "      <th>median</th>\n",
       "    </tr>\n",
       "    <tr>\n",
       "      <th></th>\n",
       "      <th>price_sq_m</th>\n",
       "      <th>price_sq_m</th>\n",
       "    </tr>\n",
       "    <tr>\n",
       "      <th>floor_type</th>\n",
       "      <th></th>\n",
       "      <th></th>\n",
       "    </tr>\n",
       "  </thead>\n",
       "  <tbody>\n",
       "    <tr>\n",
       "      <td>другой</td>\n",
       "      <td>111690.321079</td>\n",
       "      <td>103658</td>\n",
       "    </tr>\n",
       "    <tr>\n",
       "      <td>первый</td>\n",
       "      <td>95866.008209</td>\n",
       "      <td>90238</td>\n",
       "    </tr>\n",
       "    <tr>\n",
       "      <td>последний</td>\n",
       "      <td>109404.889483</td>\n",
       "      <td>97584</td>\n",
       "    </tr>\n",
       "  </tbody>\n",
       "</table>\n",
       "</div>"
      ],
      "text/plain": [
       "                     mean     median\n",
       "               price_sq_m price_sq_m\n",
       "floor_type                          \n",
       "другой      111690.321079     103658\n",
       "первый       95866.008209      90238\n",
       "последний   109404.889483      97584"
      ]
     },
     "execution_count": 22,
     "metadata": {},
     "output_type": "execute_result"
    },
    {
     "data": {
      "image/png": "[encoded data removed]",
      "text/plain": [
       "<Figure size 432x288 with 1 Axes>"
      ]
     },
     "metadata": {
      "needs_background": "light"
     },
     "output_type": "display_data"
    }
   ],
   "source": [
    "#перведем тип этажа в числовой формат для построения диаграммы рассеяния\n",
    "\n",
    "normal_exposition.loc[(normal_exposition['floor_type'] == 'первый'), 'floor_type_N'] = 1\n",
    "normal_exposition.loc[(normal_exposition['floor_type'] == 'другой'), 'floor_type_N'] = 2\n",
    "normal_exposition.loc[(normal_exposition['floor_type'] == 'последний'), 'floor_type_N'] = 3\n",
    "\n",
    "normal_exposition.plot(x ='floor_type_N', y='price_sq_m', kind='scatter',ylim=(0,750000), grid=True, alpha =0.3)\n",
    "\n",
    "normal_exposition.pivot_table(index='floor_type', values='price_sq_m', aggfunc=['mean', 'median'])"
   ]
  },
  {
   "cell_type": "markdown",
   "metadata": {},
   "source": [
    "###### Вывод\n",
    "Квартире на 1 этаже в среднем дешевле, чем квартиры на последнем. А те дешевле, чем квартиры на других этажах."
   ]
  },
  {
   "cell_type": "markdown",
   "metadata": {},
   "source": [
    "#### Дата размещения: день недели, месяц и год"
   ]
  },
  {
   "cell_type": "code",
   "execution_count": 23,
   "metadata": {
    "scrolled": true
   },
   "outputs": [
    {
     "data": {
      "text/html": [
       "<div>\n",
       "<style scoped>\n",
       "    .dataframe tbody tr th:only-of-type {\n",
       "        vertical-align: middle;\n",
       "    }\n",
       "\n",
       "    .dataframe tbody tr th {\n",
       "        vertical-align: top;\n",
       "    }\n",
       "\n",
       "    .dataframe thead tr th {\n",
       "        text-align: left;\n",
       "    }\n",
       "\n",
       "    .dataframe thead tr:last-of-type th {\n",
       "        text-align: right;\n",
       "    }\n",
       "</style>\n",
       "<table border=\"1\" class=\"dataframe\">\n",
       "  <thead>\n",
       "    <tr>\n",
       "      <th></th>\n",
       "      <th>mean</th>\n",
       "      <th>median</th>\n",
       "    </tr>\n",
       "    <tr>\n",
       "      <th></th>\n",
       "      <th>price_sq_m</th>\n",
       "      <th>price_sq_m</th>\n",
       "    </tr>\n",
       "    <tr>\n",
       "      <th>weekday</th>\n",
       "      <th></th>\n",
       "      <th></th>\n",
       "    </tr>\n",
       "  </thead>\n",
       "  <tbody>\n",
       "    <tr>\n",
       "      <td>0</td>\n",
       "      <td>109646.381771</td>\n",
       "      <td>101818</td>\n",
       "    </tr>\n",
       "    <tr>\n",
       "      <td>1</td>\n",
       "      <td>109938.480178</td>\n",
       "      <td>101851</td>\n",
       "    </tr>\n",
       "    <tr>\n",
       "      <td>2</td>\n",
       "      <td>109125.828996</td>\n",
       "      <td>101562</td>\n",
       "    </tr>\n",
       "    <tr>\n",
       "      <td>3</td>\n",
       "      <td>110394.088695</td>\n",
       "      <td>101709</td>\n",
       "    </tr>\n",
       "    <tr>\n",
       "      <td>4</td>\n",
       "      <td>108797.096946</td>\n",
       "      <td>100382</td>\n",
       "    </tr>\n",
       "    <tr>\n",
       "      <td>5</td>\n",
       "      <td>111521.861582</td>\n",
       "      <td>100872</td>\n",
       "    </tr>\n",
       "    <tr>\n",
       "      <td>6</td>\n",
       "      <td>108307.132701</td>\n",
       "      <td>101639</td>\n",
       "    </tr>\n",
       "  </tbody>\n",
       "</table>\n",
       "</div>"
      ],
      "text/plain": [
       "                  mean     median\n",
       "            price_sq_m price_sq_m\n",
       "weekday                          \n",
       "0        109646.381771     101818\n",
       "1        109938.480178     101851\n",
       "2        109125.828996     101562\n",
       "3        110394.088695     101709\n",
       "4        108797.096946     100382\n",
       "5        111521.861582     100872\n",
       "6        108307.132701     101639"
      ]
     },
     "execution_count": 23,
     "metadata": {},
     "output_type": "execute_result"
    },
    {
     "data": {
      "image/png": "[encoded data removed]",
      "text/plain": [
       "<Figure size 576x432 with 2 Axes>"
      ]
     },
     "metadata": {
      "needs_background": "light"
     },
     "output_type": "display_data"
    },
    {
     "data": {
      "image/png": "[encoded data removed]",
      "text/plain": [
       "<Figure size 576x432 with 1 Axes>"
      ]
     },
     "metadata": {
      "needs_background": "light"
     },
     "output_type": "display_data"
    }
   ],
   "source": [
    "normal_exposition.plot(x ='weekday', y='price_sq_m', kind='hexbin', gridsize=20, figsize=(8,6), sharex=False, grid=True)\n",
    "normal_exposition.plot(x ='weekday', y='price_sq_m', kind='scatter',  figsize=(8,6), xlim=(0,6), grid=True)\n",
    "normal_exposition.pivot_table(index='weekday', values='price_sq_m', aggfunc=['mean', 'median'])"
   ]
  },
  {
   "cell_type": "markdown",
   "metadata": {},
   "source": [
    "###### Вывод - день.\n",
    "Самые дорогие квартиры выставлялись в субботу и среду. Самый дешевые - в воскресенье.\n",
    "На графике hexbin видно, что объявлений, размещенных на выходных гораздо меньше, чем в другие дни."
   ]
  },
  {
   "cell_type": "code",
   "execution_count": 24,
   "metadata": {
    "scrolled": true
   },
   "outputs": [
    {
     "data": {
      "text/html": [
       "<div>\n",
       "<style scoped>\n",
       "    .dataframe tbody tr th:only-of-type {\n",
       "        vertical-align: middle;\n",
       "    }\n",
       "\n",
       "    .dataframe tbody tr th {\n",
       "        vertical-align: top;\n",
       "    }\n",
       "\n",
       "    .dataframe thead tr th {\n",
       "        text-align: left;\n",
       "    }\n",
       "\n",
       "    .dataframe thead tr:last-of-type th {\n",
       "        text-align: right;\n",
       "    }\n",
       "</style>\n",
       "<table border=\"1\" class=\"dataframe\">\n",
       "  <thead>\n",
       "    <tr>\n",
       "      <th></th>\n",
       "      <th>mean</th>\n",
       "      <th>median</th>\n",
       "    </tr>\n",
       "    <tr>\n",
       "      <th></th>\n",
       "      <th>price_sq_m</th>\n",
       "      <th>price_sq_m</th>\n",
       "    </tr>\n",
       "    <tr>\n",
       "      <th>month</th>\n",
       "      <th></th>\n",
       "      <th></th>\n",
       "    </tr>\n",
       "  </thead>\n",
       "  <tbody>\n",
       "    <tr>\n",
       "      <td>1</td>\n",
       "      <td>111219.079307</td>\n",
       "      <td>102380.0</td>\n",
       "    </tr>\n",
       "    <tr>\n",
       "      <td>2</td>\n",
       "      <td>109707.380111</td>\n",
       "      <td>101219.0</td>\n",
       "    </tr>\n",
       "    <tr>\n",
       "      <td>3</td>\n",
       "      <td>110709.887294</td>\n",
       "      <td>102976.0</td>\n",
       "    </tr>\n",
       "    <tr>\n",
       "      <td>4</td>\n",
       "      <td>110806.754907</td>\n",
       "      <td>103160.0</td>\n",
       "    </tr>\n",
       "    <tr>\n",
       "      <td>5</td>\n",
       "      <td>107429.377709</td>\n",
       "      <td>99019.0</td>\n",
       "    </tr>\n",
       "    <tr>\n",
       "      <td>6</td>\n",
       "      <td>107910.102952</td>\n",
       "      <td>99702.0</td>\n",
       "    </tr>\n",
       "    <tr>\n",
       "      <td>7</td>\n",
       "      <td>108192.546751</td>\n",
       "      <td>101538.5</td>\n",
       "    </tr>\n",
       "    <tr>\n",
       "      <td>8</td>\n",
       "      <td>109894.628272</td>\n",
       "      <td>102397.0</td>\n",
       "    </tr>\n",
       "    <tr>\n",
       "      <td>9</td>\n",
       "      <td>110872.221553</td>\n",
       "      <td>102103.5</td>\n",
       "    </tr>\n",
       "    <tr>\n",
       "      <td>10</td>\n",
       "      <td>107577.859813</td>\n",
       "      <td>100000.0</td>\n",
       "    </tr>\n",
       "    <tr>\n",
       "      <td>11</td>\n",
       "      <td>108750.123265</td>\n",
       "      <td>100000.0</td>\n",
       "    </tr>\n",
       "    <tr>\n",
       "      <td>12</td>\n",
       "      <td>112513.761698</td>\n",
       "      <td>102956.5</td>\n",
       "    </tr>\n",
       "  </tbody>\n",
       "</table>\n",
       "</div>"
      ],
      "text/plain": [
       "                mean     median\n",
       "          price_sq_m price_sq_m\n",
       "month                          \n",
       "1      111219.079307   102380.0\n",
       "2      109707.380111   101219.0\n",
       "3      110709.887294   102976.0\n",
       "4      110806.754907   103160.0\n",
       "5      107429.377709    99019.0\n",
       "6      107910.102952    99702.0\n",
       "7      108192.546751   101538.5\n",
       "8      109894.628272   102397.0\n",
       "9      110872.221553   102103.5\n",
       "10     107577.859813   100000.0\n",
       "11     108750.123265   100000.0\n",
       "12     112513.761698   102956.5"
      ]
     },
     "execution_count": 24,
     "metadata": {},
     "output_type": "execute_result"
    },
    {
     "data": {
      "image/png": "[encoded data removed]",
      "text/plain": [
       "<Figure size 576x432 with 1 Axes>"
      ]
     },
     "metadata": {
      "needs_background": "light"
     },
     "output_type": "display_data"
    }
   ],
   "source": [
    "normal_exposition.plot(x ='month', y='price_sq_m', kind='scatter',  figsize=(8,6), xlim=(0,14), grid=True, alpha=0.9)\n",
    "normal_exposition.pivot_table(index='month', values='price_sq_m', aggfunc=['mean', 'median'])"
   ]
  },
  {
   "cell_type": "markdown",
   "metadata": {},
   "source": [
    "###### Вывод - месяц.\n",
    "Явной зависимости цены от месяца нет."
   ]
  },
  {
   "cell_type": "code",
   "execution_count": 25,
   "metadata": {
    "scrolled": true
   },
   "outputs": [
    {
     "data": {
      "text/html": [
       "<div>\n",
       "<style scoped>\n",
       "    .dataframe tbody tr th:only-of-type {\n",
       "        vertical-align: middle;\n",
       "    }\n",
       "\n",
       "    .dataframe tbody tr th {\n",
       "        vertical-align: top;\n",
       "    }\n",
       "\n",
       "    .dataframe thead tr th {\n",
       "        text-align: left;\n",
       "    }\n",
       "\n",
       "    .dataframe thead tr:last-of-type th {\n",
       "        text-align: right;\n",
       "    }\n",
       "</style>\n",
       "<table border=\"1\" class=\"dataframe\">\n",
       "  <thead>\n",
       "    <tr>\n",
       "      <th></th>\n",
       "      <th>mean</th>\n",
       "      <th>median</th>\n",
       "    </tr>\n",
       "    <tr>\n",
       "      <th></th>\n",
       "      <th>price_sq_m</th>\n",
       "      <th>price_sq_m</th>\n",
       "    </tr>\n",
       "    <tr>\n",
       "      <th>year</th>\n",
       "      <th></th>\n",
       "      <th></th>\n",
       "    </tr>\n",
       "  </thead>\n",
       "  <tbody>\n",
       "    <tr>\n",
       "      <td>2014</td>\n",
       "      <td>137015.357143</td>\n",
       "      <td>122617.5</td>\n",
       "    </tr>\n",
       "    <tr>\n",
       "      <td>2015</td>\n",
       "      <td>111308.213220</td>\n",
       "      <td>98622.0</td>\n",
       "    </tr>\n",
       "    <tr>\n",
       "      <td>2016</td>\n",
       "      <td>108004.585849</td>\n",
       "      <td>97619.0</td>\n",
       "    </tr>\n",
       "    <tr>\n",
       "      <td>2017</td>\n",
       "      <td>106523.210434</td>\n",
       "      <td>98360.0</td>\n",
       "    </tr>\n",
       "    <tr>\n",
       "      <td>2018</td>\n",
       "      <td>109544.771555</td>\n",
       "      <td>102929.5</td>\n",
       "    </tr>\n",
       "    <tr>\n",
       "      <td>2019</td>\n",
       "      <td>118597.089169</td>\n",
       "      <td>110414.0</td>\n",
       "    </tr>\n",
       "  </tbody>\n",
       "</table>\n",
       "</div>"
      ],
      "text/plain": [
       "               mean     median\n",
       "         price_sq_m price_sq_m\n",
       "year                          \n",
       "2014  137015.357143   122617.5\n",
       "2015  111308.213220    98622.0\n",
       "2016  108004.585849    97619.0\n",
       "2017  106523.210434    98360.0\n",
       "2018  109544.771555   102929.5\n",
       "2019  118597.089169   110414.0"
      ]
     },
     "execution_count": 25,
     "metadata": {},
     "output_type": "execute_result"
    },
    {
     "data": {
      "image/png": "[encoded data removed]",
      "text/plain": [
       "<Figure size 576x432 with 1 Axes>"
      ]
     },
     "metadata": {
      "needs_background": "light"
     },
     "output_type": "display_data"
    }
   ],
   "source": [
    "normal_exposition.plot(x ='year', y='price_sq_m', kind='scatter',  figsize=(8,6), xlim=(2014,2020), ylim=(0,400000), grid=True, alpha=0.03)\n",
    "normal_exposition.pivot_table(index='year', values='price_sq_m', aggfunc=['mean', 'median'])"
   ]
  },
  {
   "cell_type": "markdown",
   "metadata": {},
   "source": [
    "###### Вывод - год.\n",
    "Самые дорогие сделки были в 2017, однако в основной массе цены растут со временем из-за инфляции."
   ]
  },
  {
   "cell_type": "markdown",
   "metadata": {},
   "source": [
    "### Анализ по локациям\n",
    "Выберем 10 населённых пунктов с наибольшим числом объявлений."
   ]
  },
  {
   "cell_type": "markdown",
   "metadata": {},
   "source": [
    " #### Неявные дубликаты\n",
    " Посмотрим состав столбца"
   ]
  },
  {
   "cell_type": "code",
   "execution_count": 26,
   "metadata": {},
   "outputs": [
    {
     "data": {
      "text/plain": [
       "array(['Санкт-Петербург', 'посёлок Шушары', 'посёлок Парголово',\n",
       "       'Ломоносов', 'Петергоф', 'Пушкин', 'Колпино', 'Кронштадт',\n",
       "       'посёлок Металлострой', 'Павловск', 'Сестрорецк', 'Красное Село',\n",
       "       'посёлок Понтонный', 'Зеленогорск', 'посёлок Молодёжное',\n",
       "       'посёлок Стрельна', 'посёлок Александровская', 'посёлок Песочный',\n",
       "       'посёлок Петро-Славянка', 'посёлок Репино', 'посёлок Сапёрный',\n",
       "       'поселок Лисий Нос', 'посёлок Левашово', 'посёлок Белоостров',\n",
       "       'посёлок Лисий Нос', 'посёлок Усть-Ижора'], dtype=object)"
      ]
     },
     "execution_count": 26,
     "metadata": {},
     "output_type": "execute_result"
    }
   ],
   "source": [
    "normal_exposition['locality_name'].unique()"
   ]
  },
  {
   "cell_type": "markdown",
   "metadata": {},
   "source": [
    "Проведем лемматизацию"
   ]
  },
  {
   "cell_type": "code",
   "execution_count": 27,
   "metadata": {},
   "outputs": [],
   "source": [
    "from pymystem3 import Mystem\n",
    "m = Mystem()\n",
    "for i in range(normal_exposition.shape[0]): \n",
    "    lemmas = m.lemmatize(normal_exposition.loc[i,'locality_name']) \n",
    "    normal_exposition.loc[i,'lemmas'] = ','.join(lemmas)\n"
   ]
  },
  {
   "cell_type": "code",
   "execution_count": 28,
   "metadata": {
    "scrolled": true
   },
   "outputs": [
    {
     "data": {
      "text/plain": [
       "Counter({'санкт-петербург': 15236,\n",
       "         ',\\n': 17685,\n",
       "         ' ': 17684,\n",
       "         'поселок': 917,\n",
       "         ', ,': 1093,\n",
       "         'шушар': 435,\n",
       "         'парголовый': 327,\n",
       "         'ломоносов': 131,\n",
       "         'петергоф': 199,\n",
       "         'пушкин': 358,\n",
       "         'колпино': 337,\n",
       "         'кронштадт': 90,\n",
       "         'металлострой': 64,\n",
       "         'павловск': 38,\n",
       "         'сестрорецк': 182,\n",
       "         'красный': 173,\n",
       "         'село': 173,\n",
       "         'понтонный': 20,\n",
       "         'зеленогорск': 24,\n",
       "         'молодежный': 5,\n",
       "         'стрельна': 42,\n",
       "         'александровский': 2,\n",
       "         'песочный': 4,\n",
       "         'петро': 1,\n",
       "         ',-,': 3,\n",
       "         'славянка': 1,\n",
       "         'репино': 4,\n",
       "         'саперный': 6,\n",
       "         'лисий': 3,\n",
       "         'нос': 3,\n",
       "         'левашово': 1,\n",
       "         'белоостров': 1,\n",
       "         'усть': 2,\n",
       "         'ижора': 2})"
      ]
     },
     "metadata": {},
     "output_type": "display_data"
    }
   ],
   "source": [
    "from collections import Counter\n",
    "string = normal_exposition.loc[:,'lemmas'].astype(str)\n",
    "string = \" \".join(string)\n",
    "counting_locations=Counter(m.lemmatize(string))\n",
    "display(counting_locations)"
   ]
  },
  {
   "cell_type": "code",
   "execution_count": 29,
   "metadata": {
    "scrolled": true
   },
   "outputs": [
    {
     "data": {
      "text/plain": [
       "[(',\\n', 17685),\n",
       " (' ', 17684),\n",
       " ('санкт-петербург', 15236),\n",
       " (', ,', 1093),\n",
       " ('поселок', 917),\n",
       " ('шушар', 435),\n",
       " ('пушкин', 358),\n",
       " ('колпино', 337),\n",
       " ('парголовый', 327),\n",
       " ('петергоф', 199),\n",
       " ('сестрорецк', 182),\n",
       " ('красный', 173),\n",
       " ('село', 173),\n",
       " ('ломоносов', 131),\n",
       " ('кронштадт', 90),\n",
       " ('металлострой', 64),\n",
       " ('стрельна', 42),\n",
       " ('павловск', 38),\n",
       " ('зеленогорск', 24),\n",
       " ('понтонный', 20),\n",
       " ('саперный', 6),\n",
       " ('молодежный', 5),\n",
       " ('песочный', 4),\n",
       " ('репино', 4),\n",
       " (',-,', 3),\n",
       " ('лисий', 3),\n",
       " ('нос', 3),\n",
       " ('александровский', 2),\n",
       " ('усть', 2),\n",
       " ('ижора', 2),\n",
       " ('петро', 1),\n",
       " ('славянка', 1),\n",
       " ('левашово', 1),\n",
       " ('белоостров', 1)]"
      ]
     },
     "execution_count": 29,
     "metadata": {},
     "output_type": "execute_result"
    }
   ],
   "source": [
    "sorted(dict.items(counting_locations),key=lambda x: x[1], reverse=True)"
   ]
  },
  {
   "cell_type": "markdown",
   "metadata": {},
   "source": [
    "#### топ-10:\n",
    "Санкт-Петербург, Мурино, Кудрово, Шушары, Всеволожск, Колпино, Пушкин, Парголово, Гатчина, Выборг. Добавим станадртизированные названия для этих локаций в столбец location_standart_name"
   ]
  },
  {
   "cell_type": "code",
   "execution_count": 30,
   "metadata": {},
   "outputs": [
    {
     "data": {
      "text/plain": [
       "array(['Санкт-Петербург', 'Шушары', 'Парголово', 'Прочие районы',\n",
       "       'Пушкин', 'Колпино'], dtype=object)"
      ]
     },
     "execution_count": 30,
     "metadata": {},
     "output_type": "execute_result"
    }
   ],
   "source": [
    "def location_standart_name (row):\n",
    "    location_standart_list =['Санкт-Петербург', 'Мурино', 'Кудрово', 'Шушары', 'Всеволожск', 'Колпино', 'Пушкин', 'Парголово', 'Гатчина', 'Выборг']\n",
    "    for location in location_standart_list:\n",
    "        if location in row['locality_name']:\n",
    "            return location\n",
    "    return 'Прочие районы'\n",
    "normal_exposition['location_standart_name'] = normal_exposition.apply(location_standart_name,axis = 1)\n",
    "normal_exposition['location_standart_name'].unique()"
   ]
  },
  {
   "cell_type": "markdown",
   "metadata": {},
   "source": [
    "Посчитаем среднюю цену квадратного метра в этих населённых пунктах"
   ]
  },
  {
   "cell_type": "code",
   "execution_count": 31,
   "metadata": {},
   "outputs": [
    {
     "data": {
      "text/html": [
       "<div>\n",
       "<style scoped>\n",
       "    .dataframe tbody tr th:only-of-type {\n",
       "        vertical-align: middle;\n",
       "    }\n",
       "\n",
       "    .dataframe tbody tr th {\n",
       "        vertical-align: top;\n",
       "    }\n",
       "\n",
       "    .dataframe thead th {\n",
       "        text-align: right;\n",
       "    }\n",
       "</style>\n",
       "<table border=\"1\" class=\"dataframe\">\n",
       "  <thead>\n",
       "    <tr style=\"text-align: right;\">\n",
       "      <th></th>\n",
       "      <th>price_sq_m</th>\n",
       "    </tr>\n",
       "    <tr>\n",
       "      <th>location_standart_name</th>\n",
       "      <th></th>\n",
       "    </tr>\n",
       "  </thead>\n",
       "  <tbody>\n",
       "    <tr>\n",
       "      <td>Санкт-Петербург</td>\n",
       "      <td>113622</td>\n",
       "    </tr>\n",
       "    <tr>\n",
       "      <td>Пушкин</td>\n",
       "      <td>102497</td>\n",
       "    </tr>\n",
       "    <tr>\n",
       "      <td>Парголово</td>\n",
       "      <td>90176</td>\n",
       "    </tr>\n",
       "    <tr>\n",
       "      <td>Прочие районы</td>\n",
       "      <td>83072</td>\n",
       "    </tr>\n",
       "    <tr>\n",
       "      <td>Шушары</td>\n",
       "      <td>78449</td>\n",
       "    </tr>\n",
       "    <tr>\n",
       "      <td>Колпино</td>\n",
       "      <td>75402</td>\n",
       "    </tr>\n",
       "  </tbody>\n",
       "</table>\n",
       "</div>"
      ],
      "text/plain": [
       "                        price_sq_m\n",
       "location_standart_name            \n",
       "Санкт-Петербург             113622\n",
       "Пушкин                      102497\n",
       "Парголово                    90176\n",
       "Прочие районы                83072\n",
       "Шушары                       78449\n",
       "Колпино                      75402"
      ]
     },
     "execution_count": 31,
     "metadata": {},
     "output_type": "execute_result"
    }
   ],
   "source": [
    "pd.pivot_table(normal_exposition, index='location_standart_name', values='price_sq_m').astype('int').sort_values(by=['price_sq_m'], ascending=False)"
   ]
  },
  {
   "cell_type": "markdown",
   "metadata": {},
   "source": [
    "###### Вывод.\n",
    "Самые высокие цены за кв.м. в СПб и Пушкине, самые низкие в Выборге и Гатчине."
   ]
  },
  {
   "cell_type": "markdown",
   "metadata": {},
   "source": [
    "#### Определение центра СПб.\n",
    "Посчитаем среднюю цену за км до центра для СПб "
   ]
  },
  {
   "cell_type": "code",
   "execution_count": 32,
   "metadata": {
    "scrolled": true
   },
   "outputs": [
    {
     "name": "stderr",
     "output_type": "stream",
     "text": [
      "/opt/conda/lib/python3.7/site-packages/ipykernel_launcher.py:3: SettingWithCopyWarning: \n",
      "A value is trying to be set on a copy of a slice from a DataFrame.\n",
      "Try using .loc[row_indexer,col_indexer] = value instead\n",
      "\n",
      "See the caveats in the documentation: http://pandas.pydata.org/pandas-docs/stable/user_guide/indexing.html#returning-a-view-versus-a-copy\n",
      "  This is separate from the ipykernel package so we can avoid doing imports until\n"
     ]
    },
    {
     "data": {
      "text/plain": [
       "<matplotlib.axes._subplots.AxesSubplot at 0x7f32d1079650>"
      ]
     },
     "execution_count": 32,
     "metadata": {},
     "output_type": "execute_result"
    },
    {
     "data": {
      "image/png": "[encoded data removed]",
      "text/plain": [
       "<Figure size 576x432 with 1 Axes>"
      ]
     },
     "metadata": {
      "needs_background": "light"
     },
     "output_type": "display_data"
    }
   ],
   "source": [
    "normal_exposition['cityCenters_nearest_km'] = normal_exposition['cityCenters_nearest'] /1000\n",
    "spb = normal_exposition.query('location_standart_name == \"Санкт-Петербург\"')\n",
    "spb['price_sq_m_km_to_center'] = round(spb['price_sq_m'] / spb['cityCenters_nearest_km'],0).astype('int')\n",
    "spb.plot(kind='scatter', x ='cityCenters_nearest_km', y='price_sq_m_km_to_center', xlim=(0,5), ylim=(0,200000), figsize=(8,6), grid=True, alpha=0.3)"
   ]
  },
  {
   "cell_type": "markdown",
   "metadata": {},
   "source": [
    "###### Вывод.\n",
    "После удаления от центра на 2,5 км скорость снижения цены при удалении от центра значительно замедляется. Поэтому считаем, что центр СПБ - это квартиры не далее 2,5 км от центра. "
   ]
  },
  {
   "cell_type": "markdown",
   "metadata": {},
   "source": [
    "#### Средние характеристики квартир в центре СПб: площадь, цена, число комнат, высота потолков. "
   ]
  },
  {
   "cell_type": "code",
   "execution_count": 33,
   "metadata": {
    "scrolled": true
   },
   "outputs": [
    {
     "data": {
      "text/plain": [
       "'Медиана - весь СПб:total_area'"
      ]
     },
     "metadata": {},
     "output_type": "display_data"
    },
    {
     "data": {
      "text/plain": [
       "54.3"
      ]
     },
     "metadata": {},
     "output_type": "display_data"
    },
    {
     "data": {
      "text/plain": [
       "'Медиана - центр СПб:total_area'"
      ]
     },
     "metadata": {},
     "output_type": "display_data"
    },
    {
     "data": {
      "text/plain": [
       "86.25"
      ]
     },
     "metadata": {},
     "output_type": "display_data"
    },
    {
     "data": {
      "text/plain": [
       "'Медиана - весь СПб:price_sq_m'"
      ]
     },
     "metadata": {},
     "output_type": "display_data"
    },
    {
     "data": {
      "text/plain": [
       "104444.0"
      ]
     },
     "metadata": {},
     "output_type": "display_data"
    },
    {
     "data": {
      "text/plain": [
       "'Медиана - центр СПб:price_sq_m'"
      ]
     },
     "metadata": {},
     "output_type": "display_data"
    },
    {
     "data": {
      "text/plain": [
       "124389.5"
      ]
     },
     "metadata": {},
     "output_type": "display_data"
    },
    {
     "data": {
      "text/plain": [
       "'Медиана - весь СПб:rooms'"
      ]
     },
     "metadata": {},
     "output_type": "display_data"
    },
    {
     "data": {
      "text/plain": [
       "2.0"
      ]
     },
     "metadata": {},
     "output_type": "display_data"
    },
    {
     "data": {
      "text/plain": [
       "'Медиана - центр СПб:rooms'"
      ]
     },
     "metadata": {},
     "output_type": "display_data"
    },
    {
     "data": {
      "text/plain": [
       "3.0"
      ]
     },
     "metadata": {},
     "output_type": "display_data"
    },
    {
     "data": {
      "text/plain": [
       "'Медиана - весь СПб:ceiling_height'"
      ]
     },
     "metadata": {},
     "output_type": "display_data"
    },
    {
     "data": {
      "text/plain": [
       "2.5"
      ]
     },
     "metadata": {},
     "output_type": "display_data"
    },
    {
     "data": {
      "text/plain": [
       "'Медиана - центр СПб:ceiling_height'"
      ]
     },
     "metadata": {},
     "output_type": "display_data"
    },
    {
     "data": {
      "text/plain": [
       "2.8"
      ]
     },
     "metadata": {},
     "output_type": "display_data"
    },
    {
     "data": {
      "image/png": "[encoded data removed]",
      "text/plain": [
       "<Figure size 432x288 with 1 Axes>"
      ]
     },
     "metadata": {
      "needs_background": "light"
     },
     "output_type": "display_data"
    },
    {
     "data": {
      "image/png": "[encoded data removed]",
      "text/plain": [
       "<Figure size 432x288 with 1 Axes>"
      ]
     },
     "metadata": {
      "needs_background": "light"
     },
     "output_type": "display_data"
    },
    {
     "data": {
      "image/png": "[encoded data removed]",
      "text/plain": [
       "<Figure size 432x288 with 1 Axes>"
      ]
     },
     "metadata": {
      "needs_background": "light"
     },
     "output_type": "display_data"
    },
    {
     "data": {
      "image/png": "[encoded data removed]",
      "text/plain": [
       "<Figure size 432x288 with 1 Axes>"
      ]
     },
     "metadata": {
      "needs_background": "light"
     },
     "output_type": "display_data"
    },
    {
     "data": {
      "image/png": "[encoded data removed]",
      "text/plain": [
       "<Figure size 432x288 with 1 Axes>"
      ]
     },
     "metadata": {
      "needs_background": "light"
     },
     "output_type": "display_data"
    },
    {
     "data": {
      "image/png": "[encoded data removed]",
      "text/plain": [
       "<Figure size 432x288 with 1 Axes>"
      ]
     },
     "metadata": {
      "needs_background": "light"
     },
     "output_type": "display_data"
    },
    {
     "data": {
      "image/png": "[encoded data removed]",
      "text/plain": [
       "<Figure size 432x288 with 1 Axes>"
      ]
     },
     "metadata": {
      "needs_background": "light"
     },
     "output_type": "display_data"
    },
    {
     "data": {
      "image/png": "[encoded data removed]",
      "text/plain": [
       "<Figure size 432x288 with 1 Axes>"
      ]
     },
     "metadata": {
      "needs_background": "light"
     },
     "output_type": "display_data"
    }
   ],
   "source": [
    "spb_center=spb.query('cityCenters_nearest_km <2.5')\n",
    "factors = ['total_area', 'price_sq_m', 'rooms', 'ceiling_height']\n",
    "range_for_plot= [(0,300), (0,300000), (0,8), (2,4)]\n",
    "\n",
    "for i in range(4):\n",
    "    display(f'Медиана - весь СПб:{factors[i]}', spb[factors[i]].median())\n",
    "    display(f'Медиана - центр СПб:{factors[i]}', spb_center[factors[i]].median())\n",
    "    spb.plot(kind='hist', y=factors[i], bins = 100, title=f'{factors[i]}-весь СПб', range=(range_for_plot[i]))\n",
    "    spb_center.plot(kind='hist', y=factors[i], bins = 100, title=f'{factors[i]}-центр СПб', range=(range_for_plot[i]))\n"
   ]
  },
  {
   "cell_type": "markdown",
   "metadata": {},
   "source": [
    "###### Вывод.\n",
    "В центре все больше: площади, цены, команты, потолки."
   ]
  },
  {
   "cell_type": "markdown",
   "metadata": {},
   "source": [
    "### Факторы, влияющие на цеу кв. м. в центре СПб.\n",
    "Проанализируем факторы, влияющие на цены квартир в центре СПб: число комнат, этаж, удалённость от центра, дата размещения объявления."
   ]
  },
  {
   "cell_type": "code",
   "execution_count": 34,
   "metadata": {
    "scrolled": false
   },
   "outputs": [
    {
     "data": {
      "text/plain": [
       "'Корреляция - СПб: price_sq_m-rooms: 0.03'"
      ]
     },
     "metadata": {},
     "output_type": "display_data"
    },
    {
     "data": {
      "text/plain": [
       "'Корреляция - Центр: price_sq_m--0.02'"
      ]
     },
     "metadata": {},
     "output_type": "display_data"
    },
    {
     "data": {
      "text/plain": [
       "'-------------------------------------------'"
      ]
     },
     "metadata": {},
     "output_type": "display_data"
    },
    {
     "data": {
      "text/plain": [
       "'Корреляция - СПб: price_sq_m-floor_type_N: 0.07'"
      ]
     },
     "metadata": {},
     "output_type": "display_data"
    },
    {
     "data": {
      "text/plain": [
       "'Корреляция - Центр: price_sq_m-0.05'"
      ]
     },
     "metadata": {},
     "output_type": "display_data"
    },
    {
     "data": {
      "text/plain": [
       "'-------------------------------------------'"
      ]
     },
     "metadata": {},
     "output_type": "display_data"
    },
    {
     "data": {
      "text/plain": [
       "'Корреляция - СПб: price_sq_m-cityCenters_nearest_km: -0.32'"
      ]
     },
     "metadata": {},
     "output_type": "display_data"
    },
    {
     "data": {
      "text/plain": [
       "'Корреляция - Центр: price_sq_m--0.09'"
      ]
     },
     "metadata": {},
     "output_type": "display_data"
    },
    {
     "data": {
      "text/plain": [
       "'-------------------------------------------'"
      ]
     },
     "metadata": {},
     "output_type": "display_data"
    },
    {
     "data": {
      "text/plain": [
       "'Корреляция - СПб: price_sq_m-weekday: 0.0'"
      ]
     },
     "metadata": {},
     "output_type": "display_data"
    },
    {
     "data": {
      "text/plain": [
       "'Корреляция - Центр: price_sq_m--0.05'"
      ]
     },
     "metadata": {},
     "output_type": "display_data"
    },
    {
     "data": {
      "text/plain": [
       "'-------------------------------------------'"
      ]
     },
     "metadata": {},
     "output_type": "display_data"
    },
    {
     "data": {
      "text/plain": [
       "'Корреляция - СПб: price_sq_m-month: -0.01'"
      ]
     },
     "metadata": {},
     "output_type": "display_data"
    },
    {
     "data": {
      "text/plain": [
       "'Корреляция - Центр: price_sq_m-0.0'"
      ]
     },
     "metadata": {},
     "output_type": "display_data"
    },
    {
     "data": {
      "text/plain": [
       "'-------------------------------------------'"
      ]
     },
     "metadata": {},
     "output_type": "display_data"
    },
    {
     "data": {
      "text/plain": [
       "'Корреляция - СПб: price_sq_m-year: 0.03'"
      ]
     },
     "metadata": {},
     "output_type": "display_data"
    },
    {
     "data": {
      "text/plain": [
       "'Корреляция - Центр: price_sq_m-0.04'"
      ]
     },
     "metadata": {},
     "output_type": "display_data"
    },
    {
     "data": {
      "text/plain": [
       "'-------------------------------------------'"
      ]
     },
     "metadata": {},
     "output_type": "display_data"
    },
    {
     "data": {
      "image/png": "[encoded data removed]",
      "text/plain": [
       "<Figure size 432x288 with 1 Axes>"
      ]
     },
     "metadata": {
      "needs_background": "light"
     },
     "output_type": "display_data"
    },
    {
     "data": {
      "image/png": "[encoded data removed]",
      "text/plain": [
       "<Figure size 432x288 with 1 Axes>"
      ]
     },
     "metadata": {
      "needs_background": "light"
     },
     "output_type": "display_data"
    },
    {
     "data": {
      "image/png": "[encoded data removed]",
      "text/plain": [
       "<Figure size 432x288 with 1 Axes>"
      ]
     },
     "metadata": {
      "needs_background": "light"
     },
     "output_type": "display_data"
    },
    {
     "data": {
      "image/png": "[encoded data removed]",
      "text/plain": [
       "<Figure size 432x288 with 1 Axes>"
      ]
     },
     "metadata": {
      "needs_background": "light"
     },
     "output_type": "display_data"
    },
    {
     "data": {
      "image/png": "[encoded data removed]",
      "text/plain": [
       "<Figure size 432x288 with 1 Axes>"
      ]
     },
     "metadata": {
      "needs_background": "light"
     },
     "output_type": "display_data"
    },
    {
     "data": {
      "image/png": "[encoded data removed]",
      "text/plain": [
       "<Figure size 432x288 with 1 Axes>"
      ]
     },
     "metadata": {
      "needs_background": "light"
     },
     "output_type": "display_data"
    },
    {
     "data": {
      "image/png": "[encoded data removed]",
      "text/plain": [
       "<Figure size 432x288 with 1 Axes>"
      ]
     },
     "metadata": {
      "needs_background": "light"
     },
     "output_type": "display_data"
    },
    {
     "data": {
      "image/png": "[encoded data removed]",
      "text/plain": [
       "<Figure size 432x288 with 1 Axes>"
      ]
     },
     "metadata": {
      "needs_background": "light"
     },
     "output_type": "display_data"
    },
    {
     "data": {
      "image/png": "[encoded data removed]",
      "text/plain": [
       "<Figure size 432x288 with 1 Axes>"
      ]
     },
     "metadata": {
      "needs_background": "light"
     },
     "output_type": "display_data"
    },
    {
     "data": {
      "image/png": "[encoded data removed]",
      "text/plain": [
       "<Figure size 432x288 with 1 Axes>"
      ]
     },
     "metadata": {
      "needs_background": "light"
     },
     "output_type": "display_data"
    },
    {
     "data": {
      "image/png": "[encoded data removed]",
      "text/plain": [
       "<Figure size 432x288 with 1 Axes>"
      ]
     },
     "metadata": {
      "needs_background": "light"
     },
     "output_type": "display_data"
    },
    {
     "data": {
      "image/png": "[encoded data removed]",
      "text/plain": [
       "<Figure size 432x288 with 1 Axes>"
      ]
     },
     "metadata": {
      "needs_background": "light"
     },
     "output_type": "display_data"
    }
   ],
   "source": [
    "factors = ['rooms', 'floor_type_N', 'cityCenters_nearest_km', 'weekday', 'month', 'year']\n",
    "xlim_for_plot= [(0,8), (0,4), (0,8), (0,8),(0,13),(2014,2020)]\n",
    "ylim_for_plot= [(0,700000), (0,700000), (0,700000), (0,700000),(0,700000),(0,700000)]\n",
    "y_for_plot = ['price_sq_m', 'price_sq_m', 'price_sq_m_km_to_center', 'price_sq_m', 'price_sq_m', 'price_sq_m']\n",
    "for i in range(6):\n",
    "    spb.plot(x=factors[i], y=y_for_plot[i], kind='scatter', grid=True, alpha = 0.5, title=f'{factors[i]}-весь СПб', xlim=(xlim_for_plot[i]), ylim=(ylim_for_plot[i]))\n",
    "    spb_center.plot(x=factors[i], y=y_for_plot[i], kind='scatter', grid=True, alpha = 1, title=f'{factors[i]}-центр СПб', xlim=(xlim_for_plot[i]), ylim=(ylim_for_plot[i]))\n",
    "    display(f\"Корреляция - СПб: price_sq_m-{factors[i]}: {round(spb[factors[i]].corr(spb['price_sq_m']),2)}\")\n",
    "    display(f\"Корреляция - Центр: price_sq_m-{round(spb_center[factors[i]].corr(spb_center['price_sq_m']),2)}\")\n",
    "    display('-------------------------------------------')"
   ]
  },
  {
   "cell_type": "markdown",
   "metadata": {},
   "source": [
    "###### Вывод.\n",
    "Влияние факторов на цену кв. м.:\n",
    "- число комнат -зависимость есть как для центра, так и для всего города; но в центре пик медианных цен приходится на трешки, а в целом по городу - на двушки;\n",
    "- этаж - влияние для центра и всего города одинаковое: дешевле всего 1 этаж, последний - дороже, остальные - еще дороже;\n",
    "- расстояние до центра - в центре цена за кв. м. значительно снижается при удалении от центра, в городе в целом за окружностью 2,5 км падение цены при удалении от центра значителдьно замедляется;\n",
    "- дата продажи -  влияние для центра и всего города одинаковое: день и месяц -явной зависимости нет, с учвеличением года медианная цена растет."
   ]
  },
  {
   "cell_type": "markdown",
   "metadata": {},
   "source": [
    "## Общий вывод\n"
   ]
  },
  {
   "cell_type": "markdown",
   "metadata": {},
   "source": [
    "Основные факторы, влияющими на цену кв. м. в квартире по всем локациям:\n",
    "1) существенная обратная зависимость цены от расстояния до центра в пределах 2,5 км, далее зависимость существенно снижается. \n",
    "2) прямая зависимость от числа комнат в дипазоне от 1 до 3 комнат, далее - обратная зависимость.\n",
    "3) этаж: самые дешевые на первом, далее по цене - на последнем, еще дороже - прочие.\n",
    "Зависимость цены квадратного метра от площади и даты размщения не наблюдается.\n",
    "Эти выводы уместны как для квартир в СПБ в целом так и для центра СПб. \n",
    "\n",
    "Типичная квартира в центре СПБ по сравнению с квартирами из прочих районов города имеет большую площадь, более высокие потолки, больше комнат и, конечно, большую цену."
   ]
  }
 ],
 "metadata": {
  "ExecuteTimeLog": [
   {
    "duration": 84,
    "start_time": "2022-01-06T13:30:04.536Z"
   },
   {
    "duration": 672,
    "start_time": "2022-01-06T13:30:11.920Z"
   },
   {
    "duration": 90,
    "start_time": "2022-01-06T13:30:35.045Z"
   },
   {
    "duration": 201,
    "start_time": "2022-01-06T13:30:47.244Z"
   },
   {
    "duration": 111,
    "start_time": "2022-01-06T13:30:54.195Z"
   },
   {
    "duration": 61,
    "start_time": "2022-01-06T13:32:23.909Z"
   },
   {
    "duration": 61,
    "start_time": "2022-01-06T13:35:32.291Z"
   },
   {
    "duration": 580,
    "start_time": "2022-01-06T13:36:06.332Z"
   },
   {
    "duration": 91,
    "start_time": "2022-01-06T13:37:06.420Z"
   },
   {
    "duration": 432,
    "start_time": "2022-01-06T13:37:44.730Z"
   },
   {
    "duration": 331,
    "start_time": "2022-01-06T13:37:55.625Z"
   },
   {
    "duration": 225,
    "start_time": "2022-01-06T13:41:41.562Z"
   },
   {
    "duration": 102,
    "start_time": "2022-01-06T13:43:13.147Z"
   },
   {
    "duration": 93,
    "start_time": "2022-01-06T13:43:42.871Z"
   },
   {
    "duration": 270,
    "start_time": "2022-01-06T13:53:05.122Z"
   },
   {
    "duration": 8,
    "start_time": "2022-01-06T13:53:21.263Z"
   },
   {
    "duration": 334,
    "start_time": "2022-01-06T14:04:59.981Z"
   },
   {
    "duration": 7,
    "start_time": "2022-01-06T14:07:21.359Z"
   },
   {
    "duration": 124,
    "start_time": "2022-01-06T14:08:30.740Z"
   },
   {
    "duration": 82,
    "start_time": "2022-01-06T14:08:47.175Z"
   },
   {
    "duration": 243,
    "start_time": "2022-01-06T14:09:55.889Z"
   },
   {
    "duration": 243,
    "start_time": "2022-01-06T14:43:37.118Z"
   },
   {
    "duration": 8,
    "start_time": "2022-01-06T14:43:46.788Z"
   },
   {
    "duration": 12,
    "start_time": "2022-01-06T14:46:19.774Z"
   },
   {
    "duration": 15,
    "start_time": "2022-01-06T14:47:08.522Z"
   },
   {
    "duration": 30,
    "start_time": "2022-01-06T14:47:26.919Z"
   },
   {
    "duration": 33,
    "start_time": "2022-01-06T14:47:50.367Z"
   },
   {
    "duration": 93,
    "start_time": "2022-01-06T14:48:08.839Z"
   },
   {
    "duration": 434,
    "start_time": "2022-01-06T14:48:08.934Z"
   },
   {
    "duration": 30,
    "start_time": "2022-01-06T14:48:10.909Z"
   },
   {
    "duration": 33,
    "start_time": "2022-01-06T14:48:22.106Z"
   },
   {
    "duration": 88,
    "start_time": "2022-01-06T14:48:32.730Z"
   },
   {
    "duration": 28,
    "start_time": "2022-01-06T14:48:32.820Z"
   },
   {
    "duration": 31,
    "start_time": "2022-01-06T14:48:34.374Z"
   },
   {
    "duration": 30,
    "start_time": "2022-01-06T14:48:52.177Z"
   },
   {
    "duration": 96,
    "start_time": "2022-01-06T14:49:09.859Z"
   },
   {
    "duration": 266,
    "start_time": "2022-01-06T14:51:07.547Z"
   },
   {
    "duration": 29,
    "start_time": "2022-01-06T14:52:03.798Z"
   },
   {
    "duration": 258,
    "start_time": "2022-01-06T14:54:13.938Z"
   },
   {
    "duration": 34,
    "start_time": "2022-01-06T14:54:55.180Z"
   },
   {
    "duration": 41,
    "start_time": "2022-01-06T14:56:16.578Z"
   },
   {
    "duration": 34,
    "start_time": "2022-01-06T14:56:50.536Z"
   },
   {
    "duration": 38,
    "start_time": "2022-01-06T14:58:04.162Z"
   },
   {
    "duration": 39,
    "start_time": "2022-01-06T14:59:44.150Z"
   },
   {
    "duration": 44,
    "start_time": "2022-01-06T15:01:03.595Z"
   },
   {
    "duration": 39,
    "start_time": "2022-01-06T15:01:34.936Z"
   },
   {
    "duration": 47,
    "start_time": "2022-01-06T15:03:33.161Z"
   },
   {
    "duration": 50,
    "start_time": "2022-01-06T15:06:26.599Z"
   },
   {
    "duration": 40,
    "start_time": "2022-01-06T15:08:27.036Z"
   },
   {
    "duration": 43,
    "start_time": "2022-01-06T15:10:29.077Z"
   },
   {
    "duration": 43,
    "start_time": "2022-01-06T15:13:49.298Z"
   },
   {
    "duration": 44,
    "start_time": "2022-01-06T15:16:46.578Z"
   },
   {
    "duration": 54,
    "start_time": "2022-01-06T15:17:20.523Z"
   },
   {
    "duration": 44,
    "start_time": "2022-01-06T15:17:59.306Z"
   },
   {
    "duration": 48,
    "start_time": "2022-01-06T15:19:32.174Z"
   },
   {
    "duration": 105,
    "start_time": "2022-01-06T15:22:30.556Z"
   },
   {
    "duration": 30,
    "start_time": "2022-01-06T15:25:29.282Z"
   },
   {
    "duration": 36,
    "start_time": "2022-01-06T15:26:26.750Z"
   },
   {
    "duration": 32,
    "start_time": "2022-01-06T15:26:59.778Z"
   },
   {
    "duration": 31,
    "start_time": "2022-01-06T15:27:31.889Z"
   },
   {
    "duration": 31,
    "start_time": "2022-01-06T15:28:24.902Z"
   },
   {
    "duration": 5,
    "start_time": "2022-01-06T15:47:19.866Z"
   },
   {
    "duration": 312,
    "start_time": "2022-01-06T15:49:33.705Z"
   },
   {
    "duration": 256,
    "start_time": "2022-01-06T15:51:34.806Z"
   },
   {
    "duration": 12546,
    "start_time": "2022-01-06T15:51:49.680Z"
   },
   {
    "duration": 5,
    "start_time": "2022-01-06T16:01:41.006Z"
   },
   {
    "duration": 3,
    "start_time": "2022-01-06T16:05:32.428Z"
   },
   {
    "duration": 302,
    "start_time": "2022-01-06T16:14:48.053Z"
   },
   {
    "duration": 248,
    "start_time": "2022-01-06T16:19:59.402Z"
   },
   {
    "duration": 327,
    "start_time": "2022-01-06T16:24:04.435Z"
   },
   {
    "duration": 264,
    "start_time": "2022-01-06T16:24:58.843Z"
   },
   {
    "duration": 243,
    "start_time": "2022-01-06T16:28:09.297Z"
   },
   {
    "duration": 320,
    "start_time": "2022-01-06T16:29:14.612Z"
   },
   {
    "duration": 245,
    "start_time": "2022-01-06T16:29:32.893Z"
   },
   {
    "duration": 4,
    "start_time": "2022-01-06T16:29:51.506Z"
   },
   {
    "duration": 258,
    "start_time": "2022-01-06T16:30:15.522Z"
   },
   {
    "duration": 24,
    "start_time": "2022-01-06T16:32:00.774Z"
   },
   {
    "duration": 21,
    "start_time": "2022-01-06T16:32:49.893Z"
   },
   {
    "duration": 23,
    "start_time": "2022-01-06T16:33:27.662Z"
   },
   {
    "duration": 27,
    "start_time": "2022-01-06T16:33:48.413Z"
   },
   {
    "duration": 166,
    "start_time": "2022-01-06T16:43:51.020Z"
   },
   {
    "duration": 88,
    "start_time": "2022-01-06T16:44:46.182Z"
   },
   {
    "duration": 475,
    "start_time": "2022-01-06T16:45:47.091Z"
   },
   {
    "duration": 20,
    "start_time": "2022-01-06T16:49:01.602Z"
   },
   {
    "duration": 21,
    "start_time": "2022-01-06T16:49:43.331Z"
   },
   {
    "duration": 20,
    "start_time": "2022-01-06T16:50:52.229Z"
   },
   {
    "duration": 21,
    "start_time": "2022-01-06T16:51:14.087Z"
   },
   {
    "duration": 29,
    "start_time": "2022-01-06T16:52:37.121Z"
   },
   {
    "duration": 1261,
    "start_time": "2022-01-06T16:59:57.704Z"
   },
   {
    "duration": 805,
    "start_time": "2022-01-06T17:00:35.510Z"
   },
   {
    "duration": 961,
    "start_time": "2022-01-06T17:02:17.609Z"
   },
   {
    "duration": 1668,
    "start_time": "2022-01-06T17:02:25.043Z"
   },
   {
    "duration": 372,
    "start_time": "2022-01-06T17:05:46.408Z"
   },
   {
    "duration": 359,
    "start_time": "2022-01-06T17:06:21.403Z"
   },
   {
    "duration": 441,
    "start_time": "2022-01-06T17:06:59.732Z"
   },
   {
    "duration": 381,
    "start_time": "2022-01-06T17:08:59.561Z"
   },
   {
    "duration": 362,
    "start_time": "2022-01-06T17:09:28.781Z"
   },
   {
    "duration": 189,
    "start_time": "2022-01-06T17:09:38.385Z"
   },
   {
    "duration": 49,
    "start_time": "2022-01-06T17:10:39.323Z"
   },
   {
    "duration": 195,
    "start_time": "2022-01-06T17:11:43.737Z"
   },
   {
    "duration": 361,
    "start_time": "2022-01-06T17:12:38.609Z"
   },
   {
    "duration": 2132,
    "start_time": "2022-01-06T17:12:47.759Z"
   },
   {
    "duration": 495,
    "start_time": "2022-01-06T17:13:05.549Z"
   },
   {
    "duration": 372,
    "start_time": "2022-01-06T17:13:25.860Z"
   },
   {
    "duration": 366,
    "start_time": "2022-01-06T17:14:40.184Z"
   },
   {
    "duration": 12582,
    "start_time": "2022-01-06T17:14:50.545Z"
   },
   {
    "duration": 362,
    "start_time": "2022-01-06T17:15:27.266Z"
   },
   {
    "duration": 365,
    "start_time": "2022-01-06T17:16:12.258Z"
   },
   {
    "duration": 630,
    "start_time": "2022-01-06T17:16:41.600Z"
   },
   {
    "duration": 93,
    "start_time": "2022-01-06T17:19:33.716Z"
   },
   {
    "duration": 87,
    "start_time": "2022-01-06T17:21:54.443Z"
   },
   {
    "duration": 82,
    "start_time": "2022-01-06T17:22:23.875Z"
   },
   {
    "duration": 60,
    "start_time": "2022-01-06T17:22:23.959Z"
   },
   {
    "duration": 4,
    "start_time": "2022-01-06T17:22:24.021Z"
   },
   {
    "duration": 52,
    "start_time": "2022-01-06T17:22:24.027Z"
   },
   {
    "duration": 472,
    "start_time": "2022-01-06T17:22:24.081Z"
   },
   {
    "duration": 19,
    "start_time": "2022-01-06T17:22:24.559Z"
   },
   {
    "duration": 363,
    "start_time": "2022-01-06T17:22:24.580Z"
   },
   {
    "duration": 394,
    "start_time": "2022-01-06T17:22:24.945Z"
   },
   {
    "duration": 409,
    "start_time": "2022-01-07T07:48:58.694Z"
   },
   {
    "duration": 862,
    "start_time": "2022-01-07T07:49:04.158Z"
   },
   {
    "duration": 108,
    "start_time": "2022-01-07T07:49:05.024Z"
   },
   {
    "duration": 6,
    "start_time": "2022-01-07T07:49:05.135Z"
   },
   {
    "duration": 47,
    "start_time": "2022-01-07T07:49:05.144Z"
   },
   {
    "duration": 937,
    "start_time": "2022-01-07T07:49:05.194Z"
   },
   {
    "duration": 36,
    "start_time": "2022-01-07T07:49:06.134Z"
   },
   {
    "duration": 813,
    "start_time": "2022-01-07T07:49:06.173Z"
   },
   {
    "duration": 635,
    "start_time": "2022-01-07T07:49:06.990Z"
   },
   {
    "duration": 613,
    "start_time": "2022-01-07T07:49:50.968Z"
   },
   {
    "duration": 579,
    "start_time": "2022-01-07T07:50:47.814Z"
   },
   {
    "duration": 631,
    "start_time": "2022-01-07T07:52:55.772Z"
   },
   {
    "duration": 6,
    "start_time": "2022-01-07T07:56:30.627Z"
   },
   {
    "duration": 114,
    "start_time": "2022-01-07T07:56:43.593Z"
   },
   {
    "duration": 89,
    "start_time": "2022-01-07T07:56:43.709Z"
   },
   {
    "duration": 26,
    "start_time": "2022-01-07T07:56:43.801Z"
   },
   {
    "duration": 37,
    "start_time": "2022-01-07T07:56:43.830Z"
   },
   {
    "duration": 844,
    "start_time": "2022-01-07T07:56:43.869Z"
   },
   {
    "duration": 31,
    "start_time": "2022-01-07T07:56:44.723Z"
   },
   {
    "duration": 679,
    "start_time": "2022-01-07T07:56:44.756Z"
   },
   {
    "duration": 598,
    "start_time": "2022-01-07T07:56:45.438Z"
   },
   {
    "duration": 641,
    "start_time": "2022-01-07T08:10:59.916Z"
   },
   {
    "duration": 725,
    "start_time": "2022-01-07T08:11:19.879Z"
   },
   {
    "duration": 713,
    "start_time": "2022-01-07T08:11:32.176Z"
   },
   {
    "duration": 1198,
    "start_time": "2022-01-07T08:30:26.459Z"
   },
   {
    "duration": 666,
    "start_time": "2022-01-07T08:30:43.231Z"
   },
   {
    "duration": 702,
    "start_time": "2022-01-07T08:30:51.569Z"
   },
   {
    "duration": 694,
    "start_time": "2022-01-07T08:30:58.432Z"
   },
   {
    "duration": 662,
    "start_time": "2022-01-07T08:31:14.277Z"
   },
   {
    "duration": 1164,
    "start_time": "2022-01-07T08:33:13.385Z"
   },
   {
    "duration": 633,
    "start_time": "2022-01-07T08:33:29.311Z"
   },
   {
    "duration": 618,
    "start_time": "2022-01-07T08:33:40.376Z"
   },
   {
    "duration": 647,
    "start_time": "2022-01-07T08:33:54.541Z"
   },
   {
    "duration": 683,
    "start_time": "2022-01-07T08:34:12.694Z"
   },
   {
    "duration": 1266,
    "start_time": "2022-01-07T08:34:29.394Z"
   },
   {
    "duration": 619,
    "start_time": "2022-01-07T08:34:46.548Z"
   },
   {
    "duration": 605,
    "start_time": "2022-01-07T08:35:10.368Z"
   },
   {
    "duration": 103,
    "start_time": "2022-01-07T08:36:15.329Z"
   },
   {
    "duration": 680,
    "start_time": "2022-01-07T08:37:33.592Z"
   },
   {
    "duration": 655,
    "start_time": "2022-01-07T08:37:41.986Z"
   },
   {
    "duration": 625,
    "start_time": "2022-01-07T08:38:00.672Z"
   },
   {
    "duration": 733,
    "start_time": "2022-01-07T08:38:11.975Z"
   },
   {
    "duration": 653,
    "start_time": "2022-01-07T08:38:18.570Z"
   },
   {
    "duration": 651,
    "start_time": "2022-01-07T08:41:31.139Z"
   },
   {
    "duration": 117,
    "start_time": "2022-01-07T08:43:23.938Z"
   },
   {
    "duration": 673,
    "start_time": "2022-01-07T08:45:52.486Z"
   },
   {
    "duration": 575,
    "start_time": "2022-01-07T08:46:11.248Z"
   },
   {
    "duration": 710,
    "start_time": "2022-01-07T08:50:49.438Z"
   },
   {
    "duration": 604,
    "start_time": "2022-01-07T08:51:35.072Z"
   },
   {
    "duration": 627,
    "start_time": "2022-01-07T08:51:43.105Z"
   },
   {
    "duration": 616,
    "start_time": "2022-01-07T08:52:11.458Z"
   },
   {
    "duration": 648,
    "start_time": "2022-01-07T08:52:19.029Z"
   },
   {
    "duration": 645,
    "start_time": "2022-01-07T08:52:24.949Z"
   },
   {
    "duration": 619,
    "start_time": "2022-01-07T08:53:16.093Z"
   },
   {
    "duration": 801,
    "start_time": "2022-01-07T08:53:37.091Z"
   },
   {
    "duration": 97,
    "start_time": "2022-01-07T08:54:04.378Z"
   },
   {
    "duration": 951,
    "start_time": "2022-01-07T08:54:15.120Z"
   },
   {
    "duration": 665,
    "start_time": "2022-01-07T08:54:25.075Z"
   },
   {
    "duration": 633,
    "start_time": "2022-01-07T08:54:34.933Z"
   },
   {
    "duration": 639,
    "start_time": "2022-01-07T08:56:19.836Z"
   },
   {
    "duration": 794,
    "start_time": "2022-01-07T08:57:48.729Z"
   },
   {
    "duration": 109,
    "start_time": "2022-01-07T08:57:49.526Z"
   },
   {
    "duration": 7,
    "start_time": "2022-01-07T08:57:49.638Z"
   },
   {
    "duration": 81,
    "start_time": "2022-01-07T08:57:49.648Z"
   },
   {
    "duration": 807,
    "start_time": "2022-01-07T08:57:49.732Z"
   },
   {
    "duration": 34,
    "start_time": "2022-01-07T08:57:50.542Z"
   },
   {
    "duration": 882,
    "start_time": "2022-01-07T08:57:50.578Z"
   },
   {
    "duration": 608,
    "start_time": "2022-01-07T08:57:51.463Z"
   },
   {
    "duration": 634,
    "start_time": "2022-01-07T08:57:52.073Z"
   },
   {
    "duration": 696,
    "start_time": "2022-01-07T08:57:52.710Z"
   },
   {
    "duration": 664,
    "start_time": "2022-01-07T08:57:53.410Z"
   },
   {
    "duration": 97,
    "start_time": "2022-01-07T09:11:41.772Z"
   },
   {
    "duration": 621,
    "start_time": "2022-01-07T09:11:49.923Z"
   },
   {
    "duration": 697,
    "start_time": "2022-01-07T09:12:13.506Z"
   },
   {
    "duration": 627,
    "start_time": "2022-01-07T09:12:24.540Z"
   },
   {
    "duration": 825,
    "start_time": "2022-01-07T09:12:31.289Z"
   },
   {
    "duration": 609,
    "start_time": "2022-01-07T09:16:50.152Z"
   },
   {
    "duration": 607,
    "start_time": "2022-01-07T09:17:06.083Z"
   },
   {
    "duration": 581,
    "start_time": "2022-01-07T09:17:31.535Z"
   },
   {
    "duration": 854,
    "start_time": "2022-01-07T09:20:22.628Z"
   },
   {
    "duration": 965,
    "start_time": "2022-01-07T09:20:56.507Z"
   },
   {
    "duration": 638,
    "start_time": "2022-01-07T09:28:45.612Z"
   },
   {
    "duration": 222,
    "start_time": "2022-01-07T14:06:26.157Z"
   },
   {
    "duration": 671,
    "start_time": "2022-01-07T14:06:46.499Z"
   },
   {
    "duration": 70,
    "start_time": "2022-01-07T14:06:47.171Z"
   },
   {
    "duration": 5,
    "start_time": "2022-01-07T14:06:47.243Z"
   },
   {
    "duration": 42,
    "start_time": "2022-01-07T14:06:47.250Z"
   },
   {
    "duration": 498,
    "start_time": "2022-01-07T14:06:47.294Z"
   },
   {
    "duration": 26,
    "start_time": "2022-01-07T14:06:47.794Z"
   },
   {
    "duration": 564,
    "start_time": "2022-01-07T14:06:47.821Z"
   },
   {
    "duration": 398,
    "start_time": "2022-01-07T14:06:48.387Z"
   },
   {
    "duration": 390,
    "start_time": "2022-01-07T14:06:48.786Z"
   },
   {
    "duration": 389,
    "start_time": "2022-01-07T14:06:49.177Z"
   },
   {
    "duration": 419,
    "start_time": "2022-01-07T14:06:49.567Z"
   },
   {
    "duration": 476,
    "start_time": "2022-01-07T14:06:49.991Z"
   },
   {
    "duration": 400,
    "start_time": "2022-01-07T14:11:09.971Z"
   },
   {
    "duration": 409,
    "start_time": "2022-01-07T14:11:27.631Z"
   },
   {
    "duration": 380,
    "start_time": "2022-01-07T14:23:27.798Z"
   },
   {
    "duration": 58424,
    "start_time": "2022-01-07T14:49:45.193Z"
   },
   {
    "duration": 349,
    "start_time": "2022-01-09T08:19:27.034Z"
   },
   {
    "duration": 745,
    "start_time": "2022-01-09T08:19:32.824Z"
   },
   {
    "duration": 55,
    "start_time": "2022-01-09T08:19:33.570Z"
   },
   {
    "duration": 4,
    "start_time": "2022-01-09T08:19:33.627Z"
   },
   {
    "duration": 23,
    "start_time": "2022-01-09T08:19:33.632Z"
   },
   {
    "duration": 429,
    "start_time": "2022-01-09T08:19:33.656Z"
   },
   {
    "duration": 18,
    "start_time": "2022-01-09T08:19:34.086Z"
   },
   {
    "duration": 510,
    "start_time": "2022-01-09T08:19:34.105Z"
   },
   {
    "duration": 326,
    "start_time": "2022-01-09T08:19:34.617Z"
   },
   {
    "duration": 333,
    "start_time": "2022-01-09T08:19:34.944Z"
   },
   {
    "duration": 310,
    "start_time": "2022-01-09T08:19:35.279Z"
   },
   {
    "duration": 354,
    "start_time": "2022-01-09T08:19:35.591Z"
   },
   {
    "duration": 391,
    "start_time": "2022-01-09T08:19:35.946Z"
   },
   {
    "duration": 315,
    "start_time": "2022-01-09T08:19:36.338Z"
   },
   {
    "duration": 47985,
    "start_time": "2022-01-09T08:19:36.655Z"
   },
   {
    "duration": 645,
    "start_time": "2022-01-09T08:20:39.632Z"
   },
   {
    "duration": 358,
    "start_time": "2022-01-09T08:20:55.391Z"
   },
   {
    "duration": 162,
    "start_time": "2022-01-09T08:21:09.358Z"
   },
   {
    "duration": 359,
    "start_time": "2022-01-09T08:21:52.170Z"
   },
   {
    "duration": 351,
    "start_time": "2022-01-09T08:22:01.958Z"
   },
   {
    "duration": 341,
    "start_time": "2022-01-09T08:22:08.450Z"
   },
   {
    "duration": 346,
    "start_time": "2022-01-09T08:22:16.148Z"
   },
   {
    "duration": 358,
    "start_time": "2022-01-09T08:22:44.357Z"
   },
   {
    "duration": 643,
    "start_time": "2022-01-09T08:22:53.294Z"
   },
   {
    "duration": 340,
    "start_time": "2022-01-09T08:23:03.536Z"
   },
   {
    "duration": 14324,
    "start_time": "2022-01-09T08:36:32.468Z"
   },
   {
    "duration": 50122,
    "start_time": "2022-01-09T08:39:14.372Z"
   },
   {
    "duration": 320,
    "start_time": "2022-01-09T08:41:42.862Z"
   },
   {
    "duration": 402,
    "start_time": "2022-01-09T08:53:18.602Z"
   },
   {
    "duration": 449,
    "start_time": "2022-01-09T08:55:04.071Z"
   },
   {
    "duration": 1961,
    "start_time": "2022-01-09T08:56:59.899Z"
   },
   {
    "duration": 1358,
    "start_time": "2022-01-09T08:57:45.913Z"
   },
   {
    "duration": 26,
    "start_time": "2022-01-09T09:03:37.028Z"
   },
   {
    "duration": 22,
    "start_time": "2022-01-09T09:03:59.342Z"
   },
   {
    "duration": 44,
    "start_time": "2022-01-09T09:06:40.739Z"
   },
   {
    "duration": 42,
    "start_time": "2022-01-09T09:07:13.451Z"
   },
   {
    "duration": 41,
    "start_time": "2022-01-09T09:17:38.379Z"
   },
   {
    "duration": 43,
    "start_time": "2022-01-09T09:18:07.683Z"
   },
   {
    "duration": 84,
    "start_time": "2022-01-09T09:19:02.916Z"
   },
   {
    "duration": 32,
    "start_time": "2022-01-09T09:19:03.002Z"
   },
   {
    "duration": 358,
    "start_time": "2022-01-09T09:19:03.036Z"
   },
   {
    "duration": 14407,
    "start_time": "2022-01-09T09:18:48.989Z"
   },
   {
    "duration": 14404,
    "start_time": "2022-01-09T09:18:48.993Z"
   },
   {
    "duration": 14401,
    "start_time": "2022-01-09T09:18:48.997Z"
   },
   {
    "duration": 14398,
    "start_time": "2022-01-09T09:18:49.001Z"
   },
   {
    "duration": 14396,
    "start_time": "2022-01-09T09:18:49.004Z"
   },
   {
    "duration": 14392,
    "start_time": "2022-01-09T09:18:49.009Z"
   },
   {
    "duration": 14389,
    "start_time": "2022-01-09T09:18:49.013Z"
   },
   {
    "duration": 14385,
    "start_time": "2022-01-09T09:18:49.018Z"
   },
   {
    "duration": 14383,
    "start_time": "2022-01-09T09:18:49.021Z"
   },
   {
    "duration": 14380,
    "start_time": "2022-01-09T09:18:49.025Z"
   },
   {
    "duration": 14377,
    "start_time": "2022-01-09T09:18:49.029Z"
   },
   {
    "duration": 14375,
    "start_time": "2022-01-09T09:18:49.032Z"
   },
   {
    "duration": 312,
    "start_time": "2022-01-09T09:50:47.019Z"
   },
   {
    "duration": 326,
    "start_time": "2022-01-09T09:51:04.689Z"
   },
   {
    "duration": 366,
    "start_time": "2022-01-09T13:28:04.612Z"
   },
   {
    "duration": 326,
    "start_time": "2022-01-09T13:28:45.907Z"
   },
   {
    "duration": 28,
    "start_time": "2022-01-09T13:35:08.719Z"
   },
   {
    "duration": 119,
    "start_time": "2022-01-09T13:35:55.182Z"
   },
   {
    "duration": 118,
    "start_time": "2022-01-09T13:36:08.266Z"
   },
   {
    "duration": 110,
    "start_time": "2022-01-09T13:36:11.926Z"
   },
   {
    "duration": 139,
    "start_time": "2022-01-09T13:36:35.111Z"
   },
   {
    "duration": 102,
    "start_time": "2022-01-09T13:36:39.772Z"
   },
   {
    "duration": 110,
    "start_time": "2022-01-09T13:36:54.265Z"
   },
   {
    "duration": 28,
    "start_time": "2022-01-09T13:37:24.502Z"
   },
   {
    "duration": 11,
    "start_time": "2022-01-09T13:37:44.124Z"
   },
   {
    "duration": 12,
    "start_time": "2022-01-09T13:37:48.460Z"
   },
   {
    "duration": 82,
    "start_time": "2022-01-09T13:38:06.034Z"
   },
   {
    "duration": 20,
    "start_time": "2022-01-09T13:38:06.117Z"
   },
   {
    "duration": 11,
    "start_time": "2022-01-09T13:38:23.972Z"
   },
   {
    "duration": 34,
    "start_time": "2022-01-09T13:38:54.035Z"
   },
   {
    "duration": 352,
    "start_time": "2022-01-09T13:40:19.193Z"
   },
   {
    "duration": 11,
    "start_time": "2022-01-09T13:40:27.031Z"
   },
   {
    "duration": 11,
    "start_time": "2022-01-09T13:41:02.080Z"
   },
   {
    "duration": 79,
    "start_time": "2022-01-09T13:44:26.102Z"
   },
   {
    "duration": 19,
    "start_time": "2022-01-09T13:44:26.183Z"
   },
   {
    "duration": 10,
    "start_time": "2022-01-09T13:44:26.204Z"
   },
   {
    "duration": 65,
    "start_time": "2022-01-09T13:44:26.216Z"
   },
   {
    "duration": 4,
    "start_time": "2022-01-09T13:44:26.282Z"
   },
   {
    "duration": 41,
    "start_time": "2022-01-09T13:44:26.288Z"
   },
   {
    "duration": 532,
    "start_time": "2022-01-09T13:44:26.330Z"
   },
   {
    "duration": 16,
    "start_time": "2022-01-09T13:44:26.864Z"
   },
   {
    "duration": 375,
    "start_time": "2022-01-09T13:44:26.881Z"
   },
   {
    "duration": 334,
    "start_time": "2022-01-09T13:44:27.258Z"
   },
   {
    "duration": 335,
    "start_time": "2022-01-09T13:44:27.593Z"
   },
   {
    "duration": 313,
    "start_time": "2022-01-09T13:44:27.930Z"
   },
   {
    "duration": 358,
    "start_time": "2022-01-09T13:44:28.244Z"
   },
   {
    "duration": 337,
    "start_time": "2022-01-09T13:44:28.604Z"
   },
   {
    "duration": 409,
    "start_time": "2022-01-09T13:44:28.942Z"
   },
   {
    "duration": 1222,
    "start_time": "2022-01-09T13:44:29.353Z"
   },
   {
    "duration": 112,
    "start_time": "2022-01-09T13:56:32.578Z"
   },
   {
    "duration": 338,
    "start_time": "2022-01-09T13:56:51.240Z"
   },
   {
    "duration": 1018,
    "start_time": "2022-01-09T13:57:17.556Z"
   },
   {
    "duration": 81,
    "start_time": "2022-01-09T15:04:29.645Z"
   },
   {
    "duration": 20,
    "start_time": "2022-01-09T15:04:29.727Z"
   },
   {
    "duration": 11,
    "start_time": "2022-01-09T15:04:29.749Z"
   },
   {
    "duration": 71,
    "start_time": "2022-01-09T15:04:29.761Z"
   },
   {
    "duration": 3,
    "start_time": "2022-01-09T15:04:29.834Z"
   },
   {
    "duration": 24,
    "start_time": "2022-01-09T15:04:29.839Z"
   },
   {
    "duration": 436,
    "start_time": "2022-01-09T15:04:29.865Z"
   },
   {
    "duration": 24,
    "start_time": "2022-01-09T15:04:30.304Z"
   },
   {
    "duration": 386,
    "start_time": "2022-01-09T15:04:30.330Z"
   },
   {
    "duration": 388,
    "start_time": "2022-01-09T15:04:30.717Z"
   },
   {
    "duration": 374,
    "start_time": "2022-01-09T15:04:31.107Z"
   },
   {
    "duration": 322,
    "start_time": "2022-01-09T15:04:31.483Z"
   },
   {
    "duration": 367,
    "start_time": "2022-01-09T15:04:31.806Z"
   },
   {
    "duration": 347,
    "start_time": "2022-01-09T15:04:32.175Z"
   },
   {
    "duration": 324,
    "start_time": "2022-01-09T15:04:32.523Z"
   },
   {
    "duration": 1154,
    "start_time": "2022-01-09T15:04:32.848Z"
   },
   {
    "duration": 80,
    "start_time": "2022-01-09T15:34:01.228Z"
   },
   {
    "duration": 26,
    "start_time": "2022-01-09T15:34:01.310Z"
   },
   {
    "duration": 16,
    "start_time": "2022-01-09T15:34:01.338Z"
   },
   {
    "duration": 73,
    "start_time": "2022-01-09T15:34:01.357Z"
   },
   {
    "duration": 5,
    "start_time": "2022-01-09T15:34:01.432Z"
   },
   {
    "duration": 29,
    "start_time": "2022-01-09T15:34:01.438Z"
   },
   {
    "duration": 437,
    "start_time": "2022-01-09T15:34:01.468Z"
   },
   {
    "duration": 23,
    "start_time": "2022-01-09T15:34:01.907Z"
   },
   {
    "duration": 371,
    "start_time": "2022-01-09T15:34:01.932Z"
   },
   {
    "duration": 336,
    "start_time": "2022-01-09T15:34:02.305Z"
   },
   {
    "duration": 344,
    "start_time": "2022-01-09T15:34:02.643Z"
   },
   {
    "duration": 413,
    "start_time": "2022-01-09T15:34:02.989Z"
   },
   {
    "duration": 376,
    "start_time": "2022-01-09T15:34:03.403Z"
   },
   {
    "duration": 358,
    "start_time": "2022-01-09T15:34:03.781Z"
   },
   {
    "duration": 330,
    "start_time": "2022-01-09T15:34:04.141Z"
   },
   {
    "duration": 1184,
    "start_time": "2022-01-09T15:34:04.472Z"
   },
   {
    "duration": -591,
    "start_time": "2022-01-09T15:37:25.330Z"
   },
   {
    "duration": 340,
    "start_time": "2022-01-09T15:38:05.986Z"
   },
   {
    "duration": 764,
    "start_time": "2022-01-09T17:08:37.756Z"
   },
   {
    "duration": 24,
    "start_time": "2022-01-09T17:08:38.522Z"
   },
   {
    "duration": 15,
    "start_time": "2022-01-09T17:08:38.561Z"
   },
   {
    "duration": 61,
    "start_time": "2022-01-09T17:08:38.577Z"
   },
   {
    "duration": 23,
    "start_time": "2022-01-09T17:08:38.639Z"
   },
   {
    "duration": 25,
    "start_time": "2022-01-09T17:08:38.663Z"
   },
   {
    "duration": 499,
    "start_time": "2022-01-09T17:08:38.690Z"
   },
   {
    "duration": 19,
    "start_time": "2022-01-09T17:08:39.190Z"
   },
   {
    "duration": 453,
    "start_time": "2022-01-09T17:08:39.211Z"
   },
   {
    "duration": 375,
    "start_time": "2022-01-09T17:08:39.666Z"
   },
   {
    "duration": 371,
    "start_time": "2022-01-09T17:08:40.042Z"
   },
   {
    "duration": 352,
    "start_time": "2022-01-09T17:08:40.415Z"
   },
   {
    "duration": 420,
    "start_time": "2022-01-09T17:08:40.769Z"
   },
   {
    "duration": 411,
    "start_time": "2022-01-09T17:08:41.191Z"
   },
   {
    "duration": 460,
    "start_time": "2022-01-09T17:08:41.604Z"
   },
   {
    "duration": 1322,
    "start_time": "2022-01-09T17:08:42.066Z"
   },
   {
    "duration": 4,
    "start_time": "2022-01-09T17:23:25.862Z"
   },
   {
    "duration": 4,
    "start_time": "2022-01-09T17:39:07.688Z"
   },
   {
    "duration": 3,
    "start_time": "2022-01-09T17:39:13.774Z"
   },
   {
    "duration": 4,
    "start_time": "2022-01-09T17:39:17.855Z"
   },
   {
    "duration": 214473,
    "start_time": "2022-01-09T18:14:41.801Z"
   },
   {
    "duration": 594,
    "start_time": "2022-01-09T18:23:27.310Z"
   },
   {
    "duration": 736,
    "start_time": "2022-01-11T18:20:56.553Z"
   },
   {
    "duration": 25,
    "start_time": "2022-01-11T18:20:57.291Z"
   },
   {
    "duration": 26,
    "start_time": "2022-01-11T18:20:57.318Z"
   },
   {
    "duration": 60,
    "start_time": "2022-01-11T18:20:57.346Z"
   },
   {
    "duration": 4,
    "start_time": "2022-01-11T18:20:57.408Z"
   },
   {
    "duration": 42,
    "start_time": "2022-01-11T18:20:57.414Z"
   },
   {
    "duration": 461,
    "start_time": "2022-01-11T18:20:57.458Z"
   },
   {
    "duration": 24,
    "start_time": "2022-01-11T18:20:57.921Z"
   },
   {
    "duration": 438,
    "start_time": "2022-01-11T18:20:57.947Z"
   },
   {
    "duration": 354,
    "start_time": "2022-01-11T18:20:58.387Z"
   },
   {
    "duration": 370,
    "start_time": "2022-01-11T18:20:58.742Z"
   },
   {
    "duration": 341,
    "start_time": "2022-01-11T18:20:59.113Z"
   },
   {
    "duration": 387,
    "start_time": "2022-01-11T18:20:59.456Z"
   },
   {
    "duration": 371,
    "start_time": "2022-01-11T18:20:59.845Z"
   },
   {
    "duration": 438,
    "start_time": "2022-01-11T18:21:00.218Z"
   },
   {
    "duration": 1324,
    "start_time": "2022-01-11T18:21:00.658Z"
   },
   {
    "duration": 352,
    "start_time": "2022-01-11T18:21:01.983Z"
   },
   {
    "duration": 464,
    "start_time": "2022-01-11T18:32:53.584Z"
   },
   {
    "duration": 276,
    "start_time": "2022-01-11T18:34:33.945Z"
   },
   {
    "duration": 1755,
    "start_time": "2022-01-11T18:37:53.829Z"
   },
   {
    "duration": 1661,
    "start_time": "2022-01-11T18:39:22.282Z"
   },
   {
    "duration": 5,
    "start_time": "2022-01-11T18:39:31.661Z"
   },
   {
    "duration": 8,
    "start_time": "2022-01-11T18:42:04.013Z"
   },
   {
    "duration": 10,
    "start_time": "2022-01-11T18:42:31.044Z"
   },
   {
    "duration": 11,
    "start_time": "2022-01-11T18:43:00.661Z"
   },
   {
    "duration": 977,
    "start_time": "2022-01-11T18:53:10.418Z"
   },
   {
    "duration": 23,
    "start_time": "2022-01-11T18:53:11.397Z"
   },
   {
    "duration": 13,
    "start_time": "2022-01-11T18:53:11.421Z"
   },
   {
    "duration": 60,
    "start_time": "2022-01-11T18:53:11.435Z"
   },
   {
    "duration": 3,
    "start_time": "2022-01-11T18:53:11.497Z"
   },
   {
    "duration": 24,
    "start_time": "2022-01-11T18:53:11.502Z"
   },
   {
    "duration": 532,
    "start_time": "2022-01-11T18:53:11.527Z"
   },
   {
    "duration": 26,
    "start_time": "2022-01-11T18:53:12.061Z"
   },
   {
    "duration": 504,
    "start_time": "2022-01-11T18:53:12.089Z"
   },
   {
    "duration": 336,
    "start_time": "2022-01-11T18:53:12.595Z"
   },
   {
    "duration": 341,
    "start_time": "2022-01-11T18:53:12.932Z"
   },
   {
    "duration": 328,
    "start_time": "2022-01-11T18:53:13.274Z"
   },
   {
    "duration": 371,
    "start_time": "2022-01-11T18:53:13.603Z"
   },
   {
    "duration": 348,
    "start_time": "2022-01-11T18:53:13.976Z"
   },
   {
    "duration": 397,
    "start_time": "2022-01-11T18:53:14.325Z"
   },
   {
    "duration": 1335,
    "start_time": "2022-01-11T18:53:14.723Z"
   },
   {
    "duration": 13,
    "start_time": "2022-01-11T18:53:16.060Z"
   },
   {
    "duration": 337,
    "start_time": "2022-01-11T18:55:44.673Z"
   },
   {
    "duration": 2051,
    "start_time": "2022-01-11T18:56:49.435Z"
   },
   {
    "duration": 24,
    "start_time": "2022-01-11T18:56:56.580Z"
   },
   {
    "duration": 16193,
    "start_time": "2022-01-11T18:57:05.895Z"
   },
   {
    "duration": 16,
    "start_time": "2022-01-11T18:57:27.584Z"
   },
   {
    "duration": 90,
    "start_time": "2022-01-11T18:57:48.866Z"
   },
   {
    "duration": 24,
    "start_time": "2022-01-11T18:57:48.958Z"
   },
   {
    "duration": 11,
    "start_time": "2022-01-11T18:57:48.984Z"
   },
   {
    "duration": 61,
    "start_time": "2022-01-11T18:57:48.998Z"
   },
   {
    "duration": 4,
    "start_time": "2022-01-11T18:57:49.060Z"
   },
   {
    "duration": 26,
    "start_time": "2022-01-11T18:57:49.066Z"
   },
   {
    "duration": 470,
    "start_time": "2022-01-11T18:57:49.093Z"
   },
   {
    "duration": 29,
    "start_time": "2022-01-11T18:57:49.565Z"
   },
   {
    "duration": 395,
    "start_time": "2022-01-11T18:57:49.596Z"
   },
   {
    "duration": 342,
    "start_time": "2022-01-11T18:57:49.993Z"
   },
   {
    "duration": 424,
    "start_time": "2022-01-11T18:57:50.341Z"
   },
   {
    "duration": 320,
    "start_time": "2022-01-11T18:57:50.767Z"
   },
   {
    "duration": 358,
    "start_time": "2022-01-11T18:57:51.089Z"
   },
   {
    "duration": 348,
    "start_time": "2022-01-11T18:57:51.448Z"
   },
   {
    "duration": 328,
    "start_time": "2022-01-11T18:57:51.798Z"
   },
   {
    "duration": 1354,
    "start_time": "2022-01-11T18:57:52.127Z"
   },
   {
    "duration": 16234,
    "start_time": "2022-01-11T18:58:13.690Z"
   },
   {
    "duration": 15,
    "start_time": "2022-01-11T18:58:30.992Z"
   },
   {
    "duration": 17,
    "start_time": "2022-01-11T18:59:08.581Z"
   },
   {
    "duration": 16215,
    "start_time": "2022-01-11T19:00:10.423Z"
   },
   {
    "duration": 17,
    "start_time": "2022-01-11T19:00:30.586Z"
   },
   {
    "duration": 16,
    "start_time": "2022-01-11T19:04:13.980Z"
   },
   {
    "duration": 277,
    "start_time": "2022-01-11T19:06:11.820Z"
   },
   {
    "duration": 464,
    "start_time": "2022-01-11T19:06:48.612Z"
   },
   {
    "duration": 403,
    "start_time": "2022-01-11T19:08:33.743Z"
   },
   {
    "duration": 269,
    "start_time": "2022-01-11T19:12:01.759Z"
   },
   {
    "duration": 249,
    "start_time": "2022-01-11T19:12:13.078Z"
   },
   {
    "duration": 790,
    "start_time": "2022-01-11T19:12:21.765Z"
   },
   {
    "duration": 266,
    "start_time": "2022-01-11T19:12:29.338Z"
   },
   {
    "duration": 241,
    "start_time": "2022-01-11T19:14:41.149Z"
   },
   {
    "duration": 254,
    "start_time": "2022-01-11T19:14:59.100Z"
   },
   {
    "duration": 316,
    "start_time": "2022-01-11T19:15:13.331Z"
   },
   {
    "duration": 418,
    "start_time": "2022-01-11T19:15:27.275Z"
   },
   {
    "duration": 555,
    "start_time": "2022-01-11T19:15:46.692Z"
   },
   {
    "duration": 544,
    "start_time": "2022-01-11T19:18:58.720Z"
   },
   {
    "duration": 432,
    "start_time": "2022-01-11T19:20:39.889Z"
   },
   {
    "duration": 484,
    "start_time": "2022-01-11T19:26:55.605Z"
   },
   {
    "duration": 20,
    "start_time": "2022-01-11T19:34:18.285Z"
   },
   {
    "duration": 465,
    "start_time": "2022-01-11T19:35:22.263Z"
   },
   {
    "duration": 368,
    "start_time": "2022-01-11T19:35:42.053Z"
   },
   {
    "duration": 85,
    "start_time": "2022-01-11T19:36:34.333Z"
   },
   {
    "duration": 280,
    "start_time": "2022-01-11T19:36:40.739Z"
   },
   {
    "duration": 269,
    "start_time": "2022-01-11T20:17:06.374Z"
   },
   {
    "duration": 83,
    "start_time": "2022-01-11T20:18:04.693Z"
   },
   {
    "duration": 303,
    "start_time": "2022-01-11T20:18:41.254Z"
   },
   {
    "duration": 90,
    "start_time": "2022-01-11T20:19:22.186Z"
   },
   {
    "duration": 820,
    "start_time": "2022-01-11T20:19:36.476Z"
   },
   {
    "duration": 881,
    "start_time": "2022-01-11T20:20:03.297Z"
   },
   {
    "duration": 706,
    "start_time": "2022-01-11T20:20:11.390Z"
   },
   {
    "duration": 841,
    "start_time": "2022-01-11T20:20:38.957Z"
   },
   {
    "duration": 783,
    "start_time": "2022-01-11T20:21:26.575Z"
   },
   {
    "duration": 633,
    "start_time": "2022-01-11T20:22:03.725Z"
   },
   {
    "duration": 736,
    "start_time": "2022-01-11T20:23:25.103Z"
   },
   {
    "duration": 817,
    "start_time": "2022-01-11T20:24:05.285Z"
   },
   {
    "duration": 720,
    "start_time": "2022-01-11T20:24:26.322Z"
   },
   {
    "duration": 309,
    "start_time": "2022-01-11T20:25:51.575Z"
   },
   {
    "duration": 438,
    "start_time": "2022-01-11T20:31:24.584Z"
   },
   {
    "duration": 302,
    "start_time": "2022-01-11T20:31:43.840Z"
   },
   {
    "duration": 302,
    "start_time": "2022-01-11T20:31:56.873Z"
   },
   {
    "duration": 338,
    "start_time": "2022-01-11T20:32:05.106Z"
   },
   {
    "duration": 716,
    "start_time": "2022-01-11T20:32:34.094Z"
   },
   {
    "duration": 635,
    "start_time": "2022-01-11T20:33:01.379Z"
   },
   {
    "duration": 619,
    "start_time": "2022-01-11T20:33:11.705Z"
   },
   {
    "duration": 676,
    "start_time": "2022-01-11T20:34:52.775Z"
   },
   {
    "duration": 579,
    "start_time": "2022-01-11T20:35:09.668Z"
   },
   {
    "duration": 317,
    "start_time": "2022-01-11T20:36:32.318Z"
   },
   {
    "duration": 730,
    "start_time": "2022-01-11T20:37:16.981Z"
   },
   {
    "duration": 752,
    "start_time": "2022-01-11T20:37:27.375Z"
   },
   {
    "duration": 523,
    "start_time": "2022-01-11T20:37:43.860Z"
   },
   {
    "duration": 513,
    "start_time": "2022-01-11T20:38:24.195Z"
   },
   {
    "duration": 850,
    "start_time": "2022-01-11T20:38:59.175Z"
   },
   {
    "duration": 843,
    "start_time": "2022-01-11T20:39:31.892Z"
   },
   {
    "duration": 757,
    "start_time": "2022-01-11T20:39:50.353Z"
   },
   {
    "duration": 472,
    "start_time": "2022-01-11T20:42:42.812Z"
   },
   {
    "duration": 819,
    "start_time": "2022-01-11T20:47:03.092Z"
   },
   {
    "duration": 797,
    "start_time": "2022-01-11T20:47:40.126Z"
   },
   {
    "duration": 781,
    "start_time": "2022-01-11T20:47:58.262Z"
   },
   {
    "duration": 965,
    "start_time": "2022-01-11T20:48:23.379Z"
   },
   {
    "duration": 853,
    "start_time": "2022-01-11T20:48:35.232Z"
   },
   {
    "duration": 782,
    "start_time": "2022-01-11T20:48:48.543Z"
   },
   {
    "duration": 815,
    "start_time": "2022-01-11T20:49:01.542Z"
   },
   {
    "duration": 731,
    "start_time": "2022-01-11T20:49:23.687Z"
   },
   {
    "duration": 1055,
    "start_time": "2022-01-11T20:49:44.237Z"
   },
   {
    "duration": 478,
    "start_time": "2022-01-11T20:51:13.786Z"
   },
   {
    "duration": 597,
    "start_time": "2022-01-11T20:51:21.077Z"
   },
   {
    "duration": 456,
    "start_time": "2022-01-11T20:52:58.959Z"
   },
   {
    "duration": 488,
    "start_time": "2022-01-11T20:53:13.407Z"
   },
   {
    "duration": 491,
    "start_time": "2022-01-11T20:55:51.793Z"
   },
   {
    "duration": 473,
    "start_time": "2022-01-11T20:56:28.887Z"
   },
   {
    "duration": 460,
    "start_time": "2022-01-11T20:56:34.755Z"
   },
   {
    "duration": 456,
    "start_time": "2022-01-11T20:57:09.536Z"
   },
   {
    "duration": 481,
    "start_time": "2022-01-11T20:58:21.034Z"
   },
   {
    "duration": 522,
    "start_time": "2022-01-11T20:58:35.204Z"
   },
   {
    "duration": 479,
    "start_time": "2022-01-11T20:59:59.592Z"
   },
   {
    "duration": 523,
    "start_time": "2022-01-11T21:00:24.716Z"
   },
   {
    "duration": 491,
    "start_time": "2022-01-11T21:00:37.076Z"
   },
   {
    "duration": 459,
    "start_time": "2022-01-11T21:00:57.957Z"
   },
   {
    "duration": 446,
    "start_time": "2022-01-11T21:01:19.451Z"
   },
   {
    "duration": 291,
    "start_time": "2022-01-12T15:37:48.578Z"
   },
   {
    "duration": 1057,
    "start_time": "2022-01-12T15:37:52.799Z"
   },
   {
    "duration": 35,
    "start_time": "2022-01-12T15:37:53.858Z"
   },
   {
    "duration": 23,
    "start_time": "2022-01-12T15:37:53.896Z"
   },
   {
    "duration": 79,
    "start_time": "2022-01-12T15:37:53.921Z"
   },
   {
    "duration": 4,
    "start_time": "2022-01-12T15:37:54.001Z"
   },
   {
    "duration": 48,
    "start_time": "2022-01-12T15:37:54.006Z"
   },
   {
    "duration": 812,
    "start_time": "2022-01-12T15:37:54.056Z"
   },
   {
    "duration": 19,
    "start_time": "2022-01-12T15:37:54.870Z"
   },
   {
    "duration": 440,
    "start_time": "2022-01-12T15:37:54.891Z"
   },
   {
    "duration": 370,
    "start_time": "2022-01-12T15:37:55.332Z"
   },
   {
    "duration": 374,
    "start_time": "2022-01-12T15:37:55.704Z"
   },
   {
    "duration": 346,
    "start_time": "2022-01-12T15:37:56.079Z"
   },
   {
    "duration": 387,
    "start_time": "2022-01-12T15:37:56.427Z"
   },
   {
    "duration": 425,
    "start_time": "2022-01-12T15:37:56.816Z"
   },
   {
    "duration": 459,
    "start_time": "2022-01-12T15:37:57.243Z"
   },
   {
    "duration": 1364,
    "start_time": "2022-01-12T15:37:57.704Z"
   },
   {
    "duration": 454,
    "start_time": "2022-01-12T15:37:59.070Z"
   },
   {
    "duration": 821,
    "start_time": "2022-01-12T15:37:59.526Z"
   },
   {
    "duration": 695,
    "start_time": "2022-01-12T15:38:00.349Z"
   },
   {
    "duration": 588,
    "start_time": "2022-01-12T15:38:01.046Z"
   },
   {
    "duration": 1480,
    "start_time": "2022-01-12T15:38:12.432Z"
   },
   {
    "duration": 1432,
    "start_time": "2022-01-12T15:39:46.045Z"
   },
   {
    "duration": 1281,
    "start_time": "2022-01-12T15:40:07.700Z"
   },
   {
    "duration": 1315,
    "start_time": "2022-01-12T15:40:19.971Z"
   },
   {
    "duration": 118,
    "start_time": "2022-01-12T15:41:37.880Z"
   },
   {
    "duration": 42,
    "start_time": "2022-01-12T15:41:38.000Z"
   },
   {
    "duration": 16,
    "start_time": "2022-01-12T15:41:38.045Z"
   },
   {
    "duration": 318,
    "start_time": "2022-01-12T15:41:38.064Z"
   },
   {
    "duration": 460,
    "start_time": "2022-01-12T15:41:37.925Z"
   },
   {
    "duration": 452,
    "start_time": "2022-01-12T15:41:37.934Z"
   },
   {
    "duration": 445,
    "start_time": "2022-01-12T15:41:37.941Z"
   },
   {
    "duration": 441,
    "start_time": "2022-01-12T15:41:37.947Z"
   },
   {
    "duration": 436,
    "start_time": "2022-01-12T15:41:37.953Z"
   },
   {
    "duration": 429,
    "start_time": "2022-01-12T15:41:37.960Z"
   },
   {
    "duration": 423,
    "start_time": "2022-01-12T15:41:37.967Z"
   },
   {
    "duration": 418,
    "start_time": "2022-01-12T15:41:37.973Z"
   },
   {
    "duration": 413,
    "start_time": "2022-01-12T15:41:37.979Z"
   },
   {
    "duration": 409,
    "start_time": "2022-01-12T15:41:37.984Z"
   },
   {
    "duration": 404,
    "start_time": "2022-01-12T15:41:37.990Z"
   },
   {
    "duration": 400,
    "start_time": "2022-01-12T15:41:37.995Z"
   },
   {
    "duration": 394,
    "start_time": "2022-01-12T15:41:38.002Z"
   },
   {
    "duration": 389,
    "start_time": "2022-01-12T15:41:38.008Z"
   },
   {
    "duration": 385,
    "start_time": "2022-01-12T15:41:38.013Z"
   },
   {
    "duration": 381,
    "start_time": "2022-01-12T15:41:38.018Z"
   },
   {
    "duration": 95,
    "start_time": "2022-01-12T15:44:15.377Z"
   },
   {
    "duration": 26,
    "start_time": "2022-01-12T15:44:15.474Z"
   },
   {
    "duration": 14,
    "start_time": "2022-01-12T15:44:15.503Z"
   },
   {
    "duration": 318,
    "start_time": "2022-01-12T15:44:15.519Z"
   },
   {
    "duration": 473,
    "start_time": "2022-01-12T15:44:15.367Z"
   },
   {
    "duration": 469,
    "start_time": "2022-01-12T15:44:15.372Z"
   },
   {
    "duration": 464,
    "start_time": "2022-01-12T15:44:15.377Z"
   },
   {
    "duration": 460,
    "start_time": "2022-01-12T15:44:15.382Z"
   },
   {
    "duration": 456,
    "start_time": "2022-01-12T15:44:15.387Z"
   },
   {
    "duration": 451,
    "start_time": "2022-01-12T15:44:15.393Z"
   },
   {
    "duration": 447,
    "start_time": "2022-01-12T15:44:15.398Z"
   },
   {
    "duration": 444,
    "start_time": "2022-01-12T15:44:15.402Z"
   },
   {
    "duration": 438,
    "start_time": "2022-01-12T15:44:15.409Z"
   },
   {
    "duration": 435,
    "start_time": "2022-01-12T15:44:15.413Z"
   },
   {
    "duration": 431,
    "start_time": "2022-01-12T15:44:15.417Z"
   },
   {
    "duration": 427,
    "start_time": "2022-01-12T15:44:15.422Z"
   },
   {
    "duration": 424,
    "start_time": "2022-01-12T15:44:15.426Z"
   },
   {
    "duration": 421,
    "start_time": "2022-01-12T15:44:15.430Z"
   },
   {
    "duration": 417,
    "start_time": "2022-01-12T15:44:15.435Z"
   },
   {
    "duration": 414,
    "start_time": "2022-01-12T15:44:15.439Z"
   },
   {
    "duration": 236,
    "start_time": "2022-01-12T15:48:28.093Z"
   },
   {
    "duration": 252,
    "start_time": "2022-01-12T15:49:23.317Z"
   },
   {
    "duration": 241,
    "start_time": "2022-01-12T15:50:16.716Z"
   },
   {
    "duration": 245,
    "start_time": "2022-01-12T15:52:45.990Z"
   },
   {
    "duration": 239,
    "start_time": "2022-01-12T15:52:51.375Z"
   },
   {
    "duration": 228,
    "start_time": "2022-01-12T15:54:09.784Z"
   },
   {
    "duration": 234,
    "start_time": "2022-01-12T15:54:19.281Z"
   },
   {
    "duration": 2,
    "start_time": "2022-01-12T15:54:54.683Z"
   },
   {
    "duration": 3,
    "start_time": "2022-01-12T15:54:59.210Z"
   },
   {
    "duration": 3,
    "start_time": "2022-01-12T15:55:08.857Z"
   },
   {
    "duration": 82,
    "start_time": "2022-01-12T15:55:36.941Z"
   },
   {
    "duration": 21,
    "start_time": "2022-01-12T15:55:37.025Z"
   },
   {
    "duration": 12,
    "start_time": "2022-01-12T15:55:37.048Z"
   },
   {
    "duration": 26,
    "start_time": "2022-01-12T15:55:41.610Z"
   },
   {
    "duration": 8,
    "start_time": "2022-01-12T15:55:46.636Z"
   },
   {
    "duration": 55,
    "start_time": "2022-01-12T15:56:16.926Z"
   },
   {
    "duration": 93,
    "start_time": "2022-01-12T15:57:09.220Z"
   },
   {
    "duration": 32,
    "start_time": "2022-01-12T15:57:09.315Z"
   },
   {
    "duration": 11,
    "start_time": "2022-01-12T15:57:09.349Z"
   },
   {
    "duration": 27,
    "start_time": "2022-01-12T15:57:09.362Z"
   },
   {
    "duration": 88,
    "start_time": "2022-01-12T15:57:18.272Z"
   },
   {
    "duration": 23,
    "start_time": "2022-01-12T15:57:18.361Z"
   },
   {
    "duration": 12,
    "start_time": "2022-01-12T15:57:18.386Z"
   },
   {
    "duration": 42,
    "start_time": "2022-01-12T15:57:18.399Z"
   },
   {
    "duration": 9,
    "start_time": "2022-01-12T15:57:24.256Z"
   },
   {
    "duration": 284,
    "start_time": "2022-01-12T15:58:39.873Z"
   },
   {
    "duration": 4,
    "start_time": "2022-01-12T15:59:06.162Z"
   },
   {
    "duration": 92,
    "start_time": "2022-01-12T15:59:16.421Z"
   },
   {
    "duration": 35,
    "start_time": "2022-01-12T15:59:16.514Z"
   },
   {
    "duration": 13,
    "start_time": "2022-01-12T15:59:16.551Z"
   },
   {
    "duration": 8,
    "start_time": "2022-01-12T15:59:16.565Z"
   },
   {
    "duration": 26,
    "start_time": "2022-01-12T15:59:16.575Z"
   },
   {
    "duration": 84,
    "start_time": "2022-01-12T15:59:16.603Z"
   },
   {
    "duration": 4,
    "start_time": "2022-01-12T15:59:16.689Z"
   },
   {
    "duration": 26,
    "start_time": "2022-01-12T15:59:16.695Z"
   },
   {
    "duration": 365,
    "start_time": "2022-01-12T15:59:16.722Z"
   },
   {
    "duration": 26,
    "start_time": "2022-01-12T15:59:17.099Z"
   },
   {
    "duration": 403,
    "start_time": "2022-01-12T15:59:17.126Z"
   },
   {
    "duration": 437,
    "start_time": "2022-01-12T15:59:17.530Z"
   },
   {
    "duration": 337,
    "start_time": "2022-01-12T15:59:17.968Z"
   },
   {
    "duration": 326,
    "start_time": "2022-01-12T15:59:18.307Z"
   },
   {
    "duration": 373,
    "start_time": "2022-01-12T15:59:18.635Z"
   },
   {
    "duration": 347,
    "start_time": "2022-01-12T15:59:19.009Z"
   },
   {
    "duration": 414,
    "start_time": "2022-01-12T15:59:19.358Z"
   },
   {
    "duration": 1088,
    "start_time": "2022-01-12T15:59:19.774Z"
   },
   {
    "duration": 370,
    "start_time": "2022-01-12T15:59:20.864Z"
   },
   {
    "duration": 674,
    "start_time": "2022-01-12T15:59:21.236Z"
   },
   {
    "duration": 432,
    "start_time": "2022-01-12T15:59:21.912Z"
   },
   {
    "duration": 405,
    "start_time": "2022-01-12T15:59:22.345Z"
   },
   {
    "duration": 354,
    "start_time": "2022-01-12T16:05:59.465Z"
   },
   {
    "duration": 1421,
    "start_time": "2022-01-12T16:17:13.604Z"
   },
   {
    "duration": 1326,
    "start_time": "2022-01-12T16:17:44.150Z"
   },
   {
    "duration": 100,
    "start_time": "2022-01-12T16:24:27.028Z"
   },
   {
    "duration": 253,
    "start_time": "2022-01-12T16:24:34.226Z"
   },
   {
    "duration": 48,
    "start_time": "2022-01-12T16:27:56.282Z"
   },
   {
    "duration": 52,
    "start_time": "2022-01-12T16:28:18.985Z"
   },
   {
    "duration": 41,
    "start_time": "2022-01-12T16:28:44.912Z"
   },
   {
    "duration": 281,
    "start_time": "2022-01-12T16:29:25.103Z"
   },
   {
    "duration": 279,
    "start_time": "2022-01-12T16:30:44.697Z"
   },
   {
    "duration": 40,
    "start_time": "2022-01-12T16:30:51.888Z"
   },
   {
    "duration": 269,
    "start_time": "2022-01-12T16:31:04.014Z"
   },
   {
    "duration": 1752,
    "start_time": "2022-01-12T16:31:18.889Z"
   },
   {
    "duration": 1732,
    "start_time": "2022-01-12T16:31:38.075Z"
   },
   {
    "duration": 1804,
    "start_time": "2022-01-12T16:31:54.991Z"
   },
   {
    "duration": 4,
    "start_time": "2022-01-12T16:34:18.593Z"
   },
   {
    "duration": 607,
    "start_time": "2022-01-12T16:43:29.995Z"
   },
   {
    "duration": 326,
    "start_time": "2022-01-12T16:43:46.090Z"
   },
   {
    "duration": 84,
    "start_time": "2022-01-12T16:43:54.528Z"
   },
   {
    "duration": 34,
    "start_time": "2022-01-12T16:43:54.614Z"
   },
   {
    "duration": 448,
    "start_time": "2022-01-12T16:44:01.007Z"
   },
   {
    "duration": 408,
    "start_time": "2022-01-12T16:44:29.433Z"
   },
   {
    "duration": 83,
    "start_time": "2022-01-12T17:20:10.437Z"
   },
   {
    "duration": 22,
    "start_time": "2022-01-12T17:20:10.521Z"
   },
   {
    "duration": 338,
    "start_time": "2022-01-12T17:20:10.544Z"
   },
   {
    "duration": 12,
    "start_time": "2022-01-12T17:20:10.884Z"
   },
   {
    "duration": 7,
    "start_time": "2022-01-12T17:20:10.898Z"
   },
   {
    "duration": 46,
    "start_time": "2022-01-12T17:20:10.906Z"
   },
   {
    "duration": 55,
    "start_time": "2022-01-12T17:20:10.954Z"
   },
   {
    "duration": 4,
    "start_time": "2022-01-12T17:20:11.010Z"
   },
   {
    "duration": 45,
    "start_time": "2022-01-12T17:20:11.016Z"
   },
   {
    "duration": 343,
    "start_time": "2022-01-12T17:20:11.064Z"
   },
   {
    "duration": 18,
    "start_time": "2022-01-12T17:20:11.409Z"
   },
   {
    "duration": 347,
    "start_time": "2022-01-12T17:20:11.428Z"
   },
   {
    "duration": 340,
    "start_time": "2022-01-12T17:20:11.776Z"
   },
   {
    "duration": 437,
    "start_time": "2022-01-12T17:20:12.118Z"
   },
   {
    "duration": 319,
    "start_time": "2022-01-12T17:20:12.557Z"
   },
   {
    "duration": 366,
    "start_time": "2022-01-12T17:20:12.877Z"
   },
   {
    "duration": 496,
    "start_time": "2022-01-12T17:20:13.245Z"
   },
   {
    "duration": 461,
    "start_time": "2022-01-12T17:20:13.743Z"
   },
   {
    "duration": 1389,
    "start_time": "2022-01-12T17:20:14.206Z"
   },
   {
    "duration": 426,
    "start_time": "2022-01-12T17:20:15.597Z"
   },
   {
    "duration": 669,
    "start_time": "2022-01-12T17:20:16.024Z"
   },
   {
    "duration": 447,
    "start_time": "2022-01-12T17:20:16.695Z"
   },
   {
    "duration": 428,
    "start_time": "2022-01-12T17:20:17.144Z"
   },
   {
    "duration": 42,
    "start_time": "2022-01-12T17:20:44.415Z"
   },
   {
    "duration": 81,
    "start_time": "2022-01-12T17:20:54.709Z"
   },
   {
    "duration": 20,
    "start_time": "2022-01-12T17:20:54.792Z"
   },
   {
    "duration": 338,
    "start_time": "2022-01-12T17:20:54.814Z"
   },
   {
    "duration": 11,
    "start_time": "2022-01-12T17:20:55.154Z"
   },
   {
    "duration": 8,
    "start_time": "2022-01-12T17:20:55.166Z"
   },
   {
    "duration": 27,
    "start_time": "2022-01-12T17:20:55.175Z"
   },
   {
    "duration": 84,
    "start_time": "2022-01-12T17:20:55.203Z"
   },
   {
    "duration": 4,
    "start_time": "2022-01-12T17:20:55.289Z"
   },
   {
    "duration": 24,
    "start_time": "2022-01-12T17:20:55.295Z"
   },
   {
    "duration": 358,
    "start_time": "2022-01-12T17:20:55.320Z"
   },
   {
    "duration": 19,
    "start_time": "2022-01-12T17:20:55.679Z"
   },
   {
    "duration": 341,
    "start_time": "2022-01-12T17:20:55.700Z"
   },
   {
    "duration": 345,
    "start_time": "2022-01-12T17:20:56.042Z"
   },
   {
    "duration": 489,
    "start_time": "2022-01-12T17:20:56.388Z"
   },
   {
    "duration": 329,
    "start_time": "2022-01-12T17:20:56.879Z"
   },
   {
    "duration": 371,
    "start_time": "2022-01-12T17:20:57.210Z"
   },
   {
    "duration": 381,
    "start_time": "2022-01-12T17:20:57.582Z"
   },
   {
    "duration": 330,
    "start_time": "2022-01-12T17:20:57.964Z"
   },
   {
    "duration": 1141,
    "start_time": "2022-01-12T17:20:58.295Z"
   },
   {
    "duration": 396,
    "start_time": "2022-01-12T17:20:59.437Z"
   },
   {
    "duration": 696,
    "start_time": "2022-01-12T17:20:59.835Z"
   },
   {
    "duration": 430,
    "start_time": "2022-01-12T17:21:00.533Z"
   },
   {
    "duration": 414,
    "start_time": "2022-01-12T17:21:00.966Z"
   },
   {
    "duration": 364,
    "start_time": "2022-01-12T20:59:24.928Z"
   },
   {
    "duration": 753,
    "start_time": "2022-01-12T20:59:32.409Z"
   },
   {
    "duration": 24,
    "start_time": "2022-01-12T20:59:33.164Z"
   },
   {
    "duration": 331,
    "start_time": "2022-01-12T20:59:33.190Z"
   },
   {
    "duration": 30,
    "start_time": "2022-01-12T20:59:33.527Z"
   },
   {
    "duration": 375,
    "start_time": "2022-01-12T21:00:52.230Z"
   },
   {
    "duration": 29,
    "start_time": "2022-01-12T21:01:53.111Z"
   },
   {
    "duration": 108,
    "start_time": "2022-01-12T21:02:38.624Z"
   },
   {
    "duration": 29,
    "start_time": "2022-01-12T21:02:46.863Z"
   },
   {
    "duration": 341,
    "start_time": "2022-01-12T21:04:20.489Z"
   },
   {
    "duration": 10,
    "start_time": "2022-01-12T21:05:42.215Z"
   },
   {
    "duration": 15,
    "start_time": "2022-01-12T21:07:48.568Z"
   },
   {
    "duration": 16,
    "start_time": "2022-01-12T21:08:03.966Z"
   },
   {
    "duration": 12,
    "start_time": "2022-01-12T21:13:31.137Z"
   },
   {
    "duration": 12,
    "start_time": "2022-01-12T21:22:05.361Z"
   },
   {
    "duration": 18,
    "start_time": "2022-01-12T21:45:36.224Z"
   },
   {
    "duration": 357,
    "start_time": "2022-01-12T21:53:38.500Z"
   },
   {
    "duration": 650,
    "start_time": "2022-01-12T21:54:30.647Z"
   },
   {
    "duration": 343,
    "start_time": "2022-01-12T21:55:45.661Z"
   },
   {
    "duration": 328,
    "start_time": "2022-01-12T21:56:47.720Z"
   },
   {
    "duration": 339,
    "start_time": "2022-01-12T21:57:22.997Z"
   },
   {
    "duration": 311,
    "start_time": "2022-01-12T21:58:06.708Z"
   },
   {
    "duration": 397,
    "start_time": "2022-01-12T21:58:52.053Z"
   },
   {
    "duration": 112,
    "start_time": "2022-01-12T22:00:30.146Z"
   },
   {
    "duration": 335,
    "start_time": "2022-01-12T22:01:08.761Z"
   },
   {
    "duration": 340,
    "start_time": "2022-01-12T22:01:37.344Z"
   },
   {
    "duration": 475,
    "start_time": "2022-01-12T22:02:17.411Z"
   },
   {
    "duration": 17,
    "start_time": "2022-01-12T22:02:39.070Z"
   },
   {
    "duration": 349,
    "start_time": "2022-01-12T22:05:37.557Z"
   },
   {
    "duration": 367,
    "start_time": "2022-01-12T22:08:03.380Z"
   },
   {
    "duration": 29,
    "start_time": "2022-01-12T22:09:31.699Z"
   },
   {
    "duration": 408,
    "start_time": "2022-01-12T22:11:57.425Z"
   },
   {
    "duration": 26,
    "start_time": "2022-01-12T22:12:55.246Z"
   },
   {
    "duration": 836,
    "start_time": "2022-01-13T07:37:50.387Z"
   },
   {
    "duration": 28,
    "start_time": "2022-01-13T07:37:51.225Z"
   },
   {
    "duration": 20,
    "start_time": "2022-01-13T07:37:51.256Z"
   },
   {
    "duration": 86,
    "start_time": "2022-01-13T07:37:51.278Z"
   },
   {
    "duration": 760,
    "start_time": "2022-01-13T07:37:50.606Z"
   },
   {
    "duration": 747,
    "start_time": "2022-01-13T07:37:50.620Z"
   },
   {
    "duration": 742,
    "start_time": "2022-01-13T07:37:50.626Z"
   },
   {
    "duration": 737,
    "start_time": "2022-01-13T07:37:50.632Z"
   },
   {
    "duration": 733,
    "start_time": "2022-01-13T07:37:50.636Z"
   },
   {
    "duration": 728,
    "start_time": "2022-01-13T07:37:50.642Z"
   },
   {
    "duration": 723,
    "start_time": "2022-01-13T07:37:50.648Z"
   },
   {
    "duration": 719,
    "start_time": "2022-01-13T07:37:50.653Z"
   },
   {
    "duration": 716,
    "start_time": "2022-01-13T07:37:50.657Z"
   },
   {
    "duration": 712,
    "start_time": "2022-01-13T07:37:50.662Z"
   },
   {
    "duration": 707,
    "start_time": "2022-01-13T07:37:50.668Z"
   },
   {
    "duration": 703,
    "start_time": "2022-01-13T07:37:50.673Z"
   },
   {
    "duration": 699,
    "start_time": "2022-01-13T07:37:50.678Z"
   },
   {
    "duration": 696,
    "start_time": "2022-01-13T07:37:50.682Z"
   },
   {
    "duration": 692,
    "start_time": "2022-01-13T07:37:50.687Z"
   },
   {
    "duration": 688,
    "start_time": "2022-01-13T07:37:50.691Z"
   },
   {
    "duration": 684,
    "start_time": "2022-01-13T07:37:50.696Z"
   },
   {
    "duration": 681,
    "start_time": "2022-01-13T07:37:50.700Z"
   },
   {
    "duration": 678,
    "start_time": "2022-01-13T07:37:50.704Z"
   },
   {
    "duration": 674,
    "start_time": "2022-01-13T07:37:50.709Z"
   },
   {
    "duration": 670,
    "start_time": "2022-01-13T07:37:50.714Z"
   },
   {
    "duration": 666,
    "start_time": "2022-01-13T07:37:50.719Z"
   },
   {
    "duration": 98,
    "start_time": "2022-01-13T07:59:03.913Z"
   },
   {
    "duration": 26,
    "start_time": "2022-01-13T07:59:04.013Z"
   },
   {
    "duration": 17,
    "start_time": "2022-01-13T07:59:04.042Z"
   },
   {
    "duration": 472,
    "start_time": "2022-01-13T07:59:04.061Z"
   },
   {
    "duration": 5,
    "start_time": "2022-01-13T07:59:04.534Z"
   },
   {
    "duration": 61,
    "start_time": "2022-01-13T07:59:04.540Z"
   },
   {
    "duration": 15,
    "start_time": "2022-01-13T07:59:04.602Z"
   },
   {
    "duration": 11,
    "start_time": "2022-01-13T07:59:04.620Z"
   },
   {
    "duration": 74,
    "start_time": "2022-01-13T07:59:04.633Z"
   },
   {
    "duration": 5,
    "start_time": "2022-01-13T07:59:04.709Z"
   },
   {
    "duration": 31,
    "start_time": "2022-01-13T07:59:04.715Z"
   },
   {
    "duration": 476,
    "start_time": "2022-01-13T07:59:04.748Z"
   },
   {
    "duration": 23,
    "start_time": "2022-01-13T07:59:05.226Z"
   },
   {
    "duration": 477,
    "start_time": "2022-01-13T07:59:05.251Z"
   },
   {
    "duration": 469,
    "start_time": "2022-01-13T07:59:05.730Z"
   },
   {
    "duration": 464,
    "start_time": "2022-01-13T07:59:06.200Z"
   },
   {
    "duration": 454,
    "start_time": "2022-01-13T07:59:06.665Z"
   },
   {
    "duration": 528,
    "start_time": "2022-01-13T07:59:07.120Z"
   },
   {
    "duration": 540,
    "start_time": "2022-01-13T07:59:07.650Z"
   },
   {
    "duration": 441,
    "start_time": "2022-01-13T07:59:08.191Z"
   },
   {
    "duration": 1398,
    "start_time": "2022-01-13T07:59:08.633Z"
   },
   {
    "duration": 512,
    "start_time": "2022-01-13T07:59:10.033Z"
   },
   {
    "duration": 889,
    "start_time": "2022-01-13T07:59:10.548Z"
   },
   {
    "duration": 541,
    "start_time": "2022-01-13T07:59:11.439Z"
   },
   {
    "duration": 501,
    "start_time": "2022-01-13T07:59:11.981Z"
   },
   {
    "duration": 8,
    "start_time": "2022-01-13T13:13:55.453Z"
   },
   {
    "duration": 7321,
    "start_time": "2022-01-13T13:36:43.027Z"
   },
   {
    "duration": 84,
    "start_time": "2022-01-13T13:37:19.922Z"
   },
   {
    "duration": 92,
    "start_time": "2022-01-13T13:37:42.661Z"
   },
   {
    "duration": 281,
    "start_time": "2022-01-13T13:37:52.523Z"
   },
   {
    "duration": 5,
    "start_time": "2022-01-13T16:14:22.963Z"
   },
   {
    "duration": 301,
    "start_time": "2022-01-13T16:14:54.378Z"
   },
   {
    "duration": 276,
    "start_time": "2022-01-13T16:15:23.640Z"
   },
   {
    "duration": 279,
    "start_time": "2022-01-13T16:15:31.014Z"
   },
   {
    "duration": 89,
    "start_time": "2022-01-13T16:15:49.068Z"
   },
   {
    "duration": 89,
    "start_time": "2022-01-13T16:16:07.634Z"
   },
   {
    "duration": 96,
    "start_time": "2022-01-13T16:18:55.356Z"
   },
   {
    "duration": 5,
    "start_time": "2022-01-13T16:18:59.443Z"
   },
   {
    "duration": 4,
    "start_time": "2022-01-13T16:20:01.258Z"
   },
   {
    "duration": 457,
    "start_time": "2022-01-13T16:20:13.809Z"
   },
   {
    "duration": 40,
    "start_time": "2022-01-13T16:20:38.359Z"
   },
   {
    "duration": 78,
    "start_time": "2022-01-13T16:26:23.637Z"
   },
   {
    "duration": 97,
    "start_time": "2022-01-13T16:30:04.260Z"
   },
   {
    "duration": 24,
    "start_time": "2022-01-13T16:30:04.359Z"
   },
   {
    "duration": 26,
    "start_time": "2022-01-13T16:30:04.385Z"
   },
   {
    "duration": 512,
    "start_time": "2022-01-13T16:30:04.412Z"
   },
   {
    "duration": 4,
    "start_time": "2022-01-13T16:30:04.925Z"
   },
   {
    "duration": 13,
    "start_time": "2022-01-13T16:30:04.931Z"
   },
   {
    "duration": 15,
    "start_time": "2022-01-13T16:30:04.946Z"
   },
   {
    "duration": 7,
    "start_time": "2022-01-13T16:30:04.963Z"
   },
   {
    "duration": 30,
    "start_time": "2022-01-13T16:30:04.972Z"
   },
   {
    "duration": 725,
    "start_time": "2022-01-13T16:30:31.760Z"
   },
   {
    "duration": 27,
    "start_time": "2022-01-13T16:30:32.487Z"
   },
   {
    "duration": 18,
    "start_time": "2022-01-13T16:30:32.516Z"
   },
   {
    "duration": 442,
    "start_time": "2022-01-13T16:30:32.537Z"
   },
   {
    "duration": 4,
    "start_time": "2022-01-13T16:30:32.981Z"
   },
   {
    "duration": 19,
    "start_time": "2022-01-13T16:30:32.987Z"
   },
   {
    "duration": 16,
    "start_time": "2022-01-13T16:30:33.007Z"
   },
   {
    "duration": 8,
    "start_time": "2022-01-13T16:30:33.025Z"
   },
   {
    "duration": 6,
    "start_time": "2022-01-13T16:30:33.034Z"
   },
   {
    "duration": 44,
    "start_time": "2022-01-13T16:30:40.339Z"
   },
   {
    "duration": 20,
    "start_time": "2022-01-13T16:32:36.350Z"
   },
   {
    "duration": 5,
    "start_time": "2022-01-13T16:32:59.338Z"
   },
   {
    "duration": 27,
    "start_time": "2022-01-13T16:33:04.025Z"
   },
   {
    "duration": 594,
    "start_time": "2022-01-13T16:33:36.892Z"
   },
   {
    "duration": 21,
    "start_time": "2022-01-13T16:33:50.263Z"
   },
   {
    "duration": 415,
    "start_time": "2022-01-13T16:33:56.167Z"
   },
   {
    "duration": 419,
    "start_time": "2022-01-13T16:34:18.213Z"
   },
   {
    "duration": 813,
    "start_time": "2022-01-13T16:35:01.167Z"
   },
   {
    "duration": 39,
    "start_time": "2022-01-13T16:35:01.983Z"
   },
   {
    "duration": 19,
    "start_time": "2022-01-13T16:35:02.024Z"
   },
   {
    "duration": 456,
    "start_time": "2022-01-13T16:35:02.045Z"
   },
   {
    "duration": 4,
    "start_time": "2022-01-13T16:35:02.503Z"
   },
   {
    "duration": 17,
    "start_time": "2022-01-13T16:35:02.509Z"
   },
   {
    "duration": 16,
    "start_time": "2022-01-13T16:35:02.528Z"
   },
   {
    "duration": 8,
    "start_time": "2022-01-13T16:35:02.546Z"
   },
   {
    "duration": 52,
    "start_time": "2022-01-13T16:35:02.557Z"
   },
   {
    "duration": 5,
    "start_time": "2022-01-13T16:35:02.611Z"
   },
   {
    "duration": 35,
    "start_time": "2022-01-13T16:35:02.618Z"
   },
   {
    "duration": 574,
    "start_time": "2022-01-13T16:35:02.655Z"
   },
   {
    "duration": 24,
    "start_time": "2022-01-13T16:35:03.231Z"
   },
   {
    "duration": 463,
    "start_time": "2022-01-13T16:35:03.257Z"
   },
   {
    "duration": 424,
    "start_time": "2022-01-13T16:35:03.722Z"
   },
   {
    "duration": 442,
    "start_time": "2022-01-13T16:35:04.148Z"
   },
   {
    "duration": 429,
    "start_time": "2022-01-13T16:35:04.592Z"
   },
   {
    "duration": 493,
    "start_time": "2022-01-13T16:35:05.023Z"
   },
   {
    "duration": 519,
    "start_time": "2022-01-13T16:35:05.517Z"
   },
   {
    "duration": 425,
    "start_time": "2022-01-13T16:35:06.038Z"
   },
   {
    "duration": 1565,
    "start_time": "2022-01-13T16:35:06.465Z"
   },
   {
    "duration": 534,
    "start_time": "2022-01-13T16:35:08.031Z"
   },
   {
    "duration": 908,
    "start_time": "2022-01-13T16:35:08.567Z"
   },
   {
    "duration": 526,
    "start_time": "2022-01-13T16:35:09.477Z"
   },
   {
    "duration": 511,
    "start_time": "2022-01-13T16:35:10.004Z"
   },
   {
    "duration": 353,
    "start_time": "2022-01-13T16:47:52.624Z"
   },
   {
    "duration": 16,
    "start_time": "2022-01-13T16:48:00.073Z"
   },
   {
    "duration": 16,
    "start_time": "2022-01-13T16:48:39.388Z"
   },
   {
    "duration": 126,
    "start_time": "2022-01-13T16:49:20.602Z"
   },
   {
    "duration": 17,
    "start_time": "2022-01-13T16:50:36.614Z"
   },
   {
    "duration": 5412,
    "start_time": "2022-01-13T16:55:34.716Z"
   },
   {
    "duration": 5227,
    "start_time": "2022-01-13T16:57:10.320Z"
   },
   {
    "duration": 308,
    "start_time": "2022-01-13T17:17:44.830Z"
   },
   {
    "duration": 991,
    "start_time": "2022-01-13T21:16:12.770Z"
   },
   {
    "duration": 38,
    "start_time": "2022-01-13T21:16:13.763Z"
   },
   {
    "duration": 29,
    "start_time": "2022-01-13T21:16:13.816Z"
   },
   {
    "duration": 604,
    "start_time": "2022-01-13T21:16:13.848Z"
   },
   {
    "duration": 6,
    "start_time": "2022-01-13T21:16:14.454Z"
   },
   {
    "duration": 13,
    "start_time": "2022-01-13T21:16:14.462Z"
   },
   {
    "duration": 46,
    "start_time": "2022-01-13T21:16:14.478Z"
   },
   {
    "duration": 10,
    "start_time": "2022-01-13T21:16:14.526Z"
   },
   {
    "duration": 37,
    "start_time": "2022-01-13T21:16:14.540Z"
   },
   {
    "duration": 5,
    "start_time": "2022-01-13T21:16:14.580Z"
   },
   {
    "duration": 39,
    "start_time": "2022-01-13T21:16:14.616Z"
   },
   {
    "duration": 889,
    "start_time": "2022-01-13T21:16:14.657Z"
   },
   {
    "duration": 32,
    "start_time": "2022-01-13T21:16:15.548Z"
   },
   {
    "duration": 660,
    "start_time": "2022-01-13T21:16:15.582Z"
   },
   {
    "duration": 664,
    "start_time": "2022-01-13T21:16:16.244Z"
   },
   {
    "duration": 614,
    "start_time": "2022-01-13T21:16:16.911Z"
   },
   {
    "duration": 600,
    "start_time": "2022-01-13T21:16:17.528Z"
   },
   {
    "duration": 673,
    "start_time": "2022-01-13T21:16:18.130Z"
   },
   {
    "duration": 728,
    "start_time": "2022-01-13T21:16:18.805Z"
   },
   {
    "duration": 600,
    "start_time": "2022-01-13T21:16:19.536Z"
   },
   {
    "duration": 1949,
    "start_time": "2022-01-13T21:16:20.139Z"
   },
   {
    "duration": 671,
    "start_time": "2022-01-13T21:16:22.091Z"
   },
   {
    "duration": 1210,
    "start_time": "2022-01-13T21:16:22.764Z"
   },
   {
    "duration": 711,
    "start_time": "2022-01-13T21:16:23.977Z"
   },
   {
    "duration": 814,
    "start_time": "2022-01-13T21:16:24.691Z"
   },
   {
    "duration": 13,
    "start_time": "2022-01-13T21:16:25.507Z"
   },
   {
    "duration": 4017,
    "start_time": "2022-01-13T21:16:25.525Z"
   },
   {
    "duration": 973,
    "start_time": "2022-01-13T21:20:42.816Z"
   },
   {
    "duration": 49,
    "start_time": "2022-01-13T21:20:43.792Z"
   },
   {
    "duration": 28,
    "start_time": "2022-01-13T21:20:43.844Z"
   },
   {
    "duration": 607,
    "start_time": "2022-01-13T21:20:43.875Z"
   },
   {
    "duration": 5,
    "start_time": "2022-01-13T21:20:44.484Z"
   },
   {
    "duration": 31,
    "start_time": "2022-01-13T21:20:44.492Z"
   },
   {
    "duration": 24,
    "start_time": "2022-01-13T21:20:44.525Z"
   },
   {
    "duration": 11,
    "start_time": "2022-01-13T21:20:44.552Z"
   },
   {
    "duration": 70,
    "start_time": "2022-01-13T21:20:44.567Z"
   },
   {
    "duration": 6,
    "start_time": "2022-01-13T21:20:44.640Z"
   },
   {
    "duration": 46,
    "start_time": "2022-01-13T21:20:44.648Z"
   },
   {
    "duration": 872,
    "start_time": "2022-01-13T21:20:44.696Z"
   },
   {
    "duration": 47,
    "start_time": "2022-01-13T21:20:45.570Z"
   },
   {
    "duration": 619,
    "start_time": "2022-01-13T21:20:45.619Z"
   },
   {
    "duration": 608,
    "start_time": "2022-01-13T21:20:46.241Z"
   },
   {
    "duration": 626,
    "start_time": "2022-01-13T21:20:46.851Z"
   },
   {
    "duration": 624,
    "start_time": "2022-01-13T21:20:47.479Z"
   },
   {
    "duration": 696,
    "start_time": "2022-01-13T21:20:48.106Z"
   },
   {
    "duration": 697,
    "start_time": "2022-01-13T21:20:48.804Z"
   },
   {
    "duration": 614,
    "start_time": "2022-01-13T21:20:49.503Z"
   },
   {
    "duration": 1963,
    "start_time": "2022-01-13T21:20:50.119Z"
   },
   {
    "duration": 661,
    "start_time": "2022-01-13T21:20:52.085Z"
   },
   {
    "duration": 1216,
    "start_time": "2022-01-13T21:20:52.749Z"
   },
   {
    "duration": 703,
    "start_time": "2022-01-13T21:20:53.967Z"
   },
   {
    "duration": 687,
    "start_time": "2022-01-13T21:20:54.672Z"
   },
   {
    "duration": 7,
    "start_time": "2022-01-13T21:20:55.361Z"
   },
   {
    "duration": 3947,
    "start_time": "2022-01-13T21:20:55.373Z"
   },
   {
    "duration": 910,
    "start_time": "2022-01-13T21:22:26.275Z"
   },
   {
    "duration": 920,
    "start_time": "2022-01-13T21:22:33.890Z"
   },
   {
    "duration": 933,
    "start_time": "2022-01-13T21:22:56.173Z"
   },
   {
    "duration": 3880,
    "start_time": "2022-01-13T21:23:20.091Z"
   },
   {
    "duration": 3888,
    "start_time": "2022-01-13T21:23:35.765Z"
   },
   {
    "duration": 3981,
    "start_time": "2022-01-13T21:23:48.959Z"
   },
   {
    "duration": 3988,
    "start_time": "2022-01-13T21:23:55.799Z"
   },
   {
    "duration": 257,
    "start_time": "2022-01-13T21:24:16.123Z"
   },
   {
    "duration": 6550,
    "start_time": "2022-01-13T21:24:56.325Z"
   },
   {
    "duration": 962,
    "start_time": "2022-01-13T21:27:22.195Z"
   },
   {
    "duration": 6707,
    "start_time": "2022-01-13T21:27:28.382Z"
   },
   {
    "duration": 927,
    "start_time": "2022-01-13T21:27:54.190Z"
   },
   {
    "duration": 33,
    "start_time": "2022-01-13T21:28:47.365Z"
   },
   {
    "duration": 648,
    "start_time": "2022-01-13T21:30:37.925Z"
   },
   {
    "duration": 31,
    "start_time": "2022-01-13T21:30:49.121Z"
   },
   {
    "duration": 2565,
    "start_time": "2022-01-13T21:30:56.919Z"
   },
   {
    "duration": 9,
    "start_time": "2022-01-13T21:31:50.218Z"
   },
   {
    "duration": 18347,
    "start_time": "2022-01-13T21:32:38.226Z"
   },
   {
    "duration": 2779,
    "start_time": "2022-01-13T21:35:15.144Z"
   },
   {
    "duration": 9,
    "start_time": "2022-01-13T21:38:22.314Z"
   },
   {
    "duration": 6269,
    "start_time": "2022-01-13T21:39:26.474Z"
   },
   {
    "duration": 8652,
    "start_time": "2022-01-13T21:39:59.119Z"
   },
   {
    "duration": 59,
    "start_time": "2022-01-13T21:40:49.169Z"
   },
   {
    "duration": 87,
    "start_time": "2022-01-13T21:42:34.823Z"
   },
   {
    "duration": 133,
    "start_time": "2022-01-13T21:42:45.492Z"
   },
   {
    "duration": 102,
    "start_time": "2022-01-13T21:42:45.629Z"
   },
   {
    "duration": 21,
    "start_time": "2022-01-13T21:42:45.734Z"
   },
   {
    "duration": 632,
    "start_time": "2022-01-13T21:42:45.757Z"
   },
   {
    "duration": 6,
    "start_time": "2022-01-13T21:42:46.391Z"
   },
   {
    "duration": 23,
    "start_time": "2022-01-13T21:42:46.400Z"
   },
   {
    "duration": 22,
    "start_time": "2022-01-13T21:42:46.426Z"
   },
   {
    "duration": 10,
    "start_time": "2022-01-13T21:42:46.451Z"
   },
   {
    "duration": 68,
    "start_time": "2022-01-13T21:42:46.464Z"
   },
   {
    "duration": 6,
    "start_time": "2022-01-13T21:42:46.535Z"
   },
   {
    "duration": 41,
    "start_time": "2022-01-13T21:42:46.543Z"
   },
   {
    "duration": 821,
    "start_time": "2022-01-13T21:42:46.587Z"
   },
   {
    "duration": 37,
    "start_time": "2022-01-13T21:42:47.410Z"
   },
   {
    "duration": 640,
    "start_time": "2022-01-13T21:42:47.450Z"
   },
   {
    "duration": 632,
    "start_time": "2022-01-13T21:42:48.093Z"
   },
   {
    "duration": 731,
    "start_time": "2022-01-13T21:42:48.728Z"
   },
   {
    "duration": 623,
    "start_time": "2022-01-13T21:42:49.462Z"
   },
   {
    "duration": 695,
    "start_time": "2022-01-13T21:42:50.089Z"
   },
   {
    "duration": 737,
    "start_time": "2022-01-13T21:42:50.786Z"
   },
   {
    "duration": 607,
    "start_time": "2022-01-13T21:42:51.525Z"
   },
   {
    "duration": 2478,
    "start_time": "2022-01-13T21:42:52.134Z"
   },
   {
    "duration": 651,
    "start_time": "2022-01-13T21:42:54.618Z"
   },
   {
    "duration": 1183,
    "start_time": "2022-01-13T21:42:55.273Z"
   },
   {
    "duration": 752,
    "start_time": "2022-01-13T21:42:56.459Z"
   },
   {
    "duration": 712,
    "start_time": "2022-01-13T21:42:57.218Z"
   },
   {
    "duration": 11,
    "start_time": "2022-01-13T21:42:57.933Z"
   },
   {
    "duration": 80,
    "start_time": "2022-01-13T21:42:57.946Z"
   },
   {
    "duration": 2672,
    "start_time": "2022-01-13T21:42:58.028Z"
   },
   {
    "duration": 977,
    "start_time": "2022-01-13T21:43:12.623Z"
   },
   {
    "duration": 418,
    "start_time": "2022-01-13T21:43:13.603Z"
   },
   {
    "duration": 17975,
    "start_time": "2022-01-13T21:42:56.051Z"
   },
   {
    "duration": 17970,
    "start_time": "2022-01-13T21:42:56.057Z"
   },
   {
    "duration": 17970,
    "start_time": "2022-01-13T21:42:56.059Z"
   },
   {
    "duration": 17969,
    "start_time": "2022-01-13T21:42:56.061Z"
   },
   {
    "duration": 17969,
    "start_time": "2022-01-13T21:42:56.063Z"
   },
   {
    "duration": 17969,
    "start_time": "2022-01-13T21:42:56.064Z"
   },
   {
    "duration": 17965,
    "start_time": "2022-01-13T21:42:56.070Z"
   },
   {
    "duration": 17965,
    "start_time": "2022-01-13T21:42:56.071Z"
   },
   {
    "duration": 17963,
    "start_time": "2022-01-13T21:42:56.074Z"
   },
   {
    "duration": 17964,
    "start_time": "2022-01-13T21:42:56.075Z"
   },
   {
    "duration": 17963,
    "start_time": "2022-01-13T21:42:56.077Z"
   },
   {
    "duration": 17963,
    "start_time": "2022-01-13T21:42:56.079Z"
   },
   {
    "duration": 17959,
    "start_time": "2022-01-13T21:42:56.084Z"
   },
   {
    "duration": 17959,
    "start_time": "2022-01-13T21:42:56.085Z"
   },
   {
    "duration": 17958,
    "start_time": "2022-01-13T21:42:56.088Z"
   },
   {
    "duration": 17957,
    "start_time": "2022-01-13T21:42:56.090Z"
   },
   {
    "duration": 17958,
    "start_time": "2022-01-13T21:42:56.091Z"
   },
   {
    "duration": 17957,
    "start_time": "2022-01-13T21:42:56.093Z"
   },
   {
    "duration": 17956,
    "start_time": "2022-01-13T21:42:56.095Z"
   },
   {
    "duration": 17953,
    "start_time": "2022-01-13T21:42:56.100Z"
   },
   {
    "duration": 17918,
    "start_time": "2022-01-13T21:42:56.136Z"
   },
   {
    "duration": 17914,
    "start_time": "2022-01-13T21:42:56.142Z"
   },
   {
    "duration": 17911,
    "start_time": "2022-01-13T21:42:56.146Z"
   },
   {
    "duration": 17910,
    "start_time": "2022-01-13T21:42:56.148Z"
   },
   {
    "duration": 17909,
    "start_time": "2022-01-13T21:42:56.150Z"
   },
   {
    "duration": 17905,
    "start_time": "2022-01-13T21:42:56.155Z"
   },
   {
    "duration": 50,
    "start_time": "2022-01-13T21:43:37.878Z"
   },
   {
    "duration": 943,
    "start_time": "2022-01-13T21:44:39.671Z"
   },
   {
    "duration": 38,
    "start_time": "2022-01-13T21:44:40.618Z"
   },
   {
    "duration": 26,
    "start_time": "2022-01-13T21:44:40.659Z"
   },
   {
    "duration": 611,
    "start_time": "2022-01-13T21:44:40.687Z"
   },
   {
    "duration": 6,
    "start_time": "2022-01-13T21:44:41.300Z"
   },
   {
    "duration": 14,
    "start_time": "2022-01-13T21:44:41.317Z"
   },
   {
    "duration": 25,
    "start_time": "2022-01-13T21:44:41.334Z"
   },
   {
    "duration": 55,
    "start_time": "2022-01-13T21:44:41.362Z"
   },
   {
    "duration": 90,
    "start_time": "2022-01-13T21:44:47.206Z"
   },
   {
    "duration": 929,
    "start_time": "2022-01-13T21:46:54.557Z"
   },
   {
    "duration": 17,
    "start_time": "2022-01-13T21:46:55.489Z"
   },
   {
    "duration": 54,
    "start_time": "2022-01-13T21:47:01.141Z"
   },
   {
    "duration": 53,
    "start_time": "2022-01-13T21:47:38.415Z"
   },
   {
    "duration": 157,
    "start_time": "2022-01-13T21:49:57.335Z"
   },
   {
    "duration": 1353,
    "start_time": "2022-01-13T21:50:25.804Z"
   },
   {
    "duration": 28,
    "start_time": "2022-01-13T21:50:27.161Z"
   },
   {
    "duration": 89,
    "start_time": "2022-01-13T21:50:27.193Z"
   },
   {
    "duration": 55,
    "start_time": "2022-01-13T21:50:27.285Z"
   },
   {
    "duration": 762,
    "start_time": "2022-01-13T21:50:27.344Z"
   },
   {
    "duration": 10,
    "start_time": "2022-01-13T21:50:28.109Z"
   },
   {
    "duration": 12,
    "start_time": "2022-01-13T21:50:28.122Z"
   },
   {
    "duration": 22,
    "start_time": "2022-01-13T21:50:28.137Z"
   },
   {
    "duration": 52,
    "start_time": "2022-01-13T21:50:28.165Z"
   },
   {
    "duration": 372,
    "start_time": "2022-01-13T21:50:28.221Z"
   },
   {
    "duration": 22,
    "start_time": "2022-01-13T21:50:28.595Z"
   },
   {
    "duration": 40,
    "start_time": "2022-01-13T21:50:28.619Z"
   },
   {
    "duration": 864,
    "start_time": "2022-01-13T21:50:28.661Z"
   },
   {
    "duration": 37,
    "start_time": "2022-01-13T21:50:29.528Z"
   },
   {
    "duration": 683,
    "start_time": "2022-01-13T21:50:29.567Z"
   },
   {
    "duration": 608,
    "start_time": "2022-01-13T21:50:30.253Z"
   },
   {
    "duration": 922,
    "start_time": "2022-01-13T21:50:30.864Z"
   },
   {
    "duration": 632,
    "start_time": "2022-01-13T21:50:31.788Z"
   },
   {
    "duration": 688,
    "start_time": "2022-01-13T21:50:32.422Z"
   },
   {
    "duration": 651,
    "start_time": "2022-01-13T21:50:33.113Z"
   },
   {
    "duration": 589,
    "start_time": "2022-01-13T21:50:33.766Z"
   },
   {
    "duration": 1935,
    "start_time": "2022-01-13T21:50:34.358Z"
   },
   {
    "duration": 740,
    "start_time": "2022-01-13T21:50:36.295Z"
   },
   {
    "duration": 1257,
    "start_time": "2022-01-13T21:50:37.039Z"
   },
   {
    "duration": 729,
    "start_time": "2022-01-13T21:50:38.299Z"
   },
   {
    "duration": 743,
    "start_time": "2022-01-13T21:50:39.030Z"
   },
   {
    "duration": 8,
    "start_time": "2022-01-13T21:50:39.777Z"
   },
   {
    "duration": 36,
    "start_time": "2022-01-13T21:50:39.788Z"
   },
   {
    "duration": 32589,
    "start_time": "2022-01-13T21:51:14.464Z"
   },
   {
    "duration": 24,
    "start_time": "2022-01-13T21:56:59.015Z"
   },
   {
    "duration": 19,
    "start_time": "2022-01-13T21:57:24.537Z"
   },
   {
    "duration": 2176,
    "start_time": "2022-01-13T21:59:10.559Z"
   },
   {
    "duration": 353,
    "start_time": "2022-01-13T22:02:04.494Z"
   },
   {
    "duration": 125,
    "start_time": "2022-01-13T22:04:22.498Z"
   },
   {
    "duration": 416,
    "start_time": "2022-01-13T22:06:22.653Z"
   },
   {
    "duration": 247,
    "start_time": "2022-01-13T22:07:02.329Z"
   },
   {
    "duration": 247,
    "start_time": "2022-01-13T22:08:25.601Z"
   },
   {
    "duration": 249,
    "start_time": "2022-01-13T22:08:34.836Z"
   },
   {
    "duration": 247,
    "start_time": "2022-01-13T22:08:48.679Z"
   },
   {
    "duration": 238,
    "start_time": "2022-01-13T22:08:54.855Z"
   },
   {
    "duration": 115,
    "start_time": "2022-01-13T22:10:06.665Z"
   },
   {
    "duration": 255,
    "start_time": "2022-01-13T22:12:14.108Z"
   },
   {
    "duration": 117,
    "start_time": "2022-01-13T22:12:21.616Z"
   },
   {
    "duration": 232,
    "start_time": "2022-01-13T22:13:40.558Z"
   },
   {
    "duration": 238,
    "start_time": "2022-01-13T22:13:46.155Z"
   },
   {
    "duration": 767,
    "start_time": "2022-01-13T22:19:44.957Z"
   },
   {
    "duration": 275,
    "start_time": "2022-01-13T22:21:49.706Z"
   },
   {
    "duration": 252,
    "start_time": "2022-01-13T22:22:10.383Z"
   },
   {
    "duration": 288,
    "start_time": "2022-01-13T22:24:32.859Z"
   },
   {
    "duration": 2236,
    "start_time": "2022-01-13T22:24:40.228Z"
   },
   {
    "duration": 255,
    "start_time": "2022-01-13T22:24:46.655Z"
   },
   {
    "duration": 249,
    "start_time": "2022-01-13T22:25:02.863Z"
   },
   {
    "duration": 11,
    "start_time": "2022-01-13T22:25:15.720Z"
   },
   {
    "duration": 10,
    "start_time": "2022-01-13T22:25:27.604Z"
   },
   {
    "duration": 10,
    "start_time": "2022-01-13T22:25:31.861Z"
   },
   {
    "duration": 10,
    "start_time": "2022-01-13T22:25:35.185Z"
   },
   {
    "duration": 11,
    "start_time": "2022-01-13T22:25:39.191Z"
   },
   {
    "duration": 11,
    "start_time": "2022-01-13T22:25:42.955Z"
   },
   {
    "duration": 336,
    "start_time": "2022-01-13T22:26:22.206Z"
   },
   {
    "duration": 344,
    "start_time": "2022-01-13T22:26:34.915Z"
   },
   {
    "duration": 24,
    "start_time": "2022-01-13T22:26:55.655Z"
   },
   {
    "duration": 235,
    "start_time": "2022-01-13T22:28:11.542Z"
   },
   {
    "duration": 267,
    "start_time": "2022-01-13T22:28:21.863Z"
   },
   {
    "duration": 27,
    "start_time": "2022-01-13T22:28:27.216Z"
   },
   {
    "duration": 418,
    "start_time": "2022-01-14T15:30:31.760Z"
   },
   {
    "duration": 1022,
    "start_time": "2022-01-14T15:30:37.241Z"
   },
   {
    "duration": 38,
    "start_time": "2022-01-14T15:30:38.266Z"
   },
   {
    "duration": 31,
    "start_time": "2022-01-14T15:30:38.307Z"
   },
   {
    "duration": 612,
    "start_time": "2022-01-14T15:30:38.359Z"
   },
   {
    "duration": 6,
    "start_time": "2022-01-14T15:30:38.973Z"
   },
   {
    "duration": 14,
    "start_time": "2022-01-14T15:30:38.981Z"
   },
   {
    "duration": 65,
    "start_time": "2022-01-14T15:30:38.997Z"
   },
   {
    "duration": 13,
    "start_time": "2022-01-14T15:30:39.065Z"
   },
   {
    "duration": 368,
    "start_time": "2022-01-14T15:30:39.083Z"
   },
   {
    "duration": 10,
    "start_time": "2022-01-14T15:30:39.454Z"
   },
   {
    "duration": 39,
    "start_time": "2022-01-14T15:30:39.466Z"
   },
   {
    "duration": 830,
    "start_time": "2022-01-14T15:30:39.508Z"
   },
   {
    "duration": 42,
    "start_time": "2022-01-14T15:30:40.340Z"
   },
   {
    "duration": 644,
    "start_time": "2022-01-14T15:30:40.384Z"
   },
   {
    "duration": 624,
    "start_time": "2022-01-14T15:30:41.030Z"
   },
   {
    "duration": 671,
    "start_time": "2022-01-14T15:30:41.656Z"
   },
   {
    "duration": 630,
    "start_time": "2022-01-14T15:30:42.329Z"
   },
   {
    "duration": 662,
    "start_time": "2022-01-14T15:30:42.962Z"
   },
   {
    "duration": 638,
    "start_time": "2022-01-14T15:30:43.626Z"
   },
   {
    "duration": 600,
    "start_time": "2022-01-14T15:30:44.266Z"
   },
   {
    "duration": 2094,
    "start_time": "2022-01-14T15:30:44.868Z"
   },
   {
    "duration": 816,
    "start_time": "2022-01-14T15:30:46.965Z"
   },
   {
    "duration": 1232,
    "start_time": "2022-01-14T15:30:47.783Z"
   },
   {
    "duration": 695,
    "start_time": "2022-01-14T15:30:49.017Z"
   },
   {
    "duration": 689,
    "start_time": "2022-01-14T15:30:49.715Z"
   },
   {
    "duration": 11,
    "start_time": "2022-01-14T15:30:50.407Z"
   },
   {
    "duration": 35906,
    "start_time": "2022-01-14T15:30:50.424Z"
   },
   {
    "duration": 2797,
    "start_time": "2022-01-14T15:31:26.333Z"
   },
   {
    "duration": 29,
    "start_time": "2022-01-14T15:31:29.133Z"
   },
   {
    "duration": 22,
    "start_time": "2022-01-14T15:32:47.623Z"
   },
   {
    "duration": 815,
    "start_time": "2022-01-15T11:07:09.651Z"
   },
   {
    "duration": 27,
    "start_time": "2022-01-15T11:07:10.468Z"
   },
   {
    "duration": 19,
    "start_time": "2022-01-15T11:07:10.497Z"
   },
   {
    "duration": 381,
    "start_time": "2022-01-15T11:07:10.518Z"
   },
   {
    "duration": 6,
    "start_time": "2022-01-15T11:07:10.901Z"
   },
   {
    "duration": 13,
    "start_time": "2022-01-15T11:07:10.908Z"
   },
   {
    "duration": 34,
    "start_time": "2022-01-15T11:07:10.923Z"
   },
   {
    "duration": 8,
    "start_time": "2022-01-15T11:07:10.959Z"
   },
   {
    "duration": 265,
    "start_time": "2022-01-15T11:07:10.969Z"
   },
   {
    "duration": 7,
    "start_time": "2022-01-15T11:07:11.236Z"
   },
   {
    "duration": 27,
    "start_time": "2022-01-15T11:07:11.245Z"
   },
   {
    "duration": 462,
    "start_time": "2022-01-15T11:07:11.274Z"
   },
   {
    "duration": 22,
    "start_time": "2022-01-15T11:07:11.742Z"
   },
   {
    "duration": 377,
    "start_time": "2022-01-15T11:07:11.766Z"
   },
   {
    "duration": 355,
    "start_time": "2022-01-15T11:07:12.146Z"
   },
   {
    "duration": 424,
    "start_time": "2022-01-15T11:07:12.502Z"
   },
   {
    "duration": 366,
    "start_time": "2022-01-15T11:07:12.927Z"
   },
   {
    "duration": 423,
    "start_time": "2022-01-15T11:07:13.295Z"
   },
   {
    "duration": 379,
    "start_time": "2022-01-15T11:07:13.720Z"
   },
   {
    "duration": 344,
    "start_time": "2022-01-15T11:07:14.101Z"
   },
   {
    "duration": 1333,
    "start_time": "2022-01-15T11:07:14.446Z"
   },
   {
    "duration": 541,
    "start_time": "2022-01-15T11:07:15.782Z"
   },
   {
    "duration": 903,
    "start_time": "2022-01-15T11:07:16.327Z"
   },
   {
    "duration": 499,
    "start_time": "2022-01-15T11:07:17.233Z"
   },
   {
    "duration": 470,
    "start_time": "2022-01-15T11:07:17.734Z"
   },
   {
    "duration": 6,
    "start_time": "2022-01-15T11:07:18.206Z"
   },
   {
    "duration": 25540,
    "start_time": "2022-01-15T11:07:18.213Z"
   },
   {
    "duration": 1707,
    "start_time": "2022-01-15T11:07:43.755Z"
   },
   {
    "duration": 15,
    "start_time": "2022-01-15T11:07:45.463Z"
   },
   {
    "duration": 16,
    "start_time": "2022-01-15T11:10:59.793Z"
   },
   {
    "duration": 436,
    "start_time": "2022-01-15T11:33:21.365Z"
   },
   {
    "duration": 459,
    "start_time": "2022-01-15T11:33:49.301Z"
   },
   {
    "duration": 344,
    "start_time": "2022-01-15T11:36:34.091Z"
   },
   {
    "duration": 226,
    "start_time": "2022-01-15T11:37:19.482Z"
   },
   {
    "duration": 250,
    "start_time": "2022-01-15T11:37:58.498Z"
   },
   {
    "duration": 84,
    "start_time": "2022-01-15T11:39:00.115Z"
   },
   {
    "duration": 83,
    "start_time": "2022-01-15T11:39:06.168Z"
   },
   {
    "duration": 506,
    "start_time": "2022-01-15T11:39:16.841Z"
   },
   {
    "duration": 257,
    "start_time": "2022-01-15T11:42:22.406Z"
   },
   {
    "duration": 471,
    "start_time": "2022-01-15T11:44:20.974Z"
   },
   {
    "duration": 547,
    "start_time": "2022-01-15T11:46:02.759Z"
   },
   {
    "duration": 447,
    "start_time": "2022-01-15T11:46:19.481Z"
   },
   {
    "duration": 360,
    "start_time": "2022-01-15T11:49:28.877Z"
   },
   {
    "duration": 15,
    "start_time": "2022-01-15T11:49:35.957Z"
   },
   {
    "duration": 15,
    "start_time": "2022-01-15T11:50:46.356Z"
   },
   {
    "duration": 16,
    "start_time": "2022-01-15T11:54:22.602Z"
   },
   {
    "duration": 381,
    "start_time": "2022-01-15T11:55:25.973Z"
   },
   {
    "duration": 40,
    "start_time": "2022-01-15T11:55:51.572Z"
   },
   {
    "duration": 475,
    "start_time": "2022-01-15T11:56:31.284Z"
   },
   {
    "duration": 15,
    "start_time": "2022-01-15T11:56:39.030Z"
   },
   {
    "duration": 39,
    "start_time": "2022-01-15T12:08:01.940Z"
   },
   {
    "duration": 94,
    "start_time": "2022-01-15T12:12:42.645Z"
   },
   {
    "duration": 411,
    "start_time": "2022-01-15T12:12:50.894Z"
   },
   {
    "duration": 317,
    "start_time": "2022-01-15T12:13:00.589Z"
   },
   {
    "duration": 396,
    "start_time": "2022-01-15T12:16:03.379Z"
   },
   {
    "duration": 34,
    "start_time": "2022-01-15T12:24:01.213Z"
   },
   {
    "duration": 9,
    "start_time": "2022-01-15T12:25:58.251Z"
   },
   {
    "duration": 8,
    "start_time": "2022-01-15T12:27:17.620Z"
   },
   {
    "duration": 7,
    "start_time": "2022-01-15T12:27:21.563Z"
   },
   {
    "duration": 5,
    "start_time": "2022-01-15T12:27:30.901Z"
   },
   {
    "duration": 8,
    "start_time": "2022-01-15T12:27:42.697Z"
   },
   {
    "duration": 11,
    "start_time": "2022-01-15T12:28:03.758Z"
   },
   {
    "duration": 9,
    "start_time": "2022-01-15T12:28:28.678Z"
   },
   {
    "duration": 35,
    "start_time": "2022-01-15T12:28:38.166Z"
   },
   {
    "duration": 245,
    "start_time": "2022-01-15T12:29:34.901Z"
   },
   {
    "duration": 10,
    "start_time": "2022-01-15T12:29:46.433Z"
   },
   {
    "duration": 26,
    "start_time": "2022-01-15T12:33:48.131Z"
   },
   {
    "duration": 21,
    "start_time": "2022-01-15T12:34:13.634Z"
   },
   {
    "duration": 82,
    "start_time": "2022-01-15T12:34:28.487Z"
   },
   {
    "duration": 241,
    "start_time": "2022-01-15T12:34:39.146Z"
   },
   {
    "duration": 21,
    "start_time": "2022-01-15T12:35:15.871Z"
   },
   {
    "duration": 23,
    "start_time": "2022-01-15T12:35:34.701Z"
   },
   {
    "duration": 244,
    "start_time": "2022-01-15T12:35:48.563Z"
   },
   {
    "duration": 230,
    "start_time": "2022-01-15T12:35:55.688Z"
   },
   {
    "duration": 390,
    "start_time": "2022-01-15T12:37:02.182Z"
   },
   {
    "duration": 14,
    "start_time": "2022-01-15T12:37:10.760Z"
   },
   {
    "duration": 248,
    "start_time": "2022-01-15T12:37:46.357Z"
   },
   {
    "duration": 4,
    "start_time": "2022-01-15T12:44:53.256Z"
   },
   {
    "duration": 35,
    "start_time": "2022-01-15T12:45:04.635Z"
   },
   {
    "duration": 73,
    "start_time": "2022-01-15T12:46:57.634Z"
   },
   {
    "duration": 68,
    "start_time": "2022-01-15T12:47:31.869Z"
   },
   {
    "duration": 78,
    "start_time": "2022-01-15T12:48:30.996Z"
   },
   {
    "duration": 37,
    "start_time": "2022-01-15T12:48:44.268Z"
   },
   {
    "duration": 240,
    "start_time": "2022-01-15T12:49:51.713Z"
   },
   {
    "duration": 249,
    "start_time": "2022-01-15T12:50:13.998Z"
   },
   {
    "duration": 350,
    "start_time": "2022-01-15T12:53:25.364Z"
   },
   {
    "duration": 731,
    "start_time": "2022-01-15T12:53:33.904Z"
   },
   {
    "duration": 401,
    "start_time": "2022-01-15T12:53:38.342Z"
   },
   {
    "duration": 280,
    "start_time": "2022-01-15T12:58:47.866Z"
   },
   {
    "duration": 358,
    "start_time": "2022-01-15T13:08:43.272Z"
   },
   {
    "duration": 244,
    "start_time": "2022-01-15T13:23:21.543Z"
   },
   {
    "duration": 14,
    "start_time": "2022-01-15T13:27:54.001Z"
   },
   {
    "duration": 456,
    "start_time": "2022-01-15T13:34:51.565Z"
   },
   {
    "duration": 627,
    "start_time": "2022-01-15T13:35:34.308Z"
   },
   {
    "duration": 332,
    "start_time": "2022-01-15T13:35:53.245Z"
   },
   {
    "duration": 404,
    "start_time": "2022-01-15T13:36:42.875Z"
   },
   {
    "duration": 360,
    "start_time": "2022-01-15T13:36:59.892Z"
   },
   {
    "duration": 348,
    "start_time": "2022-01-15T13:37:11.354Z"
   },
   {
    "duration": 314,
    "start_time": "2022-01-15T13:37:39.800Z"
   },
   {
    "duration": 334,
    "start_time": "2022-01-15T13:38:15.482Z"
   },
   {
    "duration": 356,
    "start_time": "2022-01-15T13:39:02.046Z"
   },
   {
    "duration": 440,
    "start_time": "2022-01-15T13:39:24.460Z"
   },
   {
    "duration": 353,
    "start_time": "2022-01-15T13:41:05.462Z"
   },
   {
    "duration": 351,
    "start_time": "2022-01-15T13:41:18.207Z"
   },
   {
    "duration": 98,
    "start_time": "2022-01-15T13:50:51.804Z"
   },
   {
    "duration": 732,
    "start_time": "2022-01-15T13:51:03.568Z"
   },
   {
    "duration": 22,
    "start_time": "2022-01-15T13:51:04.302Z"
   },
   {
    "duration": 30,
    "start_time": "2022-01-15T13:51:04.326Z"
   },
   {
    "duration": 345,
    "start_time": "2022-01-15T13:51:04.358Z"
   },
   {
    "duration": 4,
    "start_time": "2022-01-15T13:51:04.705Z"
   },
   {
    "duration": 16,
    "start_time": "2022-01-15T13:51:04.710Z"
   },
   {
    "duration": 23,
    "start_time": "2022-01-15T13:51:04.727Z"
   },
   {
    "duration": 7,
    "start_time": "2022-01-15T13:51:04.752Z"
   },
   {
    "duration": 1119,
    "start_time": "2022-01-15T13:51:04.761Z"
   },
   {
    "duration": -52,
    "start_time": "2022-01-15T13:51:05.934Z"
   },
   {
    "duration": -58,
    "start_time": "2022-01-15T13:51:05.941Z"
   },
   {
    "duration": -64,
    "start_time": "2022-01-15T13:51:05.948Z"
   },
   {
    "duration": -69,
    "start_time": "2022-01-15T13:51:05.954Z"
   },
   {
    "duration": -74,
    "start_time": "2022-01-15T13:51:05.960Z"
   },
   {
    "duration": -80,
    "start_time": "2022-01-15T13:51:05.967Z"
   },
   {
    "duration": -84,
    "start_time": "2022-01-15T13:51:05.972Z"
   },
   {
    "duration": -95,
    "start_time": "2022-01-15T13:51:05.984Z"
   },
   {
    "duration": -101,
    "start_time": "2022-01-15T13:51:05.991Z"
   },
   {
    "duration": -105,
    "start_time": "2022-01-15T13:51:05.996Z"
   },
   {
    "duration": -111,
    "start_time": "2022-01-15T13:51:06.003Z"
   },
   {
    "duration": -117,
    "start_time": "2022-01-15T13:51:06.010Z"
   },
   {
    "duration": -123,
    "start_time": "2022-01-15T13:51:06.016Z"
   },
   {
    "duration": -130,
    "start_time": "2022-01-15T13:51:06.024Z"
   },
   {
    "duration": -136,
    "start_time": "2022-01-15T13:51:06.031Z"
   },
   {
    "duration": -142,
    "start_time": "2022-01-15T13:51:06.038Z"
   },
   {
    "duration": -148,
    "start_time": "2022-01-15T13:51:06.045Z"
   },
   {
    "duration": -154,
    "start_time": "2022-01-15T13:51:06.052Z"
   },
   {
    "duration": -158,
    "start_time": "2022-01-15T13:51:06.056Z"
   },
   {
    "duration": -164,
    "start_time": "2022-01-15T13:51:06.063Z"
   },
   {
    "duration": -169,
    "start_time": "2022-01-15T13:51:06.069Z"
   },
   {
    "duration": -175,
    "start_time": "2022-01-15T13:51:06.076Z"
   },
   {
    "duration": -184,
    "start_time": "2022-01-15T13:51:06.086Z"
   },
   {
    "duration": -189,
    "start_time": "2022-01-15T13:51:06.092Z"
   },
   {
    "duration": 929,
    "start_time": "2022-01-15T13:52:08.438Z"
   },
   {
    "duration": 11,
    "start_time": "2022-01-15T13:54:05.024Z"
   },
   {
    "duration": 103,
    "start_time": "2022-01-15T13:54:12.643Z"
   },
   {
    "duration": 22,
    "start_time": "2022-01-15T13:54:12.748Z"
   },
   {
    "duration": 14,
    "start_time": "2022-01-15T13:54:12.771Z"
   },
   {
    "duration": 398,
    "start_time": "2022-01-15T13:54:12.787Z"
   },
   {
    "duration": 3,
    "start_time": "2022-01-15T13:54:13.187Z"
   },
   {
    "duration": 9,
    "start_time": "2022-01-15T13:54:13.192Z"
   },
   {
    "duration": 14,
    "start_time": "2022-01-15T13:54:13.202Z"
   },
   {
    "duration": 23,
    "start_time": "2022-01-15T13:54:13.218Z"
   },
   {
    "duration": 8,
    "start_time": "2022-01-15T13:54:13.243Z"
   },
   {
    "duration": 98,
    "start_time": "2022-01-15T13:54:13.254Z"
   },
   {
    "duration": 5,
    "start_time": "2022-01-15T13:54:13.354Z"
   },
   {
    "duration": 24,
    "start_time": "2022-01-15T13:54:13.361Z"
   },
   {
    "duration": 384,
    "start_time": "2022-01-15T13:54:13.387Z"
   },
   {
    "duration": 20,
    "start_time": "2022-01-15T13:54:13.773Z"
   },
   {
    "duration": 359,
    "start_time": "2022-01-15T13:54:13.796Z"
   },
   {
    "duration": 358,
    "start_time": "2022-01-15T13:54:14.157Z"
   },
   {
    "duration": 406,
    "start_time": "2022-01-15T13:54:14.517Z"
   },
   {
    "duration": 402,
    "start_time": "2022-01-15T13:54:14.925Z"
   },
   {
    "duration": 397,
    "start_time": "2022-01-15T13:54:15.329Z"
   },
   {
    "duration": 366,
    "start_time": "2022-01-15T13:54:15.728Z"
   },
   {
    "duration": 330,
    "start_time": "2022-01-15T13:54:16.096Z"
   },
   {
    "duration": 1233,
    "start_time": "2022-01-15T13:54:16.428Z"
   },
   {
    "duration": 485,
    "start_time": "2022-01-15T13:54:17.663Z"
   },
   {
    "duration": 725,
    "start_time": "2022-01-15T13:54:18.150Z"
   },
   {
    "duration": 441,
    "start_time": "2022-01-15T13:54:18.877Z"
   },
   {
    "duration": 462,
    "start_time": "2022-01-15T13:54:19.320Z"
   },
   {
    "duration": 4,
    "start_time": "2022-01-15T13:54:19.785Z"
   },
   {
    "duration": 16632,
    "start_time": "2022-01-15T13:54:19.791Z"
   },
   {
    "duration": 983,
    "start_time": "2022-01-15T13:54:36.425Z"
   },
   {
    "duration": 6,
    "start_time": "2022-01-15T13:54:37.409Z"
   },
   {
    "duration": 366,
    "start_time": "2022-01-15T13:54:37.416Z"
   },
   {
    "duration": 15,
    "start_time": "2022-01-15T13:54:37.784Z"
   },
   {
    "duration": 378,
    "start_time": "2022-01-15T13:54:37.800Z"
   },
   {
    "duration": 370,
    "start_time": "2022-01-15T13:54:51.256Z"
   },
   {
    "duration": 345,
    "start_time": "2022-01-15T13:55:37.805Z"
   },
   {
    "duration": 332,
    "start_time": "2022-01-15T13:55:48.593Z"
   },
   {
    "duration": 327,
    "start_time": "2022-01-15T13:55:59.267Z"
   },
   {
    "duration": 862,
    "start_time": "2022-01-15T13:56:51.201Z"
   },
   {
    "duration": 25,
    "start_time": "2022-01-15T13:56:52.065Z"
   },
   {
    "duration": 18,
    "start_time": "2022-01-15T13:56:52.092Z"
   },
   {
    "duration": 399,
    "start_time": "2022-01-15T13:56:52.112Z"
   },
   {
    "duration": 5,
    "start_time": "2022-01-15T13:56:52.513Z"
   },
   {
    "duration": 29,
    "start_time": "2022-01-15T13:56:52.519Z"
   },
   {
    "duration": 49,
    "start_time": "2022-01-15T13:56:52.550Z"
   },
   {
    "duration": 19,
    "start_time": "2022-01-15T13:56:52.602Z"
   },
   {
    "duration": 19,
    "start_time": "2022-01-15T13:56:52.623Z"
   },
   {
    "duration": 151,
    "start_time": "2022-01-15T13:56:52.643Z"
   },
   {
    "duration": 5,
    "start_time": "2022-01-15T13:56:52.796Z"
   },
   {
    "duration": 43,
    "start_time": "2022-01-15T13:56:52.802Z"
   },
   {
    "duration": 448,
    "start_time": "2022-01-15T13:56:52.846Z"
   },
   {
    "duration": 19,
    "start_time": "2022-01-15T13:56:53.296Z"
   },
   {
    "duration": 387,
    "start_time": "2022-01-15T13:56:53.317Z"
   },
   {
    "duration": 381,
    "start_time": "2022-01-15T13:56:53.706Z"
   },
   {
    "duration": 361,
    "start_time": "2022-01-15T13:56:54.088Z"
   },
   {
    "duration": 375,
    "start_time": "2022-01-15T13:56:54.450Z"
   },
   {
    "duration": 484,
    "start_time": "2022-01-15T13:56:54.827Z"
   },
   {
    "duration": 403,
    "start_time": "2022-01-15T13:56:55.313Z"
   },
   {
    "duration": 412,
    "start_time": "2022-01-15T13:56:55.718Z"
   },
   {
    "duration": 1338,
    "start_time": "2022-01-15T13:56:56.132Z"
   },
   {
    "duration": 440,
    "start_time": "2022-01-15T13:56:57.474Z"
   },
   {
    "duration": 819,
    "start_time": "2022-01-15T13:56:57.916Z"
   },
   {
    "duration": 482,
    "start_time": "2022-01-15T13:56:58.737Z"
   },
   {
    "duration": 587,
    "start_time": "2022-01-15T13:56:59.221Z"
   },
   {
    "duration": 5,
    "start_time": "2022-01-15T13:56:59.809Z"
   },
   {
    "duration": 18170,
    "start_time": "2022-01-15T13:56:59.815Z"
   },
   {
    "duration": 1091,
    "start_time": "2022-01-15T13:57:17.988Z"
   },
   {
    "duration": 7,
    "start_time": "2022-01-15T13:57:19.081Z"
   },
   {
    "duration": 413,
    "start_time": "2022-01-15T13:57:19.090Z"
   },
   {
    "duration": 18,
    "start_time": "2022-01-15T13:57:19.505Z"
   },
   {
    "duration": 476,
    "start_time": "2022-01-15T13:57:19.524Z"
   },
   {
    "duration": 9,
    "start_time": "2022-01-15T13:58:44.951Z"
   },
   {
    "duration": 9,
    "start_time": "2022-01-15T13:58:49.163Z"
   },
   {
    "duration": 108,
    "start_time": "2022-01-15T13:58:56.495Z"
   },
   {
    "duration": 46,
    "start_time": "2022-01-15T13:58:56.605Z"
   },
   {
    "duration": 24,
    "start_time": "2022-01-15T13:58:56.654Z"
   },
   {
    "duration": 455,
    "start_time": "2022-01-15T13:58:56.680Z"
   },
   {
    "duration": 7,
    "start_time": "2022-01-15T13:58:57.141Z"
   },
   {
    "duration": 26,
    "start_time": "2022-01-15T13:58:57.150Z"
   },
   {
    "duration": 34,
    "start_time": "2022-01-15T13:58:57.178Z"
   },
   {
    "duration": 8,
    "start_time": "2022-01-15T13:58:57.216Z"
   },
   {
    "duration": 24,
    "start_time": "2022-01-15T13:58:57.226Z"
   },
   {
    "duration": 111,
    "start_time": "2022-01-15T13:58:57.252Z"
   },
   {
    "duration": 6,
    "start_time": "2022-01-15T13:58:57.366Z"
   },
   {
    "duration": 38,
    "start_time": "2022-01-15T13:58:57.373Z"
   },
   {
    "duration": 388,
    "start_time": "2022-01-15T13:58:57.413Z"
   },
   {
    "duration": 22,
    "start_time": "2022-01-15T13:58:57.803Z"
   },
   {
    "duration": 388,
    "start_time": "2022-01-15T13:58:57.827Z"
   },
   {
    "duration": 473,
    "start_time": "2022-01-15T13:58:58.217Z"
   },
   {
    "duration": 435,
    "start_time": "2022-01-15T13:58:58.692Z"
   },
   {
    "duration": 415,
    "start_time": "2022-01-15T13:58:59.129Z"
   },
   {
    "duration": 605,
    "start_time": "2022-01-15T13:58:59.547Z"
   },
   {
    "duration": 404,
    "start_time": "2022-01-15T13:59:00.154Z"
   },
   {
    "duration": 450,
    "start_time": "2022-01-15T13:59:00.561Z"
   },
   {
    "duration": 1698,
    "start_time": "2022-01-15T13:59:01.013Z"
   },
   {
    "duration": 498,
    "start_time": "2022-01-15T13:59:02.714Z"
   },
   {
    "duration": 921,
    "start_time": "2022-01-15T13:59:03.214Z"
   },
   {
    "duration": 550,
    "start_time": "2022-01-15T13:59:04.138Z"
   },
   {
    "duration": 544,
    "start_time": "2022-01-15T13:59:04.689Z"
   },
   {
    "duration": 7,
    "start_time": "2022-01-15T13:59:05.236Z"
   },
   {
    "duration": 19049,
    "start_time": "2022-01-15T13:59:05.245Z"
   },
   {
    "duration": 1101,
    "start_time": "2022-01-15T13:59:24.296Z"
   },
   {
    "duration": 6,
    "start_time": "2022-01-15T13:59:25.399Z"
   },
   {
    "duration": 440,
    "start_time": "2022-01-15T13:59:25.406Z"
   },
   {
    "duration": 17,
    "start_time": "2022-01-15T13:59:25.848Z"
   },
   {
    "duration": 404,
    "start_time": "2022-01-15T13:59:25.867Z"
   },
   {
    "duration": 782,
    "start_time": "2022-01-15T13:59:41.817Z"
   },
   {
    "duration": 25,
    "start_time": "2022-01-15T13:59:42.601Z"
   },
   {
    "duration": 25,
    "start_time": "2022-01-15T13:59:42.628Z"
   },
   {
    "duration": 366,
    "start_time": "2022-01-15T13:59:42.655Z"
   },
   {
    "duration": 4,
    "start_time": "2022-01-15T13:59:43.023Z"
   },
   {
    "duration": 18,
    "start_time": "2022-01-15T13:59:43.029Z"
   },
   {
    "duration": 15,
    "start_time": "2022-01-15T13:59:43.049Z"
   },
   {
    "duration": 8,
    "start_time": "2022-01-15T13:59:43.067Z"
   },
   {
    "duration": 11,
    "start_time": "2022-01-15T13:59:43.077Z"
   },
   {
    "duration": 166,
    "start_time": "2022-01-15T13:59:43.090Z"
   },
   {
    "duration": 5,
    "start_time": "2022-01-15T13:59:43.258Z"
   },
   {
    "duration": 29,
    "start_time": "2022-01-15T13:59:43.265Z"
   },
   {
    "duration": 453,
    "start_time": "2022-01-15T13:59:43.296Z"
   },
   {
    "duration": 25,
    "start_time": "2022-01-15T13:59:43.751Z"
   },
   {
    "duration": 385,
    "start_time": "2022-01-15T13:59:43.778Z"
   },
   {
    "duration": 378,
    "start_time": "2022-01-15T13:59:44.165Z"
   },
   {
    "duration": 377,
    "start_time": "2022-01-15T13:59:44.545Z"
   },
   {
    "duration": 354,
    "start_time": "2022-01-15T13:59:44.924Z"
   },
   {
    "duration": 494,
    "start_time": "2022-01-15T13:59:45.281Z"
   },
   {
    "duration": 392,
    "start_time": "2022-01-15T13:59:45.777Z"
   },
   {
    "duration": 361,
    "start_time": "2022-01-15T13:59:46.171Z"
   },
   {
    "duration": 1337,
    "start_time": "2022-01-15T13:59:46.534Z"
   },
   {
    "duration": 458,
    "start_time": "2022-01-15T13:59:47.874Z"
   },
   {
    "duration": 846,
    "start_time": "2022-01-15T13:59:48.334Z"
   },
   {
    "duration": 526,
    "start_time": "2022-01-15T13:59:49.182Z"
   },
   {
    "duration": 611,
    "start_time": "2022-01-15T13:59:49.710Z"
   },
   {
    "duration": 4,
    "start_time": "2022-01-15T13:59:50.323Z"
   },
   {
    "duration": 18210,
    "start_time": "2022-01-15T13:59:50.341Z"
   },
   {
    "duration": 1200,
    "start_time": "2022-01-15T14:00:08.553Z"
   },
   {
    "duration": 8,
    "start_time": "2022-01-15T14:00:09.756Z"
   },
   {
    "duration": 437,
    "start_time": "2022-01-15T14:00:09.766Z"
   },
   {
    "duration": 15,
    "start_time": "2022-01-15T14:00:10.205Z"
   },
   {
    "duration": 407,
    "start_time": "2022-01-15T14:00:10.222Z"
   },
   {
    "duration": 2210,
    "start_time": "2022-01-15T14:00:47.940Z"
   },
   {
    "duration": 2342,
    "start_time": "2022-01-15T14:01:04.217Z"
   },
   {
    "duration": 672,
    "start_time": "2022-01-15T14:02:36.517Z"
   },
   {
    "duration": 476,
    "start_time": "2022-01-15T14:03:05.914Z"
   },
   {
    "duration": 502,
    "start_time": "2022-01-15T14:03:35.462Z"
   },
   {
    "duration": 89,
    "start_time": "2022-01-15T14:04:50.361Z"
   },
   {
    "duration": 521,
    "start_time": "2022-01-15T14:04:55.184Z"
   },
   {
    "duration": 421,
    "start_time": "2022-01-15T14:07:17.839Z"
   },
   {
    "duration": 490,
    "start_time": "2022-01-15T14:07:32.393Z"
   },
   {
    "duration": 467,
    "start_time": "2022-01-15T14:08:20.120Z"
   },
   {
    "duration": 676,
    "start_time": "2022-01-15T14:11:16.793Z"
   },
   {
    "duration": 475,
    "start_time": "2022-01-15T14:11:47.586Z"
   },
   {
    "duration": 418,
    "start_time": "2022-01-15T14:12:45.560Z"
   },
   {
    "duration": 415,
    "start_time": "2022-01-15T14:13:05.662Z"
   },
   {
    "duration": 400,
    "start_time": "2022-01-15T14:13:18.772Z"
   },
   {
    "duration": 426,
    "start_time": "2022-01-15T14:14:41.426Z"
   },
   {
    "duration": 866,
    "start_time": "2022-01-15T16:53:29.043Z"
   },
   {
    "duration": 37,
    "start_time": "2022-01-15T16:53:29.911Z"
   },
   {
    "duration": 19,
    "start_time": "2022-01-15T16:53:29.950Z"
   },
   {
    "duration": 537,
    "start_time": "2022-01-15T16:53:29.971Z"
   },
   {
    "duration": 4,
    "start_time": "2022-01-15T16:53:30.509Z"
   },
   {
    "duration": 20,
    "start_time": "2022-01-15T16:53:30.515Z"
   },
   {
    "duration": 53,
    "start_time": "2022-01-15T16:53:30.537Z"
   },
   {
    "duration": 14,
    "start_time": "2022-01-15T16:53:30.593Z"
   },
   {
    "duration": 28,
    "start_time": "2022-01-15T16:53:30.610Z"
   },
   {
    "duration": 212,
    "start_time": "2022-01-15T16:53:30.640Z"
   },
   {
    "duration": 6,
    "start_time": "2022-01-15T16:53:30.854Z"
   },
   {
    "duration": 31,
    "start_time": "2022-01-15T16:53:30.863Z"
   },
   {
    "duration": 378,
    "start_time": "2022-01-15T16:53:30.896Z"
   },
   {
    "duration": 21,
    "start_time": "2022-01-15T16:53:31.275Z"
   },
   {
    "duration": 477,
    "start_time": "2022-01-15T16:53:31.297Z"
   },
   {
    "duration": 423,
    "start_time": "2022-01-15T16:53:31.776Z"
   },
   {
    "duration": 420,
    "start_time": "2022-01-15T16:53:32.202Z"
   },
   {
    "duration": 370,
    "start_time": "2022-01-15T16:53:32.624Z"
   },
   {
    "duration": 481,
    "start_time": "2022-01-15T16:53:32.995Z"
   },
   {
    "duration": 415,
    "start_time": "2022-01-15T16:53:33.478Z"
   },
   {
    "duration": 365,
    "start_time": "2022-01-15T16:53:33.894Z"
   },
   {
    "duration": 1485,
    "start_time": "2022-01-15T16:53:34.261Z"
   },
   {
    "duration": 414,
    "start_time": "2022-01-15T16:53:35.749Z"
   },
   {
    "duration": 742,
    "start_time": "2022-01-15T16:53:36.165Z"
   },
   {
    "duration": 453,
    "start_time": "2022-01-15T16:53:36.909Z"
   },
   {
    "duration": 546,
    "start_time": "2022-01-15T16:53:37.365Z"
   },
   {
    "duration": 6,
    "start_time": "2022-01-15T16:53:37.913Z"
   },
   {
    "duration": 16881,
    "start_time": "2022-01-15T16:53:37.921Z"
   },
   {
    "duration": 993,
    "start_time": "2022-01-15T16:53:54.804Z"
   },
   {
    "duration": 6,
    "start_time": "2022-01-15T16:53:55.799Z"
   },
   {
    "duration": 364,
    "start_time": "2022-01-15T16:53:55.806Z"
   },
   {
    "duration": 15,
    "start_time": "2022-01-15T16:53:56.171Z"
   },
   {
    "duration": 537,
    "start_time": "2022-01-15T16:53:56.188Z"
   },
   {
    "duration": 499,
    "start_time": "2022-01-15T17:05:19.336Z"
   },
   {
    "duration": 490,
    "start_time": "2022-01-15T17:05:51.782Z"
   },
   {
    "duration": 1334,
    "start_time": "2022-01-15T17:37:30.248Z"
   },
   {
    "duration": 1395,
    "start_time": "2022-01-15T17:37:41.583Z"
   },
   {
    "duration": 1159,
    "start_time": "2022-01-15T17:40:14.224Z"
   },
   {
    "duration": 1230,
    "start_time": "2022-01-15T17:40:38.361Z"
   },
   {
    "duration": 501,
    "start_time": "2022-01-15T17:42:18.031Z"
   },
   {
    "duration": 449,
    "start_time": "2022-01-15T17:43:29.955Z"
   },
   {
    "duration": 475,
    "start_time": "2022-01-15T17:44:35.127Z"
   },
   {
    "duration": 1238,
    "start_time": "2022-01-15T17:59:35.670Z"
   },
   {
    "duration": 738,
    "start_time": "2022-01-15T18:19:11.181Z"
   },
   {
    "duration": 764,
    "start_time": "2022-01-15T18:23:42.847Z"
   },
   {
    "duration": 747,
    "start_time": "2022-01-15T18:23:58.474Z"
   },
   {
    "duration": 998,
    "start_time": "2022-01-15T18:24:10.502Z"
   },
   {
    "duration": 695,
    "start_time": "2022-01-15T18:24:18.965Z"
   },
   {
    "duration": 769,
    "start_time": "2022-01-15T18:24:25.681Z"
   },
   {
    "duration": 788,
    "start_time": "2022-01-15T18:24:37.678Z"
   },
   {
    "duration": 463,
    "start_time": "2022-01-15T18:26:05.323Z"
   },
   {
    "duration": 440,
    "start_time": "2022-01-15T18:26:25.422Z"
   },
   {
    "duration": 453,
    "start_time": "2022-01-15T18:44:26.942Z"
   },
   {
    "duration": 531,
    "start_time": "2022-01-15T18:48:43.141Z"
   },
   {
    "duration": 433,
    "start_time": "2022-01-15T18:48:56.649Z"
   },
   {
    "duration": 485,
    "start_time": "2022-01-15T18:49:45.096Z"
   },
   {
    "duration": 487,
    "start_time": "2022-01-15T18:50:26.078Z"
   },
   {
    "duration": 882,
    "start_time": "2022-01-15T19:10:44.664Z"
   },
   {
    "duration": 929,
    "start_time": "2022-01-15T19:13:50.464Z"
   },
   {
    "duration": 877,
    "start_time": "2022-01-15T19:14:08.074Z"
   },
   {
    "duration": 850,
    "start_time": "2022-01-15T19:14:33.798Z"
   },
   {
    "duration": 344,
    "start_time": "2022-01-15T19:17:44.494Z"
   },
   {
    "duration": 356,
    "start_time": "2022-01-15T19:17:52.734Z"
   },
   {
    "duration": 342,
    "start_time": "2022-01-15T19:18:10.228Z"
   },
   {
    "duration": 1922,
    "start_time": "2022-01-15T19:38:13.948Z"
   },
   {
    "duration": 2816,
    "start_time": "2022-01-15T19:38:49.659Z"
   },
   {
    "duration": 3266,
    "start_time": "2022-01-15T19:39:30.082Z"
   },
   {
    "duration": 2924,
    "start_time": "2022-01-15T19:41:14.149Z"
   },
   {
    "duration": 2947,
    "start_time": "2022-01-15T19:41:37.547Z"
   },
   {
    "duration": 2925,
    "start_time": "2022-01-15T19:43:18.528Z"
   },
   {
    "duration": 3579,
    "start_time": "2022-01-15T19:43:59.012Z"
   },
   {
    "duration": 3323,
    "start_time": "2022-01-15T19:45:21.722Z"
   },
   {
    "duration": 3659,
    "start_time": "2022-01-15T19:45:40.142Z"
   },
   {
    "duration": 3053,
    "start_time": "2022-01-15T19:46:15.737Z"
   },
   {
    "duration": 3133,
    "start_time": "2022-01-15T19:47:43.294Z"
   },
   {
    "duration": 259,
    "start_time": "2022-01-15T19:49:03.382Z"
   },
   {
    "duration": 791,
    "start_time": "2022-01-15T19:49:21.603Z"
   },
   {
    "duration": 3271,
    "start_time": "2022-01-15T19:50:02.770Z"
   },
   {
    "duration": 3253,
    "start_time": "2022-01-15T19:51:24.139Z"
   },
   {
    "duration": 3040,
    "start_time": "2022-01-15T19:52:11.218Z"
   },
   {
    "duration": 88,
    "start_time": "2022-01-15T19:59:52.206Z"
   },
   {
    "duration": 22,
    "start_time": "2022-01-15T19:59:52.296Z"
   },
   {
    "duration": 33,
    "start_time": "2022-01-15T19:59:52.320Z"
   },
   {
    "duration": 348,
    "start_time": "2022-01-15T19:59:52.354Z"
   },
   {
    "duration": 4,
    "start_time": "2022-01-15T19:59:52.704Z"
   },
   {
    "duration": 15,
    "start_time": "2022-01-15T19:59:52.709Z"
   },
   {
    "duration": 26,
    "start_time": "2022-01-15T19:59:52.726Z"
   },
   {
    "duration": 7,
    "start_time": "2022-01-15T19:59:52.754Z"
   },
   {
    "duration": 8,
    "start_time": "2022-01-15T19:59:52.763Z"
   },
   {
    "duration": 90,
    "start_time": "2022-01-15T19:59:52.772Z"
   },
   {
    "duration": 4,
    "start_time": "2022-01-15T19:59:52.864Z"
   },
   {
    "duration": 28,
    "start_time": "2022-01-15T19:59:52.870Z"
   },
   {
    "duration": 480,
    "start_time": "2022-01-15T19:59:52.899Z"
   },
   {
    "duration": 21,
    "start_time": "2022-01-15T19:59:53.381Z"
   },
   {
    "duration": 520,
    "start_time": "2022-01-15T19:59:53.404Z"
   },
   {
    "duration": 452,
    "start_time": "2022-01-15T19:59:53.926Z"
   },
   {
    "duration": 344,
    "start_time": "2022-01-15T19:59:54.379Z"
   },
   {
    "duration": 325,
    "start_time": "2022-01-15T19:59:54.725Z"
   },
   {
    "duration": 378,
    "start_time": "2022-01-15T19:59:55.051Z"
   },
   {
    "duration": 360,
    "start_time": "2022-01-15T19:59:55.430Z"
   },
   {
    "duration": 442,
    "start_time": "2022-01-15T19:59:55.792Z"
   },
   {
    "duration": 1214,
    "start_time": "2022-01-15T19:59:56.235Z"
   },
   {
    "duration": 425,
    "start_time": "2022-01-15T19:59:57.452Z"
   },
   {
    "duration": 776,
    "start_time": "2022-01-15T19:59:57.879Z"
   },
   {
    "duration": 437,
    "start_time": "2022-01-15T19:59:58.657Z"
   },
   {
    "duration": 478,
    "start_time": "2022-01-15T19:59:59.096Z"
   },
   {
    "duration": 5,
    "start_time": "2022-01-15T19:59:59.575Z"
   },
   {
    "duration": 17006,
    "start_time": "2022-01-15T19:59:59.581Z"
   },
   {
    "duration": 1196,
    "start_time": "2022-01-15T20:00:16.589Z"
   },
   {
    "duration": 5,
    "start_time": "2022-01-15T20:00:17.787Z"
   },
   {
    "duration": 258,
    "start_time": "2022-01-15T20:00:17.794Z"
   },
   {
    "duration": 15,
    "start_time": "2022-01-15T20:00:18.054Z"
   },
   {
    "duration": 543,
    "start_time": "2022-01-15T20:00:18.070Z"
   },
   {
    "duration": 80,
    "start_time": "2022-01-15T20:00:18.614Z"
   },
   {
    "duration": 3037,
    "start_time": "2022-01-15T20:02:40.644Z"
   },
   {
    "duration": 3284,
    "start_time": "2022-01-15T20:08:36.531Z"
   },
   {
    "duration": 776,
    "start_time": "2022-01-15T20:10:50.011Z"
   },
   {
    "duration": 10,
    "start_time": "2022-01-15T20:12:02.250Z"
   },
   {
    "duration": 11,
    "start_time": "2022-01-15T20:12:25.589Z"
   },
   {
    "duration": 11,
    "start_time": "2022-01-15T20:13:09.550Z"
   },
   {
    "duration": 614,
    "start_time": "2022-01-15T20:13:22.259Z"
   },
   {
    "duration": 2923,
    "start_time": "2022-01-15T20:14:52.200Z"
   },
   {
    "duration": 3058,
    "start_time": "2022-01-15T20:15:54.987Z"
   },
   {
    "duration": 2868,
    "start_time": "2022-01-15T20:16:53.620Z"
   },
   {
    "duration": 529,
    "start_time": "2022-01-15T20:34:21.907Z"
   },
   {
    "duration": 442,
    "start_time": "2022-01-15T20:40:07.999Z"
   },
   {
    "duration": 612,
    "start_time": "2022-01-15T20:55:11.246Z"
   },
   {
    "duration": 453,
    "start_time": "2022-01-15T20:55:35.588Z"
   },
   {
    "duration": 232,
    "start_time": "2022-01-15T20:55:57.592Z"
   },
   {
    "duration": 272,
    "start_time": "2022-01-15T20:59:07.767Z"
   },
   {
    "duration": 437,
    "start_time": "2022-01-15T21:01:28.973Z"
   },
   {
    "duration": 441,
    "start_time": "2022-01-15T21:02:58.605Z"
   },
   {
    "duration": 419,
    "start_time": "2022-01-15T21:03:21.243Z"
   },
   {
    "duration": 246,
    "start_time": "2022-01-15T21:04:13.675Z"
   },
   {
    "duration": 4309,
    "start_time": "2022-01-15T21:05:49.240Z"
   },
   {
    "duration": 4766,
    "start_time": "2022-01-15T21:11:13.589Z"
   },
   {
    "duration": 491,
    "start_time": "2022-01-15T21:17:26.911Z"
   },
   {
    "duration": 449,
    "start_time": "2022-01-15T21:19:24.123Z"
   },
   {
    "duration": 734,
    "start_time": "2022-01-15T21:20:09.726Z"
   },
   {
    "duration": 24,
    "start_time": "2022-01-15T21:20:10.462Z"
   },
   {
    "duration": 18,
    "start_time": "2022-01-15T21:20:10.489Z"
   },
   {
    "duration": 360,
    "start_time": "2022-01-15T21:20:10.509Z"
   },
   {
    "duration": 7,
    "start_time": "2022-01-15T21:20:10.870Z"
   },
   {
    "duration": 12,
    "start_time": "2022-01-15T21:20:10.879Z"
   },
   {
    "duration": 17,
    "start_time": "2022-01-15T21:20:10.893Z"
   },
   {
    "duration": 33,
    "start_time": "2022-01-15T21:20:10.911Z"
   },
   {
    "duration": 9,
    "start_time": "2022-01-15T21:20:10.948Z"
   },
   {
    "duration": 165,
    "start_time": "2022-01-15T21:20:10.960Z"
   },
   {
    "duration": 14,
    "start_time": "2022-01-15T21:20:11.127Z"
   },
   {
    "duration": 141,
    "start_time": "2022-01-15T21:20:11.143Z"
   },
   {
    "duration": 362,
    "start_time": "2022-01-15T21:20:11.286Z"
   },
   {
    "duration": 19,
    "start_time": "2022-01-15T21:20:11.650Z"
   },
   {
    "duration": 348,
    "start_time": "2022-01-15T21:20:11.670Z"
   },
   {
    "duration": 347,
    "start_time": "2022-01-15T21:20:12.019Z"
   },
   {
    "duration": 333,
    "start_time": "2022-01-15T21:20:12.367Z"
   },
   {
    "duration": 326,
    "start_time": "2022-01-15T21:20:12.701Z"
   },
   {
    "duration": 449,
    "start_time": "2022-01-15T21:20:13.029Z"
   },
   {
    "duration": 363,
    "start_time": "2022-01-15T21:20:13.480Z"
   },
   {
    "duration": 341,
    "start_time": "2022-01-15T21:20:13.844Z"
   },
   {
    "duration": 1185,
    "start_time": "2022-01-15T21:20:14.187Z"
   },
   {
    "duration": 345,
    "start_time": "2022-01-15T21:20:15.373Z"
   },
   {
    "duration": 19285,
    "start_time": "2022-01-15T21:19:56.435Z"
   },
   {
    "duration": 19277,
    "start_time": "2022-01-15T21:19:56.444Z"
   },
   {
    "duration": 19271,
    "start_time": "2022-01-15T21:19:56.451Z"
   },
   {
    "duration": 19266,
    "start_time": "2022-01-15T21:19:56.457Z"
   },
   {
    "duration": 19261,
    "start_time": "2022-01-15T21:19:56.463Z"
   },
   {
    "duration": 19256,
    "start_time": "2022-01-15T21:19:56.469Z"
   },
   {
    "duration": 19248,
    "start_time": "2022-01-15T21:19:56.477Z"
   },
   {
    "duration": 19243,
    "start_time": "2022-01-15T21:19:56.483Z"
   },
   {
    "duration": 19238,
    "start_time": "2022-01-15T21:19:56.489Z"
   },
   {
    "duration": 19234,
    "start_time": "2022-01-15T21:19:56.494Z"
   },
   {
    "duration": 19230,
    "start_time": "2022-01-15T21:19:56.499Z"
   },
   {
    "duration": 19227,
    "start_time": "2022-01-15T21:19:56.503Z"
   },
   {
    "duration": 485,
    "start_time": "2022-01-15T21:21:23.178Z"
   },
   {
    "duration": 91,
    "start_time": "2022-01-15T21:21:34.871Z"
   },
   {
    "duration": 22,
    "start_time": "2022-01-15T21:21:34.964Z"
   },
   {
    "duration": 14,
    "start_time": "2022-01-15T21:21:34.988Z"
   },
   {
    "duration": 362,
    "start_time": "2022-01-15T21:21:35.004Z"
   },
   {
    "duration": 4,
    "start_time": "2022-01-15T21:21:35.368Z"
   },
   {
    "duration": 11,
    "start_time": "2022-01-15T21:21:35.373Z"
   },
   {
    "duration": 14,
    "start_time": "2022-01-15T21:21:35.385Z"
   },
   {
    "duration": 6,
    "start_time": "2022-01-15T21:21:35.402Z"
   },
   {
    "duration": 34,
    "start_time": "2022-01-15T21:21:35.410Z"
   },
   {
    "duration": 185,
    "start_time": "2022-01-15T21:21:35.446Z"
   },
   {
    "duration": 9,
    "start_time": "2022-01-15T21:21:35.633Z"
   },
   {
    "duration": 22,
    "start_time": "2022-01-15T21:21:35.643Z"
   },
   {
    "duration": 346,
    "start_time": "2022-01-15T21:21:35.666Z"
   },
   {
    "duration": 27,
    "start_time": "2022-01-15T21:21:36.014Z"
   },
   {
    "duration": 343,
    "start_time": "2022-01-15T21:21:36.042Z"
   },
   {
    "duration": 342,
    "start_time": "2022-01-15T21:21:36.387Z"
   },
   {
    "duration": 338,
    "start_time": "2022-01-15T21:21:36.731Z"
   },
   {
    "duration": 478,
    "start_time": "2022-01-15T21:21:37.070Z"
   },
   {
    "duration": 514,
    "start_time": "2022-01-15T21:21:37.549Z"
   },
   {
    "duration": 368,
    "start_time": "2022-01-15T21:21:38.065Z"
   },
   {
    "duration": 345,
    "start_time": "2022-01-15T21:21:38.435Z"
   },
   {
    "duration": 1223,
    "start_time": "2022-01-15T21:21:38.782Z"
   },
   {
    "duration": 453,
    "start_time": "2022-01-15T21:21:40.008Z"
   },
   {
    "duration": 853,
    "start_time": "2022-01-15T21:21:40.463Z"
   },
   {
    "duration": 572,
    "start_time": "2022-01-15T21:21:41.317Z"
   },
   {
    "duration": 482,
    "start_time": "2022-01-15T21:21:41.891Z"
   },
   {
    "duration": 4,
    "start_time": "2022-01-15T21:21:42.375Z"
   },
   {
    "duration": 16153,
    "start_time": "2022-01-15T21:21:42.381Z"
   },
   {
    "duration": 912,
    "start_time": "2022-01-15T21:21:58.536Z"
   },
   {
    "duration": 5,
    "start_time": "2022-01-15T21:21:59.449Z"
   },
   {
    "duration": 253,
    "start_time": "2022-01-15T21:21:59.455Z"
   },
   {
    "duration": 16,
    "start_time": "2022-01-15T21:21:59.709Z"
   },
   {
    "duration": 486,
    "start_time": "2022-01-15T21:21:59.726Z"
   },
   {
    "duration": 3103,
    "start_time": "2022-01-15T21:22:00.213Z"
   },
   {
    "duration": 2689,
    "start_time": "2022-01-15T21:22:03.318Z"
   },
   {
    "duration": 439,
    "start_time": "2022-01-15T21:45:04.717Z"
   },
   {
    "duration": 421,
    "start_time": "2022-01-15T21:45:49.128Z"
   },
   {
    "duration": 410,
    "start_time": "2022-01-15T21:46:05.055Z"
   },
   {
    "duration": 3669,
    "start_time": "2022-01-15T21:48:08.813Z"
   },
   {
    "duration": 3755,
    "start_time": "2022-01-15T21:49:34.809Z"
   },
   {
    "duration": 3879,
    "start_time": "2022-01-15T21:49:44.554Z"
   },
   {
    "duration": 3834,
    "start_time": "2022-01-15T21:50:54.641Z"
   },
   {
    "duration": 4201,
    "start_time": "2022-01-15T21:52:54.022Z"
   },
   {
    "duration": 4309,
    "start_time": "2022-01-15T21:54:12.544Z"
   },
   {
    "duration": 3665,
    "start_time": "2022-01-15T22:03:41.297Z"
   },
   {
    "duration": 4045,
    "start_time": "2022-01-15T22:04:22.624Z"
   },
   {
    "duration": 4049,
    "start_time": "2022-01-15T22:06:00.063Z"
   },
   {
    "duration": 4150,
    "start_time": "2022-01-15T22:06:13.396Z"
   },
   {
    "duration": 3812,
    "start_time": "2022-01-15T22:07:41.239Z"
   },
   {
    "duration": 1016,
    "start_time": "2022-01-16T08:04:28.458Z"
   },
   {
    "duration": 39,
    "start_time": "2022-01-16T08:04:29.476Z"
   },
   {
    "duration": 30,
    "start_time": "2022-01-16T08:04:29.518Z"
   },
   {
    "duration": 811,
    "start_time": "2022-01-16T08:04:29.568Z"
   },
   {
    "duration": 7,
    "start_time": "2022-01-16T08:04:30.382Z"
   },
   {
    "duration": 23,
    "start_time": "2022-01-16T08:04:30.392Z"
   },
   {
    "duration": 30,
    "start_time": "2022-01-16T08:04:30.417Z"
   },
   {
    "duration": 25,
    "start_time": "2022-01-16T08:04:30.449Z"
   },
   {
    "duration": 10,
    "start_time": "2022-01-16T08:04:30.478Z"
   },
   {
    "duration": 212,
    "start_time": "2022-01-16T08:04:30.492Z"
   },
   {
    "duration": 8,
    "start_time": "2022-01-16T08:04:30.707Z"
   },
   {
    "duration": 60,
    "start_time": "2022-01-16T08:04:30.718Z"
   },
   {
    "duration": 993,
    "start_time": "2022-01-16T08:04:30.781Z"
   },
   {
    "duration": 38,
    "start_time": "2022-01-16T08:04:31.776Z"
   },
   {
    "duration": 666,
    "start_time": "2022-01-16T08:04:31.817Z"
   },
   {
    "duration": 637,
    "start_time": "2022-01-16T08:04:32.485Z"
   },
   {
    "duration": 629,
    "start_time": "2022-01-16T08:04:33.124Z"
   },
   {
    "duration": 624,
    "start_time": "2022-01-16T08:04:33.756Z"
   },
   {
    "duration": 773,
    "start_time": "2022-01-16T08:04:34.383Z"
   },
   {
    "duration": 708,
    "start_time": "2022-01-16T08:04:35.159Z"
   },
   {
    "duration": 668,
    "start_time": "2022-01-16T08:04:35.869Z"
   },
   {
    "duration": 1819,
    "start_time": "2022-01-16T08:04:36.540Z"
   },
   {
    "duration": 700,
    "start_time": "2022-01-16T08:04:38.367Z"
   },
   {
    "duration": 1221,
    "start_time": "2022-01-16T08:04:39.070Z"
   },
   {
    "duration": 714,
    "start_time": "2022-01-16T08:04:40.293Z"
   },
   {
    "duration": 798,
    "start_time": "2022-01-16T08:04:41.009Z"
   },
   {
    "duration": 8,
    "start_time": "2022-01-16T08:04:41.814Z"
   },
   {
    "duration": 23702,
    "start_time": "2022-01-16T08:04:41.825Z"
   },
   {
    "duration": 1408,
    "start_time": "2022-01-16T08:05:05.530Z"
   },
   {
    "duration": 8,
    "start_time": "2022-01-16T08:05:06.940Z"
   },
   {
    "duration": 554,
    "start_time": "2022-01-16T08:05:06.951Z"
   },
   {
    "duration": 23,
    "start_time": "2022-01-16T08:05:07.508Z"
   },
   {
    "duration": 693,
    "start_time": "2022-01-16T08:05:07.534Z"
   },
   {
    "duration": 5379,
    "start_time": "2022-01-16T08:05:08.229Z"
   },
   {
    "duration": 5910,
    "start_time": "2022-01-16T08:05:13.611Z"
   },
   {
    "duration": 6244,
    "start_time": "2022-01-16T08:06:09.077Z"
   },
   {
    "duration": 5979,
    "start_time": "2022-01-16T08:16:04.425Z"
   },
   {
    "duration": 6051,
    "start_time": "2022-01-16T08:16:47.778Z"
   },
   {
    "duration": 6138,
    "start_time": "2022-01-16T08:17:13.333Z"
   },
   {
    "duration": 698,
    "start_time": "2022-01-18T20:53:45.193Z"
   },
   {
    "duration": 23,
    "start_time": "2022-01-18T20:53:45.892Z"
   },
   {
    "duration": 16,
    "start_time": "2022-01-18T20:53:45.917Z"
   },
   {
    "duration": 342,
    "start_time": "2022-01-18T20:53:45.934Z"
   },
   {
    "duration": 4,
    "start_time": "2022-01-18T20:53:46.277Z"
   },
   {
    "duration": 8,
    "start_time": "2022-01-18T20:53:46.282Z"
   },
   {
    "duration": 14,
    "start_time": "2022-01-18T20:53:46.292Z"
   },
   {
    "duration": 6,
    "start_time": "2022-01-18T20:53:46.308Z"
   },
   {
    "duration": 8,
    "start_time": "2022-01-18T20:53:46.315Z"
   },
   {
    "duration": 143,
    "start_time": "2022-01-18T20:53:46.325Z"
   },
   {
    "duration": 4,
    "start_time": "2022-01-18T20:53:46.472Z"
   },
   {
    "duration": 25,
    "start_time": "2022-01-18T20:53:46.477Z"
   },
   {
    "duration": 355,
    "start_time": "2022-01-18T20:53:46.504Z"
   },
   {
    "duration": 23,
    "start_time": "2022-01-18T20:53:46.860Z"
   },
   {
    "duration": 361,
    "start_time": "2022-01-18T20:53:46.885Z"
   },
   {
    "duration": 338,
    "start_time": "2022-01-18T20:53:47.247Z"
   },
   {
    "duration": 343,
    "start_time": "2022-01-18T20:53:47.586Z"
   },
   {
    "duration": 313,
    "start_time": "2022-01-18T20:53:47.930Z"
   },
   {
    "duration": 423,
    "start_time": "2022-01-18T20:53:48.244Z"
   },
   {
    "duration": 348,
    "start_time": "2022-01-18T20:53:48.669Z"
   },
   {
    "duration": 319,
    "start_time": "2022-01-18T20:53:49.018Z"
   },
   {
    "duration": 1187,
    "start_time": "2022-01-18T20:53:49.338Z"
   },
   {
    "duration": 455,
    "start_time": "2022-01-18T20:53:50.527Z"
   },
   {
    "duration": 727,
    "start_time": "2022-01-18T20:53:50.984Z"
   },
   {
    "duration": 436,
    "start_time": "2022-01-18T20:53:51.713Z"
   },
   {
    "duration": 536,
    "start_time": "2022-01-18T20:53:52.150Z"
   },
   {
    "duration": 4,
    "start_time": "2022-01-18T20:53:52.687Z"
   },
   {
    "duration": 15719,
    "start_time": "2022-01-18T20:53:52.693Z"
   },
   {
    "duration": 1016,
    "start_time": "2022-01-18T20:54:08.414Z"
   },
   {
    "duration": 5,
    "start_time": "2022-01-18T20:54:09.431Z"
   },
   {
    "duration": 327,
    "start_time": "2022-01-18T20:54:09.438Z"
   },
   {
    "duration": 20,
    "start_time": "2022-01-18T20:54:09.766Z"
   },
   {
    "duration": 417,
    "start_time": "2022-01-18T20:54:09.787Z"
   },
   {
    "duration": 2761,
    "start_time": "2022-01-18T20:54:10.205Z"
   },
   {
    "duration": 3687,
    "start_time": "2022-01-18T20:54:12.967Z"
   },
   {
    "duration": 232,
    "start_time": "2022-01-20T16:31:41.322Z"
   },
   {
    "duration": 757,
    "start_time": "2022-01-20T16:31:48.187Z"
   },
   {
    "duration": 26,
    "start_time": "2022-01-20T16:31:48.946Z"
   },
   {
    "duration": 37,
    "start_time": "2022-01-20T16:31:48.974Z"
   },
   {
    "duration": 392,
    "start_time": "2022-01-20T16:31:49.014Z"
   },
   {
    "duration": 5,
    "start_time": "2022-01-20T16:31:49.408Z"
   },
   {
    "duration": 15,
    "start_time": "2022-01-20T16:31:49.414Z"
   },
   {
    "duration": 18,
    "start_time": "2022-01-20T16:31:49.431Z"
   },
   {
    "duration": 7,
    "start_time": "2022-01-20T16:31:49.451Z"
   },
   {
    "duration": 11,
    "start_time": "2022-01-20T16:31:49.460Z"
   },
   {
    "duration": 174,
    "start_time": "2022-01-20T16:31:49.473Z"
   },
   {
    "duration": 4,
    "start_time": "2022-01-20T16:31:49.649Z"
   },
   {
    "duration": 29,
    "start_time": "2022-01-20T16:31:49.654Z"
   },
   {
    "duration": 356,
    "start_time": "2022-01-20T16:31:49.684Z"
   },
   {
    "duration": 22,
    "start_time": "2022-01-20T16:31:50.042Z"
   },
   {
    "duration": 107,
    "start_time": "2022-01-20T16:31:50.065Z"
   },
   {
    "duration": -227,
    "start_time": "2022-01-20T16:31:50.401Z"
   },
   {
    "duration": -240,
    "start_time": "2022-01-20T16:31:50.415Z"
   },
   {
    "duration": -245,
    "start_time": "2022-01-20T16:31:50.421Z"
   },
   {
    "duration": -252,
    "start_time": "2022-01-20T16:31:50.429Z"
   },
   {
    "duration": -259,
    "start_time": "2022-01-20T16:31:50.437Z"
   },
   {
    "duration": -266,
    "start_time": "2022-01-20T16:31:50.445Z"
   },
   {
    "duration": -272,
    "start_time": "2022-01-20T16:31:50.452Z"
   },
   {
    "duration": -278,
    "start_time": "2022-01-20T16:31:50.459Z"
   },
   {
    "duration": -284,
    "start_time": "2022-01-20T16:31:50.466Z"
   },
   {
    "duration": -290,
    "start_time": "2022-01-20T16:31:50.474Z"
   },
   {
    "duration": -296,
    "start_time": "2022-01-20T16:31:50.481Z"
   },
   {
    "duration": -303,
    "start_time": "2022-01-20T16:31:50.489Z"
   },
   {
    "duration": -310,
    "start_time": "2022-01-20T16:31:50.496Z"
   },
   {
    "duration": -318,
    "start_time": "2022-01-20T16:31:50.505Z"
   },
   {
    "duration": -324,
    "start_time": "2022-01-20T16:31:50.512Z"
   },
   {
    "duration": -333,
    "start_time": "2022-01-20T16:31:50.522Z"
   },
   {
    "duration": -349,
    "start_time": "2022-01-20T16:31:50.539Z"
   },
   {
    "duration": -356,
    "start_time": "2022-01-20T16:31:50.547Z"
   },
   {
    "duration": -373,
    "start_time": "2022-01-20T16:31:50.565Z"
   },
   {
    "duration": -379,
    "start_time": "2022-01-20T16:31:50.573Z"
   },
   {
    "duration": 1938,
    "start_time": "2022-01-20T16:41:13.986Z"
   },
   {
    "duration": 374,
    "start_time": "2022-01-20T16:43:32.613Z"
   },
   {
    "duration": 995,
    "start_time": "2022-01-20T16:43:43.564Z"
   },
   {
    "duration": 1127,
    "start_time": "2022-01-20T16:44:22.683Z"
   },
   {
    "duration": 1951,
    "start_time": "2022-01-20T16:52:17.897Z"
   },
   {
    "duration": 1949,
    "start_time": "2022-01-20T16:53:16.432Z"
   },
   {
    "duration": 1654,
    "start_time": "2022-01-20T17:00:35.103Z"
   },
   {
    "duration": 96,
    "start_time": "2022-01-20T17:16:51.643Z"
   },
   {
    "duration": 25,
    "start_time": "2022-01-20T17:16:51.741Z"
   },
   {
    "duration": 29,
    "start_time": "2022-01-20T17:16:51.768Z"
   },
   {
    "duration": 409,
    "start_time": "2022-01-20T17:16:51.799Z"
   },
   {
    "duration": 5,
    "start_time": "2022-01-20T17:16:52.209Z"
   },
   {
    "duration": 12,
    "start_time": "2022-01-20T17:16:52.216Z"
   },
   {
    "duration": 16,
    "start_time": "2022-01-20T17:16:52.230Z"
   },
   {
    "duration": 7,
    "start_time": "2022-01-20T17:16:52.249Z"
   },
   {
    "duration": 40,
    "start_time": "2022-01-20T17:16:52.258Z"
   },
   {
    "duration": 99,
    "start_time": "2022-01-20T17:16:52.300Z"
   },
   {
    "duration": 5,
    "start_time": "2022-01-20T17:16:52.401Z"
   },
   {
    "duration": 29,
    "start_time": "2022-01-20T17:16:52.408Z"
   },
   {
    "duration": 360,
    "start_time": "2022-01-20T17:16:52.439Z"
   },
   {
    "duration": 24,
    "start_time": "2022-01-20T17:16:52.801Z"
   },
   {
    "duration": 1639,
    "start_time": "2022-01-20T17:16:52.827Z"
   },
   {
    "duration": 448,
    "start_time": "2022-01-20T17:16:54.468Z"
   },
   {
    "duration": 419,
    "start_time": "2022-01-20T17:16:54.917Z"
   },
   {
    "duration": 395,
    "start_time": "2022-01-20T17:17:05.868Z"
   },
   {
    "duration": 491,
    "start_time": "2022-01-20T17:17:32.035Z"
   },
   {
    "duration": 15,
    "start_time": "2022-01-20T17:32:33.291Z"
   },
   {
    "duration": 206,
    "start_time": "2022-01-20T17:40:58.809Z"
   },
   {
    "duration": 209,
    "start_time": "2022-01-20T17:41:16.412Z"
   },
   {
    "duration": 206,
    "start_time": "2022-01-20T17:41:59.954Z"
   },
   {
    "duration": 95,
    "start_time": "2022-01-20T17:42:35.618Z"
   },
   {
    "duration": 24,
    "start_time": "2022-01-20T17:42:35.715Z"
   },
   {
    "duration": 24,
    "start_time": "2022-01-20T17:42:35.742Z"
   },
   {
    "duration": 408,
    "start_time": "2022-01-20T17:42:35.768Z"
   },
   {
    "duration": 5,
    "start_time": "2022-01-20T17:42:36.179Z"
   },
   {
    "duration": 32,
    "start_time": "2022-01-20T17:42:36.186Z"
   },
   {
    "duration": 41,
    "start_time": "2022-01-20T17:42:36.220Z"
   },
   {
    "duration": 38,
    "start_time": "2022-01-20T17:42:36.264Z"
   },
   {
    "duration": 43,
    "start_time": "2022-01-20T17:42:36.305Z"
   },
   {
    "duration": 102,
    "start_time": "2022-01-20T17:42:36.350Z"
   },
   {
    "duration": 6,
    "start_time": "2022-01-20T17:42:36.454Z"
   },
   {
    "duration": 69,
    "start_time": "2022-01-20T17:42:36.462Z"
   },
   {
    "duration": 369,
    "start_time": "2022-01-20T17:42:36.532Z"
   },
   {
    "duration": 23,
    "start_time": "2022-01-20T17:42:36.903Z"
   },
   {
    "duration": 1679,
    "start_time": "2022-01-20T17:42:36.928Z"
   },
   {
    "duration": 463,
    "start_time": "2022-01-20T17:42:38.608Z"
   },
   {
    "duration": 425,
    "start_time": "2022-01-20T17:42:39.072Z"
   },
   {
    "duration": 384,
    "start_time": "2022-01-20T17:42:39.499Z"
   },
   {
    "duration": 210,
    "start_time": "2022-01-20T17:42:42.551Z"
   },
   {
    "duration": 410,
    "start_time": "2022-01-20T17:44:02.105Z"
   },
   {
    "duration": 207,
    "start_time": "2022-01-20T17:44:10.372Z"
   },
   {
    "duration": 550,
    "start_time": "2022-01-20T17:44:21.827Z"
   },
   {
    "duration": 204,
    "start_time": "2022-01-20T17:47:20.305Z"
   },
   {
    "duration": 202,
    "start_time": "2022-01-20T17:47:35.416Z"
   },
   {
    "duration": 566,
    "start_time": "2022-01-20T17:47:47.506Z"
   },
   {
    "duration": 1455,
    "start_time": "2022-01-20T19:36:57.686Z"
   },
   {
    "duration": 534,
    "start_time": "2022-01-20T19:37:11.110Z"
   },
   {
    "duration": 630,
    "start_time": "2022-01-20T19:37:57.772Z"
   },
   {
    "duration": 3484,
    "start_time": "2022-01-20T19:46:57.398Z"
   },
   {
    "duration": 3818,
    "start_time": "2022-01-20T19:47:24.480Z"
   },
   {
    "duration": 372,
    "start_time": "2022-01-20T19:47:44.947Z"
   },
   {
    "duration": 361,
    "start_time": "2022-01-20T19:47:51.768Z"
   },
   {
    "duration": 210,
    "start_time": "2022-01-20T19:47:55.518Z"
   },
   {
    "duration": 186,
    "start_time": "2022-01-20T20:02:54.355Z"
   },
   {
    "duration": 207,
    "start_time": "2022-01-20T20:03:40.654Z"
   },
   {
    "duration": 191,
    "start_time": "2022-01-20T20:04:06.150Z"
   },
   {
    "duration": 83,
    "start_time": "2022-01-20T20:04:13.100Z"
   },
   {
    "duration": 173,
    "start_time": "2022-01-20T20:04:38.086Z"
   },
   {
    "duration": 230,
    "start_time": "2022-01-20T20:05:05.692Z"
   },
   {
    "duration": 195,
    "start_time": "2022-01-20T20:05:23.954Z"
   },
   {
    "duration": 186,
    "start_time": "2022-01-20T20:05:58.351Z"
   },
   {
    "duration": 182,
    "start_time": "2022-01-20T20:06:28.109Z"
   },
   {
    "duration": 60,
    "start_time": "2022-01-20T20:07:53.999Z"
   },
   {
    "duration": 94,
    "start_time": "2022-01-20T20:09:00.884Z"
   },
   {
    "duration": 6,
    "start_time": "2022-01-20T20:09:20.153Z"
   },
   {
    "duration": 33,
    "start_time": "2022-01-20T20:09:37.709Z"
   },
   {
    "duration": 6,
    "start_time": "2022-01-20T20:10:12.837Z"
   },
   {
    "duration": 27,
    "start_time": "2022-01-20T20:12:01.307Z"
   },
   {
    "duration": 592,
    "start_time": "2022-01-20T20:17:52.050Z"
   },
   {
    "duration": 595,
    "start_time": "2022-01-20T20:19:06.238Z"
   },
   {
    "duration": 1664,
    "start_time": "2022-01-20T20:20:03.382Z"
   },
   {
    "duration": 609,
    "start_time": "2022-01-20T20:20:23.438Z"
   },
   {
    "duration": 63,
    "start_time": "2022-01-20T20:21:38.664Z"
   },
   {
    "duration": 5171,
    "start_time": "2022-01-20T20:21:54.562Z"
   },
   {
    "duration": 571,
    "start_time": "2022-01-20T20:22:14.337Z"
   },
   {
    "duration": 570,
    "start_time": "2022-01-20T20:22:48.445Z"
   },
   {
    "duration": 1675,
    "start_time": "2022-01-20T20:23:19.765Z"
   },
   {
    "duration": 69,
    "start_time": "2022-01-20T20:25:21.948Z"
   },
   {
    "duration": 68,
    "start_time": "2022-01-20T20:26:06.719Z"
   },
   {
    "duration": 2435,
    "start_time": "2022-01-20T20:26:21.863Z"
   },
   {
    "duration": 100,
    "start_time": "2022-01-20T20:26:55.642Z"
   },
   {
    "duration": 1682,
    "start_time": "2022-01-20T20:27:05.920Z"
   },
   {
    "duration": 1668,
    "start_time": "2022-01-20T20:27:32.099Z"
   },
   {
    "duration": 1675,
    "start_time": "2022-01-20T20:29:21.083Z"
   },
   {
    "duration": 5,
    "start_time": "2022-01-20T20:31:05.664Z"
   },
   {
    "duration": 73,
    "start_time": "2022-01-20T20:31:45.152Z"
   },
   {
    "duration": 61,
    "start_time": "2022-01-20T20:32:23.868Z"
   },
   {
    "duration": 1637,
    "start_time": "2022-01-20T20:33:39.626Z"
   },
   {
    "duration": 27,
    "start_time": "2022-01-20T20:35:50.373Z"
   },
   {
    "duration": 32,
    "start_time": "2022-01-20T20:36:52.138Z"
   },
   {
    "duration": 767,
    "start_time": "2022-01-20T20:37:53.386Z"
   },
   {
    "duration": 24,
    "start_time": "2022-01-20T20:37:54.155Z"
   },
   {
    "duration": 36,
    "start_time": "2022-01-20T20:37:54.183Z"
   },
   {
    "duration": 425,
    "start_time": "2022-01-20T20:37:54.221Z"
   },
   {
    "duration": 4,
    "start_time": "2022-01-20T20:37:54.648Z"
   },
   {
    "duration": 17,
    "start_time": "2022-01-20T20:37:54.654Z"
   },
   {
    "duration": 27,
    "start_time": "2022-01-20T20:37:54.674Z"
   },
   {
    "duration": 8,
    "start_time": "2022-01-20T20:37:54.703Z"
   },
   {
    "duration": 14,
    "start_time": "2022-01-20T20:37:54.712Z"
   },
   {
    "duration": 156,
    "start_time": "2022-01-20T20:37:54.728Z"
   },
   {
    "duration": 4,
    "start_time": "2022-01-20T20:37:54.885Z"
   },
   {
    "duration": 29,
    "start_time": "2022-01-20T20:37:54.891Z"
   },
   {
    "duration": 352,
    "start_time": "2022-01-20T20:37:54.922Z"
   },
   {
    "duration": 29,
    "start_time": "2022-01-20T20:37:55.276Z"
   },
   {
    "duration": 1539,
    "start_time": "2022-01-20T20:37:55.306Z"
   },
   {
    "duration": 525,
    "start_time": "2022-01-20T20:37:56.847Z"
   },
   {
    "duration": 408,
    "start_time": "2022-01-20T20:37:57.374Z"
   },
   {
    "duration": 374,
    "start_time": "2022-01-20T20:37:57.784Z"
   },
   {
    "duration": 6,
    "start_time": "2022-01-20T20:37:58.160Z"
   },
   {
    "duration": 53,
    "start_time": "2022-01-20T20:37:58.167Z"
   },
   {
    "duration": 1400,
    "start_time": "2022-01-20T20:37:58.222Z"
   },
   {
    "duration": 532,
    "start_time": "2022-01-20T20:37:59.625Z"
   },
   {
    "duration": 884,
    "start_time": "2022-01-20T20:38:00.159Z"
   },
   {
    "duration": 557,
    "start_time": "2022-01-20T20:38:01.045Z"
   },
   {
    "duration": 618,
    "start_time": "2022-01-20T20:38:01.604Z"
   },
   {
    "duration": 5,
    "start_time": "2022-01-20T20:38:02.224Z"
   },
   {
    "duration": 26312,
    "start_time": "2022-01-20T20:38:02.231Z"
   },
   {
    "duration": 1553,
    "start_time": "2022-01-20T20:38:28.545Z"
   },
   {
    "duration": 6,
    "start_time": "2022-01-20T20:38:30.100Z"
   },
   {
    "duration": 389,
    "start_time": "2022-01-20T20:38:30.107Z"
   },
   {
    "duration": 17,
    "start_time": "2022-01-20T20:38:30.498Z"
   },
   {
    "duration": 553,
    "start_time": "2022-01-20T20:38:30.517Z"
   },
   {
    "duration": 3380,
    "start_time": "2022-01-20T20:38:31.073Z"
   },
   {
    "duration": 4374,
    "start_time": "2022-01-20T20:38:34.455Z"
   },
   {
    "duration": 4690,
    "start_time": "2022-01-20T20:44:22.260Z"
   },
   {
    "duration": 4658,
    "start_time": "2022-01-20T20:45:58.459Z"
   },
   {
    "duration": 4837,
    "start_time": "2022-01-20T20:47:29.864Z"
   },
   {
    "duration": 57,
    "start_time": "2022-01-20T20:49:14.382Z"
   },
   {
    "duration": 67,
    "start_time": "2022-01-20T20:49:28.241Z"
   },
   {
    "duration": 4712,
    "start_time": "2022-01-20T20:49:33.702Z"
   },
   {
    "duration": 4209,
    "start_time": "2022-01-20T20:50:14.024Z"
   },
   {
    "duration": 4441,
    "start_time": "2022-01-20T20:50:28.929Z"
   },
   {
    "duration": 4512,
    "start_time": "2022-01-20T20:51:23.893Z"
   },
   {
    "duration": 461,
    "start_time": "2022-01-20T20:52:55.712Z"
   },
   {
    "duration": 938,
    "start_time": "2022-01-20T20:53:25.760Z"
   },
   {
    "duration": 595,
    "start_time": "2022-01-20T20:53:41.000Z"
   },
   {
    "duration": 4304,
    "start_time": "2022-01-20T20:54:40.068Z"
   },
   {
    "duration": 4427,
    "start_time": "2022-01-20T20:55:48.481Z"
   },
   {
    "duration": 4102,
    "start_time": "2022-01-20T20:57:24.529Z"
   },
   {
    "duration": 4321,
    "start_time": "2022-01-20T20:58:14.124Z"
   },
   {
    "duration": 4258,
    "start_time": "2022-01-20T20:58:20.150Z"
   },
   {
    "duration": 4586,
    "start_time": "2022-01-20T20:58:27.801Z"
   },
   {
    "duration": 4209,
    "start_time": "2022-01-20T20:58:34.074Z"
   },
   {
    "duration": 4457,
    "start_time": "2022-01-20T20:58:41.340Z"
   },
   {
    "duration": 4525,
    "start_time": "2022-01-20T20:59:00.885Z"
   },
   {
    "duration": 4426,
    "start_time": "2022-01-20T20:59:14.733Z"
   },
   {
    "duration": 4382,
    "start_time": "2022-01-20T20:59:22.215Z"
   },
   {
    "duration": 4460,
    "start_time": "2022-01-20T20:59:28.074Z"
   },
   {
    "duration": 4224,
    "start_time": "2022-01-20T20:59:38.632Z"
   },
   {
    "duration": 4202,
    "start_time": "2022-01-20T20:59:44.143Z"
   },
   {
    "duration": 4672,
    "start_time": "2022-01-20T21:00:02.748Z"
   },
   {
    "duration": 68,
    "start_time": "2022-01-20T21:00:09.591Z"
   },
   {
    "duration": 4504,
    "start_time": "2022-01-20T21:00:17.910Z"
   },
   {
    "duration": 800,
    "start_time": "2022-01-20T21:03:00.486Z"
   },
   {
    "duration": 36,
    "start_time": "2022-01-20T21:03:01.288Z"
   },
   {
    "duration": 23,
    "start_time": "2022-01-20T21:03:01.329Z"
   },
   {
    "duration": 459,
    "start_time": "2022-01-20T21:03:01.354Z"
   },
   {
    "duration": 6,
    "start_time": "2022-01-20T21:03:01.815Z"
   },
   {
    "duration": 46,
    "start_time": "2022-01-20T21:03:01.822Z"
   },
   {
    "duration": 40,
    "start_time": "2022-01-20T21:03:01.870Z"
   },
   {
    "duration": 10,
    "start_time": "2022-01-20T21:03:01.912Z"
   },
   {
    "duration": 23,
    "start_time": "2022-01-20T21:03:01.924Z"
   },
   {
    "duration": 194,
    "start_time": "2022-01-20T21:03:01.949Z"
   },
   {
    "duration": 5,
    "start_time": "2022-01-20T21:03:02.145Z"
   },
   {
    "duration": 40,
    "start_time": "2022-01-20T21:03:02.151Z"
   },
   {
    "duration": 370,
    "start_time": "2022-01-20T21:03:02.193Z"
   },
   {
    "duration": 32,
    "start_time": "2022-01-20T21:03:02.565Z"
   },
   {
    "duration": 1611,
    "start_time": "2022-01-20T21:03:02.598Z"
   },
   {
    "duration": 527,
    "start_time": "2022-01-20T21:03:04.210Z"
   },
   {
    "duration": 410,
    "start_time": "2022-01-20T21:03:04.739Z"
   },
   {
    "duration": 382,
    "start_time": "2022-01-20T21:03:05.151Z"
   },
   {
    "duration": 7,
    "start_time": "2022-01-20T21:03:05.535Z"
   },
   {
    "duration": 64,
    "start_time": "2022-01-20T21:03:05.543Z"
   },
   {
    "duration": 1381,
    "start_time": "2022-01-20T21:03:05.609Z"
   },
   {
    "duration": 477,
    "start_time": "2022-01-20T21:03:06.997Z"
   },
   {
    "duration": 847,
    "start_time": "2022-01-20T21:03:07.476Z"
   },
   {
    "duration": 535,
    "start_time": "2022-01-20T21:03:08.325Z"
   },
   {
    "duration": 610,
    "start_time": "2022-01-20T21:03:08.862Z"
   },
   {
    "duration": 5,
    "start_time": "2022-01-20T21:03:09.474Z"
   },
   {
    "duration": 26518,
    "start_time": "2022-01-20T21:03:09.481Z"
   },
   {
    "duration": 1443,
    "start_time": "2022-01-20T21:03:36.001Z"
   },
   {
    "duration": 5,
    "start_time": "2022-01-20T21:03:37.446Z"
   },
   {
    "duration": 346,
    "start_time": "2022-01-20T21:03:37.452Z"
   },
   {
    "duration": 17,
    "start_time": "2022-01-20T21:03:37.799Z"
   },
   {
    "duration": 546,
    "start_time": "2022-01-20T21:03:37.818Z"
   },
   {
    "duration": 3269,
    "start_time": "2022-01-20T21:03:38.366Z"
   },
   {
    "duration": 4598,
    "start_time": "2022-01-20T21:03:41.636Z"
   }
  ],
  "kernelspec": {
   "display_name": "Python 3 (ipykernel)",
   "language": "python",
   "name": "python3"
  },
  "language_info": {
   "codemirror_mode": {
    "name": "ipython",
    "version": 3
   },
   "file_extension": ".py",
   "mimetype": "text/x-python",
   "name": "python",
   "nbconvert_exporter": "python",
   "pygments_lexer": "ipython3",
   "version": "3.9.12"
  },
  "toc": {
   "base_numbering": 1,
   "nav_menu": {},
   "number_sections": true,
   "sideBar": true,
   "skip_h1_title": true,
   "title_cell": "Содержание",
   "title_sidebar": "Contents",
   "toc_cell": true,
   "toc_position": {
    "height": "calc(100% - 180px)",
    "left": "10px",
    "top": "150px",
    "width": "286px"
   },
   "toc_section_display": true,
   "toc_window_display": false
  }
 },
 "nbformat": 4,
 "nbformat_minor": 2
}
