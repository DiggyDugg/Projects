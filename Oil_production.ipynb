{
 "cells": [
  {
   "cell_type": "markdown",
   "metadata": {},
   "source": [
    "# Выбор локации для скважины"
   ]
  },
  {
   "cell_type": "markdown",
   "metadata": {},
   "source": [
    "Для добывающей компании «ГлавРосГосНефть» нужно решить, где бурить новую скважину.\n",
    "\n",
    "Предоставлены пробы нефти в трёх регионах: в каждом 10 000 месторождений, где измерили качество нефти и объём её запасов. Построим модель машинного обучения, которая поможет определить регион, где добыча принесёт наибольшую прибыль. Проанализируеум возможную прибыль и риски техникой *Bootstrap.*\n",
    "\n",
    "Шаги для выбора локации:\n",
    "\n",
    "- В избранном регионе ищем месторождения, для каждого определяем значения признаков;\n",
    "- Строим модель и оцениваем объёмы запасов;\n",
    "- Выбираем месторождения с самым высокими оценками значений. Количество месторождений зависит от бюджета компании и стоимости разработки одной скважины;\n",
    "- Прибыль равна суммарной прибыли отобранных месторождений."
   ]
  },
  {
   "cell_type": "markdown",
   "metadata": {},
   "source": [
    "# Описание данных"
   ]
  },
  {
   "cell_type": "markdown",
   "metadata": {},
   "source": [
    "Данные геологоразведки трёх регионов находятся в файлах:\n",
    "geo_data_0.csv. \n",
    "geo_data_1.csv. \n",
    "geo_data_2.csv. \n",
    "id — уникальный идентификатор скважины;\n",
    "f0, f1, f2 — три признака скважины;\n",
    "product — объём запасов в скважине (тыс. баррелей)."
   ]
  },
  {
   "cell_type": "markdown",
   "metadata": {},
   "source": [
    "# Условия задачи"
   ]
  },
  {
   "cell_type": "markdown",
   "metadata": {},
   "source": [
    "Для обучения модели подходит только линейная регрессия (остальные модели недостаточно предсказуемые).\n",
    "При разведке региона исследуют 500 точек, из которых с помощью машинного обучения выбирают 200 лучших для разработки.\n",
    "Бюджет на разработку скважин в регионе — 10 млрд рублей.\n",
    "Один баррель сырья приносит 450 рублей дохода. Доход с каждой единицы продукта составляет 450 тыс. рублей, поскольку объём указан в тысячах баррелей.\n",
    "После оценки рисков нужно оставить лишь те регионы, в которых вероятность убытков меньше 2.5%. Среди них выбирают регион с наибольшей средней прибылью.\n",
    "Данные синтетические: детали контрактов и характеристики месторождений не разглашаются."
   ]
  },
  {
   "cell_type": "markdown",
   "metadata": {},
   "source": [
    "## Загрузка и подготовка данных"
   ]
  },
  {
   "cell_type": "code",
   "execution_count": 1,
   "metadata": {},
   "outputs": [],
   "source": [
    "import pandas as pd\n",
    "import numpy as np\n",
    "from scipy import stats as st\n",
    "from sklearn.model_selection import train_test_split\n",
    "from sklearn.linear_model import LinearRegression\n",
    "from sklearn.metrics import mean_squared_error\n",
    "from numpy.random import RandomState\n",
    "import matplotlib.pyplot as plt"
   ]
  },
  {
   "cell_type": "code",
   "execution_count": 2,
   "metadata": {},
   "outputs": [
    {
     "name": "stdout",
     "output_type": "stream",
     "text": [
      "<class 'pandas.core.frame.DataFrame'>\n",
      "RangeIndex: 100000 entries, 0 to 99999\n",
      "Data columns (total 5 columns):\n",
      " #   Column   Non-Null Count   Dtype  \n",
      "---  ------   --------------   -----  \n",
      " 0   id       100000 non-null  object \n",
      " 1   f0       100000 non-null  float64\n",
      " 2   f1       100000 non-null  float64\n",
      " 3   f2       100000 non-null  float64\n",
      " 4   product  100000 non-null  float64\n",
      "dtypes: float64(4), object(1)\n",
      "memory usage: 3.8+ MB\n"
     ]
    },
    {
     "data": {
      "text/plain": [
       "None"
      ]
     },
     "metadata": {},
     "output_type": "display_data"
    },
    {
     "name": "stdout",
     "output_type": "stream",
     "text": [
      "<class 'pandas.core.frame.DataFrame'>\n",
      "RangeIndex: 100000 entries, 0 to 99999\n",
      "Data columns (total 5 columns):\n",
      " #   Column   Non-Null Count   Dtype  \n",
      "---  ------   --------------   -----  \n",
      " 0   id       100000 non-null  object \n",
      " 1   f0       100000 non-null  float64\n",
      " 2   f1       100000 non-null  float64\n",
      " 3   f2       100000 non-null  float64\n",
      " 4   product  100000 non-null  float64\n",
      "dtypes: float64(4), object(1)\n",
      "memory usage: 3.8+ MB\n"
     ]
    },
    {
     "data": {
      "text/plain": [
       "None"
      ]
     },
     "metadata": {},
     "output_type": "display_data"
    },
    {
     "name": "stdout",
     "output_type": "stream",
     "text": [
      "<class 'pandas.core.frame.DataFrame'>\n",
      "RangeIndex: 100000 entries, 0 to 99999\n",
      "Data columns (total 5 columns):\n",
      " #   Column   Non-Null Count   Dtype  \n",
      "---  ------   --------------   -----  \n",
      " 0   id       100000 non-null  object \n",
      " 1   f0       100000 non-null  float64\n",
      " 2   f1       100000 non-null  float64\n",
      " 3   f2       100000 non-null  float64\n",
      " 4   product  100000 non-null  float64\n",
      "dtypes: float64(4), object(1)\n",
      "memory usage: 3.8+ MB\n"
     ]
    },
    {
     "data": {
      "text/plain": [
       "None"
      ]
     },
     "metadata": {},
     "output_type": "display_data"
    }
   ],
   "source": [
    "state = np.random.RandomState(12345)\n",
    "\n",
    "data_0 = pd.read_csv('/datasets/geo_data_0.csv')\n",
    "data_1 = pd.read_csv('/datasets/geo_data_1.csv')\n",
    "data_2 = pd.read_csv('/datasets/geo_data_2.csv')\n",
    "\n",
    "display(data_0.info())\n",
    "display(data_1.info())\n",
    "display(data_2.info())"
   ]
  },
  {
   "cell_type": "markdown",
   "metadata": {},
   "source": [
    "Данные не требуют предобработки."
   ]
  },
  {
   "cell_type": "markdown",
   "metadata": {},
   "source": [
    "### Разобъем данные на обучающую и валидационную выборки в соотношении 75:25"
   ]
  },
  {
   "cell_type": "code",
   "execution_count": 3,
   "metadata": {},
   "outputs": [
    {
     "name": "stdout",
     "output_type": "stream",
     "text": [
      "(75000, 3) (75000,)\n",
      "(75000, 3) (75000,)\n",
      "(75000, 3) (75000,)\n",
      "(25000, 3) (25000,)\n",
      "(25000, 3) (25000,)\n",
      "(25000, 3) (25000,)\n"
     ]
    }
   ],
   "source": [
    "features_0 = data_0.drop(columns=['product','id'], axis =1)\n",
    "features_1 = data_1.drop(columns=['product','id'], axis =1)\n",
    "features_2 = data_2.drop(columns=['product','id'], axis =1)\n",
    "target_0 = data_0['product']\n",
    "target_1 = data_1['product']\n",
    "target_2 = data_2['product']\n",
    "features_train_0, features_valid_0, target_train_0, target_valid_0 = train_test_split(\n",
    "        features_0, target_0, test_size=0.25, random_state=12345)\n",
    "features_train_1, features_valid_1, target_train_1, target_valid_1 = train_test_split(\n",
    "        features_1, target_1, test_size=0.25, random_state=12345)\n",
    "features_train_2, features_valid_2, target_train_2, target_valid_2 = train_test_split(\n",
    "        features_2, target_2, test_size=0.25, random_state=12345)\n",
    "\n",
    "target_valid_0=target_valid_0.reset_index(drop=True)\n",
    "target_valid_1=target_valid_1.reset_index(drop=True)\n",
    "target_valid_2=target_valid_2.reset_index(drop=True)\n",
    "\n",
    "print(features_train_0.shape, target_train_0.shape)\n",
    "print(features_train_1.shape, target_train_1.shape)\n",
    "print(features_train_2.shape, target_train_2.shape)\n",
    "\n",
    "print(features_valid_0.shape, target_valid_0.shape)\n",
    "print(features_valid_1.shape, target_valid_1.shape)\n",
    "print(features_valid_2.shape, target_valid_2.shape)"
   ]
  },
  {
   "cell_type": "markdown",
   "metadata": {},
   "source": [
    "## Обучение и проверка модели"
   ]
  },
  {
   "cell_type": "markdown",
   "metadata": {},
   "source": [
    "### Создадим функцию для обучения модели, предсказания объемов запасов, расчета средних запасов и расчета среднеквадратической ошибки предсказаний"
   ]
  },
  {
   "cell_type": "code",
   "execution_count": 4,
   "metadata": {},
   "outputs": [],
   "source": [
    "def prediction (df, features_train,features_valid, target_train, target_valid):\n",
    "    model = LinearRegression()\n",
    "    model.fit(features_train, target_train)\n",
    "    predictions = model.predict(features_valid)\n",
    "    predictions = pd.Series(predictions)\n",
    "    avg_product = predictions.mean()\n",
    "    mse = mean_squared_error(target_valid, predictions)\n",
    "    rmse = mse**0.5\n",
    "    return model, 'avg_product:', avg_product, 'rmse:', rmse, 'predictions:', predictions"
   ]
  },
  {
   "cell_type": "markdown",
   "metadata": {},
   "source": [
    "### Расчет предсказаний,  средних запасов и расчета среднеквадратической ошибки предсказаний."
   ]
  },
  {
   "cell_type": "code",
   "execution_count": 5,
   "metadata": {},
   "outputs": [
    {
     "name": "stdout",
     "output_type": "stream",
     "text": [
      "('avg_product:', 92.59256778438035, 'rmse:', 37.5794217150813)\n",
      "('avg_product:', 68.728546895446, 'rmse:', 0.893099286775617)\n",
      "('avg_product:', 94.96504596800489, 'rmse:', 40.02970873393434)\n"
     ]
    }
   ],
   "source": [
    "model_0_results =prediction(data_0, features_train_0,features_valid_0, target_train_0, target_valid_0)\n",
    "model_1_results =prediction(data_1, features_train_1,features_valid_1, target_train_1, target_valid_1)\n",
    "model_2_results =prediction(data_2, features_train_2,features_valid_2, target_train_2, target_valid_2)\n",
    "print(model_0_results[1:5])\n",
    "print(model_1_results[1:5])\n",
    "print(model_2_results[1:5])"
   ]
  },
  {
   "cell_type": "code",
   "execution_count": 6,
   "metadata": {
    "scrolled": false
   },
   "outputs": [
    {
     "data": {
      "image/png": "[encoded data removed]",
      "text/plain": [
       "<Figure size 432x288 with 1 Axes>"
      ]
     },
     "metadata": {
      "needs_background": "light"
     },
     "output_type": "display_data"
    },
    {
     "data": {
      "image/png": "[encoded data removed]",
      "text/plain": [
       "<Figure size 432x288 with 1 Axes>"
      ]
     },
     "metadata": {
      "needs_background": "light"
     },
     "output_type": "display_data"
    },
    {
     "data": {
      "text/plain": [
       "count    25000.000000\n",
       "mean        92.078597\n",
       "std         44.286913\n",
       "min          0.004022\n",
       "25%         56.059494\n",
       "50%         90.897664\n",
       "75%        128.160698\n",
       "max        185.315412\n",
       "Name: product, dtype: float64"
      ]
     },
     "metadata": {},
     "output_type": "display_data"
    },
    {
     "data": {
      "image/png": "[encoded data removed]",
      "text/plain": [
       "<Figure size 432x288 with 1 Axes>"
      ]
     },
     "metadata": {
      "needs_background": "light"
     },
     "output_type": "display_data"
    },
    {
     "data": {
      "image/png": "[encoded data removed]",
      "text/plain": [
       "<Figure size 432x288 with 1 Axes>"
      ]
     },
     "metadata": {
      "needs_background": "light"
     },
     "output_type": "display_data"
    },
    {
     "data": {
      "text/plain": [
       "count    25000.000000\n",
       "mean        68.723136\n",
       "std         46.022165\n",
       "min          0.000000\n",
       "25%         26.953261\n",
       "50%         57.085625\n",
       "75%        107.813044\n",
       "max        137.945408\n",
       "Name: product, dtype: float64"
      ]
     },
     "metadata": {},
     "output_type": "display_data"
    },
    {
     "data": {
      "image/png": "[encoded data removed]",
      "text/plain": [
       "<Figure size 432x288 with 1 Axes>"
      ]
     },
     "metadata": {
      "needs_background": "light"
     },
     "output_type": "display_data"
    },
    {
     "data": {
      "image/png": "[encoded data removed]",
      "text/plain": [
       "<Figure size 432x288 with 1 Axes>"
      ]
     },
     "metadata": {
      "needs_background": "light"
     },
     "output_type": "display_data"
    },
    {
     "data": {
      "text/plain": [
       "count    25000.000000\n",
       "mean        94.884233\n",
       "std         44.902982\n",
       "min          0.000000\n",
       "25%         59.217876\n",
       "50%         94.979468\n",
       "75%        130.568416\n",
       "max        190.010982\n",
       "Name: product, dtype: float64"
      ]
     },
     "metadata": {},
     "output_type": "display_data"
    }
   ],
   "source": [
    "target_valid_0.hist(bins=100)\n",
    "plt.show()\n",
    "model_0_results[6].hist(bins=100)\n",
    "plt.show()\n",
    "display (target_valid_0.describe())\n",
    "\n",
    "target_valid_1.hist(bins=100)\n",
    "plt.show()\n",
    "model_1_results[6].hist(bins=100)\n",
    "plt.show()\n",
    "display (target_valid_1.describe())\n",
    "\n",
    "target_valid_2.hist(bins=100)\n",
    "plt.show()\n",
    "model_2_results[6].hist(bins=100)\n",
    "plt.show()\n",
    "display (target_valid_2.describe())"
   ]
  },
  {
   "cell_type": "markdown",
   "metadata": {},
   "source": [
    "Предсказания в 1 и 3 регионах имеют нормальное распределение. Во 2-м регионе - дискретное "
   ]
  },
  {
   "cell_type": "markdown",
   "metadata": {},
   "source": [
    "## Подготовка к расчёту прибыли"
   ]
  },
  {
   "cell_type": "markdown",
   "metadata": {},
   "source": [
    "### Создадим функцию для расчета прибыли"
   ]
  },
  {
   "cell_type": "code",
   "execution_count": 7,
   "metadata": {},
   "outputs": [],
   "source": [
    "def profit(subsample, target_valid, PROFIT_PER_MBOE, BUDGET):\n",
    "    top_200 = subsample.sort_values(ascending =False)[:200]\n",
    "    top_200_profit =target_valid[top_200.index].sum()*PROFIT_PER_MBOE-BUDGET\n",
    "    return top_200_profit "
   ]
  },
  {
   "cell_type": "markdown",
   "metadata": {},
   "source": [
    "### Расчет объёма сырья для безубыточной разработки новой скважины."
   ]
  },
  {
   "cell_type": "code",
   "execution_count": 8,
   "metadata": {},
   "outputs": [
    {
     "data": {
      "text/plain": [
       "111.11111111111111"
      ]
     },
     "execution_count": 8,
     "metadata": {},
     "output_type": "execute_result"
    }
   ],
   "source": [
    "PROFIT_PER_MBOE = 450000 #доход от тыс. барр.\n",
    "BUDGET = 10**10 # расходы на 200 скважин\n",
    "break_even_per_rig=BUDGET/200/PROFIT_PER_MBOE\n",
    "break_even_per_rig"
   ]
  },
  {
   "cell_type": "markdown",
   "metadata": {},
   "source": [
    "### Вывод\n",
    "Чтобы покрыть инвестиции на одну скважину в среднем скважина должна дать более 111,1 тыс. барр, что выше среднего запаса на скважину в любом из регионов. Разрыв между средними запасами и точкой безубыточности для 1 и 3 региона не более 20 тыс. барр. Большой разрыв у 2 региона. Поэтому 2 регион наименее привлекательный."
   ]
  },
  {
   "cell_type": "markdown",
   "metadata": {},
   "source": [
    "## Расчёт прибыли и рисков "
   ]
  },
  {
   "cell_type": "markdown",
   "metadata": {},
   "source": [
    "### Создание функции для расчёта прибыли и рисков"
   ]
  },
  {
   "cell_type": "code",
   "execution_count": 9,
   "metadata": {},
   "outputs": [],
   "source": [
    "def bootstrap_top_200 (predictions, target_valid):\n",
    "    profit_list=[]\n",
    "    for i in range(1000):\n",
    "        subsample = predictions.sample(n=500, replace=True, random_state=state)\n",
    "        subsample_profit = profit(subsample,target_valid, PROFIT_PER_MBOE, BUDGET)\n",
    "        profit_list.append(subsample_profit)\n",
    "    profit_list = pd.Series(profit_list)\n",
    "    lower = profit_list.quantile(0.025)\n",
    "    upper = profit_list.quantile(0.975)\n",
    "    loss_prob = (profit_list < 0).mean()\n",
    "    return \"Прибыль:\", profit_list.mean(), \"95%-й доверительный интервал:\",'lower:', lower, 'upper:', upper, \"Вероятность убытков:\",loss_prob "
   ]
  },
  {
   "cell_type": "markdown",
   "metadata": {},
   "source": [
    "### Расчет прибыли и рисков для регионов"
   ]
  },
  {
   "cell_type": "code",
   "execution_count": 10,
   "metadata": {},
   "outputs": [
    {
     "name": "stdout",
     "output_type": "stream",
     "text": [
      "('Прибыль:', 396164984.8023711, '95%-й доверительный интервал:', 'lower:', -111215545.89049526, 'upper:', 909766941.5534226, 'Вероятность убытков:', 0.069)\n",
      "('Прибыль:', 461155817.2772397, '95%-й доверительный интервал:', 'lower:', 78050810.7517417, 'upper:', 862952060.2637234, 'Вероятность убытков:', 0.007)\n",
      "('Прибыль:', 392950475.17060447, '95%-й доверительный интервал:', 'lower:', -112227625.37857565, 'upper:', 934562914.5511636, 'Вероятность убытков:', 0.065)\n"
     ]
    }
   ],
   "source": [
    "region_0 = bootstrap_top_200(model_0_results[6],target_valid_0)\n",
    "print (region_0)\n",
    "region_1 = bootstrap_top_200(model_1_results[6],target_valid_1)\n",
    "print (region_1)\n",
    "region_2 = bootstrap_top_200(model_2_results[6],target_valid_2)\n",
    "print (region_2)"
   ]
  },
  {
   "cell_type": "markdown",
   "metadata": {},
   "source": [
    "### Вывод \n",
    "Вероятность убытков везде около 7%. Однако второй регион единственный, у которого нижняя граница 95%-го доверительного интервала в положительной зоне. Поэтому рекомендация разрабатывать месторождение во 2-м регионе. "
   ]
  }
 ],
 "metadata": {
  "ExecuteTimeLog": [
   {
    "duration": 1200,
    "start_time": "2022-03-14T18:54:47.524Z"
   },
   {
    "duration": 478,
    "start_time": "2022-03-14T18:55:13.779Z"
   },
   {
    "duration": 470,
    "start_time": "2022-03-14T18:55:36.571Z"
   },
   {
    "duration": 799,
    "start_time": "2022-03-14T18:55:56.251Z"
   },
   {
    "duration": 466,
    "start_time": "2022-03-14T18:56:08.883Z"
   },
   {
    "duration": 484,
    "start_time": "2022-03-14T18:57:41.060Z"
   },
   {
    "duration": 454,
    "start_time": "2022-03-14T18:57:58.763Z"
   },
   {
    "duration": 479,
    "start_time": "2022-03-14T18:58:06.115Z"
   },
   {
    "duration": 497,
    "start_time": "2022-03-14T18:58:35.463Z"
   },
   {
    "duration": 1273,
    "start_time": "2022-03-15T20:38:22.797Z"
   },
   {
    "duration": 560,
    "start_time": "2022-03-15T20:41:15.112Z"
   },
   {
    "duration": 739,
    "start_time": "2022-03-15T21:19:45.501Z"
   },
   {
    "duration": 279,
    "start_time": "2022-03-15T21:46:29.198Z"
   },
   {
    "duration": 176,
    "start_time": "2022-03-15T21:46:43.296Z"
   },
   {
    "duration": 164,
    "start_time": "2022-03-15T21:46:54.870Z"
   },
   {
    "duration": 150,
    "start_time": "2022-03-15T21:49:47.596Z"
   },
   {
    "duration": 187,
    "start_time": "2022-03-15T21:52:03.075Z"
   },
   {
    "duration": 8,
    "start_time": "2022-03-15T21:52:30.532Z"
   },
   {
    "duration": 17,
    "start_time": "2022-03-15T21:54:16.191Z"
   },
   {
    "duration": 294,
    "start_time": "2022-03-15T21:58:00.435Z"
   },
   {
    "duration": 232,
    "start_time": "2022-03-15T21:58:17.455Z"
   },
   {
    "duration": 85,
    "start_time": "2022-03-15T21:58:32.131Z"
   },
   {
    "duration": 200,
    "start_time": "2022-03-15T21:59:41.159Z"
   },
   {
    "duration": 183,
    "start_time": "2022-03-15T21:59:55.204Z"
   },
   {
    "duration": 82,
    "start_time": "2022-03-15T22:01:06.153Z"
   },
   {
    "duration": 183,
    "start_time": "2022-03-15T22:01:09.918Z"
   },
   {
    "duration": 53,
    "start_time": "2022-03-15T22:02:34.749Z"
   },
   {
    "duration": 218,
    "start_time": "2022-03-15T22:03:38.721Z"
   },
   {
    "duration": 56,
    "start_time": "2022-03-15T22:04:30.426Z"
   },
   {
    "duration": 57,
    "start_time": "2022-03-15T22:04:56.580Z"
   },
   {
    "duration": 174,
    "start_time": "2022-03-15T22:05:05.176Z"
   },
   {
    "duration": 2690,
    "start_time": "2022-03-18T19:19:16.311Z"
   },
   {
    "duration": 93,
    "start_time": "2022-03-18T19:19:19.004Z"
   },
   {
    "duration": 0,
    "start_time": "2022-03-18T19:19:19.100Z"
   },
   {
    "duration": 0,
    "start_time": "2022-03-18T19:19:19.102Z"
   },
   {
    "duration": 234,
    "start_time": "2022-03-18T19:19:39.639Z"
   },
   {
    "duration": 545,
    "start_time": "2022-03-18T19:20:03.484Z"
   },
   {
    "duration": 68,
    "start_time": "2022-03-18T19:20:10.124Z"
   },
   {
    "duration": 27,
    "start_time": "2022-03-18T19:20:14.079Z"
   },
   {
    "duration": 81,
    "start_time": "2022-03-18T19:21:05.218Z"
   },
   {
    "duration": 91,
    "start_time": "2022-03-18T19:21:12.595Z"
   },
   {
    "duration": 66,
    "start_time": "2022-03-18T19:21:19.719Z"
   },
   {
    "duration": 5,
    "start_time": "2022-03-18T19:34:53.798Z"
   },
   {
    "duration": 18,
    "start_time": "2022-03-18T19:34:59.180Z"
   },
   {
    "duration": 73,
    "start_time": "2022-03-18T19:35:33.741Z"
   },
   {
    "duration": 70,
    "start_time": "2022-03-18T19:35:47.947Z"
   },
   {
    "duration": 72,
    "start_time": "2022-03-18T19:35:52.666Z"
   },
   {
    "duration": 68,
    "start_time": "2022-03-18T19:36:34.983Z"
   },
   {
    "duration": 3029,
    "start_time": "2022-03-19T06:37:23.107Z"
   },
   {
    "duration": 4,
    "start_time": "2022-03-19T06:37:26.139Z"
   },
   {
    "duration": 95,
    "start_time": "2022-03-19T06:37:26.146Z"
   },
   {
    "duration": 165,
    "start_time": "2022-03-19T06:37:26.244Z"
   },
   {
    "duration": 2121,
    "start_time": "2022-03-19T07:17:46.904Z"
   },
   {
    "duration": 4,
    "start_time": "2022-03-19T07:17:49.028Z"
   },
   {
    "duration": 93,
    "start_time": "2022-03-19T07:17:49.035Z"
   },
   {
    "duration": 151,
    "start_time": "2022-03-19T07:17:49.132Z"
   },
   {
    "duration": 13,
    "start_time": "2022-03-19T07:18:11.377Z"
   },
   {
    "duration": 13,
    "start_time": "2022-03-19T07:37:03.234Z"
   },
   {
    "duration": 532,
    "start_time": "2022-03-19T07:39:13.820Z"
   },
   {
    "duration": 14,
    "start_time": "2022-03-19T07:39:21.557Z"
   },
   {
    "duration": 564,
    "start_time": "2022-03-19T07:39:46.659Z"
   },
   {
    "duration": 17,
    "start_time": "2022-03-19T07:39:52.719Z"
   },
   {
    "duration": 66,
    "start_time": "2022-03-19T07:42:06.055Z"
   },
   {
    "duration": 13,
    "start_time": "2022-03-19T07:42:12.264Z"
   },
   {
    "duration": 19,
    "start_time": "2022-03-19T07:42:40.337Z"
   },
   {
    "duration": 33,
    "start_time": "2022-03-19T07:42:46.764Z"
   },
   {
    "duration": 553,
    "start_time": "2022-03-19T07:44:00.339Z"
   },
   {
    "duration": 560,
    "start_time": "2022-03-19T07:45:30.244Z"
   },
   {
    "duration": 4,
    "start_time": "2022-03-19T07:45:30.807Z"
   },
   {
    "duration": 84,
    "start_time": "2022-03-19T07:45:30.814Z"
   },
   {
    "duration": 27,
    "start_time": "2022-03-19T07:45:33.166Z"
   },
   {
    "duration": 23,
    "start_time": "2022-03-19T07:45:41.162Z"
   },
   {
    "duration": 20,
    "start_time": "2022-03-19T07:46:01.930Z"
   },
   {
    "duration": 14,
    "start_time": "2022-03-19T07:56:22.390Z"
   },
   {
    "duration": 14,
    "start_time": "2022-03-19T07:56:54.463Z"
   },
   {
    "duration": 14,
    "start_time": "2022-03-19T07:58:56.674Z"
   },
   {
    "duration": 5,
    "start_time": "2022-03-19T07:59:02.486Z"
   },
   {
    "duration": 194,
    "start_time": "2022-03-19T07:59:09.798Z"
   },
   {
    "duration": 5,
    "start_time": "2022-03-19T07:59:41.455Z"
   },
   {
    "duration": 251,
    "start_time": "2022-03-19T07:59:43.339Z"
   },
   {
    "duration": 12,
    "start_time": "2022-03-19T08:06:00.268Z"
   },
   {
    "duration": 25,
    "start_time": "2022-03-19T08:06:07.948Z"
   },
   {
    "duration": 5,
    "start_time": "2022-03-19T08:06:20.252Z"
   },
   {
    "duration": 134,
    "start_time": "2022-03-19T08:06:23.271Z"
   },
   {
    "duration": 4,
    "start_time": "2022-03-19T08:06:28.764Z"
   },
   {
    "duration": 5,
    "start_time": "2022-03-19T08:09:04.093Z"
   },
   {
    "duration": 105,
    "start_time": "2022-03-19T08:09:07.201Z"
   },
   {
    "duration": 522,
    "start_time": "2022-03-19T08:26:39.768Z"
   },
   {
    "duration": 203,
    "start_time": "2022-03-19T08:26:50.192Z"
   },
   {
    "duration": 17,
    "start_time": "2022-03-19T08:28:18.078Z"
   },
   {
    "duration": 13,
    "start_time": "2022-03-19T08:28:25.366Z"
   },
   {
    "duration": 101,
    "start_time": "2022-03-19T08:34:28.789Z"
   },
   {
    "duration": 6,
    "start_time": "2022-03-19T08:34:38.342Z"
   },
   {
    "duration": 541,
    "start_time": "2022-03-19T08:34:40.157Z"
   },
   {
    "duration": 344,
    "start_time": "2022-03-19T08:34:49.245Z"
   },
   {
    "duration": 198,
    "start_time": "2022-03-19T08:35:32.191Z"
   },
   {
    "duration": 5,
    "start_time": "2022-03-19T08:38:44.852Z"
   },
   {
    "duration": 222,
    "start_time": "2022-03-19T08:38:46.563Z"
   },
   {
    "duration": 11,
    "start_time": "2022-03-19T09:21:20.152Z"
   },
   {
    "duration": 93,
    "start_time": "2022-03-19T09:22:44.168Z"
   },
   {
    "duration": 5,
    "start_time": "2022-03-19T09:22:53.575Z"
   },
   {
    "duration": 4,
    "start_time": "2022-03-19T09:32:16.870Z"
   },
   {
    "duration": 7,
    "start_time": "2022-03-19T09:32:19.764Z"
   },
   {
    "duration": 531,
    "start_time": "2022-03-19T09:45:18.890Z"
   },
   {
    "duration": 2379,
    "start_time": "2022-03-19T10:33:56.606Z"
   },
   {
    "duration": 4,
    "start_time": "2022-03-19T10:33:58.988Z"
   },
   {
    "duration": 91,
    "start_time": "2022-03-19T10:33:58.994Z"
   },
   {
    "duration": 7,
    "start_time": "2022-03-19T10:33:59.089Z"
   },
   {
    "duration": 386,
    "start_time": "2022-03-19T10:33:59.098Z"
   },
   {
    "duration": 5,
    "start_time": "2022-03-19T10:33:59.492Z"
   },
   {
    "duration": 105,
    "start_time": "2022-03-19T10:33:59.500Z"
   },
   {
    "duration": 116,
    "start_time": "2022-03-19T10:33:59.608Z"
   },
   {
    "duration": 5,
    "start_time": "2022-03-19T11:02:48.740Z"
   },
   {
    "duration": 620,
    "start_time": "2022-03-19T11:02:50.067Z"
   },
   {
    "duration": 6,
    "start_time": "2022-03-19T11:03:45.907Z"
   },
   {
    "duration": 382,
    "start_time": "2022-03-19T11:03:46.403Z"
   },
   {
    "duration": 5,
    "start_time": "2022-03-19T11:04:58.267Z"
   },
   {
    "duration": 349,
    "start_time": "2022-03-19T11:05:10.835Z"
   },
   {
    "duration": 759,
    "start_time": "2022-03-19T11:05:26.467Z"
   },
   {
    "duration": 618,
    "start_time": "2022-03-19T11:06:05.370Z"
   },
   {
    "duration": 439,
    "start_time": "2022-03-19T11:09:24.346Z"
   },
   {
    "duration": 5,
    "start_time": "2022-03-19T11:09:37.434Z"
   },
   {
    "duration": 5,
    "start_time": "2022-03-19T11:09:40.434Z"
   },
   {
    "duration": 380,
    "start_time": "2022-03-19T11:09:40.906Z"
   },
   {
    "duration": 580,
    "start_time": "2022-03-19T11:14:30.410Z"
   },
   {
    "duration": 429,
    "start_time": "2022-03-19T11:14:39.761Z"
   },
   {
    "duration": 498,
    "start_time": "2022-03-19T11:15:16.288Z"
   },
   {
    "duration": 6,
    "start_time": "2022-03-19T11:15:35.088Z"
   },
   {
    "duration": 439,
    "start_time": "2022-03-19T11:15:57.747Z"
   },
   {
    "duration": 310,
    "start_time": "2022-03-19T11:16:39.491Z"
   },
   {
    "duration": 357,
    "start_time": "2022-03-19T11:16:55.136Z"
   },
   {
    "duration": 559,
    "start_time": "2022-03-19T12:14:29.094Z"
   },
   {
    "duration": 4,
    "start_time": "2022-03-19T12:14:29.684Z"
   },
   {
    "duration": 62,
    "start_time": "2022-03-19T12:14:29.690Z"
   },
   {
    "duration": 6,
    "start_time": "2022-03-19T12:14:29.783Z"
   },
   {
    "duration": 573,
    "start_time": "2022-03-19T12:14:51.265Z"
   },
   {
    "duration": 4,
    "start_time": "2022-03-19T12:14:51.840Z"
   },
   {
    "duration": 91,
    "start_time": "2022-03-19T12:14:51.846Z"
   },
   {
    "duration": 2261,
    "start_time": "2022-03-19T12:15:04.236Z"
   },
   {
    "duration": 4,
    "start_time": "2022-03-19T12:15:06.500Z"
   },
   {
    "duration": 105,
    "start_time": "2022-03-19T12:15:06.507Z"
   },
   {
    "duration": 6,
    "start_time": "2022-03-19T12:15:06.615Z"
   },
   {
    "duration": 368,
    "start_time": "2022-03-19T12:15:06.624Z"
   },
   {
    "duration": 89,
    "start_time": "2022-03-19T12:15:06.995Z"
   },
   {
    "duration": 7,
    "start_time": "2022-03-19T12:15:07.088Z"
   },
   {
    "duration": 7,
    "start_time": "2022-03-19T12:15:07.185Z"
   },
   {
    "duration": 11,
    "start_time": "2022-03-19T12:15:07.195Z"
   },
   {
    "duration": 443,
    "start_time": "2022-03-19T12:16:00.544Z"
   },
   {
    "duration": 401,
    "start_time": "2022-03-19T12:16:44.593Z"
   },
   {
    "duration": 316,
    "start_time": "2022-03-19T12:26:22.280Z"
   },
   {
    "duration": 442,
    "start_time": "2022-03-19T12:26:32.148Z"
   },
   {
    "duration": 341,
    "start_time": "2022-03-19T12:29:03.944Z"
   },
   {
    "duration": 142,
    "start_time": "2022-03-19T16:06:09.843Z"
   },
   {
    "duration": 12,
    "start_time": "2022-03-19T16:06:29.436Z"
   },
   {
    "duration": 5,
    "start_time": "2022-03-19T16:07:49.581Z"
   },
   {
    "duration": 248,
    "start_time": "2022-03-19T16:07:51.539Z"
   },
   {
    "duration": 4,
    "start_time": "2022-03-19T16:08:13.260Z"
   },
   {
    "duration": 11,
    "start_time": "2022-03-19T16:08:15.501Z"
   },
   {
    "duration": 15,
    "start_time": "2022-03-19T16:08:33.914Z"
   },
   {
    "duration": 16,
    "start_time": "2022-03-19T16:08:48.361Z"
   },
   {
    "duration": 9,
    "start_time": "2022-03-19T16:08:53.258Z"
   },
   {
    "duration": 14,
    "start_time": "2022-03-19T16:32:40.963Z"
   },
   {
    "duration": 15,
    "start_time": "2022-03-19T16:32:48.658Z"
   },
   {
    "duration": 11,
    "start_time": "2022-03-19T17:06:52.649Z"
   },
   {
    "duration": 16,
    "start_time": "2022-03-19T17:06:58.336Z"
   },
   {
    "duration": 4,
    "start_time": "2022-03-19T17:13:43.056Z"
   },
   {
    "duration": 16,
    "start_time": "2022-03-19T17:23:47.205Z"
   },
   {
    "duration": 16,
    "start_time": "2022-03-19T17:24:05.709Z"
   },
   {
    "duration": 383,
    "start_time": "2022-03-19T17:24:46.604Z"
   },
   {
    "duration": 374,
    "start_time": "2022-03-19T17:24:53.110Z"
   },
   {
    "duration": 4,
    "start_time": "2022-03-19T17:37:41.416Z"
   },
   {
    "duration": 33,
    "start_time": "2022-03-19T17:37:42.080Z"
   },
   {
    "duration": 7,
    "start_time": "2022-03-19T17:41:45.255Z"
   },
   {
    "duration": 533,
    "start_time": "2022-03-19T17:50:47.610Z"
   },
   {
    "duration": 323,
    "start_time": "2022-03-19T17:54:23.763Z"
   },
   {
    "duration": 10,
    "start_time": "2022-03-19T17:54:53.075Z"
   },
   {
    "duration": 15,
    "start_time": "2022-03-19T17:56:28.003Z"
   },
   {
    "duration": 27,
    "start_time": "2022-03-19T17:56:50.162Z"
   },
   {
    "duration": 11,
    "start_time": "2022-03-19T17:57:09.203Z"
   },
   {
    "duration": 5,
    "start_time": "2022-03-19T18:01:18.689Z"
   },
   {
    "duration": 10,
    "start_time": "2022-03-19T18:05:25.117Z"
   },
   {
    "duration": 5,
    "start_time": "2022-03-19T18:06:45.544Z"
   },
   {
    "duration": 8,
    "start_time": "2022-03-19T18:06:51.136Z"
   },
   {
    "duration": 8,
    "start_time": "2022-03-19T18:06:57.979Z"
   },
   {
    "duration": 6,
    "start_time": "2022-03-19T18:07:48.360Z"
   },
   {
    "duration": 21,
    "start_time": "2022-03-19T18:08:20.312Z"
   },
   {
    "duration": 65,
    "start_time": "2022-03-19T18:13:20.318Z"
   },
   {
    "duration": 96,
    "start_time": "2022-03-19T18:13:29.990Z"
   },
   {
    "duration": 67,
    "start_time": "2022-03-19T18:21:32.172Z"
   },
   {
    "duration": 2087,
    "start_time": "2022-03-19T18:23:32.797Z"
   },
   {
    "duration": 3,
    "start_time": "2022-03-19T18:23:34.887Z"
   },
   {
    "duration": 74,
    "start_time": "2022-03-19T18:23:34.892Z"
   },
   {
    "duration": 6,
    "start_time": "2022-03-19T18:23:34.983Z"
   },
   {
    "duration": 101,
    "start_time": "2022-03-19T18:23:34.992Z"
   },
   {
    "duration": 499,
    "start_time": "2022-03-19T18:23:35.185Z"
   },
   {
    "duration": 5,
    "start_time": "2022-03-19T18:23:35.686Z"
   },
   {
    "duration": 154,
    "start_time": "2022-03-19T18:23:35.694Z"
   },
   {
    "duration": 0,
    "start_time": "2022-03-19T18:23:35.851Z"
   },
   {
    "duration": 0,
    "start_time": "2022-03-19T18:23:35.853Z"
   },
   {
    "duration": 0,
    "start_time": "2022-03-19T18:23:35.855Z"
   },
   {
    "duration": 0,
    "start_time": "2022-03-19T18:23:35.858Z"
   },
   {
    "duration": 0,
    "start_time": "2022-03-19T18:23:35.859Z"
   },
   {
    "duration": 0,
    "start_time": "2022-03-19T18:23:35.883Z"
   },
   {
    "duration": 0,
    "start_time": "2022-03-19T18:23:35.886Z"
   },
   {
    "duration": 6,
    "start_time": "2022-03-19T18:24:41.213Z"
   },
   {
    "duration": 10,
    "start_time": "2022-03-19T18:24:48.375Z"
   },
   {
    "duration": 12,
    "start_time": "2022-03-19T18:24:48.388Z"
   },
   {
    "duration": 16,
    "start_time": "2022-03-19T18:24:48.402Z"
   },
   {
    "duration": 8,
    "start_time": "2022-03-19T18:24:48.421Z"
   },
   {
    "duration": 13,
    "start_time": "2022-03-19T18:24:48.431Z"
   },
   {
    "duration": 39,
    "start_time": "2022-03-19T18:24:48.446Z"
   },
   {
    "duration": 13,
    "start_time": "2022-03-19T18:24:48.488Z"
   },
   {
    "duration": 5,
    "start_time": "2022-03-19T18:28:10.351Z"
   },
   {
    "duration": 548,
    "start_time": "2022-03-19T18:33:06.660Z"
   },
   {
    "duration": 502,
    "start_time": "2022-03-19T18:33:27.516Z"
   },
   {
    "duration": 501,
    "start_time": "2022-03-19T18:33:36.149Z"
   },
   {
    "duration": 2037,
    "start_time": "2022-03-19T19:37:51.385Z"
   },
   {
    "duration": 4,
    "start_time": "2022-03-19T19:37:53.425Z"
   },
   {
    "duration": 94,
    "start_time": "2022-03-19T19:37:53.432Z"
   },
   {
    "duration": 6,
    "start_time": "2022-03-19T19:37:53.530Z"
   },
   {
    "duration": 149,
    "start_time": "2022-03-19T19:37:53.539Z"
   },
   {
    "duration": 496,
    "start_time": "2022-03-19T19:37:53.691Z"
   },
   {
    "duration": 93,
    "start_time": "2022-03-19T19:37:54.191Z"
   },
   {
    "duration": 8,
    "start_time": "2022-03-19T19:37:54.287Z"
   },
   {
    "duration": 5,
    "start_time": "2022-03-19T19:37:54.297Z"
   },
   {
    "duration": 6,
    "start_time": "2022-03-19T19:37:54.305Z"
   },
   {
    "duration": 9,
    "start_time": "2022-03-19T19:37:54.313Z"
   },
   {
    "duration": 5,
    "start_time": "2022-03-19T19:37:54.324Z"
   },
   {
    "duration": 7,
    "start_time": "2022-03-19T19:37:54.331Z"
   },
   {
    "duration": 110,
    "start_time": "2022-03-19T19:37:54.340Z"
   },
   {
    "duration": 0,
    "start_time": "2022-03-19T19:37:54.452Z"
   },
   {
    "duration": 248,
    "start_time": "2022-03-19T19:57:00.921Z"
   },
   {
    "duration": 14,
    "start_time": "2022-03-19T19:57:14.840Z"
   },
   {
    "duration": 11,
    "start_time": "2022-03-19T19:57:25.000Z"
   },
   {
    "duration": 35,
    "start_time": "2022-03-19T20:06:04.637Z"
   },
   {
    "duration": 7,
    "start_time": "2022-03-19T20:07:07.231Z"
   },
   {
    "duration": 125,
    "start_time": "2022-03-19T20:08:27.673Z"
   },
   {
    "duration": 7,
    "start_time": "2022-03-19T20:08:54.142Z"
   },
   {
    "duration": 7,
    "start_time": "2022-03-19T20:09:55.973Z"
   },
   {
    "duration": 6,
    "start_time": "2022-03-19T20:21:29.010Z"
   },
   {
    "duration": 3,
    "start_time": "2022-03-19T20:21:32.084Z"
   },
   {
    "duration": 320,
    "start_time": "2022-03-19T20:22:50.974Z"
   },
   {
    "duration": 1467,
    "start_time": "2022-03-19T20:24:20.728Z"
   },
   {
    "duration": 50,
    "start_time": "2022-03-19T20:45:48.913Z"
   },
   {
    "duration": 364,
    "start_time": "2022-03-19T20:46:10.062Z"
   },
   {
    "duration": 414,
    "start_time": "2022-03-19T20:46:20.774Z"
   },
   {
    "duration": 1311,
    "start_time": "2022-03-19T20:46:39.959Z"
   },
   {
    "duration": 1209,
    "start_time": "2022-03-19T20:50:00.310Z"
   },
   {
    "duration": 1318,
    "start_time": "2022-03-19T20:50:22.523Z"
   },
   {
    "duration": 1247,
    "start_time": "2022-03-19T20:51:05.419Z"
   },
   {
    "duration": 1521,
    "start_time": "2022-03-19T20:58:59.337Z"
   },
   {
    "duration": 1834,
    "start_time": "2022-03-19T20:59:41.761Z"
   },
   {
    "duration": 2615,
    "start_time": "2022-03-19T21:07:51.273Z"
   },
   {
    "duration": 2657,
    "start_time": "2022-03-19T21:11:00.340Z"
   },
   {
    "duration": 18,
    "start_time": "2022-03-19T21:15:41.331Z"
   },
   {
    "duration": 7,
    "start_time": "2022-03-19T21:18:05.337Z"
   },
   {
    "duration": 17,
    "start_time": "2022-03-19T21:18:23.872Z"
   },
   {
    "duration": 6,
    "start_time": "2022-03-19T21:19:59.108Z"
   },
   {
    "duration": 1500,
    "start_time": "2022-03-19T21:20:13.553Z"
   },
   {
    "duration": 2421,
    "start_time": "2022-03-19T21:21:48.486Z"
   },
   {
    "duration": 76,
    "start_time": "2022-03-19T21:21:50.918Z"
   },
   {
    "duration": 5,
    "start_time": "2022-03-19T21:21:50.996Z"
   },
   {
    "duration": 9,
    "start_time": "2022-03-19T21:21:51.004Z"
   },
   {
    "duration": 373,
    "start_time": "2022-03-19T21:21:51.016Z"
   },
   {
    "duration": 2857,
    "start_time": "2022-03-19T21:21:51.393Z"
   },
   {
    "duration": 5,
    "start_time": "2022-03-19T21:21:54.252Z"
   },
   {
    "duration": 9,
    "start_time": "2022-03-19T21:21:54.259Z"
   },
   {
    "duration": 4,
    "start_time": "2022-03-19T21:21:54.284Z"
   },
   {
    "duration": 8,
    "start_time": "2022-03-19T21:21:54.291Z"
   },
   {
    "duration": 10,
    "start_time": "2022-03-19T21:21:54.301Z"
   },
   {
    "duration": 6,
    "start_time": "2022-03-19T21:21:54.313Z"
   },
   {
    "duration": 11,
    "start_time": "2022-03-19T21:21:54.321Z"
   },
   {
    "duration": 7,
    "start_time": "2022-03-19T21:21:54.334Z"
   },
   {
    "duration": 1663,
    "start_time": "2022-03-19T21:21:54.343Z"
   },
   {
    "duration": 12,
    "start_time": "2022-03-19T21:26:00.798Z"
   },
   {
    "duration": 10,
    "start_time": "2022-03-19T21:29:27.997Z"
   },
   {
    "duration": 516,
    "start_time": "2022-03-19T21:29:59.501Z"
   },
   {
    "duration": 85,
    "start_time": "2022-03-19T21:30:00.020Z"
   },
   {
    "duration": 6,
    "start_time": "2022-03-19T21:30:00.107Z"
   },
   {
    "duration": 20,
    "start_time": "2022-03-19T21:30:00.116Z"
   },
   {
    "duration": 254,
    "start_time": "2022-03-19T21:30:00.138Z"
   },
   {
    "duration": 2757,
    "start_time": "2022-03-19T21:30:00.395Z"
   },
   {
    "duration": 4,
    "start_time": "2022-03-19T21:30:03.154Z"
   },
   {
    "duration": 24,
    "start_time": "2022-03-19T21:30:03.161Z"
   },
   {
    "duration": 12,
    "start_time": "2022-03-19T21:30:08.970Z"
   },
   {
    "duration": 2470,
    "start_time": "2022-03-19T21:30:20.929Z"
   },
   {
    "duration": 68,
    "start_time": "2022-03-19T21:30:23.401Z"
   },
   {
    "duration": 6,
    "start_time": "2022-03-19T21:30:23.484Z"
   },
   {
    "duration": 7,
    "start_time": "2022-03-19T21:30:23.492Z"
   },
   {
    "duration": 297,
    "start_time": "2022-03-19T21:30:23.502Z"
   },
   {
    "duration": 2632,
    "start_time": "2022-03-19T21:30:23.886Z"
   },
   {
    "duration": 4,
    "start_time": "2022-03-19T21:30:26.521Z"
   },
   {
    "duration": 9,
    "start_time": "2022-03-19T21:30:26.528Z"
   },
   {
    "duration": 12,
    "start_time": "2022-03-19T21:30:26.539Z"
   },
   {
    "duration": 7,
    "start_time": "2022-03-19T21:30:26.583Z"
   },
   {
    "duration": 164,
    "start_time": "2022-03-19T21:30:26.592Z"
   },
   {
    "duration": 0,
    "start_time": "2022-03-19T21:30:26.759Z"
   },
   {
    "duration": 11,
    "start_time": "2022-03-19T21:32:39.052Z"
   },
   {
    "duration": 10,
    "start_time": "2022-03-19T21:42:12.397Z"
   },
   {
    "duration": 7,
    "start_time": "2022-03-19T21:42:19.807Z"
   },
   {
    "duration": 16,
    "start_time": "2022-03-19T21:43:07.375Z"
   },
   {
    "duration": 7,
    "start_time": "2022-03-19T21:43:48.412Z"
   },
   {
    "duration": 16,
    "start_time": "2022-03-19T21:44:19.260Z"
   },
   {
    "duration": 7,
    "start_time": "2022-03-19T21:44:59.857Z"
   },
   {
    "duration": 6,
    "start_time": "2022-03-19T21:45:12.383Z"
   },
   {
    "duration": 1104,
    "start_time": "2022-03-19T21:46:04.749Z"
   },
   {
    "duration": 1060,
    "start_time": "2022-03-19T21:46:22.003Z"
   },
   {
    "duration": 1039,
    "start_time": "2022-03-19T21:46:29.664Z"
   },
   {
    "duration": 3159,
    "start_time": "2022-03-19T21:47:09.590Z"
   },
   {
    "duration": 343,
    "start_time": "2022-03-19T21:51:36.553Z"
   },
   {
    "duration": 256,
    "start_time": "2022-03-19T21:51:49.534Z"
   },
   {
    "duration": 7,
    "start_time": "2022-03-19T22:00:28.960Z"
   },
   {
    "duration": 7,
    "start_time": "2022-03-19T22:00:44.917Z"
   },
   {
    "duration": 3175,
    "start_time": "2022-03-19T22:00:57.209Z"
   },
   {
    "duration": 2429,
    "start_time": "2022-03-19T22:04:45.575Z"
   },
   {
    "duration": 82,
    "start_time": "2022-03-19T22:04:48.007Z"
   },
   {
    "duration": 5,
    "start_time": "2022-03-19T22:04:48.092Z"
   },
   {
    "duration": 6,
    "start_time": "2022-03-19T22:04:48.100Z"
   },
   {
    "duration": 280,
    "start_time": "2022-03-19T22:04:48.110Z"
   },
   {
    "duration": 2923,
    "start_time": "2022-03-19T22:04:48.394Z"
   },
   {
    "duration": 5,
    "start_time": "2022-03-19T22:04:51.319Z"
   },
   {
    "duration": 17,
    "start_time": "2022-03-19T22:04:51.326Z"
   },
   {
    "duration": 19,
    "start_time": "2022-03-19T22:04:51.345Z"
   },
   {
    "duration": 18,
    "start_time": "2022-03-19T22:04:51.367Z"
   },
   {
    "duration": 3253,
    "start_time": "2022-03-19T22:04:51.387Z"
   },
   {
    "duration": 7,
    "start_time": "2022-03-19T22:14:55.528Z"
   },
   {
    "duration": 6,
    "start_time": "2022-03-19T22:20:20.591Z"
   },
   {
    "duration": 2783,
    "start_time": "2022-03-19T22:20:33.614Z"
   },
   {
    "duration": 108,
    "start_time": "2022-03-19T22:20:36.401Z"
   },
   {
    "duration": 8,
    "start_time": "2022-03-19T22:20:36.511Z"
   },
   {
    "duration": 16,
    "start_time": "2022-03-19T22:20:36.523Z"
   },
   {
    "duration": 342,
    "start_time": "2022-03-19T22:20:36.542Z"
   },
   {
    "duration": 3874,
    "start_time": "2022-03-19T22:20:36.888Z"
   },
   {
    "duration": 23,
    "start_time": "2022-03-19T22:20:40.764Z"
   },
   {
    "duration": 10,
    "start_time": "2022-03-19T22:20:40.790Z"
   },
   {
    "duration": 11,
    "start_time": "2022-03-19T22:20:40.803Z"
   },
   {
    "duration": 12,
    "start_time": "2022-03-19T22:20:40.818Z"
   },
   {
    "duration": 3299,
    "start_time": "2022-03-19T22:20:40.832Z"
   },
   {
    "duration": 1714,
    "start_time": "2022-03-20T11:04:57.873Z"
   },
   {
    "duration": 394,
    "start_time": "2022-03-20T11:04:59.589Z"
   },
   {
    "duration": 49,
    "start_time": "2022-03-20T11:04:59.985Z"
   },
   {
    "duration": 4,
    "start_time": "2022-03-20T11:05:00.037Z"
   },
   {
    "duration": 327,
    "start_time": "2022-03-20T11:05:00.042Z"
   },
   {
    "duration": 1693,
    "start_time": "2022-03-20T11:05:00.372Z"
   },
   {
    "duration": 3,
    "start_time": "2022-03-20T11:05:02.067Z"
   },
   {
    "duration": 8,
    "start_time": "2022-03-20T11:05:02.072Z"
   },
   {
    "duration": 146,
    "start_time": "2022-03-20T11:19:52.561Z"
   },
   {
    "duration": 6,
    "start_time": "2022-03-20T11:21:39.499Z"
   },
   {
    "duration": 5,
    "start_time": "2022-03-20T11:22:20.891Z"
   },
   {
    "duration": 103,
    "start_time": "2022-03-20T11:23:43.498Z"
   },
   {
    "duration": 3,
    "start_time": "2022-03-20T11:24:46.891Z"
   },
   {
    "duration": 14,
    "start_time": "2022-03-20T11:24:55.334Z"
   },
   {
    "duration": 6,
    "start_time": "2022-03-20T11:39:18.225Z"
   },
   {
    "duration": 18,
    "start_time": "2022-03-20T11:39:19.959Z"
   },
   {
    "duration": 5,
    "start_time": "2022-03-20T11:40:01.697Z"
   },
   {
    "duration": 4,
    "start_time": "2022-03-20T11:40:07.291Z"
   },
   {
    "duration": 19,
    "start_time": "2022-03-20T11:40:13.037Z"
   },
   {
    "duration": 5,
    "start_time": "2022-03-20T11:40:20.235Z"
   },
   {
    "duration": 1023,
    "start_time": "2022-03-20T11:40:20.243Z"
   },
   {
    "duration": 45,
    "start_time": "2022-03-20T11:40:21.268Z"
   },
   {
    "duration": 388,
    "start_time": "2022-03-20T11:40:21.315Z"
   },
   {
    "duration": 273,
    "start_time": "2022-03-20T11:40:21.705Z"
   },
   {
    "duration": 1690,
    "start_time": "2022-03-20T11:40:21.982Z"
   },
   {
    "duration": 3,
    "start_time": "2022-03-20T11:40:23.673Z"
   },
   {
    "duration": 10,
    "start_time": "2022-03-20T11:40:23.678Z"
   },
   {
    "duration": 9,
    "start_time": "2022-03-20T11:40:23.689Z"
   },
   {
    "duration": 26,
    "start_time": "2022-03-20T11:40:23.700Z"
   },
   {
    "duration": 6,
    "start_time": "2022-03-20T11:41:37.240Z"
   },
   {
    "duration": 2559,
    "start_time": "2022-03-20T11:41:41.313Z"
   },
   {
    "duration": 1802,
    "start_time": "2022-03-20T11:48:58.820Z"
   },
   {
    "duration": 428,
    "start_time": "2022-03-20T11:49:00.625Z"
   },
   {
    "duration": 61,
    "start_time": "2022-03-20T11:49:01.055Z"
   },
   {
    "duration": 4,
    "start_time": "2022-03-20T11:49:01.118Z"
   },
   {
    "duration": 244,
    "start_time": "2022-03-20T11:49:01.125Z"
   },
   {
    "duration": 2337,
    "start_time": "2022-03-20T11:49:01.371Z"
   },
   {
    "duration": 5,
    "start_time": "2022-03-20T11:49:03.710Z"
   },
   {
    "duration": 8,
    "start_time": "2022-03-20T11:49:03.717Z"
   },
   {
    "duration": 6,
    "start_time": "2022-03-20T11:49:03.727Z"
   },
   {
    "duration": 1971,
    "start_time": "2022-03-20T11:49:03.735Z"
   },
   {
    "duration": 1672,
    "start_time": "2022-03-20T11:54:07.561Z"
   },
   {
    "duration": 556,
    "start_time": "2022-03-20T11:54:09.235Z"
   },
   {
    "duration": 88,
    "start_time": "2022-03-20T11:54:09.793Z"
   },
   {
    "duration": 5,
    "start_time": "2022-03-20T11:54:09.883Z"
   },
   {
    "duration": 388,
    "start_time": "2022-03-20T11:54:09.891Z"
   },
   {
    "duration": 1864,
    "start_time": "2022-03-20T11:54:10.281Z"
   },
   {
    "duration": 4,
    "start_time": "2022-03-20T11:54:12.147Z"
   },
   {
    "duration": 15,
    "start_time": "2022-03-20T11:54:12.162Z"
   },
   {
    "duration": 23,
    "start_time": "2022-03-20T11:54:12.179Z"
   },
   {
    "duration": 2278,
    "start_time": "2022-03-20T11:54:12.205Z"
   }
  ],
  "kernelspec": {
   "display_name": "Python 3 (ipykernel)",
   "language": "python",
   "name": "python3"
  },
  "language_info": {
   "codemirror_mode": {
    "name": "ipython",
    "version": 3
   },
   "file_extension": ".py",
   "mimetype": "text/x-python",
   "name": "python",
   "nbconvert_exporter": "python",
   "pygments_lexer": "ipython3",
   "version": "3.9.12"
  },
  "toc": {
   "base_numbering": 1,
   "nav_menu": {},
   "number_sections": true,
   "sideBar": true,
   "skip_h1_title": true,
   "title_cell": "Table of Contents",
   "title_sidebar": "Contents",
   "toc_cell": false,
   "toc_position": {},
   "toc_section_display": true,
   "toc_window_display": true
  }
 },
 "nbformat": 4,
 "nbformat_minor": 2
}
