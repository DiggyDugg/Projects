{
 "cells": [
  {
   "cell_type": "markdown",
   "metadata": {
    "toc": true
   },
   "source": [
    "<h1>Содержание<span class=\"tocSkip\"></span></h1>\n",
    "<div class=\"toc\"><ul class=\"toc-item\"><li><span><a href=\"#Загрузка-данных\" data-toc-modified-id=\"Загрузка-данных-1\"><span class=\"toc-item-num\">1&nbsp;&nbsp;</span>Загрузка данных</a></span></li><li><span><a href=\"#Теоретическое-обоснование-преобразований\" data-toc-modified-id=\"Теоретическое-обоснование-преобразований-2\"><span class=\"toc-item-num\">2&nbsp;&nbsp;</span>Теоретическое обоснование преобразований</a></span></li><li><span><a href=\"#Алгоритм-преобразования\" data-toc-modified-id=\"Алгоритм-преобразования-3\"><span class=\"toc-item-num\">3&nbsp;&nbsp;</span>Алгоритм преобразования</a></span><ul class=\"toc-item\"><li><span><a href=\"#Посчитаем-матрицу-XP\" data-toc-modified-id=\"Посчитаем-матрицу-XP-3.1\"><span class=\"toc-item-num\">3.1&nbsp;&nbsp;</span>Посчитаем матрицу XP</a></span></li><li><span><a href=\"#Посчитаем-качество-модели-на-исходных-данных\" data-toc-modified-id=\"Посчитаем-качество-модели-на-исходных-данных-3.2\"><span class=\"toc-item-num\">3.2&nbsp;&nbsp;</span>Посчитаем качество модели на исходных данных</a></span><ul class=\"toc-item\"><li><span><a href=\"#Выделим-признаки-для-обучения\" data-toc-modified-id=\"Выделим-признаки-для-обучения-3.2.1\"><span class=\"toc-item-num\">3.2.1&nbsp;&nbsp;</span>Выделим признаки для обучения</a></span></li><li><span><a href=\"#Выделим-целевой-признак\" data-toc-modified-id=\"Выделим-целевой-признак-3.2.2\"><span class=\"toc-item-num\">3.2.2&nbsp;&nbsp;</span>Выделим целевой признак</a></span></li><li><span><a href=\"#Обучим-модель,-и-оценим-ее-качество\" data-toc-modified-id=\"Обучим-модель,-и-оценим-ее-качество-3.2.3\"><span class=\"toc-item-num\">3.2.3&nbsp;&nbsp;</span>Обучим модель, и оценим ее качество</a></span></li></ul></li></ul></li><li><span><a href=\"#Проверка-алгоритма\" data-toc-modified-id=\"Проверка-алгоритма-4\"><span class=\"toc-item-num\">4&nbsp;&nbsp;</span>Проверка алгоритма</a></span><ul class=\"toc-item\"><li><span><a href=\"#Посчитаем-качество-модели-на-закодированных-данных\" data-toc-modified-id=\"Посчитаем-качество-модели-на-закодированных-данных-4.1\"><span class=\"toc-item-num\">4.1&nbsp;&nbsp;</span>Посчитаем качество модели на закодированных данных</a></span><ul class=\"toc-item\"><li><span><a href=\"#Выделим-признаки-для-обучения\" data-toc-modified-id=\"Выделим-признаки-для-обучения-4.1.1\"><span class=\"toc-item-num\">4.1.1&nbsp;&nbsp;</span>Выделим признаки для обучения</a></span></li><li><span><a href=\"#Обучим-модель-и-оценим-ее-качество\" data-toc-modified-id=\"Обучим-модель-и-оценим-ее-качество-4.1.2\"><span class=\"toc-item-num\">4.1.2&nbsp;&nbsp;</span>Обучим модель и оценим ее качество</a></span></li></ul></li></ul></li></ul></div>"
   ]
  },
  {
   "cell_type": "markdown",
   "metadata": {},
   "source": [
    "# Защита персональных данных клиентов"
   ]
  },
  {
   "cell_type": "markdown",
   "metadata": {},
   "source": [
    "# Постановка задачи"
   ]
  },
  {
   "cell_type": "markdown",
   "metadata": {},
   "source": [
    "Нужно защитить данные клиентов страховой компании. Разработайте такой метод преобразования данных, чтобы по ним было сложно восстановить персональную информацию. Обоснуйте корректность его работы."
   ]
  },
  {
   "cell_type": "markdown",
   "metadata": {},
   "source": [
    "# Данные"
   ]
  },
  {
   "cell_type": "markdown",
   "metadata": {},
   "source": [
    "Признаки: пол, возраст и зарплата застрахованного, количество членов его семьи.\n",
    "Целевой признак: количество страховых выплат клиенту за последние 5 лет."
   ]
  },
  {
   "cell_type": "markdown",
   "metadata": {},
   "source": [
    "## Загрузка данных"
   ]
  },
  {
   "cell_type": "code",
   "execution_count": 1,
   "metadata": {},
   "outputs": [],
   "source": [
    "import pandas as pd\n",
    "import numpy as np\n",
    "from numpy.random import RandomState\n",
    "from sklearn.model_selection import train_test_split\n",
    "from sklearn.preprocessing import StandardScaler\n",
    "from sklearn.linear_model import LinearRegression\n",
    "from sklearn.metrics import r2_score"
   ]
  },
  {
   "cell_type": "code",
   "execution_count": 2,
   "metadata": {},
   "outputs": [],
   "source": [
    "STATE = 12345"
   ]
  },
  {
   "cell_type": "code",
   "execution_count": 3,
   "metadata": {},
   "outputs": [
    {
     "name": "stdout",
     "output_type": "stream",
     "text": [
      "<class 'pandas.core.frame.DataFrame'>\n",
      "RangeIndex: 5000 entries, 0 to 4999\n",
      "Data columns (total 5 columns):\n",
      " #   Column             Non-Null Count  Dtype  \n",
      "---  ------             --------------  -----  \n",
      " 0   Пол                5000 non-null   int64  \n",
      " 1   Возраст            5000 non-null   float64\n",
      " 2   Зарплата           5000 non-null   float64\n",
      " 3   Члены семьи        5000 non-null   int64  \n",
      " 4   Страховые выплаты  5000 non-null   int64  \n",
      "dtypes: float64(2), int64(3)\n",
      "memory usage: 195.4 KB\n"
     ]
    },
    {
     "data": {
      "text/html": [
       "<div>\n",
       "<style scoped>\n",
       "    .dataframe tbody tr th:only-of-type {\n",
       "        vertical-align: middle;\n",
       "    }\n",
       "\n",
       "    .dataframe tbody tr th {\n",
       "        vertical-align: top;\n",
       "    }\n",
       "\n",
       "    .dataframe thead th {\n",
       "        text-align: right;\n",
       "    }\n",
       "</style>\n",
       "<table border=\"1\" class=\"dataframe\">\n",
       "  <thead>\n",
       "    <tr style=\"text-align: right;\">\n",
       "      <th></th>\n",
       "      <th>Пол</th>\n",
       "      <th>Возраст</th>\n",
       "      <th>Зарплата</th>\n",
       "      <th>Члены семьи</th>\n",
       "      <th>Страховые выплаты</th>\n",
       "    </tr>\n",
       "  </thead>\n",
       "  <tbody>\n",
       "    <tr>\n",
       "      <th>0</th>\n",
       "      <td>1</td>\n",
       "      <td>41.0</td>\n",
       "      <td>49600.0</td>\n",
       "      <td>1</td>\n",
       "      <td>0</td>\n",
       "    </tr>\n",
       "    <tr>\n",
       "      <th>1</th>\n",
       "      <td>0</td>\n",
       "      <td>46.0</td>\n",
       "      <td>38000.0</td>\n",
       "      <td>1</td>\n",
       "      <td>1</td>\n",
       "    </tr>\n",
       "    <tr>\n",
       "      <th>2</th>\n",
       "      <td>0</td>\n",
       "      <td>29.0</td>\n",
       "      <td>21000.0</td>\n",
       "      <td>0</td>\n",
       "      <td>0</td>\n",
       "    </tr>\n",
       "    <tr>\n",
       "      <th>3</th>\n",
       "      <td>0</td>\n",
       "      <td>21.0</td>\n",
       "      <td>41700.0</td>\n",
       "      <td>2</td>\n",
       "      <td>0</td>\n",
       "    </tr>\n",
       "    <tr>\n",
       "      <th>4</th>\n",
       "      <td>1</td>\n",
       "      <td>28.0</td>\n",
       "      <td>26100.0</td>\n",
       "      <td>0</td>\n",
       "      <td>0</td>\n",
       "    </tr>\n",
       "  </tbody>\n",
       "</table>\n",
       "</div>"
      ],
      "text/plain": [
       "   Пол  Возраст  Зарплата  Члены семьи  Страховые выплаты\n",
       "0    1     41.0   49600.0            1                  0\n",
       "1    0     46.0   38000.0            1                  1\n",
       "2    0     29.0   21000.0            0                  0\n",
       "3    0     21.0   41700.0            2                  0\n",
       "4    1     28.0   26100.0            0                  0"
      ]
     },
     "execution_count": 3,
     "metadata": {},
     "output_type": "execute_result"
    }
   ],
   "source": [
    "df = pd.read_csv('/datasets/insurance.csv')\n",
    "df.info()\n",
    "df.shape\n",
    "df.head()"
   ]
  },
  {
   "cell_type": "markdown",
   "metadata": {},
   "source": [
    "## Теоретическое обоснование преобразований"
   ]
  },
  {
   "cell_type": "markdown",
   "metadata": {},
   "source": [
    "Обозначения:\n",
    "\n",
    "- $X$ — матрица признаков (нулевой столбец состоит из единиц)\n",
    "\n",
    "- $y$ — вектор целевого признака\n",
    "\n",
    "- $P$ — матрица, на которую умножаются признаки\n",
    "\n",
    "- $w$ — вектор весов линейной регрессии (нулевой элемент равен сдвигу)"
   ]
  },
  {
   "cell_type": "markdown",
   "metadata": {},
   "source": [
    "**Гипотеза:** если признаки умножить на обратимую матрицу, качество линейной регрессии не изменится \n",
    "\n",
    "**Обоснование:** поскольку умножение на обратимую матрицу является линейным преобразованием, не меняющим линейные зависимости между признаками и целевым признкаом, то модель линейной регрессии учится на преобразованных данных с такой же точночностью, что и до преобразования."
   ]
  },
  {
   "cell_type": "markdown",
   "metadata": {},
   "source": [
    "Предсказания:\n",
    "\n",
    "$$\n",
    "a = Xw\n",
    "$$\n",
    "\n",
    "Задача обучения:\n",
    "\n",
    "$$\n",
    "w = \\arg\\min_w MSE(Xw, y)\n",
    "$$\n",
    "\n",
    "Формула обучения:\n",
    "\n",
    "$$\n",
    "w = (X^T X)^{-1} X^T y\n",
    "$$\n",
    "\n",
    "Требуется доказать, что  если $Х = XP$, где P - квадратная обратимая матрица, то предсказания $a = Xw$ не изменятся. Заменим в формуле вектора весов $Х$  на $XP$:\n",
    "$$\n",
    "w = ((XP)^T XP)^{-1} (XP)^T y\n",
    "$$\n",
    "Используя свойство $(AB)^T = B^T A^T$, запишем\n",
    "$w = (P^T Х^T XP)^{-1} P^T X^T y$.  \n",
    "Учитывая что в скобках - 3 матрицы квадратные обратимые:$P^T, Х^TX и P$ используем свойство:\n",
    "$(A B)^{-1} = B^{-1} A^{-1}$  \n",
    "$w = (P)^{-1} (Х^TX)^{-1} (P^T)^{-1} P^T X^T y$.\n",
    "Так как $(P^T)^{-1} P^T = 1$  \n",
    "$w = (P)^{-1} (Х^TX)^{-1} X^T y$  \n",
    "Подставим в формулу расчета предсказаний  \n",
    "$a = XPw = X P (P)^{-1} (Х^T X)^{-1} X^T y$ \n",
    "так как \n",
    "$P (P)^{-1} = 1$  \n",
    "$a = X (Х^T X)^{-1} X^T = Xw$\n"
   ]
  },
  {
   "cell_type": "markdown",
   "metadata": {},
   "source": [
    "## Алгоритм преобразования"
   ]
  },
  {
   "cell_type": "markdown",
   "metadata": {},
   "source": [
    "### Посчитаем матрицу XP"
   ]
  },
  {
   "cell_type": "markdown",
   "metadata": {},
   "source": [
    "Преобразуем датафрейм в матрицу, исключим последний столбец с целевым признаком"
   ]
  },
  {
   "cell_type": "code",
   "execution_count": 4,
   "metadata": {},
   "outputs": [
    {
     "data": {
      "text/plain": [
       "(5000, 4)"
      ]
     },
     "execution_count": 4,
     "metadata": {},
     "output_type": "execute_result"
    }
   ],
   "source": [
    "X = df.iloc[:,:-1].values\n",
    "X.shape"
   ]
  },
  {
   "cell_type": "markdown",
   "metadata": {},
   "source": [
    "Создадим случайную квадратную матрицу и проверим ее на обратимость. Размер ее 4 * 4, чтобы можно было умножить на первноначальную матрицу 5000*4"
   ]
  },
  {
   "cell_type": "code",
   "execution_count": 5,
   "metadata": {},
   "outputs": [
    {
     "data": {
      "text/plain": [
       "array([[-0.3840361 ,  0.20803752,  0.3807728 ,  0.78359209],\n",
       "       [-2.33722356, -0.31765328,  0.98454262,  0.10862054],\n",
       "       [-1.8174773 ,  2.31777848,  1.68044956, -0.96094644],\n",
       "       [ 0.53090468, -1.63951729, -0.03425082, -1.24976788]])"
      ]
     },
     "metadata": {},
     "output_type": "display_data"
    },
    {
     "data": {
      "text/plain": [
       "(4, 4)"
      ]
     },
     "metadata": {},
     "output_type": "display_data"
    },
    {
     "data": {
      "text/plain": [
       "array([[ 0.95322375, -0.59554607,  0.14183179,  0.43684696],\n",
       "       [-0.38275276, -0.15799621,  0.1714369 , -0.38553187],\n",
       "       [ 2.04549731, -0.44535585,  0.41141867,  0.92745974],\n",
       "       [ 0.85099063, -0.03351572, -0.17592549, -0.13422972]])"
      ]
     },
     "execution_count": 5,
     "metadata": {},
     "output_type": "execute_result"
    }
   ],
   "source": [
    "P = np.random.normal(size = (4,4)) \n",
    "display(P)\n",
    "display(P.shape)\n",
    "P_inv = np.linalg.inv(P)\n",
    "P_inv"
   ]
  },
  {
   "cell_type": "code",
   "execution_count": 6,
   "metadata": {},
   "outputs": [
    {
     "data": {
      "text/plain": [
       "(5000, 4)"
      ]
     },
     "execution_count": 6,
     "metadata": {},
     "output_type": "execute_result"
    }
   ],
   "source": [
    "B = X @ P\n",
    "B.shape"
   ]
  },
  {
   "cell_type": "markdown",
   "metadata": {},
   "source": [
    "### Посчитаем качество модели на исходных данных"
   ]
  },
  {
   "cell_type": "markdown",
   "metadata": {},
   "source": [
    "#### Выделим признаки для обучения"
   ]
  },
  {
   "cell_type": "code",
   "execution_count": 7,
   "metadata": {},
   "outputs": [
    {
     "data": {
      "text/html": [
       "<div>\n",
       "<style scoped>\n",
       "    .dataframe tbody tr th:only-of-type {\n",
       "        vertical-align: middle;\n",
       "    }\n",
       "\n",
       "    .dataframe tbody tr th {\n",
       "        vertical-align: top;\n",
       "    }\n",
       "\n",
       "    .dataframe thead th {\n",
       "        text-align: right;\n",
       "    }\n",
       "</style>\n",
       "<table border=\"1\" class=\"dataframe\">\n",
       "  <thead>\n",
       "    <tr style=\"text-align: right;\">\n",
       "      <th></th>\n",
       "      <th>Пол</th>\n",
       "      <th>Возраст</th>\n",
       "      <th>Зарплата</th>\n",
       "      <th>Члены семьи</th>\n",
       "    </tr>\n",
       "  </thead>\n",
       "  <tbody>\n",
       "    <tr>\n",
       "      <th>0</th>\n",
       "      <td>1</td>\n",
       "      <td>41.0</td>\n",
       "      <td>49600.0</td>\n",
       "      <td>1</td>\n",
       "    </tr>\n",
       "    <tr>\n",
       "      <th>1</th>\n",
       "      <td>0</td>\n",
       "      <td>46.0</td>\n",
       "      <td>38000.0</td>\n",
       "      <td>1</td>\n",
       "    </tr>\n",
       "    <tr>\n",
       "      <th>2</th>\n",
       "      <td>0</td>\n",
       "      <td>29.0</td>\n",
       "      <td>21000.0</td>\n",
       "      <td>0</td>\n",
       "    </tr>\n",
       "    <tr>\n",
       "      <th>3</th>\n",
       "      <td>0</td>\n",
       "      <td>21.0</td>\n",
       "      <td>41700.0</td>\n",
       "      <td>2</td>\n",
       "    </tr>\n",
       "    <tr>\n",
       "      <th>4</th>\n",
       "      <td>1</td>\n",
       "      <td>28.0</td>\n",
       "      <td>26100.0</td>\n",
       "      <td>0</td>\n",
       "    </tr>\n",
       "    <tr>\n",
       "      <th>...</th>\n",
       "      <td>...</td>\n",
       "      <td>...</td>\n",
       "      <td>...</td>\n",
       "      <td>...</td>\n",
       "    </tr>\n",
       "    <tr>\n",
       "      <th>4995</th>\n",
       "      <td>0</td>\n",
       "      <td>28.0</td>\n",
       "      <td>35700.0</td>\n",
       "      <td>2</td>\n",
       "    </tr>\n",
       "    <tr>\n",
       "      <th>4996</th>\n",
       "      <td>0</td>\n",
       "      <td>34.0</td>\n",
       "      <td>52400.0</td>\n",
       "      <td>1</td>\n",
       "    </tr>\n",
       "    <tr>\n",
       "      <th>4997</th>\n",
       "      <td>0</td>\n",
       "      <td>20.0</td>\n",
       "      <td>33900.0</td>\n",
       "      <td>2</td>\n",
       "    </tr>\n",
       "    <tr>\n",
       "      <th>4998</th>\n",
       "      <td>1</td>\n",
       "      <td>22.0</td>\n",
       "      <td>32700.0</td>\n",
       "      <td>3</td>\n",
       "    </tr>\n",
       "    <tr>\n",
       "      <th>4999</th>\n",
       "      <td>1</td>\n",
       "      <td>28.0</td>\n",
       "      <td>40600.0</td>\n",
       "      <td>1</td>\n",
       "    </tr>\n",
       "  </tbody>\n",
       "</table>\n",
       "<p>5000 rows × 4 columns</p>\n",
       "</div>"
      ],
      "text/plain": [
       "      Пол  Возраст  Зарплата  Члены семьи\n",
       "0       1     41.0   49600.0            1\n",
       "1       0     46.0   38000.0            1\n",
       "2       0     29.0   21000.0            0\n",
       "3       0     21.0   41700.0            2\n",
       "4       1     28.0   26100.0            0\n",
       "...   ...      ...       ...          ...\n",
       "4995    0     28.0   35700.0            2\n",
       "4996    0     34.0   52400.0            1\n",
       "4997    0     20.0   33900.0            2\n",
       "4998    1     22.0   32700.0            3\n",
       "4999    1     28.0   40600.0            1\n",
       "\n",
       "[5000 rows x 4 columns]"
      ]
     },
     "execution_count": 7,
     "metadata": {},
     "output_type": "execute_result"
    }
   ],
   "source": [
    "features = df.drop(columns='Страховые выплаты', axis =1)\n",
    "features"
   ]
  },
  {
   "cell_type": "markdown",
   "metadata": {},
   "source": [
    "#### Выделим целевой признак"
   ]
  },
  {
   "cell_type": "code",
   "execution_count": 8,
   "metadata": {},
   "outputs": [
    {
     "data": {
      "text/plain": [
       "0       0\n",
       "1       1\n",
       "2       0\n",
       "3       0\n",
       "4       0\n",
       "       ..\n",
       "4995    0\n",
       "4996    0\n",
       "4997    0\n",
       "4998    0\n",
       "4999    0\n",
       "Name: Страховые выплаты, Length: 5000, dtype: int64"
      ]
     },
     "execution_count": 8,
     "metadata": {},
     "output_type": "execute_result"
    }
   ],
   "source": [
    "target = df['Страховые выплаты']\n",
    "target"
   ]
  },
  {
   "cell_type": "markdown",
   "metadata": {},
   "source": [
    "#### Обучим модель, и оценим ее качество"
   ]
  },
  {
   "cell_type": "code",
   "execution_count": 9,
   "metadata": {},
   "outputs": [
    {
     "data": {
      "text/plain": [
       "0.42494550286668"
      ]
     },
     "execution_count": 9,
     "metadata": {},
     "output_type": "execute_result"
    }
   ],
   "source": [
    "model = LinearRegression()\n",
    "model.fit(features, target)\n",
    "predictions = model.predict(features)\n",
    "score = r2_score(target, predictions)\n",
    "score"
   ]
  },
  {
   "cell_type": "markdown",
   "metadata": {},
   "source": [
    "## Проверка алгоритма"
   ]
  },
  {
   "cell_type": "markdown",
   "metadata": {},
   "source": [
    "### Посчитаем качество модели на закодированных данных"
   ]
  },
  {
   "cell_type": "code",
   "execution_count": 10,
   "metadata": {},
   "outputs": [
    {
     "data": {
      "text/html": [
       "<div>\n",
       "<style scoped>\n",
       "    .dataframe tbody tr th:only-of-type {\n",
       "        vertical-align: middle;\n",
       "    }\n",
       "\n",
       "    .dataframe tbody tr th {\n",
       "        vertical-align: top;\n",
       "    }\n",
       "\n",
       "    .dataframe thead th {\n",
       "        text-align: right;\n",
       "    }\n",
       "</style>\n",
       "<table border=\"1\" class=\"dataframe\">\n",
       "  <thead>\n",
       "    <tr style=\"text-align: right;\">\n",
       "      <th></th>\n",
       "      <th>Пол</th>\n",
       "      <th>Возраст</th>\n",
       "      <th>Зарплата</th>\n",
       "      <th>Члены семьи</th>\n",
       "    </tr>\n",
       "  </thead>\n",
       "  <tbody>\n",
       "    <tr>\n",
       "      <th>0</th>\n",
       "      <td>-90242.553144</td>\n",
       "      <td>114947.357429</td>\n",
       "      <td>83391.010980</td>\n",
       "      <td>-47658.956323</td>\n",
       "    </tr>\n",
       "    <tr>\n",
       "      <th>1</th>\n",
       "      <td>-69171.118600</td>\n",
       "      <td>88059.330737</td>\n",
       "      <td>63902.338016</td>\n",
       "      <td>-36512.218070</td>\n",
       "    </tr>\n",
       "    <tr>\n",
       "      <th>2</th>\n",
       "      <td>-38234.802684</td>\n",
       "      <td>48664.136171</td>\n",
       "      <td>35317.992511</td>\n",
       "      <td>-20176.725314</td>\n",
       "    </tr>\n",
       "    <tr>\n",
       "      <th>3</th>\n",
       "      <td>-75836.823099</td>\n",
       "      <td>96641.412934</td>\n",
       "      <td>70095.353574</td>\n",
       "      <td>-40071.685191</td>\n",
       "    </tr>\n",
       "    <tr>\n",
       "      <th>4</th>\n",
       "      <td>-47501.983703</td>\n",
       "      <td>60485.332119</td>\n",
       "      <td>43887.681500</td>\n",
       "      <td>-25076.877204</td>\n",
       "    </tr>\n",
       "    <tr>\n",
       "      <th>...</th>\n",
       "      <td>...</td>\n",
       "      <td>...</td>\n",
       "      <td>...</td>\n",
       "      <td>...</td>\n",
       "    </tr>\n",
       "    <tr>\n",
       "      <th>4995</th>\n",
       "      <td>-64948.319892</td>\n",
       "      <td>82732.518471</td>\n",
       "      <td>60019.548009</td>\n",
       "      <td>-34305.246188</td>\n",
       "    </tr>\n",
       "    <tr>\n",
       "      <th>4996</th>\n",
       "      <td>-95314.744970</td>\n",
       "      <td>121439.152713</td>\n",
       "      <td>88088.997179</td>\n",
       "      <td>-50351.150300</td>\n",
       "    </tr>\n",
       "    <tr>\n",
       "      <th>4997</th>\n",
       "      <td>-61658.162972</td>\n",
       "      <td>78563.058430</td>\n",
       "      <td>56986.862458</td>\n",
       "      <td>-32576.411554</td>\n",
       "    </tr>\n",
       "    <tr>\n",
       "      <th>4998</th>\n",
       "      <td>-59481.717797</td>\n",
       "      <td>75779.657466</td>\n",
       "      <td>54972.638593</td>\n",
       "      <td>-31423.524757</td>\n",
       "    </tr>\n",
       "    <tr>\n",
       "      <th>4999</th>\n",
       "      <td>-73854.873580</td>\n",
       "      <td>94091.480586</td>\n",
       "      <td>68254.165880</td>\n",
       "      <td>-39011.850400</td>\n",
       "    </tr>\n",
       "  </tbody>\n",
       "</table>\n",
       "<p>5000 rows × 4 columns</p>\n",
       "</div>"
      ],
      "text/plain": [
       "               Пол        Возраст      Зарплата   Члены семьи\n",
       "0    -90242.553144  114947.357429  83391.010980 -47658.956323\n",
       "1    -69171.118600   88059.330737  63902.338016 -36512.218070\n",
       "2    -38234.802684   48664.136171  35317.992511 -20176.725314\n",
       "3    -75836.823099   96641.412934  70095.353574 -40071.685191\n",
       "4    -47501.983703   60485.332119  43887.681500 -25076.877204\n",
       "...            ...            ...           ...           ...\n",
       "4995 -64948.319892   82732.518471  60019.548009 -34305.246188\n",
       "4996 -95314.744970  121439.152713  88088.997179 -50351.150300\n",
       "4997 -61658.162972   78563.058430  56986.862458 -32576.411554\n",
       "4998 -59481.717797   75779.657466  54972.638593 -31423.524757\n",
       "4999 -73854.873580   94091.480586  68254.165880 -39011.850400\n",
       "\n",
       "[5000 rows x 4 columns]"
      ]
     },
     "execution_count": 10,
     "metadata": {},
     "output_type": "execute_result"
    }
   ],
   "source": [
    "df_coded = pd.DataFrame(B, index=df.index, columns=df.columns[:-1])\n",
    "df_coded"
   ]
  },
  {
   "cell_type": "markdown",
   "metadata": {},
   "source": [
    "#### Выделим признаки для обучения"
   ]
  },
  {
   "cell_type": "code",
   "execution_count": 11,
   "metadata": {},
   "outputs": [],
   "source": [
    "features_coded = df_coded"
   ]
  },
  {
   "cell_type": "markdown",
   "metadata": {},
   "source": [
    "#### Обучим модель и оценим ее качество"
   ]
  },
  {
   "cell_type": "code",
   "execution_count": 12,
   "metadata": {},
   "outputs": [
    {
     "data": {
      "text/plain": [
       "0.42494550286669"
      ]
     },
     "execution_count": 12,
     "metadata": {},
     "output_type": "execute_result"
    }
   ],
   "source": [
    "model_coded = LinearRegression()\n",
    "model_coded.fit(features_coded, target)\n",
    "predictions_coded = model_coded.predict(features_coded)\n",
    "score = r2_score(target, predictions_coded)\n",
    "score"
   ]
  },
  {
   "cell_type": "markdown",
   "metadata": {},
   "source": [
    "# Вывод\n",
    "Результат R2 на трансформированных данных -  0.4249455028666803 такой же как на исходных."
   ]
  }
 ],
 "metadata": {
  "ExecuteTimeLog": [
   {
    "duration": 528,
    "start_time": "2022-04-16T16:12:43.213Z"
   },
   {
    "duration": 4,
    "start_time": "2022-04-16T16:13:01.277Z"
   },
   {
    "duration": 95,
    "start_time": "2022-04-16T16:13:48.373Z"
   },
   {
    "duration": 33,
    "start_time": "2022-04-16T16:13:54.189Z"
   },
   {
    "duration": 69,
    "start_time": "2022-04-17T07:14:56.778Z"
   },
   {
    "duration": 522,
    "start_time": "2022-04-17T07:15:07.562Z"
   },
   {
    "duration": 42,
    "start_time": "2022-04-17T07:15:08.086Z"
   },
   {
    "duration": 44,
    "start_time": "2022-04-17T07:15:09.931Z"
   },
   {
    "duration": 13,
    "start_time": "2022-04-17T07:15:20.857Z"
   },
   {
    "duration": 9,
    "start_time": "2022-04-17T07:15:51.993Z"
   },
   {
    "duration": 9,
    "start_time": "2022-04-17T07:15:55.689Z"
   },
   {
    "duration": 6,
    "start_time": "2022-04-17T07:15:58.400Z"
   },
   {
    "duration": 6,
    "start_time": "2022-04-17T07:29:12.820Z"
   },
   {
    "duration": 5,
    "start_time": "2022-04-17T07:29:42.972Z"
   },
   {
    "duration": 45,
    "start_time": "2022-04-17T07:37:06.914Z"
   },
   {
    "duration": 31,
    "start_time": "2022-04-17T07:37:10.330Z"
   },
   {
    "duration": 555,
    "start_time": "2022-04-17T08:17:58.717Z"
   },
   {
    "duration": 10,
    "start_time": "2022-04-17T08:49:52.393Z"
   },
   {
    "duration": 4,
    "start_time": "2022-04-17T08:49:59.995Z"
   },
   {
    "duration": 52,
    "start_time": "2022-04-17T08:50:00.003Z"
   },
   {
    "duration": 28,
    "start_time": "2022-04-17T08:50:00.058Z"
   },
   {
    "duration": 599,
    "start_time": "2022-04-17T08:50:00.088Z"
   },
   {
    "duration": 9,
    "start_time": "2022-04-17T08:50:02.678Z"
   },
   {
    "duration": 5,
    "start_time": "2022-04-17T08:50:45.906Z"
   },
   {
    "duration": 4,
    "start_time": "2022-04-17T08:50:51.170Z"
   },
   {
    "duration": 6,
    "start_time": "2022-04-17T08:50:58.795Z"
   },
   {
    "duration": 23,
    "start_time": "2022-04-17T09:03:03.815Z"
   },
   {
    "duration": 7,
    "start_time": "2022-04-17T09:04:31.852Z"
   },
   {
    "duration": 1043,
    "start_time": "2022-04-17T09:07:17.047Z"
   },
   {
    "duration": 3,
    "start_time": "2022-04-17T09:07:30.585Z"
   },
   {
    "duration": 5,
    "start_time": "2022-04-17T09:10:48.762Z"
   },
   {
    "duration": 4,
    "start_time": "2022-04-17T09:13:41.294Z"
   },
   {
    "duration": 4,
    "start_time": "2022-04-17T09:13:41.730Z"
   },
   {
    "duration": 64,
    "start_time": "2022-04-17T09:14:26.913Z"
   },
   {
    "duration": 11,
    "start_time": "2022-04-17T09:14:41.818Z"
   },
   {
    "duration": 10,
    "start_time": "2022-04-17T09:14:59.690Z"
   },
   {
    "duration": 18,
    "start_time": "2022-04-17T09:16:42.823Z"
   },
   {
    "duration": 6,
    "start_time": "2022-04-17T09:17:18.948Z"
   },
   {
    "duration": 13,
    "start_time": "2022-04-17T09:17:23.633Z"
   },
   {
    "duration": 4,
    "start_time": "2022-04-17T09:30:32.158Z"
   },
   {
    "duration": 11,
    "start_time": "2022-04-17T09:33:30.671Z"
   },
   {
    "duration": 8,
    "start_time": "2022-04-17T09:33:34.378Z"
   },
   {
    "duration": 10,
    "start_time": "2022-04-17T09:33:37.755Z"
   },
   {
    "duration": 13,
    "start_time": "2022-04-17T09:33:59.613Z"
   },
   {
    "duration": 13,
    "start_time": "2022-04-17T09:34:07.161Z"
   },
   {
    "duration": 8,
    "start_time": "2022-04-17T09:34:28.032Z"
   },
   {
    "duration": 14,
    "start_time": "2022-04-17T09:35:50.518Z"
   },
   {
    "duration": 13,
    "start_time": "2022-04-17T09:36:13.031Z"
   },
   {
    "duration": 5,
    "start_time": "2022-04-17T09:36:27.425Z"
   },
   {
    "duration": 6,
    "start_time": "2022-04-17T09:36:27.433Z"
   },
   {
    "duration": 34,
    "start_time": "2022-04-17T09:36:27.441Z"
   },
   {
    "duration": 6,
    "start_time": "2022-04-17T09:36:27.478Z"
   },
   {
    "duration": 6,
    "start_time": "2022-04-17T09:36:27.487Z"
   },
   {
    "duration": 7,
    "start_time": "2022-04-17T09:36:27.495Z"
   },
   {
    "duration": 19,
    "start_time": "2022-04-17T09:36:27.664Z"
   },
   {
    "duration": 7,
    "start_time": "2022-04-17T09:36:27.744Z"
   },
   {
    "duration": 269,
    "start_time": "2022-04-17T09:36:27.755Z"
   },
   {
    "duration": 21,
    "start_time": "2022-04-17T09:36:39.069Z"
   },
   {
    "duration": 21,
    "start_time": "2022-04-17T09:36:49.224Z"
   },
   {
    "duration": 10,
    "start_time": "2022-04-17T09:36:56.083Z"
   },
   {
    "duration": 14,
    "start_time": "2022-04-17T09:37:02.149Z"
   },
   {
    "duration": 10,
    "start_time": "2022-04-17T09:37:44.718Z"
   },
   {
    "duration": 6,
    "start_time": "2022-04-17T09:37:52.675Z"
   },
   {
    "duration": 6,
    "start_time": "2022-04-17T09:37:58.847Z"
   },
   {
    "duration": 27,
    "start_time": "2022-04-17T09:41:25.510Z"
   },
   {
    "duration": 19,
    "start_time": "2022-04-17T09:43:13.474Z"
   },
   {
    "duration": 8,
    "start_time": "2022-04-17T09:43:23.776Z"
   },
   {
    "duration": 19,
    "start_time": "2022-04-17T09:43:47.029Z"
   },
   {
    "duration": 8,
    "start_time": "2022-04-17T09:43:56.053Z"
   },
   {
    "duration": 16,
    "start_time": "2022-04-17T09:44:05.057Z"
   },
   {
    "duration": 4,
    "start_time": "2022-04-17T09:45:55.517Z"
   },
   {
    "duration": 3,
    "start_time": "2022-04-17T09:45:55.527Z"
   },
   {
    "duration": 44,
    "start_time": "2022-04-17T09:45:55.533Z"
   },
   {
    "duration": 7,
    "start_time": "2022-04-17T09:45:55.581Z"
   },
   {
    "duration": 7,
    "start_time": "2022-04-17T09:45:55.591Z"
   },
   {
    "duration": 7,
    "start_time": "2022-04-17T09:45:55.602Z"
   },
   {
    "duration": 21,
    "start_time": "2022-04-17T09:45:55.699Z"
   },
   {
    "duration": 9,
    "start_time": "2022-04-17T09:45:55.724Z"
   },
   {
    "duration": 20,
    "start_time": "2022-04-17T09:45:55.736Z"
   },
   {
    "duration": 11,
    "start_time": "2022-04-17T09:45:55.793Z"
   },
   {
    "duration": 15,
    "start_time": "2022-04-17T09:45:55.807Z"
   },
   {
    "duration": 19,
    "start_time": "2022-04-17T09:45:55.824Z"
   },
   {
    "duration": 54,
    "start_time": "2022-04-17T09:45:55.845Z"
   },
   {
    "duration": 9,
    "start_time": "2022-04-17T09:45:55.902Z"
   },
   {
    "duration": 18,
    "start_time": "2022-04-17T09:45:55.913Z"
   },
   {
    "duration": 8,
    "start_time": "2022-04-17T09:45:55.934Z"
   },
   {
    "duration": 12,
    "start_time": "2022-04-17T09:46:07.679Z"
   },
   {
    "duration": 6,
    "start_time": "2022-04-17T09:50:55.791Z"
   },
   {
    "duration": 7,
    "start_time": "2022-04-17T09:51:10.169Z"
   },
   {
    "duration": 6,
    "start_time": "2022-04-17T09:51:22.472Z"
   },
   {
    "duration": 20,
    "start_time": "2022-04-17T09:51:22.481Z"
   },
   {
    "duration": 8,
    "start_time": "2022-04-17T09:51:22.503Z"
   },
   {
    "duration": 18,
    "start_time": "2022-04-17T09:51:22.514Z"
   },
   {
    "duration": 8,
    "start_time": "2022-04-17T09:51:22.535Z"
   },
   {
    "duration": 56,
    "start_time": "2022-04-17T09:51:22.545Z"
   },
   {
    "duration": 20,
    "start_time": "2022-04-17T09:51:22.603Z"
   },
   {
    "duration": 21,
    "start_time": "2022-04-17T09:51:22.625Z"
   },
   {
    "duration": 45,
    "start_time": "2022-04-17T09:51:22.649Z"
   },
   {
    "duration": 23,
    "start_time": "2022-04-17T09:51:22.696Z"
   },
   {
    "duration": 8,
    "start_time": "2022-04-17T09:51:22.721Z"
   },
   {
    "duration": 13,
    "start_time": "2022-04-17T09:51:22.731Z"
   },
   {
    "duration": 37,
    "start_time": "2022-04-17T09:52:31.776Z"
   },
   {
    "duration": 7,
    "start_time": "2022-04-17T09:55:44.343Z"
   },
   {
    "duration": 25,
    "start_time": "2022-04-17T09:55:44.354Z"
   },
   {
    "duration": 11,
    "start_time": "2022-04-17T09:55:44.382Z"
   },
   {
    "duration": 22,
    "start_time": "2022-04-17T09:55:44.397Z"
   },
   {
    "duration": 11,
    "start_time": "2022-04-17T09:55:44.422Z"
   },
   {
    "duration": 58,
    "start_time": "2022-04-17T09:55:44.436Z"
   },
   {
    "duration": 20,
    "start_time": "2022-04-17T09:55:44.497Z"
   },
   {
    "duration": 21,
    "start_time": "2022-04-17T09:55:44.519Z"
   },
   {
    "duration": 12,
    "start_time": "2022-04-17T09:55:44.543Z"
   },
   {
    "duration": 52,
    "start_time": "2022-04-17T09:55:44.557Z"
   },
   {
    "duration": 8,
    "start_time": "2022-04-17T09:55:44.611Z"
   },
   {
    "duration": 13,
    "start_time": "2022-04-17T09:55:44.621Z"
   },
   {
    "duration": 7,
    "start_time": "2022-04-17T09:55:52.848Z"
   },
   {
    "duration": 1568,
    "start_time": "2022-04-17T09:56:43.818Z"
   },
   {
    "duration": 6,
    "start_time": "2022-04-17T09:56:45.388Z"
   },
   {
    "duration": 50,
    "start_time": "2022-04-17T09:56:45.396Z"
   },
   {
    "duration": 6,
    "start_time": "2022-04-17T09:56:45.449Z"
   },
   {
    "duration": 37,
    "start_time": "2022-04-17T09:56:45.457Z"
   },
   {
    "duration": 8,
    "start_time": "2022-04-17T09:56:45.496Z"
   },
   {
    "duration": 9,
    "start_time": "2022-04-17T09:56:45.506Z"
   },
   {
    "duration": 20,
    "start_time": "2022-04-17T09:56:45.517Z"
   },
   {
    "duration": 58,
    "start_time": "2022-04-17T09:56:45.539Z"
   },
   {
    "duration": 23,
    "start_time": "2022-04-17T09:56:45.600Z"
   },
   {
    "duration": 226,
    "start_time": "2022-04-17T09:56:45.625Z"
   },
   {
    "duration": 0,
    "start_time": "2022-04-17T09:56:45.854Z"
   },
   {
    "duration": 0,
    "start_time": "2022-04-17T09:56:45.855Z"
   },
   {
    "duration": 0,
    "start_time": "2022-04-17T09:56:45.857Z"
   },
   {
    "duration": 0,
    "start_time": "2022-04-17T09:56:45.859Z"
   },
   {
    "duration": 0,
    "start_time": "2022-04-17T09:56:45.860Z"
   },
   {
    "duration": 0,
    "start_time": "2022-04-17T09:56:45.862Z"
   },
   {
    "duration": 0,
    "start_time": "2022-04-17T09:56:45.864Z"
   },
   {
    "duration": 5,
    "start_time": "2022-04-17T09:58:55.230Z"
   },
   {
    "duration": 9,
    "start_time": "2022-04-17T09:58:55.238Z"
   },
   {
    "duration": 53,
    "start_time": "2022-04-17T09:58:55.249Z"
   },
   {
    "duration": 6,
    "start_time": "2022-04-17T09:58:55.305Z"
   },
   {
    "duration": 7,
    "start_time": "2022-04-17T09:58:55.314Z"
   },
   {
    "duration": 8,
    "start_time": "2022-04-17T09:58:55.323Z"
   },
   {
    "duration": 12,
    "start_time": "2022-04-17T09:58:55.333Z"
   },
   {
    "duration": 19,
    "start_time": "2022-04-17T09:58:55.394Z"
   },
   {
    "duration": 10,
    "start_time": "2022-04-17T09:58:55.415Z"
   },
   {
    "duration": 67,
    "start_time": "2022-04-17T09:58:55.427Z"
   },
   {
    "duration": 18,
    "start_time": "2022-04-17T09:59:09.415Z"
   },
   {
    "duration": 3,
    "start_time": "2022-04-17T09:59:13.569Z"
   },
   {
    "duration": 153,
    "start_time": "2022-04-17T09:59:16.800Z"
   },
   {
    "duration": 0,
    "start_time": "2022-04-17T09:59:16.956Z"
   },
   {
    "duration": 0,
    "start_time": "2022-04-17T09:59:16.958Z"
   },
   {
    "duration": 0,
    "start_time": "2022-04-17T09:59:16.960Z"
   },
   {
    "duration": 0,
    "start_time": "2022-04-17T09:59:16.962Z"
   },
   {
    "duration": 0,
    "start_time": "2022-04-17T09:59:16.964Z"
   },
   {
    "duration": 0,
    "start_time": "2022-04-17T09:59:16.966Z"
   },
   {
    "duration": 19,
    "start_time": "2022-04-17T11:46:25.879Z"
   },
   {
    "duration": 20,
    "start_time": "2022-04-17T11:46:41.319Z"
   },
   {
    "duration": 112,
    "start_time": "2022-04-17T11:46:41.396Z"
   },
   {
    "duration": 23,
    "start_time": "2022-04-17T11:46:41.511Z"
   },
   {
    "duration": 7,
    "start_time": "2022-04-17T11:46:41.538Z"
   },
   {
    "duration": 56,
    "start_time": "2022-04-17T11:46:41.547Z"
   },
   {
    "duration": 3,
    "start_time": "2022-04-17T11:46:41.606Z"
   },
   {
    "duration": 15,
    "start_time": "2022-04-17T11:46:41.612Z"
   },
   {
    "duration": 42,
    "start_time": "2022-04-17T11:47:15.353Z"
   },
   {
    "duration": 12,
    "start_time": "2022-04-17T11:48:53.901Z"
   },
   {
    "duration": 1540,
    "start_time": "2022-04-17T11:49:25.786Z"
   },
   {
    "duration": 4,
    "start_time": "2022-04-17T11:49:27.328Z"
   },
   {
    "duration": 53,
    "start_time": "2022-04-17T11:49:27.334Z"
   },
   {
    "duration": 6,
    "start_time": "2022-04-17T11:49:27.390Z"
   },
   {
    "duration": 8,
    "start_time": "2022-04-17T11:49:27.399Z"
   },
   {
    "duration": 5,
    "start_time": "2022-04-17T11:49:27.409Z"
   },
   {
    "duration": 10,
    "start_time": "2022-04-17T11:49:27.416Z"
   },
   {
    "duration": 63,
    "start_time": "2022-04-17T11:49:27.429Z"
   },
   {
    "duration": 8,
    "start_time": "2022-04-17T11:49:27.495Z"
   },
   {
    "duration": 21,
    "start_time": "2022-04-17T11:49:27.507Z"
   },
   {
    "duration": 4,
    "start_time": "2022-04-17T11:49:27.530Z"
   },
   {
    "duration": 157,
    "start_time": "2022-04-17T11:49:27.536Z"
   },
   {
    "duration": 21,
    "start_time": "2022-04-17T11:49:27.696Z"
   },
   {
    "duration": 20,
    "start_time": "2022-04-17T11:49:27.719Z"
   },
   {
    "duration": 10,
    "start_time": "2022-04-17T11:49:27.741Z"
   },
   {
    "duration": 53,
    "start_time": "2022-04-17T11:49:27.753Z"
   },
   {
    "duration": 3,
    "start_time": "2022-04-17T11:49:27.808Z"
   },
   {
    "duration": 82,
    "start_time": "2022-04-17T11:49:27.813Z"
   },
   {
    "duration": 12,
    "start_time": "2022-04-17T11:52:53.322Z"
   },
   {
    "duration": 7,
    "start_time": "2022-04-17T12:34:48.381Z"
   },
   {
    "duration": 7,
    "start_time": "2022-04-17T12:35:23.402Z"
   },
   {
    "duration": 144,
    "start_time": "2022-04-17T12:36:00.673Z"
   },
   {
    "duration": 910,
    "start_time": "2022-04-17T12:36:25.720Z"
   },
   {
    "duration": 10,
    "start_time": "2022-04-17T12:36:27.232Z"
   },
   {
    "duration": 6,
    "start_time": "2022-04-17T12:36:39.632Z"
   },
   {
    "duration": 219,
    "start_time": "2022-04-17T12:38:55.279Z"
   },
   {
    "duration": 224,
    "start_time": "2022-04-17T12:39:16.440Z"
   },
   {
    "duration": 7,
    "start_time": "2022-04-17T12:39:24.224Z"
   },
   {
    "duration": 9,
    "start_time": "2022-04-17T12:39:36.040Z"
   },
   {
    "duration": 9,
    "start_time": "2022-04-17T12:39:39.222Z"
   },
   {
    "duration": 6,
    "start_time": "2022-04-17T12:39:39.944Z"
   },
   {
    "duration": 1556,
    "start_time": "2022-04-17T12:45:30.417Z"
   },
   {
    "duration": 4,
    "start_time": "2022-04-17T12:45:31.976Z"
   },
   {
    "duration": 66,
    "start_time": "2022-04-17T12:45:31.984Z"
   },
   {
    "duration": 7,
    "start_time": "2022-04-17T12:45:32.055Z"
   },
   {
    "duration": 11,
    "start_time": "2022-04-17T12:45:32.065Z"
   },
   {
    "duration": 28,
    "start_time": "2022-04-17T12:45:32.078Z"
   },
   {
    "duration": 184,
    "start_time": "2022-04-17T12:45:32.109Z"
   },
   {
    "duration": 8,
    "start_time": "2022-04-17T12:45:32.295Z"
   },
   {
    "duration": 21,
    "start_time": "2022-04-17T12:45:32.306Z"
   },
   {
    "duration": 3,
    "start_time": "2022-04-17T12:45:32.330Z"
   },
   {
    "duration": 71,
    "start_time": "2022-04-17T12:45:32.335Z"
   },
   {
    "duration": 98,
    "start_time": "2022-04-17T12:45:32.408Z"
   },
   {
    "duration": 17,
    "start_time": "2022-04-17T12:45:32.508Z"
   },
   {
    "duration": 72,
    "start_time": "2022-04-17T12:45:32.527Z"
   },
   {
    "duration": 18,
    "start_time": "2022-04-17T12:45:32.601Z"
   },
   {
    "duration": 3,
    "start_time": "2022-04-17T12:45:32.622Z"
   },
   {
    "duration": 74,
    "start_time": "2022-04-17T12:45:32.627Z"
   },
   {
    "duration": 6,
    "start_time": "2022-04-17T13:00:31.844Z"
   },
   {
    "duration": 19,
    "start_time": "2022-04-17T13:00:52.893Z"
   },
   {
    "duration": 13,
    "start_time": "2022-04-17T13:01:01.829Z"
   },
   {
    "duration": 147,
    "start_time": "2022-04-17T13:01:45.005Z"
   },
   {
    "duration": 11,
    "start_time": "2022-04-17T13:02:01.693Z"
   },
   {
    "duration": 7,
    "start_time": "2022-04-17T13:02:09.841Z"
   },
   {
    "duration": 66,
    "start_time": "2022-04-17T13:05:34.727Z"
   },
   {
    "duration": 1511,
    "start_time": "2022-04-17T13:06:34.822Z"
   },
   {
    "duration": 3,
    "start_time": "2022-04-17T13:06:36.336Z"
   },
   {
    "duration": 51,
    "start_time": "2022-04-17T13:06:36.341Z"
   },
   {
    "duration": 6,
    "start_time": "2022-04-17T13:06:36.394Z"
   },
   {
    "duration": 13,
    "start_time": "2022-04-17T13:06:36.403Z"
   },
   {
    "duration": 80,
    "start_time": "2022-04-17T13:06:36.419Z"
   },
   {
    "duration": 105,
    "start_time": "2022-04-17T13:06:36.502Z"
   },
   {
    "duration": 9,
    "start_time": "2022-04-17T13:06:36.609Z"
   },
   {
    "duration": 6,
    "start_time": "2022-04-17T13:06:36.620Z"
   },
   {
    "duration": 5,
    "start_time": "2022-04-17T13:06:36.680Z"
   },
   {
    "duration": 6,
    "start_time": "2022-04-17T13:06:36.688Z"
   },
   {
    "duration": 31,
    "start_time": "2022-04-17T13:06:36.697Z"
   },
   {
    "duration": 6,
    "start_time": "2022-04-17T13:06:36.731Z"
   },
   {
    "duration": 59,
    "start_time": "2022-04-17T13:06:36.739Z"
   },
   {
    "duration": 92,
    "start_time": "2022-04-17T13:06:36.801Z"
   },
   {
    "duration": 19,
    "start_time": "2022-04-17T13:06:36.895Z"
   },
   {
    "duration": 8,
    "start_time": "2022-04-17T13:06:36.916Z"
   },
   {
    "duration": 5,
    "start_time": "2022-04-17T13:06:36.926Z"
   },
   {
    "duration": 64,
    "start_time": "2022-04-17T13:06:36.935Z"
   },
   {
    "duration": 18,
    "start_time": "2022-04-17T13:06:37.092Z"
   },
   {
    "duration": 18,
    "start_time": "2022-04-17T13:06:37.112Z"
   },
   {
    "duration": 8,
    "start_time": "2022-04-17T13:06:37.132Z"
   },
   {
    "duration": 5,
    "start_time": "2022-04-17T13:06:37.143Z"
   },
   {
    "duration": 55,
    "start_time": "2022-04-17T13:06:37.151Z"
   },
   {
    "duration": 5,
    "start_time": "2022-04-17T13:06:52.095Z"
   },
   {
    "duration": 6,
    "start_time": "2022-04-17T13:06:52.103Z"
   },
   {
    "duration": 41,
    "start_time": "2022-04-17T13:06:52.111Z"
   },
   {
    "duration": 6,
    "start_time": "2022-04-17T13:06:52.154Z"
   },
   {
    "duration": 36,
    "start_time": "2022-04-17T13:06:52.163Z"
   },
   {
    "duration": 7,
    "start_time": "2022-04-17T13:06:52.203Z"
   },
   {
    "duration": 108,
    "start_time": "2022-04-17T13:06:52.294Z"
   },
   {
    "duration": 11,
    "start_time": "2022-04-17T13:06:52.404Z"
   },
   {
    "duration": 5,
    "start_time": "2022-04-17T13:06:52.417Z"
   },
   {
    "duration": 71,
    "start_time": "2022-04-17T13:06:52.424Z"
   },
   {
    "duration": 109,
    "start_time": "2022-04-17T13:06:52.498Z"
   },
   {
    "duration": 23,
    "start_time": "2022-04-17T13:06:52.609Z"
   },
   {
    "duration": 11,
    "start_time": "2022-04-17T13:06:52.634Z"
   },
   {
    "duration": 5,
    "start_time": "2022-04-17T13:06:52.648Z"
   },
   {
    "duration": 139,
    "start_time": "2022-04-17T13:06:52.655Z"
   },
   {
    "duration": 4,
    "start_time": "2022-04-17T13:24:53.377Z"
   },
   {
    "duration": 4,
    "start_time": "2022-04-17T13:24:55.170Z"
   },
   {
    "duration": 3,
    "start_time": "2022-04-17T13:25:02.393Z"
   },
   {
    "duration": 9,
    "start_time": "2022-04-17T14:05:51.320Z"
   },
   {
    "duration": 36,
    "start_time": "2022-04-17T14:06:02.832Z"
   },
   {
    "duration": 8,
    "start_time": "2022-04-17T14:06:06.711Z"
   },
   {
    "duration": 160,
    "start_time": "2022-04-17T14:06:25.378Z"
   },
   {
    "duration": 5,
    "start_time": "2022-04-17T14:06:50.201Z"
   },
   {
    "duration": 22,
    "start_time": "2022-04-17T14:06:59.697Z"
   },
   {
    "duration": 3,
    "start_time": "2022-04-17T14:26:49.618Z"
   },
   {
    "duration": 16,
    "start_time": "2022-04-17T14:27:14.338Z"
   },
   {
    "duration": 17,
    "start_time": "2022-04-17T14:30:33.945Z"
   },
   {
    "duration": 15,
    "start_time": "2022-04-17T14:35:54.169Z"
   },
   {
    "duration": 1561,
    "start_time": "2022-04-17T18:06:03.978Z"
   },
   {
    "duration": 3,
    "start_time": "2022-04-17T18:06:05.542Z"
   },
   {
    "duration": 57,
    "start_time": "2022-04-17T18:06:05.547Z"
   },
   {
    "duration": 7,
    "start_time": "2022-04-17T18:06:05.607Z"
   },
   {
    "duration": 16,
    "start_time": "2022-04-17T18:06:05.617Z"
   },
   {
    "duration": 7,
    "start_time": "2022-04-17T18:06:05.693Z"
   },
   {
    "duration": 103,
    "start_time": "2022-04-17T18:06:05.703Z"
   },
   {
    "duration": 24,
    "start_time": "2022-04-17T18:06:05.808Z"
   },
   {
    "duration": 65,
    "start_time": "2022-04-17T18:06:05.834Z"
   },
   {
    "duration": 106,
    "start_time": "2022-04-17T18:06:05.903Z"
   },
   {
    "duration": 9,
    "start_time": "2022-04-17T18:06:06.011Z"
   },
   {
    "duration": 73,
    "start_time": "2022-04-17T18:06:06.022Z"
   },
   {
    "duration": 16,
    "start_time": "2022-04-17T18:08:55.677Z"
   },
   {
    "duration": 1524,
    "start_time": "2022-04-17T18:12:57.484Z"
   },
   {
    "duration": 4,
    "start_time": "2022-04-17T18:12:59.011Z"
   },
   {
    "duration": 53,
    "start_time": "2022-04-17T18:12:59.018Z"
   },
   {
    "duration": 18,
    "start_time": "2022-04-17T18:12:59.075Z"
   },
   {
    "duration": 19,
    "start_time": "2022-04-17T18:12:59.096Z"
   },
   {
    "duration": 77,
    "start_time": "2022-04-17T18:12:59.118Z"
   },
   {
    "duration": 95,
    "start_time": "2022-04-17T18:12:59.198Z"
   },
   {
    "duration": 7,
    "start_time": "2022-04-17T18:12:59.296Z"
   },
   {
    "duration": 93,
    "start_time": "2022-04-17T18:12:59.305Z"
   },
   {
    "duration": 106,
    "start_time": "2022-04-17T18:12:59.403Z"
   },
   {
    "duration": 5,
    "start_time": "2022-04-17T18:12:59.512Z"
   },
   {
    "duration": 81,
    "start_time": "2022-04-17T18:12:59.519Z"
   }
  ],
  "kernelspec": {
   "display_name": "Python 3 (ipykernel)",
   "language": "python",
   "name": "python3"
  },
  "language_info": {
   "codemirror_mode": {
    "name": "ipython",
    "version": 3
   },
   "file_extension": ".py",
   "mimetype": "text/x-python",
   "name": "python",
   "nbconvert_exporter": "python",
   "pygments_lexer": "ipython3",
   "version": "3.9.12"
  },
  "toc": {
   "base_numbering": 1,
   "nav_menu": {},
   "number_sections": true,
   "sideBar": true,
   "skip_h1_title": true,
   "title_cell": "Содержание",
   "title_sidebar": "Contents",
   "toc_cell": true,
   "toc_position": {},
   "toc_section_display": true,
   "toc_window_display": true
  }
 },
 "nbformat": 4,
 "nbformat_minor": 2
}
