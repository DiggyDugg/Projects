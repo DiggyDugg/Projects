{
 "cells": [
  {
   "cell_type": "markdown",
   "metadata": {
    "toc": true
   },
   "source": [
    "<h1>Содержание<span class=\"tocSkip\"></span></h1>\n",
    "<div class=\"toc\"><ul class=\"toc-item\"><li><span><a href=\"#Подготовка-данных\" data-toc-modified-id=\"Подготовка-данных-1\"><span class=\"toc-item-num\">1&nbsp;&nbsp;</span>Подготовка данных</a></span></li><li><span><a href=\"#Создание-моделей\" data-toc-modified-id=\"Создание-моделей-2\"><span class=\"toc-item-num\">2&nbsp;&nbsp;</span>Создание моделей</a></span><ul class=\"toc-item\"><li><span><a href=\"#Модель-логистической-регрессии\" data-toc-modified-id=\"Модель-логистической-регрессии-2.1\"><span class=\"toc-item-num\">2.1&nbsp;&nbsp;</span>Модель логистической регрессии</a></span></li><li><span><a href=\"#Модель-решающего-дерева\" data-toc-modified-id=\"Модель-решающего-дерева-2.2\"><span class=\"toc-item-num\">2.2&nbsp;&nbsp;</span>Модель решающего дерева</a></span></li><li><span><a href=\"#Модель-случайного-леса\" data-toc-modified-id=\"Модель-случайного-леса-2.3\"><span class=\"toc-item-num\">2.3&nbsp;&nbsp;</span>Модель случайного леса</a></span></li></ul></li><li><span><a href=\"#Борьба-с-дисбалансом\" data-toc-modified-id=\"Борьба-с-дисбалансом-3\"><span class=\"toc-item-num\">3&nbsp;&nbsp;</span>Борьба с дисбалансом</a></span><ul class=\"toc-item\"><li><span><a href=\"#Модель-логистической-регрессии\" data-toc-modified-id=\"Модель-логистической-регрессии-3.1\"><span class=\"toc-item-num\">3.1&nbsp;&nbsp;</span>Модель логистической регрессии</a></span></li><li><span><a href=\"#Модель-решающего-дерева\" data-toc-modified-id=\"Модель-решающего-дерева-3.2\"><span class=\"toc-item-num\">3.2&nbsp;&nbsp;</span>Модель решающего дерева</a></span></li><li><span><a href=\"#Модель-случайного-леса\" data-toc-modified-id=\"Модель-случайного-леса-3.3\"><span class=\"toc-item-num\">3.3&nbsp;&nbsp;</span>Модель случайного леса</a></span></li><li><span><a href=\"#Изменение-порогов-логистической-регрессии\" data-toc-modified-id=\"Изменение-порогов-логистической-регрессии-3.4\"><span class=\"toc-item-num\">3.4&nbsp;&nbsp;</span>Изменение порогов логистической регрессии</a></span></li><li><span><a href=\"#Увеличение-выборки\" data-toc-modified-id=\"Увеличение-выборки-3.5\"><span class=\"toc-item-num\">3.5&nbsp;&nbsp;</span>Увеличение выборки</a></span><ul class=\"toc-item\"><li><span><a href=\"#Логистическая-регрессия\" data-toc-modified-id=\"Логистическая-регрессия-3.5.1\"><span class=\"toc-item-num\">3.5.1&nbsp;&nbsp;</span>Логистическая регрессия</a></span></li><li><span><a href=\"#Решающее-дерево\" data-toc-modified-id=\"Решающее-дерево-3.5.2\"><span class=\"toc-item-num\">3.5.2&nbsp;&nbsp;</span>Решающее дерево</a></span></li><li><span><a href=\"#Случайный-лес\" data-toc-modified-id=\"Случайный-лес-3.5.3\"><span class=\"toc-item-num\">3.5.3&nbsp;&nbsp;</span>Случайный лес</a></span></li></ul></li></ul></li><li><span><a href=\"#Тестирование-модели\" data-toc-modified-id=\"Тестирование-модели-4\"><span class=\"toc-item-num\">4&nbsp;&nbsp;</span>Тестирование модели</a></span><ul class=\"toc-item\"><li><span><a href=\"#Логистическая-регрессия\" data-toc-modified-id=\"Логистическая-регрессия-4.1\"><span class=\"toc-item-num\">4.1&nbsp;&nbsp;</span>Логистическая регрессия</a></span></li><li><span><a href=\"#Модель-решающего-дерева\" data-toc-modified-id=\"Модель-решающего-дерева-4.2\"><span class=\"toc-item-num\">4.2&nbsp;&nbsp;</span>Модель решающего дерева</a></span></li><li><span><a href=\"#Модель-случайного-леса\" data-toc-modified-id=\"Модель-случайного-леса-4.3\"><span class=\"toc-item-num\">4.3&nbsp;&nbsp;</span>Модель случайного леса</a></span></li><li><span><a href=\"#Проверим-модели-на-адекватность\" data-toc-modified-id=\"Проверим-модели-на-адекватность-4.4\"><span class=\"toc-item-num\">4.4&nbsp;&nbsp;</span>Проверим модели на адекватность</a></span></li></ul></li><li><span><a href=\"#Чек-лист-готовности-проекта\" data-toc-modified-id=\"Чек-лист-готовности-проекта-5\"><span class=\"toc-item-num\">5&nbsp;&nbsp;</span>Чек-лист готовности проекта</a></span></li></ul></div>"
   ]
  },
  {
   "cell_type": "markdown",
   "metadata": {},
   "source": [
    "# Отток клиентов"
   ]
  },
  {
   "cell_type": "markdown",
   "metadata": {},
   "source": [
    "Из «Бета-Банка» стали уходить клиенты. Каждый месяц. Немного, но заметно. Банковские маркетологи посчитали: сохранять текущих клиентов дешевле, чем привлекать новых.\n",
    "\n",
    "Нужно спрогнозировать, уйдёт клиент из банка в ближайшее время или нет. Предоставлены исторические данные о поведении клиентов и расторжении договоров с банком. Целевая метрика - F1 не менее 0.59\n",
    "Источник данных: [https://www.kaggle.com/barelydedicated/bank-customer-churn-modeling](https://www.kaggle.com/barelydedicated/bank-customer-churn-modeling)"
   ]
  },
  {
   "cell_type": "markdown",
   "metadata": {},
   "source": [
    "## Подготовка данных"
   ]
  },
  {
   "cell_type": "code",
   "execution_count": 1,
   "metadata": {},
   "outputs": [
    {
     "data": {
      "text/plain": [
       "(10000, 14)"
      ]
     },
     "metadata": {},
     "output_type": "display_data"
    },
    {
     "name": "stdout",
     "output_type": "stream",
     "text": [
      "<class 'pandas.core.frame.DataFrame'>\n",
      "RangeIndex: 10000 entries, 0 to 9999\n",
      "Data columns (total 14 columns):\n",
      "RowNumber          10000 non-null int64\n",
      "CustomerId         10000 non-null int64\n",
      "Surname            10000 non-null object\n",
      "CreditScore        10000 non-null int64\n",
      "Geography          10000 non-null object\n",
      "Gender             10000 non-null object\n",
      "Age                10000 non-null int64\n",
      "Tenure             9091 non-null float64\n",
      "Balance            10000 non-null float64\n",
      "NumOfProducts      10000 non-null int64\n",
      "HasCrCard          10000 non-null int64\n",
      "IsActiveMember     10000 non-null int64\n",
      "EstimatedSalary    10000 non-null float64\n",
      "Exited             10000 non-null int64\n",
      "dtypes: float64(3), int64(8), object(3)\n",
      "memory usage: 1.1+ MB\n"
     ]
    },
    {
     "data": {
      "text/plain": [
       "None"
      ]
     },
     "metadata": {},
     "output_type": "display_data"
    },
    {
     "data": {
      "text/html": [
       "<div>\n",
       "<style scoped>\n",
       "    .dataframe tbody tr th:only-of-type {\n",
       "        vertical-align: middle;\n",
       "    }\n",
       "\n",
       "    .dataframe tbody tr th {\n",
       "        vertical-align: top;\n",
       "    }\n",
       "\n",
       "    .dataframe thead th {\n",
       "        text-align: right;\n",
       "    }\n",
       "</style>\n",
       "<table border=\"1\" class=\"dataframe\">\n",
       "  <thead>\n",
       "    <tr style=\"text-align: right;\">\n",
       "      <th></th>\n",
       "      <th>RowNumber</th>\n",
       "      <th>CustomerId</th>\n",
       "      <th>Surname</th>\n",
       "      <th>CreditScore</th>\n",
       "      <th>Geography</th>\n",
       "      <th>Gender</th>\n",
       "      <th>Age</th>\n",
       "      <th>Tenure</th>\n",
       "      <th>Balance</th>\n",
       "      <th>NumOfProducts</th>\n",
       "      <th>HasCrCard</th>\n",
       "      <th>IsActiveMember</th>\n",
       "      <th>EstimatedSalary</th>\n",
       "      <th>Exited</th>\n",
       "    </tr>\n",
       "  </thead>\n",
       "  <tbody>\n",
       "    <tr>\n",
       "      <td>0</td>\n",
       "      <td>1</td>\n",
       "      <td>15634602</td>\n",
       "      <td>Hargrave</td>\n",
       "      <td>619</td>\n",
       "      <td>France</td>\n",
       "      <td>Female</td>\n",
       "      <td>42</td>\n",
       "      <td>2.0</td>\n",
       "      <td>0.00</td>\n",
       "      <td>1</td>\n",
       "      <td>1</td>\n",
       "      <td>1</td>\n",
       "      <td>101348.88</td>\n",
       "      <td>1</td>\n",
       "    </tr>\n",
       "    <tr>\n",
       "      <td>1</td>\n",
       "      <td>2</td>\n",
       "      <td>15647311</td>\n",
       "      <td>Hill</td>\n",
       "      <td>608</td>\n",
       "      <td>Spain</td>\n",
       "      <td>Female</td>\n",
       "      <td>41</td>\n",
       "      <td>1.0</td>\n",
       "      <td>83807.86</td>\n",
       "      <td>1</td>\n",
       "      <td>0</td>\n",
       "      <td>1</td>\n",
       "      <td>112542.58</td>\n",
       "      <td>0</td>\n",
       "    </tr>\n",
       "    <tr>\n",
       "      <td>2</td>\n",
       "      <td>3</td>\n",
       "      <td>15619304</td>\n",
       "      <td>Onio</td>\n",
       "      <td>502</td>\n",
       "      <td>France</td>\n",
       "      <td>Female</td>\n",
       "      <td>42</td>\n",
       "      <td>8.0</td>\n",
       "      <td>159660.80</td>\n",
       "      <td>3</td>\n",
       "      <td>1</td>\n",
       "      <td>0</td>\n",
       "      <td>113931.57</td>\n",
       "      <td>1</td>\n",
       "    </tr>\n",
       "    <tr>\n",
       "      <td>3</td>\n",
       "      <td>4</td>\n",
       "      <td>15701354</td>\n",
       "      <td>Boni</td>\n",
       "      <td>699</td>\n",
       "      <td>France</td>\n",
       "      <td>Female</td>\n",
       "      <td>39</td>\n",
       "      <td>1.0</td>\n",
       "      <td>0.00</td>\n",
       "      <td>2</td>\n",
       "      <td>0</td>\n",
       "      <td>0</td>\n",
       "      <td>93826.63</td>\n",
       "      <td>0</td>\n",
       "    </tr>\n",
       "    <tr>\n",
       "      <td>4</td>\n",
       "      <td>5</td>\n",
       "      <td>15737888</td>\n",
       "      <td>Mitchell</td>\n",
       "      <td>850</td>\n",
       "      <td>Spain</td>\n",
       "      <td>Female</td>\n",
       "      <td>43</td>\n",
       "      <td>2.0</td>\n",
       "      <td>125510.82</td>\n",
       "      <td>1</td>\n",
       "      <td>1</td>\n",
       "      <td>1</td>\n",
       "      <td>79084.10</td>\n",
       "      <td>0</td>\n",
       "    </tr>\n",
       "    <tr>\n",
       "      <td>5</td>\n",
       "      <td>6</td>\n",
       "      <td>15574012</td>\n",
       "      <td>Chu</td>\n",
       "      <td>645</td>\n",
       "      <td>Spain</td>\n",
       "      <td>Male</td>\n",
       "      <td>44</td>\n",
       "      <td>8.0</td>\n",
       "      <td>113755.78</td>\n",
       "      <td>2</td>\n",
       "      <td>1</td>\n",
       "      <td>0</td>\n",
       "      <td>149756.71</td>\n",
       "      <td>1</td>\n",
       "    </tr>\n",
       "    <tr>\n",
       "      <td>6</td>\n",
       "      <td>7</td>\n",
       "      <td>15592531</td>\n",
       "      <td>Bartlett</td>\n",
       "      <td>822</td>\n",
       "      <td>France</td>\n",
       "      <td>Male</td>\n",
       "      <td>50</td>\n",
       "      <td>7.0</td>\n",
       "      <td>0.00</td>\n",
       "      <td>2</td>\n",
       "      <td>1</td>\n",
       "      <td>1</td>\n",
       "      <td>10062.80</td>\n",
       "      <td>0</td>\n",
       "    </tr>\n",
       "    <tr>\n",
       "      <td>7</td>\n",
       "      <td>8</td>\n",
       "      <td>15656148</td>\n",
       "      <td>Obinna</td>\n",
       "      <td>376</td>\n",
       "      <td>Germany</td>\n",
       "      <td>Female</td>\n",
       "      <td>29</td>\n",
       "      <td>4.0</td>\n",
       "      <td>115046.74</td>\n",
       "      <td>4</td>\n",
       "      <td>1</td>\n",
       "      <td>0</td>\n",
       "      <td>119346.88</td>\n",
       "      <td>1</td>\n",
       "    </tr>\n",
       "    <tr>\n",
       "      <td>8</td>\n",
       "      <td>9</td>\n",
       "      <td>15792365</td>\n",
       "      <td>He</td>\n",
       "      <td>501</td>\n",
       "      <td>France</td>\n",
       "      <td>Male</td>\n",
       "      <td>44</td>\n",
       "      <td>4.0</td>\n",
       "      <td>142051.07</td>\n",
       "      <td>2</td>\n",
       "      <td>0</td>\n",
       "      <td>1</td>\n",
       "      <td>74940.50</td>\n",
       "      <td>0</td>\n",
       "    </tr>\n",
       "    <tr>\n",
       "      <td>9</td>\n",
       "      <td>10</td>\n",
       "      <td>15592389</td>\n",
       "      <td>H?</td>\n",
       "      <td>684</td>\n",
       "      <td>France</td>\n",
       "      <td>Male</td>\n",
       "      <td>27</td>\n",
       "      <td>2.0</td>\n",
       "      <td>134603.88</td>\n",
       "      <td>1</td>\n",
       "      <td>1</td>\n",
       "      <td>1</td>\n",
       "      <td>71725.73</td>\n",
       "      <td>0</td>\n",
       "    </tr>\n",
       "  </tbody>\n",
       "</table>\n",
       "</div>"
      ],
      "text/plain": [
       "   RowNumber  CustomerId   Surname  CreditScore Geography  Gender  Age  \\\n",
       "0          1    15634602  Hargrave          619    France  Female   42   \n",
       "1          2    15647311      Hill          608     Spain  Female   41   \n",
       "2          3    15619304      Onio          502    France  Female   42   \n",
       "3          4    15701354      Boni          699    France  Female   39   \n",
       "4          5    15737888  Mitchell          850     Spain  Female   43   \n",
       "5          6    15574012       Chu          645     Spain    Male   44   \n",
       "6          7    15592531  Bartlett          822    France    Male   50   \n",
       "7          8    15656148    Obinna          376   Germany  Female   29   \n",
       "8          9    15792365        He          501    France    Male   44   \n",
       "9         10    15592389        H?          684    France    Male   27   \n",
       "\n",
       "   Tenure    Balance  NumOfProducts  HasCrCard  IsActiveMember  \\\n",
       "0     2.0       0.00              1          1               1   \n",
       "1     1.0   83807.86              1          0               1   \n",
       "2     8.0  159660.80              3          1               0   \n",
       "3     1.0       0.00              2          0               0   \n",
       "4     2.0  125510.82              1          1               1   \n",
       "5     8.0  113755.78              2          1               0   \n",
       "6     7.0       0.00              2          1               1   \n",
       "7     4.0  115046.74              4          1               0   \n",
       "8     4.0  142051.07              2          0               1   \n",
       "9     2.0  134603.88              1          1               1   \n",
       "\n",
       "   EstimatedSalary  Exited  \n",
       "0        101348.88       1  \n",
       "1        112542.58       0  \n",
       "2        113931.57       1  \n",
       "3         93826.63       0  \n",
       "4         79084.10       0  \n",
       "5        149756.71       1  \n",
       "6         10062.80       0  \n",
       "7        119346.88       1  \n",
       "8         74940.50       0  \n",
       "9         71725.73       0  "
      ]
     },
     "execution_count": 1,
     "metadata": {},
     "output_type": "execute_result"
    }
   ],
   "source": [
    "import pandas as pd\n",
    "import numpy as np\n",
    "from sklearn.preprocessing import OrdinalEncoder\n",
    "from sklearn.model_selection import train_test_split\n",
    "from sklearn.preprocessing import StandardScaler\n",
    "from sklearn.linear_model import LogisticRegression\n",
    "from sklearn.tree import DecisionTreeClassifier\n",
    "from sklearn.ensemble import RandomForestClassifier\n",
    "from sklearn.metrics import f1_score\n",
    "from sklearn.metrics import roc_auc_score\n",
    "from sklearn.dummy import DummyClassifier\n",
    "from sklearn.utils import shuffle\n",
    "from sklearn.metrics import confusion_matrix\n",
    "pd.options.mode.chained_assignment = None\n",
    "\n",
    "data = pd.read_csv('/datasets/Churn.csv')\n",
    "display(data.shape)\n",
    "display(data.info())\n",
    "data.head(10)"
   ]
  },
  {
   "cell_type": "markdown",
   "metadata": {},
   "source": [
    "Есть пропуски в Tenure. Так как заполнить пропуски по имеющимся данным без искажения нельзя, удалим их. Также приведем названия столбцов к нижнему регистру."
   ]
  },
  {
   "cell_type": "code",
   "execution_count": 2,
   "metadata": {},
   "outputs": [
    {
     "name": "stdout",
     "output_type": "stream",
     "text": [
      "<class 'pandas.core.frame.DataFrame'>\n",
      "Int64Index: 9091 entries, 0 to 9998\n",
      "Data columns (total 14 columns):\n",
      "rownumber          9091 non-null int64\n",
      "customerid         9091 non-null int64\n",
      "surname            9091 non-null object\n",
      "creditscore        9091 non-null int64\n",
      "geography          9091 non-null object\n",
      "gender             9091 non-null object\n",
      "age                9091 non-null int64\n",
      "tenure             9091 non-null float64\n",
      "balance            9091 non-null float64\n",
      "numofproducts      9091 non-null int64\n",
      "hascrcard          9091 non-null int64\n",
      "isactivemember     9091 non-null int64\n",
      "estimatedsalary    9091 non-null float64\n",
      "exited             9091 non-null int64\n",
      "dtypes: float64(3), int64(8), object(3)\n",
      "memory usage: 1.0+ MB\n"
     ]
    },
    {
     "data": {
      "text/plain": [
       "None"
      ]
     },
     "metadata": {},
     "output_type": "display_data"
    },
    {
     "data": {
      "text/html": [
       "<div>\n",
       "<style scoped>\n",
       "    .dataframe tbody tr th:only-of-type {\n",
       "        vertical-align: middle;\n",
       "    }\n",
       "\n",
       "    .dataframe tbody tr th {\n",
       "        vertical-align: top;\n",
       "    }\n",
       "\n",
       "    .dataframe thead th {\n",
       "        text-align: right;\n",
       "    }\n",
       "</style>\n",
       "<table border=\"1\" class=\"dataframe\">\n",
       "  <thead>\n",
       "    <tr style=\"text-align: right;\">\n",
       "      <th></th>\n",
       "      <th>rownumber</th>\n",
       "      <th>customerid</th>\n",
       "      <th>surname</th>\n",
       "      <th>creditscore</th>\n",
       "      <th>geography</th>\n",
       "      <th>gender</th>\n",
       "      <th>age</th>\n",
       "      <th>tenure</th>\n",
       "      <th>balance</th>\n",
       "      <th>numofproducts</th>\n",
       "      <th>hascrcard</th>\n",
       "      <th>isactivemember</th>\n",
       "      <th>estimatedsalary</th>\n",
       "      <th>exited</th>\n",
       "    </tr>\n",
       "  </thead>\n",
       "  <tbody>\n",
       "    <tr>\n",
       "      <td>0</td>\n",
       "      <td>1</td>\n",
       "      <td>15634602</td>\n",
       "      <td>Hargrave</td>\n",
       "      <td>619</td>\n",
       "      <td>France</td>\n",
       "      <td>Female</td>\n",
       "      <td>42</td>\n",
       "      <td>2.0</td>\n",
       "      <td>0.00</td>\n",
       "      <td>1</td>\n",
       "      <td>1</td>\n",
       "      <td>1</td>\n",
       "      <td>101348.88</td>\n",
       "      <td>1</td>\n",
       "    </tr>\n",
       "    <tr>\n",
       "      <td>1</td>\n",
       "      <td>2</td>\n",
       "      <td>15647311</td>\n",
       "      <td>Hill</td>\n",
       "      <td>608</td>\n",
       "      <td>Spain</td>\n",
       "      <td>Female</td>\n",
       "      <td>41</td>\n",
       "      <td>1.0</td>\n",
       "      <td>83807.86</td>\n",
       "      <td>1</td>\n",
       "      <td>0</td>\n",
       "      <td>1</td>\n",
       "      <td>112542.58</td>\n",
       "      <td>0</td>\n",
       "    </tr>\n",
       "    <tr>\n",
       "      <td>2</td>\n",
       "      <td>3</td>\n",
       "      <td>15619304</td>\n",
       "      <td>Onio</td>\n",
       "      <td>502</td>\n",
       "      <td>France</td>\n",
       "      <td>Female</td>\n",
       "      <td>42</td>\n",
       "      <td>8.0</td>\n",
       "      <td>159660.80</td>\n",
       "      <td>3</td>\n",
       "      <td>1</td>\n",
       "      <td>0</td>\n",
       "      <td>113931.57</td>\n",
       "      <td>1</td>\n",
       "    </tr>\n",
       "    <tr>\n",
       "      <td>3</td>\n",
       "      <td>4</td>\n",
       "      <td>15701354</td>\n",
       "      <td>Boni</td>\n",
       "      <td>699</td>\n",
       "      <td>France</td>\n",
       "      <td>Female</td>\n",
       "      <td>39</td>\n",
       "      <td>1.0</td>\n",
       "      <td>0.00</td>\n",
       "      <td>2</td>\n",
       "      <td>0</td>\n",
       "      <td>0</td>\n",
       "      <td>93826.63</td>\n",
       "      <td>0</td>\n",
       "    </tr>\n",
       "    <tr>\n",
       "      <td>4</td>\n",
       "      <td>5</td>\n",
       "      <td>15737888</td>\n",
       "      <td>Mitchell</td>\n",
       "      <td>850</td>\n",
       "      <td>Spain</td>\n",
       "      <td>Female</td>\n",
       "      <td>43</td>\n",
       "      <td>2.0</td>\n",
       "      <td>125510.82</td>\n",
       "      <td>1</td>\n",
       "      <td>1</td>\n",
       "      <td>1</td>\n",
       "      <td>79084.10</td>\n",
       "      <td>0</td>\n",
       "    </tr>\n",
       "    <tr>\n",
       "      <td>5</td>\n",
       "      <td>6</td>\n",
       "      <td>15574012</td>\n",
       "      <td>Chu</td>\n",
       "      <td>645</td>\n",
       "      <td>Spain</td>\n",
       "      <td>Male</td>\n",
       "      <td>44</td>\n",
       "      <td>8.0</td>\n",
       "      <td>113755.78</td>\n",
       "      <td>2</td>\n",
       "      <td>1</td>\n",
       "      <td>0</td>\n",
       "      <td>149756.71</td>\n",
       "      <td>1</td>\n",
       "    </tr>\n",
       "    <tr>\n",
       "      <td>6</td>\n",
       "      <td>7</td>\n",
       "      <td>15592531</td>\n",
       "      <td>Bartlett</td>\n",
       "      <td>822</td>\n",
       "      <td>France</td>\n",
       "      <td>Male</td>\n",
       "      <td>50</td>\n",
       "      <td>7.0</td>\n",
       "      <td>0.00</td>\n",
       "      <td>2</td>\n",
       "      <td>1</td>\n",
       "      <td>1</td>\n",
       "      <td>10062.80</td>\n",
       "      <td>0</td>\n",
       "    </tr>\n",
       "    <tr>\n",
       "      <td>7</td>\n",
       "      <td>8</td>\n",
       "      <td>15656148</td>\n",
       "      <td>Obinna</td>\n",
       "      <td>376</td>\n",
       "      <td>Germany</td>\n",
       "      <td>Female</td>\n",
       "      <td>29</td>\n",
       "      <td>4.0</td>\n",
       "      <td>115046.74</td>\n",
       "      <td>4</td>\n",
       "      <td>1</td>\n",
       "      <td>0</td>\n",
       "      <td>119346.88</td>\n",
       "      <td>1</td>\n",
       "    </tr>\n",
       "    <tr>\n",
       "      <td>8</td>\n",
       "      <td>9</td>\n",
       "      <td>15792365</td>\n",
       "      <td>He</td>\n",
       "      <td>501</td>\n",
       "      <td>France</td>\n",
       "      <td>Male</td>\n",
       "      <td>44</td>\n",
       "      <td>4.0</td>\n",
       "      <td>142051.07</td>\n",
       "      <td>2</td>\n",
       "      <td>0</td>\n",
       "      <td>1</td>\n",
       "      <td>74940.50</td>\n",
       "      <td>0</td>\n",
       "    </tr>\n",
       "    <tr>\n",
       "      <td>9</td>\n",
       "      <td>10</td>\n",
       "      <td>15592389</td>\n",
       "      <td>H?</td>\n",
       "      <td>684</td>\n",
       "      <td>France</td>\n",
       "      <td>Male</td>\n",
       "      <td>27</td>\n",
       "      <td>2.0</td>\n",
       "      <td>134603.88</td>\n",
       "      <td>1</td>\n",
       "      <td>1</td>\n",
       "      <td>1</td>\n",
       "      <td>71725.73</td>\n",
       "      <td>0</td>\n",
       "    </tr>\n",
       "  </tbody>\n",
       "</table>\n",
       "</div>"
      ],
      "text/plain": [
       "   rownumber  customerid   surname  creditscore geography  gender  age  \\\n",
       "0          1    15634602  Hargrave          619    France  Female   42   \n",
       "1          2    15647311      Hill          608     Spain  Female   41   \n",
       "2          3    15619304      Onio          502    France  Female   42   \n",
       "3          4    15701354      Boni          699    France  Female   39   \n",
       "4          5    15737888  Mitchell          850     Spain  Female   43   \n",
       "5          6    15574012       Chu          645     Spain    Male   44   \n",
       "6          7    15592531  Bartlett          822    France    Male   50   \n",
       "7          8    15656148    Obinna          376   Germany  Female   29   \n",
       "8          9    15792365        He          501    France    Male   44   \n",
       "9         10    15592389        H?          684    France    Male   27   \n",
       "\n",
       "   tenure    balance  numofproducts  hascrcard  isactivemember  \\\n",
       "0     2.0       0.00              1          1               1   \n",
       "1     1.0   83807.86              1          0               1   \n",
       "2     8.0  159660.80              3          1               0   \n",
       "3     1.0       0.00              2          0               0   \n",
       "4     2.0  125510.82              1          1               1   \n",
       "5     8.0  113755.78              2          1               0   \n",
       "6     7.0       0.00              2          1               1   \n",
       "7     4.0  115046.74              4          1               0   \n",
       "8     4.0  142051.07              2          0               1   \n",
       "9     2.0  134603.88              1          1               1   \n",
       "\n",
       "   estimatedsalary  exited  \n",
       "0        101348.88       1  \n",
       "1        112542.58       0  \n",
       "2        113931.57       1  \n",
       "3         93826.63       0  \n",
       "4         79084.10       0  \n",
       "5        149756.71       1  \n",
       "6         10062.80       0  \n",
       "7        119346.88       1  \n",
       "8         74940.50       0  \n",
       "9         71725.73       0  "
      ]
     },
     "execution_count": 2,
     "metadata": {},
     "output_type": "execute_result"
    }
   ],
   "source": [
    "data.columns = data.columns.str.lower() #приведем названия к нижнему регистру\n",
    "data = data.dropna()\n",
    "display(data.info())\n",
    "data.head(10)"
   ]
  },
  {
   "cell_type": "code",
   "execution_count": 3,
   "metadata": {
    "scrolled": true
   },
   "outputs": [
    {
     "data": {
      "text/plain": [
       "'creditscore'"
      ]
     },
     "metadata": {},
     "output_type": "display_data"
    },
    {
     "data": {
      "text/plain": [
       "array([619, 608, 502, 699, 850, 645, 822, 376, 501, 684, 528, 497, 476,\n",
       "       549, 635, 616, 653, 587, 726, 732, 636, 510, 669, 846, 577, 756,\n",
       "       571, 574, 411, 533, 553, 520, 722, 475, 490, 804, 582, 472, 465,\n",
       "       556, 834, 660, 776, 829, 637, 698, 788, 601, 656, 725, 511, 614,\n",
       "       687, 555, 603, 751, 581, 735, 661, 675, 738, 813, 657, 604, 519,\n",
       "       664, 678, 757, 416, 665, 777, 506, 493, 750, 729, 646, 647, 808,\n",
       "       524, 769, 515, 773, 814, 710, 623, 670, 622, 785, 605, 479, 685,\n",
       "       562, 721, 628, 668, 828, 674, 625, 770, 758, 795, 686, 789, 589,\n",
       "       461, 584, 579, 663, 682, 793, 691, 485, 650, 754, 535, 716, 539,\n",
       "       706, 586, 631, 717, 683, 704, 615, 667, 484, 480, 512, 606, 597,\n",
       "       778, 514, 730, 525, 715, 580, 807, 521, 759, 516, 711, 550, 618,\n",
       "       643, 671, 689, 620, 676, 572, 695, 592, 694, 547, 594, 673, 610,\n",
       "       767, 585, 763, 712, 703, 662, 659, 523, 772, 545, 634, 739, 771,\n",
       "       681, 544, 766, 727, 557, 531, 498, 651, 791, 733, 811, 707, 714,\n",
       "       782, 775, 799, 744, 588, 747, 583, 627, 731, 629, 438, 652, 642,\n",
       "       806, 474, 559, 429, 680, 749, 734, 644, 626, 649, 805, 543, 718,\n",
       "       840, 630, 654, 568, 613, 737, 648, 443, 640, 540, 460, 593, 611,\n",
       "       802, 745, 483, 690, 492, 709, 705, 560, 752, 701, 538, 537, 487,\n",
       "       702, 486, 724, 548, 762, 464, 790, 748, 494, 590, 509, 818, 816,\n",
       "       536, 753, 774, 621, 569, 658, 641, 542, 692, 591, 639, 765, 570,\n",
       "       638, 599, 632, 468, 779, 527, 696, 564, 504, 842, 508, 417, 598,\n",
       "       741, 607, 761, 848, 546, 755, 760, 526, 713, 700, 666, 566, 495,\n",
       "       688, 612, 477, 427, 839, 819, 578, 720, 459, 503, 624, 529, 563,\n",
       "       482, 796, 445, 746, 742, 786, 554, 672, 787, 499, 844, 450, 815,\n",
       "       838, 803, 736, 633, 600, 679, 517, 792, 743, 488, 421, 708, 507,\n",
       "       505, 567, 456, 561, 565, 435, 728, 596, 784, 552, 609, 764, 697,\n",
       "       723, 551, 655, 444, 719, 496, 541, 830, 812, 602, 677, 432, 420,\n",
       "       595, 833, 617, 809, 500, 434, 513, 693, 363, 399, 780, 452, 575,\n",
       "       837, 794, 824, 534, 823, 781, 849, 489, 431, 768, 831, 820, 573,\n",
       "       576, 558, 817, 797, 440, 415, 821, 530, 350, 446, 439, 798, 425,\n",
       "       518, 740, 481, 428, 783, 358, 800, 845, 841, 451, 458, 469, 404,\n",
       "       836, 835, 478, 473, 351, 466, 801, 827, 843, 365, 414, 471, 401,\n",
       "       532, 449, 491, 810, 832, 447, 422, 825, 430, 436, 470, 426, 453,\n",
       "       408, 847, 418, 463, 437, 413, 826, 522, 454, 407, 462, 386, 405,\n",
       "       457, 410, 383, 395, 467, 455, 433, 442, 424, 448, 441, 367, 412,\n",
       "       382, 373, 419])"
      ]
     },
     "metadata": {},
     "output_type": "display_data"
    },
    {
     "data": {
      "text/plain": [
       "'geography'"
      ]
     },
     "metadata": {},
     "output_type": "display_data"
    },
    {
     "data": {
      "text/plain": [
       "array(['France', 'Spain', 'Germany'], dtype=object)"
      ]
     },
     "metadata": {},
     "output_type": "display_data"
    },
    {
     "data": {
      "text/plain": [
       "'gender'"
      ]
     },
     "metadata": {},
     "output_type": "display_data"
    },
    {
     "data": {
      "text/plain": [
       "array(['Female', 'Male'], dtype=object)"
      ]
     },
     "metadata": {},
     "output_type": "display_data"
    },
    {
     "data": {
      "text/plain": [
       "'age'"
      ]
     },
     "metadata": {},
     "output_type": "display_data"
    },
    {
     "data": {
      "text/plain": [
       "array([42, 41, 39, 43, 44, 50, 29, 27, 31, 24, 34, 25, 35, 45, 58, 32, 38,\n",
       "       46, 36, 33, 40, 51, 61, 49, 37, 19, 66, 56, 26, 21, 55, 22, 30, 28,\n",
       "       65, 52, 48, 57, 73, 47, 54, 72, 20, 67, 79, 62, 53, 80, 59, 68, 75,\n",
       "       23, 60, 63, 64, 70, 18, 82, 69, 74, 71, 76, 77, 88, 85, 84, 81, 78,\n",
       "       92, 83])"
      ]
     },
     "metadata": {},
     "output_type": "display_data"
    },
    {
     "data": {
      "text/plain": [
       "'tenure'"
      ]
     },
     "metadata": {},
     "output_type": "display_data"
    },
    {
     "data": {
      "text/plain": [
       "array([ 2.,  1.,  8.,  7.,  4.,  6.,  3., 10.,  5.,  9.,  0.])"
      ]
     },
     "metadata": {},
     "output_type": "display_data"
    },
    {
     "data": {
      "text/plain": [
       "'balance'"
      ]
     },
     "metadata": {},
     "output_type": "display_data"
    },
    {
     "data": {
      "text/plain": [
       "array([     0.  ,  83807.86, 159660.8 , ..., 155060.41,  57369.61,\n",
       "        75075.31])"
      ]
     },
     "metadata": {},
     "output_type": "display_data"
    },
    {
     "data": {
      "text/plain": [
       "'numofproducts'"
      ]
     },
     "metadata": {},
     "output_type": "display_data"
    },
    {
     "data": {
      "text/plain": [
       "array([1, 3, 2, 4])"
      ]
     },
     "metadata": {},
     "output_type": "display_data"
    },
    {
     "data": {
      "text/plain": [
       "'hascrcard'"
      ]
     },
     "metadata": {},
     "output_type": "display_data"
    },
    {
     "data": {
      "text/plain": [
       "array([1, 0])"
      ]
     },
     "metadata": {},
     "output_type": "display_data"
    },
    {
     "data": {
      "text/plain": [
       "'isactivemember'"
      ]
     },
     "metadata": {},
     "output_type": "display_data"
    },
    {
     "data": {
      "text/plain": [
       "array([1, 0])"
      ]
     },
     "metadata": {},
     "output_type": "display_data"
    },
    {
     "data": {
      "text/plain": [
       "'estimatedsalary'"
      ]
     },
     "metadata": {},
     "output_type": "display_data"
    },
    {
     "data": {
      "text/plain": [
       "array([101348.88, 112542.58, 113931.57, ..., 101699.77,  42085.58,\n",
       "        92888.52])"
      ]
     },
     "metadata": {},
     "output_type": "display_data"
    },
    {
     "data": {
      "text/plain": [
       "'exited'"
      ]
     },
     "metadata": {},
     "output_type": "display_data"
    },
    {
     "data": {
      "text/plain": [
       "array([1, 0])"
      ]
     },
     "metadata": {},
     "output_type": "display_data"
    }
   ],
   "source": [
    "for column in data.columns[3:]:\n",
    "    display (column, data[column].unique())"
   ]
  },
  {
   "cell_type": "markdown",
   "metadata": {},
   "source": [
    "Удалим rownumber, customerid, surname, так как очевидно, что эти поля не влияют на целевой признак."
   ]
  },
  {
   "cell_type": "code",
   "execution_count": 4,
   "metadata": {
    "scrolled": true
   },
   "outputs": [
    {
     "data": {
      "text/html": [
       "<div>\n",
       "<style scoped>\n",
       "    .dataframe tbody tr th:only-of-type {\n",
       "        vertical-align: middle;\n",
       "    }\n",
       "\n",
       "    .dataframe tbody tr th {\n",
       "        vertical-align: top;\n",
       "    }\n",
       "\n",
       "    .dataframe thead th {\n",
       "        text-align: right;\n",
       "    }\n",
       "</style>\n",
       "<table border=\"1\" class=\"dataframe\">\n",
       "  <thead>\n",
       "    <tr style=\"text-align: right;\">\n",
       "      <th></th>\n",
       "      <th>creditscore</th>\n",
       "      <th>geography</th>\n",
       "      <th>gender</th>\n",
       "      <th>age</th>\n",
       "      <th>tenure</th>\n",
       "      <th>balance</th>\n",
       "      <th>numofproducts</th>\n",
       "      <th>hascrcard</th>\n",
       "      <th>isactivemember</th>\n",
       "      <th>estimatedsalary</th>\n",
       "      <th>exited</th>\n",
       "    </tr>\n",
       "  </thead>\n",
       "  <tbody>\n",
       "    <tr>\n",
       "      <td>0</td>\n",
       "      <td>619</td>\n",
       "      <td>France</td>\n",
       "      <td>Female</td>\n",
       "      <td>42</td>\n",
       "      <td>2.0</td>\n",
       "      <td>0.00</td>\n",
       "      <td>1</td>\n",
       "      <td>1</td>\n",
       "      <td>1</td>\n",
       "      <td>101348.88</td>\n",
       "      <td>1</td>\n",
       "    </tr>\n",
       "    <tr>\n",
       "      <td>1</td>\n",
       "      <td>608</td>\n",
       "      <td>Spain</td>\n",
       "      <td>Female</td>\n",
       "      <td>41</td>\n",
       "      <td>1.0</td>\n",
       "      <td>83807.86</td>\n",
       "      <td>1</td>\n",
       "      <td>0</td>\n",
       "      <td>1</td>\n",
       "      <td>112542.58</td>\n",
       "      <td>0</td>\n",
       "    </tr>\n",
       "    <tr>\n",
       "      <td>2</td>\n",
       "      <td>502</td>\n",
       "      <td>France</td>\n",
       "      <td>Female</td>\n",
       "      <td>42</td>\n",
       "      <td>8.0</td>\n",
       "      <td>159660.80</td>\n",
       "      <td>3</td>\n",
       "      <td>1</td>\n",
       "      <td>0</td>\n",
       "      <td>113931.57</td>\n",
       "      <td>1</td>\n",
       "    </tr>\n",
       "    <tr>\n",
       "      <td>3</td>\n",
       "      <td>699</td>\n",
       "      <td>France</td>\n",
       "      <td>Female</td>\n",
       "      <td>39</td>\n",
       "      <td>1.0</td>\n",
       "      <td>0.00</td>\n",
       "      <td>2</td>\n",
       "      <td>0</td>\n",
       "      <td>0</td>\n",
       "      <td>93826.63</td>\n",
       "      <td>0</td>\n",
       "    </tr>\n",
       "    <tr>\n",
       "      <td>4</td>\n",
       "      <td>850</td>\n",
       "      <td>Spain</td>\n",
       "      <td>Female</td>\n",
       "      <td>43</td>\n",
       "      <td>2.0</td>\n",
       "      <td>125510.82</td>\n",
       "      <td>1</td>\n",
       "      <td>1</td>\n",
       "      <td>1</td>\n",
       "      <td>79084.10</td>\n",
       "      <td>0</td>\n",
       "    </tr>\n",
       "    <tr>\n",
       "      <td>...</td>\n",
       "      <td>...</td>\n",
       "      <td>...</td>\n",
       "      <td>...</td>\n",
       "      <td>...</td>\n",
       "      <td>...</td>\n",
       "      <td>...</td>\n",
       "      <td>...</td>\n",
       "      <td>...</td>\n",
       "      <td>...</td>\n",
       "      <td>...</td>\n",
       "      <td>...</td>\n",
       "    </tr>\n",
       "    <tr>\n",
       "      <td>9994</td>\n",
       "      <td>800</td>\n",
       "      <td>France</td>\n",
       "      <td>Female</td>\n",
       "      <td>29</td>\n",
       "      <td>2.0</td>\n",
       "      <td>0.00</td>\n",
       "      <td>2</td>\n",
       "      <td>0</td>\n",
       "      <td>0</td>\n",
       "      <td>167773.55</td>\n",
       "      <td>0</td>\n",
       "    </tr>\n",
       "    <tr>\n",
       "      <td>9995</td>\n",
       "      <td>771</td>\n",
       "      <td>France</td>\n",
       "      <td>Male</td>\n",
       "      <td>39</td>\n",
       "      <td>5.0</td>\n",
       "      <td>0.00</td>\n",
       "      <td>2</td>\n",
       "      <td>1</td>\n",
       "      <td>0</td>\n",
       "      <td>96270.64</td>\n",
       "      <td>0</td>\n",
       "    </tr>\n",
       "    <tr>\n",
       "      <td>9996</td>\n",
       "      <td>516</td>\n",
       "      <td>France</td>\n",
       "      <td>Male</td>\n",
       "      <td>35</td>\n",
       "      <td>10.0</td>\n",
       "      <td>57369.61</td>\n",
       "      <td>1</td>\n",
       "      <td>1</td>\n",
       "      <td>1</td>\n",
       "      <td>101699.77</td>\n",
       "      <td>0</td>\n",
       "    </tr>\n",
       "    <tr>\n",
       "      <td>9997</td>\n",
       "      <td>709</td>\n",
       "      <td>France</td>\n",
       "      <td>Female</td>\n",
       "      <td>36</td>\n",
       "      <td>7.0</td>\n",
       "      <td>0.00</td>\n",
       "      <td>1</td>\n",
       "      <td>0</td>\n",
       "      <td>1</td>\n",
       "      <td>42085.58</td>\n",
       "      <td>1</td>\n",
       "    </tr>\n",
       "    <tr>\n",
       "      <td>9998</td>\n",
       "      <td>772</td>\n",
       "      <td>Germany</td>\n",
       "      <td>Male</td>\n",
       "      <td>42</td>\n",
       "      <td>3.0</td>\n",
       "      <td>75075.31</td>\n",
       "      <td>2</td>\n",
       "      <td>1</td>\n",
       "      <td>0</td>\n",
       "      <td>92888.52</td>\n",
       "      <td>1</td>\n",
       "    </tr>\n",
       "  </tbody>\n",
       "</table>\n",
       "<p>9091 rows × 11 columns</p>\n",
       "</div>"
      ],
      "text/plain": [
       "      creditscore geography  gender  age  tenure    balance  numofproducts  \\\n",
       "0             619    France  Female   42     2.0       0.00              1   \n",
       "1             608     Spain  Female   41     1.0   83807.86              1   \n",
       "2             502    France  Female   42     8.0  159660.80              3   \n",
       "3             699    France  Female   39     1.0       0.00              2   \n",
       "4             850     Spain  Female   43     2.0  125510.82              1   \n",
       "...           ...       ...     ...  ...     ...        ...            ...   \n",
       "9994          800    France  Female   29     2.0       0.00              2   \n",
       "9995          771    France    Male   39     5.0       0.00              2   \n",
       "9996          516    France    Male   35    10.0   57369.61              1   \n",
       "9997          709    France  Female   36     7.0       0.00              1   \n",
       "9998          772   Germany    Male   42     3.0   75075.31              2   \n",
       "\n",
       "      hascrcard  isactivemember  estimatedsalary  exited  \n",
       "0             1               1        101348.88       1  \n",
       "1             0               1        112542.58       0  \n",
       "2             1               0        113931.57       1  \n",
       "3             0               0         93826.63       0  \n",
       "4             1               1         79084.10       0  \n",
       "...         ...             ...              ...     ...  \n",
       "9994          0               0        167773.55       0  \n",
       "9995          1               0         96270.64       0  \n",
       "9996          1               1        101699.77       0  \n",
       "9997          0               1         42085.58       1  \n",
       "9998          1               0         92888.52       1  \n",
       "\n",
       "[9091 rows x 11 columns]"
      ]
     },
     "execution_count": 4,
     "metadata": {},
     "output_type": "execute_result"
    }
   ],
   "source": [
    "data_ohe = data.drop(columns=['rownumber','customerid', 'surname'], axis =1)\n",
    "data_ohe"
   ]
  },
  {
   "cell_type": "markdown",
   "metadata": {},
   "source": [
    "Для использования моделей логистической регрессии, решающего дерева и случайного леса категориальные данные преобразуем в численные с помощью порядкового One-Hot Encoding."
   ]
  },
  {
   "cell_type": "code",
   "execution_count": 5,
   "metadata": {},
   "outputs": [
    {
     "data": {
      "text/html": [
       "<div>\n",
       "<style scoped>\n",
       "    .dataframe tbody tr th:only-of-type {\n",
       "        vertical-align: middle;\n",
       "    }\n",
       "\n",
       "    .dataframe tbody tr th {\n",
       "        vertical-align: top;\n",
       "    }\n",
       "\n",
       "    .dataframe thead th {\n",
       "        text-align: right;\n",
       "    }\n",
       "</style>\n",
       "<table border=\"1\" class=\"dataframe\">\n",
       "  <thead>\n",
       "    <tr style=\"text-align: right;\">\n",
       "      <th></th>\n",
       "      <th>creditscore</th>\n",
       "      <th>age</th>\n",
       "      <th>tenure</th>\n",
       "      <th>balance</th>\n",
       "      <th>numofproducts</th>\n",
       "      <th>hascrcard</th>\n",
       "      <th>isactivemember</th>\n",
       "      <th>estimatedsalary</th>\n",
       "      <th>exited</th>\n",
       "      <th>geography_Germany</th>\n",
       "      <th>geography_Spain</th>\n",
       "      <th>gender_Male</th>\n",
       "    </tr>\n",
       "  </thead>\n",
       "  <tbody>\n",
       "    <tr>\n",
       "      <td>0</td>\n",
       "      <td>619</td>\n",
       "      <td>42</td>\n",
       "      <td>2.0</td>\n",
       "      <td>0.00</td>\n",
       "      <td>1</td>\n",
       "      <td>1</td>\n",
       "      <td>1</td>\n",
       "      <td>101348.88</td>\n",
       "      <td>1</td>\n",
       "      <td>0</td>\n",
       "      <td>0</td>\n",
       "      <td>0</td>\n",
       "    </tr>\n",
       "    <tr>\n",
       "      <td>1</td>\n",
       "      <td>608</td>\n",
       "      <td>41</td>\n",
       "      <td>1.0</td>\n",
       "      <td>83807.86</td>\n",
       "      <td>1</td>\n",
       "      <td>0</td>\n",
       "      <td>1</td>\n",
       "      <td>112542.58</td>\n",
       "      <td>0</td>\n",
       "      <td>0</td>\n",
       "      <td>1</td>\n",
       "      <td>0</td>\n",
       "    </tr>\n",
       "    <tr>\n",
       "      <td>2</td>\n",
       "      <td>502</td>\n",
       "      <td>42</td>\n",
       "      <td>8.0</td>\n",
       "      <td>159660.80</td>\n",
       "      <td>3</td>\n",
       "      <td>1</td>\n",
       "      <td>0</td>\n",
       "      <td>113931.57</td>\n",
       "      <td>1</td>\n",
       "      <td>0</td>\n",
       "      <td>0</td>\n",
       "      <td>0</td>\n",
       "    </tr>\n",
       "    <tr>\n",
       "      <td>3</td>\n",
       "      <td>699</td>\n",
       "      <td>39</td>\n",
       "      <td>1.0</td>\n",
       "      <td>0.00</td>\n",
       "      <td>2</td>\n",
       "      <td>0</td>\n",
       "      <td>0</td>\n",
       "      <td>93826.63</td>\n",
       "      <td>0</td>\n",
       "      <td>0</td>\n",
       "      <td>0</td>\n",
       "      <td>0</td>\n",
       "    </tr>\n",
       "    <tr>\n",
       "      <td>4</td>\n",
       "      <td>850</td>\n",
       "      <td>43</td>\n",
       "      <td>2.0</td>\n",
       "      <td>125510.82</td>\n",
       "      <td>1</td>\n",
       "      <td>1</td>\n",
       "      <td>1</td>\n",
       "      <td>79084.10</td>\n",
       "      <td>0</td>\n",
       "      <td>0</td>\n",
       "      <td>1</td>\n",
       "      <td>0</td>\n",
       "    </tr>\n",
       "    <tr>\n",
       "      <td>...</td>\n",
       "      <td>...</td>\n",
       "      <td>...</td>\n",
       "      <td>...</td>\n",
       "      <td>...</td>\n",
       "      <td>...</td>\n",
       "      <td>...</td>\n",
       "      <td>...</td>\n",
       "      <td>...</td>\n",
       "      <td>...</td>\n",
       "      <td>...</td>\n",
       "      <td>...</td>\n",
       "      <td>...</td>\n",
       "    </tr>\n",
       "    <tr>\n",
       "      <td>9994</td>\n",
       "      <td>800</td>\n",
       "      <td>29</td>\n",
       "      <td>2.0</td>\n",
       "      <td>0.00</td>\n",
       "      <td>2</td>\n",
       "      <td>0</td>\n",
       "      <td>0</td>\n",
       "      <td>167773.55</td>\n",
       "      <td>0</td>\n",
       "      <td>0</td>\n",
       "      <td>0</td>\n",
       "      <td>0</td>\n",
       "    </tr>\n",
       "    <tr>\n",
       "      <td>9995</td>\n",
       "      <td>771</td>\n",
       "      <td>39</td>\n",
       "      <td>5.0</td>\n",
       "      <td>0.00</td>\n",
       "      <td>2</td>\n",
       "      <td>1</td>\n",
       "      <td>0</td>\n",
       "      <td>96270.64</td>\n",
       "      <td>0</td>\n",
       "      <td>0</td>\n",
       "      <td>0</td>\n",
       "      <td>1</td>\n",
       "    </tr>\n",
       "    <tr>\n",
       "      <td>9996</td>\n",
       "      <td>516</td>\n",
       "      <td>35</td>\n",
       "      <td>10.0</td>\n",
       "      <td>57369.61</td>\n",
       "      <td>1</td>\n",
       "      <td>1</td>\n",
       "      <td>1</td>\n",
       "      <td>101699.77</td>\n",
       "      <td>0</td>\n",
       "      <td>0</td>\n",
       "      <td>0</td>\n",
       "      <td>1</td>\n",
       "    </tr>\n",
       "    <tr>\n",
       "      <td>9997</td>\n",
       "      <td>709</td>\n",
       "      <td>36</td>\n",
       "      <td>7.0</td>\n",
       "      <td>0.00</td>\n",
       "      <td>1</td>\n",
       "      <td>0</td>\n",
       "      <td>1</td>\n",
       "      <td>42085.58</td>\n",
       "      <td>1</td>\n",
       "      <td>0</td>\n",
       "      <td>0</td>\n",
       "      <td>0</td>\n",
       "    </tr>\n",
       "    <tr>\n",
       "      <td>9998</td>\n",
       "      <td>772</td>\n",
       "      <td>42</td>\n",
       "      <td>3.0</td>\n",
       "      <td>75075.31</td>\n",
       "      <td>2</td>\n",
       "      <td>1</td>\n",
       "      <td>0</td>\n",
       "      <td>92888.52</td>\n",
       "      <td>1</td>\n",
       "      <td>1</td>\n",
       "      <td>0</td>\n",
       "      <td>1</td>\n",
       "    </tr>\n",
       "  </tbody>\n",
       "</table>\n",
       "<p>9091 rows × 12 columns</p>\n",
       "</div>"
      ],
      "text/plain": [
       "      creditscore  age  tenure    balance  numofproducts  hascrcard  \\\n",
       "0             619   42     2.0       0.00              1          1   \n",
       "1             608   41     1.0   83807.86              1          0   \n",
       "2             502   42     8.0  159660.80              3          1   \n",
       "3             699   39     1.0       0.00              2          0   \n",
       "4             850   43     2.0  125510.82              1          1   \n",
       "...           ...  ...     ...        ...            ...        ...   \n",
       "9994          800   29     2.0       0.00              2          0   \n",
       "9995          771   39     5.0       0.00              2          1   \n",
       "9996          516   35    10.0   57369.61              1          1   \n",
       "9997          709   36     7.0       0.00              1          0   \n",
       "9998          772   42     3.0   75075.31              2          1   \n",
       "\n",
       "      isactivemember  estimatedsalary  exited  geography_Germany  \\\n",
       "0                  1        101348.88       1                  0   \n",
       "1                  1        112542.58       0                  0   \n",
       "2                  0        113931.57       1                  0   \n",
       "3                  0         93826.63       0                  0   \n",
       "4                  1         79084.10       0                  0   \n",
       "...              ...              ...     ...                ...   \n",
       "9994               0        167773.55       0                  0   \n",
       "9995               0         96270.64       0                  0   \n",
       "9996               1        101699.77       0                  0   \n",
       "9997               1         42085.58       1                  0   \n",
       "9998               0         92888.52       1                  1   \n",
       "\n",
       "      geography_Spain  gender_Male  \n",
       "0                   0            0  \n",
       "1                   1            0  \n",
       "2                   0            0  \n",
       "3                   0            0  \n",
       "4                   1            0  \n",
       "...               ...          ...  \n",
       "9994                0            0  \n",
       "9995                0            1  \n",
       "9996                0            1  \n",
       "9997                0            0  \n",
       "9998                0            1  \n",
       "\n",
       "[9091 rows x 12 columns]"
      ]
     },
     "execution_count": 5,
     "metadata": {},
     "output_type": "execute_result"
    }
   ],
   "source": [
    "data_ohe = pd.get_dummies(data_ohe,drop_first = True)\n",
    "data_ohe.shape\n",
    "data_ohe"
   ]
  },
  {
   "cell_type": "code",
   "execution_count": 6,
   "metadata": {},
   "outputs": [
    {
     "data": {
      "text/plain": [
       "'creditscore'"
      ]
     },
     "metadata": {},
     "output_type": "display_data"
    },
    {
     "data": {
      "text/plain": [
       "array([619, 608, 502, 699, 850, 645, 822, 376, 501, 684, 528, 497, 476,\n",
       "       549, 635, 616, 653, 587, 726, 732, 636, 510, 669, 846, 577, 756,\n",
       "       571, 574, 411, 533, 553, 520, 722, 475, 490, 804, 582, 472, 465,\n",
       "       556, 834, 660, 776, 829, 637, 698, 788, 601, 656, 725, 511, 614,\n",
       "       687, 555, 603, 751, 581, 735, 661, 675, 738, 813, 657, 604, 519,\n",
       "       664, 678, 757, 416, 665, 777, 506, 493, 750, 729, 646, 647, 808,\n",
       "       524, 769, 515, 773, 814, 710, 623, 670, 622, 785, 605, 479, 685,\n",
       "       562, 721, 628, 668, 828, 674, 625, 770, 758, 795, 686, 789, 589,\n",
       "       461, 584, 579, 663, 682, 793, 691, 485, 650, 754, 535, 716, 539,\n",
       "       706, 586, 631, 717, 683, 704, 615, 667, 484, 480, 512, 606, 597,\n",
       "       778, 514, 730, 525, 715, 580, 807, 521, 759, 516, 711, 550, 618,\n",
       "       643, 671, 689, 620, 676, 572, 695, 592, 694, 547, 594, 673, 610,\n",
       "       767, 585, 763, 712, 703, 662, 659, 523, 772, 545, 634, 739, 771,\n",
       "       681, 544, 766, 727, 557, 531, 498, 651, 791, 733, 811, 707, 714,\n",
       "       782, 775, 799, 744, 588, 747, 583, 627, 731, 629, 438, 652, 642,\n",
       "       806, 474, 559, 429, 680, 749, 734, 644, 626, 649, 805, 543, 718,\n",
       "       840, 630, 654, 568, 613, 737, 648, 443, 640, 540, 460, 593, 611,\n",
       "       802, 745, 483, 690, 492, 709, 705, 560, 752, 701, 538, 537, 487,\n",
       "       702, 486, 724, 548, 762, 464, 790, 748, 494, 590, 509, 818, 816,\n",
       "       536, 753, 774, 621, 569, 658, 641, 542, 692, 591, 639, 765, 570,\n",
       "       638, 599, 632, 468, 779, 527, 696, 564, 504, 842, 508, 417, 598,\n",
       "       741, 607, 761, 848, 546, 755, 760, 526, 713, 700, 666, 566, 495,\n",
       "       688, 612, 477, 427, 839, 819, 578, 720, 459, 503, 624, 529, 563,\n",
       "       482, 796, 445, 746, 742, 786, 554, 672, 787, 499, 844, 450, 815,\n",
       "       838, 803, 736, 633, 600, 679, 517, 792, 743, 488, 421, 708, 507,\n",
       "       505, 567, 456, 561, 565, 435, 728, 596, 784, 552, 609, 764, 697,\n",
       "       723, 551, 655, 444, 719, 496, 541, 830, 812, 602, 677, 432, 420,\n",
       "       595, 833, 617, 809, 500, 434, 513, 693, 363, 399, 780, 452, 575,\n",
       "       837, 794, 824, 534, 823, 781, 849, 489, 431, 768, 831, 820, 573,\n",
       "       576, 558, 817, 797, 440, 415, 821, 530, 350, 446, 439, 798, 425,\n",
       "       518, 740, 481, 428, 783, 358, 800, 845, 841, 451, 458, 469, 404,\n",
       "       836, 835, 478, 473, 351, 466, 801, 827, 843, 365, 414, 471, 401,\n",
       "       532, 449, 491, 810, 832, 447, 422, 825, 430, 436, 470, 426, 453,\n",
       "       408, 847, 418, 463, 437, 413, 826, 522, 454, 407, 462, 386, 405,\n",
       "       457, 410, 383, 395, 467, 455, 433, 442, 424, 448, 441, 367, 412,\n",
       "       382, 373, 419])"
      ]
     },
     "metadata": {},
     "output_type": "display_data"
    },
    {
     "data": {
      "text/plain": [
       "'age'"
      ]
     },
     "metadata": {},
     "output_type": "display_data"
    },
    {
     "data": {
      "text/plain": [
       "array([42, 41, 39, 43, 44, 50, 29, 27, 31, 24, 34, 25, 35, 45, 58, 32, 38,\n",
       "       46, 36, 33, 40, 51, 61, 49, 37, 19, 66, 56, 26, 21, 55, 22, 30, 28,\n",
       "       65, 52, 48, 57, 73, 47, 54, 72, 20, 67, 79, 62, 53, 80, 59, 68, 75,\n",
       "       23, 60, 63, 64, 70, 18, 82, 69, 74, 71, 76, 77, 88, 85, 84, 81, 78,\n",
       "       92, 83])"
      ]
     },
     "metadata": {},
     "output_type": "display_data"
    },
    {
     "data": {
      "text/plain": [
       "'tenure'"
      ]
     },
     "metadata": {},
     "output_type": "display_data"
    },
    {
     "data": {
      "text/plain": [
       "array([ 2.,  1.,  8.,  7.,  4.,  6.,  3., 10.,  5.,  9.,  0.])"
      ]
     },
     "metadata": {},
     "output_type": "display_data"
    },
    {
     "data": {
      "text/plain": [
       "'balance'"
      ]
     },
     "metadata": {},
     "output_type": "display_data"
    },
    {
     "data": {
      "text/plain": [
       "array([     0.  ,  83807.86, 159660.8 , ..., 155060.41,  57369.61,\n",
       "        75075.31])"
      ]
     },
     "metadata": {},
     "output_type": "display_data"
    },
    {
     "data": {
      "text/plain": [
       "'numofproducts'"
      ]
     },
     "metadata": {},
     "output_type": "display_data"
    },
    {
     "data": {
      "text/plain": [
       "array([1, 3, 2, 4])"
      ]
     },
     "metadata": {},
     "output_type": "display_data"
    },
    {
     "data": {
      "text/plain": [
       "'hascrcard'"
      ]
     },
     "metadata": {},
     "output_type": "display_data"
    },
    {
     "data": {
      "text/plain": [
       "array([1, 0])"
      ]
     },
     "metadata": {},
     "output_type": "display_data"
    },
    {
     "data": {
      "text/plain": [
       "'isactivemember'"
      ]
     },
     "metadata": {},
     "output_type": "display_data"
    },
    {
     "data": {
      "text/plain": [
       "array([1, 0])"
      ]
     },
     "metadata": {},
     "output_type": "display_data"
    },
    {
     "data": {
      "text/plain": [
       "'estimatedsalary'"
      ]
     },
     "metadata": {},
     "output_type": "display_data"
    },
    {
     "data": {
      "text/plain": [
       "array([101348.88, 112542.58, 113931.57, ..., 101699.77,  42085.58,\n",
       "        92888.52])"
      ]
     },
     "metadata": {},
     "output_type": "display_data"
    },
    {
     "data": {
      "text/plain": [
       "'exited'"
      ]
     },
     "metadata": {},
     "output_type": "display_data"
    },
    {
     "data": {
      "text/plain": [
       "array([1, 0])"
      ]
     },
     "metadata": {},
     "output_type": "display_data"
    },
    {
     "data": {
      "text/plain": [
       "'geography_Germany'"
      ]
     },
     "metadata": {},
     "output_type": "display_data"
    },
    {
     "data": {
      "text/plain": [
       "array([0, 1], dtype=uint64)"
      ]
     },
     "metadata": {},
     "output_type": "display_data"
    },
    {
     "data": {
      "text/plain": [
       "'geography_Spain'"
      ]
     },
     "metadata": {},
     "output_type": "display_data"
    },
    {
     "data": {
      "text/plain": [
       "array([0, 1], dtype=uint64)"
      ]
     },
     "metadata": {},
     "output_type": "display_data"
    },
    {
     "data": {
      "text/plain": [
       "'gender_Male'"
      ]
     },
     "metadata": {},
     "output_type": "display_data"
    },
    {
     "data": {
      "text/plain": [
       "array([0, 1], dtype=uint64)"
      ]
     },
     "metadata": {},
     "output_type": "display_data"
    }
   ],
   "source": [
    "for column in data_ohe.columns:\n",
    "    display (column, data_ohe[column].unique())"
   ]
  },
  {
   "cell_type": "markdown",
   "metadata": {},
   "source": [
    "Отделим целевой признак от других признаков, выделим обучающую, валидационноую и тестовые выборки."
   ]
  },
  {
   "cell_type": "code",
   "execution_count": 7,
   "metadata": {
    "scrolled": true
   },
   "outputs": [
    {
     "data": {
      "text/plain": [
       "(5454, 11)"
      ]
     },
     "metadata": {},
     "output_type": "display_data"
    },
    {
     "data": {
      "text/plain": [
       "(5454,)"
      ]
     },
     "metadata": {},
     "output_type": "display_data"
    },
    {
     "data": {
      "text/plain": [
       "(1818, 11)"
      ]
     },
     "metadata": {},
     "output_type": "display_data"
    },
    {
     "data": {
      "text/plain": [
       "(1818,)"
      ]
     },
     "metadata": {},
     "output_type": "display_data"
    },
    {
     "data": {
      "text/plain": [
       "(1819, 11)"
      ]
     },
     "metadata": {},
     "output_type": "display_data"
    },
    {
     "data": {
      "text/plain": [
       "(1819,)"
      ]
     },
     "metadata": {},
     "output_type": "display_data"
    }
   ],
   "source": [
    "features = data_ohe.drop(columns='exited', axis =1)\n",
    "target = data_ohe['exited']\n",
    "\n",
    "features_train, features_valid_test, target_train, target_valid_test = train_test_split(features, target, test_size=0.4, random_state=12345)\n",
    "features_valid, features_test, target_valid, target_test = train_test_split(features_valid_test, target_valid_test, test_size=0.5, random_state=12345)\n",
    "massives = [features_train,target_train, features_valid, target_valid, features_test, target_test]\n",
    "for massive in massives:\n",
    "    display (massive.shape)"
   ]
  },
  {
   "cell_type": "markdown",
   "metadata": {},
   "source": [
    "Проведем стандартизацию данных."
   ]
  },
  {
   "cell_type": "code",
   "execution_count": 8,
   "metadata": {},
   "outputs": [
    {
     "data": {
      "text/html": [
       "<div>\n",
       "<style scoped>\n",
       "    .dataframe tbody tr th:only-of-type {\n",
       "        vertical-align: middle;\n",
       "    }\n",
       "\n",
       "    .dataframe tbody tr th {\n",
       "        vertical-align: top;\n",
       "    }\n",
       "\n",
       "    .dataframe thead th {\n",
       "        text-align: right;\n",
       "    }\n",
       "</style>\n",
       "<table border=\"1\" class=\"dataframe\">\n",
       "  <thead>\n",
       "    <tr style=\"text-align: right;\">\n",
       "      <th></th>\n",
       "      <th>creditscore</th>\n",
       "      <th>age</th>\n",
       "      <th>tenure</th>\n",
       "      <th>balance</th>\n",
       "      <th>numofproducts</th>\n",
       "      <th>hascrcard</th>\n",
       "      <th>isactivemember</th>\n",
       "      <th>estimatedsalary</th>\n",
       "      <th>geography_Germany</th>\n",
       "      <th>geography_Spain</th>\n",
       "      <th>gender_Male</th>\n",
       "    </tr>\n",
       "  </thead>\n",
       "  <tbody>\n",
       "    <tr>\n",
       "      <td>9344</td>\n",
       "      <td>0.809075</td>\n",
       "      <td>-1.039327</td>\n",
       "      <td>-1.025995</td>\n",
       "      <td>0.554904</td>\n",
       "      <td>-0.908179</td>\n",
       "      <td>1</td>\n",
       "      <td>0</td>\n",
       "      <td>0.019508</td>\n",
       "      <td>0</td>\n",
       "      <td>0</td>\n",
       "      <td>0</td>\n",
       "    </tr>\n",
       "    <tr>\n",
       "      <td>3796</td>\n",
       "      <td>-1.152518</td>\n",
       "      <td>-1.227561</td>\n",
       "      <td>0.696524</td>\n",
       "      <td>0.480609</td>\n",
       "      <td>-0.908179</td>\n",
       "      <td>0</td>\n",
       "      <td>0</td>\n",
       "      <td>0.056167</td>\n",
       "      <td>0</td>\n",
       "      <td>0</td>\n",
       "      <td>1</td>\n",
       "    </tr>\n",
       "    <tr>\n",
       "      <td>7462</td>\n",
       "      <td>-0.398853</td>\n",
       "      <td>0.090079</td>\n",
       "      <td>1.385532</td>\n",
       "      <td>-1.237830</td>\n",
       "      <td>-0.908179</td>\n",
       "      <td>1</td>\n",
       "      <td>1</td>\n",
       "      <td>0.848738</td>\n",
       "      <td>0</td>\n",
       "      <td>0</td>\n",
       "      <td>1</td>\n",
       "    </tr>\n",
       "    <tr>\n",
       "      <td>1508</td>\n",
       "      <td>-0.749875</td>\n",
       "      <td>-0.286389</td>\n",
       "      <td>0.352020</td>\n",
       "      <td>-1.237830</td>\n",
       "      <td>0.809300</td>\n",
       "      <td>1</td>\n",
       "      <td>1</td>\n",
       "      <td>-0.894953</td>\n",
       "      <td>0</td>\n",
       "      <td>0</td>\n",
       "      <td>1</td>\n",
       "    </tr>\n",
       "    <tr>\n",
       "      <td>4478</td>\n",
       "      <td>-1.028628</td>\n",
       "      <td>-0.756975</td>\n",
       "      <td>-0.336987</td>\n",
       "      <td>-1.237830</td>\n",
       "      <td>0.809300</td>\n",
       "      <td>0</td>\n",
       "      <td>1</td>\n",
       "      <td>-1.284516</td>\n",
       "      <td>0</td>\n",
       "      <td>0</td>\n",
       "      <td>1</td>\n",
       "    </tr>\n",
       "    <tr>\n",
       "      <td>...</td>\n",
       "      <td>...</td>\n",
       "      <td>...</td>\n",
       "      <td>...</td>\n",
       "      <td>...</td>\n",
       "      <td>...</td>\n",
       "      <td>...</td>\n",
       "      <td>...</td>\n",
       "      <td>...</td>\n",
       "      <td>...</td>\n",
       "      <td>...</td>\n",
       "      <td>...</td>\n",
       "    </tr>\n",
       "    <tr>\n",
       "      <td>4938</td>\n",
       "      <td>1.283988</td>\n",
       "      <td>-0.474624</td>\n",
       "      <td>1.730036</td>\n",
       "      <td>0.813031</td>\n",
       "      <td>-0.908179</td>\n",
       "      <td>0</td>\n",
       "      <td>0</td>\n",
       "      <td>-1.092767</td>\n",
       "      <td>1</td>\n",
       "      <td>0</td>\n",
       "      <td>1</td>\n",
       "    </tr>\n",
       "    <tr>\n",
       "      <td>4529</td>\n",
       "      <td>0.158652</td>\n",
       "      <td>0.466548</td>\n",
       "      <td>1.041028</td>\n",
       "      <td>1.071609</td>\n",
       "      <td>-0.908179</td>\n",
       "      <td>1</td>\n",
       "      <td>1</td>\n",
       "      <td>0.260842</td>\n",
       "      <td>0</td>\n",
       "      <td>0</td>\n",
       "      <td>0</td>\n",
       "    </tr>\n",
       "    <tr>\n",
       "      <td>3866</td>\n",
       "      <td>-1.049276</td>\n",
       "      <td>-0.945210</td>\n",
       "      <td>0.352020</td>\n",
       "      <td>0.449165</td>\n",
       "      <td>-0.908179</td>\n",
       "      <td>1</td>\n",
       "      <td>1</td>\n",
       "      <td>-1.086965</td>\n",
       "      <td>0</td>\n",
       "      <td>0</td>\n",
       "      <td>0</td>\n",
       "    </tr>\n",
       "    <tr>\n",
       "      <td>2414</td>\n",
       "      <td>-0.956359</td>\n",
       "      <td>1.219485</td>\n",
       "      <td>1.385532</td>\n",
       "      <td>-1.237830</td>\n",
       "      <td>-0.908179</td>\n",
       "      <td>1</td>\n",
       "      <td>0</td>\n",
       "      <td>1.288527</td>\n",
       "      <td>0</td>\n",
       "      <td>0</td>\n",
       "      <td>0</td>\n",
       "    </tr>\n",
       "    <tr>\n",
       "      <td>5056</td>\n",
       "      <td>1.222043</td>\n",
       "      <td>-1.509912</td>\n",
       "      <td>-1.025995</td>\n",
       "      <td>1.015938</td>\n",
       "      <td>-0.908179</td>\n",
       "      <td>0</td>\n",
       "      <td>1</td>\n",
       "      <td>-1.244002</td>\n",
       "      <td>1</td>\n",
       "      <td>0</td>\n",
       "      <td>1</td>\n",
       "    </tr>\n",
       "  </tbody>\n",
       "</table>\n",
       "<p>5454 rows × 11 columns</p>\n",
       "</div>"
      ],
      "text/plain": [
       "      creditscore       age    tenure   balance  numofproducts  hascrcard  \\\n",
       "9344     0.809075 -1.039327 -1.025995  0.554904      -0.908179          1   \n",
       "3796    -1.152518 -1.227561  0.696524  0.480609      -0.908179          0   \n",
       "7462    -0.398853  0.090079  1.385532 -1.237830      -0.908179          1   \n",
       "1508    -0.749875 -0.286389  0.352020 -1.237830       0.809300          1   \n",
       "4478    -1.028628 -0.756975 -0.336987 -1.237830       0.809300          0   \n",
       "...           ...       ...       ...       ...            ...        ...   \n",
       "4938     1.283988 -0.474624  1.730036  0.813031      -0.908179          0   \n",
       "4529     0.158652  0.466548  1.041028  1.071609      -0.908179          1   \n",
       "3866    -1.049276 -0.945210  0.352020  0.449165      -0.908179          1   \n",
       "2414    -0.956359  1.219485  1.385532 -1.237830      -0.908179          1   \n",
       "5056     1.222043 -1.509912 -1.025995  1.015938      -0.908179          0   \n",
       "\n",
       "      isactivemember  estimatedsalary  geography_Germany  geography_Spain  \\\n",
       "9344               0         0.019508                  0                0   \n",
       "3796               0         0.056167                  0                0   \n",
       "7462               1         0.848738                  0                0   \n",
       "1508               1        -0.894953                  0                0   \n",
       "4478               1        -1.284516                  0                0   \n",
       "...              ...              ...                ...              ...   \n",
       "4938               0        -1.092767                  1                0   \n",
       "4529               1         0.260842                  0                0   \n",
       "3866               1        -1.086965                  0                0   \n",
       "2414               0         1.288527                  0                0   \n",
       "5056               1        -1.244002                  1                0   \n",
       "\n",
       "      gender_Male  \n",
       "9344            0  \n",
       "3796            1  \n",
       "7462            1  \n",
       "1508            1  \n",
       "4478            1  \n",
       "...           ...  \n",
       "4938            1  \n",
       "4529            0  \n",
       "3866            0  \n",
       "2414            0  \n",
       "5056            1  \n",
       "\n",
       "[5454 rows x 11 columns]"
      ]
     },
     "metadata": {},
     "output_type": "display_data"
    },
    {
     "data": {
      "text/html": [
       "<div>\n",
       "<style scoped>\n",
       "    .dataframe tbody tr th:only-of-type {\n",
       "        vertical-align: middle;\n",
       "    }\n",
       "\n",
       "    .dataframe tbody tr th {\n",
       "        vertical-align: top;\n",
       "    }\n",
       "\n",
       "    .dataframe thead th {\n",
       "        text-align: right;\n",
       "    }\n",
       "</style>\n",
       "<table border=\"1\" class=\"dataframe\">\n",
       "  <thead>\n",
       "    <tr style=\"text-align: right;\">\n",
       "      <th></th>\n",
       "      <th>creditscore</th>\n",
       "      <th>age</th>\n",
       "      <th>tenure</th>\n",
       "      <th>balance</th>\n",
       "      <th>numofproducts</th>\n",
       "      <th>hascrcard</th>\n",
       "      <th>isactivemember</th>\n",
       "      <th>estimatedsalary</th>\n",
       "      <th>geography_Germany</th>\n",
       "      <th>geography_Spain</th>\n",
       "      <th>gender_Male</th>\n",
       "    </tr>\n",
       "  </thead>\n",
       "  <tbody>\n",
       "    <tr>\n",
       "      <td>7445</td>\n",
       "      <td>-1.369326</td>\n",
       "      <td>0.560665</td>\n",
       "      <td>-0.336987</td>\n",
       "      <td>-1.237830</td>\n",
       "      <td>-0.908179</td>\n",
       "      <td>1</td>\n",
       "      <td>0</td>\n",
       "      <td>-0.086537</td>\n",
       "      <td>0</td>\n",
       "      <td>0</td>\n",
       "      <td>0</td>\n",
       "    </tr>\n",
       "    <tr>\n",
       "      <td>8620</td>\n",
       "      <td>1.232367</td>\n",
       "      <td>0.090079</td>\n",
       "      <td>1.041028</td>\n",
       "      <td>-1.237830</td>\n",
       "      <td>0.809300</td>\n",
       "      <td>0</td>\n",
       "      <td>1</td>\n",
       "      <td>-0.537457</td>\n",
       "      <td>0</td>\n",
       "      <td>0</td>\n",
       "      <td>0</td>\n",
       "    </tr>\n",
       "    <tr>\n",
       "      <td>1714</td>\n",
       "      <td>0.840048</td>\n",
       "      <td>0.560665</td>\n",
       "      <td>0.352020</td>\n",
       "      <td>1.231363</td>\n",
       "      <td>-0.908179</td>\n",
       "      <td>0</td>\n",
       "      <td>0</td>\n",
       "      <td>1.070393</td>\n",
       "      <td>1</td>\n",
       "      <td>0</td>\n",
       "      <td>1</td>\n",
       "    </tr>\n",
       "    <tr>\n",
       "      <td>5441</td>\n",
       "      <td>1.056856</td>\n",
       "      <td>-0.945210</td>\n",
       "      <td>-1.370498</td>\n",
       "      <td>0.951231</td>\n",
       "      <td>-0.908179</td>\n",
       "      <td>1</td>\n",
       "      <td>0</td>\n",
       "      <td>-0.576279</td>\n",
       "      <td>0</td>\n",
       "      <td>0</td>\n",
       "      <td>1</td>\n",
       "    </tr>\n",
       "    <tr>\n",
       "      <td>9001</td>\n",
       "      <td>0.406433</td>\n",
       "      <td>-0.662858</td>\n",
       "      <td>0.352020</td>\n",
       "      <td>0.767800</td>\n",
       "      <td>-0.908179</td>\n",
       "      <td>1</td>\n",
       "      <td>1</td>\n",
       "      <td>0.662068</td>\n",
       "      <td>0</td>\n",
       "      <td>1</td>\n",
       "      <td>1</td>\n",
       "    </tr>\n",
       "    <tr>\n",
       "      <td>...</td>\n",
       "      <td>...</td>\n",
       "      <td>...</td>\n",
       "      <td>...</td>\n",
       "      <td>...</td>\n",
       "      <td>...</td>\n",
       "      <td>...</td>\n",
       "      <td>...</td>\n",
       "      <td>...</td>\n",
       "      <td>...</td>\n",
       "      <td>...</td>\n",
       "      <td>...</td>\n",
       "    </tr>\n",
       "    <tr>\n",
       "      <td>7505</td>\n",
       "      <td>0.107031</td>\n",
       "      <td>-1.133444</td>\n",
       "      <td>-0.336987</td>\n",
       "      <td>-1.237830</td>\n",
       "      <td>0.809300</td>\n",
       "      <td>1</td>\n",
       "      <td>0</td>\n",
       "      <td>-0.016504</td>\n",
       "      <td>0</td>\n",
       "      <td>1</td>\n",
       "      <td>1</td>\n",
       "    </tr>\n",
       "    <tr>\n",
       "      <td>2232</td>\n",
       "      <td>0.003790</td>\n",
       "      <td>-0.286389</td>\n",
       "      <td>1.041028</td>\n",
       "      <td>-1.237830</td>\n",
       "      <td>0.809300</td>\n",
       "      <td>1</td>\n",
       "      <td>0</td>\n",
       "      <td>1.056449</td>\n",
       "      <td>0</td>\n",
       "      <td>1</td>\n",
       "      <td>1</td>\n",
       "    </tr>\n",
       "    <tr>\n",
       "      <td>3720</td>\n",
       "      <td>-1.813265</td>\n",
       "      <td>0.090079</td>\n",
       "      <td>1.041028</td>\n",
       "      <td>1.226442</td>\n",
       "      <td>0.809300</td>\n",
       "      <td>1</td>\n",
       "      <td>0</td>\n",
       "      <td>-0.468713</td>\n",
       "      <td>1</td>\n",
       "      <td>0</td>\n",
       "      <td>1</td>\n",
       "    </tr>\n",
       "    <tr>\n",
       "      <td>5196</td>\n",
       "      <td>0.726482</td>\n",
       "      <td>-1.604030</td>\n",
       "      <td>0.696524</td>\n",
       "      <td>0.610110</td>\n",
       "      <td>-0.908179</td>\n",
       "      <td>1</td>\n",
       "      <td>1</td>\n",
       "      <td>1.328951</td>\n",
       "      <td>0</td>\n",
       "      <td>0</td>\n",
       "      <td>0</td>\n",
       "    </tr>\n",
       "    <tr>\n",
       "      <td>2460</td>\n",
       "      <td>0.117356</td>\n",
       "      <td>0.184196</td>\n",
       "      <td>-1.370498</td>\n",
       "      <td>0.860215</td>\n",
       "      <td>-0.908179</td>\n",
       "      <td>1</td>\n",
       "      <td>0</td>\n",
       "      <td>-1.278650</td>\n",
       "      <td>1</td>\n",
       "      <td>0</td>\n",
       "      <td>1</td>\n",
       "    </tr>\n",
       "  </tbody>\n",
       "</table>\n",
       "<p>1818 rows × 11 columns</p>\n",
       "</div>"
      ],
      "text/plain": [
       "      creditscore       age    tenure   balance  numofproducts  hascrcard  \\\n",
       "7445    -1.369326  0.560665 -0.336987 -1.237830      -0.908179          1   \n",
       "8620     1.232367  0.090079  1.041028 -1.237830       0.809300          0   \n",
       "1714     0.840048  0.560665  0.352020  1.231363      -0.908179          0   \n",
       "5441     1.056856 -0.945210 -1.370498  0.951231      -0.908179          1   \n",
       "9001     0.406433 -0.662858  0.352020  0.767800      -0.908179          1   \n",
       "...           ...       ...       ...       ...            ...        ...   \n",
       "7505     0.107031 -1.133444 -0.336987 -1.237830       0.809300          1   \n",
       "2232     0.003790 -0.286389  1.041028 -1.237830       0.809300          1   \n",
       "3720    -1.813265  0.090079  1.041028  1.226442       0.809300          1   \n",
       "5196     0.726482 -1.604030  0.696524  0.610110      -0.908179          1   \n",
       "2460     0.117356  0.184196 -1.370498  0.860215      -0.908179          1   \n",
       "\n",
       "      isactivemember  estimatedsalary  geography_Germany  geography_Spain  \\\n",
       "7445               0        -0.086537                  0                0   \n",
       "8620               1        -0.537457                  0                0   \n",
       "1714               0         1.070393                  1                0   \n",
       "5441               0        -0.576279                  0                0   \n",
       "9001               1         0.662068                  0                1   \n",
       "...              ...              ...                ...              ...   \n",
       "7505               0        -0.016504                  0                1   \n",
       "2232               0         1.056449                  0                1   \n",
       "3720               0        -0.468713                  1                0   \n",
       "5196               1         1.328951                  0                0   \n",
       "2460               0        -1.278650                  1                0   \n",
       "\n",
       "      gender_Male  \n",
       "7445            0  \n",
       "8620            0  \n",
       "1714            1  \n",
       "5441            1  \n",
       "9001            1  \n",
       "...           ...  \n",
       "7505            1  \n",
       "2232            1  \n",
       "3720            1  \n",
       "5196            0  \n",
       "2460            1  \n",
       "\n",
       "[1818 rows x 11 columns]"
      ]
     },
     "metadata": {},
     "output_type": "display_data"
    },
    {
     "data": {
      "text/html": [
       "<div>\n",
       "<style scoped>\n",
       "    .dataframe tbody tr th:only-of-type {\n",
       "        vertical-align: middle;\n",
       "    }\n",
       "\n",
       "    .dataframe tbody tr th {\n",
       "        vertical-align: top;\n",
       "    }\n",
       "\n",
       "    .dataframe thead th {\n",
       "        text-align: right;\n",
       "    }\n",
       "</style>\n",
       "<table border=\"1\" class=\"dataframe\">\n",
       "  <thead>\n",
       "    <tr style=\"text-align: right;\">\n",
       "      <th></th>\n",
       "      <th>creditscore</th>\n",
       "      <th>age</th>\n",
       "      <th>tenure</th>\n",
       "      <th>balance</th>\n",
       "      <th>numofproducts</th>\n",
       "      <th>hascrcard</th>\n",
       "      <th>isactivemember</th>\n",
       "      <th>estimatedsalary</th>\n",
       "      <th>geography_Germany</th>\n",
       "      <th>geography_Spain</th>\n",
       "      <th>gender_Male</th>\n",
       "    </tr>\n",
       "  </thead>\n",
       "  <tbody>\n",
       "    <tr>\n",
       "      <td>5170</td>\n",
       "      <td>1.707279</td>\n",
       "      <td>-0.756975</td>\n",
       "      <td>-0.336987</td>\n",
       "      <td>-1.237830</td>\n",
       "      <td>0.809300</td>\n",
       "      <td>1</td>\n",
       "      <td>1</td>\n",
       "      <td>0.718362</td>\n",
       "      <td>0</td>\n",
       "      <td>0</td>\n",
       "      <td>0</td>\n",
       "    </tr>\n",
       "    <tr>\n",
       "      <td>4180</td>\n",
       "      <td>-0.429826</td>\n",
       "      <td>-0.286389</td>\n",
       "      <td>1.730036</td>\n",
       "      <td>0.485538</td>\n",
       "      <td>0.809300</td>\n",
       "      <td>0</td>\n",
       "      <td>0</td>\n",
       "      <td>1.687305</td>\n",
       "      <td>1</td>\n",
       "      <td>0</td>\n",
       "      <td>1</td>\n",
       "    </tr>\n",
       "    <tr>\n",
       "      <td>7349</td>\n",
       "      <td>-0.171721</td>\n",
       "      <td>0.278313</td>\n",
       "      <td>0.352020</td>\n",
       "      <td>-0.269213</td>\n",
       "      <td>0.809300</td>\n",
       "      <td>0</td>\n",
       "      <td>1</td>\n",
       "      <td>0.824128</td>\n",
       "      <td>1</td>\n",
       "      <td>0</td>\n",
       "      <td>1</td>\n",
       "    </tr>\n",
       "    <tr>\n",
       "      <td>7469</td>\n",
       "      <td>0.385784</td>\n",
       "      <td>-0.380507</td>\n",
       "      <td>1.041028</td>\n",
       "      <td>0.464813</td>\n",
       "      <td>-0.908179</td>\n",
       "      <td>1</td>\n",
       "      <td>0</td>\n",
       "      <td>-1.118018</td>\n",
       "      <td>0</td>\n",
       "      <td>0</td>\n",
       "      <td>0</td>\n",
       "    </tr>\n",
       "    <tr>\n",
       "      <td>3467</td>\n",
       "      <td>-1.142194</td>\n",
       "      <td>0.278313</td>\n",
       "      <td>-1.370498</td>\n",
       "      <td>0.353837</td>\n",
       "      <td>0.809300</td>\n",
       "      <td>0</td>\n",
       "      <td>1</td>\n",
       "      <td>-0.107642</td>\n",
       "      <td>1</td>\n",
       "      <td>0</td>\n",
       "      <td>0</td>\n",
       "    </tr>\n",
       "    <tr>\n",
       "      <td>...</td>\n",
       "      <td>...</td>\n",
       "      <td>...</td>\n",
       "      <td>...</td>\n",
       "      <td>...</td>\n",
       "      <td>...</td>\n",
       "      <td>...</td>\n",
       "      <td>...</td>\n",
       "      <td>...</td>\n",
       "      <td>...</td>\n",
       "      <td>...</td>\n",
       "      <td>...</td>\n",
       "    </tr>\n",
       "    <tr>\n",
       "      <td>8579</td>\n",
       "      <td>0.014114</td>\n",
       "      <td>-0.474624</td>\n",
       "      <td>-0.336987</td>\n",
       "      <td>0.474274</td>\n",
       "      <td>-0.908179</td>\n",
       "      <td>0</td>\n",
       "      <td>1</td>\n",
       "      <td>0.734995</td>\n",
       "      <td>0</td>\n",
       "      <td>0</td>\n",
       "      <td>1</td>\n",
       "    </tr>\n",
       "    <tr>\n",
       "      <td>7536</td>\n",
       "      <td>0.499350</td>\n",
       "      <td>0.278313</td>\n",
       "      <td>-1.370498</td>\n",
       "      <td>-1.237830</td>\n",
       "      <td>-0.908179</td>\n",
       "      <td>1</td>\n",
       "      <td>0</td>\n",
       "      <td>-1.704943</td>\n",
       "      <td>0</td>\n",
       "      <td>0</td>\n",
       "      <td>0</td>\n",
       "    </tr>\n",
       "    <tr>\n",
       "      <td>2911</td>\n",
       "      <td>0.003790</td>\n",
       "      <td>1.219485</td>\n",
       "      <td>1.041028</td>\n",
       "      <td>-0.444590</td>\n",
       "      <td>-0.908179</td>\n",
       "      <td>1</td>\n",
       "      <td>0</td>\n",
       "      <td>-1.006086</td>\n",
       "      <td>0</td>\n",
       "      <td>0</td>\n",
       "      <td>0</td>\n",
       "    </tr>\n",
       "    <tr>\n",
       "      <td>2789</td>\n",
       "      <td>0.581944</td>\n",
       "      <td>0.466548</td>\n",
       "      <td>-1.715002</td>\n",
       "      <td>1.742887</td>\n",
       "      <td>-0.908179</td>\n",
       "      <td>1</td>\n",
       "      <td>0</td>\n",
       "      <td>-0.541247</td>\n",
       "      <td>0</td>\n",
       "      <td>1</td>\n",
       "      <td>1</td>\n",
       "    </tr>\n",
       "    <tr>\n",
       "      <td>7755</td>\n",
       "      <td>0.272218</td>\n",
       "      <td>-0.474624</td>\n",
       "      <td>1.041028</td>\n",
       "      <td>-1.237830</td>\n",
       "      <td>0.809300</td>\n",
       "      <td>1</td>\n",
       "      <td>1</td>\n",
       "      <td>1.455393</td>\n",
       "      <td>0</td>\n",
       "      <td>0</td>\n",
       "      <td>1</td>\n",
       "    </tr>\n",
       "  </tbody>\n",
       "</table>\n",
       "<p>1819 rows × 11 columns</p>\n",
       "</div>"
      ],
      "text/plain": [
       "      creditscore       age    tenure   balance  numofproducts  hascrcard  \\\n",
       "5170     1.707279 -0.756975 -0.336987 -1.237830       0.809300          1   \n",
       "4180    -0.429826 -0.286389  1.730036  0.485538       0.809300          0   \n",
       "7349    -0.171721  0.278313  0.352020 -0.269213       0.809300          0   \n",
       "7469     0.385784 -0.380507  1.041028  0.464813      -0.908179          1   \n",
       "3467    -1.142194  0.278313 -1.370498  0.353837       0.809300          0   \n",
       "...           ...       ...       ...       ...            ...        ...   \n",
       "8579     0.014114 -0.474624 -0.336987  0.474274      -0.908179          0   \n",
       "7536     0.499350  0.278313 -1.370498 -1.237830      -0.908179          1   \n",
       "2911     0.003790  1.219485  1.041028 -0.444590      -0.908179          1   \n",
       "2789     0.581944  0.466548 -1.715002  1.742887      -0.908179          1   \n",
       "7755     0.272218 -0.474624  1.041028 -1.237830       0.809300          1   \n",
       "\n",
       "      isactivemember  estimatedsalary  geography_Germany  geography_Spain  \\\n",
       "5170               1         0.718362                  0                0   \n",
       "4180               0         1.687305                  1                0   \n",
       "7349               1         0.824128                  1                0   \n",
       "7469               0        -1.118018                  0                0   \n",
       "3467               1        -0.107642                  1                0   \n",
       "...              ...              ...                ...              ...   \n",
       "8579               1         0.734995                  0                0   \n",
       "7536               0        -1.704943                  0                0   \n",
       "2911               0        -1.006086                  0                0   \n",
       "2789               0        -0.541247                  0                1   \n",
       "7755               1         1.455393                  0                0   \n",
       "\n",
       "      gender_Male  \n",
       "5170            0  \n",
       "4180            1  \n",
       "7349            1  \n",
       "7469            0  \n",
       "3467            0  \n",
       "...           ...  \n",
       "8579            1  \n",
       "7536            0  \n",
       "2911            0  \n",
       "2789            1  \n",
       "7755            1  \n",
       "\n",
       "[1819 rows x 11 columns]"
      ]
     },
     "metadata": {},
     "output_type": "display_data"
    }
   ],
   "source": [
    "numeric = ['creditscore', 'age', 'tenure', 'balance', 'numofproducts', 'estimatedsalary']\n",
    "scaler = StandardScaler()\n",
    "scaler.fit(features_train[numeric])\n",
    "features_train[numeric] = scaler.transform(features_train[numeric])\n",
    "features_valid[numeric] = scaler.transform(features_valid[numeric])\n",
    "features_test[numeric] = scaler.transform(features_test[numeric])\n",
    "\n",
    "\n",
    "features_train = pd.DataFrame(features_train, index=target_train.index, columns=data_ohe.drop(columns='exited', axis =1).columns)\n",
    "features_valid = pd.DataFrame(features_valid, index=target_valid.index, columns=data_ohe.drop(columns='exited', axis =1).columns)\n",
    "features_test = pd.DataFrame(features_test, index=target_test.index, columns=data_ohe.drop(columns='exited', axis =1).columns)\n",
    "\n",
    "display(features_train)\n",
    "display(features_valid)\n",
    "display(features_test)"
   ]
  },
  {
   "cell_type": "markdown",
   "metadata": {},
   "source": [
    "## Создание моделей"
   ]
  },
  {
   "cell_type": "markdown",
   "metadata": {},
   "source": [
    "Посмотрим соотношение ушедших и оставшихся клиентов"
   ]
  },
  {
   "cell_type": "code",
   "execution_count": 9,
   "metadata": {},
   "outputs": [
    {
     "data": {
      "text/plain": [
       "0.2039379606203938"
      ]
     },
     "execution_count": 9,
     "metadata": {},
     "output_type": "execute_result"
    }
   ],
   "source": [
    "share = target.sum()/target.count()\n",
    "share"
   ]
  },
  {
   "cell_type": "markdown",
   "metadata": {},
   "source": [
    "Доля ушедших - 20%. Обучим модели без изменения дисбаланса классов."
   ]
  },
  {
   "cell_type": "markdown",
   "metadata": {},
   "source": [
    "### Модель логистической регрессии"
   ]
  },
  {
   "cell_type": "code",
   "execution_count": 10,
   "metadata": {},
   "outputs": [
    {
     "name": "stdout",
     "output_type": "stream",
     "text": [
      "F1: 0.30400000000000005 AUC_ROC: 0.7736191158144302\n"
     ]
    }
   ],
   "source": [
    "model = LogisticRegression(random_state=12345, solver='liblinear')\n",
    "model.fit(features_train, target_train)\n",
    "predicted_valid = model.predict(features_valid)\n",
    "probabilities_valid = model.predict_proba(features_valid)\n",
    "probabilities_one_valid = probabilities_valid[:, 1]\n",
    "auc_roc = roc_auc_score(target_valid, probabilities_one_valid)\n",
    "print(\"F1:\", f1_score(target_valid, predicted_valid), \"AUC_ROC:\", auc_roc)"
   ]
  },
  {
   "cell_type": "markdown",
   "metadata": {},
   "source": [
    "### Модель решающего дерева"
   ]
  },
  {
   "cell_type": "code",
   "execution_count": 11,
   "metadata": {},
   "outputs": [
    {
     "name": "stdout",
     "output_type": "stream",
     "text": [
      "Лучший F1: 0.5764331210191083 Максимальная глубина: 7 AUC_ROC: 0.8346049843812412\n"
     ]
    },
    {
     "name": "stderr",
     "output_type": "stream",
     "text": [
      "/opt/conda/lib/python3.7/site-packages/sklearn/metrics/classification.py:1437: UndefinedMetricWarning: F-score is ill-defined and being set to 0.0 due to no predicted samples.\n",
      "  'precision', 'predicted', average, warn_for)\n"
     ]
    }
   ],
   "source": [
    "best_model_tree = None\n",
    "best_result = 0\n",
    "best_depth = 0\n",
    "best_auc_roc = 0\n",
    "for depth in range(1, 11):\n",
    "    model_DecisionTreeClassifier = DecisionTreeClassifier(random_state=12345, max_depth=depth)\n",
    "    model_DecisionTreeClassifier.fit(features_train, target_train)\n",
    "    predicted_valid = model_DecisionTreeClassifier.predict(features_valid)\n",
    "    result= f1_score(target_valid, predicted_valid)\n",
    "    probabilities_valid = model_DecisionTreeClassifier.predict_proba(features_valid)\n",
    "    probabilities_one_valid = probabilities_valid[:, 1]\n",
    "    auc_roc = roc_auc_score(target_valid, probabilities_one_valid)\n",
    "    if result > best_result:\n",
    "        best_model_tree = model_DecisionTreeClassifier\n",
    "        best_result = result\n",
    "        best_depth = depth\n",
    "        best_auc_roc = auc_roc\n",
    "print(\"Лучший F1:\", best_result, \"Максимальная глубина:\", best_depth, \"AUC_ROC:\", best_auc_roc)"
   ]
  },
  {
   "cell_type": "markdown",
   "metadata": {},
   "source": [
    "### Модель случайного леса"
   ]
  },
  {
   "cell_type": "code",
   "execution_count": 12,
   "metadata": {
    "scrolled": true
   },
   "outputs": [
    {
     "name": "stderr",
     "output_type": "stream",
     "text": [
      "/opt/conda/lib/python3.7/site-packages/sklearn/metrics/classification.py:1437: UndefinedMetricWarning: F-score is ill-defined and being set to 0.0 due to no predicted samples.\n",
      "  'precision', 'predicted', average, warn_for)\n",
      "/opt/conda/lib/python3.7/site-packages/sklearn/metrics/classification.py:1437: UndefinedMetricWarning: F-score is ill-defined and being set to 0.0 due to no predicted samples.\n",
      "  'precision', 'predicted', average, warn_for)\n",
      "/opt/conda/lib/python3.7/site-packages/sklearn/metrics/classification.py:1437: UndefinedMetricWarning: F-score is ill-defined and being set to 0.0 due to no predicted samples.\n",
      "  'precision', 'predicted', average, warn_for)\n",
      "/opt/conda/lib/python3.7/site-packages/sklearn/metrics/classification.py:1437: UndefinedMetricWarning: F-score is ill-defined and being set to 0.0 due to no predicted samples.\n",
      "  'precision', 'predicted', average, warn_for)\n",
      "/opt/conda/lib/python3.7/site-packages/sklearn/metrics/classification.py:1437: UndefinedMetricWarning: F-score is ill-defined and being set to 0.0 due to no predicted samples.\n",
      "  'precision', 'predicted', average, warn_for)\n"
     ]
    },
    {
     "name": "stdout",
     "output_type": "stream",
     "text": [
      "Лучший F1: 0.594855305466238 Количество деревьев: 40 Максимальная глубина: 99 AUC_ROC: 0.8539696681312897\n"
     ]
    }
   ],
   "source": [
    "best_model_RandomForestClassifier = None\n",
    "best_result = 0\n",
    "best_est = 0\n",
    "best_depth = 0\n",
    "best_auc_roc = 0\n",
    "for est in range(10, 51, 10):\n",
    "    for depth in range (1, 100):\n",
    "        model_RandomForestClassifier = RandomForestClassifier(random_state=12345, n_estimators=est, max_depth=depth)\n",
    "        model_RandomForestClassifier.fit(features_train, target_train)\n",
    "        predicted_valid = model_RandomForestClassifier.predict(features_valid) \n",
    "        result = f1_score(target_valid, predicted_valid)\n",
    "        probabilities_valid = model_RandomForestClassifier.predict_proba(features_valid)\n",
    "        probabilities_one_valid = probabilities_valid[:, 1]\n",
    "        auc_roc = roc_auc_score(target_valid, probabilities_one_valid)\n",
    "        if result > best_result:\n",
    "            best_model_RandomForestClassifier = model_RandomForestClassifier\n",
    "            best_result = result\n",
    "            best_est = est\n",
    "            best_depth = depth\n",
    "            best_auc_roc = auc_roc\n",
    "\n",
    "print(\"Лучший F1:\", best_result, \"Количество деревьев:\", best_est, \"Максимальная глубина:\", depth, \"AUC_ROC:\", best_auc_roc)"
   ]
  },
  {
   "cell_type": "markdown",
   "metadata": {},
   "source": [
    "## Борьба с дисбалансом"
   ]
  },
  {
   "cell_type": "markdown",
   "metadata": {},
   "source": [
    "Сбалансируем классы"
   ]
  },
  {
   "cell_type": "markdown",
   "metadata": {},
   "source": [
    "### Модель логистической регрессии"
   ]
  },
  {
   "cell_type": "code",
   "execution_count": 13,
   "metadata": {},
   "outputs": [
    {
     "name": "stdout",
     "output_type": "stream",
     "text": [
      "F1: 0.509731232622799 AUC_ROC: 0.7777884132187896\n"
     ]
    }
   ],
   "source": [
    "model_LogisticRegression = LogisticRegression(random_state=12345, solver='liblinear', class_weight='balanced')\n",
    "model_LogisticRegression.fit(features_train, target_train)\n",
    "predicted_valid = model_LogisticRegression.predict(features_valid)\n",
    "probabilities_valid = model_LogisticRegression.predict_proba(features_valid)\n",
    "probabilities_one_valid = probabilities_valid[:, 1]\n",
    "auc_roc = roc_auc_score(target_valid, probabilities_one_valid)\n",
    "print(\"F1:\", f1_score(target_valid, predicted_valid), \"AUC_ROC:\", auc_roc)"
   ]
  },
  {
   "cell_type": "markdown",
   "metadata": {},
   "source": [
    "### Модель решающего дерева"
   ]
  },
  {
   "cell_type": "code",
   "execution_count": 14,
   "metadata": {},
   "outputs": [
    {
     "name": "stdout",
     "output_type": "stream",
     "text": [
      "Лучший F1: 0.594855305466238 Максимальная глубина: 5 AUC_ROC: 0.8396523192522141\n"
     ]
    }
   ],
   "source": [
    "best_model_tree = None\n",
    "best_f1_score = 0\n",
    "best_depth = 0\n",
    "for depth in range(1, 11):\n",
    "    model_DecisionTreeClassifier = DecisionTreeClassifier(random_state=12345, max_depth=depth, class_weight='balanced')\n",
    "    model_DecisionTreeClassifier.fit(features_train, target_train)\n",
    "    predicted_valid = model_DecisionTreeClassifier.predict(features_valid)\n",
    "    result= f1_score(target_valid, predicted_valid)\n",
    "    probabilities_valid = model_DecisionTreeClassifier.predict_proba(features_valid)\n",
    "    probabilities_one_valid = probabilities_valid[:, 1]\n",
    "    auc_roc = roc_auc_score(target_valid, probabilities_one_valid)\n",
    "    if result > best_f1_score:\n",
    "        best_model_tree = model_DecisionTreeClassifier\n",
    "        best_f1_score = result\n",
    "        best_depth = depth\n",
    "        best_auc_roc = auc_roc\n",
    "print(\"Лучший F1:\", best_result, \"Максимальная глубина:\", best_depth, \"AUC_ROC:\", best_auc_roc)"
   ]
  },
  {
   "cell_type": "markdown",
   "metadata": {},
   "source": [
    "### Модель случайного леса"
   ]
  },
  {
   "cell_type": "code",
   "execution_count": 15,
   "metadata": {},
   "outputs": [
    {
     "name": "stdout",
     "output_type": "stream",
     "text": [
      "Лучший F1: 0.6442786069651741 Количество деревьев: 40 Максимальная глубина: 99 AUC_ROC: 0.8682170685329411\n"
     ]
    }
   ],
   "source": [
    "best_model_RandomForestClassifier = None\n",
    "best_result = 0\n",
    "best_est = 0\n",
    "best_depth = 0\n",
    "best_auc_roc = 0\n",
    "for est in range(40, 51, 10):\n",
    "    for depth in range (1, 100):\n",
    "        model_RandomForestClassifier = RandomForestClassifier(random_state=12345, n_estimators=est, max_depth=depth, class_weight='balanced')\n",
    "        model_RandomForestClassifier.fit(features_train, target_train)\n",
    "        predicted_valid = model_RandomForestClassifier.predict(features_valid) \n",
    "        result = f1_score(target_valid, predicted_valid)\n",
    "        probabilities_valid = model_RandomForestClassifier.predict_proba(features_valid)\n",
    "        probabilities_one_valid = probabilities_valid[:, 1]\n",
    "        auc_roc = roc_auc_score(target_valid, probabilities_one_valid)\n",
    "        if result > best_result:\n",
    "            best_model_RandomForestClassifier = model_RandomForestClassifier\n",
    "            best_result = result\n",
    "            best_est = est\n",
    "            best_depth = depth\n",
    "            best_auc_roc = auc_roc\n",
    "\n",
    "print(\"Лучший F1:\", best_result, \"Количество деревьев:\", best_est, \"Максимальная глубина:\", depth, \"AUC_ROC:\", best_auc_roc)"
   ]
  },
  {
   "cell_type": "code",
   "execution_count": 16,
   "metadata": {},
   "outputs": [
    {
     "name": "stdout",
     "output_type": "stream",
     "text": [
      "F1: 0.6016042780748663 AUC_ROC: 0.7619297142457905\n",
      "[[1296  172]\n",
      " [ 126  225]]\n"
     ]
    }
   ],
   "source": [
    "predicted_test = best_model_RandomForestClassifier.predict(features_test)\n",
    "print(\"F1:\", f1_score(target_test, predicted_test), \"AUC_ROC:\", roc_auc_score(target_test, predicted_test))\n",
    "print(confusion_matrix(target_test,predicted_test))"
   ]
  },
  {
   "cell_type": "markdown",
   "metadata": {},
   "source": [
    "Качество модели логистической регрессии существенно повысилось, случайного леса улучшилось незначительно, решающего дерева ухудшилось. Найдем лучшую модель логистической регрессии изменяя пороги."
   ]
  },
  {
   "cell_type": "markdown",
   "metadata": {},
   "source": [
    "### Изменение порогов логистической регрессии"
   ]
  },
  {
   "cell_type": "code",
   "execution_count": 17,
   "metadata": {},
   "outputs": [
    {
     "name": "stdout",
     "output_type": "stream",
     "text": [
      "F1: 0.5156576200417536 Порог: 0.54 AUC_ROC: 0.7777884132187896\n"
     ]
    }
   ],
   "source": [
    "best_result = 0\n",
    "best_threshold = 0\n",
    "best_auc_roc = 0\n",
    "\n",
    "for threshold in np.arange(0, 0.81, 0.02):\n",
    "    predicted_valid = probabilities_one_valid > threshold\n",
    "    result = f1_score(target_valid, predicted_valid)\n",
    "    probabilities_valid = model_LogisticRegression.predict_proba(features_valid)\n",
    "    probabilities_one_valid = probabilities_valid[:, 1]\n",
    "    auc_roc = roc_auc_score(target_valid, probabilities_one_valid)\n",
    "    if result > best_result:\n",
    "            best_result = result\n",
    "            best_threshold = threshold\n",
    "            best_auc_roc = auc_roc\n",
    "print(\"F1:\", best_result, \"Порог:\", best_threshold, \"AUC_ROC:\", best_auc_roc)\n"
   ]
  },
  {
   "cell_type": "markdown",
   "metadata": {},
   "source": [
    "Лучший F1 = 0.514 достигается при пороге 0.54, c AUC_ROC = 0,711 - это незначительно лучше, достигнутого уровня без изменения порога."
   ]
  },
  {
   "cell_type": "markdown",
   "metadata": {},
   "source": [
    "### Увеличение выборки\n",
    "Увеличим долю объектов с положительным исходом, чтобы лучше обучить модель"
   ]
  },
  {
   "cell_type": "code",
   "execution_count": 18,
   "metadata": {},
   "outputs": [
    {
     "data": {
      "text/plain": [
       "'features_upsampled'"
      ]
     },
     "metadata": {},
     "output_type": "display_data"
    },
    {
     "data": {
      "text/plain": [
       "(8832, 11)"
      ]
     },
     "metadata": {},
     "output_type": "display_data"
    },
    {
     "data": {
      "text/plain": [
       "'target_upsampled'"
      ]
     },
     "metadata": {},
     "output_type": "display_data"
    },
    {
     "data": {
      "text/plain": [
       "(8832,)"
      ]
     },
     "metadata": {},
     "output_type": "display_data"
    }
   ],
   "source": [
    "def upsample(features, target, repeat):\n",
    "    features_zeros = features[target == 0]\n",
    "    features_ones = features[target == 1]\n",
    "    target_zeros = target[target == 0]\n",
    "    target_ones = target[target == 1]\n",
    "\n",
    "    features_upsampled = pd.concat([features_zeros] + [features_ones] * repeat)\n",
    "    target_upsampled = pd.concat([target_zeros] + [target_ones] * repeat)\n",
    "    \n",
    "    features_upsampled, target_upsampled = shuffle(\n",
    "    features_upsampled, target_upsampled, random_state=12345)\n",
    "    \n",
    "    return features_upsampled, target_upsampled\n",
    "\n",
    "features_upsampled, target_upsampled = upsample(features_train, target_train, 4)\n",
    "display( \"features_upsampled\", features_upsampled.shape)\n",
    "display(\"target_upsampled\", target_upsampled.shape)"
   ]
  },
  {
   "cell_type": "code",
   "execution_count": 19,
   "metadata": {},
   "outputs": [
    {
     "data": {
      "text/plain": [
       "0.509963768115942"
      ]
     },
     "execution_count": 19,
     "metadata": {},
     "output_type": "execute_result"
    }
   ],
   "source": [
    "share = target_upsampled.sum()/target_upsampled.count()\n",
    "share"
   ]
  },
  {
   "cell_type": "markdown",
   "metadata": {},
   "source": [
    "#### Логистическая регрессия"
   ]
  },
  {
   "cell_type": "code",
   "execution_count": 20,
   "metadata": {},
   "outputs": [
    {
     "name": "stdout",
     "output_type": "stream",
     "text": [
      "F1: 0.509731232622799 AUC_ROC: 0.7777552797294834\n"
     ]
    }
   ],
   "source": [
    "model_LogisticRegression_upsampled = LogisticRegression(random_state=12345, solver='liblinear', class_weight='balanced')\n",
    "model_LogisticRegression_upsampled.fit(features_upsampled, target_upsampled)\n",
    "predicted_valid = model_LogisticRegression_upsampled.predict(features_valid)\n",
    "probabilities_valid = model_LogisticRegression_upsampled.predict_proba(features_valid)\n",
    "probabilities_one_valid = probabilities_valid[:, 1]\n",
    "auc_roc = roc_auc_score(target_valid, probabilities_one_valid)\n",
    "print(\"F1:\", f1_score(target_valid, predicted_valid), \"AUC_ROC:\", auc_roc)"
   ]
  },
  {
   "cell_type": "markdown",
   "metadata": {},
   "source": [
    "Результат не изменился. Значит имеющихся данных хватило модели для обучения."
   ]
  },
  {
   "cell_type": "markdown",
   "metadata": {},
   "source": [
    "#### Решающее дерево"
   ]
  },
  {
   "cell_type": "code",
   "execution_count": 21,
   "metadata": {},
   "outputs": [
    {
     "name": "stdout",
     "output_type": "stream",
     "text": [
      "Лучший F1: 0.5156576200417536 Максимальная глубина: 5 AUC_ROC: 0.8396523192522141\n"
     ]
    }
   ],
   "source": [
    "best_model_tree_upsampled = None\n",
    "best_f1_score = 0\n",
    "best_depth = 0\n",
    "for depth in range(1, 11):\n",
    "    model_DecisionTreeClassifier = DecisionTreeClassifier(random_state=12345, max_depth=depth)\n",
    "    model_DecisionTreeClassifier.fit(features_upsampled, target_upsampled)\n",
    "    predicted_valid = model_DecisionTreeClassifier.predict(features_valid)\n",
    "    result= f1_score(target_valid, predicted_valid)\n",
    "    probabilities_valid = model_DecisionTreeClassifier.predict_proba(features_valid)\n",
    "    probabilities_one_valid = probabilities_valid[:, 1]\n",
    "    auc_roc = roc_auc_score(target_valid, probabilities_one_valid)\n",
    "    if result > best_f1_score:\n",
    "        best_model_tree_upsampled = model_DecisionTreeClassifier\n",
    "        best_f1_score = result\n",
    "        best_depth = depth\n",
    "        best_auc_roc = auc_roc\n",
    "print(\"Лучший F1:\", best_result, \"Максимальная глубина:\", best_depth, \"AUC_ROC:\", best_auc_roc)"
   ]
  },
  {
   "cell_type": "markdown",
   "metadata": {},
   "source": [
    "Для данной модели upsample снизил F1 с 0,59 до 0,51, поэтому будем использовать версию, обученную на данных без upsample."
   ]
  },
  {
   "cell_type": "markdown",
   "metadata": {},
   "source": [
    "#### Случайный лес"
   ]
  },
  {
   "cell_type": "code",
   "execution_count": 22,
   "metadata": {},
   "outputs": [
    {
     "name": "stdout",
     "output_type": "stream",
     "text": [
      "Лучший F1: 0.6304347826086956 Количество деревьев: 40 Максимальная глубина: 99 AUC_ROC: 0.8630371997047439\n"
     ]
    }
   ],
   "source": [
    "best_model_RandomForestClassifier_upsampled = None\n",
    "best_result = 0\n",
    "best_est = 0\n",
    "best_depth = 0\n",
    "best_auc_roc = 0\n",
    "for est in range(40, 51, 10):\n",
    "    for depth in range (1, 100):\n",
    "        model_RandomForestClassifier = RandomForestClassifier(random_state=12345, n_estimators=est, max_depth=depth, class_weight='balanced')\n",
    "        model_RandomForestClassifier.fit(features_upsampled, target_upsampled)\n",
    "        predicted_valid = model_RandomForestClassifier.predict(features_valid) \n",
    "        result = f1_score(target_valid, predicted_valid)\n",
    "        probabilities_valid = model_RandomForestClassifier.predict_proba(features_valid)\n",
    "        probabilities_one_valid = probabilities_valid[:, 1]\n",
    "        auc_roc = roc_auc_score(target_valid, probabilities_one_valid)\n",
    "        if result > best_result:\n",
    "            best_model_RandomForestClassifier_upsampled = model_RandomForestClassifier\n",
    "            best_result = result\n",
    "            best_est = est\n",
    "            best_depth = depth\n",
    "            best_auc_roc = auc_roc\n",
    "\n",
    "print(\"Лучший F1:\", best_result, \"Количество деревьев:\", best_est, \"Максимальная глубина:\", depth, \"AUC_ROC:\", best_auc_roc)"
   ]
  },
  {
   "cell_type": "markdown",
   "metadata": {},
   "source": [
    "Метрика F1 модели на увеличенных данных несколько хуже: 0,63 против 0,64."
   ]
  },
  {
   "cell_type": "markdown",
   "metadata": {},
   "source": [
    "## Тестирование модели"
   ]
  },
  {
   "cell_type": "markdown",
   "metadata": {},
   "source": [
    "Проведем тестирование моделей на тестовых данных."
   ]
  },
  {
   "cell_type": "markdown",
   "metadata": {},
   "source": [
    "### Логистическая регрессия"
   ]
  },
  {
   "cell_type": "code",
   "execution_count": 33,
   "metadata": {},
   "outputs": [
    {
     "name": "stdout",
     "output_type": "stream",
     "text": [
      "F1: 0.4916201117318436 Порог: 0.54 AUC_ROC: 0.7817621121435836\n",
      "[[1144  324]\n",
      " [ 131  220]]\n"
     ]
    }
   ],
   "source": [
    "probabilities_test = model_LogisticRegression.predict_proba(features_test)\n",
    "probabilities_one_test = probabilities_test[:, 1]\n",
    "\n",
    "predicted_test = probabilities_one_test > best_threshold\n",
    "print(\"F1:\", f1_score(target_test, predicted_test), \"Порог:\", best_threshold, \"AUC_ROC:\",\n",
    "      roc_auc_score(target_test, probabilities_one_test))\n",
    "print(confusion_matrix(target_test,predicted_test))"
   ]
  },
  {
   "cell_type": "markdown",
   "metadata": {},
   "source": [
    "Модель практически не переобучена, F1 снизилась с 0,5 до 0,49 "
   ]
  },
  {
   "cell_type": "markdown",
   "metadata": {},
   "source": [
    "### Модель решающего дерева"
   ]
  },
  {
   "cell_type": "code",
   "execution_count": 31,
   "metadata": {},
   "outputs": [
    {
     "name": "stdout",
     "output_type": "stream",
     "text": [
      "F1: 0.5653631284916201 AUC_ROC: 0.8374962155616106\n",
      "[[1177  291]\n",
      " [  98  253]]\n"
     ]
    }
   ],
   "source": [
    "predicted_test = best_model_tree.predict(features_test)\n",
    "probabilities_test = best_model_tree.predict_proba(features_test)\n",
    "probabilities_one_test = probabilities_test[:, 1]\n",
    "auc_roc = roc_auc_score(target_test, probabilities_one_test)\n",
    "print(\"F1:\", f1_score(target_test, predicted_test), \"AUC_ROC:\", auc_roc)\n",
    "print(confusion_matrix(target_test,predicted_test))"
   ]
  },
  {
   "cell_type": "markdown",
   "metadata": {},
   "source": [
    "F1 снизилась с 0,59 до 0,56."
   ]
  },
  {
   "cell_type": "markdown",
   "metadata": {},
   "source": [
    "### Модель случайного леса"
   ]
  },
  {
   "cell_type": "code",
   "execution_count": 27,
   "metadata": {},
   "outputs": [
    {
     "name": "stdout",
     "output_type": "stream",
     "text": [
      "F1: 0.6016042780748663 AUC_ROC: 0.8546698028986858\n",
      "[[1296  172]\n",
      " [ 126  225]]\n"
     ]
    }
   ],
   "source": [
    "predicted_test = best_model_RandomForestClassifier.predict(features_test)\n",
    "probabilities_test = best_model_RandomForestClassifier.predict_proba(features_test)\n",
    "probabilities_one_test = probabilities_test[:, 1]\n",
    "print(\"F1:\", f1_score(target_test, predicted_test), \"AUC_ROC:\", roc_auc_score(target_test, probabilities_one_test))\n",
    "print(confusion_matrix(target_test,predicted_test))"
   ]
  },
  {
   "cell_type": "markdown",
   "metadata": {},
   "source": [
    "Только модель случайного леса достигла целевого значения F1 - 0,59. AUC_ROC составил 0,85"
   ]
  },
  {
   "cell_type": "markdown",
   "metadata": {},
   "source": [
    "### Проверим модели на адекватность"
   ]
  },
  {
   "cell_type": "code",
   "execution_count": 29,
   "metadata": {},
   "outputs": [
    {
     "name": "stdout",
     "output_type": "stream",
     "text": [
      "F1: 0.20000000000000004 AUC_ROC: 0.494272508223548\n"
     ]
    }
   ],
   "source": [
    "dummy_results = []\n",
    "dc = DummyClassifier(strategy = 'stratified', random_state = 12345)\n",
    "dc.fit(features_train, target_train)\n",
    "predicted_valid = dc.predict(features_valid)\n",
    "probabilities_valid = dc.predict_proba(features_valid)\n",
    "probabilities_one_valid = probabilities_valid[:, 1]\n",
    "print(\"F1:\", f1_score(target_valid, predicted_valid), \"AUC_ROC:\", roc_auc_score(target_valid, probabilities_one_valid))"
   ]
  },
  {
   "cell_type": "markdown",
   "metadata": {},
   "source": [
    "\"Простая модель\" показала значительно меньшее значение F1, чем обученные модели. Поэтому ценность полученных моделей есть."
   ]
  },
  {
   "cell_type": "markdown",
   "metadata": {},
   "source": [
    "# ВЫВОД"
   ]
  },
  {
   "cell_type": "markdown",
   "metadata": {},
   "source": [
    "Наилучшая модель - случайный лес - достигла порога целевой метрики F1 - 0.59 c результатом 0,6."
   ]
  }
 ],
 "metadata": {
  "ExecuteTimeLog": [
   {
    "duration": 556,
    "start_time": "2022-03-06T14:13:55.338Z"
   },
   {
    "duration": 39,
    "start_time": "2022-03-06T14:14:26.874Z"
   },
   {
    "duration": 5,
    "start_time": "2022-03-06T15:11:39.851Z"
   },
   {
    "duration": 13,
    "start_time": "2022-03-06T15:11:48.763Z"
   },
   {
    "duration": 10,
    "start_time": "2022-03-06T15:12:02.557Z"
   },
   {
    "duration": 7,
    "start_time": "2022-03-06T15:20:34.080Z"
   },
   {
    "duration": 7717,
    "start_time": "2022-03-06T15:20:49.985Z"
   },
   {
    "duration": 59,
    "start_time": "2022-03-06T15:22:14.429Z"
   },
   {
    "duration": 7,
    "start_time": "2022-03-06T15:22:17.368Z"
   },
   {
    "duration": 474,
    "start_time": "2022-03-06T15:33:40.677Z"
   },
   {
    "duration": 38,
    "start_time": "2022-03-06T15:33:53.643Z"
   },
   {
    "duration": 334,
    "start_time": "2022-03-06T15:33:55.608Z"
   },
   {
    "duration": 1220,
    "start_time": "2022-03-06T19:52:08.620Z"
   },
   {
    "duration": 370,
    "start_time": "2022-03-06T20:33:10.772Z"
   },
   {
    "duration": 292,
    "start_time": "2022-03-06T20:34:53.252Z"
   },
   {
    "duration": 353,
    "start_time": "2022-03-06T20:36:33.297Z"
   },
   {
    "duration": 8,
    "start_time": "2022-03-06T20:36:40.500Z"
   },
   {
    "duration": 17,
    "start_time": "2022-03-06T20:36:55.868Z"
   },
   {
    "duration": 53,
    "start_time": "2022-03-06T20:38:02.777Z"
   },
   {
    "duration": 42,
    "start_time": "2022-03-06T20:47:27.670Z"
   },
   {
    "duration": 15,
    "start_time": "2022-03-06T20:47:27.714Z"
   },
   {
    "duration": 12,
    "start_time": "2022-03-06T20:47:32.186Z"
   },
   {
    "duration": 23,
    "start_time": "2022-03-06T21:14:54.518Z"
   },
   {
    "duration": 285,
    "start_time": "2022-03-06T21:42:47.337Z"
   },
   {
    "duration": 289,
    "start_time": "2022-03-06T21:43:16.287Z"
   },
   {
    "duration": 52,
    "start_time": "2022-03-06T21:43:22.025Z"
   },
   {
    "duration": 287,
    "start_time": "2022-03-06T21:43:25.360Z"
   },
   {
    "duration": 329,
    "start_time": "2022-03-06T21:43:48.458Z"
   },
   {
    "duration": 316,
    "start_time": "2022-03-06T21:44:16.726Z"
   },
   {
    "duration": 319,
    "start_time": "2022-03-06T21:44:25.358Z"
   },
   {
    "duration": 307,
    "start_time": "2022-03-06T21:45:41.464Z"
   },
   {
    "duration": 59,
    "start_time": "2022-03-06T21:46:10.058Z"
   },
   {
    "duration": 19,
    "start_time": "2022-03-06T21:46:10.119Z"
   },
   {
    "duration": 308,
    "start_time": "2022-03-06T21:46:10.145Z"
   },
   {
    "duration": 317,
    "start_time": "2022-03-06T21:47:05.118Z"
   },
   {
    "duration": 1034,
    "start_time": "2022-03-06T21:47:11.336Z"
   },
   {
    "duration": 22,
    "start_time": "2022-03-06T21:47:12.372Z"
   },
   {
    "duration": 441,
    "start_time": "2022-03-06T21:47:12.396Z"
   },
   {
    "duration": 124,
    "start_time": "2022-03-06T21:47:12.715Z"
   },
   {
    "duration": 124,
    "start_time": "2022-03-06T21:47:12.716Z"
   },
   {
    "duration": 67,
    "start_time": "2022-03-06T21:48:02.974Z"
   },
   {
    "duration": 7,
    "start_time": "2022-03-06T21:48:07.833Z"
   },
   {
    "duration": 301,
    "start_time": "2022-03-06T21:48:13.375Z"
   },
   {
    "duration": 8,
    "start_time": "2022-03-06T21:58:54.251Z"
   },
   {
    "duration": 371,
    "start_time": "2022-03-06T21:59:02.869Z"
   },
   {
    "duration": 300,
    "start_time": "2022-03-06T21:59:30.962Z"
   },
   {
    "duration": 6,
    "start_time": "2022-03-06T22:02:31.637Z"
   },
   {
    "duration": 48,
    "start_time": "2022-03-06T22:20:23.287Z"
   },
   {
    "duration": 21,
    "start_time": "2022-03-06T22:20:23.337Z"
   },
   {
    "duration": 70,
    "start_time": "2022-03-06T22:20:23.359Z"
   },
   {
    "duration": 7,
    "start_time": "2022-03-06T22:20:23.431Z"
   },
   {
    "duration": 21,
    "start_time": "2022-03-06T22:20:33.689Z"
   },
   {
    "duration": 5,
    "start_time": "2022-03-06T22:31:09.409Z"
   },
   {
    "duration": 3,
    "start_time": "2022-03-06T22:31:58.175Z"
   },
   {
    "duration": 5,
    "start_time": "2022-03-06T22:32:04.604Z"
   },
   {
    "duration": 4,
    "start_time": "2022-03-06T22:32:16.203Z"
   },
   {
    "duration": 66,
    "start_time": "2022-03-06T22:34:29.195Z"
   },
   {
    "duration": 26,
    "start_time": "2022-03-06T22:34:38.592Z"
   },
   {
    "duration": 111,
    "start_time": "2022-03-06T22:38:21.500Z"
   },
   {
    "duration": 23,
    "start_time": "2022-03-06T22:38:25.534Z"
   },
   {
    "duration": 45,
    "start_time": "2022-03-06T22:50:20.331Z"
   },
   {
    "duration": 244,
    "start_time": "2022-03-06T22:50:39.285Z"
   },
   {
    "duration": 232,
    "start_time": "2022-03-06T22:51:33.217Z"
   },
   {
    "duration": 333,
    "start_time": "2022-03-06T22:51:46.549Z"
   },
   {
    "duration": 331,
    "start_time": "2022-03-07T06:53:19.073Z"
   },
   {
    "duration": 1034,
    "start_time": "2022-03-07T06:53:26.300Z"
   },
   {
    "duration": 19,
    "start_time": "2022-03-07T06:53:27.335Z"
   },
   {
    "duration": 37,
    "start_time": "2022-03-07T06:53:27.356Z"
   },
   {
    "duration": 6,
    "start_time": "2022-03-07T06:53:27.405Z"
   },
   {
    "duration": 22,
    "start_time": "2022-03-07T06:53:27.412Z"
   },
   {
    "duration": 3,
    "start_time": "2022-03-07T06:53:27.436Z"
   },
   {
    "duration": 70,
    "start_time": "2022-03-07T06:53:27.440Z"
   },
   {
    "duration": 105,
    "start_time": "2022-03-07T06:53:27.513Z"
   },
   {
    "duration": 418,
    "start_time": "2022-03-07T06:53:27.621Z"
   },
   {
    "duration": 1564,
    "start_time": "2022-03-07T06:53:26.476Z"
   },
   {
    "duration": 248,
    "start_time": "2022-03-07T06:53:41.416Z"
   },
   {
    "duration": 954,
    "start_time": "2022-03-07T06:53:44.633Z"
   },
   {
    "duration": 384,
    "start_time": "2022-03-07T06:54:24.848Z"
   },
   {
    "duration": 79,
    "start_time": "2022-03-07T06:56:20.895Z"
   },
   {
    "duration": 61,
    "start_time": "2022-03-07T06:57:26.807Z"
   },
   {
    "duration": 1128,
    "start_time": "2022-03-07T12:37:09.087Z"
   },
   {
    "duration": 22,
    "start_time": "2022-03-07T12:37:10.217Z"
   },
   {
    "duration": 182,
    "start_time": "2022-03-07T12:37:10.241Z"
   },
   {
    "duration": 396,
    "start_time": "2022-03-07T12:37:10.425Z"
   },
   {
    "duration": 1384,
    "start_time": "2022-03-07T12:37:09.439Z"
   },
   {
    "duration": 1381,
    "start_time": "2022-03-07T12:37:09.443Z"
   },
   {
    "duration": 1375,
    "start_time": "2022-03-07T12:37:09.450Z"
   },
   {
    "duration": 1371,
    "start_time": "2022-03-07T12:37:09.455Z"
   },
   {
    "duration": 1367,
    "start_time": "2022-03-07T12:37:09.460Z"
   },
   {
    "duration": 1363,
    "start_time": "2022-03-07T12:37:09.465Z"
   },
   {
    "duration": 1361,
    "start_time": "2022-03-07T12:37:09.469Z"
   },
   {
    "duration": 178,
    "start_time": "2022-03-07T12:38:45.308Z"
   },
   {
    "duration": 1029,
    "start_time": "2022-03-07T12:46:54.848Z"
   },
   {
    "duration": 24,
    "start_time": "2022-03-07T12:46:55.879Z"
   },
   {
    "duration": 93,
    "start_time": "2022-03-07T12:46:55.905Z"
   },
   {
    "duration": 1461,
    "start_time": "2022-03-07T12:46:54.540Z"
   },
   {
    "duration": 1457,
    "start_time": "2022-03-07T12:46:54.545Z"
   },
   {
    "duration": 1451,
    "start_time": "2022-03-07T12:46:54.552Z"
   },
   {
    "duration": 1448,
    "start_time": "2022-03-07T12:46:54.557Z"
   },
   {
    "duration": 1446,
    "start_time": "2022-03-07T12:46:54.560Z"
   },
   {
    "duration": 1443,
    "start_time": "2022-03-07T12:46:54.564Z"
   },
   {
    "duration": 1441,
    "start_time": "2022-03-07T12:46:54.568Z"
   },
   {
    "duration": 1438,
    "start_time": "2022-03-07T12:46:54.572Z"
   },
   {
    "duration": 1436,
    "start_time": "2022-03-07T12:46:54.576Z"
   },
   {
    "duration": 5,
    "start_time": "2022-03-07T12:47:11.588Z"
   },
   {
    "duration": 193,
    "start_time": "2022-03-07T12:47:11.595Z"
   },
   {
    "duration": 195,
    "start_time": "2022-03-07T12:47:11.791Z"
   },
   {
    "duration": 622,
    "start_time": "2022-03-07T12:47:11.988Z"
   },
   {
    "duration": 4,
    "start_time": "2022-03-07T12:47:12.611Z"
   },
   {
    "duration": 5895,
    "start_time": "2022-03-07T12:47:12.617Z"
   },
   {
    "duration": 8317,
    "start_time": "2022-03-07T12:47:18.515Z"
   },
   {
    "duration": 359,
    "start_time": "2022-03-07T12:47:26.907Z"
   },
   {
    "duration": 82,
    "start_time": "2022-03-07T12:47:27.268Z"
   },
   {
    "duration": 44,
    "start_time": "2022-03-07T12:48:28.455Z"
   },
   {
    "duration": 23,
    "start_time": "2022-03-07T12:48:28.500Z"
   },
   {
    "duration": 4,
    "start_time": "2022-03-07T12:48:28.525Z"
   },
   {
    "duration": 251,
    "start_time": "2022-03-07T12:48:28.531Z"
   },
   {
    "duration": 181,
    "start_time": "2022-03-07T12:48:28.784Z"
   },
   {
    "duration": 583,
    "start_time": "2022-03-07T12:48:28.967Z"
   },
   {
    "duration": 4,
    "start_time": "2022-03-07T12:48:29.552Z"
   },
   {
    "duration": 5653,
    "start_time": "2022-03-07T12:48:29.558Z"
   },
   {
    "duration": 7393,
    "start_time": "2022-03-07T12:48:35.213Z"
   },
   {
    "duration": 350,
    "start_time": "2022-03-07T12:48:42.609Z"
   },
   {
    "duration": 79,
    "start_time": "2022-03-07T12:48:42.961Z"
   },
   {
    "duration": 361,
    "start_time": "2022-03-07T12:50:42.211Z"
   },
   {
    "duration": 44,
    "start_time": "2022-03-07T12:50:55.390Z"
   },
   {
    "duration": 21,
    "start_time": "2022-03-07T12:50:55.436Z"
   },
   {
    "duration": 19,
    "start_time": "2022-03-07T12:51:01.002Z"
   },
   {
    "duration": 26,
    "start_time": "2022-03-07T12:51:26.188Z"
   },
   {
    "duration": 8,
    "start_time": "2022-03-07T12:52:52.550Z"
   },
   {
    "duration": 21,
    "start_time": "2022-03-07T12:52:54.226Z"
   },
   {
    "duration": 5,
    "start_time": "2022-03-07T12:53:23.066Z"
   },
   {
    "duration": 16,
    "start_time": "2022-03-07T12:53:32.428Z"
   },
   {
    "duration": 17,
    "start_time": "2022-03-07T12:53:40.736Z"
   },
   {
    "duration": 231,
    "start_time": "2022-03-07T12:54:04.230Z"
   },
   {
    "duration": 278,
    "start_time": "2022-03-07T13:38:10.385Z"
   },
   {
    "duration": 215,
    "start_time": "2022-03-07T13:38:32.560Z"
   },
   {
    "duration": 216,
    "start_time": "2022-03-07T13:38:43.258Z"
   },
   {
    "duration": 43,
    "start_time": "2022-03-07T13:45:48.742Z"
   },
   {
    "duration": 324,
    "start_time": "2022-03-07T13:48:53.422Z"
   },
   {
    "duration": 315,
    "start_time": "2022-03-07T13:51:30.917Z"
   },
   {
    "duration": 63,
    "start_time": "2022-03-07T13:56:44.662Z"
   },
   {
    "duration": 303,
    "start_time": "2022-03-07T14:03:00.806Z"
   },
   {
    "duration": 6055,
    "start_time": "2022-03-07T14:03:23.286Z"
   },
   {
    "duration": 6196,
    "start_time": "2022-03-07T14:13:15.892Z"
   },
   {
    "duration": 102005,
    "start_time": "2022-03-07T14:14:40.475Z"
   },
   {
    "duration": 95947,
    "start_time": "2022-03-07T14:17:39.579Z"
   },
   {
    "duration": 16,
    "start_time": "2022-03-07T14:27:29.952Z"
   },
   {
    "duration": 353,
    "start_time": "2022-03-07T15:20:28.683Z"
   },
   {
    "duration": 1114,
    "start_time": "2022-03-07T15:21:16.973Z"
   },
   {
    "duration": 22,
    "start_time": "2022-03-07T15:21:18.089Z"
   },
   {
    "duration": 18,
    "start_time": "2022-03-07T15:21:18.113Z"
   },
   {
    "duration": 40,
    "start_time": "2022-03-07T15:21:18.133Z"
   },
   {
    "duration": 30,
    "start_time": "2022-03-07T15:21:18.175Z"
   },
   {
    "duration": 20,
    "start_time": "2022-03-07T15:21:18.207Z"
   },
   {
    "duration": 6,
    "start_time": "2022-03-07T15:21:18.229Z"
   },
   {
    "duration": 70,
    "start_time": "2022-03-07T15:21:18.237Z"
   },
   {
    "duration": 117,
    "start_time": "2022-03-07T15:21:18.309Z"
   },
   {
    "duration": 395,
    "start_time": "2022-03-07T15:21:18.430Z"
   },
   {
    "duration": 84658,
    "start_time": "2022-03-07T15:21:18.826Z"
   },
   {
    "duration": 35,
    "start_time": "2022-03-07T15:22:43.485Z"
   },
   {
    "duration": 379,
    "start_time": "2022-03-07T15:23:43.052Z"
   },
   {
    "duration": 299,
    "start_time": "2022-03-07T15:23:58.225Z"
   },
   {
    "duration": 8,
    "start_time": "2022-03-07T15:27:01.748Z"
   },
   {
    "duration": 7,
    "start_time": "2022-03-07T15:27:05.603Z"
   },
   {
    "duration": 8,
    "start_time": "2022-03-07T15:27:21.314Z"
   },
   {
    "duration": 7,
    "start_time": "2022-03-07T15:27:27.900Z"
   },
   {
    "duration": 319,
    "start_time": "2022-03-07T15:29:15.403Z"
   },
   {
    "duration": 887,
    "start_time": "2022-03-07T15:40:44.848Z"
   },
   {
    "duration": 330,
    "start_time": "2022-03-07T15:40:56.808Z"
   },
   {
    "duration": 338,
    "start_time": "2022-03-07T15:49:01.975Z"
   },
   {
    "duration": 47,
    "start_time": "2022-03-07T15:49:39.771Z"
   },
   {
    "duration": 336,
    "start_time": "2022-03-07T15:49:48.009Z"
   },
   {
    "duration": 360,
    "start_time": "2022-03-07T15:51:23.918Z"
   },
   {
    "duration": 1112,
    "start_time": "2022-03-07T15:52:34.089Z"
   },
   {
    "duration": 22,
    "start_time": "2022-03-07T15:52:35.203Z"
   },
   {
    "duration": 17,
    "start_time": "2022-03-07T15:52:35.227Z"
   },
   {
    "duration": 25,
    "start_time": "2022-03-07T15:52:35.245Z"
   },
   {
    "duration": 15,
    "start_time": "2022-03-07T15:52:35.272Z"
   },
   {
    "duration": 26,
    "start_time": "2022-03-07T15:52:35.288Z"
   },
   {
    "duration": 4,
    "start_time": "2022-03-07T15:52:35.315Z"
   },
   {
    "duration": 87,
    "start_time": "2022-03-07T15:52:35.321Z"
   },
   {
    "duration": 550,
    "start_time": "2022-03-07T15:52:35.411Z"
   },
   {
    "duration": -376,
    "start_time": "2022-03-07T15:52:36.338Z"
   },
   {
    "duration": -380,
    "start_time": "2022-03-07T15:52:36.343Z"
   },
   {
    "duration": -383,
    "start_time": "2022-03-07T15:52:36.347Z"
   },
   {
    "duration": -390,
    "start_time": "2022-03-07T15:52:36.355Z"
   },
   {
    "duration": -411,
    "start_time": "2022-03-07T15:52:36.377Z"
   },
   {
    "duration": 305,
    "start_time": "2022-03-07T15:54:05.990Z"
   },
   {
    "duration": 301,
    "start_time": "2022-03-07T15:57:06.956Z"
   },
   {
    "duration": 99,
    "start_time": "2022-03-07T15:57:43.165Z"
   },
   {
    "duration": 293,
    "start_time": "2022-03-07T15:57:49.700Z"
   },
   {
    "duration": 303,
    "start_time": "2022-03-07T15:59:02.214Z"
   },
   {
    "duration": 309,
    "start_time": "2022-03-07T16:02:22.570Z"
   },
   {
    "duration": 304,
    "start_time": "2022-03-07T16:03:09.115Z"
   },
   {
    "duration": 321,
    "start_time": "2022-03-07T16:03:26.482Z"
   },
   {
    "duration": 1111,
    "start_time": "2022-03-07T16:07:45.839Z"
   },
   {
    "duration": 22,
    "start_time": "2022-03-07T16:07:46.952Z"
   },
   {
    "duration": 32,
    "start_time": "2022-03-07T16:07:46.978Z"
   },
   {
    "duration": 38,
    "start_time": "2022-03-07T16:07:47.012Z"
   },
   {
    "duration": 16,
    "start_time": "2022-03-07T16:07:47.051Z"
   },
   {
    "duration": 42,
    "start_time": "2022-03-07T16:07:47.068Z"
   },
   {
    "duration": 4,
    "start_time": "2022-03-07T16:07:47.113Z"
   },
   {
    "duration": 91,
    "start_time": "2022-03-07T16:07:47.119Z"
   },
   {
    "duration": 107,
    "start_time": "2022-03-07T16:07:47.211Z"
   },
   {
    "duration": 138,
    "start_time": "2022-03-07T16:07:47.320Z"
   },
   {
    "duration": 47,
    "start_time": "2022-03-07T16:07:47.460Z"
   },
   {
    "duration": 366,
    "start_time": "2022-03-07T16:07:47.509Z"
   },
   {
    "duration": 86448,
    "start_time": "2022-03-07T16:07:47.877Z"
   },
   {
    "duration": 300,
    "start_time": "2022-03-07T16:09:14.327Z"
   },
   {
    "duration": 10,
    "start_time": "2022-03-07T16:09:14.629Z"
   },
   {
    "duration": 290,
    "start_time": "2022-03-07T16:09:14.642Z"
   },
   {
    "duration": 141,
    "start_time": "2022-03-07T16:21:44.601Z"
   },
   {
    "duration": 86375,
    "start_time": "2022-03-07T16:22:12.339Z"
   },
   {
    "duration": 143,
    "start_time": "2022-03-07T16:29:10.673Z"
   },
   {
    "duration": 307,
    "start_time": "2022-03-07T16:36:51.022Z"
   },
   {
    "duration": 234,
    "start_time": "2022-03-07T16:37:00.544Z"
   },
   {
    "duration": 15,
    "start_time": "2022-03-07T16:48:20.466Z"
   },
   {
    "duration": 7,
    "start_time": "2022-03-07T16:52:12.706Z"
   },
   {
    "duration": 9,
    "start_time": "2022-03-07T16:53:35.737Z"
   },
   {
    "duration": 418,
    "start_time": "2022-03-07T16:55:09.186Z"
   },
   {
    "duration": 81959,
    "start_time": "2022-03-07T16:55:35.846Z"
   },
   {
    "duration": 1133,
    "start_time": "2022-03-07T16:58:05.534Z"
   },
   {
    "duration": 27,
    "start_time": "2022-03-07T16:58:06.669Z"
   },
   {
    "duration": 21,
    "start_time": "2022-03-07T16:58:06.698Z"
   },
   {
    "duration": 29,
    "start_time": "2022-03-07T16:58:06.721Z"
   },
   {
    "duration": 19,
    "start_time": "2022-03-07T16:58:06.752Z"
   },
   {
    "duration": 25,
    "start_time": "2022-03-07T16:58:06.805Z"
   },
   {
    "duration": 5,
    "start_time": "2022-03-07T16:58:06.832Z"
   },
   {
    "duration": 75,
    "start_time": "2022-03-07T16:58:06.840Z"
   },
   {
    "duration": 397,
    "start_time": "2022-03-07T16:58:07.006Z"
   },
   {
    "duration": -138,
    "start_time": "2022-03-07T16:58:07.542Z"
   },
   {
    "duration": -147,
    "start_time": "2022-03-07T16:58:07.553Z"
   },
   {
    "duration": -154,
    "start_time": "2022-03-07T16:58:07.561Z"
   },
   {
    "duration": -159,
    "start_time": "2022-03-07T16:58:07.567Z"
   },
   {
    "duration": -164,
    "start_time": "2022-03-07T16:58:07.573Z"
   },
   {
    "duration": -168,
    "start_time": "2022-03-07T16:58:07.578Z"
   },
   {
    "duration": -171,
    "start_time": "2022-03-07T16:58:07.582Z"
   },
   {
    "duration": -177,
    "start_time": "2022-03-07T16:58:07.589Z"
   },
   {
    "duration": 471,
    "start_time": "2022-03-07T16:58:51.308Z"
   },
   {
    "duration": 137,
    "start_time": "2022-03-07T16:59:17.895Z"
   },
   {
    "duration": 138,
    "start_time": "2022-03-07T16:59:35.004Z"
   },
   {
    "duration": 85846,
    "start_time": "2022-03-07T17:00:14.385Z"
   },
   {
    "duration": 158,
    "start_time": "2022-03-07T17:04:25.083Z"
   },
   {
    "duration": 48,
    "start_time": "2022-03-07T17:05:11.321Z"
   },
   {
    "duration": 102,
    "start_time": "2022-03-07T17:05:31.338Z"
   },
   {
    "duration": 104,
    "start_time": "2022-03-07T17:05:43.394Z"
   },
   {
    "duration": 320,
    "start_time": "2022-03-07T17:08:42.002Z"
   },
   {
    "duration": 286,
    "start_time": "2022-03-07T17:09:22.689Z"
   },
   {
    "duration": 9,
    "start_time": "2022-03-07T17:09:51.369Z"
   },
   {
    "duration": 9,
    "start_time": "2022-03-07T17:10:52.121Z"
   },
   {
    "duration": 8,
    "start_time": "2022-03-07T17:12:25.463Z"
   },
   {
    "duration": 9,
    "start_time": "2022-03-07T17:14:05.824Z"
   },
   {
    "duration": 1120,
    "start_time": "2022-03-07T17:14:51.662Z"
   },
   {
    "duration": 23,
    "start_time": "2022-03-07T17:14:52.783Z"
   },
   {
    "duration": 18,
    "start_time": "2022-03-07T17:14:52.808Z"
   },
   {
    "duration": 28,
    "start_time": "2022-03-07T17:14:52.829Z"
   },
   {
    "duration": 17,
    "start_time": "2022-03-07T17:14:52.859Z"
   },
   {
    "duration": 21,
    "start_time": "2022-03-07T17:14:52.906Z"
   },
   {
    "duration": 4,
    "start_time": "2022-03-07T17:14:52.929Z"
   },
   {
    "duration": 77,
    "start_time": "2022-03-07T17:14:52.935Z"
   },
   {
    "duration": 233,
    "start_time": "2022-03-07T17:14:53.015Z"
   },
   {
    "duration": 84893,
    "start_time": "2022-03-07T17:14:53.250Z"
   },
   {
    "duration": 14,
    "start_time": "2022-03-07T17:16:18.145Z"
   },
   {
    "duration": 468,
    "start_time": "2022-03-07T17:16:18.207Z"
   },
   {
    "duration": -113,
    "start_time": "2022-03-07T17:16:18.790Z"
   },
   {
    "duration": -122,
    "start_time": "2022-03-07T17:16:18.800Z"
   },
   {
    "duration": -132,
    "start_time": "2022-03-07T17:16:18.811Z"
   },
   {
    "duration": -142,
    "start_time": "2022-03-07T17:16:18.821Z"
   },
   {
    "duration": -149,
    "start_time": "2022-03-07T17:16:18.829Z"
   },
   {
    "duration": -159,
    "start_time": "2022-03-07T17:16:18.840Z"
   },
   {
    "duration": 145,
    "start_time": "2022-03-07T17:17:21.915Z"
   },
   {
    "duration": 50133,
    "start_time": "2022-03-07T17:17:29.483Z"
   },
   {
    "duration": 268,
    "start_time": "2022-03-07T17:18:19.619Z"
   },
   {
    "duration": 31,
    "start_time": "2022-03-07T17:18:19.889Z"
   },
   {
    "duration": 11,
    "start_time": "2022-03-07T17:18:20.106Z"
   },
   {
    "duration": 356,
    "start_time": "2022-03-07T17:18:20.119Z"
   },
   {
    "duration": -114,
    "start_time": "2022-03-07T17:18:20.591Z"
   },
   {
    "duration": 47854,
    "start_time": "2022-03-07T17:22:10.121Z"
   },
   {
    "duration": 14,
    "start_time": "2022-03-07T17:23:09.491Z"
   },
   {
    "duration": 7,
    "start_time": "2022-03-07T17:24:38.379Z"
   },
   {
    "duration": 13,
    "start_time": "2022-03-07T17:24:47.771Z"
   },
   {
    "duration": 44,
    "start_time": "2022-03-07T17:30:15.666Z"
   },
   {
    "duration": 546,
    "start_time": "2022-03-07T17:54:19.283Z"
   },
   {
    "duration": 517,
    "start_time": "2022-03-07T17:56:45.713Z"
   },
   {
    "duration": 20,
    "start_time": "2022-03-07T18:00:20.345Z"
   },
   {
    "duration": 45,
    "start_time": "2022-03-07T18:08:30.193Z"
   },
   {
    "duration": 7,
    "start_time": "2022-03-07T18:08:42.491Z"
   },
   {
    "duration": 44,
    "start_time": "2022-03-07T18:08:51.780Z"
   },
   {
    "duration": 21,
    "start_time": "2022-03-07T18:08:51.826Z"
   },
   {
    "duration": 16,
    "start_time": "2022-03-07T18:08:51.849Z"
   },
   {
    "duration": 44,
    "start_time": "2022-03-07T18:08:51.867Z"
   },
   {
    "duration": 14,
    "start_time": "2022-03-07T18:08:51.912Z"
   },
   {
    "duration": 44,
    "start_time": "2022-03-07T18:09:07.860Z"
   },
   {
    "duration": 20,
    "start_time": "2022-03-07T18:09:07.905Z"
   },
   {
    "duration": 16,
    "start_time": "2022-03-07T18:09:07.927Z"
   },
   {
    "duration": 26,
    "start_time": "2022-03-07T18:09:07.944Z"
   },
   {
    "duration": 36,
    "start_time": "2022-03-07T18:09:07.972Z"
   },
   {
    "duration": 1150,
    "start_time": "2022-03-07T18:09:15.510Z"
   },
   {
    "duration": 21,
    "start_time": "2022-03-07T18:09:16.661Z"
   },
   {
    "duration": 17,
    "start_time": "2022-03-07T18:09:16.683Z"
   },
   {
    "duration": 24,
    "start_time": "2022-03-07T18:09:16.702Z"
   },
   {
    "duration": 15,
    "start_time": "2022-03-07T18:09:16.728Z"
   },
   {
    "duration": 29,
    "start_time": "2022-03-07T18:09:16.744Z"
   },
   {
    "duration": 32,
    "start_time": "2022-03-07T18:09:16.775Z"
   },
   {
    "duration": 102,
    "start_time": "2022-03-07T18:09:16.810Z"
   },
   {
    "duration": 277,
    "start_time": "2022-03-07T18:09:16.914Z"
   },
   {
    "duration": 79615,
    "start_time": "2022-03-07T18:09:17.193Z"
   },
   {
    "duration": 14,
    "start_time": "2022-03-07T18:10:36.810Z"
   },
   {
    "duration": 316,
    "start_time": "2022-03-07T18:10:36.826Z"
   },
   {
    "duration": 46196,
    "start_time": "2022-03-07T18:10:37.144Z"
   },
   {
    "duration": 225,
    "start_time": "2022-03-07T18:11:23.342Z"
   },
   {
    "duration": 15,
    "start_time": "2022-03-07T18:11:23.569Z"
   },
   {
    "duration": 587,
    "start_time": "2022-03-07T18:11:23.585Z"
   },
   {
    "duration": -169,
    "start_time": "2022-03-07T18:11:24.342Z"
   },
   {
    "duration": -176,
    "start_time": "2022-03-07T18:11:24.350Z"
   },
   {
    "duration": -183,
    "start_time": "2022-03-07T18:11:24.358Z"
   },
   {
    "duration": -189,
    "start_time": "2022-03-07T18:11:24.365Z"
   },
   {
    "duration": -195,
    "start_time": "2022-03-07T18:11:24.372Z"
   },
   {
    "duration": 15,
    "start_time": "2022-03-07T18:33:37.150Z"
   },
   {
    "duration": 7,
    "start_time": "2022-03-07T18:34:48.686Z"
   },
   {
    "duration": 19,
    "start_time": "2022-03-07T18:34:55.245Z"
   },
   {
    "duration": 9,
    "start_time": "2022-03-07T18:35:35.894Z"
   },
   {
    "duration": 5,
    "start_time": "2022-03-07T18:36:17.270Z"
   },
   {
    "duration": 689,
    "start_time": "2022-03-07T18:36:38.045Z"
   },
   {
    "duration": 6,
    "start_time": "2022-03-07T18:38:44.118Z"
   },
   {
    "duration": 654,
    "start_time": "2022-03-07T18:39:01.558Z"
   },
   {
    "duration": 4,
    "start_time": "2022-03-07T18:39:42.981Z"
   },
   {
    "duration": 5,
    "start_time": "2022-03-07T18:40:00.548Z"
   },
   {
    "duration": 306,
    "start_time": "2022-03-07T18:56:35.785Z"
   },
   {
    "duration": 304,
    "start_time": "2022-03-07T18:56:59.873Z"
   },
   {
    "duration": 296,
    "start_time": "2022-03-07T18:58:07.304Z"
   },
   {
    "duration": 18,
    "start_time": "2022-03-07T18:58:14.727Z"
   },
   {
    "duration": 312,
    "start_time": "2022-03-07T18:58:29.328Z"
   },
   {
    "duration": 300,
    "start_time": "2022-03-07T18:58:59.560Z"
   },
   {
    "duration": 326,
    "start_time": "2022-03-07T18:59:15.176Z"
   },
   {
    "duration": 379,
    "start_time": "2022-03-07T19:00:20.848Z"
   },
   {
    "duration": 312,
    "start_time": "2022-03-07T19:00:36.943Z"
   },
   {
    "duration": 292,
    "start_time": "2022-03-07T19:00:41.527Z"
   },
   {
    "duration": 18,
    "start_time": "2022-03-07T19:00:51.431Z"
   },
   {
    "duration": 326,
    "start_time": "2022-03-07T19:00:53.567Z"
   },
   {
    "duration": 43,
    "start_time": "2022-03-07T19:18:57.867Z"
   },
   {
    "duration": 21,
    "start_time": "2022-03-07T19:18:57.912Z"
   },
   {
    "duration": 17,
    "start_time": "2022-03-07T19:18:57.935Z"
   },
   {
    "duration": 23,
    "start_time": "2022-03-07T19:18:57.953Z"
   },
   {
    "duration": 37,
    "start_time": "2022-03-07T19:18:57.978Z"
   },
   {
    "duration": 322,
    "start_time": "2022-03-07T19:18:58.017Z"
   },
   {
    "duration": 2976,
    "start_time": "2022-03-07T19:18:55.365Z"
   },
   {
    "duration": 2975,
    "start_time": "2022-03-07T19:18:55.367Z"
   },
   {
    "duration": 2974,
    "start_time": "2022-03-07T19:18:55.369Z"
   },
   {
    "duration": 2970,
    "start_time": "2022-03-07T19:18:55.374Z"
   },
   {
    "duration": 2968,
    "start_time": "2022-03-07T19:18:55.377Z"
   },
   {
    "duration": 2968,
    "start_time": "2022-03-07T19:18:55.378Z"
   },
   {
    "duration": 2945,
    "start_time": "2022-03-07T19:18:55.402Z"
   },
   {
    "duration": 2941,
    "start_time": "2022-03-07T19:18:55.406Z"
   },
   {
    "duration": 2939,
    "start_time": "2022-03-07T19:18:55.409Z"
   },
   {
    "duration": 2938,
    "start_time": "2022-03-07T19:18:55.411Z"
   },
   {
    "duration": 2937,
    "start_time": "2022-03-07T19:18:55.413Z"
   },
   {
    "duration": 2937,
    "start_time": "2022-03-07T19:18:55.414Z"
   },
   {
    "duration": 2936,
    "start_time": "2022-03-07T19:18:55.416Z"
   },
   {
    "duration": 2935,
    "start_time": "2022-03-07T19:18:55.418Z"
   },
   {
    "duration": 2934,
    "start_time": "2022-03-07T19:18:55.420Z"
   },
   {
    "duration": 2932,
    "start_time": "2022-03-07T19:18:55.422Z"
   },
   {
    "duration": 2931,
    "start_time": "2022-03-07T19:18:55.424Z"
   },
   {
    "duration": 2930,
    "start_time": "2022-03-07T19:18:55.426Z"
   },
   {
    "duration": 346,
    "start_time": "2022-03-07T19:25:08.371Z"
   },
   {
    "duration": 302,
    "start_time": "2022-03-07T19:25:18.740Z"
   },
   {
    "duration": 1055,
    "start_time": "2022-03-07T19:27:47.293Z"
   },
   {
    "duration": 20,
    "start_time": "2022-03-07T19:27:48.350Z"
   },
   {
    "duration": 17,
    "start_time": "2022-03-07T19:27:48.372Z"
   },
   {
    "duration": 35,
    "start_time": "2022-03-07T19:27:48.390Z"
   },
   {
    "duration": 13,
    "start_time": "2022-03-07T19:27:48.426Z"
   },
   {
    "duration": 373,
    "start_time": "2022-03-07T19:27:48.441Z"
   },
   {
    "duration": 2989,
    "start_time": "2022-03-07T19:27:45.827Z"
   },
   {
    "duration": 2988,
    "start_time": "2022-03-07T19:27:45.829Z"
   },
   {
    "duration": 2984,
    "start_time": "2022-03-07T19:27:45.833Z"
   },
   {
    "duration": 2983,
    "start_time": "2022-03-07T19:27:45.835Z"
   },
   {
    "duration": 2981,
    "start_time": "2022-03-07T19:27:45.837Z"
   },
   {
    "duration": 2981,
    "start_time": "2022-03-07T19:27:45.838Z"
   },
   {
    "duration": 2980,
    "start_time": "2022-03-07T19:27:45.840Z"
   },
   {
    "duration": 2979,
    "start_time": "2022-03-07T19:27:45.842Z"
   },
   {
    "duration": 2958,
    "start_time": "2022-03-07T19:27:45.863Z"
   },
   {
    "duration": 2955,
    "start_time": "2022-03-07T19:27:45.867Z"
   },
   {
    "duration": 2954,
    "start_time": "2022-03-07T19:27:45.868Z"
   },
   {
    "duration": 2953,
    "start_time": "2022-03-07T19:27:45.870Z"
   },
   {
    "duration": 2952,
    "start_time": "2022-03-07T19:27:45.872Z"
   },
   {
    "duration": 2950,
    "start_time": "2022-03-07T19:27:45.874Z"
   },
   {
    "duration": 2949,
    "start_time": "2022-03-07T19:27:45.876Z"
   },
   {
    "duration": 2949,
    "start_time": "2022-03-07T19:27:45.877Z"
   },
   {
    "duration": 2947,
    "start_time": "2022-03-07T19:27:45.879Z"
   },
   {
    "duration": 2947,
    "start_time": "2022-03-07T19:27:45.880Z"
   },
   {
    "duration": 7,
    "start_time": "2022-03-07T19:29:22.445Z"
   },
   {
    "duration": 5,
    "start_time": "2022-03-07T19:29:34.355Z"
   },
   {
    "duration": 49,
    "start_time": "2022-03-07T19:29:34.362Z"
   },
   {
    "duration": 209,
    "start_time": "2022-03-07T19:29:34.413Z"
   },
   {
    "duration": 63204,
    "start_time": "2022-03-07T19:29:34.624Z"
   },
   {
    "duration": 14,
    "start_time": "2022-03-07T19:30:37.830Z"
   },
   {
    "duration": 266,
    "start_time": "2022-03-07T19:30:37.846Z"
   },
   {
    "duration": 33700,
    "start_time": "2022-03-07T19:30:38.114Z"
   },
   {
    "duration": 297,
    "start_time": "2022-03-07T19:31:11.815Z"
   },
   {
    "duration": 3,
    "start_time": "2022-03-07T19:31:12.115Z"
   },
   {
    "duration": 582,
    "start_time": "2022-03-07T19:31:12.121Z"
   },
   {
    "duration": 2958,
    "start_time": "2022-03-07T19:31:09.747Z"
   },
   {
    "duration": 2958,
    "start_time": "2022-03-07T19:31:09.748Z"
   },
   {
    "duration": 2957,
    "start_time": "2022-03-07T19:31:09.750Z"
   },
   {
    "duration": 2956,
    "start_time": "2022-03-07T19:31:09.751Z"
   },
   {
    "duration": 2955,
    "start_time": "2022-03-07T19:31:09.753Z"
   },
   {
    "duration": 2955,
    "start_time": "2022-03-07T19:31:09.754Z"
   },
   {
    "duration": 2954,
    "start_time": "2022-03-07T19:31:09.756Z"
   },
   {
    "duration": 2954,
    "start_time": "2022-03-07T19:31:09.757Z"
   },
   {
    "duration": 14,
    "start_time": "2022-03-07T19:31:28.769Z"
   },
   {
    "duration": 8,
    "start_time": "2022-03-07T19:31:38.574Z"
   },
   {
    "duration": 4,
    "start_time": "2022-03-07T19:31:38.584Z"
   },
   {
    "duration": 21,
    "start_time": "2022-03-07T19:31:38.589Z"
   },
   {
    "duration": 312,
    "start_time": "2022-03-07T19:31:38.612Z"
   },
   {
    "duration": 80101,
    "start_time": "2022-03-07T19:31:38.926Z"
   },
   {
    "duration": 15,
    "start_time": "2022-03-07T19:32:59.029Z"
   },
   {
    "duration": 236,
    "start_time": "2022-03-07T19:32:59.106Z"
   },
   {
    "duration": 45945,
    "start_time": "2022-03-07T19:32:59.345Z"
   },
   {
    "duration": 285,
    "start_time": "2022-03-07T19:33:45.292Z"
   },
   {
    "duration": 3,
    "start_time": "2022-03-07T19:33:45.579Z"
   },
   {
    "duration": 626,
    "start_time": "2022-03-07T19:33:45.583Z"
   },
   {
    "duration": 2963,
    "start_time": "2022-03-07T19:33:43.248Z"
   },
   {
    "duration": 2962,
    "start_time": "2022-03-07T19:33:43.250Z"
   },
   {
    "duration": 2961,
    "start_time": "2022-03-07T19:33:43.252Z"
   },
   {
    "duration": 2961,
    "start_time": "2022-03-07T19:33:43.253Z"
   },
   {
    "duration": 2960,
    "start_time": "2022-03-07T19:33:43.255Z"
   },
   {
    "duration": 2958,
    "start_time": "2022-03-07T19:33:43.257Z"
   },
   {
    "duration": 2957,
    "start_time": "2022-03-07T19:33:43.259Z"
   },
   {
    "duration": 2957,
    "start_time": "2022-03-07T19:33:43.260Z"
   },
   {
    "duration": 18,
    "start_time": "2022-03-07T19:34:58.215Z"
   },
   {
    "duration": 11,
    "start_time": "2022-03-07T19:34:58.307Z"
   },
   {
    "duration": 310,
    "start_time": "2022-03-07T19:34:58.406Z"
   },
   {
    "duration": 3005,
    "start_time": "2022-03-07T19:34:55.713Z"
   },
   {
    "duration": 311,
    "start_time": "2022-03-07T19:37:12.390Z"
   },
   {
    "duration": 302,
    "start_time": "2022-03-07T19:37:53.850Z"
   },
   {
    "duration": 14,
    "start_time": "2022-03-07T19:38:16.845Z"
   },
   {
    "duration": 16,
    "start_time": "2022-03-07T19:39:59.147Z"
   },
   {
    "duration": 289,
    "start_time": "2022-03-07T19:41:28.319Z"
   },
   {
    "duration": 288,
    "start_time": "2022-03-07T19:41:58.274Z"
   },
   {
    "duration": 26,
    "start_time": "2022-03-07T19:42:13.051Z"
   },
   {
    "duration": 28,
    "start_time": "2022-03-07T19:42:38.110Z"
   },
   {
    "duration": 9,
    "start_time": "2022-03-07T19:43:09.415Z"
   },
   {
    "duration": 10,
    "start_time": "2022-03-07T19:43:36.552Z"
   },
   {
    "duration": 12,
    "start_time": "2022-03-07T19:44:29.888Z"
   },
   {
    "duration": 12,
    "start_time": "2022-03-07T19:47:59.142Z"
   },
   {
    "duration": 15,
    "start_time": "2022-03-07T19:48:13.417Z"
   },
   {
    "duration": 26,
    "start_time": "2022-03-07T19:49:43.062Z"
   },
   {
    "duration": 265,
    "start_time": "2022-03-07T19:50:19.500Z"
   },
   {
    "duration": 236,
    "start_time": "2022-03-07T19:50:33.076Z"
   },
   {
    "duration": 1039,
    "start_time": "2022-03-07T19:50:46.410Z"
   },
   {
    "duration": 239,
    "start_time": "2022-03-07T19:50:55.089Z"
   },
   {
    "duration": 9,
    "start_time": "2022-03-07T19:52:39.320Z"
   },
   {
    "duration": 7,
    "start_time": "2022-03-07T19:52:48.722Z"
   },
   {
    "duration": 294,
    "start_time": "2022-03-07T19:53:19.721Z"
   },
   {
    "duration": 31,
    "start_time": "2022-03-07T20:01:43.923Z"
   },
   {
    "duration": 344,
    "start_time": "2022-03-07T20:01:48.541Z"
   },
   {
    "duration": 59,
    "start_time": "2022-03-07T20:02:06.350Z"
   },
   {
    "duration": 15,
    "start_time": "2022-03-07T20:02:13.365Z"
   },
   {
    "duration": 25,
    "start_time": "2022-03-07T20:05:50.987Z"
   },
   {
    "duration": 30,
    "start_time": "2022-03-07T20:06:14.787Z"
   },
   {
    "duration": 27,
    "start_time": "2022-03-07T20:06:39.486Z"
   },
   {
    "duration": 29,
    "start_time": "2022-03-07T20:08:45.260Z"
   },
   {
    "duration": 7245,
    "start_time": "2022-03-07T20:09:01.402Z"
   },
   {
    "duration": 32,
    "start_time": "2022-03-07T20:09:22.137Z"
   },
   {
    "duration": 9,
    "start_time": "2022-03-07T20:36:00.502Z"
   },
   {
    "duration": 28,
    "start_time": "2022-03-07T20:36:26.500Z"
   },
   {
    "duration": 30,
    "start_time": "2022-03-07T20:38:13.059Z"
   },
   {
    "duration": 16,
    "start_time": "2022-03-07T20:38:40.135Z"
   },
   {
    "duration": 7,
    "start_time": "2022-03-07T20:38:57.431Z"
   },
   {
    "duration": 314,
    "start_time": "2022-03-07T20:39:01.586Z"
   },
   {
    "duration": 42,
    "start_time": "2022-03-07T20:39:45.900Z"
   },
   {
    "duration": 45,
    "start_time": "2022-03-07T20:47:28.779Z"
   },
   {
    "duration": 1087,
    "start_time": "2022-03-07T20:47:43.371Z"
   },
   {
    "duration": 20,
    "start_time": "2022-03-07T20:47:44.460Z"
   },
   {
    "duration": 40,
    "start_time": "2022-03-07T20:47:44.482Z"
   },
   {
    "duration": 20,
    "start_time": "2022-03-07T20:47:44.523Z"
   },
   {
    "duration": 64,
    "start_time": "2022-03-07T20:47:44.544Z"
   },
   {
    "duration": 29,
    "start_time": "2022-03-07T20:47:44.610Z"
   },
   {
    "duration": 69,
    "start_time": "2022-03-07T20:47:44.641Z"
   },
   {
    "duration": 62,
    "start_time": "2022-03-07T20:47:44.712Z"
   },
   {
    "duration": 31,
    "start_time": "2022-03-07T20:47:44.777Z"
   },
   {
    "duration": 96,
    "start_time": "2022-03-07T20:47:44.809Z"
   },
   {
    "duration": 254,
    "start_time": "2022-03-07T20:47:44.907Z"
   },
   {
    "duration": 81089,
    "start_time": "2022-03-07T20:47:45.163Z"
   },
   {
    "duration": 68,
    "start_time": "2022-03-07T20:49:06.254Z"
   },
   {
    "duration": 168,
    "start_time": "2022-03-07T20:49:06.406Z"
   },
   {
    "duration": 45781,
    "start_time": "2022-03-07T20:49:06.576Z"
   },
   {
    "duration": 221,
    "start_time": "2022-03-07T20:49:52.358Z"
   },
   {
    "duration": 28,
    "start_time": "2022-03-07T20:49:52.580Z"
   },
   {
    "duration": 97,
    "start_time": "2022-03-07T20:49:52.609Z"
   },
   {
    "duration": 336,
    "start_time": "2022-03-07T20:49:52.709Z"
   },
   {
    "duration": 61,
    "start_time": "2022-03-07T20:49:53.047Z"
   },
   {
    "duration": 99,
    "start_time": "2022-03-07T20:49:53.111Z"
   },
   {
    "duration": 367,
    "start_time": "2022-03-07T20:49:53.211Z"
   },
   {
    "duration": -1,
    "start_time": "2022-03-07T20:49:53.581Z"
   },
   {
    "duration": 284,
    "start_time": "2022-03-07T20:54:50.941Z"
   },
   {
    "duration": 3,
    "start_time": "2022-03-07T20:55:01.186Z"
   },
   {
    "duration": 4,
    "start_time": "2022-03-07T20:55:18.991Z"
   },
   {
    "duration": 16,
    "start_time": "2022-03-07T21:09:57.733Z"
   },
   {
    "duration": 32,
    "start_time": "2022-03-07T21:10:02.842Z"
   },
   {
    "duration": 243,
    "start_time": "2022-03-07T21:10:07.298Z"
   },
   {
    "duration": 10,
    "start_time": "2022-03-07T21:10:29.737Z"
   },
   {
    "duration": 9,
    "start_time": "2022-03-07T21:13:13.618Z"
   },
   {
    "duration": 101,
    "start_time": "2022-03-07T21:13:38.709Z"
   },
   {
    "duration": 67,
    "start_time": "2022-03-07T21:13:44.448Z"
   },
   {
    "duration": 21,
    "start_time": "2022-03-07T21:13:48.087Z"
   },
   {
    "duration": 443,
    "start_time": "2022-03-07T21:14:08.585Z"
   },
   {
    "duration": 299,
    "start_time": "2022-03-07T21:14:35.561Z"
   },
   {
    "duration": 45889,
    "start_time": "2022-03-07T21:14:39.298Z"
   },
   {
    "duration": 22,
    "start_time": "2022-03-07T21:16:07.227Z"
   },
   {
    "duration": 240,
    "start_time": "2022-03-07T21:18:51.967Z"
   },
   {
    "duration": 31,
    "start_time": "2022-03-07T21:18:57.285Z"
   },
   {
    "duration": 88299,
    "start_time": "2022-03-07T21:25:20.569Z"
   },
   {
    "duration": 4,
    "start_time": "2022-03-07T21:30:42.971Z"
   },
   {
    "duration": 4,
    "start_time": "2022-03-07T21:31:28.368Z"
   },
   {
    "duration": 19,
    "start_time": "2022-03-07T21:31:34.369Z"
   },
   {
    "duration": 1057,
    "start_time": "2022-03-07T21:34:19.402Z"
   },
   {
    "duration": 20,
    "start_time": "2022-03-07T21:34:20.461Z"
   },
   {
    "duration": 38,
    "start_time": "2022-03-07T21:34:20.483Z"
   },
   {
    "duration": 15,
    "start_time": "2022-03-07T21:34:20.522Z"
   },
   {
    "duration": 23,
    "start_time": "2022-03-07T21:34:20.538Z"
   },
   {
    "duration": 66,
    "start_time": "2022-03-07T21:34:20.563Z"
   },
   {
    "duration": 14,
    "start_time": "2022-03-07T21:34:20.631Z"
   },
   {
    "duration": 101,
    "start_time": "2022-03-07T21:34:20.647Z"
   },
   {
    "duration": 3,
    "start_time": "2022-03-07T21:34:20.750Z"
   },
   {
    "duration": 151,
    "start_time": "2022-03-07T21:34:20.755Z"
   },
   {
    "duration": 154,
    "start_time": "2022-03-07T21:34:20.908Z"
   },
   {
    "duration": 78566,
    "start_time": "2022-03-07T21:34:21.063Z"
   },
   {
    "duration": 18,
    "start_time": "2022-03-07T21:35:39.630Z"
   },
   {
    "duration": 329,
    "start_time": "2022-03-07T21:35:39.650Z"
   },
   {
    "duration": 45843,
    "start_time": "2022-03-07T21:35:39.981Z"
   },
   {
    "duration": 18,
    "start_time": "2022-03-07T21:36:25.825Z"
   },
   {
    "duration": 227,
    "start_time": "2022-03-07T21:36:25.844Z"
   },
   {
    "duration": 32,
    "start_time": "2022-03-07T21:36:26.073Z"
   },
   {
    "duration": 34,
    "start_time": "2022-03-07T21:36:26.107Z"
   },
   {
    "duration": 400,
    "start_time": "2022-03-07T21:36:26.143Z"
   },
   {
    "duration": 87743,
    "start_time": "2022-03-07T21:36:26.544Z"
   },
   {
    "duration": 2,
    "start_time": "2022-03-07T21:37:54.289Z"
   },
   {
    "duration": 117,
    "start_time": "2022-03-07T21:37:54.293Z"
   },
   {
    "duration": 101,
    "start_time": "2022-03-07T21:37:54.412Z"
   },
   {
    "duration": 3,
    "start_time": "2022-03-07T21:37:54.515Z"
   },
   {
    "duration": 400,
    "start_time": "2022-03-07T21:37:54.519Z"
   },
   {
    "duration": 88,
    "start_time": "2022-03-07T21:37:54.833Z"
   },
   {
    "duration": 98,
    "start_time": "2022-03-07T21:40:00.267Z"
   },
   {
    "duration": 3,
    "start_time": "2022-03-07T21:44:55.827Z"
   },
   {
    "duration": 49337,
    "start_time": "2022-03-07T21:45:19.538Z"
   },
   {
    "duration": 20,
    "start_time": "2022-03-07T21:46:51.183Z"
   },
   {
    "duration": 270,
    "start_time": "2022-03-07T21:46:51.204Z"
   },
   {
    "duration": 30,
    "start_time": "2022-03-07T21:46:51.476Z"
   },
   {
    "duration": 97,
    "start_time": "2022-03-07T21:46:51.508Z"
   },
   {
    "duration": 338,
    "start_time": "2022-03-07T21:46:51.607Z"
   },
   {
    "duration": 89807,
    "start_time": "2022-03-07T21:46:51.946Z"
   },
   {
    "duration": 58,
    "start_time": "2022-03-07T21:48:21.755Z"
   },
   {
    "duration": 9,
    "start_time": "2022-03-07T21:48:21.905Z"
   },
   {
    "duration": 4,
    "start_time": "2022-03-07T21:48:21.915Z"
   },
   {
    "duration": 290,
    "start_time": "2022-03-07T21:48:21.921Z"
   },
   {
    "duration": 108,
    "start_time": "2022-03-07T21:48:22.105Z"
   },
   {
    "duration": 1068,
    "start_time": "2022-03-07T21:50:41.093Z"
   },
   {
    "duration": 20,
    "start_time": "2022-03-07T21:50:42.163Z"
   },
   {
    "duration": 37,
    "start_time": "2022-03-07T21:50:42.185Z"
   },
   {
    "duration": 15,
    "start_time": "2022-03-07T21:50:42.223Z"
   },
   {
    "duration": 25,
    "start_time": "2022-03-07T21:50:42.240Z"
   },
   {
    "duration": 56,
    "start_time": "2022-03-07T21:50:42.266Z"
   },
   {
    "duration": 13,
    "start_time": "2022-03-07T21:50:42.324Z"
   },
   {
    "duration": 93,
    "start_time": "2022-03-07T21:50:42.340Z"
   },
   {
    "duration": 3,
    "start_time": "2022-03-07T21:50:42.435Z"
   },
   {
    "duration": 75,
    "start_time": "2022-03-07T21:50:42.440Z"
   },
   {
    "duration": 143,
    "start_time": "2022-03-07T21:50:42.606Z"
   },
   {
    "duration": 81706,
    "start_time": "2022-03-07T21:50:42.751Z"
   },
   {
    "duration": 51,
    "start_time": "2022-03-07T21:52:04.458Z"
   },
   {
    "duration": 327,
    "start_time": "2022-03-07T21:52:04.511Z"
   },
   {
    "duration": 46498,
    "start_time": "2022-03-07T21:52:04.840Z"
   },
   {
    "duration": 18,
    "start_time": "2022-03-07T21:52:51.340Z"
   },
   {
    "duration": 218,
    "start_time": "2022-03-07T21:52:51.359Z"
   },
   {
    "duration": 31,
    "start_time": "2022-03-07T21:52:51.578Z"
   },
   {
    "duration": 34,
    "start_time": "2022-03-07T21:52:51.611Z"
   },
   {
    "duration": 392,
    "start_time": "2022-03-07T21:52:51.646Z"
   },
   {
    "duration": 90961,
    "start_time": "2022-03-07T21:52:52.039Z"
   },
   {
    "duration": 101,
    "start_time": "2022-03-07T21:54:23.005Z"
   },
   {
    "duration": 97,
    "start_time": "2022-03-07T21:54:23.109Z"
   },
   {
    "duration": 4,
    "start_time": "2022-03-07T21:54:23.208Z"
   },
   {
    "duration": 19,
    "start_time": "2022-03-07T21:54:23.214Z"
   },
   {
    "duration": 8,
    "start_time": "2022-03-07T21:54:23.234Z"
   },
   {
    "duration": 10,
    "start_time": "2022-03-07T21:57:03.523Z"
   },
   {
    "duration": 9,
    "start_time": "2022-03-07T21:57:08.913Z"
   },
   {
    "duration": 1105,
    "start_time": "2022-03-08T00:38:12.171Z"
   },
   {
    "duration": 19,
    "start_time": "2022-03-08T00:38:13.278Z"
   },
   {
    "duration": 23,
    "start_time": "2022-03-08T00:38:13.299Z"
   },
   {
    "duration": 15,
    "start_time": "2022-03-08T00:38:13.323Z"
   },
   {
    "duration": 21,
    "start_time": "2022-03-08T00:38:13.340Z"
   },
   {
    "duration": 63,
    "start_time": "2022-03-08T00:38:13.362Z"
   },
   {
    "duration": 14,
    "start_time": "2022-03-08T00:38:13.426Z"
   },
   {
    "duration": 93,
    "start_time": "2022-03-08T00:38:13.441Z"
   },
   {
    "duration": 3,
    "start_time": "2022-03-08T00:38:13.536Z"
   },
   {
    "duration": 74,
    "start_time": "2022-03-08T00:38:13.541Z"
   },
   {
    "duration": 147,
    "start_time": "2022-03-08T00:38:13.705Z"
   },
   {
    "duration": 78633,
    "start_time": "2022-03-08T00:38:13.854Z"
   },
   {
    "duration": 117,
    "start_time": "2022-03-08T00:39:32.489Z"
   },
   {
    "duration": 241,
    "start_time": "2022-03-08T00:39:32.608Z"
   },
   {
    "duration": 46330,
    "start_time": "2022-03-08T00:39:32.850Z"
   },
   {
    "duration": 27,
    "start_time": "2022-03-08T00:40:19.182Z"
   },
   {
    "duration": 252,
    "start_time": "2022-03-08T00:40:19.210Z"
   },
   {
    "duration": 12,
    "start_time": "2022-03-08T00:40:19.464Z"
   },
   {
    "duration": 14,
    "start_time": "2022-03-08T00:42:46.753Z"
   },
   {
    "duration": 9,
    "start_time": "2022-03-08T00:43:57.776Z"
   },
   {
    "duration": 4,
    "start_time": "2022-03-08T00:44:23.715Z"
   },
   {
    "duration": 1038,
    "start_time": "2022-03-08T08:22:20.014Z"
   },
   {
    "duration": 27,
    "start_time": "2022-03-08T08:22:21.054Z"
   },
   {
    "duration": 27,
    "start_time": "2022-03-08T08:22:21.083Z"
   },
   {
    "duration": 66,
    "start_time": "2022-03-08T08:22:21.112Z"
   },
   {
    "duration": 29,
    "start_time": "2022-03-08T08:22:21.180Z"
   },
   {
    "duration": 61,
    "start_time": "2022-03-08T08:22:21.211Z"
   },
   {
    "duration": 15,
    "start_time": "2022-03-08T08:22:21.273Z"
   },
   {
    "duration": 101,
    "start_time": "2022-03-08T08:22:21.289Z"
   },
   {
    "duration": 4,
    "start_time": "2022-03-08T08:22:21.392Z"
   },
   {
    "duration": 68,
    "start_time": "2022-03-08T08:22:21.398Z"
   },
   {
    "duration": 263,
    "start_time": "2022-03-08T08:22:21.468Z"
   },
   {
    "duration": 95663,
    "start_time": "2022-03-08T08:22:26.748Z"
   },
   {
    "duration": 343,
    "start_time": "2022-03-08T08:32:12.547Z"
   },
   {
    "duration": 188,
    "start_time": "2022-03-08T08:32:33.127Z"
   },
   {
    "duration": 29,
    "start_time": "2022-03-08T08:36:26.736Z"
   },
   {
    "duration": 25,
    "start_time": "2022-03-08T08:36:32.580Z"
   },
   {
    "duration": 60,
    "start_time": "2022-03-08T08:39:19.098Z"
   },
   {
    "duration": 177,
    "start_time": "2022-03-08T08:42:16.955Z"
   },
   {
    "duration": 173,
    "start_time": "2022-03-08T08:42:42.461Z"
   },
   {
    "duration": 56977,
    "start_time": "2022-03-08T08:43:46.328Z"
   },
   {
    "duration": 1919,
    "start_time": "2022-03-08T08:45:36.546Z"
   },
   {
    "duration": 282,
    "start_time": "2022-03-08T08:50:28.940Z"
   },
   {
    "duration": 23,
    "start_time": "2022-03-08T08:55:13.945Z"
   },
   {
    "duration": 57,
    "start_time": "2022-03-08T08:58:33.297Z"
   },
   {
    "duration": 1080,
    "start_time": "2022-03-08T09:00:54.670Z"
   },
   {
    "duration": 23,
    "start_time": "2022-03-08T09:00:55.752Z"
   },
   {
    "duration": 30,
    "start_time": "2022-03-08T09:00:55.777Z"
   },
   {
    "duration": 62,
    "start_time": "2022-03-08T09:00:55.809Z"
   },
   {
    "duration": 26,
    "start_time": "2022-03-08T09:00:55.873Z"
   },
   {
    "duration": 68,
    "start_time": "2022-03-08T09:00:55.900Z"
   },
   {
    "duration": 15,
    "start_time": "2022-03-08T09:00:55.970Z"
   },
   {
    "duration": 93,
    "start_time": "2022-03-08T09:00:55.987Z"
   },
   {
    "duration": 4,
    "start_time": "2022-03-08T09:00:56.082Z"
   },
   {
    "duration": 76,
    "start_time": "2022-03-08T09:00:56.088Z"
   },
   {
    "duration": 265,
    "start_time": "2022-03-08T09:00:56.166Z"
   },
   {
    "duration": 97736,
    "start_time": "2022-03-08T09:00:56.432Z"
   },
   {
    "duration": 91,
    "start_time": "2022-03-08T09:02:34.170Z"
   },
   {
    "duration": 282,
    "start_time": "2022-03-08T09:02:34.264Z"
   },
   {
    "duration": 56462,
    "start_time": "2022-03-08T09:02:34.548Z"
   },
   {
    "duration": 23,
    "start_time": "2022-03-08T09:03:31.012Z"
   },
   {
    "duration": 2629,
    "start_time": "2022-03-08T09:03:31.036Z"
   },
   {
    "duration": 194,
    "start_time": "2022-03-08T09:03:33.667Z"
   },
   {
    "duration": 5,
    "start_time": "2022-03-08T09:03:33.863Z"
   },
   {
    "duration": 92,
    "start_time": "2022-03-08T09:03:33.870Z"
   },
   {
    "duration": 310,
    "start_time": "2022-03-08T09:03:33.964Z"
   },
   {
    "duration": 79972,
    "start_time": "2022-03-08T09:03:34.276Z"
   },
   {
    "duration": 113,
    "start_time": "2022-03-08T09:04:54.249Z"
   },
   {
    "duration": 98,
    "start_time": "2022-03-08T09:04:54.364Z"
   },
   {
    "duration": 325,
    "start_time": "2022-03-08T09:04:54.464Z"
   },
   {
    "duration": 2823,
    "start_time": "2022-03-08T09:04:51.968Z"
   },
   {
    "duration": 33,
    "start_time": "2022-03-08T09:06:30.237Z"
   },
   {
    "duration": 31,
    "start_time": "2022-03-08T09:06:53.272Z"
   },
   {
    "duration": 9,
    "start_time": "2022-03-08T09:06:53.469Z"
   },
   {
    "duration": 9,
    "start_time": "2022-03-08T09:08:11.929Z"
   },
   {
    "duration": 218,
    "start_time": "2022-03-08T09:08:46.480Z"
   },
   {
    "duration": 12,
    "start_time": "2022-03-08T09:09:05.479Z"
   },
   {
    "duration": 4,
    "start_time": "2022-03-08T09:11:06.841Z"
   },
   {
    "duration": 107,
    "start_time": "2022-03-08T09:12:20.658Z"
   }
  ],
  "kernelspec": {
   "display_name": "Python 3 (ipykernel)",
   "language": "python",
   "name": "python3"
  },
  "language_info": {
   "codemirror_mode": {
    "name": "ipython",
    "version": 3
   },
   "file_extension": ".py",
   "mimetype": "text/x-python",
   "name": "python",
   "nbconvert_exporter": "python",
   "pygments_lexer": "ipython3",
   "version": "3.9.12"
  },
  "toc": {
   "base_numbering": 1,
   "nav_menu": {},
   "number_sections": true,
   "sideBar": true,
   "skip_h1_title": true,
   "title_cell": "Содержание",
   "title_sidebar": "Contents",
   "toc_cell": true,
   "toc_position": {},
   "toc_section_display": true,
   "toc_window_display": true
  }
 },
 "nbformat": 4,
 "nbformat_minor": 2
}
