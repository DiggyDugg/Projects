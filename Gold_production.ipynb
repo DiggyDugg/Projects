{
 "cells": [
  {
   "cell_type": "markdown",
   "id": "fbb61dd1",
   "metadata": {},
   "source": [
    "# Постановка задачи"
   ]
  },
  {
   "cell_type": "markdown",
   "id": "418c883e",
   "metadata": {},
   "source": [
    "Модель должна предсказать коэффициент восстановления золота из золотосодержащей руды. В нашем распоряжении данные с параметрами добычи и очистки.\n",
    "Модель поможет оптимизировать производство, чтобы не запускать предприятие с убыточными характеристиками."
   ]
  },
  {
   "cell_type": "markdown",
   "id": "6a56a8af",
   "metadata": {},
   "source": [
    "# Технологический процесс"
   ]
  },
  {
   "cell_type": "markdown",
   "id": "0a991a21",
   "metadata": {},
   "source": [
    "Когда добытая руда проходит первичную обработку, получается дроблёная смесь. Её отправляют на флотацию (обогащение) и двухэтапную очистку.\n",
    "1. Флотация \\\n",
    "Во флотационную установку подаётся смесь золотосодержащей руды. После обогащения получается черновой концентрат и «отвальные хвосты», то есть остатки продукта с низкой концентрацией ценных металлов.\n",
    "На стабильность этого процесса влияет непостоянное и неоптимальное физико-химическое состояние флотационной пульпы (смеси твёрдых частиц и жидкости).\n",
    "2. Очистка\\\n",
    "Черновой концентрат проходит две очистки. На выходе получается финальный концентрат и новые отвальные хвосты.\n",
    "Описание данных\\\n",
    "Технологический процесс\\\n",
    "Rougher feed — исходное сырье\\\n",
    "Rougher additions (или reagent additions) — флотационные реагенты: Xanthate, Sulphate, Depressant\\\n",
    "Xanthate — ксантогенат (промотер, или активатор флотации);\\\n",
    "Sulphate — сульфат (на данном производстве сульфид натрия);\\\n",
    "Depressant — депрессант (силикат натрия).\\\n",
    "Rougher process (англ. «грубый процесс») — флотация\\\n",
    "Rougher tails — отвальные хвосты\\\n",
    "Float banks — флотационная установка\\\n",
    "Cleaner process — очистка\\\n",
    "Rougher Au — черновой концентрат золота\\\n",
    "Final Au — финальный концентрат золота\\\n",
    "Параметры этапов\\\n",
    "air amount — объём воздуха\\\n",
    "fluid levels — уровень жидкости\\\n",
    "feed size — размер гранул сырья\\\n",
    "feed rate — скорость подачи\\\n",
    "Наименование признаков:\\\n",
    "[этап].[тип_параметра].[название_параметра]\\\n",
    "Пример: rougher.input.feed_ag\\\n",
    "Возможные значения для блока [этап]:\\\n",
    "rougher — флотация\\\n",
    "primary_cleaner — первичная очистка\\\n",
    "secondary_cleaner — вторичная очистка\\\n",
    "final — финальные характеристики\\\n",
    "Возможные значения для блока [тип_параметра]:\\\n",
    "input — параметры сырья\\\n",
    "output — параметры продукта\\\n",
    "state — параметры, характеризующие текущее состояние этапа\\\n",
    "calculation — расчётные характеристики\\"
   ]
  },
  {
   "cell_type": "markdown",
   "id": "1e25e975",
   "metadata": {},
   "source": [
    "# Расчёт эффективности"
   ]
  },
  {
   "cell_type": "markdown",
   "id": "37bc0906",
   "metadata": {},
   "source": [
    "Нужно смоделировать процесс восстановления золота из золотосодержащей руды.\\\n",
    "Эффективность обогащения рассчитывается по формуле:\\\n",
    "RECOVERY = C*(F-T)/F*(C-T) * 100%\\\n",
    "где:\n",
    "C — доля золота в концентрате после флотации/очистки;\\\n",
    "F — доля золота в сырье/концентрате до флотации/очистки;\\\n",
    "T — доля золота в отвальных хвостах после флотации/очистки.\\\n",
    "Для прогноза коэффициента нужно найти долю золота в концентратах и хвостах. Причём важен не только финальный продукт, но и черновой концентрат."
   ]
  },
  {
   "cell_type": "markdown",
   "id": "d1259a63",
   "metadata": {},
   "source": [
    "# Метрика качества"
   ]
  },
  {
   "cell_type": "markdown",
   "id": "08c8e647",
   "metadata": {},
   "source": [
    "Для решения задачи используем метрику качества — sMAPE (англ. Symmetric Mean Absolute Percentage Error, «симметричное среднее абсолютное процентное отклонение»).\\\n",
    "Нужно спрогнозировать сразу две величины:\\\n",
    "эффективность обогащения чернового концентрата rougher.output.recovery;\\\n",
    "эффективность обогащения финального концентрата final.output.recovery.\\\n",
    "Итоговая метрика складывается из двух величин:\\\n",
    "Итоговое sMAPE = 25% sMAPE(rougher) + 75% sMAPE(final)"
   ]
  },
  {
   "cell_type": "markdown",
   "id": "f3c01023",
   "metadata": {},
   "source": [
    "# Данные"
   ]
  },
  {
   "cell_type": "markdown",
   "id": "6c76f0b5",
   "metadata": {},
   "source": [
    "Данные находятся в трёх файлах:\n",
    "gold_recovery_train_new.csv — обучающая выборка;\n",
    "gold_recovery_test_new.csv — тестовая выборка;\n",
    "gold_recovery_full_new.csv — исходные данные.\n",
    "Данные индексируются датой и временем получения информации (признак date). Соседние по времени параметры часто похожи.\n",
    "Некоторые параметры недоступны, потому что замеряются и/или рассчитываются значительно позже. Из-за этого в тестовой выборке отсутствуют некоторые признаки, которые могут быть в обучающей. Также в тестовом наборе нет целевых признаков.\n",
    "Исходный датасет содержит обучающую и тестовую выборки со всеми признаками."
   ]
  },
  {
   "cell_type": "code",
   "execution_count": 1,
   "id": "aaaba218",
   "metadata": {},
   "outputs": [],
   "source": [
    "import pandas as pd\n",
    "import numpy as np\n",
    "from scipy import stats as st\n",
    "from sklearn.model_selection import train_test_split\n",
    "from sklearn.linear_model import LinearRegression\n",
    "from sklearn.tree import DecisionTreeRegressor\n",
    "from sklearn.ensemble import RandomForestRegressor\n",
    "from sklearn.metrics import mean_squared_error\n",
    "from numpy.random import RandomState\n",
    "import matplotlib.pyplot as plt\n",
    "from sklearn.metrics import mean_absolute_error\n",
    "from sklearn.model_selection import cross_val_score\n",
    "from sklearn.preprocessing import StandardScaler\n",
    "from sklearn.metrics import make_scorer\n",
    "from sklearn.model_selection import GridSearchCV\n",
    "from sklearn.dummy import DummyRegressor\n",
    "import warnings\n",
    "\n",
    "warnings.filterwarnings(\"ignore\")"
   ]
  },
  {
   "cell_type": "markdown",
   "id": "c877f75c",
   "metadata": {},
   "source": [
    "## Анализ данных"
   ]
  },
  {
   "cell_type": "markdown",
   "id": "4a4a013c",
   "metadata": {},
   "source": [
    "### Первичный анализ"
   ]
  },
  {
   "cell_type": "raw",
   "id": "8ede1203",
   "metadata": {},
   "source": [
    "train = pd.read_csv('C:\\Dev\\Jupyter\\dist\\projects\\gold\\gold_recovery_full_new.csv')\n",
    "test = pd.read_csv('C:\\Dev\\Jupyter\\dist\\projects\\gold\\gold_recovery_test_new.csv')\n",
    "full = pd.read_csv('C:\\Dev\\Jupyter\\dist\\projects\\gold\\gold_recovery_full_new.csv')"
   ]
  },
  {
   "cell_type": "code",
   "execution_count": 2,
   "id": "d4203100",
   "metadata": {},
   "outputs": [],
   "source": [
    "train = pd.read_csv('/datasets/gold_recovery_full_new.csv')\n",
    "test = pd.read_csv('/datasets/gold_recovery_test_new.csv')\n",
    "full = pd.read_csv('/datasets/gold_recovery_full_new.csv')"
   ]
  },
  {
   "cell_type": "code",
   "execution_count": 3,
   "id": "4919ecec",
   "metadata": {},
   "outputs": [
    {
     "name": "stdout",
     "output_type": "stream",
     "text": [
      "(19439, 87) (5290, 53) (19439, 87)\n"
     ]
    }
   ],
   "source": [
    "print(train.shape, test.shape, full.shape)"
   ]
  },
  {
   "cell_type": "code",
   "execution_count": 4,
   "id": "6f73ac82",
   "metadata": {},
   "outputs": [
    {
     "name": "stdout",
     "output_type": "stream",
     "text": [
      "<class 'pandas.core.frame.DataFrame'>\n",
      "RangeIndex: 19439 entries, 0 to 19438\n",
      "Data columns (total 87 columns):\n",
      " #   Column                                              Non-Null Count  Dtype  \n",
      "---  ------                                              --------------  -----  \n",
      " 0   date                                                19439 non-null  object \n",
      " 1   final.output.concentrate_ag                         19438 non-null  float64\n",
      " 2   final.output.concentrate_pb                         19438 non-null  float64\n",
      " 3   final.output.concentrate_sol                        19228 non-null  float64\n",
      " 4   final.output.concentrate_au                         19439 non-null  float64\n",
      " 5   final.output.recovery                               19439 non-null  float64\n",
      " 6   final.output.tail_ag                                19438 non-null  float64\n",
      " 7   final.output.tail_pb                                19338 non-null  float64\n",
      " 8   final.output.tail_sol                               19433 non-null  float64\n",
      " 9   final.output.tail_au                                19439 non-null  float64\n",
      " 10  primary_cleaner.input.sulfate                       19415 non-null  float64\n",
      " 11  primary_cleaner.input.depressant                    19402 non-null  float64\n",
      " 12  primary_cleaner.input.feed_size                     19439 non-null  float64\n",
      " 13  primary_cleaner.input.xanthate                      19335 non-null  float64\n",
      " 14  primary_cleaner.output.concentrate_ag               19439 non-null  float64\n",
      " 15  primary_cleaner.output.concentrate_pb               19323 non-null  float64\n",
      " 16  primary_cleaner.output.concentrate_sol              19069 non-null  float64\n",
      " 17  primary_cleaner.output.concentrate_au               19439 non-null  float64\n",
      " 18  primary_cleaner.output.tail_ag                      19435 non-null  float64\n",
      " 19  primary_cleaner.output.tail_pb                      19418 non-null  float64\n",
      " 20  primary_cleaner.output.tail_sol                     19377 non-null  float64\n",
      " 21  primary_cleaner.output.tail_au                      19439 non-null  float64\n",
      " 22  primary_cleaner.state.floatbank8_a_air              19435 non-null  float64\n",
      " 23  primary_cleaner.state.floatbank8_a_level            19438 non-null  float64\n",
      " 24  primary_cleaner.state.floatbank8_b_air              19435 non-null  float64\n",
      " 25  primary_cleaner.state.floatbank8_b_level            19438 non-null  float64\n",
      " 26  primary_cleaner.state.floatbank8_c_air              19437 non-null  float64\n",
      " 27  primary_cleaner.state.floatbank8_c_level            19438 non-null  float64\n",
      " 28  primary_cleaner.state.floatbank8_d_air              19436 non-null  float64\n",
      " 29  primary_cleaner.state.floatbank8_d_level            19438 non-null  float64\n",
      " 30  rougher.calculation.sulfate_to_au_concentrate       19437 non-null  float64\n",
      " 31  rougher.calculation.floatbank10_sulfate_to_au_feed  19437 non-null  float64\n",
      " 32  rougher.calculation.floatbank11_sulfate_to_au_feed  19437 non-null  float64\n",
      " 33  rougher.calculation.au_pb_ratio                     19439 non-null  float64\n",
      " 34  rougher.input.feed_ag                               19439 non-null  float64\n",
      " 35  rougher.input.feed_pb                               19339 non-null  float64\n",
      " 36  rougher.input.feed_rate                             19428 non-null  float64\n",
      " 37  rougher.input.feed_size                             19294 non-null  float64\n",
      " 38  rougher.input.feed_sol                              19340 non-null  float64\n",
      " 39  rougher.input.feed_au                               19439 non-null  float64\n",
      " 40  rougher.input.floatbank10_sulfate                   19405 non-null  float64\n",
      " 41  rougher.input.floatbank10_xanthate                  19431 non-null  float64\n",
      " 42  rougher.input.floatbank11_sulfate                   19395 non-null  float64\n",
      " 43  rougher.input.floatbank11_xanthate                  18986 non-null  float64\n",
      " 44  rougher.output.concentrate_ag                       19439 non-null  float64\n",
      " 45  rougher.output.concentrate_pb                       19439 non-null  float64\n",
      " 46  rougher.output.concentrate_sol                      19416 non-null  float64\n",
      " 47  rougher.output.concentrate_au                       19439 non-null  float64\n",
      " 48  rougher.output.recovery                             19439 non-null  float64\n",
      " 49  rougher.output.tail_ag                              19438 non-null  float64\n",
      " 50  rougher.output.tail_pb                              19439 non-null  float64\n",
      " 51  rougher.output.tail_sol                             19439 non-null  float64\n",
      " 52  rougher.output.tail_au                              19439 non-null  float64\n",
      " 53  rougher.state.floatbank10_a_air                     19438 non-null  float64\n",
      " 54  rougher.state.floatbank10_a_level                   19438 non-null  float64\n",
      " 55  rougher.state.floatbank10_b_air                     19438 non-null  float64\n",
      " 56  rougher.state.floatbank10_b_level                   19438 non-null  float64\n",
      " 57  rougher.state.floatbank10_c_air                     19438 non-null  float64\n",
      " 58  rougher.state.floatbank10_c_level                   19438 non-null  float64\n",
      " 59  rougher.state.floatbank10_d_air                     19439 non-null  float64\n",
      " 60  rougher.state.floatbank10_d_level                   19439 non-null  float64\n",
      " 61  rougher.state.floatbank10_e_air                     19003 non-null  float64\n",
      " 62  rougher.state.floatbank10_e_level                   19439 non-null  float64\n",
      " 63  rougher.state.floatbank10_f_air                     19439 non-null  float64\n",
      " 64  rougher.state.floatbank10_f_level                   19439 non-null  float64\n",
      " 65  secondary_cleaner.output.tail_ag                    19437 non-null  float64\n",
      " 66  secondary_cleaner.output.tail_pb                    19427 non-null  float64\n",
      " 67  secondary_cleaner.output.tail_sol                   17691 non-null  float64\n",
      " 68  secondary_cleaner.output.tail_au                    19439 non-null  float64\n",
      " 69  secondary_cleaner.state.floatbank2_a_air            19219 non-null  float64\n",
      " 70  secondary_cleaner.state.floatbank2_a_level          19438 non-null  float64\n",
      " 71  secondary_cleaner.state.floatbank2_b_air            19416 non-null  float64\n",
      " 72  secondary_cleaner.state.floatbank2_b_level          19438 non-null  float64\n",
      " 73  secondary_cleaner.state.floatbank3_a_air            19426 non-null  float64\n",
      " 74  secondary_cleaner.state.floatbank3_a_level          19438 non-null  float64\n",
      " 75  secondary_cleaner.state.floatbank3_b_air            19438 non-null  float64\n",
      " 76  secondary_cleaner.state.floatbank3_b_level          19438 non-null  float64\n",
      " 77  secondary_cleaner.state.floatbank4_a_air            19433 non-null  float64\n",
      " 78  secondary_cleaner.state.floatbank4_a_level          19438 non-null  float64\n",
      " 79  secondary_cleaner.state.floatbank4_b_air            19438 non-null  float64\n",
      " 80  secondary_cleaner.state.floatbank4_b_level          19438 non-null  float64\n",
      " 81  secondary_cleaner.state.floatbank5_a_air            19438 non-null  float64\n",
      " 82  secondary_cleaner.state.floatbank5_a_level          19438 non-null  float64\n",
      " 83  secondary_cleaner.state.floatbank5_b_air            19438 non-null  float64\n",
      " 84  secondary_cleaner.state.floatbank5_b_level          19438 non-null  float64\n",
      " 85  secondary_cleaner.state.floatbank6_a_air            19437 non-null  float64\n",
      " 86  secondary_cleaner.state.floatbank6_a_level          19438 non-null  float64\n",
      "dtypes: float64(86), object(1)\n",
      "memory usage: 12.9+ MB\n"
     ]
    },
    {
     "data": {
      "text/plain": [
       "None"
      ]
     },
     "metadata": {},
     "output_type": "display_data"
    },
    {
     "name": "stdout",
     "output_type": "stream",
     "text": [
      "<class 'pandas.core.frame.DataFrame'>\n",
      "RangeIndex: 5290 entries, 0 to 5289\n",
      "Data columns (total 53 columns):\n",
      " #   Column                                      Non-Null Count  Dtype  \n",
      "---  ------                                      --------------  -----  \n",
      " 0   date                                        5290 non-null   object \n",
      " 1   primary_cleaner.input.sulfate               5286 non-null   float64\n",
      " 2   primary_cleaner.input.depressant            5285 non-null   float64\n",
      " 3   primary_cleaner.input.feed_size             5290 non-null   float64\n",
      " 4   primary_cleaner.input.xanthate              5286 non-null   float64\n",
      " 5   primary_cleaner.state.floatbank8_a_air      5290 non-null   float64\n",
      " 6   primary_cleaner.state.floatbank8_a_level    5290 non-null   float64\n",
      " 7   primary_cleaner.state.floatbank8_b_air      5290 non-null   float64\n",
      " 8   primary_cleaner.state.floatbank8_b_level    5290 non-null   float64\n",
      " 9   primary_cleaner.state.floatbank8_c_air      5290 non-null   float64\n",
      " 10  primary_cleaner.state.floatbank8_c_level    5290 non-null   float64\n",
      " 11  primary_cleaner.state.floatbank8_d_air      5290 non-null   float64\n",
      " 12  primary_cleaner.state.floatbank8_d_level    5290 non-null   float64\n",
      " 13  rougher.input.feed_ag                       5290 non-null   float64\n",
      " 14  rougher.input.feed_pb                       5290 non-null   float64\n",
      " 15  rougher.input.feed_rate                     5287 non-null   float64\n",
      " 16  rougher.input.feed_size                     5289 non-null   float64\n",
      " 17  rougher.input.feed_sol                      5269 non-null   float64\n",
      " 18  rougher.input.feed_au                       5290 non-null   float64\n",
      " 19  rougher.input.floatbank10_sulfate           5285 non-null   float64\n",
      " 20  rougher.input.floatbank10_xanthate          5290 non-null   float64\n",
      " 21  rougher.input.floatbank11_sulfate           5282 non-null   float64\n",
      " 22  rougher.input.floatbank11_xanthate          5265 non-null   float64\n",
      " 23  rougher.state.floatbank10_a_air             5290 non-null   float64\n",
      " 24  rougher.state.floatbank10_a_level           5290 non-null   float64\n",
      " 25  rougher.state.floatbank10_b_air             5290 non-null   float64\n",
      " 26  rougher.state.floatbank10_b_level           5290 non-null   float64\n",
      " 27  rougher.state.floatbank10_c_air             5290 non-null   float64\n",
      " 28  rougher.state.floatbank10_c_level           5290 non-null   float64\n",
      " 29  rougher.state.floatbank10_d_air             5290 non-null   float64\n",
      " 30  rougher.state.floatbank10_d_level           5290 non-null   float64\n",
      " 31  rougher.state.floatbank10_e_air             5290 non-null   float64\n",
      " 32  rougher.state.floatbank10_e_level           5290 non-null   float64\n",
      " 33  rougher.state.floatbank10_f_air             5290 non-null   float64\n",
      " 34  rougher.state.floatbank10_f_level           5290 non-null   float64\n",
      " 35  secondary_cleaner.state.floatbank2_a_air    5287 non-null   float64\n",
      " 36  secondary_cleaner.state.floatbank2_a_level  5290 non-null   float64\n",
      " 37  secondary_cleaner.state.floatbank2_b_air    5288 non-null   float64\n",
      " 38  secondary_cleaner.state.floatbank2_b_level  5290 non-null   float64\n",
      " 39  secondary_cleaner.state.floatbank3_a_air    5281 non-null   float64\n",
      " 40  secondary_cleaner.state.floatbank3_a_level  5290 non-null   float64\n",
      " 41  secondary_cleaner.state.floatbank3_b_air    5290 non-null   float64\n",
      " 42  secondary_cleaner.state.floatbank3_b_level  5290 non-null   float64\n",
      " 43  secondary_cleaner.state.floatbank4_a_air    5290 non-null   float64\n",
      " 44  secondary_cleaner.state.floatbank4_a_level  5290 non-null   float64\n",
      " 45  secondary_cleaner.state.floatbank4_b_air    5290 non-null   float64\n",
      " 46  secondary_cleaner.state.floatbank4_b_level  5290 non-null   float64\n",
      " 47  secondary_cleaner.state.floatbank5_a_air    5290 non-null   float64\n",
      " 48  secondary_cleaner.state.floatbank5_a_level  5290 non-null   float64\n",
      " 49  secondary_cleaner.state.floatbank5_b_air    5290 non-null   float64\n",
      " 50  secondary_cleaner.state.floatbank5_b_level  5290 non-null   float64\n",
      " 51  secondary_cleaner.state.floatbank6_a_air    5290 non-null   float64\n",
      " 52  secondary_cleaner.state.floatbank6_a_level  5290 non-null   float64\n",
      "dtypes: float64(52), object(1)\n",
      "memory usage: 2.1+ MB\n"
     ]
    },
    {
     "data": {
      "text/plain": [
       "None"
      ]
     },
     "metadata": {},
     "output_type": "display_data"
    },
    {
     "name": "stdout",
     "output_type": "stream",
     "text": [
      "<class 'pandas.core.frame.DataFrame'>\n",
      "RangeIndex: 19439 entries, 0 to 19438\n",
      "Data columns (total 87 columns):\n",
      " #   Column                                              Non-Null Count  Dtype  \n",
      "---  ------                                              --------------  -----  \n",
      " 0   date                                                19439 non-null  object \n",
      " 1   final.output.concentrate_ag                         19438 non-null  float64\n",
      " 2   final.output.concentrate_pb                         19438 non-null  float64\n",
      " 3   final.output.concentrate_sol                        19228 non-null  float64\n",
      " 4   final.output.concentrate_au                         19439 non-null  float64\n",
      " 5   final.output.recovery                               19439 non-null  float64\n",
      " 6   final.output.tail_ag                                19438 non-null  float64\n",
      " 7   final.output.tail_pb                                19338 non-null  float64\n",
      " 8   final.output.tail_sol                               19433 non-null  float64\n",
      " 9   final.output.tail_au                                19439 non-null  float64\n",
      " 10  primary_cleaner.input.sulfate                       19415 non-null  float64\n",
      " 11  primary_cleaner.input.depressant                    19402 non-null  float64\n",
      " 12  primary_cleaner.input.feed_size                     19439 non-null  float64\n",
      " 13  primary_cleaner.input.xanthate                      19335 non-null  float64\n",
      " 14  primary_cleaner.output.concentrate_ag               19439 non-null  float64\n",
      " 15  primary_cleaner.output.concentrate_pb               19323 non-null  float64\n",
      " 16  primary_cleaner.output.concentrate_sol              19069 non-null  float64\n",
      " 17  primary_cleaner.output.concentrate_au               19439 non-null  float64\n",
      " 18  primary_cleaner.output.tail_ag                      19435 non-null  float64\n",
      " 19  primary_cleaner.output.tail_pb                      19418 non-null  float64\n",
      " 20  primary_cleaner.output.tail_sol                     19377 non-null  float64\n",
      " 21  primary_cleaner.output.tail_au                      19439 non-null  float64\n",
      " 22  primary_cleaner.state.floatbank8_a_air              19435 non-null  float64\n",
      " 23  primary_cleaner.state.floatbank8_a_level            19438 non-null  float64\n",
      " 24  primary_cleaner.state.floatbank8_b_air              19435 non-null  float64\n",
      " 25  primary_cleaner.state.floatbank8_b_level            19438 non-null  float64\n",
      " 26  primary_cleaner.state.floatbank8_c_air              19437 non-null  float64\n",
      " 27  primary_cleaner.state.floatbank8_c_level            19438 non-null  float64\n",
      " 28  primary_cleaner.state.floatbank8_d_air              19436 non-null  float64\n",
      " 29  primary_cleaner.state.floatbank8_d_level            19438 non-null  float64\n",
      " 30  rougher.calculation.sulfate_to_au_concentrate       19437 non-null  float64\n",
      " 31  rougher.calculation.floatbank10_sulfate_to_au_feed  19437 non-null  float64\n",
      " 32  rougher.calculation.floatbank11_sulfate_to_au_feed  19437 non-null  float64\n",
      " 33  rougher.calculation.au_pb_ratio                     19439 non-null  float64\n",
      " 34  rougher.input.feed_ag                               19439 non-null  float64\n",
      " 35  rougher.input.feed_pb                               19339 non-null  float64\n",
      " 36  rougher.input.feed_rate                             19428 non-null  float64\n",
      " 37  rougher.input.feed_size                             19294 non-null  float64\n",
      " 38  rougher.input.feed_sol                              19340 non-null  float64\n",
      " 39  rougher.input.feed_au                               19439 non-null  float64\n",
      " 40  rougher.input.floatbank10_sulfate                   19405 non-null  float64\n",
      " 41  rougher.input.floatbank10_xanthate                  19431 non-null  float64\n",
      " 42  rougher.input.floatbank11_sulfate                   19395 non-null  float64\n",
      " 43  rougher.input.floatbank11_xanthate                  18986 non-null  float64\n",
      " 44  rougher.output.concentrate_ag                       19439 non-null  float64\n",
      " 45  rougher.output.concentrate_pb                       19439 non-null  float64\n",
      " 46  rougher.output.concentrate_sol                      19416 non-null  float64\n",
      " 47  rougher.output.concentrate_au                       19439 non-null  float64\n",
      " 48  rougher.output.recovery                             19439 non-null  float64\n",
      " 49  rougher.output.tail_ag                              19438 non-null  float64\n",
      " 50  rougher.output.tail_pb                              19439 non-null  float64\n",
      " 51  rougher.output.tail_sol                             19439 non-null  float64\n",
      " 52  rougher.output.tail_au                              19439 non-null  float64\n",
      " 53  rougher.state.floatbank10_a_air                     19438 non-null  float64\n",
      " 54  rougher.state.floatbank10_a_level                   19438 non-null  float64\n",
      " 55  rougher.state.floatbank10_b_air                     19438 non-null  float64\n",
      " 56  rougher.state.floatbank10_b_level                   19438 non-null  float64\n",
      " 57  rougher.state.floatbank10_c_air                     19438 non-null  float64\n",
      " 58  rougher.state.floatbank10_c_level                   19438 non-null  float64\n",
      " 59  rougher.state.floatbank10_d_air                     19439 non-null  float64\n",
      " 60  rougher.state.floatbank10_d_level                   19439 non-null  float64\n",
      " 61  rougher.state.floatbank10_e_air                     19003 non-null  float64\n",
      " 62  rougher.state.floatbank10_e_level                   19439 non-null  float64\n",
      " 63  rougher.state.floatbank10_f_air                     19439 non-null  float64\n",
      " 64  rougher.state.floatbank10_f_level                   19439 non-null  float64\n",
      " 65  secondary_cleaner.output.tail_ag                    19437 non-null  float64\n",
      " 66  secondary_cleaner.output.tail_pb                    19427 non-null  float64\n",
      " 67  secondary_cleaner.output.tail_sol                   17691 non-null  float64\n",
      " 68  secondary_cleaner.output.tail_au                    19439 non-null  float64\n",
      " 69  secondary_cleaner.state.floatbank2_a_air            19219 non-null  float64\n",
      " 70  secondary_cleaner.state.floatbank2_a_level          19438 non-null  float64\n",
      " 71  secondary_cleaner.state.floatbank2_b_air            19416 non-null  float64\n",
      " 72  secondary_cleaner.state.floatbank2_b_level          19438 non-null  float64\n",
      " 73  secondary_cleaner.state.floatbank3_a_air            19426 non-null  float64\n",
      " 74  secondary_cleaner.state.floatbank3_a_level          19438 non-null  float64\n",
      " 75  secondary_cleaner.state.floatbank3_b_air            19438 non-null  float64\n",
      " 76  secondary_cleaner.state.floatbank3_b_level          19438 non-null  float64\n",
      " 77  secondary_cleaner.state.floatbank4_a_air            19433 non-null  float64\n",
      " 78  secondary_cleaner.state.floatbank4_a_level          19438 non-null  float64\n",
      " 79  secondary_cleaner.state.floatbank4_b_air            19438 non-null  float64\n",
      " 80  secondary_cleaner.state.floatbank4_b_level          19438 non-null  float64\n",
      " 81  secondary_cleaner.state.floatbank5_a_air            19438 non-null  float64\n",
      " 82  secondary_cleaner.state.floatbank5_a_level          19438 non-null  float64\n",
      " 83  secondary_cleaner.state.floatbank5_b_air            19438 non-null  float64\n",
      " 84  secondary_cleaner.state.floatbank5_b_level          19438 non-null  float64\n",
      " 85  secondary_cleaner.state.floatbank6_a_air            19437 non-null  float64\n",
      " 86  secondary_cleaner.state.floatbank6_a_level          19438 non-null  float64\n",
      "dtypes: float64(86), object(1)\n",
      "memory usage: 12.9+ MB\n"
     ]
    },
    {
     "data": {
      "text/plain": [
       "None"
      ]
     },
     "metadata": {},
     "output_type": "display_data"
    }
   ],
   "source": [
    "display(train.info())\n",
    "display(test.info())\n",
    "display(full.info())"
   ]
  },
  {
   "cell_type": "markdown",
   "id": "76f545d5",
   "metadata": {},
   "source": [
    "### Проверка расчета эффективности обогащения\n",
    "Вычислим её на обучающей выборке для признака rougher.output.recovery"
   ]
  },
  {
   "cell_type": "code",
   "execution_count": 5,
   "id": "6b54705b",
   "metadata": {},
   "outputs": [
    {
     "data": {
      "text/plain": [
       "9.874045668302637e-15"
      ]
     },
     "execution_count": 5,
     "metadata": {},
     "output_type": "execute_result"
    }
   ],
   "source": [
    "C = train['rougher.output.concentrate_au']\n",
    "F = train['rougher.input.feed_au']\n",
    "T = train['rougher.output.tail_au']\n",
    "train['rougher.output.recovery_calc'] = (C*(F-T))/(F*(C-T))*100\n",
    "mae = mean_absolute_error(train['rougher.output.recovery'], train['rougher.output.recovery_calc'])\n",
    "mae"
   ]
  },
  {
   "cell_type": "markdown",
   "id": "7ca934dc",
   "metadata": {},
   "source": [
    "Эффективность обогащения рассчитана правильно: среднее абсолютное отклонение равно нулю."
   ]
  },
  {
   "cell_type": "markdown",
   "id": "5450e05d",
   "metadata": {},
   "source": [
    "### Анализ признаков, недоступных в тестовой выборке"
   ]
  },
  {
   "cell_type": "code",
   "execution_count": 6,
   "id": "0b978b7a",
   "metadata": {},
   "outputs": [
    {
     "data": {
      "text/plain": [
       "['final.output.concentrate_ag',\n",
       " 'final.output.concentrate_pb',\n",
       " 'final.output.concentrate_sol',\n",
       " 'final.output.concentrate_au',\n",
       " 'final.output.recovery',\n",
       " 'final.output.tail_ag',\n",
       " 'final.output.tail_pb',\n",
       " 'final.output.tail_sol',\n",
       " 'final.output.tail_au',\n",
       " 'primary_cleaner.output.concentrate_ag',\n",
       " 'primary_cleaner.output.concentrate_pb',\n",
       " 'primary_cleaner.output.concentrate_sol',\n",
       " 'primary_cleaner.output.concentrate_au',\n",
       " 'primary_cleaner.output.tail_ag',\n",
       " 'primary_cleaner.output.tail_pb',\n",
       " 'primary_cleaner.output.tail_sol',\n",
       " 'primary_cleaner.output.tail_au',\n",
       " 'rougher.calculation.sulfate_to_au_concentrate',\n",
       " 'rougher.calculation.floatbank10_sulfate_to_au_feed',\n",
       " 'rougher.calculation.floatbank11_sulfate_to_au_feed',\n",
       " 'rougher.calculation.au_pb_ratio',\n",
       " 'rougher.output.concentrate_ag',\n",
       " 'rougher.output.concentrate_pb',\n",
       " 'rougher.output.concentrate_sol',\n",
       " 'rougher.output.concentrate_au',\n",
       " 'rougher.output.recovery',\n",
       " 'rougher.output.tail_ag',\n",
       " 'rougher.output.tail_pb',\n",
       " 'rougher.output.tail_sol',\n",
       " 'rougher.output.tail_au',\n",
       " 'secondary_cleaner.output.tail_ag',\n",
       " 'secondary_cleaner.output.tail_pb',\n",
       " 'secondary_cleaner.output.tail_sol',\n",
       " 'secondary_cleaner.output.tail_au',\n",
       " 'rougher.output.recovery_calc']"
      ]
     },
     "execution_count": 6,
     "metadata": {},
     "output_type": "execute_result"
    }
   ],
   "source": [
    "absent_columns = []\n",
    "train_columns = train.columns\n",
    "test_columns = test.columns\n",
    "for column in train_columns:\n",
    "    if column not in test_columns:\n",
    "        absent_columns.append(column)\n",
    "absent_columns"
   ]
  },
  {
   "cell_type": "markdown",
   "id": "92e9cc36",
   "metadata": {},
   "source": [
    "В тестовой выборке нет: \n",
    "1) выходов ценных металлов в концентрате и хвостах для всех этапов обогащения; эти данные для этапов final и rougher используются для расчета целевых признаков  'final.output.recovery' и 'rougher.output.recovery', поэтому для входа в модель не нужны (иначе будет утечка целевого признака); выходы металлов на этапах primary_cleaner и secondary_cleaner зависят от выхода на этапе rougher, а также от прочих признаков, поэтому также будут давать модели информацию о целевом признаке и **не должны подаваться на вход в модель**  \n",
    "2) целевых признаков: 'final.output.recovery' и 'rougher.output.recovery'; их **нужно добавить из полной выборки**  \n",
    "3) расчетных показателей (видимо, предполагается, что они посчитаны на уже имеющихся в выборке данных, а потому имеют высокую корреляцию с другими признаками, поэтому **не должны подаваться на вход в модель**  \n",
    "**Вывод: в признаках не должно быть показателей с словами output и calculation. Используем это при подготовке признаков для обучения в п. 1.4**"
   ]
  },
  {
   "cell_type": "markdown",
   "id": "fb5ea854",
   "metadata": {},
   "source": [
    "### Предобработка данных"
   ]
  },
  {
   "cell_type": "markdown",
   "id": "739030d7",
   "metadata": {},
   "source": [
    "Добавим 'final.output.recovery' и  'rougher.output.recovery' в тестовую выборку. Для этого воспользуемся датой как индексом. Приведем дату к офрмату даты из текста."
   ]
  },
  {
   "cell_type": "code",
   "execution_count": 7,
   "id": "6c9a771c",
   "metadata": {},
   "outputs": [
    {
     "name": "stdout",
     "output_type": "stream",
     "text": [
      "<class 'pandas.core.frame.DataFrame'>\n",
      "RangeIndex: 5290 entries, 0 to 5289\n",
      "Data columns (total 53 columns):\n",
      " #   Column                                      Non-Null Count  Dtype         \n",
      "---  ------                                      --------------  -----         \n",
      " 0   date                                        5290 non-null   datetime64[ns]\n",
      " 1   primary_cleaner.input.sulfate               5286 non-null   float64       \n",
      " 2   primary_cleaner.input.depressant            5285 non-null   float64       \n",
      " 3   primary_cleaner.input.feed_size             5290 non-null   float64       \n",
      " 4   primary_cleaner.input.xanthate              5286 non-null   float64       \n",
      " 5   primary_cleaner.state.floatbank8_a_air      5290 non-null   float64       \n",
      " 6   primary_cleaner.state.floatbank8_a_level    5290 non-null   float64       \n",
      " 7   primary_cleaner.state.floatbank8_b_air      5290 non-null   float64       \n",
      " 8   primary_cleaner.state.floatbank8_b_level    5290 non-null   float64       \n",
      " 9   primary_cleaner.state.floatbank8_c_air      5290 non-null   float64       \n",
      " 10  primary_cleaner.state.floatbank8_c_level    5290 non-null   float64       \n",
      " 11  primary_cleaner.state.floatbank8_d_air      5290 non-null   float64       \n",
      " 12  primary_cleaner.state.floatbank8_d_level    5290 non-null   float64       \n",
      " 13  rougher.input.feed_ag                       5290 non-null   float64       \n",
      " 14  rougher.input.feed_pb                       5290 non-null   float64       \n",
      " 15  rougher.input.feed_rate                     5287 non-null   float64       \n",
      " 16  rougher.input.feed_size                     5289 non-null   float64       \n",
      " 17  rougher.input.feed_sol                      5269 non-null   float64       \n",
      " 18  rougher.input.feed_au                       5290 non-null   float64       \n",
      " 19  rougher.input.floatbank10_sulfate           5285 non-null   float64       \n",
      " 20  rougher.input.floatbank10_xanthate          5290 non-null   float64       \n",
      " 21  rougher.input.floatbank11_sulfate           5282 non-null   float64       \n",
      " 22  rougher.input.floatbank11_xanthate          5265 non-null   float64       \n",
      " 23  rougher.state.floatbank10_a_air             5290 non-null   float64       \n",
      " 24  rougher.state.floatbank10_a_level           5290 non-null   float64       \n",
      " 25  rougher.state.floatbank10_b_air             5290 non-null   float64       \n",
      " 26  rougher.state.floatbank10_b_level           5290 non-null   float64       \n",
      " 27  rougher.state.floatbank10_c_air             5290 non-null   float64       \n",
      " 28  rougher.state.floatbank10_c_level           5290 non-null   float64       \n",
      " 29  rougher.state.floatbank10_d_air             5290 non-null   float64       \n",
      " 30  rougher.state.floatbank10_d_level           5290 non-null   float64       \n",
      " 31  rougher.state.floatbank10_e_air             5290 non-null   float64       \n",
      " 32  rougher.state.floatbank10_e_level           5290 non-null   float64       \n",
      " 33  rougher.state.floatbank10_f_air             5290 non-null   float64       \n",
      " 34  rougher.state.floatbank10_f_level           5290 non-null   float64       \n",
      " 35  secondary_cleaner.state.floatbank2_a_air    5287 non-null   float64       \n",
      " 36  secondary_cleaner.state.floatbank2_a_level  5290 non-null   float64       \n",
      " 37  secondary_cleaner.state.floatbank2_b_air    5288 non-null   float64       \n",
      " 38  secondary_cleaner.state.floatbank2_b_level  5290 non-null   float64       \n",
      " 39  secondary_cleaner.state.floatbank3_a_air    5281 non-null   float64       \n",
      " 40  secondary_cleaner.state.floatbank3_a_level  5290 non-null   float64       \n",
      " 41  secondary_cleaner.state.floatbank3_b_air    5290 non-null   float64       \n",
      " 42  secondary_cleaner.state.floatbank3_b_level  5290 non-null   float64       \n",
      " 43  secondary_cleaner.state.floatbank4_a_air    5290 non-null   float64       \n",
      " 44  secondary_cleaner.state.floatbank4_a_level  5290 non-null   float64       \n",
      " 45  secondary_cleaner.state.floatbank4_b_air    5290 non-null   float64       \n",
      " 46  secondary_cleaner.state.floatbank4_b_level  5290 non-null   float64       \n",
      " 47  secondary_cleaner.state.floatbank5_a_air    5290 non-null   float64       \n",
      " 48  secondary_cleaner.state.floatbank5_a_level  5290 non-null   float64       \n",
      " 49  secondary_cleaner.state.floatbank5_b_air    5290 non-null   float64       \n",
      " 50  secondary_cleaner.state.floatbank5_b_level  5290 non-null   float64       \n",
      " 51  secondary_cleaner.state.floatbank6_a_air    5290 non-null   float64       \n",
      " 52  secondary_cleaner.state.floatbank6_a_level  5290 non-null   float64       \n",
      "dtypes: datetime64[ns](1), float64(52)\n",
      "memory usage: 2.1 MB\n",
      "<class 'pandas.core.frame.DataFrame'>\n",
      "RangeIndex: 19439 entries, 0 to 19438\n",
      "Data columns (total 87 columns):\n",
      " #   Column                                              Non-Null Count  Dtype         \n",
      "---  ------                                              --------------  -----         \n",
      " 0   date                                                19439 non-null  datetime64[ns]\n",
      " 1   final.output.concentrate_ag                         19438 non-null  float64       \n",
      " 2   final.output.concentrate_pb                         19438 non-null  float64       \n",
      " 3   final.output.concentrate_sol                        19228 non-null  float64       \n",
      " 4   final.output.concentrate_au                         19439 non-null  float64       \n",
      " 5   final.output.recovery                               19439 non-null  float64       \n",
      " 6   final.output.tail_ag                                19438 non-null  float64       \n",
      " 7   final.output.tail_pb                                19338 non-null  float64       \n",
      " 8   final.output.tail_sol                               19433 non-null  float64       \n",
      " 9   final.output.tail_au                                19439 non-null  float64       \n",
      " 10  primary_cleaner.input.sulfate                       19415 non-null  float64       \n",
      " 11  primary_cleaner.input.depressant                    19402 non-null  float64       \n",
      " 12  primary_cleaner.input.feed_size                     19439 non-null  float64       \n",
      " 13  primary_cleaner.input.xanthate                      19335 non-null  float64       \n",
      " 14  primary_cleaner.output.concentrate_ag               19439 non-null  float64       \n",
      " 15  primary_cleaner.output.concentrate_pb               19323 non-null  float64       \n",
      " 16  primary_cleaner.output.concentrate_sol              19069 non-null  float64       \n",
      " 17  primary_cleaner.output.concentrate_au               19439 non-null  float64       \n",
      " 18  primary_cleaner.output.tail_ag                      19435 non-null  float64       \n",
      " 19  primary_cleaner.output.tail_pb                      19418 non-null  float64       \n",
      " 20  primary_cleaner.output.tail_sol                     19377 non-null  float64       \n",
      " 21  primary_cleaner.output.tail_au                      19439 non-null  float64       \n",
      " 22  primary_cleaner.state.floatbank8_a_air              19435 non-null  float64       \n",
      " 23  primary_cleaner.state.floatbank8_a_level            19438 non-null  float64       \n",
      " 24  primary_cleaner.state.floatbank8_b_air              19435 non-null  float64       \n",
      " 25  primary_cleaner.state.floatbank8_b_level            19438 non-null  float64       \n",
      " 26  primary_cleaner.state.floatbank8_c_air              19437 non-null  float64       \n",
      " 27  primary_cleaner.state.floatbank8_c_level            19438 non-null  float64       \n",
      " 28  primary_cleaner.state.floatbank8_d_air              19436 non-null  float64       \n",
      " 29  primary_cleaner.state.floatbank8_d_level            19438 non-null  float64       \n",
      " 30  rougher.calculation.sulfate_to_au_concentrate       19437 non-null  float64       \n",
      " 31  rougher.calculation.floatbank10_sulfate_to_au_feed  19437 non-null  float64       \n",
      " 32  rougher.calculation.floatbank11_sulfate_to_au_feed  19437 non-null  float64       \n",
      " 33  rougher.calculation.au_pb_ratio                     19439 non-null  float64       \n",
      " 34  rougher.input.feed_ag                               19439 non-null  float64       \n",
      " 35  rougher.input.feed_pb                               19339 non-null  float64       \n",
      " 36  rougher.input.feed_rate                             19428 non-null  float64       \n",
      " 37  rougher.input.feed_size                             19294 non-null  float64       \n",
      " 38  rougher.input.feed_sol                              19340 non-null  float64       \n",
      " 39  rougher.input.feed_au                               19439 non-null  float64       \n",
      " 40  rougher.input.floatbank10_sulfate                   19405 non-null  float64       \n",
      " 41  rougher.input.floatbank10_xanthate                  19431 non-null  float64       \n",
      " 42  rougher.input.floatbank11_sulfate                   19395 non-null  float64       \n",
      " 43  rougher.input.floatbank11_xanthate                  18986 non-null  float64       \n",
      " 44  rougher.output.concentrate_ag                       19439 non-null  float64       \n",
      " 45  rougher.output.concentrate_pb                       19439 non-null  float64       \n",
      " 46  rougher.output.concentrate_sol                      19416 non-null  float64       \n",
      " 47  rougher.output.concentrate_au                       19439 non-null  float64       \n",
      " 48  rougher.output.recovery                             19439 non-null  float64       \n",
      " 49  rougher.output.tail_ag                              19438 non-null  float64       \n",
      " 50  rougher.output.tail_pb                              19439 non-null  float64       \n",
      " 51  rougher.output.tail_sol                             19439 non-null  float64       \n",
      " 52  rougher.output.tail_au                              19439 non-null  float64       \n",
      " 53  rougher.state.floatbank10_a_air                     19438 non-null  float64       \n",
      " 54  rougher.state.floatbank10_a_level                   19438 non-null  float64       \n",
      " 55  rougher.state.floatbank10_b_air                     19438 non-null  float64       \n",
      " 56  rougher.state.floatbank10_b_level                   19438 non-null  float64       \n",
      " 57  rougher.state.floatbank10_c_air                     19438 non-null  float64       \n",
      " 58  rougher.state.floatbank10_c_level                   19438 non-null  float64       \n",
      " 59  rougher.state.floatbank10_d_air                     19439 non-null  float64       \n",
      " 60  rougher.state.floatbank10_d_level                   19439 non-null  float64       \n",
      " 61  rougher.state.floatbank10_e_air                     19003 non-null  float64       \n",
      " 62  rougher.state.floatbank10_e_level                   19439 non-null  float64       \n",
      " 63  rougher.state.floatbank10_f_air                     19439 non-null  float64       \n",
      " 64  rougher.state.floatbank10_f_level                   19439 non-null  float64       \n",
      " 65  secondary_cleaner.output.tail_ag                    19437 non-null  float64       \n",
      " 66  secondary_cleaner.output.tail_pb                    19427 non-null  float64       \n",
      " 67  secondary_cleaner.output.tail_sol                   17691 non-null  float64       \n",
      " 68  secondary_cleaner.output.tail_au                    19439 non-null  float64       \n",
      " 69  secondary_cleaner.state.floatbank2_a_air            19219 non-null  float64       \n",
      " 70  secondary_cleaner.state.floatbank2_a_level          19438 non-null  float64       \n",
      " 71  secondary_cleaner.state.floatbank2_b_air            19416 non-null  float64       \n",
      " 72  secondary_cleaner.state.floatbank2_b_level          19438 non-null  float64       \n",
      " 73  secondary_cleaner.state.floatbank3_a_air            19426 non-null  float64       \n",
      " 74  secondary_cleaner.state.floatbank3_a_level          19438 non-null  float64       \n",
      " 75  secondary_cleaner.state.floatbank3_b_air            19438 non-null  float64       \n",
      " 76  secondary_cleaner.state.floatbank3_b_level          19438 non-null  float64       \n",
      " 77  secondary_cleaner.state.floatbank4_a_air            19433 non-null  float64       \n",
      " 78  secondary_cleaner.state.floatbank4_a_level          19438 non-null  float64       \n",
      " 79  secondary_cleaner.state.floatbank4_b_air            19438 non-null  float64       \n",
      " 80  secondary_cleaner.state.floatbank4_b_level          19438 non-null  float64       \n",
      " 81  secondary_cleaner.state.floatbank5_a_air            19438 non-null  float64       \n",
      " 82  secondary_cleaner.state.floatbank5_a_level          19438 non-null  float64       \n",
      " 83  secondary_cleaner.state.floatbank5_b_air            19438 non-null  float64       \n",
      " 84  secondary_cleaner.state.floatbank5_b_level          19438 non-null  float64       \n",
      " 85  secondary_cleaner.state.floatbank6_a_air            19437 non-null  float64       \n",
      " 86  secondary_cleaner.state.floatbank6_a_level          19438 non-null  float64       \n",
      "dtypes: datetime64[ns](1), float64(86)\n",
      "memory usage: 12.9 MB\n"
     ]
    }
   ],
   "source": [
    "test['date']= pd.to_datetime(test['date'], format='%Y-%m-%d %H:%M:%S')\n",
    "full['date']= pd.to_datetime(full['date'], format='%Y-%m-%d %H:%M:%S')\n",
    "test.info()\n",
    "full.info()"
   ]
  },
  {
   "cell_type": "markdown",
   "id": "cbffebdc",
   "metadata": {},
   "source": [
    "Добавим 'final.output.recovery' и  'rougher.output.recovery' в тестовую выборку."
   ]
  },
  {
   "cell_type": "code",
   "execution_count": 8,
   "id": "f0753d29",
   "metadata": {},
   "outputs": [
    {
     "name": "stdout",
     "output_type": "stream",
     "text": [
      "<class 'pandas.core.frame.DataFrame'>\n",
      "Int64Index: 5290 entries, 0 to 5289\n",
      "Data columns (total 55 columns):\n",
      " #   Column                                      Non-Null Count  Dtype         \n",
      "---  ------                                      --------------  -----         \n",
      " 0   date                                        5290 non-null   datetime64[ns]\n",
      " 1   primary_cleaner.input.sulfate               5286 non-null   float64       \n",
      " 2   primary_cleaner.input.depressant            5285 non-null   float64       \n",
      " 3   primary_cleaner.input.feed_size             5290 non-null   float64       \n",
      " 4   primary_cleaner.input.xanthate              5286 non-null   float64       \n",
      " 5   primary_cleaner.state.floatbank8_a_air      5290 non-null   float64       \n",
      " 6   primary_cleaner.state.floatbank8_a_level    5290 non-null   float64       \n",
      " 7   primary_cleaner.state.floatbank8_b_air      5290 non-null   float64       \n",
      " 8   primary_cleaner.state.floatbank8_b_level    5290 non-null   float64       \n",
      " 9   primary_cleaner.state.floatbank8_c_air      5290 non-null   float64       \n",
      " 10  primary_cleaner.state.floatbank8_c_level    5290 non-null   float64       \n",
      " 11  primary_cleaner.state.floatbank8_d_air      5290 non-null   float64       \n",
      " 12  primary_cleaner.state.floatbank8_d_level    5290 non-null   float64       \n",
      " 13  rougher.input.feed_ag                       5290 non-null   float64       \n",
      " 14  rougher.input.feed_pb                       5290 non-null   float64       \n",
      " 15  rougher.input.feed_rate                     5287 non-null   float64       \n",
      " 16  rougher.input.feed_size                     5289 non-null   float64       \n",
      " 17  rougher.input.feed_sol                      5269 non-null   float64       \n",
      " 18  rougher.input.feed_au                       5290 non-null   float64       \n",
      " 19  rougher.input.floatbank10_sulfate           5285 non-null   float64       \n",
      " 20  rougher.input.floatbank10_xanthate          5290 non-null   float64       \n",
      " 21  rougher.input.floatbank11_sulfate           5282 non-null   float64       \n",
      " 22  rougher.input.floatbank11_xanthate          5265 non-null   float64       \n",
      " 23  rougher.state.floatbank10_a_air             5290 non-null   float64       \n",
      " 24  rougher.state.floatbank10_a_level           5290 non-null   float64       \n",
      " 25  rougher.state.floatbank10_b_air             5290 non-null   float64       \n",
      " 26  rougher.state.floatbank10_b_level           5290 non-null   float64       \n",
      " 27  rougher.state.floatbank10_c_air             5290 non-null   float64       \n",
      " 28  rougher.state.floatbank10_c_level           5290 non-null   float64       \n",
      " 29  rougher.state.floatbank10_d_air             5290 non-null   float64       \n",
      " 30  rougher.state.floatbank10_d_level           5290 non-null   float64       \n",
      " 31  rougher.state.floatbank10_e_air             5290 non-null   float64       \n",
      " 32  rougher.state.floatbank10_e_level           5290 non-null   float64       \n",
      " 33  rougher.state.floatbank10_f_air             5290 non-null   float64       \n",
      " 34  rougher.state.floatbank10_f_level           5290 non-null   float64       \n",
      " 35  secondary_cleaner.state.floatbank2_a_air    5287 non-null   float64       \n",
      " 36  secondary_cleaner.state.floatbank2_a_level  5290 non-null   float64       \n",
      " 37  secondary_cleaner.state.floatbank2_b_air    5288 non-null   float64       \n",
      " 38  secondary_cleaner.state.floatbank2_b_level  5290 non-null   float64       \n",
      " 39  secondary_cleaner.state.floatbank3_a_air    5281 non-null   float64       \n",
      " 40  secondary_cleaner.state.floatbank3_a_level  5290 non-null   float64       \n",
      " 41  secondary_cleaner.state.floatbank3_b_air    5290 non-null   float64       \n",
      " 42  secondary_cleaner.state.floatbank3_b_level  5290 non-null   float64       \n",
      " 43  secondary_cleaner.state.floatbank4_a_air    5290 non-null   float64       \n",
      " 44  secondary_cleaner.state.floatbank4_a_level  5290 non-null   float64       \n",
      " 45  secondary_cleaner.state.floatbank4_b_air    5290 non-null   float64       \n",
      " 46  secondary_cleaner.state.floatbank4_b_level  5290 non-null   float64       \n",
      " 47  secondary_cleaner.state.floatbank5_a_air    5290 non-null   float64       \n",
      " 48  secondary_cleaner.state.floatbank5_a_level  5290 non-null   float64       \n",
      " 49  secondary_cleaner.state.floatbank5_b_air    5290 non-null   float64       \n",
      " 50  secondary_cleaner.state.floatbank5_b_level  5290 non-null   float64       \n",
      " 51  secondary_cleaner.state.floatbank6_a_air    5290 non-null   float64       \n",
      " 52  secondary_cleaner.state.floatbank6_a_level  5290 non-null   float64       \n",
      " 53  final.output.recovery                       5290 non-null   float64       \n",
      " 54  rougher.output.recovery                     5290 non-null   float64       \n",
      "dtypes: datetime64[ns](1), float64(54)\n",
      "memory usage: 2.3 MB\n"
     ]
    }
   ],
   "source": [
    "recovery_to_add = full[['date','final.output.recovery','rougher.output.recovery']]\n",
    "test = test.merge(recovery_to_add, on='date')\n",
    "test.info()"
   ]
  },
  {
   "cell_type": "markdown",
   "id": "b295b61d",
   "metadata": {},
   "source": [
    "#### Признаки для обучения\n",
    "Согласно выводу в п.1.3 в признаках не должно быть показателей с словами output и calculation."
   ]
  },
  {
   "cell_type": "code",
   "execution_count": 9,
   "id": "2eb900d2",
   "metadata": {},
   "outputs": [],
   "source": [
    "features_list = []\n",
    "for column in train.columns:\n",
    "    if 'output' not in column and 'calculation' not in column:\n",
    "        features_list.append(column)\n",
    "        \n",
    "features_train = train[features_list]\n",
    "target_train = train[['final.output.recovery','rougher.output.recovery']]"
   ]
  },
  {
   "cell_type": "markdown",
   "id": "c42da810",
   "metadata": {},
   "source": [
    "Удалим нулевые целевые признаки"
   ]
  },
  {
   "cell_type": "code",
   "execution_count": 10,
   "id": "4f1aaad0",
   "metadata": {},
   "outputs": [
    {
     "data": {
      "text/plain": [
       "(18949, 2)"
      ]
     },
     "execution_count": 10,
     "metadata": {},
     "output_type": "execute_result"
    }
   ],
   "source": [
    "target_train = target_train[target_train['final.output.recovery'] !=0]\n",
    "target_train = target_train[target_train['rougher.output.recovery'] !=0]\n",
    "target_train.shape"
   ]
  },
  {
   "cell_type": "markdown",
   "id": "cd2b1e89",
   "metadata": {},
   "source": [
    "Удалим соответствующие нулевым целевым признакам, признаки для обучения"
   ]
  },
  {
   "cell_type": "code",
   "execution_count": 11,
   "id": "d8489e69",
   "metadata": {},
   "outputs": [
    {
     "data": {
      "text/plain": [
       "(18949, 53)"
      ]
     },
     "execution_count": 11,
     "metadata": {},
     "output_type": "execute_result"
    }
   ],
   "source": [
    "features_train = features_train.iloc[target_train.index]\n",
    "features_train.shape"
   ]
  },
  {
   "cell_type": "markdown",
   "id": "b81fdf32",
   "metadata": {},
   "source": [
    "##### Анализ взаимосвязей признаков"
   ]
  },
  {
   "cell_type": "markdown",
   "id": "db5a611d",
   "metadata": {},
   "source": [
    "Сделаем функцию, которая принимает матрицу корреляции и значение порога коэффициента корреляции, и возвращающую признаки с корреляцией выше порога."
   ]
  },
  {
   "cell_type": "code",
   "execution_count": 12,
   "id": "cf4c4df7",
   "metadata": {
    "scrolled": true
   },
   "outputs": [
    {
     "data": {
      "text/plain": [
       "[Series([], Name: primary_cleaner.input.sulfate, dtype: float64),\n",
       " Series([], Name: primary_cleaner.input.depressant, dtype: float64),\n",
       " Series([], Name: primary_cleaner.input.feed_size, dtype: float64),\n",
       " Series([], Name: primary_cleaner.input.xanthate, dtype: float64),\n",
       " primary_cleaner.state.floatbank8_b_air    0.953457\n",
       " primary_cleaner.state.floatbank8_c_air    0.915580\n",
       " Name: primary_cleaner.state.floatbank8_a_air, dtype: float64,\n",
       " primary_cleaner.state.floatbank8_b_level    0.866530\n",
       " primary_cleaner.state.floatbank8_c_level    0.942141\n",
       " Name: primary_cleaner.state.floatbank8_a_level, dtype: float64,\n",
       " primary_cleaner.state.floatbank8_a_air    0.953457\n",
       " primary_cleaner.state.floatbank8_c_air    0.925092\n",
       " Name: primary_cleaner.state.floatbank8_b_air, dtype: float64,\n",
       " primary_cleaner.state.floatbank8_a_level    0.86653\n",
       " Name: primary_cleaner.state.floatbank8_b_level, dtype: float64,\n",
       " primary_cleaner.state.floatbank8_a_air    0.915580\n",
       " primary_cleaner.state.floatbank8_b_air    0.925092\n",
       " Name: primary_cleaner.state.floatbank8_c_air, dtype: float64,\n",
       " primary_cleaner.state.floatbank8_a_level    0.942141\n",
       " Name: primary_cleaner.state.floatbank8_c_level, dtype: float64,\n",
       " Series([], Name: primary_cleaner.state.floatbank8_d_air, dtype: float64),\n",
       " Series([], Name: primary_cleaner.state.floatbank8_d_level, dtype: float64),\n",
       " Series([], Name: rougher.input.feed_ag, dtype: float64),\n",
       " Series([], Name: rougher.input.feed_pb, dtype: float64),\n",
       " Series([], Name: rougher.input.feed_rate, dtype: float64),\n",
       " Series([], Name: rougher.input.feed_size, dtype: float64),\n",
       " Series([], Name: rougher.input.feed_sol, dtype: float64),\n",
       " Series([], Name: rougher.input.feed_au, dtype: float64),\n",
       " Series([], Name: rougher.input.floatbank10_sulfate, dtype: float64),\n",
       " rougher.input.floatbank11_xanthate    0.928381\n",
       " Name: rougher.input.floatbank10_xanthate, dtype: float64,\n",
       " Series([], Name: rougher.input.floatbank11_sulfate, dtype: float64),\n",
       " rougher.input.floatbank10_xanthate    0.928381\n",
       " Name: rougher.input.floatbank11_xanthate, dtype: float64,\n",
       " Series([], Name: rougher.state.floatbank10_a_air, dtype: float64),\n",
       " Series([], Name: rougher.state.floatbank10_a_level, dtype: float64),\n",
       " rougher.state.floatbank10_c_air    0.940332\n",
       " rougher.state.floatbank10_d_air    0.927551\n",
       " Name: rougher.state.floatbank10_b_air, dtype: float64,\n",
       " rougher.state.floatbank10_c_level    0.987942\n",
       " rougher.state.floatbank10_d_level    0.970652\n",
       " rougher.state.floatbank10_e_level    0.950953\n",
       " rougher.state.floatbank10_f_level    0.944424\n",
       " Name: rougher.state.floatbank10_b_level, dtype: float64,\n",
       " rougher.state.floatbank10_b_air    0.940332\n",
       " rougher.state.floatbank10_d_air    0.918749\n",
       " Name: rougher.state.floatbank10_c_air, dtype: float64,\n",
       " rougher.state.floatbank10_b_level    0.987942\n",
       " rougher.state.floatbank10_d_level    0.980894\n",
       " rougher.state.floatbank10_e_level    0.961737\n",
       " rougher.state.floatbank10_f_level    0.951636\n",
       " Name: rougher.state.floatbank10_c_level, dtype: float64,\n",
       " rougher.state.floatbank10_b_air    0.927551\n",
       " rougher.state.floatbank10_c_air    0.918749\n",
       " rougher.state.floatbank10_e_air    0.866027\n",
       " Name: rougher.state.floatbank10_d_air, dtype: float64,\n",
       " rougher.state.floatbank10_b_level    0.970652\n",
       " rougher.state.floatbank10_c_level    0.980894\n",
       " rougher.state.floatbank10_e_level    0.948829\n",
       " rougher.state.floatbank10_f_level    0.948034\n",
       " Name: rougher.state.floatbank10_d_level, dtype: float64,\n",
       " rougher.state.floatbank10_d_air    0.866027\n",
       " rougher.state.floatbank10_f_air    0.938277\n",
       " Name: rougher.state.floatbank10_e_air, dtype: float64,\n",
       " rougher.state.floatbank10_b_level    0.950953\n",
       " rougher.state.floatbank10_c_level    0.961737\n",
       " rougher.state.floatbank10_d_level    0.948829\n",
       " rougher.state.floatbank10_f_level    0.980935\n",
       " Name: rougher.state.floatbank10_e_level, dtype: float64,\n",
       " rougher.state.floatbank10_e_air    0.938277\n",
       " Name: rougher.state.floatbank10_f_air, dtype: float64,\n",
       " rougher.state.floatbank10_b_level    0.944424\n",
       " rougher.state.floatbank10_c_level    0.951636\n",
       " rougher.state.floatbank10_d_level    0.948034\n",
       " rougher.state.floatbank10_e_level    0.980935\n",
       " Name: rougher.state.floatbank10_f_level, dtype: float64,\n",
       " secondary_cleaner.state.floatbank2_b_air    0.882664\n",
       " Name: secondary_cleaner.state.floatbank2_a_air, dtype: float64,\n",
       " secondary_cleaner.state.floatbank2_b_level    0.902871\n",
       " Name: secondary_cleaner.state.floatbank2_a_level, dtype: float64,\n",
       " secondary_cleaner.state.floatbank2_a_air    0.882664\n",
       " Name: secondary_cleaner.state.floatbank2_b_air, dtype: float64,\n",
       " secondary_cleaner.state.floatbank2_a_level    0.902871\n",
       " Name: secondary_cleaner.state.floatbank2_b_level, dtype: float64,\n",
       " Series([], Name: secondary_cleaner.state.floatbank3_a_air, dtype: float64),\n",
       " Series([], Name: secondary_cleaner.state.floatbank3_a_level, dtype: float64),\n",
       " Series([], Name: secondary_cleaner.state.floatbank3_b_air, dtype: float64),\n",
       " Series([], Name: secondary_cleaner.state.floatbank3_b_level, dtype: float64),\n",
       " Series([], Name: secondary_cleaner.state.floatbank4_a_air, dtype: float64),\n",
       " Series([], Name: secondary_cleaner.state.floatbank4_a_level, dtype: float64),\n",
       " secondary_cleaner.state.floatbank5_b_air    0.856617\n",
       " Name: secondary_cleaner.state.floatbank4_b_air, dtype: float64,\n",
       " Series([], Name: secondary_cleaner.state.floatbank4_b_level, dtype: float64),\n",
       " secondary_cleaner.state.floatbank5_b_air    0.894947\n",
       " Name: secondary_cleaner.state.floatbank5_a_air, dtype: float64,\n",
       " Series([], Name: secondary_cleaner.state.floatbank5_a_level, dtype: float64),\n",
       " secondary_cleaner.state.floatbank4_b_air    0.856617\n",
       " secondary_cleaner.state.floatbank5_a_air    0.894947\n",
       " Name: secondary_cleaner.state.floatbank5_b_air, dtype: float64,\n",
       " Series([], Name: secondary_cleaner.state.floatbank5_b_level, dtype: float64),\n",
       " Series([], Name: secondary_cleaner.state.floatbank6_a_air, dtype: float64),\n",
       " Series([], Name: secondary_cleaner.state.floatbank6_a_level, dtype: float64)]"
      ]
     },
     "metadata": {},
     "output_type": "display_data"
    }
   ],
   "source": [
    "def high_corr (corr_matrix, corr_rate):\n",
    "    high_corr_list = []\n",
    "    for column in corr_matrix.columns:\n",
    "        high_corr_list.append(corr_matrix.loc[(corr_matrix.loc[:,column]> abs(corr_rate)) & (corr_matrix.loc[:,column]< abs(1))][column])\n",
    "    display (high_corr_list)\n",
    "\n",
    "high_corr(features_train.corr(), 0.85)"
   ]
  },
  {
   "cell_type": "markdown",
   "id": "ec4e53d3",
   "metadata": {},
   "source": [
    "Исключим признаки с корреляцией больше 0,85 из features_train"
   ]
  },
  {
   "cell_type": "code",
   "execution_count": 13,
   "id": "e1fc523d",
   "metadata": {},
   "outputs": [
    {
     "data": {
      "text/plain": [
       "18"
      ]
     },
     "metadata": {},
     "output_type": "display_data"
    }
   ],
   "source": [
    "to_drop = ['primary_cleaner.state.floatbank8_b_air', 'primary_cleaner.state.floatbank8_c_air',\n",
    "           'primary_cleaner.state.floatbank8_b_level','primary_cleaner.state.floatbank8_c_level',\n",
    "          'rougher.input.feed_ag',\n",
    "          'rougher.input.floatbank11_sulfate', 'rougher.input.floatbank11_xanthate',\n",
    "           'rougher.state.floatbank10_c_air', 'rougher.state.floatbank10_d_air', 'rougher.state.floatbank10_f_air',\n",
    "           'rougher.state.floatbank10_c_level', 'rougher.state.floatbank10_d_level', 'rougher.state.floatbank10_e_level', 'rougher.state.floatbank10_f_level',\n",
    "           'secondary_cleaner.state.floatbank2_b_air', 'secondary_cleaner.state.floatbank4_b_air', 'secondary_cleaner.state.floatbank5_b_air',\n",
    "           'secondary_cleaner.state.floatbank2_b_level'\n",
    "          ]\n",
    "display(len(to_drop))\n",
    "features_train = features_train.drop(to_drop, axis=1)"
   ]
  },
  {
   "cell_type": "markdown",
   "id": "6555f22b",
   "metadata": {},
   "source": [
    "Проверим, что не осталось признаков с корреляцией больше 0,85"
   ]
  },
  {
   "cell_type": "code",
   "execution_count": 14,
   "id": "7fa0d03b",
   "metadata": {},
   "outputs": [
    {
     "data": {
      "text/plain": [
       "[Series([], Name: primary_cleaner.input.sulfate, dtype: float64),\n",
       " Series([], Name: primary_cleaner.input.depressant, dtype: float64),\n",
       " Series([], Name: primary_cleaner.input.feed_size, dtype: float64),\n",
       " Series([], Name: primary_cleaner.input.xanthate, dtype: float64),\n",
       " Series([], Name: primary_cleaner.state.floatbank8_a_air, dtype: float64),\n",
       " Series([], Name: primary_cleaner.state.floatbank8_a_level, dtype: float64),\n",
       " Series([], Name: primary_cleaner.state.floatbank8_d_air, dtype: float64),\n",
       " Series([], Name: primary_cleaner.state.floatbank8_d_level, dtype: float64),\n",
       " Series([], Name: rougher.input.feed_pb, dtype: float64),\n",
       " Series([], Name: rougher.input.feed_rate, dtype: float64),\n",
       " Series([], Name: rougher.input.feed_size, dtype: float64),\n",
       " Series([], Name: rougher.input.feed_sol, dtype: float64),\n",
       " Series([], Name: rougher.input.feed_au, dtype: float64),\n",
       " Series([], Name: rougher.input.floatbank10_sulfate, dtype: float64),\n",
       " Series([], Name: rougher.input.floatbank10_xanthate, dtype: float64),\n",
       " Series([], Name: rougher.state.floatbank10_a_air, dtype: float64),\n",
       " Series([], Name: rougher.state.floatbank10_a_level, dtype: float64),\n",
       " Series([], Name: rougher.state.floatbank10_b_air, dtype: float64),\n",
       " Series([], Name: rougher.state.floatbank10_b_level, dtype: float64),\n",
       " Series([], Name: rougher.state.floatbank10_e_air, dtype: float64),\n",
       " Series([], Name: secondary_cleaner.state.floatbank2_a_air, dtype: float64),\n",
       " Series([], Name: secondary_cleaner.state.floatbank2_a_level, dtype: float64),\n",
       " Series([], Name: secondary_cleaner.state.floatbank3_a_air, dtype: float64),\n",
       " Series([], Name: secondary_cleaner.state.floatbank3_a_level, dtype: float64),\n",
       " Series([], Name: secondary_cleaner.state.floatbank3_b_air, dtype: float64),\n",
       " Series([], Name: secondary_cleaner.state.floatbank3_b_level, dtype: float64),\n",
       " Series([], Name: secondary_cleaner.state.floatbank4_a_air, dtype: float64),\n",
       " Series([], Name: secondary_cleaner.state.floatbank4_a_level, dtype: float64),\n",
       " Series([], Name: secondary_cleaner.state.floatbank4_b_level, dtype: float64),\n",
       " Series([], Name: secondary_cleaner.state.floatbank5_a_air, dtype: float64),\n",
       " Series([], Name: secondary_cleaner.state.floatbank5_a_level, dtype: float64),\n",
       " Series([], Name: secondary_cleaner.state.floatbank5_b_level, dtype: float64),\n",
       " Series([], Name: secondary_cleaner.state.floatbank6_a_air, dtype: float64),\n",
       " Series([], Name: secondary_cleaner.state.floatbank6_a_level, dtype: float64)]"
      ]
     },
     "metadata": {},
     "output_type": "display_data"
    }
   ],
   "source": [
    "high_corr(features_train.corr(), 0.85)"
   ]
  },
  {
   "cell_type": "markdown",
   "id": "9d21f73d",
   "metadata": {},
   "source": [
    "Список пустых списков: признаков с корреляцией больше 0,85 в обучающей выборке нет."
   ]
  },
  {
   "cell_type": "markdown",
   "id": "5ef39d00",
   "metadata": {},
   "source": [
    "##### Заполнение пропусков"
   ]
  },
  {
   "cell_type": "markdown",
   "id": "a44852fc",
   "metadata": {},
   "source": [
    "Посмотрим на пропуски в features_train."
   ]
  },
  {
   "cell_type": "code",
   "execution_count": 15,
   "id": "fad7492b",
   "metadata": {},
   "outputs": [
    {
     "name": "stdout",
     "output_type": "stream",
     "text": [
      "<class 'pandas.core.frame.DataFrame'>\n",
      "Int64Index: 18949 entries, 0 to 19438\n",
      "Data columns (total 35 columns):\n",
      " #   Column                                      Non-Null Count  Dtype  \n",
      "---  ------                                      --------------  -----  \n",
      " 0   date                                        18949 non-null  object \n",
      " 1   primary_cleaner.input.sulfate               18929 non-null  float64\n",
      " 2   primary_cleaner.input.depressant            18921 non-null  float64\n",
      " 3   primary_cleaner.input.feed_size             18949 non-null  float64\n",
      " 4   primary_cleaner.input.xanthate              18852 non-null  float64\n",
      " 5   primary_cleaner.state.floatbank8_a_air      18945 non-null  float64\n",
      " 6   primary_cleaner.state.floatbank8_a_level    18948 non-null  float64\n",
      " 7   primary_cleaner.state.floatbank8_d_air      18946 non-null  float64\n",
      " 8   primary_cleaner.state.floatbank8_d_level    18948 non-null  float64\n",
      " 9   rougher.input.feed_pb                       18849 non-null  float64\n",
      " 10  rougher.input.feed_rate                     18938 non-null  float64\n",
      " 11  rougher.input.feed_size                     18809 non-null  float64\n",
      " 12  rougher.input.feed_sol                      18854 non-null  float64\n",
      " 13  rougher.input.feed_au                       18949 non-null  float64\n",
      " 14  rougher.input.floatbank10_sulfate           18916 non-null  float64\n",
      " 15  rougher.input.floatbank10_xanthate          18941 non-null  float64\n",
      " 16  rougher.state.floatbank10_a_air             18948 non-null  float64\n",
      " 17  rougher.state.floatbank10_a_level           18948 non-null  float64\n",
      " 18  rougher.state.floatbank10_b_air             18948 non-null  float64\n",
      " 19  rougher.state.floatbank10_b_level           18948 non-null  float64\n",
      " 20  rougher.state.floatbank10_e_air             18576 non-null  float64\n",
      " 21  secondary_cleaner.state.floatbank2_a_air    18733 non-null  float64\n",
      " 22  secondary_cleaner.state.floatbank2_a_level  18948 non-null  float64\n",
      " 23  secondary_cleaner.state.floatbank3_a_air    18937 non-null  float64\n",
      " 24  secondary_cleaner.state.floatbank3_a_level  18948 non-null  float64\n",
      " 25  secondary_cleaner.state.floatbank3_b_air    18948 non-null  float64\n",
      " 26  secondary_cleaner.state.floatbank3_b_level  18948 non-null  float64\n",
      " 27  secondary_cleaner.state.floatbank4_a_air    18945 non-null  float64\n",
      " 28  secondary_cleaner.state.floatbank4_a_level  18948 non-null  float64\n",
      " 29  secondary_cleaner.state.floatbank4_b_level  18948 non-null  float64\n",
      " 30  secondary_cleaner.state.floatbank5_a_air    18948 non-null  float64\n",
      " 31  secondary_cleaner.state.floatbank5_a_level  18948 non-null  float64\n",
      " 32  secondary_cleaner.state.floatbank5_b_level  18948 non-null  float64\n",
      " 33  secondary_cleaner.state.floatbank6_a_air    18948 non-null  float64\n",
      " 34  secondary_cleaner.state.floatbank6_a_level  18948 non-null  float64\n",
      "dtypes: float64(34), object(1)\n",
      "memory usage: 5.2+ MB\n"
     ]
    }
   ],
   "source": [
    "features_train.info()"
   ]
  },
  {
   "cell_type": "markdown",
   "id": "9bfa76b9",
   "metadata": {},
   "source": [
    "Так как соседние по времени параметры часто похожи, заполненим пропуски ранее наблюдавшимися значениями."
   ]
  },
  {
   "cell_type": "code",
   "execution_count": 16,
   "id": "e2065027",
   "metadata": {},
   "outputs": [
    {
     "name": "stdout",
     "output_type": "stream",
     "text": [
      "<class 'pandas.core.frame.DataFrame'>\n",
      "Int64Index: 18949 entries, 0 to 19438\n",
      "Data columns (total 35 columns):\n",
      " #   Column                                      Non-Null Count  Dtype  \n",
      "---  ------                                      --------------  -----  \n",
      " 0   date                                        18949 non-null  object \n",
      " 1   primary_cleaner.input.sulfate               18949 non-null  float64\n",
      " 2   primary_cleaner.input.depressant            18949 non-null  float64\n",
      " 3   primary_cleaner.input.feed_size             18949 non-null  float64\n",
      " 4   primary_cleaner.input.xanthate              18949 non-null  float64\n",
      " 5   primary_cleaner.state.floatbank8_a_air      18949 non-null  float64\n",
      " 6   primary_cleaner.state.floatbank8_a_level    18949 non-null  float64\n",
      " 7   primary_cleaner.state.floatbank8_d_air      18949 non-null  float64\n",
      " 8   primary_cleaner.state.floatbank8_d_level    18949 non-null  float64\n",
      " 9   rougher.input.feed_pb                       18949 non-null  float64\n",
      " 10  rougher.input.feed_rate                     18949 non-null  float64\n",
      " 11  rougher.input.feed_size                     18949 non-null  float64\n",
      " 12  rougher.input.feed_sol                      18949 non-null  float64\n",
      " 13  rougher.input.feed_au                       18949 non-null  float64\n",
      " 14  rougher.input.floatbank10_sulfate           18949 non-null  float64\n",
      " 15  rougher.input.floatbank10_xanthate          18949 non-null  float64\n",
      " 16  rougher.state.floatbank10_a_air             18949 non-null  float64\n",
      " 17  rougher.state.floatbank10_a_level           18949 non-null  float64\n",
      " 18  rougher.state.floatbank10_b_air             18949 non-null  float64\n",
      " 19  rougher.state.floatbank10_b_level           18949 non-null  float64\n",
      " 20  rougher.state.floatbank10_e_air             18949 non-null  float64\n",
      " 21  secondary_cleaner.state.floatbank2_a_air    18949 non-null  float64\n",
      " 22  secondary_cleaner.state.floatbank2_a_level  18949 non-null  float64\n",
      " 23  secondary_cleaner.state.floatbank3_a_air    18949 non-null  float64\n",
      " 24  secondary_cleaner.state.floatbank3_a_level  18949 non-null  float64\n",
      " 25  secondary_cleaner.state.floatbank3_b_air    18949 non-null  float64\n",
      " 26  secondary_cleaner.state.floatbank3_b_level  18949 non-null  float64\n",
      " 27  secondary_cleaner.state.floatbank4_a_air    18949 non-null  float64\n",
      " 28  secondary_cleaner.state.floatbank4_a_level  18949 non-null  float64\n",
      " 29  secondary_cleaner.state.floatbank4_b_level  18949 non-null  float64\n",
      " 30  secondary_cleaner.state.floatbank5_a_air    18949 non-null  float64\n",
      " 31  secondary_cleaner.state.floatbank5_a_level  18949 non-null  float64\n",
      " 32  secondary_cleaner.state.floatbank5_b_level  18949 non-null  float64\n",
      " 33  secondary_cleaner.state.floatbank6_a_air    18949 non-null  float64\n",
      " 34  secondary_cleaner.state.floatbank6_a_level  18949 non-null  float64\n",
      "dtypes: float64(34), object(1)\n",
      "memory usage: 5.2+ MB\n"
     ]
    }
   ],
   "source": [
    "features_train.ffill(axis = 0,inplace=True)\n",
    "features_train.info()"
   ]
  },
  {
   "cell_type": "markdown",
   "id": "3f6c2daa",
   "metadata": {},
   "source": [
    "#### Признаки для тестирования"
   ]
  },
  {
   "cell_type": "code",
   "execution_count": 17,
   "id": "dffd6f8c",
   "metadata": {},
   "outputs": [
    {
     "name": "stdout",
     "output_type": "stream",
     "text": [
      "<class 'pandas.core.frame.DataFrame'>\n",
      "Int64Index: 5290 entries, 0 to 5289\n",
      "Data columns (total 53 columns):\n",
      " #   Column                                      Non-Null Count  Dtype         \n",
      "---  ------                                      --------------  -----         \n",
      " 0   date                                        5290 non-null   datetime64[ns]\n",
      " 1   primary_cleaner.input.sulfate               5286 non-null   float64       \n",
      " 2   primary_cleaner.input.depressant            5285 non-null   float64       \n",
      " 3   primary_cleaner.input.feed_size             5290 non-null   float64       \n",
      " 4   primary_cleaner.input.xanthate              5286 non-null   float64       \n",
      " 5   primary_cleaner.state.floatbank8_a_air      5290 non-null   float64       \n",
      " 6   primary_cleaner.state.floatbank8_a_level    5290 non-null   float64       \n",
      " 7   primary_cleaner.state.floatbank8_b_air      5290 non-null   float64       \n",
      " 8   primary_cleaner.state.floatbank8_b_level    5290 non-null   float64       \n",
      " 9   primary_cleaner.state.floatbank8_c_air      5290 non-null   float64       \n",
      " 10  primary_cleaner.state.floatbank8_c_level    5290 non-null   float64       \n",
      " 11  primary_cleaner.state.floatbank8_d_air      5290 non-null   float64       \n",
      " 12  primary_cleaner.state.floatbank8_d_level    5290 non-null   float64       \n",
      " 13  rougher.input.feed_ag                       5290 non-null   float64       \n",
      " 14  rougher.input.feed_pb                       5290 non-null   float64       \n",
      " 15  rougher.input.feed_rate                     5287 non-null   float64       \n",
      " 16  rougher.input.feed_size                     5289 non-null   float64       \n",
      " 17  rougher.input.feed_sol                      5269 non-null   float64       \n",
      " 18  rougher.input.feed_au                       5290 non-null   float64       \n",
      " 19  rougher.input.floatbank10_sulfate           5285 non-null   float64       \n",
      " 20  rougher.input.floatbank10_xanthate          5290 non-null   float64       \n",
      " 21  rougher.input.floatbank11_sulfate           5282 non-null   float64       \n",
      " 22  rougher.input.floatbank11_xanthate          5265 non-null   float64       \n",
      " 23  rougher.state.floatbank10_a_air             5290 non-null   float64       \n",
      " 24  rougher.state.floatbank10_a_level           5290 non-null   float64       \n",
      " 25  rougher.state.floatbank10_b_air             5290 non-null   float64       \n",
      " 26  rougher.state.floatbank10_b_level           5290 non-null   float64       \n",
      " 27  rougher.state.floatbank10_c_air             5290 non-null   float64       \n",
      " 28  rougher.state.floatbank10_c_level           5290 non-null   float64       \n",
      " 29  rougher.state.floatbank10_d_air             5290 non-null   float64       \n",
      " 30  rougher.state.floatbank10_d_level           5290 non-null   float64       \n",
      " 31  rougher.state.floatbank10_e_air             5290 non-null   float64       \n",
      " 32  rougher.state.floatbank10_e_level           5290 non-null   float64       \n",
      " 33  rougher.state.floatbank10_f_air             5290 non-null   float64       \n",
      " 34  rougher.state.floatbank10_f_level           5290 non-null   float64       \n",
      " 35  secondary_cleaner.state.floatbank2_a_air    5287 non-null   float64       \n",
      " 36  secondary_cleaner.state.floatbank2_a_level  5290 non-null   float64       \n",
      " 37  secondary_cleaner.state.floatbank2_b_air    5288 non-null   float64       \n",
      " 38  secondary_cleaner.state.floatbank2_b_level  5290 non-null   float64       \n",
      " 39  secondary_cleaner.state.floatbank3_a_air    5281 non-null   float64       \n",
      " 40  secondary_cleaner.state.floatbank3_a_level  5290 non-null   float64       \n",
      " 41  secondary_cleaner.state.floatbank3_b_air    5290 non-null   float64       \n",
      " 42  secondary_cleaner.state.floatbank3_b_level  5290 non-null   float64       \n",
      " 43  secondary_cleaner.state.floatbank4_a_air    5290 non-null   float64       \n",
      " 44  secondary_cleaner.state.floatbank4_a_level  5290 non-null   float64       \n",
      " 45  secondary_cleaner.state.floatbank4_b_air    5290 non-null   float64       \n",
      " 46  secondary_cleaner.state.floatbank4_b_level  5290 non-null   float64       \n",
      " 47  secondary_cleaner.state.floatbank5_a_air    5290 non-null   float64       \n",
      " 48  secondary_cleaner.state.floatbank5_a_level  5290 non-null   float64       \n",
      " 49  secondary_cleaner.state.floatbank5_b_air    5290 non-null   float64       \n",
      " 50  secondary_cleaner.state.floatbank5_b_level  5290 non-null   float64       \n",
      " 51  secondary_cleaner.state.floatbank6_a_air    5290 non-null   float64       \n",
      " 52  secondary_cleaner.state.floatbank6_a_level  5290 non-null   float64       \n",
      "dtypes: datetime64[ns](1), float64(52)\n",
      "memory usage: 2.2 MB\n"
     ]
    }
   ],
   "source": [
    "features_test = test.drop(columns=['final.output.recovery', 'rougher.output.recovery'], axis=1)\n",
    "features_test.info()"
   ]
  },
  {
   "cell_type": "markdown",
   "id": "6aee89ea",
   "metadata": {},
   "source": [
    "Заполненим пропуски ранее наблюдавшимися значениями."
   ]
  },
  {
   "cell_type": "code",
   "execution_count": 18,
   "id": "edf1b8c5",
   "metadata": {},
   "outputs": [
    {
     "name": "stdout",
     "output_type": "stream",
     "text": [
      "<class 'pandas.core.frame.DataFrame'>\n",
      "Int64Index: 5290 entries, 0 to 5289\n",
      "Data columns (total 53 columns):\n",
      " #   Column                                      Non-Null Count  Dtype         \n",
      "---  ------                                      --------------  -----         \n",
      " 0   date                                        5290 non-null   datetime64[ns]\n",
      " 1   primary_cleaner.input.sulfate               5290 non-null   float64       \n",
      " 2   primary_cleaner.input.depressant            5290 non-null   float64       \n",
      " 3   primary_cleaner.input.feed_size             5290 non-null   float64       \n",
      " 4   primary_cleaner.input.xanthate              5290 non-null   float64       \n",
      " 5   primary_cleaner.state.floatbank8_a_air      5290 non-null   float64       \n",
      " 6   primary_cleaner.state.floatbank8_a_level    5290 non-null   float64       \n",
      " 7   primary_cleaner.state.floatbank8_b_air      5290 non-null   float64       \n",
      " 8   primary_cleaner.state.floatbank8_b_level    5290 non-null   float64       \n",
      " 9   primary_cleaner.state.floatbank8_c_air      5290 non-null   float64       \n",
      " 10  primary_cleaner.state.floatbank8_c_level    5290 non-null   float64       \n",
      " 11  primary_cleaner.state.floatbank8_d_air      5290 non-null   float64       \n",
      " 12  primary_cleaner.state.floatbank8_d_level    5290 non-null   float64       \n",
      " 13  rougher.input.feed_ag                       5290 non-null   float64       \n",
      " 14  rougher.input.feed_pb                       5290 non-null   float64       \n",
      " 15  rougher.input.feed_rate                     5290 non-null   float64       \n",
      " 16  rougher.input.feed_size                     5290 non-null   float64       \n",
      " 17  rougher.input.feed_sol                      5290 non-null   float64       \n",
      " 18  rougher.input.feed_au                       5290 non-null   float64       \n",
      " 19  rougher.input.floatbank10_sulfate           5290 non-null   float64       \n",
      " 20  rougher.input.floatbank10_xanthate          5290 non-null   float64       \n",
      " 21  rougher.input.floatbank11_sulfate           5290 non-null   float64       \n",
      " 22  rougher.input.floatbank11_xanthate          5290 non-null   float64       \n",
      " 23  rougher.state.floatbank10_a_air             5290 non-null   float64       \n",
      " 24  rougher.state.floatbank10_a_level           5290 non-null   float64       \n",
      " 25  rougher.state.floatbank10_b_air             5290 non-null   float64       \n",
      " 26  rougher.state.floatbank10_b_level           5290 non-null   float64       \n",
      " 27  rougher.state.floatbank10_c_air             5290 non-null   float64       \n",
      " 28  rougher.state.floatbank10_c_level           5290 non-null   float64       \n",
      " 29  rougher.state.floatbank10_d_air             5290 non-null   float64       \n",
      " 30  rougher.state.floatbank10_d_level           5290 non-null   float64       \n",
      " 31  rougher.state.floatbank10_e_air             5290 non-null   float64       \n",
      " 32  rougher.state.floatbank10_e_level           5290 non-null   float64       \n",
      " 33  rougher.state.floatbank10_f_air             5290 non-null   float64       \n",
      " 34  rougher.state.floatbank10_f_level           5290 non-null   float64       \n",
      " 35  secondary_cleaner.state.floatbank2_a_air    5290 non-null   float64       \n",
      " 36  secondary_cleaner.state.floatbank2_a_level  5290 non-null   float64       \n",
      " 37  secondary_cleaner.state.floatbank2_b_air    5290 non-null   float64       \n",
      " 38  secondary_cleaner.state.floatbank2_b_level  5290 non-null   float64       \n",
      " 39  secondary_cleaner.state.floatbank3_a_air    5290 non-null   float64       \n",
      " 40  secondary_cleaner.state.floatbank3_a_level  5290 non-null   float64       \n",
      " 41  secondary_cleaner.state.floatbank3_b_air    5290 non-null   float64       \n",
      " 42  secondary_cleaner.state.floatbank3_b_level  5290 non-null   float64       \n",
      " 43  secondary_cleaner.state.floatbank4_a_air    5290 non-null   float64       \n",
      " 44  secondary_cleaner.state.floatbank4_a_level  5290 non-null   float64       \n",
      " 45  secondary_cleaner.state.floatbank4_b_air    5290 non-null   float64       \n",
      " 46  secondary_cleaner.state.floatbank4_b_level  5290 non-null   float64       \n",
      " 47  secondary_cleaner.state.floatbank5_a_air    5290 non-null   float64       \n",
      " 48  secondary_cleaner.state.floatbank5_a_level  5290 non-null   float64       \n",
      " 49  secondary_cleaner.state.floatbank5_b_air    5290 non-null   float64       \n",
      " 50  secondary_cleaner.state.floatbank5_b_level  5290 non-null   float64       \n",
      " 51  secondary_cleaner.state.floatbank6_a_air    5290 non-null   float64       \n",
      " 52  secondary_cleaner.state.floatbank6_a_level  5290 non-null   float64       \n",
      "dtypes: datetime64[ns](1), float64(52)\n",
      "memory usage: 2.2 MB\n"
     ]
    }
   ],
   "source": [
    "features_test.ffill(axis = 0,inplace=True)\n",
    "features_test.info()"
   ]
  },
  {
   "cell_type": "markdown",
   "id": "8ba1d09a",
   "metadata": {},
   "source": [
    "Проверим, что набор признаков для обучения совпадает с набором признаков для тестирования"
   ]
  },
  {
   "cell_type": "code",
   "execution_count": 19,
   "id": "01b0479a",
   "metadata": {},
   "outputs": [
    {
     "data": {
      "text/plain": [
       "[]"
      ]
     },
     "execution_count": 19,
     "metadata": {},
     "output_type": "execute_result"
    }
   ],
   "source": [
    "# найдем столбцы в features_train, которых нет в features_test\n",
    "absent_columns = []\n",
    "\n",
    "for column in features_train.columns:\n",
    "    if column not in features_test.columns:\n",
    "        absent_columns.append(column)\n",
    "absent_columns"
   ]
  },
  {
   "cell_type": "code",
   "execution_count": 20,
   "id": "59407a65",
   "metadata": {},
   "outputs": [
    {
     "data": {
      "text/plain": [
       "['primary_cleaner.state.floatbank8_b_air',\n",
       " 'primary_cleaner.state.floatbank8_b_level',\n",
       " 'primary_cleaner.state.floatbank8_c_air',\n",
       " 'primary_cleaner.state.floatbank8_c_level',\n",
       " 'rougher.input.feed_ag',\n",
       " 'rougher.input.floatbank11_sulfate',\n",
       " 'rougher.input.floatbank11_xanthate',\n",
       " 'rougher.state.floatbank10_c_air',\n",
       " 'rougher.state.floatbank10_c_level',\n",
       " 'rougher.state.floatbank10_d_air',\n",
       " 'rougher.state.floatbank10_d_level',\n",
       " 'rougher.state.floatbank10_e_level',\n",
       " 'rougher.state.floatbank10_f_air',\n",
       " 'rougher.state.floatbank10_f_level',\n",
       " 'secondary_cleaner.state.floatbank2_b_air',\n",
       " 'secondary_cleaner.state.floatbank2_b_level',\n",
       " 'secondary_cleaner.state.floatbank4_b_air',\n",
       " 'secondary_cleaner.state.floatbank5_b_air']"
      ]
     },
     "execution_count": 20,
     "metadata": {},
     "output_type": "execute_result"
    }
   ],
   "source": [
    "# найдем столбцы в features_test, которых нет в features_train\n",
    "absent_columns = []\n",
    "\n",
    "for column in features_test.columns:\n",
    "    if column not in features_train.columns:\n",
    "        absent_columns.append(column)\n",
    "absent_columns"
   ]
  },
  {
   "cell_type": "markdown",
   "id": "ff58a9dc",
   "metadata": {},
   "source": [
    "Удалим \"лишние\" признаки из тестового набора признаков"
   ]
  },
  {
   "cell_type": "code",
   "execution_count": 21,
   "id": "e033e150",
   "metadata": {},
   "outputs": [
    {
     "data": {
      "text/plain": [
       "(5290, 35)"
      ]
     },
     "execution_count": 21,
     "metadata": {},
     "output_type": "execute_result"
    }
   ],
   "source": [
    "features_test = features_test.drop(columns=absent_columns, axis=1)\n",
    "features_test.shape"
   ]
  },
  {
   "cell_type": "markdown",
   "id": "0e5a0dce",
   "metadata": {},
   "source": [
    "Вывод: В тестовых признаках есть признаки, для которых зафиксирована высокая корреляция в обучающем наборе.\n",
    "Эти признаки не будут использованы моделью, оставим их в тестовой выборке."
   ]
  },
  {
   "cell_type": "markdown",
   "id": "4294283c",
   "metadata": {},
   "source": [
    "### Анализ данных"
   ]
  },
  {
   "cell_type": "markdown",
   "id": "19fcce5e",
   "metadata": {},
   "source": [
    "#### Концентрация металлов (Au, Ag, Pb) на различных этапах очистки."
   ]
  },
  {
   "cell_type": "code",
   "execution_count": 22,
   "id": "82d553a0",
   "metadata": {},
   "outputs": [
    {
     "name": "stdout",
     "output_type": "stream",
     "text": [
      "ag: pb: au: sol:\n",
      "8.794927425814688 3.598084975395463 8.266097326589103 36.695114365904274\n",
      "11.994759359873429 7.606272313195003 19.772000139486316 28.805570735676206\n",
      "8.44240807771906 9.829529774200518 32.1194004078765\n",
      "5.168470373676801 9.978894911181722 44.0765129419528\n"
     ]
    }
   ],
   "source": [
    "print('ag:','pb:', 'au:', 'sol:')\n",
    "\n",
    "input_ag = full['rougher.input.feed_ag'].mean()\n",
    "input_pb = full['rougher.input.feed_pb'].mean()\n",
    "input_au = full['rougher.input.feed_au'].mean()\n",
    "input_sol = full['rougher.input.feed_sol'].mean()\n",
    "print( input_ag,  input_pb, input_au, input_sol)\n",
    "\n",
    "rougher_concentrate_ag = full['rougher.output.concentrate_ag'].mean()\n",
    "rougher_concentrate_pb = full['rougher.output.concentrate_pb'].mean()\n",
    "rougher_concentrate_au = full['rougher.output.concentrate_au'].mean()\n",
    "rougher_concentrate_sol = full['rougher.output.concentrate_sol'].mean()\n",
    "print( rougher_concentrate_ag,  rougher_concentrate_pb, rougher_concentrate_au, rougher_concentrate_sol)\n",
    "\n",
    "primary_cleaner_concentrate_ag = full['primary_cleaner.output.concentrate_ag'].mean()\n",
    "primary_cleaner_concentrate_pb = full['primary_cleaner.output.concentrate_pb'].mean()\n",
    "primary_cleaner_concentrate_au = full['primary_cleaner.output.concentrate_au'].mean()\n",
    "print( primary_cleaner_concentrate_ag, primary_cleaner_concentrate_pb, primary_cleaner_concentrate_au)\n",
    "\n",
    "final_concentrate_ag = full['final.output.concentrate_ag'].mean()\n",
    "final_concentrate_pb = full['final.output.concentrate_pb'].mean()\n",
    "final_concentrate_au = full['final.output.concentrate_au'].mean()\n",
    "print( final_concentrate_ag, final_concentrate_pb, final_concentrate_au)"
   ]
  },
  {
   "cell_type": "markdown",
   "id": "5d264f30",
   "metadata": {},
   "source": [
    "С каждой стадией очистки растет доля золота, незначительно растет доля свинца и снижается доля серебра"
   ]
  },
  {
   "cell_type": "code",
   "execution_count": 23,
   "id": "56c83abd",
   "metadata": {},
   "outputs": [
    {
     "name": "stdout",
     "output_type": "stream",
     "text": [
      "5.588982001922016 0.6457823595518426 1.816391267460359\n",
      "16.145825860528003 3.4356562759055933 3.9141788557795305\n",
      "14.586832967264986 5.7777032878735115 4.339624592493953\n",
      "9.688588602547483 2.705795398146629 3.0424669750207456\n"
     ]
    }
   ],
   "source": [
    "rougher_tail_ag = full['rougher.output.tail_ag'].mean()\n",
    "rougher_tail_pb = full['rougher.output.tail_pb'].mean()\n",
    "rougher_tail_au = full['rougher.output.tail_au'].mean()\n",
    "print(rougher_tail_ag, rougher_tail_pb, rougher_tail_au)\n",
    "\n",
    "primary_cleaner_tail_ag = full['primary_cleaner.output.tail_ag'].mean()\n",
    "primary_cleaner_tail_pb = full['primary_cleaner.output.tail_pb'].mean()\n",
    "primary_cleaner_tail_au = full['primary_cleaner.output.tail_au'].mean()\n",
    "print(primary_cleaner_tail_ag, primary_cleaner_tail_pb, primary_cleaner_tail_au)\n",
    "\n",
    "secondary_cleaner_tail_ag = full['secondary_cleaner.output.tail_ag'].mean()\n",
    "secondary_cleaner_tail_pb = full['secondary_cleaner.output.tail_pb'].mean()\n",
    "secondary_cleaner_tail_au = full['secondary_cleaner.output.tail_au'].mean()\n",
    "print(secondary_cleaner_tail_ag, secondary_cleaner_tail_pb, secondary_cleaner_tail_au)\n",
    "\n",
    "final_tail_ag = full['final.output.tail_ag'].mean()\n",
    "final_tail_pb = full['final.output.tail_pb'].mean()\n",
    "final_tail_au = full['final.output.tail_au'].mean()\n",
    "print(final_tail_ag, final_tail_pb, final_tail_au)"
   ]
  },
  {
   "cell_type": "markdown",
   "id": "ddeff408",
   "metadata": {},
   "source": [
    "Доля металлов в хвостах ожидаемо существенно ниже, чем в концентрате особенно для целевого продукта. В хвостах доля металлов растет до этапа secondary_cleaner, снижаясь ни последнем этапе. Только концентрация серебра изменяется по-другому на 2 и 3 этапах: концентрация в secondary_cleaner ниже, чем в primary_cleaner."
   ]
  },
  {
   "cell_type": "markdown",
   "id": "85fa2ef7",
   "metadata": {},
   "source": [
    "#### Сравнение распределения размеров гранул сырья на обучающей и тестовой выборках"
   ]
  },
  {
   "cell_type": "code",
   "execution_count": 24,
   "id": "c87a5970",
   "metadata": {},
   "outputs": [
    {
     "data": {
      "image/png": "[encoded data removed]",
      "text/plain": [
       "<Figure size 432x288 with 1 Axes>"
      ]
     },
     "metadata": {
      "needs_background": "light"
     },
     "output_type": "display_data"
    },
    {
     "data": {
      "text/plain": [
       "count    19294.000000\n",
       "mean        58.970310\n",
       "std         21.634478\n",
       "min          0.046369\n",
       "25%         47.435103\n",
       "50%         54.610197\n",
       "75%         65.023044\n",
       "max        484.967466\n",
       "Name: rougher.input.feed_size, dtype: float64"
      ]
     },
     "metadata": {},
     "output_type": "display_data"
    },
    {
     "data": {
      "image/png": "[encoded data removed]",
      "text/plain": [
       "<Figure size 432x288 with 1 Axes>"
      ]
     },
     "metadata": {
      "needs_background": "light"
     },
     "output_type": "display_data"
    },
    {
     "data": {
      "text/plain": [
       "count    5289.000000\n",
       "mean       55.951097\n",
       "std        19.081758\n",
       "min         0.046369\n",
       "25%        43.906347\n",
       "50%        50.841029\n",
       "75%        62.431047\n",
       "max       392.494040\n",
       "Name: rougher.input.feed_size, dtype: float64"
      ]
     },
     "metadata": {},
     "output_type": "display_data"
    }
   ],
   "source": [
    "train['rougher.input.feed_size'].hist(bins=200, range=(20, 100))\n",
    "plt.show()\n",
    "display(train['rougher.input.feed_size'].describe())\n",
    "\n",
    "test['rougher.input.feed_size'].hist(bins=200, range=(20, 100))\n",
    "plt.show()\n",
    "display(test['rougher.input.feed_size'].describe())"
   ]
  },
  {
   "cell_type": "markdown",
   "id": "a547f4d3",
   "metadata": {},
   "source": [
    "Размер гранул в обучающей выборке в среднем больше, чем в тестовой (59 против 56). Дисперсия тоже выше. Распределение тестовой выборки имеет 2 пика, обучающая выборка более равномерна."
   ]
  },
  {
   "cell_type": "markdown",
   "id": "8f0da238",
   "metadata": {},
   "source": [
    "#### Исключение выбросов данных\n",
    "Уберем крайние значения в признаке 'rougher.input.feed_size' из признаков для обучения и соответствующие им целевые признаки"
   ]
  },
  {
   "cell_type": "code",
   "execution_count": 25,
   "id": "9006edf0",
   "metadata": {},
   "outputs": [
    {
     "data": {
      "text/plain": [
       "count    16836.000000\n",
       "mean        55.456000\n",
       "std          9.892774\n",
       "min         40.000617\n",
       "25%         47.425783\n",
       "50%         53.836574\n",
       "75%         61.580698\n",
       "max         79.996255\n",
       "Name: rougher.input.feed_size, dtype: float64"
      ]
     },
     "metadata": {},
     "output_type": "display_data"
    },
    {
     "name": "stdout",
     "output_type": "stream",
     "text": [
      "(16836, 35)\n"
     ]
    }
   ],
   "source": [
    "features_train = features_train[features_train['rougher.input.feed_size'] > 40]\n",
    "features_train = features_train[features_train['rougher.input.feed_size'] < 80]\n",
    "display(features_train['rougher.input.feed_size'].describe())\n",
    "print(features_train.shape)"
   ]
  },
  {
   "cell_type": "code",
   "execution_count": 26,
   "id": "fc060481",
   "metadata": {},
   "outputs": [
    {
     "data": {
      "text/plain": [
       "(16836, 2)"
      ]
     },
     "execution_count": 26,
     "metadata": {},
     "output_type": "execute_result"
    }
   ],
   "source": [
    "target_train= train[['rougher.output.recovery','final.output.recovery']]\n",
    "target_train= target_train.iloc[features_train.index]\n",
    "target_train.shape"
   ]
  },
  {
   "cell_type": "markdown",
   "id": "9d3dfaa7",
   "metadata": {},
   "source": []
  },
  {
   "cell_type": "markdown",
   "id": "5651139d",
   "metadata": {},
   "source": []
  },
  {
   "cell_type": "markdown",
   "id": "0a431fe8",
   "metadata": {},
   "source": [
    "####  Суммарная концентрация всех веществ на разных стадиях"
   ]
  },
  {
   "cell_type": "code",
   "execution_count": 27,
   "id": "df275eca",
   "metadata": {},
   "outputs": [
    {
     "name": "stdout",
     "output_type": "stream",
     "text": [
      "rougher: primary_cleaner: final_concentrate:\n",
      "39.37303181255475 50.39133825979607 59.22387822681132\n"
     ]
    }
   ],
   "source": [
    "print('rougher:','primary_cleaner:', 'final_concentrate:')\n",
    "rougher_concentrate_me = rougher_concentrate_ag + rougher_concentrate_pb + rougher_concentrate_au\n",
    "primary_cleaner_concentrate_me = primary_cleaner_concentrate_ag + primary_cleaner_concentrate_pb + primary_cleaner_concentrate_au\n",
    "final_concentrate_me = final_concentrate_ag + final_concentrate_pb + final_concentrate_au\n",
    "print(rougher_concentrate_me,  primary_cleaner_concentrate_me, final_concentrate_me)"
   ]
  },
  {
   "cell_type": "markdown",
   "id": "47e57861",
   "metadata": {},
   "source": [
    "С каждым этапом очистки доля металлов растет."
   ]
  },
  {
   "cell_type": "markdown",
   "id": "5a9ee360",
   "metadata": {},
   "source": [
    "#### Удаление нулевых значений с содержанием вещества"
   ]
  },
  {
   "cell_type": "code",
   "execution_count": 28,
   "id": "64b7c811",
   "metadata": {},
   "outputs": [
    {
     "name": "stdout",
     "output_type": "stream",
     "text": [
      "нулевые input (0, 91)\n",
      "нулевые rougher_output (394, 91)\n",
      "нулевые primary_output (108, 91)\n",
      "нулевые output (98, 91)\n",
      "full (19439, 91)\n",
      "full (18848, 91)\n"
     ]
    }
   ],
   "source": [
    "full['input'] =  full['rougher.input.feed_ag']+full['rougher.input.feed_pb'] +full['rougher.input.feed_au']+ full['rougher.input.feed_sol']\n",
    "full['rougher_output'] =  full['rougher.output.concentrate_ag']+full['rougher.output.concentrate_pb'] +full['rougher.output.concentrate_au']+ full['rougher.output.concentrate_sol']\n",
    "full['primary_output'] =  full['primary_cleaner.output.concentrate_ag']+full['primary_cleaner.output.concentrate_pb'] +full['primary_cleaner.output.concentrate_au']+ full['primary_cleaner.output.concentrate_sol']\n",
    "full['output'] =  full['final.output.concentrate_ag']+full['final.output.concentrate_pb'] +full['final.output.concentrate_au']+ full['final.output.concentrate_sol']\n",
    "print('нулевые input',full[full['input'] ==0].shape)\n",
    "print('нулевые rougher_output', full[full['rougher_output'] ==0].shape)\n",
    "print('нулевые primary_output',full[full['primary_output'] ==0].shape)\n",
    "print('нулевые output',full[full['output'] ==0].shape)\n",
    "print('full',full.shape)\n",
    "full = full.drop(full[full['input'] == 0].index)\n",
    "full = full.drop(full[full['rougher_output'] == 0].index)\n",
    "full = full.drop(full[full['primary_output'] == 0].index)\n",
    "full = full.drop(full[full['output'] == 0].index)\n",
    "print('full',full.shape)"
   ]
  },
  {
   "cell_type": "markdown",
   "id": "70062070",
   "metadata": {},
   "source": [
    "## Модель"
   ]
  },
  {
   "cell_type": "markdown",
   "id": "d7e839da",
   "metadata": {},
   "source": [
    "### признаки для обучения и тестирования. \n",
    "Cначала переведем столбец с датой в индекс, чтобы остались только признаки для обучения / тестирования"
   ]
  },
  {
   "cell_type": "code",
   "execution_count": 29,
   "id": "f32ff8c1",
   "metadata": {},
   "outputs": [],
   "source": [
    "features_train.set_index(features_train['date'], drop=True, inplace=True)\n",
    "features_test.set_index(features_test['date'], drop=True, inplace=True)\n",
    "features_train = features_train.drop(columns=['date'])\n",
    "features_test = features_test.drop(columns=['date'])"
   ]
  },
  {
   "cell_type": "code",
   "execution_count": 30,
   "id": "e2255557",
   "metadata": {},
   "outputs": [
    {
     "name": "stdout",
     "output_type": "stream",
     "text": [
      "(16836, 34) (5290, 34)\n"
     ]
    }
   ],
   "source": [
    "scaler = StandardScaler()\n",
    "scaler.fit(features_train)\n",
    "features_train_scaled = scaler.transform(features_train)\n",
    "scaler.fit(features_test)\n",
    "features_test_scaled = scaler.transform(features_test)\n",
    "\n",
    "# Признаки в обучающей выборке\n",
    "features_train = pd.DataFrame(features_train_scaled, index=features_train.index, columns=features_train.columns)\n",
    "# Признаки в тестовой выборке\n",
    "features_test = pd.DataFrame(features_test_scaled, index=features_test.index, columns=features_test.columns)\n",
    "print(features_train.shape,features_test.shape)"
   ]
  },
  {
   "cell_type": "markdown",
   "id": "1ab64a2f",
   "metadata": {},
   "source": [
    "### Целевые признаки"
   ]
  },
  {
   "cell_type": "code",
   "execution_count": 31,
   "id": "f9b67c68",
   "metadata": {},
   "outputs": [
    {
     "name": "stdout",
     "output_type": "stream",
     "text": [
      "(16836,) (16836,)\n",
      "(5290,) (5290,)\n"
     ]
    }
   ],
   "source": [
    "# Целевые признаки в обучающей выборке\n",
    "target_rougher_train = target_train['rougher.output.recovery']\n",
    "target_final_train = target_train['final.output.recovery']\n",
    "# Целевые признаки в тестовой выборке\n",
    "target_rougher_test = test['rougher.output.recovery']\n",
    "target_final_test = test['final.output.recovery']\n",
    "print(target_rougher_train.shape,target_final_train.shape)\n",
    "print(target_rougher_test.shape,target_final_test.shape)"
   ]
  },
  {
   "cell_type": "markdown",
   "id": "d0ecc0fd",
   "metadata": {},
   "source": [
    "### Функция для вычисления sMAPE"
   ]
  },
  {
   "cell_type": "code",
   "execution_count": 32,
   "id": "e5232ea7",
   "metadata": {},
   "outputs": [],
   "source": [
    "target = []\n",
    "forecast = []\n",
    "def smape(target, forecast):\n",
    "    return abs(1/len(target) * np.sum(2 * np.abs(forecast-target) / (np.abs(target) + np.abs(forecast))*100))\n",
    "smape_scorer = make_scorer(smape)"
   ]
  },
  {
   "cell_type": "markdown",
   "id": "cfbc1052",
   "metadata": {},
   "source": [
    "### Модель регрессии"
   ]
  },
  {
   "cell_type": "markdown",
   "id": "f1224f1d",
   "metadata": {},
   "source": [
    "#### sMAPE для rougher_recovery"
   ]
  },
  {
   "cell_type": "code",
   "execution_count": 33,
   "id": "05e227cf",
   "metadata": {},
   "outputs": [
    {
     "name": "stdout",
     "output_type": "stream",
     "text": [
      "CPU times: user 1.63 s, sys: 1.55 s, total: 3.18 s\n",
      "Wall time: 3.19 s\n"
     ]
    },
    {
     "data": {
      "text/plain": [
       "5.38008090233056"
      ]
     },
     "execution_count": 33,
     "metadata": {},
     "output_type": "execute_result"
    }
   ],
   "source": [
    "%%time\n",
    "warnings.filterwarnings(\"ignore\")\n",
    "\n",
    "model_LR_rougher = LinearRegression()\n",
    "model_LR_rougher.fit(features_train, target_rougher_train)\n",
    "predictions = model_LR_rougher.predict(features_train)\n",
    "smape_rougher =abs(cross_val_score(model_LR_rougher, features_train, target_rougher_train, scoring = smape_scorer, cv=10).mean())\n",
    "smape_rougher"
   ]
  },
  {
   "cell_type": "markdown",
   "id": "8a9764af",
   "metadata": {},
   "source": [
    "#### sMAPE для final_recovery"
   ]
  },
  {
   "cell_type": "code",
   "execution_count": 34,
   "id": "c7174d66",
   "metadata": {},
   "outputs": [
    {
     "name": "stdout",
     "output_type": "stream",
     "text": [
      "CPU times: user 1.22 s, sys: 1.51 s, total: 2.73 s\n",
      "Wall time: 2.79 s\n"
     ]
    },
    {
     "data": {
      "text/plain": [
       "9.005445226845467"
      ]
     },
     "execution_count": 34,
     "metadata": {},
     "output_type": "execute_result"
    }
   ],
   "source": [
    "%%time\n",
    "warnings.filterwarnings(\"ignore\")\n",
    "\n",
    "model_LR_final = LinearRegression()\n",
    "model_LR_final.fit(features_train, target_final_train)\n",
    "predictions = model_LR_final.predict(features_train)\n",
    "smape_final =abs(cross_val_score(model_LR_final, features_train, target_final_train, scoring = smape_scorer, cv=10).mean())\n",
    "smape_final"
   ]
  },
  {
   "cell_type": "markdown",
   "id": "a389298e",
   "metadata": {},
   "source": [
    "#### Итоговый sMAPE"
   ]
  },
  {
   "cell_type": "code",
   "execution_count": 35,
   "id": "fccd1fac",
   "metadata": {},
   "outputs": [
    {
     "data": {
      "text/plain": [
       "8.09910414571674"
      ]
     },
     "execution_count": 35,
     "metadata": {},
     "output_type": "execute_result"
    }
   ],
   "source": [
    "0.25 * smape_rougher + 0.75 * smape_final"
   ]
  },
  {
   "cell_type": "markdown",
   "id": "8d8ae853",
   "metadata": {},
   "source": [
    "### Модель для решающего дерева"
   ]
  },
  {
   "cell_type": "markdown",
   "id": "926eb568",
   "metadata": {},
   "source": [
    "#### Функция решающего дерева\n",
    "Ищет лучшие гиперпараметры для метрики sMAPE"
   ]
  },
  {
   "cell_type": "code",
   "execution_count": 36,
   "id": "aa9fbf81",
   "metadata": {},
   "outputs": [],
   "source": [
    "def DecisionTreeRegressor_smape(target_train):\n",
    "    best_model_TR = None\n",
    "    best_result = 10000\n",
    "    best_depth = 0\n",
    "    for depth in range(1, 10):\n",
    "        model = DecisionTreeRegressor(random_state=12345, max_depth=depth)\n",
    "        model.fit(features_train, target_train) \n",
    "        predictions = model.predict(features_train) \n",
    "        smape =abs(cross_val_score(model, features_train, target_train, scoring = smape_scorer, cv=10).mean())\n",
    "        if smape < best_result:\n",
    "            best_model_TR = model\n",
    "            best_result = smape\n",
    "            best_depth = depth\n",
    "    return  print(\"Лучший sMAPE:\", best_result, \"Глубина дерева:\", best_depth), best_result, best_model_TR"
   ]
  },
  {
   "cell_type": "markdown",
   "id": "1043c7e8",
   "metadata": {},
   "source": [
    "#### sMAPE для rougher_recovery"
   ]
  },
  {
   "cell_type": "code",
   "execution_count": 37,
   "id": "89d302e5",
   "metadata": {},
   "outputs": [
    {
     "name": "stdout",
     "output_type": "stream",
     "text": [
      "Лучший sMAPE: 6.140522727770808 Глубина дерева: 2\n",
      "CPU times: user 29.1 s, sys: 0 ns, total: 29.1 s\n",
      "Wall time: 29.3 s\n"
     ]
    }
   ],
   "source": [
    "%%time\n",
    "smape_rougher = DecisionTreeRegressor_smape(target_rougher_train)"
   ]
  },
  {
   "cell_type": "markdown",
   "id": "8512a789",
   "metadata": {},
   "source": [
    "#### sMAPE для final_recovery"
   ]
  },
  {
   "cell_type": "code",
   "execution_count": 38,
   "id": "12e1b129",
   "metadata": {},
   "outputs": [
    {
     "name": "stdout",
     "output_type": "stream",
     "text": [
      "Лучший sMAPE: 9.063877442909495 Глубина дерева: 1\n",
      "CPU times: user 30.8 s, sys: 0 ns, total: 30.8 s\n",
      "Wall time: 31.7 s\n"
     ]
    }
   ],
   "source": [
    "%%time\n",
    "smape_final = DecisionTreeRegressor_smape(target_final_train)"
   ]
  },
  {
   "cell_type": "markdown",
   "id": "231eda61",
   "metadata": {},
   "source": [
    "#### Итоговый sMAPE"
   ]
  },
  {
   "cell_type": "code",
   "execution_count": 39,
   "id": "5b8523ed",
   "metadata": {},
   "outputs": [
    {
     "data": {
      "text/plain": [
       "8.333038764124824"
      ]
     },
     "execution_count": 39,
     "metadata": {},
     "output_type": "execute_result"
    }
   ],
   "source": [
    "0.25 * smape_rougher[1] + 0.75 * smape_final[1]"
   ]
  },
  {
   "cell_type": "markdown",
   "id": "1052590b",
   "metadata": {},
   "source": [
    "### Модель для случайного леса"
   ]
  },
  {
   "cell_type": "markdown",
   "id": "2cc997d9",
   "metadata": {},
   "source": [
    "#### Функция случайного леса\n",
    "Ищет лучшие гиперпараметры для метрики sMAPE"
   ]
  },
  {
   "cell_type": "code",
   "execution_count": 40,
   "id": "7e614ede",
   "metadata": {},
   "outputs": [],
   "source": [
    "def RandomForestRegressor_smape(target_train):\n",
    "    best_model_FR = None\n",
    "    best_result = 10000\n",
    "    best_est = 0\n",
    "    best_depth = 0\n",
    "    for est in range(1, 10):\n",
    "        for depth in range (2,5):\n",
    "            model = RandomForestRegressor(random_state=12345, n_estimators=est, max_depth=depth)\n",
    "            model.fit(features_train, target_train) \n",
    "            predictions = model.predict(features_train)  \n",
    "            smape =abs(cross_val_score(model, features_train, target_train, scoring = smape_scorer, cv=10).mean())\n",
    "            if smape < best_result:\n",
    "                best_model_FR = model\n",
    "                best_result = smape\n",
    "                best_est = est\n",
    "                best_depth = depth\n",
    "    return  print(\"Лучший sMAPE:\", best_result, \"Количество деревьев:\", best_est, \"Глубина дерева:\", best_depth), best_result, best_model_FR "
   ]
  },
  {
   "cell_type": "markdown",
   "id": "4a8a5a3c",
   "metadata": {},
   "source": [
    "#### sMAPE для rougher_recovery"
   ]
  },
  {
   "cell_type": "code",
   "execution_count": 41,
   "id": "4f239420",
   "metadata": {},
   "outputs": [
    {
     "name": "stdout",
     "output_type": "stream",
     "text": [
      "Лучший sMAPE: 5.849196879544666 Количество деревьев: 6 Глубина дерева: 4\n",
      "CPU times: user 2min 56s, sys: 2.13 ms, total: 2min 56s\n",
      "Wall time: 3min\n"
     ]
    }
   ],
   "source": [
    "%%time\n",
    "smape_rougher_FR = RandomForestRegressor_smape(target_rougher_train)"
   ]
  },
  {
   "cell_type": "markdown",
   "id": "d0078df5",
   "metadata": {},
   "source": [
    "#### sMAPE для final_recovery"
   ]
  },
  {
   "cell_type": "code",
   "execution_count": 42,
   "id": "2d2172f7",
   "metadata": {},
   "outputs": [
    {
     "name": "stdout",
     "output_type": "stream",
     "text": [
      "Лучший sMAPE: 8.846692618395359 Количество деревьев: 7 Глубина дерева: 4\n",
      "CPU times: user 3min 2s, sys: 130 ms, total: 3min 2s\n",
      "Wall time: 3min 5s\n"
     ]
    }
   ],
   "source": [
    "%%time\n",
    "smape_final_FR = RandomForestRegressor_smape(target_final_train)"
   ]
  },
  {
   "cell_type": "markdown",
   "id": "e8bc716e",
   "metadata": {},
   "source": [
    "#### Итоговый sMAPE"
   ]
  },
  {
   "cell_type": "code",
   "execution_count": 43,
   "id": "62b038d4",
   "metadata": {},
   "outputs": [
    {
     "data": {
      "text/plain": [
       "8.097318683682685"
      ]
     },
     "execution_count": 43,
     "metadata": {},
     "output_type": "execute_result"
    }
   ],
   "source": [
    "0.25 * smape_rougher_FR[1] + 0.75 * smape_final_FR[1]"
   ]
  },
  {
   "cell_type": "markdown",
   "id": "610327d5",
   "metadata": {},
   "source": [
    "### Dummy-модель"
   ]
  },
  {
   "cell_type": "code",
   "execution_count": 44,
   "id": "36889155",
   "metadata": {},
   "outputs": [
    {
     "name": "stdout",
     "output_type": "stream",
     "text": [
      "smape_rougher_dummy 8.80184105272387\n",
      "smape_final_dummy 9.839071744038938\n",
      "9.579764071210171\n"
     ]
    }
   ],
   "source": [
    "dummy_results = []\n",
    "dc = DummyRegressor(strategy = 'mean')\n",
    "dc.fit(features_train, target_rougher_train)\n",
    "predictions = dc.predict(features_test)\n",
    "smape_rougher_dummy =smape(target_rougher_test,predictions)\n",
    "print('smape_rougher_dummy', smape_rougher_dummy)\n",
    "\n",
    "dc.fit(features_train, target_final_train)\n",
    "predictions = dc.predict(features_test)\n",
    "smape_final_dummy =smape(target_final_test,predictions)\n",
    "print('smape_final_dummy', smape_final_dummy)\n",
    "print(0.25 * smape_rougher_dummy + 0.75 * smape_final_dummy)"
   ]
  },
  {
   "cell_type": "markdown",
   "id": "af56e65f",
   "metadata": {},
   "source": [
    "### Выбор лучшей модели. Тестирование"
   ]
  },
  {
   "cell_type": "markdown",
   "id": "67863455",
   "metadata": {},
   "source": [
    "Лучший результат - 8,1 у моделей линейной регресии и случайного леса с параметрами для rougher_recovery: Количество деревьев: 6 Глубина дерева: 4; для final_recovery: Количество деревьев: 7 Глубина дерева: 4; Результат - 8,1 лучше, чем у модели, построенной на среднем значении - 9,58. Т.е. на данный момент модели линейной регресии и случайного леса выглядят полезнее, чем прогнозирование эффективности обогащения на основе средних фактических значений rougher_recovery и final_recovery. Протестируем эти модели."
   ]
  },
  {
   "cell_type": "code",
   "execution_count": 45,
   "id": "f942bfc7",
   "metadata": {},
   "outputs": [
    {
     "name": "stdout",
     "output_type": "stream",
     "text": [
      "smape_rougher: 10.077907495457662 smape_final: 10.983691654023328 10.757245614381912\n"
     ]
    }
   ],
   "source": [
    "model = smape_rougher_FR[2]\n",
    "predictions = model.predict(features_test)  \n",
    "smape_rougher =abs(cross_val_score(model, features_test, target_rougher_test, scoring = smape_scorer, cv=10).mean())\n",
    "\n",
    "model = smape_final_FR[2]\n",
    "predictions = model.predict(features_test)  \n",
    "smape_final =abs(cross_val_score(model, features_test, target_final_test, scoring = smape_scorer, cv=10).mean())\n",
    "\n",
    "print ('smape_rougher:', smape_rougher, 'smape_final:', smape_final, 0.25 * smape_rougher + 0.75 * smape_final)"
   ]
  },
  {
   "cell_type": "markdown",
   "id": "f71f0c74",
   "metadata": {},
   "source": [
    "Модель леса показала результат хуже Dummy-модели, возможно, модель переучилась. Протестируем модель линейной регрессии, которая не склонна к переобучению."
   ]
  },
  {
   "cell_type": "code",
   "execution_count": 46,
   "id": "004544ce",
   "metadata": {},
   "outputs": [
    {
     "data": {
      "text/plain": [
       "11.717830384192052"
      ]
     },
     "execution_count": 46,
     "metadata": {},
     "output_type": "execute_result"
    }
   ],
   "source": [
    "predictions = model_LR_rougher.predict(features_test)\n",
    "smape_rougher =abs(cross_val_score(model_LR_rougher, features_test, target_rougher_test, scoring = smape_scorer, cv=10).mean())\n",
    "smape_rougher\n",
    "\n",
    "predictions = model_LR_final.predict(features_train)\n",
    "smape_final =abs(cross_val_score(model_LR_final, features_test, target_rougher_test, scoring = smape_scorer, cv=10).mean())\n",
    "smape_final\n",
    "0.25 * smape_rougher + 0.75 * smape_final"
   ]
  },
  {
   "cell_type": "markdown",
   "id": "a93847fe",
   "metadata": {},
   "source": [
    "Модель линейной регрессии на тесте также оказалась хуже Dummy-модели. Из чего делаем вывод, что лучше считать среднее значение для каждого показателя rougher_recovery и final_recovery."
   ]
  },
  {
   "cell_type": "markdown",
   "id": "2106aad4",
   "metadata": {},
   "source": [
    "## Вывод"
   ]
  },
  {
   "cell_type": "markdown",
   "id": "91965d63",
   "metadata": {},
   "source": [
    "1) Провели подготовку признаков:  \n",
    "-проверили корректность расчета показателя эффективности обогащения;\n",
    "-выявили коллинеарные признаки и исключили их;\n",
    "-удалили наблюдения, у которых целевые признаки равны нулю;\n",
    "-удалили выбросы;\n",
    "-заполнили пропуски.\n",
    "\n",
    "2) Проанализировали данные:\n",
    "- проанализировали динамику концентрации металлов (Au, Ag, Pb) на различных этапах очистки:с каждой стадией очистки растет доля золота, незначительно растет доля свинца и снижается доля серебра;\n",
    "- сравнили распределения размеров гранул сырья на обучающей и тестовой выборках: размер гранул в обучающей выборке в среднем больше, чем в тестовой (59 против 56). Дисперсия тоже выше. Распределение тестовой выборки имеет 2 пика, обучающая выборка более равномерна.\n",
    "- проанализировали суммарную концентрацию всех веществ на разных стадиях: с каждым этапом очистки доля металлов растет.\n",
    "\n",
    "3) Выбрали наилучшие модели прогнозирования показателей эффективности обогащения на этапах флотации и финальной очистки с точки зрения показателя \"симметричное среднее абсолютное процентное отклонение\".  \n",
    "4) Пришли к выводу, что наилучшим способом прогнозирования эффективности обогащения будет прогнозирование на основе расчета среднего значения для каждого показателя rougher_recovery и final_recovery на основе фактических данных."
   ]
  }
 ],
 "metadata": {
  "ExecuteTimeLog": [
   {
    "duration": 4237,
    "start_time": "2022-04-03T13:04:36.515Z"
   },
   {
    "duration": 146,
    "start_time": "2022-04-03T13:04:40.754Z"
   },
   {
    "duration": 0,
    "start_time": "2022-04-03T13:04:40.901Z"
   },
   {
    "duration": 1293,
    "start_time": "2022-04-03T13:05:21.575Z"
   },
   {
    "duration": 4,
    "start_time": "2022-04-03T13:05:23.868Z"
   },
   {
    "duration": 49,
    "start_time": "2022-04-03T13:05:24.630Z"
   },
   {
    "duration": 10,
    "start_time": "2022-04-03T13:06:08.668Z"
   },
   {
    "duration": 6,
    "start_time": "2022-04-03T13:06:28.261Z"
   },
   {
    "duration": 30,
    "start_time": "2022-04-03T13:06:57.958Z"
   },
   {
    "duration": 17,
    "start_time": "2022-04-03T13:07:00.451Z"
   },
   {
    "duration": 21,
    "start_time": "2022-04-03T13:07:37.519Z"
   },
   {
    "duration": 21,
    "start_time": "2022-04-03T13:07:45.514Z"
   },
   {
    "duration": 6,
    "start_time": "2022-04-03T13:07:47.006Z"
   },
   {
    "duration": 10,
    "start_time": "2022-04-03T13:07:48.389Z"
   },
   {
    "duration": 164,
    "start_time": "2022-04-03T13:09:26.401Z"
   },
   {
    "duration": 7,
    "start_time": "2022-04-03T13:09:27.903Z"
   },
   {
    "duration": 79,
    "start_time": "2022-04-03T13:12:07.298Z"
   },
   {
    "duration": 13,
    "start_time": "2022-04-03T13:12:14.056Z"
   },
   {
    "duration": 16,
    "start_time": "2022-04-03T13:12:20.554Z"
   },
   {
    "duration": 15,
    "start_time": "2022-04-03T13:12:45.935Z"
   },
   {
    "duration": 14,
    "start_time": "2022-04-03T13:12:55.328Z"
   },
   {
    "duration": 4,
    "start_time": "2022-04-03T13:13:12.926Z"
   },
   {
    "duration": 4,
    "start_time": "2022-04-03T13:13:13.489Z"
   },
   {
    "duration": 5,
    "start_time": "2022-04-03T13:13:15.272Z"
   },
   {
    "duration": 9,
    "start_time": "2022-04-03T13:14:01.814Z"
   },
   {
    "duration": 10,
    "start_time": "2022-04-03T13:14:02.881Z"
   },
   {
    "duration": 824,
    "start_time": "2022-04-03T13:15:10.189Z"
   },
   {
    "duration": 14,
    "start_time": "2022-04-03T13:15:15.259Z"
   },
   {
    "duration": 6,
    "start_time": "2022-04-03T13:15:15.657Z"
   },
   {
    "duration": 4,
    "start_time": "2022-04-03T13:15:27.300Z"
   },
   {
    "duration": 8,
    "start_time": "2022-04-03T13:17:42.228Z"
   },
   {
    "duration": 25,
    "start_time": "2022-04-03T13:17:42.693Z"
   },
   {
    "duration": 5,
    "start_time": "2022-04-03T13:18:08.565Z"
   },
   {
    "duration": 5,
    "start_time": "2022-04-03T13:18:17.497Z"
   },
   {
    "duration": 309,
    "start_time": "2022-04-03T13:18:59.401Z"
   },
   {
    "duration": 4,
    "start_time": "2022-04-03T13:19:04.589Z"
   },
   {
    "duration": 2697,
    "start_time": "2022-04-03T13:19:06.217Z"
   },
   {
    "duration": 2334,
    "start_time": "2022-04-03T13:19:10.482Z"
   },
   {
    "duration": 90,
    "start_time": "2022-04-03T13:19:12.819Z"
   },
   {
    "duration": 4,
    "start_time": "2022-04-03T13:19:47.682Z"
   },
   {
    "duration": 25430,
    "start_time": "2022-04-03T13:19:51.546Z"
   },
   {
    "duration": 26226,
    "start_time": "2022-04-03T13:20:16.978Z"
   },
   {
    "duration": 4,
    "start_time": "2022-04-03T13:20:43.205Z"
   },
   {
    "duration": 8,
    "start_time": "2022-04-03T13:20:43.211Z"
   },
   {
    "duration": 70,
    "start_time": "2022-04-03T16:01:31.997Z"
   },
   {
    "duration": 10,
    "start_time": "2022-04-03T16:01:44.966Z"
   },
   {
    "duration": 2540,
    "start_time": "2022-04-03T16:17:57.626Z"
   },
   {
    "duration": 1633,
    "start_time": "2022-04-03T16:18:00.171Z"
   },
   {
    "duration": 9,
    "start_time": "2022-04-03T16:18:01.808Z"
   },
   {
    "duration": 132,
    "start_time": "2022-04-03T16:18:01.822Z"
   },
   {
    "duration": 40,
    "start_time": "2022-04-03T16:18:01.957Z"
   },
   {
    "duration": 12,
    "start_time": "2022-04-03T16:18:02.000Z"
   },
   {
    "duration": 90,
    "start_time": "2022-04-03T16:18:02.014Z"
   },
   {
    "duration": 52,
    "start_time": "2022-04-03T16:18:02.108Z"
   },
   {
    "duration": 35,
    "start_time": "2022-04-03T16:18:02.191Z"
   },
   {
    "duration": 21,
    "start_time": "2022-04-03T16:18:02.234Z"
   },
   {
    "duration": 35,
    "start_time": "2022-04-03T16:18:02.259Z"
   },
   {
    "duration": 252,
    "start_time": "2022-04-03T16:18:02.297Z"
   },
   {
    "duration": 12,
    "start_time": "2022-04-03T16:18:02.552Z"
   },
   {
    "duration": 182,
    "start_time": "2022-04-03T16:18:02.583Z"
   },
   {
    "duration": 31,
    "start_time": "2022-04-03T16:18:02.767Z"
   },
   {
    "duration": 22,
    "start_time": "2022-04-03T16:18:02.801Z"
   },
   {
    "duration": 20,
    "start_time": "2022-04-03T16:18:02.825Z"
   },
   {
    "duration": 20,
    "start_time": "2022-04-03T16:18:02.884Z"
   },
   {
    "duration": 8,
    "start_time": "2022-04-03T16:18:02.906Z"
   },
   {
    "duration": 11,
    "start_time": "2022-04-03T16:18:02.917Z"
   },
   {
    "duration": 56,
    "start_time": "2022-04-03T16:18:02.930Z"
   },
   {
    "duration": 30,
    "start_time": "2022-04-03T16:18:02.988Z"
   },
   {
    "duration": 19,
    "start_time": "2022-04-03T16:18:03.021Z"
   },
   {
    "duration": 1294,
    "start_time": "2022-04-03T16:18:03.042Z"
   },
   {
    "duration": 49,
    "start_time": "2022-04-03T16:18:04.339Z"
   },
   {
    "duration": 9,
    "start_time": "2022-04-03T16:18:04.390Z"
   },
   {
    "duration": 23,
    "start_time": "2022-04-03T16:18:04.402Z"
   },
   {
    "duration": 109,
    "start_time": "2022-04-03T16:18:10.982Z"
   },
   {
    "duration": 15,
    "start_time": "2022-04-03T16:26:05.062Z"
   },
   {
    "duration": 17,
    "start_time": "2022-04-03T16:31:06.498Z"
   },
   {
    "duration": 2779,
    "start_time": "2022-04-03T16:31:32.317Z"
   },
   {
    "duration": 3332,
    "start_time": "2022-04-03T16:32:51.660Z"
   },
   {
    "duration": 22,
    "start_time": "2022-04-03T16:33:00.004Z"
   },
   {
    "duration": 17,
    "start_time": "2022-04-03T16:34:20.931Z"
   },
   {
    "duration": 20,
    "start_time": "2022-04-03T16:34:55.364Z"
   },
   {
    "duration": 11,
    "start_time": "2022-04-03T16:39:52.593Z"
   },
   {
    "duration": 15,
    "start_time": "2022-04-03T16:40:29.225Z"
   },
   {
    "duration": 11,
    "start_time": "2022-04-03T16:40:34.479Z"
   },
   {
    "duration": 5,
    "start_time": "2022-04-03T16:41:11.866Z"
   },
   {
    "duration": 24,
    "start_time": "2022-04-03T16:54:44.238Z"
   },
   {
    "duration": 10,
    "start_time": "2022-04-03T16:54:52.754Z"
   },
   {
    "duration": 36,
    "start_time": "2022-04-03T16:55:18.981Z"
   },
   {
    "duration": 69,
    "start_time": "2022-04-03T16:58:52.148Z"
   },
   {
    "duration": 9,
    "start_time": "2022-04-03T16:59:50.116Z"
   },
   {
    "duration": 75,
    "start_time": "2022-04-03T17:02:34.251Z"
   },
   {
    "duration": 60,
    "start_time": "2022-04-03T17:03:19.661Z"
   },
   {
    "duration": 19,
    "start_time": "2022-04-03T17:03:30.644Z"
   },
   {
    "duration": 34,
    "start_time": "2022-04-03T17:07:51.842Z"
   },
   {
    "duration": 45,
    "start_time": "2022-04-03T17:10:23.282Z"
   },
   {
    "duration": 227,
    "start_time": "2022-04-03T17:18:13.664Z"
   },
   {
    "duration": 30,
    "start_time": "2022-04-03T17:21:30.495Z"
   },
   {
    "duration": 3262,
    "start_time": "2022-04-03T17:22:37.838Z"
   },
   {
    "duration": 9900,
    "start_time": "2022-04-03T17:22:51.544Z"
   },
   {
    "duration": 7,
    "start_time": "2022-04-03T17:29:53.104Z"
   },
   {
    "duration": 898,
    "start_time": "2022-04-03T17:29:53.121Z"
   },
   {
    "duration": 6,
    "start_time": "2022-04-03T17:29:54.022Z"
   },
   {
    "duration": 94,
    "start_time": "2022-04-03T17:29:54.030Z"
   },
   {
    "duration": 14,
    "start_time": "2022-04-03T17:29:54.128Z"
   },
   {
    "duration": 39,
    "start_time": "2022-04-03T17:29:54.145Z"
   },
   {
    "duration": 67,
    "start_time": "2022-04-03T17:29:54.186Z"
   },
   {
    "duration": 29,
    "start_time": "2022-04-03T17:29:54.281Z"
   },
   {
    "duration": 22,
    "start_time": "2022-04-03T17:29:54.313Z"
   },
   {
    "duration": 10,
    "start_time": "2022-04-03T17:29:54.339Z"
   },
   {
    "duration": 14,
    "start_time": "2022-04-03T17:29:54.383Z"
   },
   {
    "duration": 280,
    "start_time": "2022-04-03T17:29:54.399Z"
   },
   {
    "duration": 12,
    "start_time": "2022-04-03T17:29:54.683Z"
   },
   {
    "duration": 149,
    "start_time": "2022-04-03T17:29:54.698Z"
   },
   {
    "duration": 34,
    "start_time": "2022-04-03T17:29:54.850Z"
   },
   {
    "duration": 30,
    "start_time": "2022-04-03T17:29:54.887Z"
   },
   {
    "duration": 23,
    "start_time": "2022-04-03T17:29:54.919Z"
   },
   {
    "duration": 55,
    "start_time": "2022-04-03T17:29:54.944Z"
   },
   {
    "duration": 8,
    "start_time": "2022-04-03T17:29:55.003Z"
   },
   {
    "duration": 25,
    "start_time": "2022-04-03T17:29:55.013Z"
   },
   {
    "duration": 31,
    "start_time": "2022-04-03T17:29:55.040Z"
   },
   {
    "duration": 24,
    "start_time": "2022-04-03T17:29:55.073Z"
   },
   {
    "duration": 30,
    "start_time": "2022-04-03T17:29:55.100Z"
   },
   {
    "duration": 1298,
    "start_time": "2022-04-03T17:29:55.133Z"
   },
   {
    "duration": 20,
    "start_time": "2022-04-03T17:29:56.433Z"
   },
   {
    "duration": 34,
    "start_time": "2022-04-03T17:29:56.455Z"
   },
   {
    "duration": 8,
    "start_time": "2022-04-03T17:29:56.492Z"
   },
   {
    "duration": 2791,
    "start_time": "2022-04-03T17:29:59.186Z"
   },
   {
    "duration": 2694,
    "start_time": "2022-04-03T17:30:54.156Z"
   },
   {
    "duration": 43,
    "start_time": "2022-04-03T17:31:56.636Z"
   },
   {
    "duration": 1279,
    "start_time": "2022-04-03T17:32:15.243Z"
   },
   {
    "duration": 59,
    "start_time": "2022-04-03T17:34:19.652Z"
   },
   {
    "duration": 7,
    "start_time": "2022-04-03T17:34:39.695Z"
   },
   {
    "duration": 1330,
    "start_time": "2022-04-03T17:34:39.711Z"
   },
   {
    "duration": 5,
    "start_time": "2022-04-03T17:34:41.045Z"
   },
   {
    "duration": 109,
    "start_time": "2022-04-03T17:34:41.053Z"
   },
   {
    "duration": 13,
    "start_time": "2022-04-03T17:34:41.182Z"
   },
   {
    "duration": 12,
    "start_time": "2022-04-03T17:34:41.197Z"
   },
   {
    "duration": 71,
    "start_time": "2022-04-03T17:34:41.211Z"
   },
   {
    "duration": 29,
    "start_time": "2022-04-03T17:34:41.285Z"
   },
   {
    "duration": 20,
    "start_time": "2022-04-03T17:34:41.316Z"
   },
   {
    "duration": 9,
    "start_time": "2022-04-03T17:34:41.339Z"
   },
   {
    "duration": 15,
    "start_time": "2022-04-03T17:34:41.387Z"
   },
   {
    "duration": 345,
    "start_time": "2022-04-03T17:34:41.405Z"
   },
   {
    "duration": 32,
    "start_time": "2022-04-03T17:34:41.753Z"
   },
   {
    "duration": 190,
    "start_time": "2022-04-03T17:34:41.788Z"
   },
   {
    "duration": 26,
    "start_time": "2022-04-03T17:34:41.980Z"
   },
   {
    "duration": 28,
    "start_time": "2022-04-03T17:34:42.009Z"
   },
   {
    "duration": 64,
    "start_time": "2022-04-03T17:34:42.040Z"
   },
   {
    "duration": 22,
    "start_time": "2022-04-03T17:34:42.107Z"
   },
   {
    "duration": 8,
    "start_time": "2022-04-03T17:34:42.131Z"
   },
   {
    "duration": 9,
    "start_time": "2022-04-03T17:34:42.141Z"
   },
   {
    "duration": 10,
    "start_time": "2022-04-03T17:34:42.184Z"
   },
   {
    "duration": 21,
    "start_time": "2022-04-03T17:34:42.197Z"
   },
   {
    "duration": 16,
    "start_time": "2022-04-03T17:34:42.221Z"
   },
   {
    "duration": 1499,
    "start_time": "2022-04-03T17:34:42.240Z"
   },
   {
    "duration": 21,
    "start_time": "2022-04-03T17:34:43.742Z"
   },
   {
    "duration": 23,
    "start_time": "2022-04-03T17:34:43.766Z"
   },
   {
    "duration": 8,
    "start_time": "2022-04-03T17:34:43.792Z"
   },
   {
    "duration": 60,
    "start_time": "2022-04-03T17:34:57.963Z"
   },
   {
    "duration": 2201,
    "start_time": "2022-04-03T17:51:51.395Z"
   },
   {
    "duration": 962,
    "start_time": "2022-04-03T17:51:53.598Z"
   },
   {
    "duration": 5,
    "start_time": "2022-04-03T17:51:54.562Z"
   },
   {
    "duration": 75,
    "start_time": "2022-04-03T17:51:54.581Z"
   },
   {
    "duration": 24,
    "start_time": "2022-04-03T17:51:54.682Z"
   },
   {
    "duration": 6,
    "start_time": "2022-04-03T17:51:54.709Z"
   },
   {
    "duration": 72,
    "start_time": "2022-04-03T17:51:54.718Z"
   },
   {
    "duration": 31,
    "start_time": "2022-04-03T17:51:54.792Z"
   },
   {
    "duration": 27,
    "start_time": "2022-04-03T17:51:54.825Z"
   },
   {
    "duration": 36,
    "start_time": "2022-04-03T17:51:54.855Z"
   },
   {
    "duration": 15,
    "start_time": "2022-04-03T17:51:54.894Z"
   },
   {
    "duration": 284,
    "start_time": "2022-04-03T17:51:54.912Z"
   },
   {
    "duration": 11,
    "start_time": "2022-04-03T17:51:55.198Z"
   },
   {
    "duration": 141,
    "start_time": "2022-04-03T17:51:55.212Z"
   },
   {
    "duration": 31,
    "start_time": "2022-04-03T17:51:55.355Z"
   },
   {
    "duration": 26,
    "start_time": "2022-04-03T17:51:55.390Z"
   },
   {
    "duration": 24,
    "start_time": "2022-04-03T17:51:55.418Z"
   },
   {
    "duration": 48,
    "start_time": "2022-04-03T17:51:55.444Z"
   },
   {
    "duration": 8,
    "start_time": "2022-04-03T17:51:55.495Z"
   },
   {
    "duration": 9,
    "start_time": "2022-04-03T17:51:55.506Z"
   },
   {
    "duration": 9,
    "start_time": "2022-04-03T17:51:55.518Z"
   },
   {
    "duration": 62,
    "start_time": "2022-04-03T17:51:55.529Z"
   },
   {
    "duration": 15,
    "start_time": "2022-04-03T17:51:55.594Z"
   },
   {
    "duration": 1408,
    "start_time": "2022-04-03T17:51:55.611Z"
   },
   {
    "duration": 18,
    "start_time": "2022-04-03T17:51:57.022Z"
   },
   {
    "duration": 8,
    "start_time": "2022-04-03T17:51:57.043Z"
   },
   {
    "duration": 7,
    "start_time": "2022-04-03T17:51:57.082Z"
   },
   {
    "duration": 94,
    "start_time": "2022-04-03T17:51:57.094Z"
   },
   {
    "duration": 11,
    "start_time": "2022-04-03T17:51:57.191Z"
   },
   {
    "duration": 29,
    "start_time": "2022-04-03T17:51:57.205Z"
   },
   {
    "duration": 8,
    "start_time": "2022-04-03T17:51:57.237Z"
   },
   {
    "duration": 7,
    "start_time": "2022-04-03T17:51:57.283Z"
   },
   {
    "duration": 3197,
    "start_time": "2022-04-03T17:51:57.293Z"
   },
   {
    "duration": 2888,
    "start_time": "2022-04-03T17:52:00.493Z"
   },
   {
    "duration": 6,
    "start_time": "2022-04-03T17:52:03.384Z"
   },
   {
    "duration": 8,
    "start_time": "2022-04-03T17:52:03.392Z"
   },
   {
    "duration": 29290,
    "start_time": "2022-04-03T17:52:03.402Z"
   },
   {
    "duration": 31684,
    "start_time": "2022-04-03T17:52:32.694Z"
   },
   {
    "duration": 6,
    "start_time": "2022-04-03T17:53:04.383Z"
   },
   {
    "duration": 10,
    "start_time": "2022-04-03T17:53:04.391Z"
   },
   {
    "duration": 180450,
    "start_time": "2022-04-03T17:53:04.403Z"
   },
   {
    "duration": 185929,
    "start_time": "2022-04-03T17:56:04.855Z"
   },
   {
    "duration": 6,
    "start_time": "2022-04-03T17:59:10.786Z"
   },
   {
    "duration": 17,
    "start_time": "2022-04-03T17:59:10.794Z"
   },
   {
    "duration": 6312,
    "start_time": "2022-04-03T17:59:10.814Z"
   },
   {
    "duration": 4556,
    "start_time": "2022-04-03T17:59:17.128Z"
   }
  ],
  "kernelspec": {
   "display_name": "Python 3 (ipykernel)",
   "language": "python",
   "name": "python3"
  },
  "language_info": {
   "codemirror_mode": {
    "name": "ipython",
    "version": 3
   },
   "file_extension": ".py",
   "mimetype": "text/x-python",
   "name": "python",
   "nbconvert_exporter": "python",
   "pygments_lexer": "ipython3",
   "version": "3.9.12"
  },
  "toc": {
   "base_numbering": 1,
   "nav_menu": {},
   "number_sections": true,
   "sideBar": true,
   "skip_h1_title": false,
   "title_cell": "Table of Contents",
   "title_sidebar": "Contents",
   "toc_cell": false,
   "toc_position": {
    "height": "calc(100% - 180px)",
    "left": "10px",
    "top": "150px",
    "width": "384px"
   },
   "toc_section_display": true,
   "toc_window_display": true
  }
 },
 "nbformat": 4,
 "nbformat_minor": 5
}
