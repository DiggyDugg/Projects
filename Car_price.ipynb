{
 "cells": [
  {
   "cell_type": "markdown",
   "metadata": {},
   "source": [
    "# Определение стоимости автомобилей"
   ]
  },
  {
   "cell_type": "markdown",
   "metadata": {},
   "source": [
    "Сервис по продаже автомобилей с пробегом разрабатывает приложение для привлечения новых клиентов. В нём можно быстро узнать рыночную стоимость своего автомобиля. В нашем распоряжении исторические данные: технические характеристики, комплектации и цены автомобилей. Нужно построить модель для определения стоимости. \n",
    "\n",
    "Заказчику важны:\n",
    "\n",
    "- качество предсказания;\n",
    "- скорость предсказания;\n",
    "- время обучения."
   ]
  },
  {
   "cell_type": "markdown",
   "metadata": {},
   "source": [
    "# Описание данных"
   ]
  },
  {
   "cell_type": "markdown",
   "metadata": {},
   "source": [
    "### Признаки\n",
    "DateCrawled — дата скачивания анкеты из базы\\\n",
    "VehicleType — тип автомобильного кузова\\\n",
    "RegistrationYear — год регистрации автомобиля\\\n",
    "Gearbox — тип коробки передач\\\n",
    "Power — мощность (л. с.)\\\n",
    "Model — модель автомобиля\\\n",
    "Kilometer — пробег (км)\\\n",
    "RegistrationMonth — месяц регистрации автомобиля\\\n",
    "FuelType — тип топлива\\\n",
    "Brand — марка автомобиля\\\n",
    "NotRepaired — была машина в ремонте или нет\\\n",
    "DateCreated — дата создания анкеты\\\n",
    "NumberOfPictures — количество фотографий автомобиля\\\n",
    "PostalCode — почтовый индекс владельца анкеты (пользователя)\\\n",
    "LastSeen — дата последней активности пользователя\\\n",
    "### Целевой признак\n",
    "Price — цена (евро)\\"
   ]
  },
  {
   "cell_type": "markdown",
   "metadata": {},
   "source": [
    "## Подготовка данных"
   ]
  },
  {
   "cell_type": "code",
   "execution_count": 1,
   "metadata": {},
   "outputs": [],
   "source": [
    "import matplotlib.pyplot as plt\n",
    "import numpy as np\n",
    "import pandas as pd\n",
    "from datetime import datetime, date, time\n",
    "\n",
    "from sklearn.preprocessing import OrdinalEncoder\n",
    "from sklearn.model_selection import train_test_split\n",
    "\n",
    "from sklearn.dummy import DummyRegressor\n",
    "from sklearn.ensemble import RandomForestRegressor\n",
    "\n",
    "import lightgbm as lgb\n",
    "from catboost import CatBoostRegressor\n",
    "\n",
    "from sklearn.metrics import mean_squared_error, make_scorer\n",
    "from sklearn.model_selection import GridSearchCV\n",
    "\n",
    "from datetime import datetime \n",
    "\n",
    "import warnings"
   ]
  },
  {
   "cell_type": "code",
   "execution_count": 2,
   "metadata": {},
   "outputs": [],
   "source": [
    "RANDOM_STATE = 11\n",
    "warnings.filterwarnings(\"ignore\")"
   ]
  },
  {
   "cell_type": "markdown",
   "metadata": {},
   "source": [
    "### Анализ данных"
   ]
  },
  {
   "cell_type": "code",
   "execution_count": 3,
   "metadata": {},
   "outputs": [
    {
     "name": "stdout",
     "output_type": "stream",
     "text": [
      "<class 'pandas.core.frame.DataFrame'>\n",
      "RangeIndex: 354369 entries, 0 to 354368\n",
      "Data columns (total 16 columns):\n",
      " #   Column             Non-Null Count   Dtype \n",
      "---  ------             --------------   ----- \n",
      " 0   DateCrawled        354369 non-null  object\n",
      " 1   Price              354369 non-null  int64 \n",
      " 2   VehicleType        316879 non-null  object\n",
      " 3   RegistrationYear   354369 non-null  int64 \n",
      " 4   Gearbox            334536 non-null  object\n",
      " 5   Power              354369 non-null  int64 \n",
      " 6   Model              334664 non-null  object\n",
      " 7   Kilometer          354369 non-null  int64 \n",
      " 8   RegistrationMonth  354369 non-null  int64 \n",
      " 9   FuelType           321474 non-null  object\n",
      " 10  Brand              354369 non-null  object\n",
      " 11  NotRepaired        283215 non-null  object\n",
      " 12  DateCreated        354369 non-null  object\n",
      " 13  NumberOfPictures   354369 non-null  int64 \n",
      " 14  PostalCode         354369 non-null  int64 \n",
      " 15  LastSeen           354369 non-null  object\n",
      "dtypes: int64(7), object(9)\n",
      "memory usage: 43.3+ MB\n"
     ]
    },
    {
     "data": {
      "text/html": [
       "<div>\n",
       "<style scoped>\n",
       "    .dataframe tbody tr th:only-of-type {\n",
       "        vertical-align: middle;\n",
       "    }\n",
       "\n",
       "    .dataframe tbody tr th {\n",
       "        vertical-align: top;\n",
       "    }\n",
       "\n",
       "    .dataframe thead th {\n",
       "        text-align: right;\n",
       "    }\n",
       "</style>\n",
       "<table border=\"1\" class=\"dataframe\">\n",
       "  <thead>\n",
       "    <tr style=\"text-align: right;\">\n",
       "      <th></th>\n",
       "      <th>DateCrawled</th>\n",
       "      <th>Price</th>\n",
       "      <th>VehicleType</th>\n",
       "      <th>RegistrationYear</th>\n",
       "      <th>Gearbox</th>\n",
       "      <th>Power</th>\n",
       "      <th>Model</th>\n",
       "      <th>Kilometer</th>\n",
       "      <th>RegistrationMonth</th>\n",
       "      <th>FuelType</th>\n",
       "      <th>Brand</th>\n",
       "      <th>NotRepaired</th>\n",
       "      <th>DateCreated</th>\n",
       "      <th>NumberOfPictures</th>\n",
       "      <th>PostalCode</th>\n",
       "      <th>LastSeen</th>\n",
       "    </tr>\n",
       "  </thead>\n",
       "  <tbody>\n",
       "    <tr>\n",
       "      <th>0</th>\n",
       "      <td>2016-03-24 11:52:17</td>\n",
       "      <td>480</td>\n",
       "      <td>NaN</td>\n",
       "      <td>1993</td>\n",
       "      <td>manual</td>\n",
       "      <td>0</td>\n",
       "      <td>golf</td>\n",
       "      <td>150000</td>\n",
       "      <td>0</td>\n",
       "      <td>petrol</td>\n",
       "      <td>volkswagen</td>\n",
       "      <td>NaN</td>\n",
       "      <td>2016-03-24 00:00:00</td>\n",
       "      <td>0</td>\n",
       "      <td>70435</td>\n",
       "      <td>2016-04-07 03:16:57</td>\n",
       "    </tr>\n",
       "    <tr>\n",
       "      <th>1</th>\n",
       "      <td>2016-03-24 10:58:45</td>\n",
       "      <td>18300</td>\n",
       "      <td>coupe</td>\n",
       "      <td>2011</td>\n",
       "      <td>manual</td>\n",
       "      <td>190</td>\n",
       "      <td>NaN</td>\n",
       "      <td>125000</td>\n",
       "      <td>5</td>\n",
       "      <td>gasoline</td>\n",
       "      <td>audi</td>\n",
       "      <td>yes</td>\n",
       "      <td>2016-03-24 00:00:00</td>\n",
       "      <td>0</td>\n",
       "      <td>66954</td>\n",
       "      <td>2016-04-07 01:46:50</td>\n",
       "    </tr>\n",
       "    <tr>\n",
       "      <th>2</th>\n",
       "      <td>2016-03-14 12:52:21</td>\n",
       "      <td>9800</td>\n",
       "      <td>suv</td>\n",
       "      <td>2004</td>\n",
       "      <td>auto</td>\n",
       "      <td>163</td>\n",
       "      <td>grand</td>\n",
       "      <td>125000</td>\n",
       "      <td>8</td>\n",
       "      <td>gasoline</td>\n",
       "      <td>jeep</td>\n",
       "      <td>NaN</td>\n",
       "      <td>2016-03-14 00:00:00</td>\n",
       "      <td>0</td>\n",
       "      <td>90480</td>\n",
       "      <td>2016-04-05 12:47:46</td>\n",
       "    </tr>\n",
       "    <tr>\n",
       "      <th>3</th>\n",
       "      <td>2016-03-17 16:54:04</td>\n",
       "      <td>1500</td>\n",
       "      <td>small</td>\n",
       "      <td>2001</td>\n",
       "      <td>manual</td>\n",
       "      <td>75</td>\n",
       "      <td>golf</td>\n",
       "      <td>150000</td>\n",
       "      <td>6</td>\n",
       "      <td>petrol</td>\n",
       "      <td>volkswagen</td>\n",
       "      <td>no</td>\n",
       "      <td>2016-03-17 00:00:00</td>\n",
       "      <td>0</td>\n",
       "      <td>91074</td>\n",
       "      <td>2016-03-17 17:40:17</td>\n",
       "    </tr>\n",
       "    <tr>\n",
       "      <th>4</th>\n",
       "      <td>2016-03-31 17:25:20</td>\n",
       "      <td>3600</td>\n",
       "      <td>small</td>\n",
       "      <td>2008</td>\n",
       "      <td>manual</td>\n",
       "      <td>69</td>\n",
       "      <td>fabia</td>\n",
       "      <td>90000</td>\n",
       "      <td>7</td>\n",
       "      <td>gasoline</td>\n",
       "      <td>skoda</td>\n",
       "      <td>no</td>\n",
       "      <td>2016-03-31 00:00:00</td>\n",
       "      <td>0</td>\n",
       "      <td>60437</td>\n",
       "      <td>2016-04-06 10:17:21</td>\n",
       "    </tr>\n",
       "  </tbody>\n",
       "</table>\n",
       "</div>"
      ],
      "text/plain": [
       "           DateCrawled  Price VehicleType  RegistrationYear Gearbox  Power  \\\n",
       "0  2016-03-24 11:52:17    480         NaN              1993  manual      0   \n",
       "1  2016-03-24 10:58:45  18300       coupe              2011  manual    190   \n",
       "2  2016-03-14 12:52:21   9800         suv              2004    auto    163   \n",
       "3  2016-03-17 16:54:04   1500       small              2001  manual     75   \n",
       "4  2016-03-31 17:25:20   3600       small              2008  manual     69   \n",
       "\n",
       "   Model  Kilometer  RegistrationMonth  FuelType       Brand NotRepaired  \\\n",
       "0   golf     150000                  0    petrol  volkswagen         NaN   \n",
       "1    NaN     125000                  5  gasoline        audi         yes   \n",
       "2  grand     125000                  8  gasoline        jeep         NaN   \n",
       "3   golf     150000                  6    petrol  volkswagen          no   \n",
       "4  fabia      90000                  7  gasoline       skoda          no   \n",
       "\n",
       "           DateCreated  NumberOfPictures  PostalCode             LastSeen  \n",
       "0  2016-03-24 00:00:00                 0       70435  2016-04-07 03:16:57  \n",
       "1  2016-03-24 00:00:00                 0       66954  2016-04-07 01:46:50  \n",
       "2  2016-03-14 00:00:00                 0       90480  2016-04-05 12:47:46  \n",
       "3  2016-03-17 00:00:00                 0       91074  2016-03-17 17:40:17  \n",
       "4  2016-03-31 00:00:00                 0       60437  2016-04-06 10:17:21  "
      ]
     },
     "execution_count": 3,
     "metadata": {},
     "output_type": "execute_result"
    }
   ],
   "source": [
    "df = pd.read_csv('/datasets/autos.csv')\n",
    "df.info()\n",
    "df.head()"
   ]
  },
  {
   "cell_type": "code",
   "execution_count": 4,
   "metadata": {
    "scrolled": true
   },
   "outputs": [
    {
     "data": {
      "text/plain": [
       "'VehicleType'"
      ]
     },
     "metadata": {},
     "output_type": "display_data"
    },
    {
     "data": {
      "text/plain": [
       "array([nan, 'coupe', 'suv', 'small', 'sedan', 'convertible', 'bus',\n",
       "       'wagon', 'other'], dtype=object)"
      ]
     },
     "metadata": {},
     "output_type": "display_data"
    },
    {
     "data": {
      "text/plain": [
       "'Gearbox'"
      ]
     },
     "metadata": {},
     "output_type": "display_data"
    },
    {
     "data": {
      "text/plain": [
       "array(['manual', 'auto', nan], dtype=object)"
      ]
     },
     "metadata": {},
     "output_type": "display_data"
    },
    {
     "data": {
      "text/plain": [
       "'Model'"
      ]
     },
     "metadata": {},
     "output_type": "display_data"
    },
    {
     "data": {
      "text/plain": [
       "array(['golf', nan, 'grand', 'fabia', '3er', '2_reihe', 'other', 'c_max',\n",
       "       '3_reihe', 'passat', 'navara', 'ka', 'polo', 'twingo', 'a_klasse',\n",
       "       'scirocco', '5er', 'meriva', 'arosa', 'c4', 'civic', 'transporter',\n",
       "       'punto', 'e_klasse', 'clio', 'kadett', 'kangoo', 'corsa', 'one',\n",
       "       'fortwo', '1er', 'b_klasse', 'signum', 'astra', 'a8', 'jetta',\n",
       "       'fiesta', 'c_klasse', 'micra', 'vito', 'sprinter', '156', 'escort',\n",
       "       'forester', 'xc_reihe', 'scenic', 'a4', 'a1', 'insignia', 'combo',\n",
       "       'focus', 'tt', 'a6', 'jazz', 'omega', 'slk', '7er', '80', '147',\n",
       "       '100', 'z_reihe', 'sportage', 'sorento', 'v40', 'ibiza', 'mustang',\n",
       "       'eos', 'touran', 'getz', 'a3', 'almera', 'megane', 'lupo', 'r19',\n",
       "       'zafira', 'caddy', 'mondeo', 'cordoba', 'colt', 'impreza',\n",
       "       'vectra', 'berlingo', 'tiguan', 'i_reihe', 'espace', 'sharan',\n",
       "       '6_reihe', 'panda', 'up', 'seicento', 'ceed', '5_reihe', 'yeti',\n",
       "       'octavia', 'mii', 'rx_reihe', '6er', 'modus', 'fox', 'matiz',\n",
       "       'beetle', 'c1', 'rio', 'touareg', 'logan', 'spider', 'cuore',\n",
       "       's_max', 'a2', 'galaxy', 'c3', 'viano', 's_klasse', '1_reihe',\n",
       "       'avensis', 'roomster', 'sl', 'kaefer', 'santa', 'cooper', 'leon',\n",
       "       '4_reihe', 'a5', '500', 'laguna', 'ptcruiser', 'clk', 'primera',\n",
       "       'x_reihe', 'exeo', '159', 'transit', 'juke', 'qashqai', 'carisma',\n",
       "       'accord', 'corolla', 'lanos', 'phaeton', 'verso', 'swift', 'rav',\n",
       "       'picanto', 'boxster', 'kalos', 'superb', 'stilo', 'alhambra',\n",
       "       'mx_reihe', 'roadster', 'ypsilon', 'cayenne', 'galant', 'justy',\n",
       "       '90', 'sirion', 'crossfire', 'agila', 'duster', 'cr_reihe', 'v50',\n",
       "       'c_reihe', 'v_klasse', 'm_klasse', 'yaris', 'c5', 'aygo', 'cc',\n",
       "       'carnival', 'fusion', '911', 'bora', 'forfour', 'm_reihe', 'cl',\n",
       "       'tigra', '300c', 'spark', 'v70', 'kuga', 'x_type', 'ducato',\n",
       "       's_type', 'x_trail', 'toledo', 'altea', 'voyager', 'calibra',\n",
       "       'bravo', 'antara', 'tucson', 'citigo', 'jimny', 'wrangler',\n",
       "       'lybra', 'q7', 'lancer', 'captiva', 'c2', 'discovery',\n",
       "       'freelander', 'sandero', 'note', '900', 'cherokee', 'clubman',\n",
       "       'samara', 'defender', '601', 'cx_reihe', 'legacy', 'pajero',\n",
       "       'auris', 'niva', 's60', 'nubira', 'vivaro', 'g_klasse', 'lodgy',\n",
       "       '850', 'range_rover', 'q3', 'serie_2', 'glk', 'charade', 'croma',\n",
       "       'outlander', 'doblo', 'musa', 'move', '9000', 'v60', '145', 'aveo',\n",
       "       '200', 'b_max', 'range_rover_sport', 'terios', 'rangerover', 'q5',\n",
       "       'range_rover_evoque', 'materia', 'delta', 'gl', 'kalina', 'amarok',\n",
       "       'elefantino', 'i3', 'kappa', 'serie_3', 'serie_1'], dtype=object)"
      ]
     },
     "metadata": {},
     "output_type": "display_data"
    },
    {
     "data": {
      "text/plain": [
       "'FuelType'"
      ]
     },
     "metadata": {},
     "output_type": "display_data"
    },
    {
     "data": {
      "text/plain": [
       "array(['petrol', 'gasoline', nan, 'lpg', 'other', 'hybrid', 'cng',\n",
       "       'electric'], dtype=object)"
      ]
     },
     "metadata": {},
     "output_type": "display_data"
    },
    {
     "data": {
      "text/plain": [
       "'Brand'"
      ]
     },
     "metadata": {},
     "output_type": "display_data"
    },
    {
     "data": {
      "text/plain": [
       "array(['volkswagen', 'audi', 'jeep', 'skoda', 'bmw', 'peugeot', 'ford',\n",
       "       'mazda', 'nissan', 'renault', 'mercedes_benz', 'opel', 'seat',\n",
       "       'citroen', 'honda', 'fiat', 'mini', 'smart', 'hyundai',\n",
       "       'sonstige_autos', 'alfa_romeo', 'subaru', 'volvo', 'mitsubishi',\n",
       "       'kia', 'suzuki', 'lancia', 'toyota', 'chevrolet', 'dacia',\n",
       "       'daihatsu', 'trabant', 'saab', 'chrysler', 'jaguar', 'daewoo',\n",
       "       'porsche', 'rover', 'land_rover', 'lada'], dtype=object)"
      ]
     },
     "metadata": {},
     "output_type": "display_data"
    },
    {
     "data": {
      "text/plain": [
       "'NotRepaired'"
      ]
     },
     "metadata": {},
     "output_type": "display_data"
    },
    {
     "data": {
      "text/plain": [
       "array([nan, 'yes', 'no'], dtype=object)"
      ]
     },
     "metadata": {},
     "output_type": "display_data"
    }
   ],
   "source": [
    "non_numeric = ['VehicleType', 'Gearbox', 'Model', 'FuelType', 'Brand', 'NotRepaired']\n",
    "for feature in non_numeric:\n",
    "    display (feature)\n",
    "    display(df[feature].unique())"
   ]
  },
  {
   "cell_type": "markdown",
   "metadata": {},
   "source": [
    "### Подготовка данных"
   ]
  },
  {
   "cell_type": "markdown",
   "metadata": {},
   "source": [
    "#### \"Год регистрации\"\n",
    "Исключим выбросы"
   ]
  },
  {
   "cell_type": "markdown",
   "metadata": {},
   "source": [
    "Посмотрим, когда были созданы последние анкеты, чтобы исключить автомобили с годом регистрации позже этой даты."
   ]
  },
  {
   "cell_type": "code",
   "execution_count": 5,
   "metadata": {},
   "outputs": [
    {
     "data": {
      "text/plain": [
       "'2016-04-07 00:00:00'"
      ]
     },
     "execution_count": 5,
     "metadata": {},
     "output_type": "execute_result"
    }
   ],
   "source": [
    "df['DateCreated'].max()"
   ]
  },
  {
   "cell_type": "markdown",
   "metadata": {},
   "source": [
    "Посмотрим распределение года регистрации"
   ]
  },
  {
   "cell_type": "code",
   "execution_count": 6,
   "metadata": {},
   "outputs": [
    {
     "data": {
      "image/png": "[encoded data removed]",
      "text/plain": [
       "<Figure size 432x288 with 1 Axes>"
      ]
     },
     "metadata": {
      "needs_background": "light"
     },
     "output_type": "display_data"
    }
   ],
   "source": [
    "df.plot(kind='hist', y='RegistrationYear', bins = 100, title='Power', range=(1900, 2020))\n",
    "plt.show( )"
   ]
  },
  {
   "cell_type": "markdown",
   "metadata": {},
   "source": [
    "Видим, что авто с регистрацией до 1960 года практически нет. Уберем возможные выбросы до 1960 года и после 2016 года"
   ]
  },
  {
   "cell_type": "code",
   "execution_count": 7,
   "metadata": {
    "scrolled": true
   },
   "outputs": [
    {
     "name": "stdout",
     "output_type": "stream",
     "text": [
      "<class 'pandas.core.frame.DataFrame'>\n",
      "Int64Index: 339229 entries, 0 to 354368\n",
      "Data columns (total 16 columns):\n",
      " #   Column             Non-Null Count   Dtype \n",
      "---  ------             --------------   ----- \n",
      " 0   DateCrawled        339229 non-null  object\n",
      " 1   Price              339229 non-null  int64 \n",
      " 2   VehicleType        316509 non-null  object\n",
      " 3   RegistrationYear   339229 non-null  int64 \n",
      " 4   Gearbox            321565 non-null  object\n",
      " 5   Power              339229 non-null  int64 \n",
      " 6   Model              321855 non-null  object\n",
      " 7   Kilometer          339229 non-null  int64 \n",
      " 8   RegistrationMonth  339229 non-null  int64 \n",
      " 9   FuelType           312201 non-null  object\n",
      " 10  Brand              339229 non-null  object\n",
      " 11  NotRepaired        274738 non-null  object\n",
      " 12  DateCreated        339229 non-null  object\n",
      " 13  NumberOfPictures   339229 non-null  int64 \n",
      " 14  PostalCode         339229 non-null  int64 \n",
      " 15  LastSeen           339229 non-null  object\n",
      "dtypes: int64(7), object(9)\n",
      "memory usage: 44.0+ MB\n"
     ]
    }
   ],
   "source": [
    "df = df[df['RegistrationYear']>1960]\n",
    "df = df[df['RegistrationYear']<2017]\n",
    "df.info()"
   ]
  },
  {
   "cell_type": "markdown",
   "metadata": {},
   "source": [
    "#### \"Модель\"\n",
    "Исключим строки с пропусками,так как таких значений немного относительно общей базы "
   ]
  },
  {
   "cell_type": "code",
   "execution_count": 8,
   "metadata": {},
   "outputs": [],
   "source": [
    "df.dropna(subset = ['Model'],inplace = True)"
   ]
  },
  {
   "cell_type": "markdown",
   "metadata": {},
   "source": [
    "#### \"Тип кузова\""
   ]
  },
  {
   "cell_type": "markdown",
   "metadata": {},
   "source": [
    "Определим \"правильный\" тип кузова по модели как наиболее часто встречающийся."
   ]
  },
  {
   "cell_type": "code",
   "execution_count": 9,
   "metadata": {},
   "outputs": [
    {
     "data": {
      "text/plain": [
       "Model\n",
       "100              sedan\n",
       "145              small\n",
       "147              sedan\n",
       "156              wagon\n",
       "159              wagon\n",
       "              ...     \n",
       "yaris            small\n",
       "yeti               suv\n",
       "ypsilon          small\n",
       "z_reihe    convertible\n",
       "zafira             bus\n",
       "Length: 250, dtype: object"
      ]
     },
     "execution_count": 9,
     "metadata": {},
     "output_type": "execute_result"
    }
   ],
   "source": [
    "VehicleType_Model = df.pivot_table(index ='Model',  columns = 'VehicleType', values = 'Price', aggfunc='count').idxmax(axis=\"columns\")\n",
    "VehicleType_Model"
   ]
  },
  {
   "cell_type": "markdown",
   "metadata": {},
   "source": [
    "Заменим тип кузова для всех строк согласно таблице выше "
   ]
  },
  {
   "cell_type": "code",
   "execution_count": 10,
   "metadata": {
    "scrolled": true
   },
   "outputs": [
    {
     "data": {
      "text/html": [
       "<div>\n",
       "<style scoped>\n",
       "    .dataframe tbody tr th:only-of-type {\n",
       "        vertical-align: middle;\n",
       "    }\n",
       "\n",
       "    .dataframe tbody tr th {\n",
       "        vertical-align: top;\n",
       "    }\n",
       "\n",
       "    .dataframe thead th {\n",
       "        text-align: right;\n",
       "    }\n",
       "</style>\n",
       "<table border=\"1\" class=\"dataframe\">\n",
       "  <thead>\n",
       "    <tr style=\"text-align: right;\">\n",
       "      <th></th>\n",
       "      <th>DateCrawled</th>\n",
       "      <th>Price</th>\n",
       "      <th>VehicleType</th>\n",
       "      <th>RegistrationYear</th>\n",
       "      <th>Gearbox</th>\n",
       "      <th>Power</th>\n",
       "      <th>Model</th>\n",
       "      <th>Kilometer</th>\n",
       "      <th>RegistrationMonth</th>\n",
       "      <th>FuelType</th>\n",
       "      <th>Brand</th>\n",
       "      <th>NotRepaired</th>\n",
       "      <th>DateCreated</th>\n",
       "      <th>NumberOfPictures</th>\n",
       "      <th>PostalCode</th>\n",
       "      <th>LastSeen</th>\n",
       "    </tr>\n",
       "  </thead>\n",
       "  <tbody>\n",
       "    <tr>\n",
       "      <th>0</th>\n",
       "      <td>2016-03-24 11:52:17</td>\n",
       "      <td>480</td>\n",
       "      <td>sedan</td>\n",
       "      <td>1993</td>\n",
       "      <td>manual</td>\n",
       "      <td>0</td>\n",
       "      <td>golf</td>\n",
       "      <td>150000</td>\n",
       "      <td>0</td>\n",
       "      <td>petrol</td>\n",
       "      <td>volkswagen</td>\n",
       "      <td>NaN</td>\n",
       "      <td>2016-03-24 00:00:00</td>\n",
       "      <td>0</td>\n",
       "      <td>70435</td>\n",
       "      <td>2016-04-07 03:16:57</td>\n",
       "    </tr>\n",
       "    <tr>\n",
       "      <th>2</th>\n",
       "      <td>2016-03-14 12:52:21</td>\n",
       "      <td>9800</td>\n",
       "      <td>suv</td>\n",
       "      <td>2004</td>\n",
       "      <td>auto</td>\n",
       "      <td>163</td>\n",
       "      <td>grand</td>\n",
       "      <td>125000</td>\n",
       "      <td>8</td>\n",
       "      <td>gasoline</td>\n",
       "      <td>jeep</td>\n",
       "      <td>NaN</td>\n",
       "      <td>2016-03-14 00:00:00</td>\n",
       "      <td>0</td>\n",
       "      <td>90480</td>\n",
       "      <td>2016-04-05 12:47:46</td>\n",
       "    </tr>\n",
       "    <tr>\n",
       "      <th>3</th>\n",
       "      <td>2016-03-17 16:54:04</td>\n",
       "      <td>1500</td>\n",
       "      <td>sedan</td>\n",
       "      <td>2001</td>\n",
       "      <td>manual</td>\n",
       "      <td>75</td>\n",
       "      <td>golf</td>\n",
       "      <td>150000</td>\n",
       "      <td>6</td>\n",
       "      <td>petrol</td>\n",
       "      <td>volkswagen</td>\n",
       "      <td>no</td>\n",
       "      <td>2016-03-17 00:00:00</td>\n",
       "      <td>0</td>\n",
       "      <td>91074</td>\n",
       "      <td>2016-03-17 17:40:17</td>\n",
       "    </tr>\n",
       "    <tr>\n",
       "      <th>4</th>\n",
       "      <td>2016-03-31 17:25:20</td>\n",
       "      <td>3600</td>\n",
       "      <td>small</td>\n",
       "      <td>2008</td>\n",
       "      <td>manual</td>\n",
       "      <td>69</td>\n",
       "      <td>fabia</td>\n",
       "      <td>90000</td>\n",
       "      <td>7</td>\n",
       "      <td>gasoline</td>\n",
       "      <td>skoda</td>\n",
       "      <td>no</td>\n",
       "      <td>2016-03-31 00:00:00</td>\n",
       "      <td>0</td>\n",
       "      <td>60437</td>\n",
       "      <td>2016-04-06 10:17:21</td>\n",
       "    </tr>\n",
       "    <tr>\n",
       "      <th>5</th>\n",
       "      <td>2016-04-04 17:36:23</td>\n",
       "      <td>650</td>\n",
       "      <td>sedan</td>\n",
       "      <td>1995</td>\n",
       "      <td>manual</td>\n",
       "      <td>102</td>\n",
       "      <td>3er</td>\n",
       "      <td>150000</td>\n",
       "      <td>10</td>\n",
       "      <td>petrol</td>\n",
       "      <td>bmw</td>\n",
       "      <td>yes</td>\n",
       "      <td>2016-04-04 00:00:00</td>\n",
       "      <td>0</td>\n",
       "      <td>33775</td>\n",
       "      <td>2016-04-06 19:17:07</td>\n",
       "    </tr>\n",
       "    <tr>\n",
       "      <th>...</th>\n",
       "      <td>...</td>\n",
       "      <td>...</td>\n",
       "      <td>...</td>\n",
       "      <td>...</td>\n",
       "      <td>...</td>\n",
       "      <td>...</td>\n",
       "      <td>...</td>\n",
       "      <td>...</td>\n",
       "      <td>...</td>\n",
       "      <td>...</td>\n",
       "      <td>...</td>\n",
       "      <td>...</td>\n",
       "      <td>...</td>\n",
       "      <td>...</td>\n",
       "      <td>...</td>\n",
       "      <td>...</td>\n",
       "    </tr>\n",
       "    <tr>\n",
       "      <th>354363</th>\n",
       "      <td>2016-03-27 20:36:20</td>\n",
       "      <td>1150</td>\n",
       "      <td>bus</td>\n",
       "      <td>2000</td>\n",
       "      <td>manual</td>\n",
       "      <td>0</td>\n",
       "      <td>zafira</td>\n",
       "      <td>150000</td>\n",
       "      <td>3</td>\n",
       "      <td>petrol</td>\n",
       "      <td>opel</td>\n",
       "      <td>no</td>\n",
       "      <td>2016-03-27 00:00:00</td>\n",
       "      <td>0</td>\n",
       "      <td>26624</td>\n",
       "      <td>2016-03-29 10:17:23</td>\n",
       "    </tr>\n",
       "    <tr>\n",
       "      <th>354364</th>\n",
       "      <td>2016-03-21 09:50:58</td>\n",
       "      <td>0</td>\n",
       "      <td>sedan</td>\n",
       "      <td>2005</td>\n",
       "      <td>manual</td>\n",
       "      <td>0</td>\n",
       "      <td>colt</td>\n",
       "      <td>150000</td>\n",
       "      <td>7</td>\n",
       "      <td>petrol</td>\n",
       "      <td>mitsubishi</td>\n",
       "      <td>yes</td>\n",
       "      <td>2016-03-21 00:00:00</td>\n",
       "      <td>0</td>\n",
       "      <td>2694</td>\n",
       "      <td>2016-03-21 10:42:49</td>\n",
       "    </tr>\n",
       "    <tr>\n",
       "      <th>354366</th>\n",
       "      <td>2016-03-05 19:56:21</td>\n",
       "      <td>1199</td>\n",
       "      <td>small</td>\n",
       "      <td>2000</td>\n",
       "      <td>auto</td>\n",
       "      <td>101</td>\n",
       "      <td>fortwo</td>\n",
       "      <td>125000</td>\n",
       "      <td>3</td>\n",
       "      <td>petrol</td>\n",
       "      <td>smart</td>\n",
       "      <td>no</td>\n",
       "      <td>2016-03-05 00:00:00</td>\n",
       "      <td>0</td>\n",
       "      <td>26135</td>\n",
       "      <td>2016-03-11 18:17:12</td>\n",
       "    </tr>\n",
       "    <tr>\n",
       "      <th>354367</th>\n",
       "      <td>2016-03-19 18:57:12</td>\n",
       "      <td>9200</td>\n",
       "      <td>bus</td>\n",
       "      <td>1996</td>\n",
       "      <td>manual</td>\n",
       "      <td>102</td>\n",
       "      <td>transporter</td>\n",
       "      <td>150000</td>\n",
       "      <td>3</td>\n",
       "      <td>gasoline</td>\n",
       "      <td>volkswagen</td>\n",
       "      <td>no</td>\n",
       "      <td>2016-03-19 00:00:00</td>\n",
       "      <td>0</td>\n",
       "      <td>87439</td>\n",
       "      <td>2016-04-07 07:15:26</td>\n",
       "    </tr>\n",
       "    <tr>\n",
       "      <th>354368</th>\n",
       "      <td>2016-03-20 19:41:08</td>\n",
       "      <td>3400</td>\n",
       "      <td>sedan</td>\n",
       "      <td>2002</td>\n",
       "      <td>manual</td>\n",
       "      <td>100</td>\n",
       "      <td>golf</td>\n",
       "      <td>150000</td>\n",
       "      <td>6</td>\n",
       "      <td>gasoline</td>\n",
       "      <td>volkswagen</td>\n",
       "      <td>NaN</td>\n",
       "      <td>2016-03-20 00:00:00</td>\n",
       "      <td>0</td>\n",
       "      <td>40764</td>\n",
       "      <td>2016-03-24 12:45:21</td>\n",
       "    </tr>\n",
       "  </tbody>\n",
       "</table>\n",
       "<p>321855 rows × 16 columns</p>\n",
       "</div>"
      ],
      "text/plain": [
       "                DateCrawled  Price VehicleType  RegistrationYear Gearbox  \\\n",
       "0       2016-03-24 11:52:17    480       sedan              1993  manual   \n",
       "2       2016-03-14 12:52:21   9800         suv              2004    auto   \n",
       "3       2016-03-17 16:54:04   1500       sedan              2001  manual   \n",
       "4       2016-03-31 17:25:20   3600       small              2008  manual   \n",
       "5       2016-04-04 17:36:23    650       sedan              1995  manual   \n",
       "...                     ...    ...         ...               ...     ...   \n",
       "354363  2016-03-27 20:36:20   1150         bus              2000  manual   \n",
       "354364  2016-03-21 09:50:58      0       sedan              2005  manual   \n",
       "354366  2016-03-05 19:56:21   1199       small              2000    auto   \n",
       "354367  2016-03-19 18:57:12   9200         bus              1996  manual   \n",
       "354368  2016-03-20 19:41:08   3400       sedan              2002  manual   \n",
       "\n",
       "        Power        Model  Kilometer  RegistrationMonth  FuelType  \\\n",
       "0           0         golf     150000                  0    petrol   \n",
       "2         163        grand     125000                  8  gasoline   \n",
       "3          75         golf     150000                  6    petrol   \n",
       "4          69        fabia      90000                  7  gasoline   \n",
       "5         102          3er     150000                 10    petrol   \n",
       "...       ...          ...        ...                ...       ...   \n",
       "354363      0       zafira     150000                  3    petrol   \n",
       "354364      0         colt     150000                  7    petrol   \n",
       "354366    101       fortwo     125000                  3    petrol   \n",
       "354367    102  transporter     150000                  3  gasoline   \n",
       "354368    100         golf     150000                  6  gasoline   \n",
       "\n",
       "             Brand NotRepaired          DateCreated  NumberOfPictures  \\\n",
       "0       volkswagen         NaN  2016-03-24 00:00:00                 0   \n",
       "2             jeep         NaN  2016-03-14 00:00:00                 0   \n",
       "3       volkswagen          no  2016-03-17 00:00:00                 0   \n",
       "4            skoda          no  2016-03-31 00:00:00                 0   \n",
       "5              bmw         yes  2016-04-04 00:00:00                 0   \n",
       "...            ...         ...                  ...               ...   \n",
       "354363        opel          no  2016-03-27 00:00:00                 0   \n",
       "354364  mitsubishi         yes  2016-03-21 00:00:00                 0   \n",
       "354366       smart          no  2016-03-05 00:00:00                 0   \n",
       "354367  volkswagen          no  2016-03-19 00:00:00                 0   \n",
       "354368  volkswagen         NaN  2016-03-20 00:00:00                 0   \n",
       "\n",
       "        PostalCode             LastSeen  \n",
       "0            70435  2016-04-07 03:16:57  \n",
       "2            90480  2016-04-05 12:47:46  \n",
       "3            91074  2016-03-17 17:40:17  \n",
       "4            60437  2016-04-06 10:17:21  \n",
       "5            33775  2016-04-06 19:17:07  \n",
       "...            ...                  ...  \n",
       "354363       26624  2016-03-29 10:17:23  \n",
       "354364        2694  2016-03-21 10:42:49  \n",
       "354366       26135  2016-03-11 18:17:12  \n",
       "354367       87439  2016-04-07 07:15:26  \n",
       "354368       40764  2016-03-24 12:45:21  \n",
       "\n",
       "[321855 rows x 16 columns]"
      ]
     },
     "execution_count": 10,
     "metadata": {},
     "output_type": "execute_result"
    }
   ],
   "source": [
    "keys = VehicleType_Model.index\n",
    "values = VehicleType_Model.values\n",
    "dict_ = dict(zip(keys, values))\n",
    "df['VehicleType'] = df['Model']\n",
    "df.replace(to_replace={'VehicleType':dict_}, value = None, inplace = True)\n",
    "df"
   ]
  },
  {
   "cell_type": "markdown",
   "metadata": {},
   "source": [
    "#### \"Тип коробки передач\""
   ]
  },
  {
   "cell_type": "code",
   "execution_count": 11,
   "metadata": {},
   "outputs": [
    {
     "data": {
      "text/plain": [
       "14121"
      ]
     },
     "execution_count": 11,
     "metadata": {},
     "output_type": "execute_result"
    }
   ],
   "source": [
    "df['Gearbox'].isna().sum()"
   ]
  },
  {
   "cell_type": "markdown",
   "metadata": {},
   "source": [
    "Удалим пропуски, так как таких записей около 4%."
   ]
  },
  {
   "cell_type": "code",
   "execution_count": 12,
   "metadata": {},
   "outputs": [
    {
     "name": "stdout",
     "output_type": "stream",
     "text": [
      "<class 'pandas.core.frame.DataFrame'>\n",
      "Int64Index: 307734 entries, 0 to 354368\n",
      "Data columns (total 16 columns):\n",
      " #   Column             Non-Null Count   Dtype \n",
      "---  ------             --------------   ----- \n",
      " 0   DateCrawled        307734 non-null  object\n",
      " 1   Price              307734 non-null  int64 \n",
      " 2   VehicleType        307734 non-null  object\n",
      " 3   RegistrationYear   307734 non-null  int64 \n",
      " 4   Gearbox            307734 non-null  object\n",
      " 5   Power              307734 non-null  int64 \n",
      " 6   Model              307734 non-null  object\n",
      " 7   Kilometer          307734 non-null  int64 \n",
      " 8   RegistrationMonth  307734 non-null  int64 \n",
      " 9   FuelType           291996 non-null  object\n",
      " 10  Brand              307734 non-null  object\n",
      " 11  NotRepaired        259439 non-null  object\n",
      " 12  DateCreated        307734 non-null  object\n",
      " 13  NumberOfPictures   307734 non-null  int64 \n",
      " 14  PostalCode         307734 non-null  int64 \n",
      " 15  LastSeen           307734 non-null  object\n",
      "dtypes: int64(7), object(9)\n",
      "memory usage: 39.9+ MB\n"
     ]
    }
   ],
   "source": [
    "df.dropna(subset = ['Gearbox'], inplace = True)\n",
    "df.info()"
   ]
  },
  {
   "cell_type": "markdown",
   "metadata": {},
   "source": [
    "#### \"Мощность\""
   ]
  },
  {
   "cell_type": "code",
   "execution_count": 13,
   "metadata": {},
   "outputs": [
    {
     "data": {
      "image/png": "[encoded data removed]",
      "text/plain": [
       "<Figure size 432x288 with 1 Axes>"
      ]
     },
     "metadata": {
      "needs_background": "light"
     },
     "output_type": "display_data"
    }
   ],
   "source": [
    "df.plot(kind='hist', y='Power', bins = 100, title='Power', range=(0, 900))\n",
    "plt.show( )"
   ]
  },
  {
   "cell_type": "code",
   "execution_count": 14,
   "metadata": {},
   "outputs": [
    {
     "data": {
      "text/html": [
       "<div>\n",
       "<style scoped>\n",
       "    .dataframe tbody tr th:only-of-type {\n",
       "        vertical-align: middle;\n",
       "    }\n",
       "\n",
       "    .dataframe tbody tr th {\n",
       "        vertical-align: top;\n",
       "    }\n",
       "\n",
       "    .dataframe thead th {\n",
       "        text-align: right;\n",
       "    }\n",
       "</style>\n",
       "<table border=\"1\" class=\"dataframe\">\n",
       "  <thead>\n",
       "    <tr style=\"text-align: right;\">\n",
       "      <th></th>\n",
       "      <th>Power</th>\n",
       "      <th>Model</th>\n",
       "    </tr>\n",
       "  </thead>\n",
       "  <tbody>\n",
       "    <tr>\n",
       "      <th>0</th>\n",
       "      <td>0</td>\n",
       "      <td>golf</td>\n",
       "    </tr>\n",
       "    <tr>\n",
       "      <th>54</th>\n",
       "      <td>0</td>\n",
       "      <td>signum</td>\n",
       "    </tr>\n",
       "    <tr>\n",
       "      <th>55</th>\n",
       "      <td>0</td>\n",
       "      <td>astra</td>\n",
       "    </tr>\n",
       "    <tr>\n",
       "      <th>70</th>\n",
       "      <td>0</td>\n",
       "      <td>polo</td>\n",
       "    </tr>\n",
       "    <tr>\n",
       "      <th>90</th>\n",
       "      <td>0</td>\n",
       "      <td>a4</td>\n",
       "    </tr>\n",
       "    <tr>\n",
       "      <th>...</th>\n",
       "      <td>...</td>\n",
       "      <td>...</td>\n",
       "    </tr>\n",
       "    <tr>\n",
       "      <th>354335</th>\n",
       "      <td>0</td>\n",
       "      <td>corsa</td>\n",
       "    </tr>\n",
       "    <tr>\n",
       "      <th>354336</th>\n",
       "      <td>0</td>\n",
       "      <td>outlander</td>\n",
       "    </tr>\n",
       "    <tr>\n",
       "      <th>354346</th>\n",
       "      <td>0</td>\n",
       "      <td>c_klasse</td>\n",
       "    </tr>\n",
       "    <tr>\n",
       "      <th>354363</th>\n",
       "      <td>0</td>\n",
       "      <td>zafira</td>\n",
       "    </tr>\n",
       "    <tr>\n",
       "      <th>354364</th>\n",
       "      <td>0</td>\n",
       "      <td>colt</td>\n",
       "    </tr>\n",
       "  </tbody>\n",
       "</table>\n",
       "<p>21567 rows × 2 columns</p>\n",
       "</div>"
      ],
      "text/plain": [
       "        Power      Model\n",
       "0           0       golf\n",
       "54          0     signum\n",
       "55          0      astra\n",
       "70          0       polo\n",
       "90          0         a4\n",
       "...       ...        ...\n",
       "354335      0      corsa\n",
       "354336      0  outlander\n",
       "354346      0   c_klasse\n",
       "354363      0     zafira\n",
       "354364      0       colt\n",
       "\n",
       "[21567 rows x 2 columns]"
      ]
     },
     "execution_count": 14,
     "metadata": {},
     "output_type": "execute_result"
    }
   ],
   "source": [
    "df[df['Power']==0][['Power','Model']]"
   ]
  },
  {
   "cell_type": "markdown",
   "metadata": {},
   "source": [
    "Удалим нулевые значения, что составляет 7% от оставшейся базы"
   ]
  },
  {
   "cell_type": "code",
   "execution_count": 15,
   "metadata": {},
   "outputs": [
    {
     "name": "stdout",
     "output_type": "stream",
     "text": [
      "<class 'pandas.core.frame.DataFrame'>\n",
      "Int64Index: 286167 entries, 2 to 354368\n",
      "Data columns (total 16 columns):\n",
      " #   Column             Non-Null Count   Dtype \n",
      "---  ------             --------------   ----- \n",
      " 0   DateCrawled        286167 non-null  object\n",
      " 1   Price              286167 non-null  int64 \n",
      " 2   VehicleType        286167 non-null  object\n",
      " 3   RegistrationYear   286167 non-null  int64 \n",
      " 4   Gearbox            286167 non-null  object\n",
      " 5   Power              286167 non-null  int64 \n",
      " 6   Model              286167 non-null  object\n",
      " 7   Kilometer          286167 non-null  int64 \n",
      " 8   RegistrationMonth  286167 non-null  int64 \n",
      " 9   FuelType           273405 non-null  object\n",
      " 10  Brand              286167 non-null  object\n",
      " 11  NotRepaired        247118 non-null  object\n",
      " 12  DateCreated        286167 non-null  object\n",
      " 13  NumberOfPictures   286167 non-null  int64 \n",
      " 14  PostalCode         286167 non-null  int64 \n",
      " 15  LastSeen           286167 non-null  object\n",
      "dtypes: int64(7), object(9)\n",
      "memory usage: 37.1+ MB\n"
     ]
    }
   ],
   "source": [
    "df = df[df['Power']!=0]\n",
    "df.info()"
   ]
  },
  {
   "cell_type": "markdown",
   "metadata": {},
   "source": [
    "#### \"Пробег\""
   ]
  },
  {
   "cell_type": "code",
   "execution_count": 16,
   "metadata": {},
   "outputs": [
    {
     "data": {
      "image/png": "[encoded data removed]",
      "text/plain": [
       "<Figure size 432x288 with 1 Axes>"
      ]
     },
     "metadata": {
      "needs_background": "light"
     },
     "output_type": "display_data"
    }
   ],
   "source": [
    "df.plot(kind='hist', y='Kilometer', bins = 100, title='Kilometer', range=(0, 200000))\n",
    "plt.show( )"
   ]
  },
  {
   "cell_type": "code",
   "execution_count": 17,
   "metadata": {},
   "outputs": [
    {
     "data": {
      "text/html": [
       "<div>\n",
       "<style scoped>\n",
       "    .dataframe tbody tr th:only-of-type {\n",
       "        vertical-align: middle;\n",
       "    }\n",
       "\n",
       "    .dataframe tbody tr th {\n",
       "        vertical-align: top;\n",
       "    }\n",
       "\n",
       "    .dataframe thead th {\n",
       "        text-align: right;\n",
       "    }\n",
       "</style>\n",
       "<table border=\"1\" class=\"dataframe\">\n",
       "  <thead>\n",
       "    <tr style=\"text-align: right;\">\n",
       "      <th></th>\n",
       "      <th>Kilometer</th>\n",
       "      <th>Model</th>\n",
       "    </tr>\n",
       "  </thead>\n",
       "  <tbody>\n",
       "  </tbody>\n",
       "</table>\n",
       "</div>"
      ],
      "text/plain": [
       "Empty DataFrame\n",
       "Columns: [Kilometer, Model]\n",
       "Index: []"
      ]
     },
     "execution_count": 17,
     "metadata": {},
     "output_type": "execute_result"
    }
   ],
   "source": [
    "df[df['Kilometer']<5000][['Kilometer','Model']]"
   ]
  },
  {
   "cell_type": "code",
   "execution_count": 18,
   "metadata": {},
   "outputs": [
    {
     "data": {
      "text/html": [
       "<div>\n",
       "<style scoped>\n",
       "    .dataframe tbody tr th:only-of-type {\n",
       "        vertical-align: middle;\n",
       "    }\n",
       "\n",
       "    .dataframe tbody tr th {\n",
       "        vertical-align: top;\n",
       "    }\n",
       "\n",
       "    .dataframe thead th {\n",
       "        text-align: right;\n",
       "    }\n",
       "</style>\n",
       "<table border=\"1\" class=\"dataframe\">\n",
       "  <thead>\n",
       "    <tr style=\"text-align: right;\">\n",
       "      <th></th>\n",
       "      <th>Kilometer</th>\n",
       "      <th>Model</th>\n",
       "    </tr>\n",
       "  </thead>\n",
       "  <tbody>\n",
       "  </tbody>\n",
       "</table>\n",
       "</div>"
      ],
      "text/plain": [
       "Empty DataFrame\n",
       "Columns: [Kilometer, Model]\n",
       "Index: []"
      ]
     },
     "execution_count": 18,
     "metadata": {},
     "output_type": "execute_result"
    }
   ],
   "source": [
    "df[df['Kilometer']>150000][['Kilometer','Model']]"
   ]
  },
  {
   "cell_type": "markdown",
   "metadata": {},
   "source": [
    "Явных выбросов нет."
   ]
  },
  {
   "cell_type": "markdown",
   "metadata": {},
   "source": [
    "#### \"Тип топлива\""
   ]
  },
  {
   "cell_type": "code",
   "execution_count": 19,
   "metadata": {},
   "outputs": [
    {
     "data": {
      "text/plain": [
       "array(['gasoline', 'petrol', nan, 'lpg', 'other', 'hybrid', 'cng',\n",
       "       'electric'], dtype=object)"
      ]
     },
     "metadata": {},
     "output_type": "display_data"
    }
   ],
   "source": [
    "display(df['FuelType'].unique())"
   ]
  },
  {
   "cell_type": "markdown",
   "metadata": {},
   "source": [
    "Заменим 'gasoline' на 'petrol'"
   ]
  },
  {
   "cell_type": "code",
   "execution_count": 20,
   "metadata": {},
   "outputs": [
    {
     "data": {
      "text/plain": [
       "array(['petrol', nan, 'lpg', 'other', 'hybrid', 'cng', 'electric'],\n",
       "      dtype=object)"
      ]
     },
     "metadata": {},
     "output_type": "display_data"
    },
    {
     "data": {
      "text/plain": [
       "12762"
      ]
     },
     "metadata": {},
     "output_type": "display_data"
    }
   ],
   "source": [
    "df.replace(to_replace={'FuelType':{'gasoline':'petrol'}}, value = None, inplace = True)\n",
    "display(df['FuelType'].unique())\n",
    "display(df['FuelType'].isna().sum())\n",
    "#display(df[df['FuelType'].isna()])"
   ]
  },
  {
   "cell_type": "markdown",
   "metadata": {},
   "source": [
    "Удалим пропуски, так как это около 4%"
   ]
  },
  {
   "cell_type": "code",
   "execution_count": 21,
   "metadata": {},
   "outputs": [
    {
     "name": "stdout",
     "output_type": "stream",
     "text": [
      "<class 'pandas.core.frame.DataFrame'>\n",
      "Int64Index: 273405 entries, 2 to 354368\n",
      "Data columns (total 16 columns):\n",
      " #   Column             Non-Null Count   Dtype \n",
      "---  ------             --------------   ----- \n",
      " 0   DateCrawled        273405 non-null  object\n",
      " 1   Price              273405 non-null  int64 \n",
      " 2   VehicleType        273405 non-null  object\n",
      " 3   RegistrationYear   273405 non-null  int64 \n",
      " 4   Gearbox            273405 non-null  object\n",
      " 5   Power              273405 non-null  int64 \n",
      " 6   Model              273405 non-null  object\n",
      " 7   Kilometer          273405 non-null  int64 \n",
      " 8   RegistrationMonth  273405 non-null  int64 \n",
      " 9   FuelType           273405 non-null  object\n",
      " 10  Brand              273405 non-null  object\n",
      " 11  NotRepaired        238929 non-null  object\n",
      " 12  DateCreated        273405 non-null  object\n",
      " 13  NumberOfPictures   273405 non-null  int64 \n",
      " 14  PostalCode         273405 non-null  int64 \n",
      " 15  LastSeen           273405 non-null  object\n",
      "dtypes: int64(7), object(9)\n",
      "memory usage: 35.5+ MB\n"
     ]
    }
   ],
   "source": [
    "df.dropna(subset = ['FuelType'], inplace = True)\n",
    "df.info()"
   ]
  },
  {
   "cell_type": "markdown",
   "metadata": {},
   "source": [
    "#### \"Ремонты\""
   ]
  },
  {
   "cell_type": "markdown",
   "metadata": {},
   "source": [
    "Так как пропусков довольно много (12%), то удалять их не стоит. Заменим их на \"no_info\""
   ]
  },
  {
   "cell_type": "code",
   "execution_count": 22,
   "metadata": {},
   "outputs": [
    {
     "data": {
      "text/plain": [
       "array(['no_info', 'no', 'yes'], dtype=object)"
      ]
     },
     "execution_count": 22,
     "metadata": {},
     "output_type": "execute_result"
    }
   ],
   "source": [
    "df['NotRepaired'] = df['NotRepaired'].fillna('no_info')\n",
    "df['NotRepaired'].unique()"
   ]
  },
  {
   "cell_type": "markdown",
   "metadata": {},
   "source": [
    "#### \"Цена\"\n",
    "Посмотрим разбег целевого признака"
   ]
  },
  {
   "cell_type": "code",
   "execution_count": 23,
   "metadata": {},
   "outputs": [
    {
     "data": {
      "text/plain": [
       "count    273405.000000\n",
       "mean       4938.896531\n",
       "std        4659.262963\n",
       "min           0.000000\n",
       "25%        1375.000000\n",
       "50%        3300.000000\n",
       "75%        7190.000000\n",
       "max       20000.000000\n",
       "Name: Price, dtype: float64"
      ]
     },
     "execution_count": 23,
     "metadata": {},
     "output_type": "execute_result"
    }
   ],
   "source": [
    "df['Price'].describe()"
   ]
  },
  {
   "cell_type": "markdown",
   "metadata": {},
   "source": [
    "## Обучение моделей"
   ]
  },
  {
   "cell_type": "markdown",
   "metadata": {},
   "source": [
    "### Подготовка признаков"
   ]
  },
  {
   "cell_type": "markdown",
   "metadata": {},
   "source": [
    "В признаки для обучения включим столбцы, кроме целевого и столбцов, которые не влияют на цену 'DateCrawled', 'RegistrationMonth', 'DateCreated', 'NumberOfPictures', 'PostalCode', 'LastSeen'."
   ]
  },
  {
   "cell_type": "code",
   "execution_count": 24,
   "metadata": {},
   "outputs": [
    {
     "data": {
      "text/plain": [
       "Index(['VehicleType', 'RegistrationYear', 'Gearbox', 'Power', 'Model',\n",
       "       'Kilometer', 'FuelType', 'Brand', 'NotRepaired'],\n",
       "      dtype='object')"
      ]
     },
     "execution_count": 24,
     "metadata": {},
     "output_type": "execute_result"
    }
   ],
   "source": [
    "X = df.drop(['Price', 'DateCrawled', 'RegistrationMonth', 'DateCreated', 'NumberOfPictures', 'PostalCode', 'LastSeen'], axis=1)\n",
    "Y = df['Price']\n",
    "X.columns"
   ]
  },
  {
   "cell_type": "code",
   "execution_count": 25,
   "metadata": {},
   "outputs": [
    {
     "data": {
      "text/html": [
       "<div>\n",
       "<style scoped>\n",
       "    .dataframe tbody tr th:only-of-type {\n",
       "        vertical-align: middle;\n",
       "    }\n",
       "\n",
       "    .dataframe tbody tr th {\n",
       "        vertical-align: top;\n",
       "    }\n",
       "\n",
       "    .dataframe thead th {\n",
       "        text-align: right;\n",
       "    }\n",
       "</style>\n",
       "<table border=\"1\" class=\"dataframe\">\n",
       "  <thead>\n",
       "    <tr style=\"text-align: right;\">\n",
       "      <th></th>\n",
       "      <th>VehicleType</th>\n",
       "      <th>RegistrationYear</th>\n",
       "      <th>Gearbox</th>\n",
       "      <th>Power</th>\n",
       "      <th>Model</th>\n",
       "      <th>Kilometer</th>\n",
       "      <th>FuelType</th>\n",
       "      <th>Brand</th>\n",
       "      <th>NotRepaired</th>\n",
       "    </tr>\n",
       "  </thead>\n",
       "  <tbody>\n",
       "    <tr>\n",
       "      <th>0</th>\n",
       "      <td>sedan</td>\n",
       "      <td>2001</td>\n",
       "      <td>manual</td>\n",
       "      <td>192</td>\n",
       "      <td>3er</td>\n",
       "      <td>150000</td>\n",
       "      <td>petrol</td>\n",
       "      <td>bmw</td>\n",
       "      <td>no</td>\n",
       "    </tr>\n",
       "    <tr>\n",
       "      <th>1</th>\n",
       "      <td>sedan</td>\n",
       "      <td>2004</td>\n",
       "      <td>manual</td>\n",
       "      <td>105</td>\n",
       "      <td>golf</td>\n",
       "      <td>125000</td>\n",
       "      <td>petrol</td>\n",
       "      <td>volkswagen</td>\n",
       "      <td>no_info</td>\n",
       "    </tr>\n",
       "    <tr>\n",
       "      <th>2</th>\n",
       "      <td>sedan</td>\n",
       "      <td>2010</td>\n",
       "      <td>manual</td>\n",
       "      <td>102</td>\n",
       "      <td>a3</td>\n",
       "      <td>90000</td>\n",
       "      <td>petrol</td>\n",
       "      <td>audi</td>\n",
       "      <td>no</td>\n",
       "    </tr>\n",
       "    <tr>\n",
       "      <th>3</th>\n",
       "      <td>wagon</td>\n",
       "      <td>2005</td>\n",
       "      <td>auto</td>\n",
       "      <td>224</td>\n",
       "      <td>a6</td>\n",
       "      <td>150000</td>\n",
       "      <td>petrol</td>\n",
       "      <td>audi</td>\n",
       "      <td>no</td>\n",
       "    </tr>\n",
       "    <tr>\n",
       "      <th>4</th>\n",
       "      <td>sedan</td>\n",
       "      <td>2012</td>\n",
       "      <td>manual</td>\n",
       "      <td>140</td>\n",
       "      <td>a3</td>\n",
       "      <td>90000</td>\n",
       "      <td>petrol</td>\n",
       "      <td>audi</td>\n",
       "      <td>no</td>\n",
       "    </tr>\n",
       "    <tr>\n",
       "      <th>...</th>\n",
       "      <td>...</td>\n",
       "      <td>...</td>\n",
       "      <td>...</td>\n",
       "      <td>...</td>\n",
       "      <td>...</td>\n",
       "      <td>...</td>\n",
       "      <td>...</td>\n",
       "      <td>...</td>\n",
       "      <td>...</td>\n",
       "    </tr>\n",
       "    <tr>\n",
       "      <th>68347</th>\n",
       "      <td>sedan</td>\n",
       "      <td>1999</td>\n",
       "      <td>manual</td>\n",
       "      <td>105</td>\n",
       "      <td>3er</td>\n",
       "      <td>150000</td>\n",
       "      <td>petrol</td>\n",
       "      <td>bmw</td>\n",
       "      <td>no</td>\n",
       "    </tr>\n",
       "    <tr>\n",
       "      <th>68348</th>\n",
       "      <td>sedan</td>\n",
       "      <td>1993</td>\n",
       "      <td>manual</td>\n",
       "      <td>75</td>\n",
       "      <td>other</td>\n",
       "      <td>100000</td>\n",
       "      <td>petrol</td>\n",
       "      <td>renault</td>\n",
       "      <td>no</td>\n",
       "    </tr>\n",
       "    <tr>\n",
       "      <th>68349</th>\n",
       "      <td>sedan</td>\n",
       "      <td>1998</td>\n",
       "      <td>auto</td>\n",
       "      <td>170</td>\n",
       "      <td>e_klasse</td>\n",
       "      <td>150000</td>\n",
       "      <td>petrol</td>\n",
       "      <td>mercedes_benz</td>\n",
       "      <td>no</td>\n",
       "    </tr>\n",
       "    <tr>\n",
       "      <th>68350</th>\n",
       "      <td>sedan</td>\n",
       "      <td>1993</td>\n",
       "      <td>auto</td>\n",
       "      <td>75</td>\n",
       "      <td>golf</td>\n",
       "      <td>125000</td>\n",
       "      <td>petrol</td>\n",
       "      <td>volkswagen</td>\n",
       "      <td>no</td>\n",
       "    </tr>\n",
       "    <tr>\n",
       "      <th>68351</th>\n",
       "      <td>sedan</td>\n",
       "      <td>2003</td>\n",
       "      <td>manual</td>\n",
       "      <td>170</td>\n",
       "      <td>3er</td>\n",
       "      <td>150000</td>\n",
       "      <td>petrol</td>\n",
       "      <td>bmw</td>\n",
       "      <td>no</td>\n",
       "    </tr>\n",
       "  </tbody>\n",
       "</table>\n",
       "<p>68352 rows × 9 columns</p>\n",
       "</div>"
      ],
      "text/plain": [
       "      VehicleType  RegistrationYear Gearbox  Power     Model  Kilometer  \\\n",
       "0           sedan              2001  manual    192       3er     150000   \n",
       "1           sedan              2004  manual    105      golf     125000   \n",
       "2           sedan              2010  manual    102        a3      90000   \n",
       "3           wagon              2005    auto    224        a6     150000   \n",
       "4           sedan              2012  manual    140        a3      90000   \n",
       "...           ...               ...     ...    ...       ...        ...   \n",
       "68347       sedan              1999  manual    105       3er     150000   \n",
       "68348       sedan              1993  manual     75     other     100000   \n",
       "68349       sedan              1998    auto    170  e_klasse     150000   \n",
       "68350       sedan              1993    auto     75      golf     125000   \n",
       "68351       sedan              2003  manual    170       3er     150000   \n",
       "\n",
       "      FuelType          Brand NotRepaired  \n",
       "0       petrol            bmw          no  \n",
       "1       petrol     volkswagen     no_info  \n",
       "2       petrol           audi          no  \n",
       "3       petrol           audi          no  \n",
       "4       petrol           audi          no  \n",
       "...        ...            ...         ...  \n",
       "68347   petrol            bmw          no  \n",
       "68348   petrol        renault          no  \n",
       "68349   petrol  mercedes_benz          no  \n",
       "68350   petrol     volkswagen          no  \n",
       "68351   petrol            bmw          no  \n",
       "\n",
       "[68352 rows x 9 columns]"
      ]
     },
     "execution_count": 25,
     "metadata": {},
     "output_type": "execute_result"
    }
   ],
   "source": [
    "X_train, X_validation, Y_train, Y_validation = train_test_split(X, Y, train_size=0.75, random_state=RANDOM_STATE)\n",
    "X_train.reset_index(drop=True, inplace=True)\n",
    "X_validation.reset_index(drop=True, inplace=True)\n",
    "Y_train.reset_index(drop=True, inplace=True)\n",
    "Y_validation.reset_index(drop=True, inplace=True)\n",
    "X_validation"
   ]
  },
  {
   "cell_type": "markdown",
   "metadata": {},
   "source": [
    "### Параметры моделей\n",
    "Зададим общие границы подбора параметров для всех моделей, а также количество корзин для кросс-валидации"
   ]
  },
  {
   "cell_type": "code",
   "execution_count": 26,
   "metadata": {},
   "outputs": [],
   "source": [
    "ESTIMATORS = range (50, 151, 50)\n",
    "DEPTH = range (2, 12, 2)\n",
    "CV = 3"
   ]
  },
  {
   "cell_type": "markdown",
   "metadata": {},
   "source": [
    "### Catboost"
   ]
  },
  {
   "cell_type": "code",
   "execution_count": 27,
   "metadata": {},
   "outputs": [],
   "source": [
    "cat_features = [0,2,4,6,7,8]"
   ]
  },
  {
   "cell_type": "code",
   "execution_count": 28,
   "metadata": {},
   "outputs": [],
   "source": [
    "model = CatBoostRegressor(random_state = RANDOM_STATE, cat_features = cat_features)"
   ]
  },
  {
   "cell_type": "code",
   "execution_count": 29,
   "metadata": {},
   "outputs": [
    {
     "name": "stdout",
     "output_type": "stream",
     "text": [
      "Time elapsed (hh:mm:ss.ms) 0:05:37.450472\n",
      " Results from Grid Search \n",
      "\n",
      " The best score across ALL searched params:\n",
      " 1712.8125099775316\n",
      "\n",
      " The best parameters across ALL searched params:\n",
      " {'depth': 10, 'n_estimators': 150}\n",
      "CPU times: user 4min 44s, sys: 2.56 s, total: 4min 46s\n",
      "Wall time: 5min 37s\n"
     ]
    }
   ],
   "source": [
    "%%time\n",
    "\n",
    "parameters = {'n_estimators': ESTIMATORS,\n",
    "          'depth':  DEPTH\n",
    "       }\n",
    "\n",
    "start_time = datetime.now()\n",
    "gsearch_cat_boost = GridSearchCV(estimator=CatBoostRegressor(), param_grid = parameters, scoring = 'neg_root_mean_squared_error', cv = CV,\n",
    "          verbose=False, n_jobs = -1)\n",
    "gsearch_cat_boost.fit(X_train, Y_train, cat_features=cat_features,verbose=False)\n",
    "cat_boost_time_fit = datetime.now() - start_time\n",
    "\n",
    "print('Time elapsed (hh:mm:ss.ms) {}'.format(cat_boost_time_fit))\n",
    "print(\" Results from Grid Search \" )\n",
    "print(\"\\n The best score across ALL searched params:\\n\", -gsearch_cat_boost.best_score_)\n",
    "print(\"\\n The best parameters across ALL searched params:\\n\", gsearch_cat_boost.best_params_)"
   ]
  },
  {
   "cell_type": "code",
   "execution_count": 30,
   "metadata": {
    "scrolled": true
   },
   "outputs": [
    {
     "name": "stdout",
     "output_type": "stream",
     "text": [
      "Time elapsed (hh:mm:ss.ms) 0:00:00.145006\n"
     ]
    }
   ],
   "source": [
    "start_time = datetime.now()\n",
    "Y_pred = gsearch_cat_boost.predict(X_validation)\n",
    "cat_boost_time_predict = datetime.now() - start_time\n",
    "\n",
    "print('Time elapsed (hh:mm:ss.ms) {}'.format(cat_boost_time_predict))"
   ]
  },
  {
   "cell_type": "code",
   "execution_count": 31,
   "metadata": {},
   "outputs": [
    {
     "name": "stdout",
     "output_type": "stream",
     "text": [
      "RMSE 1701.3064847395483\n"
     ]
    }
   ],
   "source": [
    "RMSE_catboost = mean_squared_error(Y_validation, Y_pred, squared = False)\n",
    "print('RMSE', RMSE_catboost)"
   ]
  },
  {
   "cell_type": "markdown",
   "metadata": {},
   "source": [
    "### LightGBM"
   ]
  },
  {
   "cell_type": "markdown",
   "metadata": {},
   "source": [
    "Для LightGBM категориальные признаки нужно представить в виде целых чисел"
   ]
  },
  {
   "cell_type": "code",
   "execution_count": 32,
   "metadata": {},
   "outputs": [
    {
     "data": {
      "text/html": [
       "<div>\n",
       "<style scoped>\n",
       "    .dataframe tbody tr th:only-of-type {\n",
       "        vertical-align: middle;\n",
       "    }\n",
       "\n",
       "    .dataframe tbody tr th {\n",
       "        vertical-align: top;\n",
       "    }\n",
       "\n",
       "    .dataframe thead th {\n",
       "        text-align: right;\n",
       "    }\n",
       "</style>\n",
       "<table border=\"1\" class=\"dataframe\">\n",
       "  <thead>\n",
       "    <tr style=\"text-align: right;\">\n",
       "      <th></th>\n",
       "      <th>VehicleType</th>\n",
       "      <th>RegistrationYear</th>\n",
       "      <th>Gearbox</th>\n",
       "      <th>Model</th>\n",
       "      <th>FuelType</th>\n",
       "      <th>Brand</th>\n",
       "      <th>NotRepaired</th>\n",
       "    </tr>\n",
       "  </thead>\n",
       "  <tbody>\n",
       "    <tr>\n",
       "      <th>0</th>\n",
       "      <td>4.0</td>\n",
       "      <td>40.0</td>\n",
       "      <td>1.0</td>\n",
       "      <td>11.0</td>\n",
       "      <td>5.0</td>\n",
       "      <td>2.0</td>\n",
       "      <td>0.0</td>\n",
       "    </tr>\n",
       "    <tr>\n",
       "      <th>1</th>\n",
       "      <td>4.0</td>\n",
       "      <td>43.0</td>\n",
       "      <td>1.0</td>\n",
       "      <td>115.0</td>\n",
       "      <td>5.0</td>\n",
       "      <td>37.0</td>\n",
       "      <td>1.0</td>\n",
       "    </tr>\n",
       "    <tr>\n",
       "      <th>2</th>\n",
       "      <td>4.0</td>\n",
       "      <td>49.0</td>\n",
       "      <td>1.0</td>\n",
       "      <td>28.0</td>\n",
       "      <td>5.0</td>\n",
       "      <td>1.0</td>\n",
       "      <td>0.0</td>\n",
       "    </tr>\n",
       "    <tr>\n",
       "      <th>3</th>\n",
       "      <td>7.0</td>\n",
       "      <td>44.0</td>\n",
       "      <td>0.0</td>\n",
       "      <td>31.0</td>\n",
       "      <td>5.0</td>\n",
       "      <td>1.0</td>\n",
       "      <td>0.0</td>\n",
       "    </tr>\n",
       "    <tr>\n",
       "      <th>4</th>\n",
       "      <td>4.0</td>\n",
       "      <td>51.0</td>\n",
       "      <td>1.0</td>\n",
       "      <td>28.0</td>\n",
       "      <td>5.0</td>\n",
       "      <td>1.0</td>\n",
       "      <td>0.0</td>\n",
       "    </tr>\n",
       "    <tr>\n",
       "      <th>...</th>\n",
       "      <td>...</td>\n",
       "      <td>...</td>\n",
       "      <td>...</td>\n",
       "      <td>...</td>\n",
       "      <td>...</td>\n",
       "      <td>...</td>\n",
       "      <td>...</td>\n",
       "    </tr>\n",
       "    <tr>\n",
       "      <th>68347</th>\n",
       "      <td>4.0</td>\n",
       "      <td>38.0</td>\n",
       "      <td>1.0</td>\n",
       "      <td>11.0</td>\n",
       "      <td>5.0</td>\n",
       "      <td>2.0</td>\n",
       "      <td>0.0</td>\n",
       "    </tr>\n",
       "    <tr>\n",
       "      <th>68348</th>\n",
       "      <td>4.0</td>\n",
       "      <td>32.0</td>\n",
       "      <td>1.0</td>\n",
       "      <td>164.0</td>\n",
       "      <td>5.0</td>\n",
       "      <td>27.0</td>\n",
       "      <td>0.0</td>\n",
       "    </tr>\n",
       "    <tr>\n",
       "      <th>68349</th>\n",
       "      <td>4.0</td>\n",
       "      <td>37.0</td>\n",
       "      <td>0.0</td>\n",
       "      <td>95.0</td>\n",
       "      <td>5.0</td>\n",
       "      <td>20.0</td>\n",
       "      <td>0.0</td>\n",
       "    </tr>\n",
       "    <tr>\n",
       "      <th>68350</th>\n",
       "      <td>4.0</td>\n",
       "      <td>32.0</td>\n",
       "      <td>0.0</td>\n",
       "      <td>115.0</td>\n",
       "      <td>5.0</td>\n",
       "      <td>37.0</td>\n",
       "      <td>0.0</td>\n",
       "    </tr>\n",
       "    <tr>\n",
       "      <th>68351</th>\n",
       "      <td>4.0</td>\n",
       "      <td>42.0</td>\n",
       "      <td>1.0</td>\n",
       "      <td>11.0</td>\n",
       "      <td>5.0</td>\n",
       "      <td>2.0</td>\n",
       "      <td>0.0</td>\n",
       "    </tr>\n",
       "  </tbody>\n",
       "</table>\n",
       "<p>68352 rows × 7 columns</p>\n",
       "</div>"
      ],
      "text/plain": [
       "       VehicleType  RegistrationYear  Gearbox  Model  FuelType  Brand  \\\n",
       "0              4.0              40.0      1.0   11.0       5.0    2.0   \n",
       "1              4.0              43.0      1.0  115.0       5.0   37.0   \n",
       "2              4.0              49.0      1.0   28.0       5.0    1.0   \n",
       "3              7.0              44.0      0.0   31.0       5.0    1.0   \n",
       "4              4.0              51.0      1.0   28.0       5.0    1.0   \n",
       "...            ...               ...      ...    ...       ...    ...   \n",
       "68347          4.0              38.0      1.0   11.0       5.0    2.0   \n",
       "68348          4.0              32.0      1.0  164.0       5.0   27.0   \n",
       "68349          4.0              37.0      0.0   95.0       5.0   20.0   \n",
       "68350          4.0              32.0      0.0  115.0       5.0   37.0   \n",
       "68351          4.0              42.0      1.0   11.0       5.0    2.0   \n",
       "\n",
       "       NotRepaired  \n",
       "0              0.0  \n",
       "1              1.0  \n",
       "2              0.0  \n",
       "3              0.0  \n",
       "4              0.0  \n",
       "...            ...  \n",
       "68347          0.0  \n",
       "68348          0.0  \n",
       "68349          0.0  \n",
       "68350          0.0  \n",
       "68351          0.0  \n",
       "\n",
       "[68352 rows x 7 columns]"
      ]
     },
     "execution_count": 32,
     "metadata": {},
     "output_type": "execute_result"
    }
   ],
   "source": [
    "encoder = OrdinalEncoder()\n",
    "X_train_ordinal = pd.DataFrame(encoder.fit_transform(X_train[['VehicleType', 'RegistrationYear', 'Gearbox', 'Model', \n",
    "        'FuelType', 'Brand', 'NotRepaired']]),\n",
    "                            columns=['VehicleType', 'RegistrationYear', 'Gearbox', 'Model', \n",
    "        'FuelType', 'Brand', 'NotRepaired'])\n",
    "X_validation_ordinal = pd.DataFrame(encoder.fit_transform(X_validation[['VehicleType', 'RegistrationYear', 'Gearbox', 'Model', \n",
    "        'FuelType', 'Brand', 'NotRepaired']]),\n",
    "                            columns=['VehicleType', 'RegistrationYear', 'Gearbox',  'Model', \n",
    "       'FuelType', 'Brand', 'NotRepaired'])\n",
    "X_validation_ordinal"
   ]
  },
  {
   "cell_type": "markdown",
   "metadata": {},
   "source": [
    "Заменим количественные признаки 'Kilometer','Power' в X_train_ordinal и X_validation_ordinal на данные до кодировки"
   ]
  },
  {
   "cell_type": "code",
   "execution_count": 33,
   "metadata": {
    "scrolled": true
   },
   "outputs": [
    {
     "data": {
      "text/html": [
       "<div>\n",
       "<style scoped>\n",
       "    .dataframe tbody tr th:only-of-type {\n",
       "        vertical-align: middle;\n",
       "    }\n",
       "\n",
       "    .dataframe tbody tr th {\n",
       "        vertical-align: top;\n",
       "    }\n",
       "\n",
       "    .dataframe thead th {\n",
       "        text-align: right;\n",
       "    }\n",
       "</style>\n",
       "<table border=\"1\" class=\"dataframe\">\n",
       "  <thead>\n",
       "    <tr style=\"text-align: right;\">\n",
       "      <th></th>\n",
       "      <th>VehicleType</th>\n",
       "      <th>RegistrationYear</th>\n",
       "      <th>Gearbox</th>\n",
       "      <th>Model</th>\n",
       "      <th>FuelType</th>\n",
       "      <th>Brand</th>\n",
       "      <th>NotRepaired</th>\n",
       "      <th>Kilometer</th>\n",
       "      <th>Power</th>\n",
       "    </tr>\n",
       "  </thead>\n",
       "  <tbody>\n",
       "    <tr>\n",
       "      <th>0</th>\n",
       "      <td>4.0</td>\n",
       "      <td>40.0</td>\n",
       "      <td>1.0</td>\n",
       "      <td>11.0</td>\n",
       "      <td>5.0</td>\n",
       "      <td>2.0</td>\n",
       "      <td>0.0</td>\n",
       "      <td>150000</td>\n",
       "      <td>192</td>\n",
       "    </tr>\n",
       "    <tr>\n",
       "      <th>1</th>\n",
       "      <td>4.0</td>\n",
       "      <td>43.0</td>\n",
       "      <td>1.0</td>\n",
       "      <td>115.0</td>\n",
       "      <td>5.0</td>\n",
       "      <td>37.0</td>\n",
       "      <td>1.0</td>\n",
       "      <td>125000</td>\n",
       "      <td>105</td>\n",
       "    </tr>\n",
       "    <tr>\n",
       "      <th>2</th>\n",
       "      <td>4.0</td>\n",
       "      <td>49.0</td>\n",
       "      <td>1.0</td>\n",
       "      <td>28.0</td>\n",
       "      <td>5.0</td>\n",
       "      <td>1.0</td>\n",
       "      <td>0.0</td>\n",
       "      <td>90000</td>\n",
       "      <td>102</td>\n",
       "    </tr>\n",
       "    <tr>\n",
       "      <th>3</th>\n",
       "      <td>7.0</td>\n",
       "      <td>44.0</td>\n",
       "      <td>0.0</td>\n",
       "      <td>31.0</td>\n",
       "      <td>5.0</td>\n",
       "      <td>1.0</td>\n",
       "      <td>0.0</td>\n",
       "      <td>150000</td>\n",
       "      <td>224</td>\n",
       "    </tr>\n",
       "    <tr>\n",
       "      <th>4</th>\n",
       "      <td>4.0</td>\n",
       "      <td>51.0</td>\n",
       "      <td>1.0</td>\n",
       "      <td>28.0</td>\n",
       "      <td>5.0</td>\n",
       "      <td>1.0</td>\n",
       "      <td>0.0</td>\n",
       "      <td>90000</td>\n",
       "      <td>140</td>\n",
       "    </tr>\n",
       "    <tr>\n",
       "      <th>...</th>\n",
       "      <td>...</td>\n",
       "      <td>...</td>\n",
       "      <td>...</td>\n",
       "      <td>...</td>\n",
       "      <td>...</td>\n",
       "      <td>...</td>\n",
       "      <td>...</td>\n",
       "      <td>...</td>\n",
       "      <td>...</td>\n",
       "    </tr>\n",
       "    <tr>\n",
       "      <th>68347</th>\n",
       "      <td>4.0</td>\n",
       "      <td>38.0</td>\n",
       "      <td>1.0</td>\n",
       "      <td>11.0</td>\n",
       "      <td>5.0</td>\n",
       "      <td>2.0</td>\n",
       "      <td>0.0</td>\n",
       "      <td>150000</td>\n",
       "      <td>105</td>\n",
       "    </tr>\n",
       "    <tr>\n",
       "      <th>68348</th>\n",
       "      <td>4.0</td>\n",
       "      <td>32.0</td>\n",
       "      <td>1.0</td>\n",
       "      <td>164.0</td>\n",
       "      <td>5.0</td>\n",
       "      <td>27.0</td>\n",
       "      <td>0.0</td>\n",
       "      <td>100000</td>\n",
       "      <td>75</td>\n",
       "    </tr>\n",
       "    <tr>\n",
       "      <th>68349</th>\n",
       "      <td>4.0</td>\n",
       "      <td>37.0</td>\n",
       "      <td>0.0</td>\n",
       "      <td>95.0</td>\n",
       "      <td>5.0</td>\n",
       "      <td>20.0</td>\n",
       "      <td>0.0</td>\n",
       "      <td>150000</td>\n",
       "      <td>170</td>\n",
       "    </tr>\n",
       "    <tr>\n",
       "      <th>68350</th>\n",
       "      <td>4.0</td>\n",
       "      <td>32.0</td>\n",
       "      <td>0.0</td>\n",
       "      <td>115.0</td>\n",
       "      <td>5.0</td>\n",
       "      <td>37.0</td>\n",
       "      <td>0.0</td>\n",
       "      <td>125000</td>\n",
       "      <td>75</td>\n",
       "    </tr>\n",
       "    <tr>\n",
       "      <th>68351</th>\n",
       "      <td>4.0</td>\n",
       "      <td>42.0</td>\n",
       "      <td>1.0</td>\n",
       "      <td>11.0</td>\n",
       "      <td>5.0</td>\n",
       "      <td>2.0</td>\n",
       "      <td>0.0</td>\n",
       "      <td>150000</td>\n",
       "      <td>170</td>\n",
       "    </tr>\n",
       "  </tbody>\n",
       "</table>\n",
       "<p>68352 rows × 9 columns</p>\n",
       "</div>"
      ],
      "text/plain": [
       "       VehicleType  RegistrationYear  Gearbox  Model  FuelType  Brand  \\\n",
       "0              4.0              40.0      1.0   11.0       5.0    2.0   \n",
       "1              4.0              43.0      1.0  115.0       5.0   37.0   \n",
       "2              4.0              49.0      1.0   28.0       5.0    1.0   \n",
       "3              7.0              44.0      0.0   31.0       5.0    1.0   \n",
       "4              4.0              51.0      1.0   28.0       5.0    1.0   \n",
       "...            ...               ...      ...    ...       ...    ...   \n",
       "68347          4.0              38.0      1.0   11.0       5.0    2.0   \n",
       "68348          4.0              32.0      1.0  164.0       5.0   27.0   \n",
       "68349          4.0              37.0      0.0   95.0       5.0   20.0   \n",
       "68350          4.0              32.0      0.0  115.0       5.0   37.0   \n",
       "68351          4.0              42.0      1.0   11.0       5.0    2.0   \n",
       "\n",
       "       NotRepaired  Kilometer  Power  \n",
       "0              0.0     150000    192  \n",
       "1              1.0     125000    105  \n",
       "2              0.0      90000    102  \n",
       "3              0.0     150000    224  \n",
       "4              0.0      90000    140  \n",
       "...            ...        ...    ...  \n",
       "68347          0.0     150000    105  \n",
       "68348          0.0     100000     75  \n",
       "68349          0.0     150000    170  \n",
       "68350          0.0     125000     75  \n",
       "68351          0.0     150000    170  \n",
       "\n",
       "[68352 rows x 9 columns]"
      ]
     },
     "execution_count": 33,
     "metadata": {},
     "output_type": "execute_result"
    }
   ],
   "source": [
    "X_train_ordinal['Kilometer'] = X_train['Kilometer']\n",
    "X_train_ordinal['Power'] = X_train['Power']\n",
    "X_validation_ordinal['Kilometer'] = X_validation['Kilometer']\n",
    "X_validation_ordinal['Power'] = X_validation['Power']\n",
    "X_validation_ordinal"
   ]
  },
  {
   "cell_type": "code",
   "execution_count": null,
   "metadata": {
    "scrolled": true
   },
   "outputs": [
    {
     "name": "stdout",
     "output_type": "stream",
     "text": [
      "Fitting 3 folds for each of 15 candidates, totalling 45 fits\n",
      "[CV 1/3; 1/15] START boosting=gbdt, max_depth=2, num_iterations=50, task=predict\n",
      "[LightGBM] [Warning] boosting is set=gbdt, boosting_type=11 will be ignored. Current value: boosting=gbdt\n",
      "[LightGBM] [Warning] Met categorical feature which contains sparse values. Consider renumbering to consecutive integers started from zero\n",
      "[CV 1/3; 1/15] END boosting=gbdt, max_depth=2, num_iterations=50, task=predict; total time=  24.2s\n",
      "[CV 2/3; 1/15] START boosting=gbdt, max_depth=2, num_iterations=50, task=predict\n",
      "[LightGBM] [Warning] boosting is set=gbdt, boosting_type=11 will be ignored. Current value: boosting=gbdt\n",
      "[LightGBM] [Warning] Met categorical feature which contains sparse values. Consider renumbering to consecutive integers started from zero\n",
      "[CV 2/3; 1/15] END boosting=gbdt, max_depth=2, num_iterations=50, task=predict; total time=  23.8s\n",
      "[CV 3/3; 1/15] START boosting=gbdt, max_depth=2, num_iterations=50, task=predict\n",
      "[LightGBM] [Warning] boosting is set=gbdt, boosting_type=11 will be ignored. Current value: boosting=gbdt\n",
      "[LightGBM] [Warning] Met categorical feature which contains sparse values. Consider renumbering to consecutive integers started from zero\n",
      "[CV 3/3; 1/15] END boosting=gbdt, max_depth=2, num_iterations=50, task=predict; total time=  27.9s\n",
      "[CV 1/3; 2/15] START boosting=gbdt, max_depth=2, num_iterations=100, task=predict\n",
      "[LightGBM] [Warning] boosting is set=gbdt, boosting_type=11 will be ignored. Current value: boosting=gbdt\n",
      "[LightGBM] [Warning] Met categorical feature which contains sparse values. Consider renumbering to consecutive integers started from zero\n",
      "[CV 1/3; 2/15] END boosting=gbdt, max_depth=2, num_iterations=100, task=predict; total time=  46.2s\n",
      "[CV 2/3; 2/15] START boosting=gbdt, max_depth=2, num_iterations=100, task=predict\n",
      "[LightGBM] [Warning] boosting is set=gbdt, boosting_type=11 will be ignored. Current value: boosting=gbdt\n",
      "[LightGBM] [Warning] Met categorical feature which contains sparse values. Consider renumbering to consecutive integers started from zero\n",
      "[CV 2/3; 2/15] END boosting=gbdt, max_depth=2, num_iterations=100, task=predict; total time=  46.1s\n",
      "[CV 3/3; 2/15] START boosting=gbdt, max_depth=2, num_iterations=100, task=predict\n",
      "[LightGBM] [Warning] boosting is set=gbdt, boosting_type=11 will be ignored. Current value: boosting=gbdt\n",
      "[LightGBM] [Warning] Met categorical feature which contains sparse values. Consider renumbering to consecutive integers started from zero\n",
      "[CV 3/3; 2/15] END boosting=gbdt, max_depth=2, num_iterations=100, task=predict; total time=  49.9s\n",
      "[CV 1/3; 3/15] START boosting=gbdt, max_depth=2, num_iterations=150, task=predict\n",
      "[LightGBM] [Warning] boosting is set=gbdt, boosting_type=11 will be ignored. Current value: boosting=gbdt\n",
      "[LightGBM] [Warning] Met categorical feature which contains sparse values. Consider renumbering to consecutive integers started from zero\n",
      "[CV 1/3; 3/15] END boosting=gbdt, max_depth=2, num_iterations=150, task=predict; total time= 1.3min\n",
      "[CV 2/3; 3/15] START boosting=gbdt, max_depth=2, num_iterations=150, task=predict\n",
      "[LightGBM] [Warning] boosting is set=gbdt, boosting_type=11 will be ignored. Current value: boosting=gbdt\n",
      "[LightGBM] [Warning] Met categorical feature which contains sparse values. Consider renumbering to consecutive integers started from zero\n",
      "[CV 2/3; 3/15] END boosting=gbdt, max_depth=2, num_iterations=150, task=predict; total time= 1.1min\n",
      "[CV 3/3; 3/15] START boosting=gbdt, max_depth=2, num_iterations=150, task=predict\n",
      "[LightGBM] [Warning] boosting is set=gbdt, boosting_type=11 will be ignored. Current value: boosting=gbdt\n",
      "[LightGBM] [Warning] Met categorical feature which contains sparse values. Consider renumbering to consecutive integers started from zero\n",
      "[CV 3/3; 3/15] END boosting=gbdt, max_depth=2, num_iterations=150, task=predict; total time= 1.3min\n",
      "[CV 1/3; 4/15] START boosting=gbdt, max_depth=4, num_iterations=50, task=predict\n",
      "[LightGBM] [Warning] boosting is set=gbdt, boosting_type=11 will be ignored. Current value: boosting=gbdt\n",
      "[LightGBM] [Warning] Met categorical feature which contains sparse values. Consider renumbering to consecutive integers started from zero\n",
      "[CV 1/3; 4/15] END boosting=gbdt, max_depth=4, num_iterations=50, task=predict; total time= 1.6min\n",
      "[CV 2/3; 4/15] START boosting=gbdt, max_depth=4, num_iterations=50, task=predict\n",
      "[LightGBM] [Warning] boosting is set=gbdt, boosting_type=11 will be ignored. Current value: boosting=gbdt\n",
      "[LightGBM] [Warning] Met categorical feature which contains sparse values. Consider renumbering to consecutive integers started from zero\n",
      "[CV 2/3; 4/15] END boosting=gbdt, max_depth=4, num_iterations=50, task=predict; total time= 1.3min\n",
      "[CV 3/3; 4/15] START boosting=gbdt, max_depth=4, num_iterations=50, task=predict\n",
      "[LightGBM] [Warning] boosting is set=gbdt, boosting_type=11 will be ignored. Current value: boosting=gbdt\n",
      "[LightGBM] [Warning] Met categorical feature which contains sparse values. Consider renumbering to consecutive integers started from zero\n",
      "[CV 3/3; 4/15] END boosting=gbdt, max_depth=4, num_iterations=50, task=predict; total time= 1.3min\n",
      "[CV 1/3; 5/15] START boosting=gbdt, max_depth=4, num_iterations=100, task=predict\n",
      "[LightGBM] [Warning] boosting is set=gbdt, boosting_type=11 will be ignored. Current value: boosting=gbdt\n",
      "[LightGBM] [Warning] Met categorical feature which contains sparse values. Consider renumbering to consecutive integers started from zero\n",
      "[CV 1/3; 5/15] END boosting=gbdt, max_depth=4, num_iterations=100, task=predict; total time= 2.6min\n",
      "[CV 2/3; 5/15] START boosting=gbdt, max_depth=4, num_iterations=100, task=predict\n",
      "[LightGBM] [Warning] boosting is set=gbdt, boosting_type=11 will be ignored. Current value: boosting=gbdt\n",
      "[CV 2/3; 5/15] END boosting=gbdt, max_depth=4, num_iterations=100, task=predict; total time= 2.4min\n",
      "[CV 3/3; 5/15] START boosting=gbdt, max_depth=4, num_iterations=100, task=predict\n",
      "[LightGBM] [Warning] boosting is set=gbdt, boosting_type=11 will be ignored. Current value: boosting=gbdt\n",
      "[LightGBM] [Warning] Met categorical feature which contains sparse values. Consider renumbering to consecutive integers started from zero\n",
      "[CV 3/3; 5/15] END boosting=gbdt, max_depth=4, num_iterations=100, task=predict; total time= 2.6min\n",
      "[CV 1/3; 6/15] START boosting=gbdt, max_depth=4, num_iterations=150, task=predict\n",
      "[LightGBM] [Warning] boosting is set=gbdt, boosting_type=11 will be ignored. Current value: boosting=gbdt\n",
      "[LightGBM] [Warning] Met categorical feature which contains sparse values. Consider renumbering to consecutive integers started from zero\n",
      "[CV 1/3; 6/15] END boosting=gbdt, max_depth=4, num_iterations=150, task=predict; total time= 3.8min\n",
      "[CV 2/3; 6/15] START boosting=gbdt, max_depth=4, num_iterations=150, task=predict\n",
      "[LightGBM] [Warning] boosting is set=gbdt, boosting_type=11 will be ignored. Current value: boosting=gbdt\n",
      "[LightGBM] [Warning] Met categorical feature which contains sparse values. Consider renumbering to consecutive integers started from zero\n",
      "[CV 2/3; 6/15] END boosting=gbdt, max_depth=4, num_iterations=150, task=predict; total time= 3.9min\n",
      "[CV 3/3; 6/15] START boosting=gbdt, max_depth=4, num_iterations=150, task=predict\n",
      "[LightGBM] [Warning] boosting is set=gbdt, boosting_type=11 will be ignored. Current value: boosting=gbdt\n",
      "[LightGBM] [Warning] Met categorical feature which contains sparse values. Consider renumbering to consecutive integers started from zero\n",
      "[CV 3/3; 6/15] END boosting=gbdt, max_depth=4, num_iterations=150, task=predict; total time= 3.9min\n",
      "[CV 1/3; 7/15] START boosting=gbdt, max_depth=6, num_iterations=50, task=predict\n",
      "[LightGBM] [Warning] boosting is set=gbdt, boosting_type=11 will be ignored. Current value: boosting=gbdt\n",
      "[LightGBM] [Warning] Met categorical feature which contains sparse values. Consider renumbering to consecutive integers started from zero\n",
      "[CV 1/3; 7/15] END boosting=gbdt, max_depth=6, num_iterations=50, task=predict; total time= 2.7min\n",
      "[CV 2/3; 7/15] START boosting=gbdt, max_depth=6, num_iterations=50, task=predict\n",
      "[LightGBM] [Warning] boosting is set=gbdt, boosting_type=11 will be ignored. Current value: boosting=gbdt\n",
      "[LightGBM] [Warning] Met categorical feature which contains sparse values. Consider renumbering to consecutive integers started from zero\n",
      "[CV 2/3; 7/15] END boosting=gbdt, max_depth=6, num_iterations=50, task=predict; total time= 2.3min\n",
      "[CV 3/3; 7/15] START boosting=gbdt, max_depth=6, num_iterations=50, task=predict\n",
      "[LightGBM] [Warning] boosting is set=gbdt, boosting_type=11 will be ignored. Current value: boosting=gbdt\n",
      "[LightGBM] [Warning] Met categorical feature which contains sparse values. Consider renumbering to consecutive integers started from zero\n",
      "[CV 3/3; 7/15] END boosting=gbdt, max_depth=6, num_iterations=50, task=predict; total time= 2.5min\n",
      "[CV 1/3; 8/15] START boosting=gbdt, max_depth=6, num_iterations=100, task=predict\n",
      "[LightGBM] [Warning] boosting is set=gbdt, boosting_type=11 will be ignored. Current value: boosting=gbdt\n",
      "[LightGBM] [Warning] Met categorical feature which contains sparse values. Consider renumbering to consecutive integers started from zero\n",
      "[CV 1/3; 8/15] END boosting=gbdt, max_depth=6, num_iterations=100, task=predict; total time= 5.1min\n",
      "[CV 2/3; 8/15] START boosting=gbdt, max_depth=6, num_iterations=100, task=predict\n",
      "[LightGBM] [Warning] boosting is set=gbdt, boosting_type=11 will be ignored. Current value: boosting=gbdt\n",
      "[LightGBM] [Warning] Met categorical feature which contains sparse values. Consider renumbering to consecutive integers started from zero\n",
      "[CV 2/3; 8/15] END boosting=gbdt, max_depth=6, num_iterations=100, task=predict; total time= 7.0min\n",
      "[CV 3/3; 8/15] START boosting=gbdt, max_depth=6, num_iterations=100, task=predict\n",
      "[LightGBM] [Warning] boosting is set=gbdt, boosting_type=11 will be ignored. Current value: boosting=gbdt\n",
      "[LightGBM] [Warning] Met categorical feature which contains sparse values. Consider renumbering to consecutive integers started from zero\n",
      "[CV 3/3; 8/15] END boosting=gbdt, max_depth=6, num_iterations=100, task=predict; total time= 5.3min\n",
      "[CV 1/3; 9/15] START boosting=gbdt, max_depth=6, num_iterations=150, task=predict\n",
      "[LightGBM] [Warning] boosting is set=gbdt, boosting_type=11 will be ignored. Current value: boosting=gbdt\n",
      "[LightGBM] [Warning] Met categorical feature which contains sparse values. Consider renumbering to consecutive integers started from zero\n",
      "[CV 1/3; 9/15] END boosting=gbdt, max_depth=6, num_iterations=150, task=predict; total time= 8.4min\n",
      "[CV 2/3; 9/15] START boosting=gbdt, max_depth=6, num_iterations=150, task=predict\n",
      "[LightGBM] [Warning] boosting is set=gbdt, boosting_type=11 will be ignored. Current value: boosting=gbdt\n",
      "[LightGBM] [Warning] Met categorical feature which contains sparse values. Consider renumbering to consecutive integers started from zero\n",
      "[CV 2/3; 9/15] END boosting=gbdt, max_depth=6, num_iterations=150, task=predict; total time= 8.5min\n",
      "[CV 3/3; 9/15] START boosting=gbdt, max_depth=6, num_iterations=150, task=predict\n",
      "[LightGBM] [Warning] boosting is set=gbdt, boosting_type=11 will be ignored. Current value: boosting=gbdt\n",
      "[LightGBM] [Warning] Met categorical feature which contains sparse values. Consider renumbering to consecutive integers started from zero\n",
      "[CV 3/3; 9/15] END boosting=gbdt, max_depth=6, num_iterations=150, task=predict; total time= 9.2min\n",
      "[CV 1/3; 10/15] START boosting=gbdt, max_depth=8, num_iterations=50, task=predict\n",
      "[LightGBM] [Warning] boosting is set=gbdt, boosting_type=11 will be ignored. Current value: boosting=gbdt\n",
      "[LightGBM] [Warning] Met categorical feature which contains sparse values. Consider renumbering to consecutive integers started from zero\n",
      "[CV 1/3; 10/15] END boosting=gbdt, max_depth=8, num_iterations=50, task=predict; total time= 3.3min\n",
      "[CV 2/3; 10/15] START boosting=gbdt, max_depth=8, num_iterations=50, task=predict\n",
      "[LightGBM] [Warning] boosting is set=gbdt, boosting_type=11 will be ignored. Current value: boosting=gbdt\n",
      "[LightGBM] [Warning] Met categorical feature which contains sparse values. Consider renumbering to consecutive integers started from zero\n",
      "[CV 2/3; 10/15] END boosting=gbdt, max_depth=8, num_iterations=50, task=predict; total time= 3.3min\n",
      "[CV 3/3; 10/15] START boosting=gbdt, max_depth=8, num_iterations=50, task=predict\n",
      "[LightGBM] [Warning] boosting is set=gbdt, boosting_type=11 will be ignored. Current value: boosting=gbdt\n",
      "[CV 3/3; 10/15] END boosting=gbdt, max_depth=8, num_iterations=50, task=predict; total time= 3.3min\n",
      "[CV 1/3; 11/15] START boosting=gbdt, max_depth=8, num_iterations=100, task=predict\n",
      "[LightGBM] [Warning] boosting is set=gbdt, boosting_type=11 will be ignored. Current value: boosting=gbdt\n",
      "[LightGBM] [Warning] Met categorical feature which contains sparse values. Consider renumbering to consecutive integers started from zero\n",
      "[CV 1/3; 11/15] END boosting=gbdt, max_depth=8, num_iterations=100, task=predict; total time= 6.1min\n",
      "[CV 2/3; 11/15] START boosting=gbdt, max_depth=8, num_iterations=100, task=predict\n",
      "[LightGBM] [Warning] boosting is set=gbdt, boosting_type=11 will be ignored. Current value: boosting=gbdt\n",
      "[LightGBM] [Warning] Met categorical feature which contains sparse values. Consider renumbering to consecutive integers started from zero\n",
      "[CV 2/3; 11/15] END boosting=gbdt, max_depth=8, num_iterations=100, task=predict; total time= 7.9min\n",
      "[CV 3/3; 11/15] START boosting=gbdt, max_depth=8, num_iterations=100, task=predict\n",
      "[LightGBM] [Warning] boosting is set=gbdt, boosting_type=11 will be ignored. Current value: boosting=gbdt\n",
      "[LightGBM] [Warning] Met categorical feature which contains sparse values. Consider renumbering to consecutive integers started from zero\n",
      "[CV 3/3; 11/15] END boosting=gbdt, max_depth=8, num_iterations=100, task=predict; total time= 6.7min\n",
      "[CV 1/3; 12/15] START boosting=gbdt, max_depth=8, num_iterations=150, task=predict\n",
      "[LightGBM] [Warning] boosting is set=gbdt, boosting_type=11 will be ignored. Current value: boosting=gbdt\n",
      "[LightGBM] [Warning] Met categorical feature which contains sparse values. Consider renumbering to consecutive integers started from zero\n",
      "[CV 1/3; 12/15] END boosting=gbdt, max_depth=8, num_iterations=150, task=predict; total time= 9.7min\n",
      "[CV 2/3; 12/15] START boosting=gbdt, max_depth=8, num_iterations=150, task=predict\n",
      "[LightGBM] [Warning] boosting is set=gbdt, boosting_type=11 will be ignored. Current value: boosting=gbdt\n",
      "[LightGBM] [Warning] Met categorical feature which contains sparse values. Consider renumbering to consecutive integers started from zero\n"
     ]
    }
   ],
   "source": [
    "%%time\n",
    "\n",
    "lgb_model = lgb.LGBMRegressor(RANDOM_STATE)\n",
    "parameters = {\n",
    "    'task': ['predict'],\n",
    "    'boosting': ['gbdt' ],\n",
    "    'num_iterations': ESTIMATORS,\n",
    "   'max_depth':DEPTH\n",
    "}\n",
    "\n",
    "start_time = datetime.now()\n",
    "gsearch_lgb = GridSearchCV(estimator=lgb_model, param_grid = parameters, n_jobs=-1, verbose=10, cv = CV)\n",
    "gsearch_lgb.fit(X_train_ordinal ,Y_train, eval_metric='neg_root_mean_squared_error', categorical_feature= cat_features)\n",
    "lgbm_time_fit = datetime.now() - start_time\n",
    "\n",
    "print('Time elapsed (hh:mm:ss.ms) {}'.format(lgbm_time_fit))\n",
    "print(\" Results from Grid Search \" )\n",
    "print(\"\\n The best score across ALL searched params:\\n\", gsearch_lgb.best_score_)\n",
    "print(\"\\n The best parameters across ALL searched params:\\n\", gsearch_lgb.best_params_)"
   ]
  },
  {
   "cell_type": "code",
   "execution_count": 57,
   "metadata": {},
   "outputs": [
    {
     "name": "stdout",
     "output_type": "stream",
     "text": [
      "Time elapsed (hh:mm:ss.ms) 0:00:01.007419\n"
     ]
    }
   ],
   "source": [
    "start_time = datetime.now()\n",
    "Y_pred = gsearch_lgb.predict(X_validation_ordinal)\n",
    "lgbm_time_predict = datetime.now() - start_time\n",
    "\n",
    "print('Time elapsed (hh:mm:ss.ms) {}'.format(lgbm_time_predict))"
   ]
  },
  {
   "cell_type": "code",
   "execution_count": 58,
   "metadata": {},
   "outputs": [
    {
     "name": "stdout",
     "output_type": "stream",
     "text": [
      "RMSE 1808.6426408997224\n"
     ]
    }
   ],
   "source": [
    "RMSE_lgbm = mean_squared_error(Y_validation, Y_pred)**0.5\n",
    "print('RMSE', RMSE_lgbm)"
   ]
  },
  {
   "cell_type": "markdown",
   "metadata": {},
   "source": [
    "### RandomForestRegressor"
   ]
  },
  {
   "cell_type": "code",
   "execution_count": 59,
   "metadata": {},
   "outputs": [],
   "source": [
    "forrest_model = RandomForestRegressor(random_state=RANDOM_STATE)"
   ]
  },
  {
   "cell_type": "code",
   "execution_count": 60,
   "metadata": {},
   "outputs": [
    {
     "name": "stdout",
     "output_type": "stream",
     "text": [
      "Time elapsed (hh:mm:ss.ms) 0:07:46.910971\n",
      " Results from Grid Search \n",
      "\n",
      " The best score across ALL searched params:\n",
      " 1951.0175247058708\n",
      "\n",
      " The best parameters across ALL searched params:\n",
      " {'max_depth': 10, 'n_estimators': 150}\n",
      "CPU times: user 7min 46s, sys: 241 ms, total: 7min 46s\n",
      "Wall time: 7min 46s\n"
     ]
    }
   ],
   "source": [
    "%%time\n",
    "\n",
    "parameters = {'n_estimators': ESTIMATORS,\n",
    "          'max_depth': DEPTH\n",
    "       }\n",
    "\n",
    "start_time = datetime.now()\n",
    "gsearch_forrest = GridSearchCV(estimator=forrest_model, param_grid = parameters, cv = CV,\n",
    "          verbose=False,scoring = 'neg_root_mean_squared_error', n_jobs = -1)\n",
    "gsearch_forrest.fit(X_train_ordinal, Y_train)\n",
    "forrest_time_fit = datetime.now() - start_time\n",
    "\n",
    "print('Time elapsed (hh:mm:ss.ms) {}'.format(forrest_time_fit))\n",
    "print(\" Results from Grid Search \" )\n",
    "print(\"\\n The best score across ALL searched params:\\n\", -gsearch_forrest.best_score_)\n",
    "print(\"\\n The best parameters across ALL searched params:\\n\", gsearch_forrest.best_params_)"
   ]
  },
  {
   "cell_type": "code",
   "execution_count": 61,
   "metadata": {},
   "outputs": [
    {
     "name": "stdout",
     "output_type": "stream",
     "text": [
      "Time elapsed (hh:mm:ss.ms) 0:00:00.840985\n"
     ]
    }
   ],
   "source": [
    "start_time = datetime.now()\n",
    "Y_pred = gsearch_forrest.predict(X_validation_ordinal)\n",
    "forrest_time_predict = datetime.now() - start_time\n",
    "print('Time elapsed (hh:mm:ss.ms) {}'.format(forrest_time_predict))"
   ]
  },
  {
   "cell_type": "code",
   "execution_count": 62,
   "metadata": {},
   "outputs": [
    {
     "name": "stdout",
     "output_type": "stream",
     "text": [
      "RMSE 2001.2094491117498\n"
     ]
    }
   ],
   "source": [
    "RMSE_forrest = mean_squared_error(Y_validation, Y_pred)**0.5\n",
    "print('RMSE', RMSE_forrest)"
   ]
  },
  {
   "cell_type": "markdown",
   "metadata": {},
   "source": [
    "## Анализ моделей"
   ]
  },
  {
   "cell_type": "markdown",
   "metadata": {},
   "source": [
    "### Качество предсказаний.\n",
    "Рассчитаем RMSE для простой модели, предсказывающей среднее значение."
   ]
  },
  {
   "cell_type": "code",
   "execution_count": 63,
   "metadata": {},
   "outputs": [
    {
     "name": "stdout",
     "output_type": "stream",
     "text": [
      "RMSE 4681.673619404378\n"
     ]
    }
   ],
   "source": [
    "dummy_regr = DummyRegressor(strategy=\"mean\")\n",
    "dummy_regr.fit(X_train_ordinal, Y_train)\n",
    "Y_pred = dummy_regr.predict(X_validation_ordinal)\n",
    "print('RMSE', mean_squared_error(Y_validation, Y_pred)**0.5)"
   ]
  },
  {
   "cell_type": "markdown",
   "metadata": {},
   "source": [
    "Сравним с RMSE моделей"
   ]
  },
  {
   "cell_type": "code",
   "execution_count": 64,
   "metadata": {},
   "outputs": [
    {
     "name": "stdout",
     "output_type": "stream",
     "text": [
      "RandomForestRegressor: 2001.2094491117498\n",
      "LGBM: 1808.6426408997224\n",
      "CatBoost: 1701.3064847395483\n"
     ]
    }
   ],
   "source": [
    "print ('RandomForestRegressor:', RMSE_forrest)\n",
    "print ('LGBM:', RMSE_lgbm)\n",
    "print ('CatBoost:', RMSE_catboost)"
   ]
  },
  {
   "cell_type": "markdown",
   "metadata": {},
   "source": [
    "Наилучшее качество модели у CatBoost, что гораздо лучше, чем у других моделей. Результат много лучше, чем у dummy-модели."
   ]
  },
  {
   "cell_type": "markdown",
   "metadata": {},
   "source": [
    "### Скорость обучения моделей"
   ]
  },
  {
   "cell_type": "code",
   "execution_count": 80,
   "metadata": {},
   "outputs": [
    {
     "data": {
      "text/plain": [
       "[1701.3064847395483, 1808.6426408997224, 2001.2094491117498]"
      ]
     },
     "execution_count": 80,
     "metadata": {},
     "output_type": "execute_result"
    }
   ],
   "source": [
    "time_fit=[cat_boost_time_fit, lgbm_time_fit, forrest_time_fit]\n",
    "time_predict=[cat_boost_time_predict, lgbm_time_predict, forrest_time_predict]\n",
    "RMSE_list = [RMSE_catboost, RMSE_lgbm, RMSE_forrest]"
   ]
  },
  {
   "cell_type": "code",
   "execution_count": 83,
   "metadata": {},
   "outputs": [
    {
     "data": {
      "text/html": [
       "<div>\n",
       "<style scoped>\n",
       "    .dataframe tbody tr th:only-of-type {\n",
       "        vertical-align: middle;\n",
       "    }\n",
       "\n",
       "    .dataframe tbody tr th {\n",
       "        vertical-align: top;\n",
       "    }\n",
       "\n",
       "    .dataframe thead th {\n",
       "        text-align: right;\n",
       "    }\n",
       "</style>\n",
       "<table border=\"1\" class=\"dataframe\">\n",
       "  <thead>\n",
       "    <tr style=\"text-align: right;\">\n",
       "      <th></th>\n",
       "      <th>CatBoost</th>\n",
       "      <th>LightGBM</th>\n",
       "      <th>RandomForrest</th>\n",
       "    </tr>\n",
       "  </thead>\n",
       "  <tbody>\n",
       "    <tr>\n",
       "      <th>Качество предсказания</th>\n",
       "      <td>1701.306485</td>\n",
       "      <td>1808.642641</td>\n",
       "      <td>2001.209449</td>\n",
       "    </tr>\n",
       "    <tr>\n",
       "      <th>Время предсказания</th>\n",
       "      <td>0:00:00.115723</td>\n",
       "      <td>0:00:01.007419</td>\n",
       "      <td>0:00:00.840985</td>\n",
       "    </tr>\n",
       "    <tr>\n",
       "      <th>Время обучения</th>\n",
       "      <td>0:04:36.354676</td>\n",
       "      <td>0:03:22.342134</td>\n",
       "      <td>0:07:46.910971</td>\n",
       "    </tr>\n",
       "  </tbody>\n",
       "</table>\n",
       "</div>"
      ],
      "text/plain": [
       "                             CatBoost        LightGBM   RandomForrest\n",
       "Качество предсказания     1701.306485     1808.642641     2001.209449\n",
       "Время предсказания     0:00:00.115723  0:00:01.007419  0:00:00.840985\n",
       "Время обучения         0:04:36.354676  0:03:22.342134  0:07:46.910971"
      ]
     },
     "execution_count": 83,
     "metadata": {},
     "output_type": "execute_result"
    }
   ],
   "source": [
    "models = ['CatBoost', 'LightGBM', 'RandomForrest']\n",
    "s = np.array([RMSE_list, time_predict,time_fit])\n",
    "results = pd.DataFrame(s, index = ['Качество предсказания', 'Время предсказания', 'Время обучения'], columns = models )\n",
    "results"
   ]
  },
  {
   "cell_type": "markdown",
   "metadata": {},
   "source": [
    "# Вывод\n",
    "Качество предсказания и время предсказания наилучшие у CatBoost. Время обучения - у LGBM. Однако нужно учитывать, что для LGBM и RandomForestRegressor требуется кодирование категориальных признаков, а CatBoost делает это сам.\n",
    "Таким образом, рекомендуемая модель - CatBoost."
   ]
  }
 ],
 "metadata": {
  "ExecuteTimeLog": [
   {
    "duration": 402,
    "start_time": "2022-04-26T19:09:06.792Z"
   },
   {
    "duration": 66,
    "start_time": "2022-04-26T19:09:10.227Z"
   },
   {
    "duration": 998,
    "start_time": "2022-04-26T19:09:19.993Z"
   },
   {
    "duration": 1000,
    "start_time": "2022-04-26T19:39:15.914Z"
   },
   {
    "duration": 143,
    "start_time": "2022-04-26T19:51:53.851Z"
   },
   {
    "duration": 2,
    "start_time": "2022-04-26T19:55:27.408Z"
   },
   {
    "duration": 1020,
    "start_time": "2022-04-26T19:55:27.414Z"
   },
   {
    "duration": 11,
    "start_time": "2022-04-26T19:55:44.506Z"
   },
   {
    "duration": 1995,
    "start_time": "2022-04-26T19:56:00.878Z"
   },
   {
    "duration": 232,
    "start_time": "2022-04-26T19:56:28.234Z"
   },
   {
    "duration": 2686,
    "start_time": "2022-04-26T19:58:33.543Z"
   },
   {
    "duration": 12,
    "start_time": "2022-04-26T19:58:50.259Z"
   },
   {
    "duration": 227,
    "start_time": "2022-04-26T19:59:24.613Z"
   },
   {
    "duration": 201,
    "start_time": "2022-04-26T19:59:45.409Z"
   },
   {
    "duration": 241,
    "start_time": "2022-04-26T20:25:05.276Z"
   },
   {
    "duration": 137,
    "start_time": "2022-04-26T20:28:03.459Z"
   },
   {
    "duration": 9,
    "start_time": "2022-04-26T20:45:45.072Z"
   },
   {
    "duration": 6,
    "start_time": "2022-04-26T20:45:50.467Z"
   },
   {
    "duration": 7,
    "start_time": "2022-04-26T20:46:17.491Z"
   },
   {
    "duration": 12,
    "start_time": "2022-04-26T20:49:09.849Z"
   },
   {
    "duration": 10,
    "start_time": "2022-04-26T20:49:42.103Z"
   },
   {
    "duration": 10,
    "start_time": "2022-04-26T20:49:48.120Z"
   },
   {
    "duration": 50,
    "start_time": "2022-04-26T20:50:03.427Z"
   },
   {
    "duration": 49,
    "start_time": "2022-04-27T19:52:56.619Z"
   },
   {
    "duration": 386,
    "start_time": "2022-04-27T19:53:03.008Z"
   },
   {
    "duration": 1017,
    "start_time": "2022-04-27T19:53:03.396Z"
   },
   {
    "duration": 369,
    "start_time": "2022-04-27T19:53:04.415Z"
   },
   {
    "duration": 138,
    "start_time": "2022-04-27T19:53:04.786Z"
   },
   {
    "duration": 65,
    "start_time": "2022-04-27T19:53:04.926Z"
   },
   {
    "duration": 30,
    "start_time": "2022-04-27T19:53:04.992Z"
   },
   {
    "duration": 8,
    "start_time": "2022-04-27T19:53:08.903Z"
   },
   {
    "duration": 837,
    "start_time": "2022-04-27T19:53:43.732Z"
   },
   {
    "duration": 420,
    "start_time": "2022-04-27T20:04:32.039Z"
   },
   {
    "duration": 175,
    "start_time": "2022-04-27T20:05:46.892Z"
   },
   {
    "duration": 4,
    "start_time": "2022-04-27T20:06:47.900Z"
   },
   {
    "duration": 997,
    "start_time": "2022-04-27T20:06:47.906Z"
   },
   {
    "duration": 342,
    "start_time": "2022-04-27T20:06:48.905Z"
   },
   {
    "duration": 159,
    "start_time": "2022-04-27T20:06:49.249Z"
   },
   {
    "duration": 155,
    "start_time": "2022-04-27T20:07:30.529Z"
   },
   {
    "duration": 342,
    "start_time": "2022-04-27T20:07:46.463Z"
   },
   {
    "duration": 753,
    "start_time": "2022-04-27T20:19:24.040Z"
   },
   {
    "duration": 1871,
    "start_time": "2022-04-27T20:26:45.840Z"
   },
   {
    "duration": 1855,
    "start_time": "2022-04-27T20:28:26.711Z"
   },
   {
    "duration": 47,
    "start_time": "2022-04-27T20:30:01.612Z"
   },
   {
    "duration": 1850,
    "start_time": "2022-04-27T20:31:31.668Z"
   },
   {
    "duration": 31,
    "start_time": "2022-04-27T20:31:44.963Z"
   },
   {
    "duration": 3,
    "start_time": "2022-04-27T20:32:08.710Z"
   },
   {
    "duration": 934,
    "start_time": "2022-04-27T20:32:08.715Z"
   },
   {
    "duration": 335,
    "start_time": "2022-04-27T20:32:09.651Z"
   },
   {
    "duration": 131,
    "start_time": "2022-04-27T20:32:09.988Z"
   },
   {
    "duration": 164,
    "start_time": "2022-04-27T20:32:10.121Z"
   },
   {
    "duration": 33,
    "start_time": "2022-04-27T20:32:18.250Z"
   },
   {
    "duration": 1814,
    "start_time": "2022-04-27T20:33:50.883Z"
   },
   {
    "duration": 2064,
    "start_time": "2022-04-27T20:40:26.402Z"
   },
   {
    "duration": 2236,
    "start_time": "2022-04-27T20:43:04.444Z"
   },
   {
    "duration": 2205,
    "start_time": "2022-04-27T20:43:13.211Z"
   },
   {
    "duration": 9,
    "start_time": "2022-04-27T20:43:34.098Z"
   },
   {
    "duration": 2130,
    "start_time": "2022-04-27T20:43:43.027Z"
   },
   {
    "duration": 32,
    "start_time": "2022-04-27T20:43:57.319Z"
   },
   {
    "duration": 8,
    "start_time": "2022-04-27T20:53:48.729Z"
   },
   {
    "duration": 13,
    "start_time": "2022-04-27T20:55:05.394Z"
   },
   {
    "duration": 5,
    "start_time": "2022-04-27T20:55:17.567Z"
   },
   {
    "duration": 5,
    "start_time": "2022-04-27T20:55:45.234Z"
   },
   {
    "duration": 8,
    "start_time": "2022-04-27T20:56:00.019Z"
   },
   {
    "duration": 25,
    "start_time": "2022-04-27T20:57:44.244Z"
   },
   {
    "duration": 28,
    "start_time": "2022-04-27T20:57:56.573Z"
   },
   {
    "duration": 1124,
    "start_time": "2022-04-30T05:32:38.559Z"
   },
   {
    "duration": 55,
    "start_time": "2022-04-30T05:40:03.303Z"
   },
   {
    "duration": 1014,
    "start_time": "2022-04-30T05:40:03.360Z"
   },
   {
    "duration": 392,
    "start_time": "2022-04-30T05:40:04.376Z"
   },
   {
    "duration": 115,
    "start_time": "2022-04-30T05:40:04.770Z"
   },
   {
    "duration": 0,
    "start_time": "2022-04-30T05:40:04.887Z"
   },
   {
    "duration": 0,
    "start_time": "2022-04-30T05:40:04.888Z"
   },
   {
    "duration": 0,
    "start_time": "2022-04-30T05:40:04.889Z"
   },
   {
    "duration": 0,
    "start_time": "2022-04-30T05:40:04.890Z"
   },
   {
    "duration": 0,
    "start_time": "2022-04-30T05:40:04.891Z"
   },
   {
    "duration": 10,
    "start_time": "2022-04-30T05:40:23.860Z"
   },
   {
    "duration": 7,
    "start_time": "2022-04-30T05:40:38.652Z"
   },
   {
    "duration": 4,
    "start_time": "2022-04-30T05:40:57.843Z"
   },
   {
    "duration": 4,
    "start_time": "2022-04-30T05:41:02.935Z"
   },
   {
    "duration": 5,
    "start_time": "2022-04-30T05:41:14.531Z"
   },
   {
    "duration": 9,
    "start_time": "2022-04-30T05:41:40.235Z"
   },
   {
    "duration": 5,
    "start_time": "2022-04-30T05:41:57.011Z"
   },
   {
    "duration": 9,
    "start_time": "2022-04-30T05:42:14.411Z"
   },
   {
    "duration": 4,
    "start_time": "2022-04-30T05:42:21.731Z"
   },
   {
    "duration": 4,
    "start_time": "2022-04-30T05:46:30.636Z"
   },
   {
    "duration": 929,
    "start_time": "2022-04-30T05:46:30.642Z"
   },
   {
    "duration": 302,
    "start_time": "2022-04-30T05:46:31.573Z"
   },
   {
    "duration": 3,
    "start_time": "2022-04-30T05:46:31.877Z"
   },
   {
    "duration": 144,
    "start_time": "2022-04-30T05:46:31.883Z"
   },
   {
    "duration": 160,
    "start_time": "2022-04-30T05:46:32.029Z"
   },
   {
    "duration": 94,
    "start_time": "2022-04-30T05:46:32.190Z"
   },
   {
    "duration": 86,
    "start_time": "2022-04-30T05:46:32.286Z"
   },
   {
    "duration": 104,
    "start_time": "2022-04-30T05:46:32.373Z"
   },
   {
    "duration": 8,
    "start_time": "2022-04-30T05:48:19.369Z"
   },
   {
    "duration": 9,
    "start_time": "2022-04-30T05:48:43.448Z"
   },
   {
    "duration": 2,
    "start_time": "2022-04-30T05:48:58.723Z"
   },
   {
    "duration": 1156,
    "start_time": "2022-04-30T05:49:17.054Z"
   },
   {
    "duration": 1026,
    "start_time": "2022-04-30T05:49:18.212Z"
   },
   {
    "duration": 384,
    "start_time": "2022-04-30T05:49:19.239Z"
   },
   {
    "duration": 3,
    "start_time": "2022-04-30T05:49:19.625Z"
   },
   {
    "duration": 137,
    "start_time": "2022-04-30T05:49:19.630Z"
   },
   {
    "duration": 183,
    "start_time": "2022-04-30T05:49:19.769Z"
   },
   {
    "duration": 92,
    "start_time": "2022-04-30T05:49:19.954Z"
   },
   {
    "duration": 3,
    "start_time": "2022-04-30T05:49:20.047Z"
   },
   {
    "duration": 91,
    "start_time": "2022-04-30T05:49:20.051Z"
   },
   {
    "duration": 111,
    "start_time": "2022-04-30T05:49:20.145Z"
   },
   {
    "duration": 3,
    "start_time": "2022-04-30T05:49:20.258Z"
   },
   {
    "duration": 130,
    "start_time": "2022-04-30T05:49:20.262Z"
   },
   {
    "duration": 5,
    "start_time": "2022-04-30T05:49:58.665Z"
   },
   {
    "duration": 9,
    "start_time": "2022-04-30T06:14:33.970Z"
   },
   {
    "duration": 27,
    "start_time": "2022-04-30T06:16:27.720Z"
   },
   {
    "duration": 5,
    "start_time": "2022-04-30T06:18:28.100Z"
   },
   {
    "duration": 10,
    "start_time": "2022-04-30T06:20:08.809Z"
   },
   {
    "duration": 9,
    "start_time": "2022-04-30T06:20:13.329Z"
   },
   {
    "duration": 5,
    "start_time": "2022-04-30T06:20:27.705Z"
   },
   {
    "duration": 6,
    "start_time": "2022-04-30T06:21:13.945Z"
   },
   {
    "duration": 9,
    "start_time": "2022-04-30T06:21:26.553Z"
   },
   {
    "duration": 4,
    "start_time": "2022-04-30T06:21:32.434Z"
   },
   {
    "duration": 19,
    "start_time": "2022-04-30T06:21:45.522Z"
   },
   {
    "duration": 5,
    "start_time": "2022-04-30T06:22:34.882Z"
   },
   {
    "duration": 4,
    "start_time": "2022-04-30T06:22:43.377Z"
   },
   {
    "duration": 5,
    "start_time": "2022-04-30T06:22:53.096Z"
   },
   {
    "duration": 19,
    "start_time": "2022-04-30T06:22:58.504Z"
   },
   {
    "duration": 9,
    "start_time": "2022-04-30T06:25:37.672Z"
   },
   {
    "duration": 9,
    "start_time": "2022-04-30T06:26:08.193Z"
   },
   {
    "duration": 9,
    "start_time": "2022-04-30T06:26:13.504Z"
   },
   {
    "duration": 5,
    "start_time": "2022-04-30T06:26:18.888Z"
   },
   {
    "duration": 4,
    "start_time": "2022-04-30T06:26:36.136Z"
   },
   {
    "duration": 60,
    "start_time": "2022-04-30T06:26:44.264Z"
   },
   {
    "duration": 10,
    "start_time": "2022-04-30T06:27:27.289Z"
   },
   {
    "duration": 4,
    "start_time": "2022-04-30T06:27:32.393Z"
   },
   {
    "duration": 5,
    "start_time": "2022-04-30T06:28:52.318Z"
   },
   {
    "duration": 22,
    "start_time": "2022-04-30T06:29:01.009Z"
   },
   {
    "duration": 9,
    "start_time": "2022-04-30T06:29:59.328Z"
   },
   {
    "duration": 5,
    "start_time": "2022-04-30T06:30:03.703Z"
   },
   {
    "duration": 4,
    "start_time": "2022-04-30T06:30:10.575Z"
   },
   {
    "duration": 4,
    "start_time": "2022-04-30T06:30:16.896Z"
   },
   {
    "duration": 4,
    "start_time": "2022-04-30T06:30:24.479Z"
   },
   {
    "duration": 10,
    "start_time": "2022-04-30T06:30:29.215Z"
   },
   {
    "duration": 4,
    "start_time": "2022-04-30T06:30:32.272Z"
   },
   {
    "duration": 3372,
    "start_time": "2022-04-30T06:30:37.813Z"
   },
   {
    "duration": 6,
    "start_time": "2022-04-30T06:31:22.071Z"
   },
   {
    "duration": 5,
    "start_time": "2022-04-30T06:31:42.967Z"
   },
   {
    "duration": 5,
    "start_time": "2022-04-30T06:31:48.591Z"
   },
   {
    "duration": 5,
    "start_time": "2022-04-30T06:32:02.063Z"
   },
   {
    "duration": 5,
    "start_time": "2022-04-30T06:32:28.496Z"
   },
   {
    "duration": 4,
    "start_time": "2022-04-30T06:32:39.825Z"
   },
   {
    "duration": 967,
    "start_time": "2022-04-30T06:32:39.832Z"
   },
   {
    "duration": 314,
    "start_time": "2022-04-30T06:32:40.801Z"
   },
   {
    "duration": 4,
    "start_time": "2022-04-30T06:32:41.117Z"
   },
   {
    "duration": 136,
    "start_time": "2022-04-30T06:32:41.123Z"
   },
   {
    "duration": 173,
    "start_time": "2022-04-30T06:32:41.261Z"
   },
   {
    "duration": 93,
    "start_time": "2022-04-30T06:32:41.436Z"
   },
   {
    "duration": 3,
    "start_time": "2022-04-30T06:32:41.530Z"
   },
   {
    "duration": 47,
    "start_time": "2022-04-30T06:32:41.534Z"
   },
   {
    "duration": 98,
    "start_time": "2022-04-30T06:32:41.583Z"
   },
   {
    "duration": 4,
    "start_time": "2022-04-30T06:32:41.683Z"
   },
   {
    "duration": 2422,
    "start_time": "2022-04-30T06:32:41.688Z"
   },
   {
    "duration": 3,
    "start_time": "2022-04-30T06:34:09.279Z"
   },
   {
    "duration": 2442,
    "start_time": "2022-04-30T06:34:11.750Z"
   },
   {
    "duration": 2429,
    "start_time": "2022-04-30T06:35:07.191Z"
   },
   {
    "duration": 3,
    "start_time": "2022-04-30T06:35:38.111Z"
   },
   {
    "duration": 2846,
    "start_time": "2022-04-30T06:35:44.092Z"
   },
   {
    "duration": 26,
    "start_time": "2022-04-30T06:36:47.608Z"
   },
   {
    "duration": 83,
    "start_time": "2022-04-30T06:36:49.694Z"
   },
   {
    "duration": 3,
    "start_time": "2022-04-30T06:36:50.542Z"
   },
   {
    "duration": 2550,
    "start_time": "2022-04-30T06:36:52.222Z"
   },
   {
    "duration": 6,
    "start_time": "2022-04-30T06:38:23.070Z"
   },
   {
    "duration": 110,
    "start_time": "2022-04-30T06:38:27.717Z"
   },
   {
    "duration": 182,
    "start_time": "2022-04-30T06:38:27.830Z"
   },
   {
    "duration": 95,
    "start_time": "2022-04-30T06:38:28.014Z"
   },
   {
    "duration": 3,
    "start_time": "2022-04-30T06:38:28.111Z"
   },
   {
    "duration": 43,
    "start_time": "2022-04-30T06:38:28.117Z"
   },
   {
    "duration": 102,
    "start_time": "2022-04-30T06:38:28.161Z"
   },
   {
    "duration": 3,
    "start_time": "2022-04-30T06:38:28.265Z"
   },
   {
    "duration": 2836,
    "start_time": "2022-04-30T06:38:28.270Z"
   },
   {
    "duration": 5,
    "start_time": "2022-04-30T06:38:56.550Z"
   },
   {
    "duration": 6,
    "start_time": "2022-04-30T06:38:59.994Z"
   },
   {
    "duration": 107,
    "start_time": "2022-04-30T06:39:00.002Z"
   },
   {
    "duration": 171,
    "start_time": "2022-04-30T06:39:00.112Z"
   },
   {
    "duration": 95,
    "start_time": "2022-04-30T06:39:00.285Z"
   },
   {
    "duration": 3,
    "start_time": "2022-04-30T06:39:00.384Z"
   },
   {
    "duration": 52,
    "start_time": "2022-04-30T06:39:00.389Z"
   },
   {
    "duration": 99,
    "start_time": "2022-04-30T06:39:00.443Z"
   },
   {
    "duration": 3,
    "start_time": "2022-04-30T06:39:00.544Z"
   },
   {
    "duration": 2174,
    "start_time": "2022-04-30T06:39:00.549Z"
   },
   {
    "duration": 159,
    "start_time": "2022-04-30T06:47:22.340Z"
   },
   {
    "duration": 14,
    "start_time": "2022-04-30T06:55:09.451Z"
   },
   {
    "duration": 157,
    "start_time": "2022-04-30T06:55:15.419Z"
   },
   {
    "duration": 199,
    "start_time": "2022-04-30T06:56:08.178Z"
   },
   {
    "duration": 341,
    "start_time": "2022-04-30T06:59:39.234Z"
   },
   {
    "duration": 261,
    "start_time": "2022-04-30T06:59:45.050Z"
   },
   {
    "duration": 2641,
    "start_time": "2022-04-30T06:59:47.743Z"
   },
   {
    "duration": 39,
    "start_time": "2022-04-30T07:01:27.138Z"
   },
   {
    "duration": 182,
    "start_time": "2022-04-30T07:01:47.938Z"
   },
   {
    "duration": 5953,
    "start_time": "2022-04-30T07:01:55.489Z"
   },
   {
    "duration": 4,
    "start_time": "2022-04-30T07:06:59.392Z"
   },
   {
    "duration": 14,
    "start_time": "2022-04-30T08:59:15.262Z"
   },
   {
    "duration": 13,
    "start_time": "2022-04-30T08:59:23.660Z"
   },
   {
    "duration": 11,
    "start_time": "2022-04-30T09:01:04.064Z"
   },
   {
    "duration": 177,
    "start_time": "2022-04-30T09:01:11.021Z"
   },
   {
    "duration": 227,
    "start_time": "2022-04-30T09:03:13.100Z"
   },
   {
    "duration": 333,
    "start_time": "2022-04-30T09:55:21.895Z"
   },
   {
    "duration": 135,
    "start_time": "2022-04-30T09:58:15.399Z"
   },
   {
    "duration": 1418,
    "start_time": "2022-04-30T09:58:23.569Z"
   },
   {
    "duration": 1074,
    "start_time": "2022-04-30T09:58:24.989Z"
   },
   {
    "duration": 615,
    "start_time": "2022-04-30T09:58:26.068Z"
   },
   {
    "duration": 0,
    "start_time": "2022-04-30T09:58:26.685Z"
   },
   {
    "duration": 0,
    "start_time": "2022-04-30T09:58:26.687Z"
   },
   {
    "duration": 0,
    "start_time": "2022-04-30T09:58:26.688Z"
   },
   {
    "duration": 0,
    "start_time": "2022-04-30T09:58:26.689Z"
   },
   {
    "duration": 0,
    "start_time": "2022-04-30T09:58:26.690Z"
   },
   {
    "duration": 0,
    "start_time": "2022-04-30T09:58:26.691Z"
   },
   {
    "duration": 0,
    "start_time": "2022-04-30T09:58:26.692Z"
   },
   {
    "duration": 0,
    "start_time": "2022-04-30T09:58:26.693Z"
   },
   {
    "duration": 0,
    "start_time": "2022-04-30T09:58:26.694Z"
   },
   {
    "duration": 169,
    "start_time": "2022-04-30T10:00:36.921Z"
   },
   {
    "duration": 181,
    "start_time": "2022-04-30T10:01:03.131Z"
   },
   {
    "duration": 219,
    "start_time": "2022-04-30T10:02:04.659Z"
   },
   {
    "duration": 4,
    "start_time": "2022-04-30T10:02:28.249Z"
   },
   {
    "duration": 1029,
    "start_time": "2022-04-30T10:02:28.255Z"
   },
   {
    "duration": 296,
    "start_time": "2022-04-30T10:02:33.780Z"
   },
   {
    "duration": 132,
    "start_time": "2022-04-30T10:16:57.345Z"
   },
   {
    "duration": 104,
    "start_time": "2022-04-30T10:17:02.751Z"
   },
   {
    "duration": 102,
    "start_time": "2022-04-30T10:17:20.792Z"
   },
   {
    "duration": 258,
    "start_time": "2022-04-30T10:17:33.575Z"
   },
   {
    "duration": 114,
    "start_time": "2022-04-30T10:26:14.054Z"
   },
   {
    "duration": 488,
    "start_time": "2022-04-30T10:26:21.110Z"
   },
   {
    "duration": 477,
    "start_time": "2022-04-30T10:27:33.358Z"
   },
   {
    "duration": 10,
    "start_time": "2022-04-30T10:33:25.060Z"
   },
   {
    "duration": 1106,
    "start_time": "2022-04-30T10:33:31.222Z"
   },
   {
    "duration": 360,
    "start_time": "2022-04-30T10:33:56.580Z"
   },
   {
    "duration": 28,
    "start_time": "2022-04-30T10:34:27.341Z"
   },
   {
    "duration": 30,
    "start_time": "2022-04-30T10:35:15.967Z"
   },
   {
    "duration": 61,
    "start_time": "2022-04-30T10:35:19.580Z"
   },
   {
    "duration": 69,
    "start_time": "2022-04-30T10:37:01.540Z"
   },
   {
    "duration": 52,
    "start_time": "2022-04-30T10:38:50.444Z"
   },
   {
    "duration": 63,
    "start_time": "2022-04-30T10:39:10.603Z"
   },
   {
    "duration": 22,
    "start_time": "2022-04-30T10:41:03.987Z"
   },
   {
    "duration": 30,
    "start_time": "2022-04-30T10:41:18.899Z"
   },
   {
    "duration": 4,
    "start_time": "2022-04-30T10:42:31.256Z"
   },
   {
    "duration": 1007,
    "start_time": "2022-04-30T10:42:31.262Z"
   },
   {
    "duration": 444,
    "start_time": "2022-04-30T10:42:32.271Z"
   },
   {
    "duration": 29,
    "start_time": "2022-04-30T10:42:59.818Z"
   },
   {
    "duration": 28,
    "start_time": "2022-04-30T10:43:14.458Z"
   },
   {
    "duration": 37,
    "start_time": "2022-04-30T10:43:20.994Z"
   },
   {
    "duration": 30,
    "start_time": "2022-04-30T10:43:40.682Z"
   },
   {
    "duration": 84,
    "start_time": "2022-04-30T10:45:22.690Z"
   },
   {
    "duration": 26,
    "start_time": "2022-04-30T10:45:27.850Z"
   },
   {
    "duration": 4,
    "start_time": "2022-04-30T11:16:56.173Z"
   },
   {
    "duration": 4,
    "start_time": "2022-04-30T11:17:13.243Z"
   },
   {
    "duration": 13,
    "start_time": "2022-04-30T11:17:24.667Z"
   },
   {
    "duration": 5,
    "start_time": "2022-04-30T11:17:34.547Z"
   },
   {
    "duration": 6,
    "start_time": "2022-04-30T11:18:27.900Z"
   },
   {
    "duration": 6,
    "start_time": "2022-04-30T11:18:37.621Z"
   },
   {
    "duration": 3,
    "start_time": "2022-04-30T11:19:47.124Z"
   },
   {
    "duration": 3,
    "start_time": "2022-04-30T11:19:55.731Z"
   },
   {
    "duration": 364,
    "start_time": "2022-04-30T11:20:02.299Z"
   },
   {
    "duration": 1464,
    "start_time": "2022-04-30T11:20:07.573Z"
   },
   {
    "duration": 274,
    "start_time": "2022-04-30T11:20:25.524Z"
   },
   {
    "duration": 420,
    "start_time": "2022-04-30T11:21:03.987Z"
   },
   {
    "duration": 275,
    "start_time": "2022-04-30T11:21:38.098Z"
   },
   {
    "duration": 286,
    "start_time": "2022-04-30T11:28:12.857Z"
   },
   {
    "duration": 276,
    "start_time": "2022-04-30T11:28:23.178Z"
   },
   {
    "duration": 258,
    "start_time": "2022-04-30T11:28:44.449Z"
   },
   {
    "duration": 250,
    "start_time": "2022-04-30T11:28:49.088Z"
   },
   {
    "duration": 351,
    "start_time": "2022-04-30T11:28:58.985Z"
   },
   {
    "duration": 259,
    "start_time": "2022-04-30T11:29:02.153Z"
   },
   {
    "duration": 279,
    "start_time": "2022-04-30T11:29:09.976Z"
   },
   {
    "duration": 68,
    "start_time": "2022-04-30T11:29:49.624Z"
   },
   {
    "duration": 264,
    "start_time": "2022-04-30T11:29:58.632Z"
   },
   {
    "duration": 265,
    "start_time": "2022-04-30T11:30:25.777Z"
   },
   {
    "duration": 396,
    "start_time": "2022-04-30T11:30:36.616Z"
   },
   {
    "duration": 277,
    "start_time": "2022-04-30T11:31:14.777Z"
   },
   {
    "duration": 270,
    "start_time": "2022-04-30T11:31:36.907Z"
   },
   {
    "duration": 279,
    "start_time": "2022-04-30T11:31:44.984Z"
   },
   {
    "duration": 291,
    "start_time": "2022-04-30T11:33:13.801Z"
   },
   {
    "duration": 282,
    "start_time": "2022-04-30T11:33:15.576Z"
   },
   {
    "duration": 380,
    "start_time": "2022-04-30T11:33:26.992Z"
   },
   {
    "duration": 274,
    "start_time": "2022-04-30T11:34:59.873Z"
   },
   {
    "duration": 325,
    "start_time": "2022-04-30T11:37:26.399Z"
   },
   {
    "duration": 251,
    "start_time": "2022-04-30T11:37:39.863Z"
   },
   {
    "duration": 235,
    "start_time": "2022-04-30T11:37:53.271Z"
   },
   {
    "duration": 324,
    "start_time": "2022-04-30T11:38:26.142Z"
   },
   {
    "duration": 65,
    "start_time": "2022-04-30T11:38:49.175Z"
   },
   {
    "duration": 258,
    "start_time": "2022-04-30T11:39:09.495Z"
   },
   {
    "duration": 3,
    "start_time": "2022-04-30T11:39:33.278Z"
   },
   {
    "duration": 885,
    "start_time": "2022-04-30T11:39:33.283Z"
   },
   {
    "duration": 392,
    "start_time": "2022-04-30T11:39:34.169Z"
   },
   {
    "duration": 61,
    "start_time": "2022-04-30T11:39:34.563Z"
   },
   {
    "duration": 1,
    "start_time": "2022-04-30T11:39:34.625Z"
   },
   {
    "duration": 499,
    "start_time": "2022-04-30T11:40:36.310Z"
   },
   {
    "duration": 338,
    "start_time": "2022-04-30T11:42:33.270Z"
   },
   {
    "duration": 174,
    "start_time": "2022-04-30T11:46:43.173Z"
   },
   {
    "duration": 4,
    "start_time": "2022-04-30T11:47:25.683Z"
   },
   {
    "duration": 933,
    "start_time": "2022-04-30T11:47:25.689Z"
   },
   {
    "duration": 321,
    "start_time": "2022-04-30T11:47:38.109Z"
   },
   {
    "duration": 461,
    "start_time": "2022-04-30T11:47:47.525Z"
   },
   {
    "duration": 22,
    "start_time": "2022-04-30T11:51:55.964Z"
   },
   {
    "duration": 28,
    "start_time": "2022-04-30T11:52:13.244Z"
   },
   {
    "duration": 21,
    "start_time": "2022-04-30T11:52:25.319Z"
   },
   {
    "duration": 21,
    "start_time": "2022-04-30T11:52:43.947Z"
   },
   {
    "duration": 67,
    "start_time": "2022-04-30T11:53:23.303Z"
   },
   {
    "duration": 27,
    "start_time": "2022-04-30T11:53:30.078Z"
   },
   {
    "duration": 21,
    "start_time": "2022-04-30T11:53:45.219Z"
   },
   {
    "duration": 25,
    "start_time": "2022-04-30T11:55:25.683Z"
   },
   {
    "duration": 25,
    "start_time": "2022-04-30T11:55:31.483Z"
   },
   {
    "duration": 26,
    "start_time": "2022-04-30T11:57:05.299Z"
   },
   {
    "duration": 33,
    "start_time": "2022-04-30T11:57:21.667Z"
   },
   {
    "duration": 34,
    "start_time": "2022-04-30T11:57:28.858Z"
   },
   {
    "duration": 274,
    "start_time": "2022-04-30T12:02:18.274Z"
   },
   {
    "duration": 28,
    "start_time": "2022-04-30T12:04:40.874Z"
   },
   {
    "duration": 119,
    "start_time": "2022-04-30T12:04:51.457Z"
   },
   {
    "duration": 573,
    "start_time": "2022-04-30T12:07:20.137Z"
   },
   {
    "duration": 452,
    "start_time": "2022-04-30T12:07:36.785Z"
   },
   {
    "duration": 199,
    "start_time": "2022-04-30T12:07:51.489Z"
   },
   {
    "duration": 177,
    "start_time": "2022-04-30T12:08:23.153Z"
   },
   {
    "duration": 119,
    "start_time": "2022-04-30T12:08:51.352Z"
   },
   {
    "duration": 210,
    "start_time": "2022-04-30T12:13:57.335Z"
   },
   {
    "duration": 12,
    "start_time": "2022-04-30T12:15:16.592Z"
   },
   {
    "duration": 25,
    "start_time": "2022-04-30T12:16:28.663Z"
   },
   {
    "duration": 50,
    "start_time": "2022-04-30T13:29:34.734Z"
   },
   {
    "duration": 72,
    "start_time": "2022-04-30T13:29:57.323Z"
   },
   {
    "duration": 304,
    "start_time": "2022-04-30T13:30:03.339Z"
   },
   {
    "duration": 212,
    "start_time": "2022-04-30T13:30:08.403Z"
   },
   {
    "duration": 75,
    "start_time": "2022-04-30T13:30:48.836Z"
   },
   {
    "duration": 69,
    "start_time": "2022-04-30T13:36:58.738Z"
   },
   {
    "duration": 9,
    "start_time": "2022-04-30T13:37:50.267Z"
   },
   {
    "duration": 61,
    "start_time": "2022-04-30T13:37:52.411Z"
   },
   {
    "duration": 7,
    "start_time": "2022-04-30T13:37:54.978Z"
   },
   {
    "duration": 1235,
    "start_time": "2022-04-30T13:50:55.984Z"
   },
   {
    "duration": 18,
    "start_time": "2022-04-30T13:51:04.248Z"
   },
   {
    "duration": 69,
    "start_time": "2022-04-30T13:54:03.616Z"
   },
   {
    "duration": 6,
    "start_time": "2022-04-30T13:54:11.999Z"
   },
   {
    "duration": 3,
    "start_time": "2022-04-30T13:54:19.159Z"
   },
   {
    "duration": 2300,
    "start_time": "2022-04-30T13:54:50.591Z"
   },
   {
    "duration": 6,
    "start_time": "2022-04-30T13:54:58.023Z"
   },
   {
    "duration": 4,
    "start_time": "2022-04-30T13:55:12.759Z"
   },
   {
    "duration": 8,
    "start_time": "2022-04-30T13:55:47.200Z"
   },
   {
    "duration": 23,
    "start_time": "2022-04-30T14:06:10.676Z"
   },
   {
    "duration": 1800,
    "start_time": "2022-04-30T14:06:43.893Z"
   },
   {
    "duration": 1468,
    "start_time": "2022-04-30T14:06:51.133Z"
   },
   {
    "duration": 4,
    "start_time": "2022-04-30T14:10:19.650Z"
   },
   {
    "duration": 941,
    "start_time": "2022-04-30T14:10:19.656Z"
   },
   {
    "duration": 156,
    "start_time": "2022-04-30T14:10:20.599Z"
   },
   {
    "duration": 230,
    "start_time": "2022-04-30T14:10:20.758Z"
   },
   {
    "duration": 188,
    "start_time": "2022-04-30T14:10:20.991Z"
   },
   {
    "duration": 81,
    "start_time": "2022-04-30T14:10:21.181Z"
   },
   {
    "duration": 9,
    "start_time": "2022-04-30T14:10:24.372Z"
   },
   {
    "duration": 14,
    "start_time": "2022-04-30T14:10:29.250Z"
   },
   {
    "duration": 70,
    "start_time": "2022-04-30T14:25:16.559Z"
   },
   {
    "duration": 70,
    "start_time": "2022-04-30T14:31:08.046Z"
   },
   {
    "duration": 2172,
    "start_time": "2022-04-30T14:33:06.583Z"
   },
   {
    "duration": 2238,
    "start_time": "2022-04-30T14:34:12.015Z"
   },
   {
    "duration": 1831,
    "start_time": "2022-04-30T14:39:30.438Z"
   },
   {
    "duration": 1779,
    "start_time": "2022-04-30T14:47:52.102Z"
   },
   {
    "duration": 113,
    "start_time": "2022-04-30T14:48:51.026Z"
   },
   {
    "duration": 16,
    "start_time": "2022-04-30T14:50:50.438Z"
   },
   {
    "duration": 218,
    "start_time": "2022-04-30T14:51:21.791Z"
   },
   {
    "duration": 71,
    "start_time": "2022-05-01T06:54:45.028Z"
   },
   {
    "duration": 2428,
    "start_time": "2022-05-01T06:54:52.390Z"
   },
   {
    "duration": 1333,
    "start_time": "2022-05-01T06:54:54.822Z"
   },
   {
    "duration": 192,
    "start_time": "2022-05-01T06:54:56.157Z"
   },
   {
    "duration": 335,
    "start_time": "2022-05-01T06:54:56.352Z"
   },
   {
    "duration": 112,
    "start_time": "2022-05-01T06:54:56.692Z"
   },
   {
    "duration": 122,
    "start_time": "2022-05-01T06:54:56.806Z"
   },
   {
    "duration": 2693,
    "start_time": "2022-05-01T06:54:56.930Z"
   },
   {
    "duration": 20,
    "start_time": "2022-05-01T06:54:59.625Z"
   },
   {
    "duration": 248,
    "start_time": "2022-05-01T06:55:15.978Z"
   },
   {
    "duration": 506,
    "start_time": "2022-05-01T07:03:32.479Z"
   },
   {
    "duration": 194,
    "start_time": "2022-05-01T07:04:13.384Z"
   },
   {
    "duration": 524,
    "start_time": "2022-05-01T07:04:23.522Z"
   },
   {
    "duration": 47,
    "start_time": "2022-05-01T07:06:03.319Z"
   },
   {
    "duration": 23,
    "start_time": "2022-05-01T07:06:49.491Z"
   },
   {
    "duration": 21,
    "start_time": "2022-05-01T07:07:03.016Z"
   },
   {
    "duration": 3956,
    "start_time": "2022-05-01T07:07:31.790Z"
   },
   {
    "duration": 27,
    "start_time": "2022-05-01T07:07:43.333Z"
   },
   {
    "duration": 15,
    "start_time": "2022-05-01T07:07:53.674Z"
   },
   {
    "duration": 27,
    "start_time": "2022-05-01T07:08:03.625Z"
   },
   {
    "duration": 183,
    "start_time": "2022-05-01T07:11:25.230Z"
   },
   {
    "duration": 214,
    "start_time": "2022-05-01T07:12:11.533Z"
   },
   {
    "duration": 186,
    "start_time": "2022-05-01T07:12:24.236Z"
   },
   {
    "duration": 700,
    "start_time": "2022-05-01T07:15:33.125Z"
   },
   {
    "duration": 618,
    "start_time": "2022-05-01T07:16:15.278Z"
   },
   {
    "duration": 591,
    "start_time": "2022-05-01T07:16:38.076Z"
   },
   {
    "duration": 506,
    "start_time": "2022-05-01T07:16:52.515Z"
   },
   {
    "duration": 16,
    "start_time": "2022-05-01T07:17:37.214Z"
   },
   {
    "duration": 11,
    "start_time": "2022-05-01T07:18:01.934Z"
   },
   {
    "duration": 20,
    "start_time": "2022-05-01T07:18:05.446Z"
   },
   {
    "duration": 11,
    "start_time": "2022-05-01T07:18:31.275Z"
   },
   {
    "duration": 11,
    "start_time": "2022-05-01T07:18:38.000Z"
   },
   {
    "duration": 17,
    "start_time": "2022-05-01T07:18:43.643Z"
   },
   {
    "duration": 10,
    "start_time": "2022-05-01T07:19:36.206Z"
   },
   {
    "duration": 58,
    "start_time": "2022-05-01T07:19:52.433Z"
   },
   {
    "duration": 11,
    "start_time": "2022-05-01T07:20:20.342Z"
   },
   {
    "duration": 11,
    "start_time": "2022-05-01T07:20:31.278Z"
   },
   {
    "duration": 25,
    "start_time": "2022-05-01T07:23:33.583Z"
   },
   {
    "duration": 57,
    "start_time": "2022-05-01T07:25:21.843Z"
   },
   {
    "duration": 64,
    "start_time": "2022-05-01T07:26:09.485Z"
   },
   {
    "duration": 82,
    "start_time": "2022-05-01T07:26:37.306Z"
   },
   {
    "duration": 220,
    "start_time": "2022-05-01T07:26:57.474Z"
   },
   {
    "duration": 62,
    "start_time": "2022-05-01T07:28:00.017Z"
   },
   {
    "duration": 204,
    "start_time": "2022-05-01T07:39:41.177Z"
   },
   {
    "duration": 2674,
    "start_time": "2022-05-01T07:47:36.371Z"
   },
   {
    "duration": 2503,
    "start_time": "2022-05-01T07:48:34.809Z"
   },
   {
    "duration": 2647,
    "start_time": "2022-05-01T07:48:50.954Z"
   },
   {
    "duration": 2468,
    "start_time": "2022-05-01T07:49:14.149Z"
   },
   {
    "duration": 2691,
    "start_time": "2022-05-01T07:50:31.285Z"
   },
   {
    "duration": 3400,
    "start_time": "2022-05-01T07:51:22.736Z"
   },
   {
    "duration": 20,
    "start_time": "2022-05-01T07:51:43.188Z"
   },
   {
    "duration": 18,
    "start_time": "2022-05-01T07:51:53.362Z"
   },
   {
    "duration": 16,
    "start_time": "2022-05-01T07:52:05.203Z"
   },
   {
    "duration": 14,
    "start_time": "2022-05-01T07:52:22.611Z"
   },
   {
    "duration": 2148,
    "start_time": "2022-05-01T07:52:43.701Z"
   },
   {
    "duration": 1247,
    "start_time": "2022-05-01T07:52:45.852Z"
   },
   {
    "duration": 213,
    "start_time": "2022-05-01T07:52:47.102Z"
   },
   {
    "duration": 331,
    "start_time": "2022-05-01T07:52:47.318Z"
   },
   {
    "duration": 124,
    "start_time": "2022-05-01T07:52:47.653Z"
   },
   {
    "duration": 121,
    "start_time": "2022-05-01T07:52:47.779Z"
   },
   {
    "duration": 2686,
    "start_time": "2022-05-01T07:52:47.902Z"
   },
   {
    "duration": 21,
    "start_time": "2022-05-01T07:52:50.593Z"
   },
   {
    "duration": 255,
    "start_time": "2022-05-01T07:52:50.616Z"
   },
   {
    "duration": 527,
    "start_time": "2022-05-01T07:52:50.874Z"
   },
   {
    "duration": 28,
    "start_time": "2022-05-01T07:52:51.403Z"
   },
   {
    "duration": 200,
    "start_time": "2022-05-01T07:52:51.433Z"
   },
   {
    "duration": 634,
    "start_time": "2022-05-01T07:52:51.635Z"
   },
   {
    "duration": 10,
    "start_time": "2022-05-01T07:52:52.273Z"
   },
   {
    "duration": 10,
    "start_time": "2022-05-01T07:52:52.293Z"
   },
   {
    "duration": 25,
    "start_time": "2022-05-01T07:52:52.306Z"
   },
   {
    "duration": 103,
    "start_time": "2022-05-01T07:52:52.334Z"
   },
   {
    "duration": 219,
    "start_time": "2022-05-01T07:52:52.439Z"
   },
   {
    "duration": 0,
    "start_time": "2022-05-01T07:52:52.660Z"
   },
   {
    "duration": 0,
    "start_time": "2022-05-01T07:52:52.661Z"
   },
   {
    "duration": 0,
    "start_time": "2022-05-01T07:52:52.663Z"
   },
   {
    "duration": 0,
    "start_time": "2022-05-01T07:52:52.664Z"
   },
   {
    "duration": 0,
    "start_time": "2022-05-01T07:52:52.665Z"
   },
   {
    "duration": 0,
    "start_time": "2022-05-01T07:52:52.666Z"
   },
   {
    "duration": 0,
    "start_time": "2022-05-01T07:52:52.668Z"
   },
   {
    "duration": 0,
    "start_time": "2022-05-01T07:52:52.670Z"
   },
   {
    "duration": 0,
    "start_time": "2022-05-01T07:52:52.672Z"
   },
   {
    "duration": 0,
    "start_time": "2022-05-01T07:52:52.673Z"
   },
   {
    "duration": 0,
    "start_time": "2022-05-01T07:52:52.675Z"
   },
   {
    "duration": 216,
    "start_time": "2022-05-01T07:53:14.839Z"
   },
   {
    "duration": 6,
    "start_time": "2022-05-01T07:53:34.593Z"
   },
   {
    "duration": 2686,
    "start_time": "2022-05-01T07:53:57.874Z"
   },
   {
    "duration": 2498,
    "start_time": "2022-05-01T07:54:21.942Z"
   },
   {
    "duration": 11,
    "start_time": "2022-05-01T07:54:37.284Z"
   },
   {
    "duration": 2529,
    "start_time": "2022-05-01T07:54:47.994Z"
   },
   {
    "duration": 6,
    "start_time": "2022-05-01T07:55:03.934Z"
   },
   {
    "duration": 1227,
    "start_time": "2022-05-01T07:55:03.945Z"
   },
   {
    "duration": 220,
    "start_time": "2022-05-01T07:55:05.175Z"
   },
   {
    "duration": 305,
    "start_time": "2022-05-01T07:55:05.398Z"
   },
   {
    "duration": 108,
    "start_time": "2022-05-01T07:55:05.706Z"
   },
   {
    "duration": 111,
    "start_time": "2022-05-01T07:55:05.818Z"
   },
   {
    "duration": 2739,
    "start_time": "2022-05-01T07:55:05.931Z"
   },
   {
    "duration": 30,
    "start_time": "2022-05-01T07:55:08.673Z"
   },
   {
    "duration": 256,
    "start_time": "2022-05-01T07:55:08.706Z"
   },
   {
    "duration": 522,
    "start_time": "2022-05-01T07:55:08.965Z"
   },
   {
    "duration": 30,
    "start_time": "2022-05-01T07:55:09.493Z"
   },
   {
    "duration": 204,
    "start_time": "2022-05-01T07:55:09.526Z"
   },
   {
    "duration": 574,
    "start_time": "2022-05-01T07:55:09.733Z"
   },
   {
    "duration": 13,
    "start_time": "2022-05-01T07:55:10.309Z"
   },
   {
    "duration": 14,
    "start_time": "2022-05-01T07:55:10.327Z"
   },
   {
    "duration": 64,
    "start_time": "2022-05-01T07:55:10.344Z"
   },
   {
    "duration": 88,
    "start_time": "2022-05-01T07:55:10.411Z"
   },
   {
    "duration": 218,
    "start_time": "2022-05-01T07:55:10.501Z"
   },
   {
    "duration": 48,
    "start_time": "2022-05-01T07:55:15.534Z"
   },
   {
    "duration": 12,
    "start_time": "2022-05-01T08:44:27.770Z"
   },
   {
    "duration": 21,
    "start_time": "2022-05-01T08:44:49.547Z"
   },
   {
    "duration": 108,
    "start_time": "2022-05-01T08:44:50.652Z"
   },
   {
    "duration": 5,
    "start_time": "2022-05-01T08:44:54.664Z"
   },
   {
    "duration": 4,
    "start_time": "2022-05-01T08:45:56.090Z"
   },
   {
    "duration": 55624,
    "start_time": "2022-05-01T08:45:58.419Z"
   },
   {
    "duration": 14209,
    "start_time": "2022-05-01T08:47:41.871Z"
   },
   {
    "duration": 11,
    "start_time": "2022-05-01T08:51:34.184Z"
   },
   {
    "duration": 7,
    "start_time": "2022-05-01T08:52:28.434Z"
   },
   {
    "duration": 3879,
    "start_time": "2022-05-01T08:52:39.870Z"
   },
   {
    "duration": 4035,
    "start_time": "2022-05-01T08:53:14.922Z"
   },
   {
    "duration": 3578,
    "start_time": "2022-05-01T09:10:16.824Z"
   },
   {
    "duration": 110,
    "start_time": "2022-05-01T09:12:11.108Z"
   },
   {
    "duration": 5,
    "start_time": "2022-05-01T09:21:40.385Z"
   },
   {
    "duration": 35,
    "start_time": "2022-05-01T09:23:41.003Z"
   },
   {
    "duration": 113,
    "start_time": "2022-05-01T09:23:44.124Z"
   },
   {
    "duration": 7,
    "start_time": "2022-05-01T09:23:48.216Z"
   },
   {
    "duration": 4,
    "start_time": "2022-05-01T09:23:49.866Z"
   },
   {
    "duration": 4217,
    "start_time": "2022-05-01T09:23:59.160Z"
   },
   {
    "duration": 111,
    "start_time": "2022-05-01T09:24:05.257Z"
   },
   {
    "duration": 6,
    "start_time": "2022-05-01T09:24:42.963Z"
   },
   {
    "duration": 5,
    "start_time": "2022-05-01T09:25:25.969Z"
   },
   {
    "duration": 3,
    "start_time": "2022-05-01T09:25:26.896Z"
   },
   {
    "duration": 19701,
    "start_time": "2022-05-01T09:25:28.459Z"
   },
   {
    "duration": 124,
    "start_time": "2022-05-01T09:25:48.162Z"
   },
   {
    "duration": 7541,
    "start_time": "2022-05-01T09:29:02.526Z"
   },
   {
    "duration": 129,
    "start_time": "2022-05-01T09:37:53.749Z"
   },
   {
    "duration": 7970,
    "start_time": "2022-05-01T09:38:02.409Z"
   },
   {
    "duration": 7722,
    "start_time": "2022-05-01T09:41:23.924Z"
   },
   {
    "duration": 2250,
    "start_time": "2022-05-02T10:36:59.258Z"
   },
   {
    "duration": 1302,
    "start_time": "2022-05-02T10:37:01.511Z"
   },
   {
    "duration": 206,
    "start_time": "2022-05-02T10:37:02.815Z"
   },
   {
    "duration": 341,
    "start_time": "2022-05-02T10:37:03.023Z"
   },
   {
    "duration": 120,
    "start_time": "2022-05-02T10:37:03.366Z"
   },
   {
    "duration": 125,
    "start_time": "2022-05-02T10:37:03.488Z"
   },
   {
    "duration": 2750,
    "start_time": "2022-05-02T10:37:03.615Z"
   },
   {
    "duration": 21,
    "start_time": "2022-05-02T10:37:06.368Z"
   },
   {
    "duration": 264,
    "start_time": "2022-05-02T10:37:06.391Z"
   },
   {
    "duration": 532,
    "start_time": "2022-05-02T10:37:06.659Z"
   },
   {
    "duration": 27,
    "start_time": "2022-05-02T10:37:07.194Z"
   },
   {
    "duration": 206,
    "start_time": "2022-05-02T10:37:07.223Z"
   },
   {
    "duration": 881,
    "start_time": "2022-05-02T10:37:07.431Z"
   },
   {
    "duration": 11,
    "start_time": "2022-05-02T10:37:08.315Z"
   },
   {
    "duration": 31,
    "start_time": "2022-05-02T10:37:08.328Z"
   },
   {
    "duration": 32,
    "start_time": "2022-05-02T10:37:08.361Z"
   },
   {
    "duration": 93,
    "start_time": "2022-05-02T10:37:08.396Z"
   },
   {
    "duration": 233,
    "start_time": "2022-05-02T10:37:08.491Z"
   },
   {
    "duration": 60,
    "start_time": "2022-05-02T10:37:08.727Z"
   },
   {
    "duration": 21,
    "start_time": "2022-05-02T10:37:08.790Z"
   },
   {
    "duration": 143,
    "start_time": "2022-05-02T10:37:08.813Z"
   },
   {
    "duration": 6,
    "start_time": "2022-05-02T10:37:08.959Z"
   },
   {
    "duration": 6,
    "start_time": "2022-05-02T10:37:08.968Z"
   },
   {
    "duration": 3796,
    "start_time": "2022-05-02T10:37:08.978Z"
   },
   {
    "duration": 4,
    "start_time": "2022-05-02T10:37:12.777Z"
   },
   {
    "duration": 34,
    "start_time": "2022-05-02T10:37:12.783Z"
   },
   {
    "duration": 0,
    "start_time": "2022-05-02T10:37:12.820Z"
   },
   {
    "duration": 111,
    "start_time": "2022-05-02T10:37:39.871Z"
   },
   {
    "duration": 179,
    "start_time": "2022-05-02T12:14:50.032Z"
   },
   {
    "duration": 1821,
    "start_time": "2022-05-02T12:14:56.530Z"
   },
   {
    "duration": 1239,
    "start_time": "2022-05-02T12:14:58.353Z"
   },
   {
    "duration": 136,
    "start_time": "2022-05-02T12:14:59.593Z"
   },
   {
    "duration": 195,
    "start_time": "2022-05-02T12:14:59.731Z"
   },
   {
    "duration": 60,
    "start_time": "2022-05-02T12:14:59.928Z"
   },
   {
    "duration": 86,
    "start_time": "2022-05-02T12:14:59.990Z"
   },
   {
    "duration": 1477,
    "start_time": "2022-05-02T12:15:00.078Z"
   },
   {
    "duration": 13,
    "start_time": "2022-05-02T12:15:01.556Z"
   },
   {
    "duration": 156,
    "start_time": "2022-05-02T12:15:01.571Z"
   },
   {
    "duration": 314,
    "start_time": "2022-05-02T12:15:01.729Z"
   },
   {
    "duration": 20,
    "start_time": "2022-05-02T12:15:02.045Z"
   },
   {
    "duration": 124,
    "start_time": "2022-05-02T12:15:02.067Z"
   },
   {
    "duration": 377,
    "start_time": "2022-05-02T12:15:02.193Z"
   },
   {
    "duration": 7,
    "start_time": "2022-05-02T12:15:02.574Z"
   },
   {
    "duration": 10,
    "start_time": "2022-05-02T12:15:02.583Z"
   },
   {
    "duration": 60,
    "start_time": "2022-05-02T12:15:02.595Z"
   },
   {
    "duration": 85,
    "start_time": "2022-05-02T12:15:02.667Z"
   },
   {
    "duration": 124,
    "start_time": "2022-05-02T12:15:02.753Z"
   },
   {
    "duration": 48,
    "start_time": "2022-05-02T12:15:02.879Z"
   },
   {
    "duration": 13,
    "start_time": "2022-05-02T12:15:02.929Z"
   },
   {
    "duration": 50,
    "start_time": "2022-05-02T12:15:02.944Z"
   },
   {
    "duration": 5,
    "start_time": "2022-05-02T12:15:02.996Z"
   },
   {
    "duration": 3,
    "start_time": "2022-05-02T12:15:03.023Z"
   },
   {
    "duration": 5764,
    "start_time": "2022-05-02T12:15:05.595Z"
   },
   {
    "duration": 5,
    "start_time": "2022-05-02T12:17:32.087Z"
   },
   {
    "duration": 5782,
    "start_time": "2022-05-02T12:17:36.337Z"
   },
   {
    "duration": 4,
    "start_time": "2022-05-02T12:18:36.464Z"
   },
   {
    "duration": 2134,
    "start_time": "2022-05-02T12:18:43.939Z"
   },
   {
    "duration": 5131,
    "start_time": "2022-05-02T12:23:10.945Z"
   },
   {
    "duration": 4,
    "start_time": "2022-05-02T12:24:11.419Z"
   },
   {
    "duration": 16,
    "start_time": "2022-05-02T12:25:10.197Z"
   },
   {
    "duration": 1190,
    "start_time": "2022-05-02T12:26:01.709Z"
   },
   {
    "duration": 23,
    "start_time": "2022-05-02T12:26:18.950Z"
   },
   {
    "duration": 4,
    "start_time": "2022-05-02T12:26:41.789Z"
   },
   {
    "duration": 4,
    "start_time": "2022-05-02T12:26:53.436Z"
   },
   {
    "duration": 5,
    "start_time": "2022-05-02T12:27:18.854Z"
   },
   {
    "duration": 69,
    "start_time": "2022-05-02T12:54:59.909Z"
   },
   {
    "duration": 178,
    "start_time": "2022-05-03T06:32:21.081Z"
   },
   {
    "duration": 2205,
    "start_time": "2022-05-03T06:32:36.279Z"
   },
   {
    "duration": 1341,
    "start_time": "2022-05-03T06:32:38.487Z"
   },
   {
    "duration": 249,
    "start_time": "2022-05-03T06:32:39.830Z"
   },
   {
    "duration": 257,
    "start_time": "2022-05-03T06:32:40.080Z"
   },
   {
    "duration": 91,
    "start_time": "2022-05-03T06:32:40.339Z"
   },
   {
    "duration": 131,
    "start_time": "2022-05-03T06:32:40.432Z"
   },
   {
    "duration": 1916,
    "start_time": "2022-05-03T06:32:40.565Z"
   },
   {
    "duration": 17,
    "start_time": "2022-05-03T06:32:42.483Z"
   },
   {
    "duration": 180,
    "start_time": "2022-05-03T06:32:42.502Z"
   },
   {
    "duration": 469,
    "start_time": "2022-05-03T06:32:42.684Z"
   },
   {
    "duration": 24,
    "start_time": "2022-05-03T06:32:43.155Z"
   },
   {
    "duration": 160,
    "start_time": "2022-05-03T06:32:43.181Z"
   },
   {
    "duration": 485,
    "start_time": "2022-05-03T06:32:43.347Z"
   },
   {
    "duration": 20,
    "start_time": "2022-05-03T06:32:43.835Z"
   },
   {
    "duration": 26,
    "start_time": "2022-05-03T06:32:43.857Z"
   },
   {
    "duration": 30,
    "start_time": "2022-05-03T06:32:43.885Z"
   },
   {
    "duration": 90,
    "start_time": "2022-05-03T06:32:43.917Z"
   },
   {
    "duration": 152,
    "start_time": "2022-05-03T06:32:44.009Z"
   },
   {
    "duration": 31,
    "start_time": "2022-05-03T06:32:44.163Z"
   },
   {
    "duration": 17,
    "start_time": "2022-05-03T06:32:44.196Z"
   },
   {
    "duration": 76,
    "start_time": "2022-05-03T06:32:44.215Z"
   },
   {
    "duration": 5,
    "start_time": "2022-05-03T06:32:44.292Z"
   },
   {
    "duration": 4,
    "start_time": "2022-05-03T06:32:44.298Z"
   },
   {
    "duration": 233,
    "start_time": "2022-05-03T06:32:52.619Z"
   },
   {
    "duration": 4,
    "start_time": "2022-05-03T06:33:33.750Z"
   },
   {
    "duration": 439,
    "start_time": "2022-05-03T06:33:36.622Z"
   },
   {
    "duration": 111,
    "start_time": "2022-05-03T06:45:11.252Z"
   },
   {
    "duration": 4,
    "start_time": "2022-05-03T07:02:40.297Z"
   },
   {
    "duration": 115,
    "start_time": "2022-05-03T07:02:47.180Z"
   },
   {
    "duration": 116,
    "start_time": "2022-05-03T07:03:11.712Z"
   },
   {
    "duration": 125,
    "start_time": "2022-05-03T07:04:40.565Z"
   },
   {
    "duration": 117,
    "start_time": "2022-05-03T07:05:13.436Z"
   },
   {
    "duration": 148,
    "start_time": "2022-05-03T07:06:33.248Z"
   },
   {
    "duration": 113,
    "start_time": "2022-05-03T07:07:09.049Z"
   },
   {
    "duration": 125,
    "start_time": "2022-05-03T07:07:49.870Z"
   },
   {
    "duration": 929,
    "start_time": "2022-05-03T07:08:00.376Z"
   },
   {
    "duration": 53,
    "start_time": "2022-05-03T07:10:29.632Z"
   },
   {
    "duration": 53,
    "start_time": "2022-05-03T07:10:33.337Z"
   },
   {
    "duration": 882,
    "start_time": "2022-05-03T07:11:33.891Z"
   },
   {
    "duration": 174,
    "start_time": "2022-05-03T07:11:50.677Z"
   },
   {
    "duration": 145,
    "start_time": "2022-05-03T07:16:12.307Z"
   },
   {
    "duration": 9,
    "start_time": "2022-05-03T07:16:36.076Z"
   },
   {
    "duration": 4,
    "start_time": "2022-05-03T07:19:31.933Z"
   },
   {
    "duration": 3,
    "start_time": "2022-05-03T07:52:58.310Z"
   },
   {
    "duration": 13,
    "start_time": "2022-05-03T07:53:19.049Z"
   },
   {
    "duration": 8,
    "start_time": "2022-05-03T07:53:53.805Z"
   },
   {
    "duration": 10,
    "start_time": "2022-05-03T07:54:09.368Z"
   },
   {
    "duration": 3,
    "start_time": "2022-05-03T07:55:12.686Z"
   },
   {
    "duration": 859,
    "start_time": "2022-05-03T07:55:37.364Z"
   },
   {
    "duration": 9,
    "start_time": "2022-05-03T07:56:04.468Z"
   },
   {
    "duration": 10,
    "start_time": "2022-05-03T07:56:14.750Z"
   },
   {
    "duration": 3,
    "start_time": "2022-05-03T07:56:22.310Z"
   },
   {
    "duration": 4,
    "start_time": "2022-05-03T07:56:56.141Z"
   },
   {
    "duration": 818,
    "start_time": "2022-05-03T07:57:28.881Z"
   },
   {
    "duration": 829,
    "start_time": "2022-05-03T07:57:54.588Z"
   },
   {
    "duration": 59,
    "start_time": "2022-05-03T08:13:55.381Z"
   },
   {
    "duration": 51,
    "start_time": "2022-05-03T08:15:06.953Z"
   },
   {
    "duration": 20070,
    "start_time": "2022-05-03T08:15:19.389Z"
   },
   {
    "duration": 358764,
    "start_time": "2022-05-03T08:17:24.520Z"
   },
   {
    "duration": 96519,
    "start_time": "2022-05-03T08:26:03.585Z"
   },
   {
    "duration": 6,
    "start_time": "2022-05-03T08:27:51.711Z"
   },
   {
    "duration": 32529,
    "start_time": "2022-05-03T08:32:36.744Z"
   },
   {
    "duration": 3,
    "start_time": "2022-05-03T08:37:45.053Z"
   },
   {
    "duration": 15358,
    "start_time": "2022-05-03T08:47:04.851Z"
   },
   {
    "duration": 36464,
    "start_time": "2022-05-03T09:05:35.369Z"
   },
   {
    "duration": 80,
    "start_time": "2022-05-03T09:07:37.091Z"
   },
   {
    "duration": 6,
    "start_time": "2022-05-03T09:07:43.425Z"
   },
   {
    "duration": 4,
    "start_time": "2022-05-03T09:08:17.122Z"
   },
   {
    "duration": 310,
    "start_time": "2022-05-03T09:10:21.536Z"
   },
   {
    "duration": 18,
    "start_time": "2022-05-03T09:10:24.199Z"
   },
   {
    "duration": 5,
    "start_time": "2022-05-03T09:11:03.523Z"
   },
   {
    "duration": 37866,
    "start_time": "2022-05-03T09:11:45.155Z"
   },
   {
    "duration": 306,
    "start_time": "2022-05-03T09:12:34.694Z"
   },
   {
    "duration": 4,
    "start_time": "2022-05-03T09:12:37.481Z"
   },
   {
    "duration": 4,
    "start_time": "2022-05-03T09:12:38.956Z"
   },
   {
    "duration": 37511,
    "start_time": "2022-05-03T09:18:45.157Z"
   },
   {
    "duration": 39690,
    "start_time": "2022-05-03T09:21:51.365Z"
   },
   {
    "duration": 131,
    "start_time": "2022-05-03T09:32:08.513Z"
   },
   {
    "duration": 169,
    "start_time": "2022-05-03T09:32:20.775Z"
   },
   {
    "duration": 115,
    "start_time": "2022-05-03T09:33:00.777Z"
   },
   {
    "duration": 1420,
    "start_time": "2022-05-03T09:33:07.446Z"
   },
   {
    "duration": 1424,
    "start_time": "2022-05-03T09:33:14.193Z"
   },
   {
    "duration": 5,
    "start_time": "2022-05-03T09:33:19.047Z"
   },
   {
    "duration": 5,
    "start_time": "2022-05-03T09:33:22.975Z"
   },
   {
    "duration": 37258,
    "start_time": "2022-05-03T09:34:34.091Z"
   },
   {
    "duration": 76,
    "start_time": "2022-05-03T09:35:15.863Z"
   },
   {
    "duration": 5,
    "start_time": "2022-05-03T09:35:16.596Z"
   },
   {
    "duration": 3,
    "start_time": "2022-05-03T09:36:10.972Z"
   },
   {
    "duration": 3,
    "start_time": "2022-05-03T09:36:12.828Z"
   },
   {
    "duration": 183680,
    "start_time": "2022-05-03T09:36:12.833Z"
   },
   {
    "duration": 92,
    "start_time": "2022-05-03T09:39:16.515Z"
   },
   {
    "duration": 6,
    "start_time": "2022-05-03T09:39:16.608Z"
   },
   {
    "duration": 86,
    "start_time": "2022-05-03T09:58:35.760Z"
   },
   {
    "duration": 4,
    "start_time": "2022-05-03T10:31:06.572Z"
   },
   {
    "duration": 16,
    "start_time": "2022-05-03T10:35:08.860Z"
   },
   {
    "duration": 410337,
    "start_time": "2022-05-03T10:42:39.628Z"
   },
   {
    "duration": 10,
    "start_time": "2022-05-03T11:39:38.966Z"
   },
   {
    "duration": 4,
    "start_time": "2022-05-03T11:40:22.865Z"
   },
   {
    "duration": 11,
    "start_time": "2022-05-03T11:41:20.816Z"
   },
   {
    "duration": 10,
    "start_time": "2022-05-03T11:42:09.192Z"
   },
   {
    "duration": 2524,
    "start_time": "2022-05-03T11:42:18.323Z"
   },
   {
    "duration": 1935,
    "start_time": "2022-05-03T11:45:49.062Z"
   },
   {
    "duration": 4,
    "start_time": "2022-05-03T11:48:19.321Z"
   },
   {
    "duration": 343,
    "start_time": "2022-05-03T11:52:16.714Z"
   },
   {
    "duration": 344,
    "start_time": "2022-05-03T11:53:44.925Z"
   },
   {
    "duration": 374,
    "start_time": "2022-05-03T11:55:28.345Z"
   },
   {
    "duration": 457,
    "start_time": "2022-05-03T12:00:20.824Z"
   },
   {
    "duration": 1909,
    "start_time": "2022-05-03T12:00:29.229Z"
   },
   {
    "duration": 3711839,
    "start_time": "2022-05-03T12:01:12.435Z"
   },
   {
    "duration": 3188844,
    "start_time": "2022-05-03T13:03:42.925Z"
   },
   {
    "duration": 1617983,
    "start_time": "2022-05-03T14:14:25.501Z"
   },
   {
    "duration": 2120845,
    "start_time": "2022-05-03T14:41:30.917Z"
   },
   {
    "duration": 24,
    "start_time": "2022-05-03T15:40:36.874Z"
   },
   {
    "duration": 1599,
    "start_time": "2022-05-04T20:40:48.342Z"
   },
   {
    "duration": 910,
    "start_time": "2022-05-04T20:40:49.943Z"
   },
   {
    "duration": 201,
    "start_time": "2022-05-04T20:40:50.854Z"
   },
   {
    "duration": 242,
    "start_time": "2022-05-04T20:40:51.057Z"
   },
   {
    "duration": 84,
    "start_time": "2022-05-04T20:40:51.302Z"
   },
   {
    "duration": 81,
    "start_time": "2022-05-04T20:40:51.388Z"
   },
   {
    "duration": 1701,
    "start_time": "2022-05-04T20:40:51.471Z"
   },
   {
    "duration": 15,
    "start_time": "2022-05-04T20:40:53.173Z"
   },
   {
    "duration": 183,
    "start_time": "2022-05-04T20:40:53.190Z"
   },
   {
    "duration": 306,
    "start_time": "2022-05-04T20:40:53.374Z"
   },
   {
    "duration": 21,
    "start_time": "2022-05-04T20:40:53.681Z"
   },
   {
    "duration": 145,
    "start_time": "2022-05-04T20:40:53.703Z"
   },
   {
    "duration": 402,
    "start_time": "2022-05-04T20:40:53.849Z"
   },
   {
    "duration": 8,
    "start_time": "2022-05-04T20:40:54.253Z"
   },
   {
    "duration": 8,
    "start_time": "2022-05-04T20:40:54.262Z"
   },
   {
    "duration": 17,
    "start_time": "2022-05-04T20:40:54.272Z"
   },
   {
    "duration": 79,
    "start_time": "2022-05-04T20:40:54.290Z"
   },
   {
    "duration": 155,
    "start_time": "2022-05-04T20:40:54.371Z"
   },
   {
    "duration": 39,
    "start_time": "2022-05-04T20:40:54.528Z"
   },
   {
    "duration": 14,
    "start_time": "2022-05-04T20:40:54.569Z"
   },
   {
    "duration": 79,
    "start_time": "2022-05-04T20:40:54.585Z"
   },
   {
    "duration": 3,
    "start_time": "2022-05-04T20:40:54.666Z"
   },
   {
    "duration": 4,
    "start_time": "2022-05-04T20:40:54.671Z"
   },
   {
    "duration": 27147,
    "start_time": "2022-05-04T20:40:54.677Z"
   },
   {
    "duration": 109,
    "start_time": "2022-05-04T20:41:21.826Z"
   },
   {
    "duration": 13,
    "start_time": "2022-05-04T20:41:21.937Z"
   },
   {
    "duration": 0,
    "start_time": "2022-05-04T20:41:21.951Z"
   },
   {
    "duration": 15236,
    "start_time": "2022-05-04T20:41:54.414Z"
   },
   {
    "duration": 70,
    "start_time": "2022-05-04T20:42:20.067Z"
   },
   {
    "duration": 4,
    "start_time": "2022-05-04T20:42:34.235Z"
   },
   {
    "duration": 495,
    "start_time": "2022-05-04T20:42:39.461Z"
   },
   {
    "duration": 16,
    "start_time": "2022-05-04T20:42:42.547Z"
   },
   {
    "duration": 34883,
    "start_time": "2022-05-04T20:43:17.173Z"
   },
   {
    "duration": 14,
    "start_time": "2022-05-04T20:49:22.015Z"
   },
   {
    "duration": 18,
    "start_time": "2022-05-04T21:01:41.304Z"
   },
   {
    "duration": 3536,
    "start_time": "2022-05-05T18:37:23.716Z"
   },
   {
    "duration": 1686,
    "start_time": "2022-05-05T18:37:27.255Z"
   },
   {
    "duration": 322,
    "start_time": "2022-05-05T18:37:28.948Z"
   },
   {
    "duration": 414,
    "start_time": "2022-05-05T18:37:29.274Z"
   },
   {
    "duration": 164,
    "start_time": "2022-05-05T18:37:29.693Z"
   },
   {
    "duration": 137,
    "start_time": "2022-05-05T18:37:29.859Z"
   },
   {
    "duration": 3475,
    "start_time": "2022-05-05T18:37:30.000Z"
   },
   {
    "duration": 32,
    "start_time": "2022-05-05T18:37:33.477Z"
   },
   {
    "duration": 402,
    "start_time": "2022-05-05T18:37:33.511Z"
   },
   {
    "duration": 643,
    "start_time": "2022-05-05T18:37:33.918Z"
   },
   {
    "duration": 47,
    "start_time": "2022-05-05T18:37:34.563Z"
   },
   {
    "duration": 255,
    "start_time": "2022-05-05T18:37:34.618Z"
   },
   {
    "duration": 756,
    "start_time": "2022-05-05T18:37:34.876Z"
   },
   {
    "duration": 17,
    "start_time": "2022-05-05T18:37:35.635Z"
   },
   {
    "duration": 21,
    "start_time": "2022-05-05T18:37:35.655Z"
   },
   {
    "duration": 65,
    "start_time": "2022-05-05T18:37:35.678Z"
   },
   {
    "duration": 115,
    "start_time": "2022-05-05T18:37:35.745Z"
   },
   {
    "duration": 313,
    "start_time": "2022-05-05T18:37:35.863Z"
   },
   {
    "duration": 63,
    "start_time": "2022-05-05T18:37:36.178Z"
   },
   {
    "duration": 29,
    "start_time": "2022-05-05T18:37:36.244Z"
   },
   {
    "duration": 153,
    "start_time": "2022-05-05T18:37:36.275Z"
   },
   {
    "duration": 4,
    "start_time": "2022-05-05T18:37:36.431Z"
   },
   {
    "duration": 17,
    "start_time": "2022-05-05T18:37:36.439Z"
   },
   {
    "duration": 32232,
    "start_time": "2022-05-05T18:37:36.459Z"
   },
   {
    "duration": 159,
    "start_time": "2022-05-05T18:38:08.699Z"
   },
   {
    "duration": 6,
    "start_time": "2022-05-05T18:38:08.860Z"
   },
   {
    "duration": 876,
    "start_time": "2022-05-05T18:38:08.867Z"
   },
   {
    "duration": 20844,
    "start_time": "2022-05-05T18:38:09.748Z"
   },
   {
    "duration": 0,
    "start_time": "2022-05-05T18:38:30.603Z"
   },
   {
    "duration": 18,
    "start_time": "2022-05-05T18:38:31.970Z"
   },
   {
    "duration": 25627,
    "start_time": "2022-05-05T18:38:46.168Z"
   },
   {
    "duration": 0,
    "start_time": "2022-05-05T18:39:11.798Z"
   },
   {
    "duration": 5,
    "start_time": "2022-05-05T18:39:28.949Z"
   },
   {
    "duration": 1482,
    "start_time": "2022-05-05T18:39:28.957Z"
   },
   {
    "duration": 277,
    "start_time": "2022-05-05T18:39:30.441Z"
   },
   {
    "duration": 368,
    "start_time": "2022-05-05T18:39:30.722Z"
   },
   {
    "duration": 123,
    "start_time": "2022-05-05T18:39:31.093Z"
   },
   {
    "duration": 158,
    "start_time": "2022-05-05T18:39:31.219Z"
   },
   {
    "duration": 3883,
    "start_time": "2022-05-05T18:39:31.379Z"
   },
   {
    "duration": 31,
    "start_time": "2022-05-05T18:39:35.265Z"
   },
   {
    "duration": 318,
    "start_time": "2022-05-05T18:39:35.298Z"
   },
   {
    "duration": 588,
    "start_time": "2022-05-05T18:39:35.621Z"
   },
   {
    "duration": 38,
    "start_time": "2022-05-05T18:39:36.212Z"
   },
   {
    "duration": 307,
    "start_time": "2022-05-05T18:39:36.256Z"
   },
   {
    "duration": 825,
    "start_time": "2022-05-05T18:39:36.566Z"
   },
   {
    "duration": 20,
    "start_time": "2022-05-05T18:39:37.399Z"
   },
   {
    "duration": 41,
    "start_time": "2022-05-05T18:39:37.422Z"
   },
   {
    "duration": 42,
    "start_time": "2022-05-05T18:39:37.465Z"
   },
   {
    "duration": 131,
    "start_time": "2022-05-05T18:39:37.510Z"
   },
   {
    "duration": 244,
    "start_time": "2022-05-05T18:39:37.643Z"
   },
   {
    "duration": 59,
    "start_time": "2022-05-05T18:39:37.895Z"
   },
   {
    "duration": 59,
    "start_time": "2022-05-05T18:39:37.956Z"
   },
   {
    "duration": 125,
    "start_time": "2022-05-05T18:39:38.017Z"
   },
   {
    "duration": 3,
    "start_time": "2022-05-05T18:39:38.145Z"
   },
   {
    "duration": 9,
    "start_time": "2022-05-05T18:39:38.150Z"
   },
   {
    "duration": 34039,
    "start_time": "2022-05-05T18:39:38.162Z"
   },
   {
    "duration": 139,
    "start_time": "2022-05-05T18:40:12.203Z"
   },
   {
    "duration": 7,
    "start_time": "2022-05-05T18:40:12.344Z"
   },
   {
    "duration": 1203,
    "start_time": "2022-05-05T18:40:12.354Z"
   },
   {
    "duration": 46339,
    "start_time": "2022-05-05T18:40:13.564Z"
   },
   {
    "duration": 116,
    "start_time": "2022-05-05T18:40:59.910Z"
   },
   {
    "duration": 749,
    "start_time": "2022-05-05T18:43:52.432Z"
   },
   {
    "duration": 881,
    "start_time": "2022-05-05T18:44:08.539Z"
   },
   {
    "duration": 109,
    "start_time": "2022-05-05T18:50:28.423Z"
   },
   {
    "duration": 59,
    "start_time": "2022-05-05T18:51:33.293Z"
   },
   {
    "duration": 64,
    "start_time": "2022-05-05T18:52:23.400Z"
   },
   {
    "duration": 163,
    "start_time": "2022-05-05T18:53:17.572Z"
   },
   {
    "duration": 41,
    "start_time": "2022-05-05T18:53:48.630Z"
   },
   {
    "duration": 1218,
    "start_time": "2022-05-05T18:55:52.924Z"
   },
   {
    "duration": 96,
    "start_time": "2022-05-05T18:56:11.277Z"
   },
   {
    "duration": 33,
    "start_time": "2022-05-05T18:56:55.534Z"
   },
   {
    "duration": 21,
    "start_time": "2022-05-05T19:00:58.709Z"
   },
   {
    "duration": 727,
    "start_time": "2022-05-05T19:03:01.876Z"
   },
   {
    "duration": 9,
    "start_time": "2022-05-05T19:03:48.166Z"
   },
   {
    "duration": 40,
    "start_time": "2022-05-05T19:05:04.467Z"
   },
   {
    "duration": 27,
    "start_time": "2022-05-05T19:05:12.843Z"
   },
   {
    "duration": 30,
    "start_time": "2022-05-05T19:19:50.718Z"
   },
   {
    "duration": 137,
    "start_time": "2022-05-05T19:19:51.542Z"
   },
   {
    "duration": 29,
    "start_time": "2022-05-05T19:20:07.207Z"
   },
   {
    "duration": 6,
    "start_time": "2022-05-05T19:37:59.202Z"
   },
   {
    "duration": 7,
    "start_time": "2022-05-05T19:41:19.085Z"
   },
   {
    "duration": 14,
    "start_time": "2022-05-05T19:51:34.061Z"
   },
   {
    "duration": 4,
    "start_time": "2022-05-05T19:51:43.526Z"
   },
   {
    "duration": 7161,
    "start_time": "2022-05-05T19:51:57.739Z"
   },
   {
    "duration": 4,
    "start_time": "2022-05-05T19:55:38.981Z"
   },
   {
    "duration": 264,
    "start_time": "2022-05-05T19:55:39.582Z"
   },
   {
    "duration": 3833,
    "start_time": "2022-05-05T19:57:25.043Z"
   },
   {
    "duration": 264,
    "start_time": "2022-05-05T19:57:42.486Z"
   },
   {
    "duration": 421,
    "start_time": "2022-05-05T19:57:49.862Z"
   },
   {
    "duration": 40798,
    "start_time": "2022-05-05T20:00:01.615Z"
   },
   {
    "duration": 103,
    "start_time": "2022-05-05T20:00:52.104Z"
   },
   {
    "duration": 1307,
    "start_time": "2022-05-05T20:01:11.258Z"
   },
   {
    "duration": 23,
    "start_time": "2022-05-05T20:01:34.886Z"
   },
   {
    "duration": 24,
    "start_time": "2022-05-05T20:02:03.677Z"
   },
   {
    "duration": 16,
    "start_time": "2022-05-05T20:02:06.807Z"
   },
   {
    "duration": 26842,
    "start_time": "2022-05-05T20:04:37.490Z"
   },
   {
    "duration": 227,
    "start_time": "2022-05-05T20:05:16.585Z"
   },
   {
    "duration": 121,
    "start_time": "2022-05-05T20:05:29.064Z"
   },
   {
    "duration": 2131,
    "start_time": "2022-05-05T20:08:14.352Z"
   },
   {
    "duration": 3,
    "start_time": "2022-05-05T20:08:16.486Z"
   },
   {
    "duration": 1334,
    "start_time": "2022-05-05T20:08:16.498Z"
   },
   {
    "duration": 216,
    "start_time": "2022-05-05T20:08:17.835Z"
   },
   {
    "duration": 366,
    "start_time": "2022-05-05T20:08:18.054Z"
   },
   {
    "duration": 126,
    "start_time": "2022-05-05T20:08:18.422Z"
   },
   {
    "duration": 128,
    "start_time": "2022-05-05T20:08:18.550Z"
   },
   {
    "duration": 2797,
    "start_time": "2022-05-05T20:08:18.681Z"
   },
   {
    "duration": 41,
    "start_time": "2022-05-05T20:08:21.481Z"
   },
   {
    "duration": 286,
    "start_time": "2022-05-05T20:08:21.525Z"
   },
   {
    "duration": 570,
    "start_time": "2022-05-05T20:08:21.813Z"
   },
   {
    "duration": 37,
    "start_time": "2022-05-05T20:08:22.385Z"
   },
   {
    "duration": 203,
    "start_time": "2022-05-05T20:08:22.424Z"
   },
   {
    "duration": 640,
    "start_time": "2022-05-05T20:08:22.631Z"
   },
   {
    "duration": 27,
    "start_time": "2022-05-05T20:08:23.273Z"
   },
   {
    "duration": 26,
    "start_time": "2022-05-05T20:08:23.305Z"
   },
   {
    "duration": 25,
    "start_time": "2022-05-05T20:08:23.333Z"
   },
   {
    "duration": 100,
    "start_time": "2022-05-05T20:08:23.360Z"
   },
   {
    "duration": 231,
    "start_time": "2022-05-05T20:08:23.462Z"
   },
   {
    "duration": 48,
    "start_time": "2022-05-05T20:08:23.695Z"
   },
   {
    "duration": 54,
    "start_time": "2022-05-05T20:08:23.746Z"
   },
   {
    "duration": 178,
    "start_time": "2022-05-05T20:08:23.803Z"
   },
   {
    "duration": 4,
    "start_time": "2022-05-05T20:08:23.983Z"
   },
   {
    "duration": 25,
    "start_time": "2022-05-05T20:08:23.994Z"
   },
   {
    "duration": 263639,
    "start_time": "2022-05-05T20:08:24.021Z"
   },
   {
    "duration": 149,
    "start_time": "2022-05-05T20:12:47.662Z"
   },
   {
    "duration": 656,
    "start_time": "2022-05-05T20:12:47.813Z"
   },
   {
    "duration": 100,
    "start_time": "2022-05-05T20:12:48.471Z"
   },
   {
    "duration": 1331553,
    "start_time": "2022-05-05T20:12:48.574Z"
   },
   {
    "duration": 0,
    "start_time": "2022-05-05T20:35:00.130Z"
   },
   {
    "duration": 0,
    "start_time": "2022-05-05T20:35:00.132Z"
   },
   {
    "duration": 0,
    "start_time": "2022-05-05T20:35:00.134Z"
   },
   {
    "duration": 0,
    "start_time": "2022-05-05T20:35:00.136Z"
   },
   {
    "duration": 0,
    "start_time": "2022-05-05T20:35:00.138Z"
   },
   {
    "duration": 270,
    "start_time": "2022-05-05T20:36:03.161Z"
   },
   {
    "duration": 324,
    "start_time": "2022-05-05T20:36:18.554Z"
   },
   {
    "duration": 12109,
    "start_time": "2022-05-05T20:36:40.829Z"
   },
   {
    "duration": 6,
    "start_time": "2022-05-05T20:37:59.120Z"
   },
   {
    "duration": 278,
    "start_time": "2022-05-05T20:37:59.970Z"
   },
   {
    "duration": 250,
    "start_time": "2022-05-05T20:38:13.434Z"
   },
   {
    "duration": 256,
    "start_time": "2022-05-05T20:38:23.712Z"
   },
   {
    "duration": 674,
    "start_time": "2022-05-05T20:38:34.169Z"
   },
   {
    "duration": 122,
    "start_time": "2022-05-05T20:47:28.800Z"
   },
   {
    "duration": 191,
    "start_time": "2022-05-05T20:47:35.982Z"
   },
   {
    "duration": 748,
    "start_time": "2022-05-05T20:47:50.469Z"
   },
   {
    "duration": 83,
    "start_time": "2022-05-05T20:47:53.549Z"
   },
   {
    "duration": 158,
    "start_time": "2022-05-05T20:49:42.883Z"
   },
   {
    "duration": 795,
    "start_time": "2022-05-05T20:49:49.669Z"
   },
   {
    "duration": 34,
    "start_time": "2022-05-05T20:49:52.572Z"
   },
   {
    "duration": 39007,
    "start_time": "2022-05-05T20:49:59.053Z"
   },
   {
    "duration": 93,
    "start_time": "2022-05-05T20:50:53.564Z"
   },
   {
    "duration": 9,
    "start_time": "2022-05-05T20:51:27.652Z"
   },
   {
    "duration": 4,
    "start_time": "2022-05-05T20:52:24.460Z"
   },
   {
    "duration": 3988,
    "start_time": "2022-05-05T20:53:57.946Z"
   },
   {
    "duration": 26,
    "start_time": "2022-05-05T20:54:12.821Z"
   },
   {
    "duration": 222,
    "start_time": "2022-05-05T21:07:19.781Z"
   },
   {
    "duration": 5,
    "start_time": "2022-05-05T21:07:25.021Z"
   },
   {
    "duration": 4,
    "start_time": "2022-05-05T21:07:43.114Z"
   },
   {
    "duration": 252,
    "start_time": "2022-05-05T21:07:45.457Z"
   },
   {
    "duration": 5,
    "start_time": "2022-05-05T21:08:09.617Z"
   },
   {
    "duration": 12518,
    "start_time": "2022-05-05T21:08:12.409Z"
   },
   {
    "duration": 7,
    "start_time": "2022-05-05T21:10:37.622Z"
   },
   {
    "duration": 5,
    "start_time": "2022-05-05T21:12:14.487Z"
   },
   {
    "duration": 107,
    "start_time": "2022-05-05T21:14:54.649Z"
   },
   {
    "duration": 317,
    "start_time": "2022-05-05T21:16:22.019Z"
   },
   {
    "duration": 122,
    "start_time": "2022-05-05T21:17:33.337Z"
   },
   {
    "duration": 7,
    "start_time": "2022-05-05T21:17:46.218Z"
   },
   {
    "duration": 222,
    "start_time": "2022-05-05T21:27:19.721Z"
   },
   {
    "duration": 197,
    "start_time": "2022-05-05T21:27:49.865Z"
   },
   {
    "duration": 5,
    "start_time": "2022-05-05T21:27:57.834Z"
   },
   {
    "duration": 5,
    "start_time": "2022-05-05T21:28:04.915Z"
   },
   {
    "duration": 5,
    "start_time": "2022-05-05T21:33:55.832Z"
   },
   {
    "duration": 228,
    "start_time": "2022-05-05T21:34:04.953Z"
   },
   {
    "duration": 14,
    "start_time": "2022-05-05T21:34:11.505Z"
   },
   {
    "duration": 212,
    "start_time": "2022-05-05T21:34:23.529Z"
   },
   {
    "duration": 7281,
    "start_time": "2022-05-05T21:37:37.568Z"
   },
   {
    "duration": 3,
    "start_time": "2022-05-05T21:43:00.308Z"
   },
   {
    "duration": 2338,
    "start_time": "2022-05-05T21:44:01.587Z"
   },
   {
    "duration": 4,
    "start_time": "2022-05-05T21:44:03.928Z"
   },
   {
    "duration": 1889,
    "start_time": "2022-05-05T21:44:03.935Z"
   },
   {
    "duration": 230,
    "start_time": "2022-05-05T21:44:05.829Z"
   },
   {
    "duration": 350,
    "start_time": "2022-05-05T21:44:06.061Z"
   },
   {
    "duration": 119,
    "start_time": "2022-05-05T21:44:06.414Z"
   },
   {
    "duration": 124,
    "start_time": "2022-05-05T21:44:06.536Z"
   },
   {
    "duration": 3032,
    "start_time": "2022-05-05T21:44:06.663Z"
   },
   {
    "duration": 25,
    "start_time": "2022-05-05T21:44:09.697Z"
   },
   {
    "duration": 270,
    "start_time": "2022-05-05T21:44:09.727Z"
   },
   {
    "duration": 557,
    "start_time": "2022-05-05T21:44:10.000Z"
   },
   {
    "duration": 39,
    "start_time": "2022-05-05T21:44:10.559Z"
   },
   {
    "duration": 220,
    "start_time": "2022-05-05T21:44:10.601Z"
   },
   {
    "duration": 669,
    "start_time": "2022-05-05T21:44:10.824Z"
   },
   {
    "duration": 12,
    "start_time": "2022-05-05T21:44:11.495Z"
   },
   {
    "duration": 17,
    "start_time": "2022-05-05T21:44:11.510Z"
   },
   {
    "duration": 27,
    "start_time": "2022-05-05T21:44:11.530Z"
   },
   {
    "duration": 110,
    "start_time": "2022-05-05T21:44:11.560Z"
   },
   {
    "duration": 241,
    "start_time": "2022-05-05T21:44:11.673Z"
   },
   {
    "duration": 47,
    "start_time": "2022-05-05T21:44:11.916Z"
   },
   {
    "duration": 48,
    "start_time": "2022-05-05T21:44:11.965Z"
   },
   {
    "duration": 24,
    "start_time": "2022-05-05T21:44:12.015Z"
   },
   {
    "duration": 167,
    "start_time": "2022-05-05T21:44:12.041Z"
   },
   {
    "duration": 4,
    "start_time": "2022-05-05T21:44:12.212Z"
   },
   {
    "duration": 9,
    "start_time": "2022-05-05T21:44:12.219Z"
   },
   {
    "duration": 6,
    "start_time": "2022-05-05T21:44:12.230Z"
   },
   {
    "duration": 689977,
    "start_time": "2022-05-05T21:44:12.238Z"
   },
   {
    "duration": 169,
    "start_time": "2022-05-05T21:55:42.220Z"
   },
   {
    "duration": 615,
    "start_time": "2022-05-05T21:55:42.394Z"
   },
   {
    "duration": 31,
    "start_time": "2022-05-05T21:55:43.012Z"
   },
   {
    "duration": 252253,
    "start_time": "2022-05-05T21:55:43.046Z"
   },
   {
    "duration": 1993,
    "start_time": "2022-05-05T21:59:55.302Z"
   },
   {
    "duration": 4,
    "start_time": "2022-05-05T21:59:57.297Z"
   },
   {
    "duration": 573215,
    "start_time": "2022-05-05T21:59:57.303Z"
   },
   {
    "duration": 763,
    "start_time": "2022-05-05T22:09:30.520Z"
   },
   {
    "duration": 10,
    "start_time": "2022-05-05T22:09:31.284Z"
   },
   {
    "duration": 19,
    "start_time": "2022-05-05T22:09:31.296Z"
   },
   {
    "duration": 12,
    "start_time": "2022-05-05T22:09:31.318Z"
   },
   {
    "duration": 18,
    "start_time": "2022-05-05T22:09:31.333Z"
   },
   {
    "duration": 729266,
    "start_time": "2022-05-05T22:22:35.410Z"
   },
   {
    "duration": 5,
    "start_time": "2022-05-05T22:35:50.626Z"
   },
   {
    "duration": 245,
    "start_time": "2022-05-05T22:36:24.266Z"
   },
   {
    "duration": 5,
    "start_time": "2022-05-05T22:36:32.826Z"
   },
   {
    "duration": 5724,
    "start_time": "2022-05-05T22:36:34.753Z"
   },
   {
    "duration": 245,
    "start_time": "2022-05-05T22:37:02.395Z"
   },
   {
    "duration": 5562,
    "start_time": "2022-05-05T22:38:43.435Z"
   },
   {
    "duration": 94,
    "start_time": "2022-05-05T22:39:01.001Z"
   },
   {
    "duration": 2035,
    "start_time": "2022-05-05T22:53:06.727Z"
   },
   {
    "duration": 3,
    "start_time": "2022-05-05T22:53:08.765Z"
   },
   {
    "duration": 1244,
    "start_time": "2022-05-05T22:53:08.771Z"
   },
   {
    "duration": 215,
    "start_time": "2022-05-05T22:53:10.018Z"
   },
   {
    "duration": 335,
    "start_time": "2022-05-05T22:53:10.235Z"
   },
   {
    "duration": 142,
    "start_time": "2022-05-05T22:53:10.572Z"
   },
   {
    "duration": 182,
    "start_time": "2022-05-05T22:53:10.717Z"
   },
   {
    "duration": 3905,
    "start_time": "2022-05-05T22:53:10.902Z"
   },
   {
    "duration": 19,
    "start_time": "2022-05-05T22:53:14.810Z"
   },
   {
    "duration": 269,
    "start_time": "2022-05-05T22:53:14.833Z"
   },
   {
    "duration": 506,
    "start_time": "2022-05-05T22:53:15.104Z"
   },
   {
    "duration": 29,
    "start_time": "2022-05-05T22:53:15.612Z"
   },
   {
    "duration": 203,
    "start_time": "2022-05-05T22:53:15.643Z"
   },
   {
    "duration": 615,
    "start_time": "2022-05-05T22:53:15.848Z"
   },
   {
    "duration": 11,
    "start_time": "2022-05-05T22:53:16.465Z"
   },
   {
    "duration": 10,
    "start_time": "2022-05-05T22:53:16.493Z"
   },
   {
    "duration": 40,
    "start_time": "2022-05-05T22:53:16.505Z"
   },
   {
    "duration": 90,
    "start_time": "2022-05-05T22:53:16.547Z"
   },
   {
    "duration": 216,
    "start_time": "2022-05-05T22:53:16.639Z"
   },
   {
    "duration": 57,
    "start_time": "2022-05-05T22:53:16.857Z"
   },
   {
    "duration": 19,
    "start_time": "2022-05-05T22:53:16.916Z"
   },
   {
    "duration": 23,
    "start_time": "2022-05-05T22:53:16.937Z"
   },
   {
    "duration": 142,
    "start_time": "2022-05-05T22:53:16.992Z"
   },
   {
    "duration": 4,
    "start_time": "2022-05-05T22:53:17.136Z"
   },
   {
    "duration": 10,
    "start_time": "2022-05-05T22:53:17.142Z"
   },
   {
    "duration": 8,
    "start_time": "2022-05-05T22:53:17.154Z"
   },
   {
    "duration": 7,
    "start_time": "2022-05-05T22:53:17.165Z"
   },
   {
    "duration": 678368,
    "start_time": "2022-05-05T22:53:17.196Z"
   },
   {
    "duration": 185,
    "start_time": "2022-05-05T23:04:35.566Z"
   },
   {
    "duration": 781,
    "start_time": "2022-05-05T23:04:35.753Z"
   },
   {
    "duration": 28,
    "start_time": "2022-05-05T23:04:36.536Z"
   },
   {
    "duration": 239235,
    "start_time": "2022-05-05T23:04:36.565Z"
   },
   {
    "duration": 1800,
    "start_time": "2022-05-05T23:08:35.802Z"
   },
   {
    "duration": 3,
    "start_time": "2022-05-05T23:08:37.605Z"
   },
   {
    "duration": 579766,
    "start_time": "2022-05-05T23:08:37.611Z"
   },
   {
    "duration": 792,
    "start_time": "2022-05-05T23:18:17.379Z"
   },
   {
    "duration": 8,
    "start_time": "2022-05-05T23:18:18.173Z"
   },
   {
    "duration": 6,
    "start_time": "2022-05-05T23:18:18.194Z"
   },
   {
    "duration": 2144,
    "start_time": "2022-05-06T13:27:50.234Z"
   },
   {
    "duration": 3,
    "start_time": "2022-05-06T13:27:52.380Z"
   },
   {
    "duration": 1125,
    "start_time": "2022-05-06T13:27:52.385Z"
   },
   {
    "duration": 176,
    "start_time": "2022-05-06T13:27:53.512Z"
   },
   {
    "duration": 288,
    "start_time": "2022-05-06T13:27:53.690Z"
   },
   {
    "duration": 87,
    "start_time": "2022-05-06T13:27:53.980Z"
   },
   {
    "duration": 102,
    "start_time": "2022-05-06T13:27:54.069Z"
   },
   {
    "duration": 2209,
    "start_time": "2022-05-06T13:27:54.173Z"
   },
   {
    "duration": 18,
    "start_time": "2022-05-06T13:27:56.384Z"
   },
   {
    "duration": 231,
    "start_time": "2022-05-06T13:27:56.405Z"
   },
   {
    "duration": 463,
    "start_time": "2022-05-06T13:27:56.639Z"
   },
   {
    "duration": 20,
    "start_time": "2022-05-06T13:27:57.104Z"
   },
   {
    "duration": 177,
    "start_time": "2022-05-06T13:27:57.126Z"
   },
   {
    "duration": 572,
    "start_time": "2022-05-06T13:27:57.305Z"
   },
   {
    "duration": 9,
    "start_time": "2022-05-06T13:27:57.878Z"
   },
   {
    "duration": 11,
    "start_time": "2022-05-06T13:27:57.888Z"
   },
   {
    "duration": 41,
    "start_time": "2022-05-06T13:27:57.901Z"
   },
   {
    "duration": 99,
    "start_time": "2022-05-06T13:27:57.945Z"
   },
   {
    "duration": 185,
    "start_time": "2022-05-06T13:27:58.049Z"
   },
   {
    "duration": 50,
    "start_time": "2022-05-06T13:27:58.237Z"
   },
   {
    "duration": 17,
    "start_time": "2022-05-06T13:27:58.288Z"
   },
   {
    "duration": 53,
    "start_time": "2022-05-06T13:27:58.307Z"
   },
   {
    "duration": 88,
    "start_time": "2022-05-06T13:27:58.363Z"
   },
   {
    "duration": 5,
    "start_time": "2022-05-06T13:27:58.453Z"
   },
   {
    "duration": 11,
    "start_time": "2022-05-06T13:27:58.462Z"
   },
   {
    "duration": 6,
    "start_time": "2022-05-06T13:27:58.475Z"
   },
   {
    "duration": 6,
    "start_time": "2022-05-06T13:27:58.483Z"
   },
   {
    "duration": 187,
    "start_time": "2022-05-06T13:28:03.331Z"
   },
   {
    "duration": 162,
    "start_time": "2022-05-06T13:28:38.993Z"
   },
   {
    "duration": 40,
    "start_time": "2022-05-06T13:28:54.819Z"
   },
   {
    "duration": 37,
    "start_time": "2022-05-06T13:30:54.777Z"
   },
   {
    "duration": 35,
    "start_time": "2022-05-06T13:32:05.294Z"
   },
   {
    "duration": 117,
    "start_time": "2022-05-06T13:34:36.021Z"
   },
   {
    "duration": 8,
    "start_time": "2022-05-06T13:34:41.620Z"
   },
   {
    "duration": 42,
    "start_time": "2022-05-06T13:34:44.881Z"
   },
   {
    "duration": 30,
    "start_time": "2022-05-06T13:35:26.814Z"
   },
   {
    "duration": 45,
    "start_time": "2022-05-06T13:38:16.544Z"
   },
   {
    "duration": 44,
    "start_time": "2022-05-06T13:38:42.920Z"
   },
   {
    "duration": 44,
    "start_time": "2022-05-06T13:38:56.193Z"
   },
   {
    "duration": 47,
    "start_time": "2022-05-06T13:39:42.473Z"
   },
   {
    "duration": 44,
    "start_time": "2022-05-06T13:41:08.021Z"
   },
   {
    "duration": 47,
    "start_time": "2022-05-06T13:41:16.083Z"
   },
   {
    "duration": 47,
    "start_time": "2022-05-06T13:42:41.867Z"
   },
   {
    "duration": 47,
    "start_time": "2022-05-06T13:42:55.547Z"
   },
   {
    "duration": 42,
    "start_time": "2022-05-06T13:43:29.427Z"
   },
   {
    "duration": 217,
    "start_time": "2022-05-06T13:43:47.896Z"
   },
   {
    "duration": 1914,
    "start_time": "2022-05-06T13:43:53.269Z"
   },
   {
    "duration": 3,
    "start_time": "2022-05-06T13:43:55.186Z"
   },
   {
    "duration": 1053,
    "start_time": "2022-05-06T13:43:55.190Z"
   },
   {
    "duration": 154,
    "start_time": "2022-05-06T13:43:56.246Z"
   },
   {
    "duration": 261,
    "start_time": "2022-05-06T13:43:56.402Z"
   },
   {
    "duration": 82,
    "start_time": "2022-05-06T13:43:56.665Z"
   },
   {
    "duration": 95,
    "start_time": "2022-05-06T13:43:56.749Z"
   },
   {
    "duration": 1950,
    "start_time": "2022-05-06T13:43:56.846Z"
   },
   {
    "duration": 18,
    "start_time": "2022-05-06T13:43:58.798Z"
   },
   {
    "duration": 195,
    "start_time": "2022-05-06T13:43:58.832Z"
   },
   {
    "duration": 385,
    "start_time": "2022-05-06T13:43:59.033Z"
   },
   {
    "duration": 29,
    "start_time": "2022-05-06T13:43:59.420Z"
   },
   {
    "duration": 147,
    "start_time": "2022-05-06T13:43:59.451Z"
   },
   {
    "duration": 486,
    "start_time": "2022-05-06T13:43:59.600Z"
   },
   {
    "duration": 9,
    "start_time": "2022-05-06T13:44:00.088Z"
   },
   {
    "duration": 31,
    "start_time": "2022-05-06T13:44:00.099Z"
   },
   {
    "duration": 26,
    "start_time": "2022-05-06T13:44:00.131Z"
   },
   {
    "duration": 74,
    "start_time": "2022-05-06T13:44:00.159Z"
   },
   {
    "duration": 183,
    "start_time": "2022-05-06T13:44:00.235Z"
   },
   {
    "duration": 40,
    "start_time": "2022-05-06T13:44:00.421Z"
   },
   {
    "duration": 21,
    "start_time": "2022-05-06T13:44:00.463Z"
   },
   {
    "duration": 21,
    "start_time": "2022-05-06T13:44:00.486Z"
   },
   {
    "duration": 93,
    "start_time": "2022-05-06T13:44:00.509Z"
   },
   {
    "duration": 4,
    "start_time": "2022-05-06T13:44:00.604Z"
   },
   {
    "duration": 33,
    "start_time": "2022-05-06T13:44:00.610Z"
   },
   {
    "duration": 40,
    "start_time": "2022-05-06T13:44:00.646Z"
   },
   {
    "duration": 32,
    "start_time": "2022-05-06T13:44:00.688Z"
   },
   {
    "duration": 144,
    "start_time": "2022-05-06T13:44:00.725Z"
   },
   {
    "duration": 135,
    "start_time": "2022-05-06T13:44:00.871Z"
   },
   {
    "duration": 325514,
    "start_time": "2022-05-06T13:45:46.589Z"
   },
   {
    "duration": 345638,
    "start_time": "2022-05-06T13:54:16.103Z"
   },
   {
    "duration": 12,
    "start_time": "2022-05-06T14:00:01.743Z"
   },
   {
    "duration": 2938,
    "start_time": "2022-05-06T14:01:11.503Z"
   },
   {
    "duration": 24,
    "start_time": "2022-05-06T14:02:28.798Z"
   },
   {
    "duration": 20,
    "start_time": "2022-05-06T14:05:55.138Z"
   },
   {
    "duration": 3001,
    "start_time": "2022-05-06T14:06:27.334Z"
   },
   {
    "duration": 12,
    "start_time": "2022-05-06T14:19:39.306Z"
   },
   {
    "duration": 7,
    "start_time": "2022-05-06T14:19:54.012Z"
   },
   {
    "duration": 6,
    "start_time": "2022-05-06T14:21:18.115Z"
   },
   {
    "duration": 46,
    "start_time": "2022-05-07T05:39:06.312Z"
   },
   {
    "duration": 1542,
    "start_time": "2022-05-07T05:40:48.706Z"
   },
   {
    "duration": 3005,
    "start_time": "2022-05-07T05:41:01.961Z"
   },
   {
    "duration": 4,
    "start_time": "2022-05-07T05:56:12.224Z"
   },
   {
    "duration": 5,
    "start_time": "2022-05-07T05:56:12.230Z"
   },
   {
    "duration": 908,
    "start_time": "2022-05-07T05:56:14.926Z"
   },
   {
    "duration": 137,
    "start_time": "2022-05-07T05:56:15.836Z"
   },
   {
    "duration": 347,
    "start_time": "2022-05-07T05:56:32.332Z"
   },
   {
    "duration": 352,
    "start_time": "2022-05-07T05:57:00.197Z"
   },
   {
    "duration": 378,
    "start_time": "2022-05-07T05:57:10.467Z"
   },
   {
    "duration": 326,
    "start_time": "2022-05-07T05:57:22.140Z"
   },
   {
    "duration": 310,
    "start_time": "2022-05-07T05:58:03.902Z"
   },
   {
    "duration": 331,
    "start_time": "2022-05-07T05:58:19.925Z"
   },
   {
    "duration": 206,
    "start_time": "2022-05-07T05:58:50.832Z"
   },
   {
    "duration": 30,
    "start_time": "2022-05-07T06:00:11.430Z"
   },
   {
    "duration": 22,
    "start_time": "2022-05-07T06:01:21.743Z"
   },
   {
    "duration": 199,
    "start_time": "2022-05-07T06:04:36.318Z"
   },
   {
    "duration": 82,
    "start_time": "2022-05-07T06:14:25.348Z"
   },
   {
    "duration": 4,
    "start_time": "2022-05-07T06:14:42.891Z"
   },
   {
    "duration": 3,
    "start_time": "2022-05-07T06:14:43.096Z"
   },
   {
    "duration": 862,
    "start_time": "2022-05-07T06:14:43.101Z"
   },
   {
    "duration": 129,
    "start_time": "2022-05-07T06:14:43.972Z"
   },
   {
    "duration": 25,
    "start_time": "2022-05-07T06:14:44.102Z"
   },
   {
    "duration": 346,
    "start_time": "2022-05-07T06:14:44.130Z"
   },
   {
    "duration": 203,
    "start_time": "2022-05-07T06:14:44.478Z"
   },
   {
    "duration": 58,
    "start_time": "2022-05-07T06:14:44.683Z"
   },
   {
    "duration": 79,
    "start_time": "2022-05-07T06:14:44.743Z"
   },
   {
    "duration": 1627,
    "start_time": "2022-05-07T06:14:44.824Z"
   },
   {
    "duration": 22,
    "start_time": "2022-05-07T06:14:46.453Z"
   },
   {
    "duration": 171,
    "start_time": "2022-05-07T06:14:46.478Z"
   },
   {
    "duration": 405,
    "start_time": "2022-05-07T06:14:46.651Z"
   },
   {
    "duration": 26,
    "start_time": "2022-05-07T06:14:47.058Z"
   },
   {
    "duration": 139,
    "start_time": "2022-05-07T06:14:47.086Z"
   },
   {
    "duration": 323,
    "start_time": "2022-05-07T06:14:47.227Z"
   },
   {
    "duration": 22,
    "start_time": "2022-05-07T06:14:47.552Z"
   },
   {
    "duration": 12,
    "start_time": "2022-05-07T06:14:47.575Z"
   },
   {
    "duration": 18,
    "start_time": "2022-05-07T06:14:47.589Z"
   },
   {
    "duration": 69,
    "start_time": "2022-05-07T06:14:47.608Z"
   },
   {
    "duration": 158,
    "start_time": "2022-05-07T06:14:47.679Z"
   },
   {
    "duration": 45,
    "start_time": "2022-05-07T06:14:47.839Z"
   },
   {
    "duration": 15,
    "start_time": "2022-05-07T06:14:47.886Z"
   },
   {
    "duration": 14,
    "start_time": "2022-05-07T06:14:47.902Z"
   },
   {
    "duration": 86,
    "start_time": "2022-05-07T06:14:47.917Z"
   },
   {
    "duration": 2,
    "start_time": "2022-05-07T06:14:48.005Z"
   },
   {
    "duration": 6,
    "start_time": "2022-05-07T06:14:48.008Z"
   },
   {
    "duration": 5,
    "start_time": "2022-05-07T06:14:48.015Z"
   },
   {
    "duration": 107,
    "start_time": "2022-05-07T06:14:48.021Z"
   },
   {
    "duration": 15,
    "start_time": "2022-05-07T06:14:48.131Z"
   },
   {
    "duration": 0,
    "start_time": "2022-05-07T06:14:48.148Z"
   },
   {
    "duration": 0,
    "start_time": "2022-05-07T06:14:48.149Z"
   },
   {
    "duration": 0,
    "start_time": "2022-05-07T06:14:48.150Z"
   },
   {
    "duration": 0,
    "start_time": "2022-05-07T06:14:48.151Z"
   },
   {
    "duration": 0,
    "start_time": "2022-05-07T06:14:48.152Z"
   },
   {
    "duration": 0,
    "start_time": "2022-05-07T06:14:48.153Z"
   },
   {
    "duration": 0,
    "start_time": "2022-05-07T06:14:48.154Z"
   },
   {
    "duration": 0,
    "start_time": "2022-05-07T06:14:48.154Z"
   },
   {
    "duration": 0,
    "start_time": "2022-05-07T06:14:48.155Z"
   },
   {
    "duration": 0,
    "start_time": "2022-05-07T06:14:48.156Z"
   },
   {
    "duration": 0,
    "start_time": "2022-05-07T06:14:48.157Z"
   },
   {
    "duration": 0,
    "start_time": "2022-05-07T06:14:48.158Z"
   },
   {
    "duration": 0,
    "start_time": "2022-05-07T06:14:48.159Z"
   },
   {
    "duration": 2,
    "start_time": "2022-05-07T06:16:52.355Z"
   },
   {
    "duration": 5,
    "start_time": "2022-05-07T06:16:52.359Z"
   },
   {
    "duration": 276363,
    "start_time": "2022-05-07T06:16:52.365Z"
   },
   {
    "duration": 119,
    "start_time": "2022-05-07T06:21:28.730Z"
   },
   {
    "duration": 4,
    "start_time": "2022-05-07T06:21:28.852Z"
   },
   {
    "duration": 451,
    "start_time": "2022-05-07T06:21:28.858Z"
   },
   {
    "duration": 19,
    "start_time": "2022-05-07T06:21:29.311Z"
   },
   {
    "duration": 202348,
    "start_time": "2022-05-07T06:21:29.331Z"
   },
   {
    "duration": 1092,
    "start_time": "2022-05-07T06:24:51.681Z"
   },
   {
    "duration": 5,
    "start_time": "2022-05-07T06:24:52.775Z"
   },
   {
    "duration": 11,
    "start_time": "2022-05-07T06:24:52.781Z"
   },
   {
    "duration": 466919,
    "start_time": "2022-05-07T06:24:52.793Z"
   },
   {
    "duration": 845,
    "start_time": "2022-05-07T06:32:39.714Z"
   },
   {
    "duration": 4,
    "start_time": "2022-05-07T06:32:40.560Z"
   },
   {
    "duration": 13,
    "start_time": "2022-05-07T06:32:40.565Z"
   },
   {
    "duration": 6,
    "start_time": "2022-05-07T06:32:40.579Z"
   },
   {
    "duration": 7,
    "start_time": "2022-05-07T06:32:40.586Z"
   },
   {
    "duration": 4,
    "start_time": "2022-05-07T06:35:51.970Z"
   },
   {
    "duration": 4,
    "start_time": "2022-05-07T06:37:54.833Z"
   },
   {
    "duration": 11,
    "start_time": "2022-05-07T06:41:36.512Z"
   },
   {
    "duration": 18,
    "start_time": "2022-05-07T06:41:55.934Z"
   },
   {
    "duration": 9,
    "start_time": "2022-05-07T06:46:10.586Z"
   },
   {
    "duration": 4,
    "start_time": "2022-05-07T06:46:56.998Z"
   },
   {
    "duration": 8,
    "start_time": "2022-05-07T06:47:04.659Z"
   },
   {
    "duration": 11,
    "start_time": "2022-05-07T06:48:10.963Z"
   },
   {
    "duration": 10,
    "start_time": "2022-05-07T06:48:16.463Z"
   },
   {
    "duration": 10,
    "start_time": "2022-05-07T06:48:50.169Z"
   },
   {
    "duration": 15,
    "start_time": "2022-05-07T06:49:39.493Z"
   },
   {
    "duration": 9,
    "start_time": "2022-05-07T06:51:13.887Z"
   },
   {
    "duration": 9,
    "start_time": "2022-05-07T06:52:02.373Z"
   },
   {
    "duration": 8,
    "start_time": "2022-05-07T06:53:08.254Z"
   },
   {
    "duration": 5,
    "start_time": "2022-05-07T06:58:31.951Z"
   },
   {
    "duration": 9,
    "start_time": "2022-05-07T06:58:36.776Z"
   },
   {
    "duration": 9,
    "start_time": "2022-05-07T06:59:05.374Z"
   },
   {
    "duration": 8,
    "start_time": "2022-05-07T06:59:21.958Z"
   },
   {
    "duration": 1961,
    "start_time": "2022-05-07T08:48:33.122Z"
   },
   {
    "duration": 3,
    "start_time": "2022-05-07T08:48:35.085Z"
   },
   {
    "duration": 1103,
    "start_time": "2022-05-07T08:48:35.090Z"
   },
   {
    "duration": 172,
    "start_time": "2022-05-07T08:48:36.195Z"
   },
   {
    "duration": 27,
    "start_time": "2022-05-07T08:48:36.369Z"
   },
   {
    "duration": 469,
    "start_time": "2022-05-07T08:48:36.398Z"
   },
   {
    "duration": 240,
    "start_time": "2022-05-07T08:48:36.868Z"
   },
   {
    "duration": 69,
    "start_time": "2022-05-07T08:48:37.109Z"
   },
   {
    "duration": 75,
    "start_time": "2022-05-07T08:48:37.180Z"
   },
   {
    "duration": 2005,
    "start_time": "2022-05-07T08:48:37.258Z"
   },
   {
    "duration": 17,
    "start_time": "2022-05-07T08:48:39.264Z"
   },
   {
    "duration": 207,
    "start_time": "2022-05-07T08:48:39.283Z"
   },
   {
    "duration": 363,
    "start_time": "2022-05-07T08:48:39.492Z"
   },
   {
    "duration": 20,
    "start_time": "2022-05-07T08:48:39.856Z"
   },
   {
    "duration": 164,
    "start_time": "2022-05-07T08:48:39.878Z"
   },
   {
    "duration": 494,
    "start_time": "2022-05-07T08:48:40.045Z"
   },
   {
    "duration": 10,
    "start_time": "2022-05-07T08:48:40.541Z"
   },
   {
    "duration": 12,
    "start_time": "2022-05-07T08:48:40.552Z"
   },
   {
    "duration": 18,
    "start_time": "2022-05-07T08:48:40.566Z"
   },
   {
    "duration": 88,
    "start_time": "2022-05-07T08:48:40.585Z"
   },
   {
    "duration": 176,
    "start_time": "2022-05-07T08:48:40.675Z"
   },
   {
    "duration": 32,
    "start_time": "2022-05-07T08:48:40.853Z"
   },
   {
    "duration": 16,
    "start_time": "2022-05-07T08:48:40.886Z"
   },
   {
    "duration": 36,
    "start_time": "2022-05-07T08:48:40.904Z"
   },
   {
    "duration": 67,
    "start_time": "2022-05-07T08:48:40.941Z"
   },
   {
    "duration": 3,
    "start_time": "2022-05-07T08:48:41.010Z"
   },
   {
    "duration": 36,
    "start_time": "2022-05-07T08:48:41.014Z"
   },
   {
    "duration": 6,
    "start_time": "2022-05-07T08:48:41.054Z"
   },
   {
    "duration": 337463,
    "start_time": "2022-05-07T08:48:41.061Z"
   },
   {
    "duration": 148,
    "start_time": "2022-05-07T08:54:18.526Z"
   },
   {
    "duration": 4,
    "start_time": "2022-05-07T08:54:18.676Z"
   },
   {
    "duration": 493,
    "start_time": "2022-05-07T08:54:18.681Z"
   },
   {
    "duration": 20,
    "start_time": "2022-05-07T08:54:19.176Z"
   },
   {
    "duration": 658,
    "start_time": "2022-05-07T08:54:19.198Z"
   },
   {
    "duration": 1134,
    "start_time": "2022-05-07T08:58:06.419Z"
   }
  ],
  "kernelspec": {
   "display_name": "Python 3 (ipykernel)",
   "language": "python",
   "name": "python3"
  },
  "language_info": {
   "codemirror_mode": {
    "name": "ipython",
    "version": 3
   },
   "file_extension": ".py",
   "mimetype": "text/x-python",
   "name": "python",
   "nbconvert_exporter": "python",
   "pygments_lexer": "ipython3",
   "version": "3.9.12"
  },
  "toc": {
   "base_numbering": 1,
   "nav_menu": {},
   "number_sections": true,
   "sideBar": true,
   "skip_h1_title": true,
   "title_cell": "Table of Contents",
   "title_sidebar": "Contents",
   "toc_cell": false,
   "toc_position": {
    "height": "calc(100% - 180px)",
    "left": "10px",
    "top": "150px",
    "width": "241.889px"
   },
   "toc_section_display": true,
   "toc_window_display": true
  }
 },
 "nbformat": 4,
 "nbformat_minor": 2
}
